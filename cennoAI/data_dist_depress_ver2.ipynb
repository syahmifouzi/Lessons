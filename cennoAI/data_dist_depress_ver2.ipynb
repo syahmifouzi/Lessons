{
 "cells": [
  {
   "cell_type": "code",
   "execution_count": 157,
   "id": "30d222e0-2f98-434c-864a-3f1012eee40f",
   "metadata": {},
   "outputs": [],
   "source": [
    "from fastai.imports import *\n",
    "import seaborn as sns\n",
    "import graphviz\n",
    "from pickle import dump, load\n",
    "import statsmodels.api as sm\n",
    "from scipy.stats import randint\n",
    "from sklearn.tree import DecisionTreeClassifier, export_graphviz\n",
    "from sklearn.model_selection import train_test_split, RandomizedSearchCV\n",
    "from sklearn.ensemble import RandomForestClassifier\n",
    "from sklearn.linear_model import LogisticRegression\n",
    "from sklearn.inspection import permutation_importance\n",
    "from sklearn.metrics import mean_absolute_error, accuracy_score, confusion_matrix, precision_score, recall_score, ConfusionMatrixDisplay, classification_report, roc_curve, roc_auc_score"
   ]
  },
  {
   "cell_type": "markdown",
   "id": "0cd8016a-7e5c-4411-bfb1-a82060e9d34b",
   "metadata": {},
   "source": [
    "# Dataset Preparation"
   ]
  },
  {
   "cell_type": "code",
   "execution_count": 2,
   "id": "10271d82-e1dc-43f1-9d43-773e4d1496b9",
   "metadata": {},
   "outputs": [
    {
     "data": {
      "text/html": [
       "<div>\n",
       "<style scoped>\n",
       "    .dataframe tbody tr th:only-of-type {\n",
       "        vertical-align: middle;\n",
       "    }\n",
       "\n",
       "    .dataframe tbody tr th {\n",
       "        vertical-align: top;\n",
       "    }\n",
       "\n",
       "    .dataframe thead th {\n",
       "        text-align: right;\n",
       "    }\n",
       "</style>\n",
       "<table border=\"1\" class=\"dataframe\">\n",
       "  <thead>\n",
       "    <tr style=\"text-align: right;\">\n",
       "      <th></th>\n",
       "      <th>ID</th>\n",
       "      <th>Home</th>\n",
       "      <th>Age</th>\n",
       "      <th>Religion</th>\n",
       "      <th>Ethnicity</th>\n",
       "      <th>Education</th>\n",
       "      <th>Occupation</th>\n",
       "      <th>Income</th>\n",
       "      <th>Marital</th>\n",
       "      <th>Smoke</th>\n",
       "      <th>...</th>\n",
       "      <th>filter_$</th>\n",
       "      <th>religionnew</th>\n",
       "      <th>ethnicitynew</th>\n",
       "      <th>incomenew</th>\n",
       "      <th>maritalnew</th>\n",
       "      <th>educationnew</th>\n",
       "      <th>occupationnew</th>\n",
       "      <th>smokenew</th>\n",
       "      <th>alcoholnew</th>\n",
       "      <th>partnernew</th>\n",
       "    </tr>\n",
       "  </thead>\n",
       "  <tbody>\n",
       "    <tr>\n",
       "      <th>0</th>\n",
       "      <td>7</td>\n",
       "      <td>1</td>\n",
       "      <td>17</td>\n",
       "      <td>3</td>\n",
       "      <td>3</td>\n",
       "      <td>2</td>\n",
       "      <td>4</td>\n",
       "      <td>1</td>\n",
       "      <td>1</td>\n",
       "      <td>3</td>\n",
       "      <td>...</td>\n",
       "      <td>0</td>\n",
       "      <td>0</td>\n",
       "      <td>0</td>\n",
       "      <td>1</td>\n",
       "      <td>1</td>\n",
       "      <td>1</td>\n",
       "      <td>3</td>\n",
       "      <td>0</td>\n",
       "      <td>0</td>\n",
       "      <td>0</td>\n",
       "    </tr>\n",
       "    <tr>\n",
       "      <th>1</th>\n",
       "      <td>9</td>\n",
       "      <td>1</td>\n",
       "      <td>15</td>\n",
       "      <td>1</td>\n",
       "      <td>5</td>\n",
       "      <td>1</td>\n",
       "      <td>4</td>\n",
       "      <td>1</td>\n",
       "      <td>1</td>\n",
       "      <td>3</td>\n",
       "      <td>...</td>\n",
       "      <td>0</td>\n",
       "      <td>1</td>\n",
       "      <td>0</td>\n",
       "      <td>1</td>\n",
       "      <td>1</td>\n",
       "      <td>0</td>\n",
       "      <td>3</td>\n",
       "      <td>0</td>\n",
       "      <td>0</td>\n",
       "      <td>0</td>\n",
       "    </tr>\n",
       "    <tr>\n",
       "      <th>2</th>\n",
       "      <td>11</td>\n",
       "      <td>1</td>\n",
       "      <td>14</td>\n",
       "      <td>1</td>\n",
       "      <td>1</td>\n",
       "      <td>1</td>\n",
       "      <td>2</td>\n",
       "      <td>1</td>\n",
       "      <td>1</td>\n",
       "      <td>3</td>\n",
       "      <td>...</td>\n",
       "      <td>0</td>\n",
       "      <td>1</td>\n",
       "      <td>1</td>\n",
       "      <td>1</td>\n",
       "      <td>1</td>\n",
       "      <td>0</td>\n",
       "      <td>1</td>\n",
       "      <td>0</td>\n",
       "      <td>0</td>\n",
       "      <td>0</td>\n",
       "    </tr>\n",
       "    <tr>\n",
       "      <th>3</th>\n",
       "      <td>15</td>\n",
       "      <td>1</td>\n",
       "      <td>15</td>\n",
       "      <td>1</td>\n",
       "      <td>1</td>\n",
       "      <td>2</td>\n",
       "      <td>4</td>\n",
       "      <td>1</td>\n",
       "      <td>1</td>\n",
       "      <td>3</td>\n",
       "      <td>...</td>\n",
       "      <td>0</td>\n",
       "      <td>1</td>\n",
       "      <td>1</td>\n",
       "      <td>1</td>\n",
       "      <td>1</td>\n",
       "      <td>1</td>\n",
       "      <td>3</td>\n",
       "      <td>0</td>\n",
       "      <td>0</td>\n",
       "      <td>0</td>\n",
       "    </tr>\n",
       "    <tr>\n",
       "      <th>4</th>\n",
       "      <td>43</td>\n",
       "      <td>1</td>\n",
       "      <td>17</td>\n",
       "      <td>1</td>\n",
       "      <td>1</td>\n",
       "      <td>2</td>\n",
       "      <td>4</td>\n",
       "      <td>1</td>\n",
       "      <td>1</td>\n",
       "      <td>3</td>\n",
       "      <td>...</td>\n",
       "      <td>0</td>\n",
       "      <td>1</td>\n",
       "      <td>1</td>\n",
       "      <td>1</td>\n",
       "      <td>1</td>\n",
       "      <td>1</td>\n",
       "      <td>3</td>\n",
       "      <td>0</td>\n",
       "      <td>0</td>\n",
       "      <td>0</td>\n",
       "    </tr>\n",
       "  </tbody>\n",
       "</table>\n",
       "<p>5 rows × 147 columns</p>\n",
       "</div>"
      ],
      "text/plain": [
       "   ID  Home  Age  Religion  Ethnicity  Education  Occupation  Income  Marital  \\\n",
       "0   7     1   17         3          3          2           4       1        1   \n",
       "1   9     1   15         1          5          1           4       1        1   \n",
       "2  11     1   14         1          1          1           2       1        1   \n",
       "3  15     1   15         1          1          2           4       1        1   \n",
       "4  43     1   17         1          1          2           4       1        1   \n",
       "\n",
       "   Smoke  ...  filter_$  religionnew  ethnicitynew incomenew  maritalnew  \\\n",
       "0      3  ...         0            0             0         1           1   \n",
       "1      3  ...         0            1             0         1           1   \n",
       "2      3  ...         0            1             1         1           1   \n",
       "3      3  ...         0            1             1         1           1   \n",
       "4      3  ...         0            1             1         1           1   \n",
       "\n",
       "   educationnew  occupationnew  smokenew  alcoholnew  partnernew  \n",
       "0             1              3         0           0           0  \n",
       "1             0              3         0           0           0  \n",
       "2             0              1         0           0           0  \n",
       "3             1              3         0           0           0  \n",
       "4             1              3         0           0           0  \n",
       "\n",
       "[5 rows x 147 columns]"
      ]
     },
     "execution_count": 2,
     "metadata": {},
     "output_type": "execute_result"
    }
   ],
   "source": [
    "df = pd.read_csv('./references/09 data clean.csv')\n",
    "df.head()"
   ]
  },
  {
   "cell_type": "code",
   "execution_count": 3,
   "id": "0e32bc2f-5fbe-4592-8ed6-a5a64f5f3829",
   "metadata": {},
   "outputs": [],
   "source": [
    "cats=['ethnicitynew', 'educationnew', 'occupationnew',\n",
    "       'incomenew', 'smokenew', 'alcoholnew',\n",
    "       'EV', 'CB', 'PV', 'SV', 'IPV']\n",
    "conts=['Age']\n",
    "dep=\"MINIdepression\"\n",
    "# dep=\"Panxiety\"\n",
    "# dep=\"PPTSD\"\n",
    "for label in cats:\n",
    "    df[label] = pd.Categorical(df[label])"
   ]
  },
  {
   "cell_type": "code",
   "execution_count": 4,
   "id": "924ec446-2d87-420d-a05b-f9ba4e68335f",
   "metadata": {},
   "outputs": [
    {
     "data": {
      "text/html": [
       "<div>\n",
       "<style scoped>\n",
       "    .dataframe tbody tr th:only-of-type {\n",
       "        vertical-align: middle;\n",
       "    }\n",
       "\n",
       "    .dataframe tbody tr th {\n",
       "        vertical-align: top;\n",
       "    }\n",
       "\n",
       "    .dataframe thead th {\n",
       "        text-align: right;\n",
       "    }\n",
       "</style>\n",
       "<table border=\"1\" class=\"dataframe\">\n",
       "  <thead>\n",
       "    <tr style=\"text-align: right;\">\n",
       "      <th></th>\n",
       "      <th>ethnicitynew</th>\n",
       "      <th>educationnew</th>\n",
       "      <th>occupationnew</th>\n",
       "      <th>incomenew</th>\n",
       "      <th>smokenew</th>\n",
       "      <th>alcoholnew</th>\n",
       "      <th>EV</th>\n",
       "      <th>CB</th>\n",
       "      <th>PV</th>\n",
       "      <th>SV</th>\n",
       "      <th>IPV</th>\n",
       "    </tr>\n",
       "  </thead>\n",
       "  <tbody>\n",
       "    <tr>\n",
       "      <th>0</th>\n",
       "      <td>0</td>\n",
       "      <td>1</td>\n",
       "      <td>3</td>\n",
       "      <td>1</td>\n",
       "      <td>0</td>\n",
       "      <td>0</td>\n",
       "      <td>0</td>\n",
       "      <td>0</td>\n",
       "      <td>0</td>\n",
       "      <td>0</td>\n",
       "      <td>0</td>\n",
       "    </tr>\n",
       "    <tr>\n",
       "      <th>1</th>\n",
       "      <td>0</td>\n",
       "      <td>0</td>\n",
       "      <td>3</td>\n",
       "      <td>1</td>\n",
       "      <td>0</td>\n",
       "      <td>0</td>\n",
       "      <td>0</td>\n",
       "      <td>0</td>\n",
       "      <td>0</td>\n",
       "      <td>0</td>\n",
       "      <td>0</td>\n",
       "    </tr>\n",
       "    <tr>\n",
       "      <th>2</th>\n",
       "      <td>1</td>\n",
       "      <td>0</td>\n",
       "      <td>1</td>\n",
       "      <td>1</td>\n",
       "      <td>0</td>\n",
       "      <td>0</td>\n",
       "      <td>0</td>\n",
       "      <td>0</td>\n",
       "      <td>0</td>\n",
       "      <td>0</td>\n",
       "      <td>0</td>\n",
       "    </tr>\n",
       "    <tr>\n",
       "      <th>3</th>\n",
       "      <td>1</td>\n",
       "      <td>1</td>\n",
       "      <td>3</td>\n",
       "      <td>1</td>\n",
       "      <td>0</td>\n",
       "      <td>0</td>\n",
       "      <td>0</td>\n",
       "      <td>0</td>\n",
       "      <td>0</td>\n",
       "      <td>0</td>\n",
       "      <td>0</td>\n",
       "    </tr>\n",
       "    <tr>\n",
       "      <th>4</th>\n",
       "      <td>1</td>\n",
       "      <td>1</td>\n",
       "      <td>3</td>\n",
       "      <td>1</td>\n",
       "      <td>0</td>\n",
       "      <td>0</td>\n",
       "      <td>0</td>\n",
       "      <td>0</td>\n",
       "      <td>0</td>\n",
       "      <td>0</td>\n",
       "      <td>0</td>\n",
       "    </tr>\n",
       "  </tbody>\n",
       "</table>\n",
       "</div>"
      ],
      "text/plain": [
       "  ethnicitynew educationnew occupationnew incomenew smokenew alcoholnew EV CB  \\\n",
       "0            0            1             3         1        0          0  0  0   \n",
       "1            0            0             3         1        0          0  0  0   \n",
       "2            1            0             1         1        0          0  0  0   \n",
       "3            1            1             3         1        0          0  0  0   \n",
       "4            1            1             3         1        0          0  0  0   \n",
       "\n",
       "  PV SV IPV  \n",
       "0  0  0   0  \n",
       "1  0  0   0  \n",
       "2  0  0   0  \n",
       "3  0  0   0  \n",
       "4  0  0   0  "
      ]
     },
     "execution_count": 4,
     "metadata": {},
     "output_type": "execute_result"
    }
   ],
   "source": [
    "df_cats_only = df[cats].head()\n",
    "\n",
    "df_cats_only"
   ]
  },
  {
   "cell_type": "code",
   "execution_count": 20,
   "id": "50b2cb0f-2cdd-4fb0-ac6b-0788395cb518",
   "metadata": {},
   "outputs": [
    {
     "data": {
      "text/plain": [
       "count    91.000000\n",
       "mean      0.549451\n",
       "std       0.500305\n",
       "min       0.000000\n",
       "25%       0.000000\n",
       "50%       1.000000\n",
       "75%       1.000000\n",
       "max       1.000000\n",
       "Name: MINIdepression, dtype: float64"
      ]
     },
     "execution_count": 20,
     "metadata": {},
     "output_type": "execute_result"
    }
   ],
   "source": [
    "df.MINIdepression.describe()"
   ]
  },
  {
   "cell_type": "markdown",
   "id": "626cdfd4-b756-46ef-a7d1-ebdc6e2361a3",
   "metadata": {},
   "source": [
    "## Save all plot in figures"
   ]
  },
  {
   "cell_type": "code",
   "execution_count": null,
   "id": "8f4a3990-d281-4bc7-897e-f76b791dc7c1",
   "metadata": {},
   "outputs": [],
   "source": [
    "def plot_hist(x_var):\n",
    "    fig,axs = plt.subplots(1,2, figsize=(11,5))\n",
    "    sns.barplot(data=df, y=dep, x=x_var, ax=axs[0]).set(title=\"Depression rate\")\n",
    "    sns.countplot(data=df, x=x_var, ax=axs[1]).set(title=\"Histogram\")\n",
    "    plt.savefig(f'./figures/{x_var}_hist.png')\n",
    "\n",
    "for label in cats:\n",
    "    plot_hist(label)\n"
   ]
  },
  {
   "cell_type": "code",
   "execution_count": 69,
   "id": "cd1c0555-83c3-40dc-8ffa-b213ad3cd035",
   "metadata": {},
   "outputs": [
    {
     "data": {
      "image/png": "[encoded data removed]",
      "text/plain": [
       "<Figure size 640x480 with 1 Axes>"
      ]
     },
     "metadata": {},
     "output_type": "display_data"
    }
   ],
   "source": [
    "sns.boxplot(data=df, y='Age', x=dep)\n",
    "plt.savefig(f'./figures/Age_box.png')\n",
    "plt.show()"
   ]
  },
  {
   "cell_type": "code",
   "execution_count": 67,
   "id": "1a735390-735f-4683-be6e-07f37652d4de",
   "metadata": {},
   "outputs": [
    {
     "data": {
      "text/plain": [
       "count    91.000000\n",
       "mean     18.153846\n",
       "std       6.160669\n",
       "min      12.000000\n",
       "25%      15.000000\n",
       "50%      17.000000\n",
       "75%      19.000000\n",
       "max      54.000000\n",
       "Name: Age, dtype: float64"
      ]
     },
     "execution_count": 67,
     "metadata": {},
     "output_type": "execute_result"
    }
   ],
   "source": [
    "df.Age.describe()"
   ]
  },
  {
   "cell_type": "code",
   "execution_count": 70,
   "id": "6c2e28b7-9973-4944-a48b-fbb4c9f07c72",
   "metadata": {},
   "outputs": [
    {
     "data": {
      "text/plain": [
       "count    50.000000\n",
       "mean     17.640000\n",
       "std       5.374771\n",
       "min      12.000000\n",
       "25%      15.000000\n",
       "50%      16.000000\n",
       "75%      18.000000\n",
       "max      39.000000\n",
       "Name: Age, dtype: float64"
      ]
     },
     "execution_count": 70,
     "metadata": {},
     "output_type": "execute_result"
    }
   ],
   "source": [
    "df_is_depress = df[(df[dep] == 1)]\n",
    "df_is_depress.Age.describe()"
   ]
  },
  {
   "cell_type": "code",
   "execution_count": 71,
   "id": "f0d80ba7-2085-495a-8ef7-814d7ebd6c60",
   "metadata": {},
   "outputs": [
    {
     "data": {
      "text/plain": [
       "count    41.000000\n",
       "mean     18.780488\n",
       "std       7.019659\n",
       "min      13.000000\n",
       "25%      16.000000\n",
       "50%      17.000000\n",
       "75%      19.000000\n",
       "max      54.000000\n",
       "Name: Age, dtype: float64"
      ]
     },
     "execution_count": 71,
     "metadata": {},
     "output_type": "execute_result"
    }
   ],
   "source": [
    "df_isnot_depress = df[(df[dep] == 0)]\n",
    "df_isnot_depress.Age.describe()"
   ]
  },
  {
   "cell_type": "code",
   "execution_count": 51,
   "id": "e401aea6-4084-43c4-b7f6-22f58b26f574",
   "metadata": {},
   "outputs": [
    {
     "data": {
      "text/plain": [
       "4"
      ]
     },
     "execution_count": 51,
     "metadata": {},
     "output_type": "execute_result"
    }
   ],
   "source": [
    "df[(df[dep] == 1) & (df['religionnew'] == 0)].shape[0]"
   ]
  },
  {
   "cell_type": "code",
   "execution_count": 48,
   "id": "e31f7cfe-37ee-4d9f-86bc-2d0ba7624099",
   "metadata": {},
   "outputs": [
    {
     "data": {
      "text/plain": [
       "0.5348837209302325"
      ]
     },
     "execution_count": 48,
     "metadata": {},
     "output_type": "execute_result"
    }
   ],
   "source": [
    "# religion == 1 AND DEPRESS == 1 is equal to 46\n",
    "# religion == 1 AND DEPRESS == 0 is equal to 40\n",
    "46/(46+40)"
   ]
  },
  {
   "cell_type": "code",
   "execution_count": 52,
   "id": "4f72470b-c81d-45f8-9689-2e44018981de",
   "metadata": {},
   "outputs": [
    {
     "data": {
      "text/plain": [
       "0.8"
      ]
     },
     "execution_count": 52,
     "metadata": {},
     "output_type": "execute_result"
    }
   ],
   "source": [
    "# religion == 0 AND DEPRESS == 1 is equal to 4\n",
    "# religion == 0 AND DEPRESS == 0 is equal to 1\n",
    "4/(1+4)"
   ]
  },
  {
   "cell_type": "markdown",
   "id": "3bfe52a1-97f5-47c7-b71b-c4526e31e463",
   "metadata": {},
   "source": [
    "## Split Dataset"
   ]
  },
  {
   "cell_type": "code",
   "execution_count": 5,
   "id": "3034a8a1-626c-46a3-ac88-ee11e46d07f4",
   "metadata": {},
   "outputs": [],
   "source": [
    "trn_df,val_df = train_test_split(df, test_size=0.2, stratify=df[dep])"
   ]
  },
  {
   "cell_type": "code",
   "execution_count": 6,
   "id": "a61b5202-ec3f-4004-84aa-da2e365a0891",
   "metadata": {},
   "outputs": [
    {
     "data": {
      "text/plain": [
       "MINIdepression\n",
       "1    40\n",
       "0    32\n",
       "Name: count, dtype: int64"
      ]
     },
     "execution_count": 6,
     "metadata": {},
     "output_type": "execute_result"
    }
   ],
   "source": [
    "trn_df[dep].value_counts()"
   ]
  },
  {
   "cell_type": "code",
   "execution_count": 7,
   "id": "3c76f251-aed5-43aa-b8a2-7fa2d9c02b47",
   "metadata": {},
   "outputs": [
    {
     "data": {
      "text/plain": [
       "MINIdepression\n",
       "1    10\n",
       "0     9\n",
       "Name: count, dtype: int64"
      ]
     },
     "execution_count": 7,
     "metadata": {},
     "output_type": "execute_result"
    }
   ],
   "source": [
    "val_df[dep].value_counts()"
   ]
  },
  {
   "cell_type": "markdown",
   "id": "c51b8459-8f0d-4e52-b49f-e37215a8050a",
   "metadata": {},
   "source": [
    "> The distribution between the dependent variable seem ok."
   ]
  },
  {
   "cell_type": "markdown",
   "id": "5436e17b-ed98-4912-ab21-5b84c024d188",
   "metadata": {},
   "source": [
    "## Selecting Features"
   ]
  },
  {
   "cell_type": "code",
   "execution_count": 8,
   "id": "05b248db-241f-4d4f-81c8-5059618d30f5",
   "metadata": {},
   "outputs": [],
   "source": [
    "trn_df[cats] = trn_df[cats].apply(lambda x: x.cat.codes)\n",
    "val_df[cats] = val_df[cats].apply(lambda x: x.cat.codes)\n",
    "\n",
    "def xs_y(df):\n",
    "    xs = df[cats+conts].copy()\n",
    "    return xs,df[dep] if dep in df else None\n",
    "\n",
    "trn_xs,trn_y = xs_y(trn_df)\n",
    "val_xs,val_y = xs_y(val_df)"
   ]
  },
  {
   "cell_type": "code",
   "execution_count": 9,
   "id": "88a0c8ae-1c90-4cb5-bae3-e81c08a7272e",
   "metadata": {},
   "outputs": [
    {
     "name": "stdout",
     "output_type": "stream",
     "text": [
      "Training Shape: (72, 12)\n",
      "Validation Shape: (19, 12)\n"
     ]
    }
   ],
   "source": [
    "print(f'Training Shape: {trn_xs.shape}')\n",
    "print(f'Validation Shape: {val_xs.shape}')"
   ]
  },
  {
   "cell_type": "markdown",
   "id": "dbff67d0-e7f4-47c5-b6a8-79aca8d19753",
   "metadata": {},
   "source": [
    "> Bear in mind that the df is no longer categorical"
   ]
  },
  {
   "cell_type": "code",
   "execution_count": 94,
   "id": "17775285-2b15-41b6-b643-ceeaefbcb7aa",
   "metadata": {},
   "outputs": [
    {
     "data": {
      "text/html": [
       "<div>\n",
       "<style scoped>\n",
       "    .dataframe tbody tr th:only-of-type {\n",
       "        vertical-align: middle;\n",
       "    }\n",
       "\n",
       "    .dataframe tbody tr th {\n",
       "        vertical-align: top;\n",
       "    }\n",
       "\n",
       "    .dataframe thead th {\n",
       "        text-align: right;\n",
       "    }\n",
       "</style>\n",
       "<table border=\"1\" class=\"dataframe\">\n",
       "  <thead>\n",
       "    <tr style=\"text-align: right;\">\n",
       "      <th></th>\n",
       "      <th>religionnew</th>\n",
       "      <th>ethnicitynew</th>\n",
       "      <th>educationnew</th>\n",
       "      <th>occupationnew</th>\n",
       "      <th>incomenew</th>\n",
       "      <th>maritalnew</th>\n",
       "      <th>smokenew</th>\n",
       "      <th>alcoholnew</th>\n",
       "      <th>partnernew</th>\n",
       "      <th>EV</th>\n",
       "      <th>CB</th>\n",
       "      <th>PV</th>\n",
       "      <th>SV</th>\n",
       "      <th>IPV</th>\n",
       "      <th>Age</th>\n",
       "    </tr>\n",
       "  </thead>\n",
       "  <tbody>\n",
       "    <tr>\n",
       "      <th>count</th>\n",
       "      <td>72.000000</td>\n",
       "      <td>72.000000</td>\n",
       "      <td>72.000000</td>\n",
       "      <td>72.000000</td>\n",
       "      <td>72.000000</td>\n",
       "      <td>72.000000</td>\n",
       "      <td>72.000000</td>\n",
       "      <td>72.000000</td>\n",
       "      <td>72.000000</td>\n",
       "      <td>72.000000</td>\n",
       "      <td>72.000000</td>\n",
       "      <td>72.000000</td>\n",
       "      <td>72.000000</td>\n",
       "      <td>72.000000</td>\n",
       "      <td>72.000000</td>\n",
       "    </tr>\n",
       "    <tr>\n",
       "      <th>mean</th>\n",
       "      <td>0.944444</td>\n",
       "      <td>0.888889</td>\n",
       "      <td>0.722222</td>\n",
       "      <td>1.416667</td>\n",
       "      <td>0.777778</td>\n",
       "      <td>0.958333</td>\n",
       "      <td>0.291667</td>\n",
       "      <td>0.625000</td>\n",
       "      <td>0.944444</td>\n",
       "      <td>0.597222</td>\n",
       "      <td>0.861111</td>\n",
       "      <td>0.291667</td>\n",
       "      <td>0.597222</td>\n",
       "      <td>0.902778</td>\n",
       "      <td>18.041667</td>\n",
       "    </tr>\n",
       "    <tr>\n",
       "      <th>std</th>\n",
       "      <td>0.230669</td>\n",
       "      <td>0.316475</td>\n",
       "      <td>0.451046</td>\n",
       "      <td>0.686900</td>\n",
       "      <td>0.418657</td>\n",
       "      <td>0.201229</td>\n",
       "      <td>0.457719</td>\n",
       "      <td>0.846492</td>\n",
       "      <td>0.230669</td>\n",
       "      <td>0.493899</td>\n",
       "      <td>0.348257</td>\n",
       "      <td>0.457719</td>\n",
       "      <td>0.493899</td>\n",
       "      <td>0.298339</td>\n",
       "      <td>6.135644</td>\n",
       "    </tr>\n",
       "    <tr>\n",
       "      <th>min</th>\n",
       "      <td>0.000000</td>\n",
       "      <td>0.000000</td>\n",
       "      <td>0.000000</td>\n",
       "      <td>0.000000</td>\n",
       "      <td>0.000000</td>\n",
       "      <td>0.000000</td>\n",
       "      <td>0.000000</td>\n",
       "      <td>0.000000</td>\n",
       "      <td>0.000000</td>\n",
       "      <td>0.000000</td>\n",
       "      <td>0.000000</td>\n",
       "      <td>0.000000</td>\n",
       "      <td>0.000000</td>\n",
       "      <td>0.000000</td>\n",
       "      <td>12.000000</td>\n",
       "    </tr>\n",
       "    <tr>\n",
       "      <th>25%</th>\n",
       "      <td>1.000000</td>\n",
       "      <td>1.000000</td>\n",
       "      <td>0.000000</td>\n",
       "      <td>1.000000</td>\n",
       "      <td>1.000000</td>\n",
       "      <td>1.000000</td>\n",
       "      <td>0.000000</td>\n",
       "      <td>0.000000</td>\n",
       "      <td>1.000000</td>\n",
       "      <td>0.000000</td>\n",
       "      <td>1.000000</td>\n",
       "      <td>0.000000</td>\n",
       "      <td>0.000000</td>\n",
       "      <td>1.000000</td>\n",
       "      <td>15.000000</td>\n",
       "    </tr>\n",
       "    <tr>\n",
       "      <th>50%</th>\n",
       "      <td>1.000000</td>\n",
       "      <td>1.000000</td>\n",
       "      <td>1.000000</td>\n",
       "      <td>2.000000</td>\n",
       "      <td>1.000000</td>\n",
       "      <td>1.000000</td>\n",
       "      <td>0.000000</td>\n",
       "      <td>0.000000</td>\n",
       "      <td>1.000000</td>\n",
       "      <td>1.000000</td>\n",
       "      <td>1.000000</td>\n",
       "      <td>0.000000</td>\n",
       "      <td>1.000000</td>\n",
       "      <td>1.000000</td>\n",
       "      <td>17.000000</td>\n",
       "    </tr>\n",
       "    <tr>\n",
       "      <th>75%</th>\n",
       "      <td>1.000000</td>\n",
       "      <td>1.000000</td>\n",
       "      <td>1.000000</td>\n",
       "      <td>2.000000</td>\n",
       "      <td>1.000000</td>\n",
       "      <td>1.000000</td>\n",
       "      <td>1.000000</td>\n",
       "      <td>1.000000</td>\n",
       "      <td>1.000000</td>\n",
       "      <td>1.000000</td>\n",
       "      <td>1.000000</td>\n",
       "      <td>1.000000</td>\n",
       "      <td>1.000000</td>\n",
       "      <td>1.000000</td>\n",
       "      <td>19.000000</td>\n",
       "    </tr>\n",
       "    <tr>\n",
       "      <th>max</th>\n",
       "      <td>1.000000</td>\n",
       "      <td>1.000000</td>\n",
       "      <td>1.000000</td>\n",
       "      <td>2.000000</td>\n",
       "      <td>1.000000</td>\n",
       "      <td>1.000000</td>\n",
       "      <td>1.000000</td>\n",
       "      <td>2.000000</td>\n",
       "      <td>1.000000</td>\n",
       "      <td>1.000000</td>\n",
       "      <td>1.000000</td>\n",
       "      <td>1.000000</td>\n",
       "      <td>1.000000</td>\n",
       "      <td>1.000000</td>\n",
       "      <td>54.000000</td>\n",
       "    </tr>\n",
       "  </tbody>\n",
       "</table>\n",
       "</div>"
      ],
      "text/plain": [
       "       religionnew  ethnicitynew  educationnew  occupationnew  incomenew  \\\n",
       "count    72.000000     72.000000     72.000000      72.000000  72.000000   \n",
       "mean      0.944444      0.888889      0.722222       1.416667   0.777778   \n",
       "std       0.230669      0.316475      0.451046       0.686900   0.418657   \n",
       "min       0.000000      0.000000      0.000000       0.000000   0.000000   \n",
       "25%       1.000000      1.000000      0.000000       1.000000   1.000000   \n",
       "50%       1.000000      1.000000      1.000000       2.000000   1.000000   \n",
       "75%       1.000000      1.000000      1.000000       2.000000   1.000000   \n",
       "max       1.000000      1.000000      1.000000       2.000000   1.000000   \n",
       "\n",
       "       maritalnew   smokenew  alcoholnew  partnernew         EV         CB  \\\n",
       "count   72.000000  72.000000   72.000000   72.000000  72.000000  72.000000   \n",
       "mean     0.958333   0.291667    0.625000    0.944444   0.597222   0.861111   \n",
       "std      0.201229   0.457719    0.846492    0.230669   0.493899   0.348257   \n",
       "min      0.000000   0.000000    0.000000    0.000000   0.000000   0.000000   \n",
       "25%      1.000000   0.000000    0.000000    1.000000   0.000000   1.000000   \n",
       "50%      1.000000   0.000000    0.000000    1.000000   1.000000   1.000000   \n",
       "75%      1.000000   1.000000    1.000000    1.000000   1.000000   1.000000   \n",
       "max      1.000000   1.000000    2.000000    1.000000   1.000000   1.000000   \n",
       "\n",
       "              PV         SV        IPV        Age  \n",
       "count  72.000000  72.000000  72.000000  72.000000  \n",
       "mean    0.291667   0.597222   0.902778  18.041667  \n",
       "std     0.457719   0.493899   0.298339   6.135644  \n",
       "min     0.000000   0.000000   0.000000  12.000000  \n",
       "25%     0.000000   0.000000   1.000000  15.000000  \n",
       "50%     0.000000   1.000000   1.000000  17.000000  \n",
       "75%     1.000000   1.000000   1.000000  19.000000  \n",
       "max     1.000000   1.000000   1.000000  54.000000  "
      ]
     },
     "execution_count": 94,
     "metadata": {},
     "output_type": "execute_result"
    }
   ],
   "source": [
    "trn_xs.describe()"
   ]
  },
  {
   "cell_type": "code",
   "execution_count": 193,
   "id": "a4196b5b-98ea-48ff-8e55-6206b5113a6c",
   "metadata": {},
   "outputs": [],
   "source": [
    "pd.set_option('display.max_columns', None)"
   ]
  },
  {
   "cell_type": "code",
   "execution_count": 194,
   "id": "c26ea650-84ad-44e1-b4f6-9f141551d9d0",
   "metadata": {},
   "outputs": [
    {
     "data": {
      "text/html": [
       "<div>\n",
       "<style scoped>\n",
       "    .dataframe tbody tr th:only-of-type {\n",
       "        vertical-align: middle;\n",
       "    }\n",
       "\n",
       "    .dataframe tbody tr th {\n",
       "        vertical-align: top;\n",
       "    }\n",
       "\n",
       "    .dataframe thead th {\n",
       "        text-align: right;\n",
       "    }\n",
       "</style>\n",
       "<table border=\"1\" class=\"dataframe\">\n",
       "  <thead>\n",
       "    <tr style=\"text-align: right;\">\n",
       "      <th></th>\n",
       "      <th>religionnew</th>\n",
       "      <th>ethnicitynew</th>\n",
       "      <th>educationnew</th>\n",
       "      <th>occupationnew</th>\n",
       "      <th>incomenew</th>\n",
       "      <th>maritalnew</th>\n",
       "      <th>smokenew</th>\n",
       "      <th>alcoholnew</th>\n",
       "      <th>partnernew</th>\n",
       "      <th>EV</th>\n",
       "      <th>CB</th>\n",
       "      <th>PV</th>\n",
       "      <th>SV</th>\n",
       "      <th>IPV</th>\n",
       "      <th>Age</th>\n",
       "    </tr>\n",
       "  </thead>\n",
       "  <tbody>\n",
       "    <tr>\n",
       "      <th>7</th>\n",
       "      <td>0</td>\n",
       "      <td>0</td>\n",
       "      <td>1</td>\n",
       "      <td>2</td>\n",
       "      <td>1</td>\n",
       "      <td>1</td>\n",
       "      <td>0</td>\n",
       "      <td>0</td>\n",
       "      <td>1</td>\n",
       "      <td>1</td>\n",
       "      <td>1</td>\n",
       "      <td>0</td>\n",
       "      <td>1</td>\n",
       "      <td>1</td>\n",
       "      <td>14</td>\n",
       "    </tr>\n",
       "    <tr>\n",
       "      <th>44</th>\n",
       "      <td>1</td>\n",
       "      <td>1</td>\n",
       "      <td>1</td>\n",
       "      <td>1</td>\n",
       "      <td>1</td>\n",
       "      <td>1</td>\n",
       "      <td>1</td>\n",
       "      <td>2</td>\n",
       "      <td>1</td>\n",
       "      <td>0</td>\n",
       "      <td>1</td>\n",
       "      <td>0</td>\n",
       "      <td>0</td>\n",
       "      <td>1</td>\n",
       "      <td>16</td>\n",
       "    </tr>\n",
       "    <tr>\n",
       "      <th>14</th>\n",
       "      <td>0</td>\n",
       "      <td>0</td>\n",
       "      <td>1</td>\n",
       "      <td>2</td>\n",
       "      <td>1</td>\n",
       "      <td>1</td>\n",
       "      <td>1</td>\n",
       "      <td>2</td>\n",
       "      <td>1</td>\n",
       "      <td>1</td>\n",
       "      <td>0</td>\n",
       "      <td>0</td>\n",
       "      <td>1</td>\n",
       "      <td>1</td>\n",
       "      <td>14</td>\n",
       "    </tr>\n",
       "    <tr>\n",
       "      <th>46</th>\n",
       "      <td>1</td>\n",
       "      <td>1</td>\n",
       "      <td>1</td>\n",
       "      <td>2</td>\n",
       "      <td>1</td>\n",
       "      <td>1</td>\n",
       "      <td>0</td>\n",
       "      <td>2</td>\n",
       "      <td>1</td>\n",
       "      <td>0</td>\n",
       "      <td>1</td>\n",
       "      <td>0</td>\n",
       "      <td>0</td>\n",
       "      <td>1</td>\n",
       "      <td>17</td>\n",
       "    </tr>\n",
       "    <tr>\n",
       "      <th>54</th>\n",
       "      <td>1</td>\n",
       "      <td>1</td>\n",
       "      <td>1</td>\n",
       "      <td>1</td>\n",
       "      <td>1</td>\n",
       "      <td>1</td>\n",
       "      <td>0</td>\n",
       "      <td>0</td>\n",
       "      <td>1</td>\n",
       "      <td>0</td>\n",
       "      <td>0</td>\n",
       "      <td>0</td>\n",
       "      <td>0</td>\n",
       "      <td>0</td>\n",
       "      <td>21</td>\n",
       "    </tr>\n",
       "    <tr>\n",
       "      <th>...</th>\n",
       "      <td>...</td>\n",
       "      <td>...</td>\n",
       "      <td>...</td>\n",
       "      <td>...</td>\n",
       "      <td>...</td>\n",
       "      <td>...</td>\n",
       "      <td>...</td>\n",
       "      <td>...</td>\n",
       "      <td>...</td>\n",
       "      <td>...</td>\n",
       "      <td>...</td>\n",
       "      <td>...</td>\n",
       "      <td>...</td>\n",
       "      <td>...</td>\n",
       "      <td>...</td>\n",
       "    </tr>\n",
       "    <tr>\n",
       "      <th>78</th>\n",
       "      <td>1</td>\n",
       "      <td>1</td>\n",
       "      <td>0</td>\n",
       "      <td>2</td>\n",
       "      <td>0</td>\n",
       "      <td>1</td>\n",
       "      <td>1</td>\n",
       "      <td>2</td>\n",
       "      <td>1</td>\n",
       "      <td>1</td>\n",
       "      <td>1</td>\n",
       "      <td>1</td>\n",
       "      <td>1</td>\n",
       "      <td>1</td>\n",
       "      <td>19</td>\n",
       "    </tr>\n",
       "    <tr>\n",
       "      <th>77</th>\n",
       "      <td>1</td>\n",
       "      <td>1</td>\n",
       "      <td>0</td>\n",
       "      <td>2</td>\n",
       "      <td>0</td>\n",
       "      <td>1</td>\n",
       "      <td>1</td>\n",
       "      <td>2</td>\n",
       "      <td>1</td>\n",
       "      <td>1</td>\n",
       "      <td>1</td>\n",
       "      <td>0</td>\n",
       "      <td>1</td>\n",
       "      <td>1</td>\n",
       "      <td>22</td>\n",
       "    </tr>\n",
       "    <tr>\n",
       "      <th>22</th>\n",
       "      <td>1</td>\n",
       "      <td>0</td>\n",
       "      <td>0</td>\n",
       "      <td>1</td>\n",
       "      <td>0</td>\n",
       "      <td>1</td>\n",
       "      <td>1</td>\n",
       "      <td>1</td>\n",
       "      <td>1</td>\n",
       "      <td>1</td>\n",
       "      <td>1</td>\n",
       "      <td>0</td>\n",
       "      <td>0</td>\n",
       "      <td>1</td>\n",
       "      <td>12</td>\n",
       "    </tr>\n",
       "    <tr>\n",
       "      <th>69</th>\n",
       "      <td>1</td>\n",
       "      <td>1</td>\n",
       "      <td>1</td>\n",
       "      <td>1</td>\n",
       "      <td>1</td>\n",
       "      <td>1</td>\n",
       "      <td>0</td>\n",
       "      <td>0</td>\n",
       "      <td>1</td>\n",
       "      <td>0</td>\n",
       "      <td>1</td>\n",
       "      <td>0</td>\n",
       "      <td>0</td>\n",
       "      <td>1</td>\n",
       "      <td>22</td>\n",
       "    </tr>\n",
       "    <tr>\n",
       "      <th>79</th>\n",
       "      <td>1</td>\n",
       "      <td>1</td>\n",
       "      <td>1</td>\n",
       "      <td>1</td>\n",
       "      <td>1</td>\n",
       "      <td>1</td>\n",
       "      <td>0</td>\n",
       "      <td>0</td>\n",
       "      <td>1</td>\n",
       "      <td>1</td>\n",
       "      <td>1</td>\n",
       "      <td>1</td>\n",
       "      <td>1</td>\n",
       "      <td>1</td>\n",
       "      <td>22</td>\n",
       "    </tr>\n",
       "  </tbody>\n",
       "</table>\n",
       "<p>72 rows × 15 columns</p>\n",
       "</div>"
      ],
      "text/plain": [
       "    religionnew  ethnicitynew  educationnew  occupationnew  incomenew  \\\n",
       "7             0             0             1              2          1   \n",
       "44            1             1             1              1          1   \n",
       "14            0             0             1              2          1   \n",
       "46            1             1             1              2          1   \n",
       "54            1             1             1              1          1   \n",
       "..          ...           ...           ...            ...        ...   \n",
       "78            1             1             0              2          0   \n",
       "77            1             1             0              2          0   \n",
       "22            1             0             0              1          0   \n",
       "69            1             1             1              1          1   \n",
       "79            1             1             1              1          1   \n",
       "\n",
       "    maritalnew  smokenew  alcoholnew  partnernew  EV  CB  PV  SV  IPV  Age  \n",
       "7            1         0           0           1   1   1   0   1    1   14  \n",
       "44           1         1           2           1   0   1   0   0    1   16  \n",
       "14           1         1           2           1   1   0   0   1    1   14  \n",
       "46           1         0           2           1   0   1   0   0    1   17  \n",
       "54           1         0           0           1   0   0   0   0    0   21  \n",
       "..         ...       ...         ...         ...  ..  ..  ..  ..  ...  ...  \n",
       "78           1         1           2           1   1   1   1   1    1   19  \n",
       "77           1         1           2           1   1   1   0   1    1   22  \n",
       "22           1         1           1           1   1   1   0   0    1   12  \n",
       "69           1         0           0           1   0   1   0   0    1   22  \n",
       "79           1         0           0           1   1   1   1   1    1   22  \n",
       "\n",
       "[72 rows x 15 columns]"
      ]
     },
     "execution_count": 194,
     "metadata": {},
     "output_type": "execute_result"
    }
   ],
   "source": [
    "trn_xs"
   ]
  },
  {
   "cell_type": "code",
   "execution_count": 195,
   "id": "f9c5ed5c-aa24-4a2a-8b0a-d21534fc9147",
   "metadata": {},
   "outputs": [
    {
     "data": {
      "text/plain": [
       "7     1\n",
       "44    1\n",
       "14    1\n",
       "46    1\n",
       "54    1\n",
       "     ..\n",
       "78    1\n",
       "77    0\n",
       "22    1\n",
       "69    1\n",
       "79    1\n",
       "Name: MINIdepression, Length: 72, dtype: int64"
      ]
     },
     "execution_count": 195,
     "metadata": {},
     "output_type": "execute_result"
    }
   ],
   "source": [
    "trn_y"
   ]
  },
  {
   "cell_type": "code",
   "execution_count": 196,
   "id": "21e19844-91b0-4338-8dbd-909eb151a8d7",
   "metadata": {},
   "outputs": [
    {
     "data": {
      "text/html": [
       "<div>\n",
       "<style scoped>\n",
       "    .dataframe tbody tr th:only-of-type {\n",
       "        vertical-align: middle;\n",
       "    }\n",
       "\n",
       "    .dataframe tbody tr th {\n",
       "        vertical-align: top;\n",
       "    }\n",
       "\n",
       "    .dataframe thead th {\n",
       "        text-align: right;\n",
       "    }\n",
       "</style>\n",
       "<table border=\"1\" class=\"dataframe\">\n",
       "  <thead>\n",
       "    <tr style=\"text-align: right;\">\n",
       "      <th></th>\n",
       "      <th>religionnew</th>\n",
       "      <th>ethnicitynew</th>\n",
       "      <th>educationnew</th>\n",
       "      <th>occupationnew</th>\n",
       "      <th>incomenew</th>\n",
       "      <th>maritalnew</th>\n",
       "      <th>smokenew</th>\n",
       "      <th>alcoholnew</th>\n",
       "      <th>partnernew</th>\n",
       "      <th>EV</th>\n",
       "      <th>CB</th>\n",
       "      <th>PV</th>\n",
       "      <th>SV</th>\n",
       "      <th>IPV</th>\n",
       "      <th>Age</th>\n",
       "    </tr>\n",
       "  </thead>\n",
       "  <tbody>\n",
       "    <tr>\n",
       "      <th>64</th>\n",
       "      <td>1</td>\n",
       "      <td>1</td>\n",
       "      <td>1</td>\n",
       "      <td>2</td>\n",
       "      <td>0</td>\n",
       "      <td>1</td>\n",
       "      <td>0</td>\n",
       "      <td>2</td>\n",
       "      <td>1</td>\n",
       "      <td>1</td>\n",
       "      <td>1</td>\n",
       "      <td>1</td>\n",
       "      <td>1</td>\n",
       "      <td>1</td>\n",
       "      <td>16</td>\n",
       "    </tr>\n",
       "    <tr>\n",
       "      <th>87</th>\n",
       "      <td>1</td>\n",
       "      <td>1</td>\n",
       "      <td>1</td>\n",
       "      <td>0</td>\n",
       "      <td>1</td>\n",
       "      <td>0</td>\n",
       "      <td>0</td>\n",
       "      <td>1</td>\n",
       "      <td>1</td>\n",
       "      <td>0</td>\n",
       "      <td>1</td>\n",
       "      <td>0</td>\n",
       "      <td>0</td>\n",
       "      <td>1</td>\n",
       "      <td>29</td>\n",
       "    </tr>\n",
       "    <tr>\n",
       "      <th>5</th>\n",
       "      <td>1</td>\n",
       "      <td>1</td>\n",
       "      <td>1</td>\n",
       "      <td>2</td>\n",
       "      <td>0</td>\n",
       "      <td>1</td>\n",
       "      <td>0</td>\n",
       "      <td>0</td>\n",
       "      <td>0</td>\n",
       "      <td>0</td>\n",
       "      <td>0</td>\n",
       "      <td>0</td>\n",
       "      <td>0</td>\n",
       "      <td>0</td>\n",
       "      <td>15</td>\n",
       "    </tr>\n",
       "    <tr>\n",
       "      <th>70</th>\n",
       "      <td>1</td>\n",
       "      <td>1</td>\n",
       "      <td>1</td>\n",
       "      <td>2</td>\n",
       "      <td>1</td>\n",
       "      <td>1</td>\n",
       "      <td>0</td>\n",
       "      <td>2</td>\n",
       "      <td>1</td>\n",
       "      <td>1</td>\n",
       "      <td>1</td>\n",
       "      <td>0</td>\n",
       "      <td>1</td>\n",
       "      <td>1</td>\n",
       "      <td>16</td>\n",
       "    </tr>\n",
       "    <tr>\n",
       "      <th>52</th>\n",
       "      <td>1</td>\n",
       "      <td>1</td>\n",
       "      <td>1</td>\n",
       "      <td>2</td>\n",
       "      <td>1</td>\n",
       "      <td>1</td>\n",
       "      <td>1</td>\n",
       "      <td>2</td>\n",
       "      <td>1</td>\n",
       "      <td>1</td>\n",
       "      <td>1</td>\n",
       "      <td>1</td>\n",
       "      <td>1</td>\n",
       "      <td>1</td>\n",
       "      <td>17</td>\n",
       "    </tr>\n",
       "    <tr>\n",
       "      <th>47</th>\n",
       "      <td>1</td>\n",
       "      <td>1</td>\n",
       "      <td>1</td>\n",
       "      <td>2</td>\n",
       "      <td>1</td>\n",
       "      <td>1</td>\n",
       "      <td>0</td>\n",
       "      <td>0</td>\n",
       "      <td>1</td>\n",
       "      <td>1</td>\n",
       "      <td>1</td>\n",
       "      <td>1</td>\n",
       "      <td>1</td>\n",
       "      <td>1</td>\n",
       "      <td>17</td>\n",
       "    </tr>\n",
       "    <tr>\n",
       "      <th>17</th>\n",
       "      <td>1</td>\n",
       "      <td>1</td>\n",
       "      <td>1</td>\n",
       "      <td>2</td>\n",
       "      <td>1</td>\n",
       "      <td>1</td>\n",
       "      <td>0</td>\n",
       "      <td>0</td>\n",
       "      <td>1</td>\n",
       "      <td>0</td>\n",
       "      <td>1</td>\n",
       "      <td>0</td>\n",
       "      <td>1</td>\n",
       "      <td>1</td>\n",
       "      <td>16</td>\n",
       "    </tr>\n",
       "    <tr>\n",
       "      <th>65</th>\n",
       "      <td>1</td>\n",
       "      <td>1</td>\n",
       "      <td>0</td>\n",
       "      <td>1</td>\n",
       "      <td>1</td>\n",
       "      <td>1</td>\n",
       "      <td>0</td>\n",
       "      <td>1</td>\n",
       "      <td>1</td>\n",
       "      <td>1</td>\n",
       "      <td>1</td>\n",
       "      <td>0</td>\n",
       "      <td>1</td>\n",
       "      <td>1</td>\n",
       "      <td>19</td>\n",
       "    </tr>\n",
       "    <tr>\n",
       "      <th>34</th>\n",
       "      <td>1</td>\n",
       "      <td>1</td>\n",
       "      <td>1</td>\n",
       "      <td>2</td>\n",
       "      <td>1</td>\n",
       "      <td>1</td>\n",
       "      <td>0</td>\n",
       "      <td>1</td>\n",
       "      <td>1</td>\n",
       "      <td>1</td>\n",
       "      <td>1</td>\n",
       "      <td>0</td>\n",
       "      <td>1</td>\n",
       "      <td>1</td>\n",
       "      <td>14</td>\n",
       "    </tr>\n",
       "    <tr>\n",
       "      <th>84</th>\n",
       "      <td>1</td>\n",
       "      <td>1</td>\n",
       "      <td>0</td>\n",
       "      <td>1</td>\n",
       "      <td>1</td>\n",
       "      <td>0</td>\n",
       "      <td>0</td>\n",
       "      <td>0</td>\n",
       "      <td>1</td>\n",
       "      <td>1</td>\n",
       "      <td>0</td>\n",
       "      <td>1</td>\n",
       "      <td>1</td>\n",
       "      <td>1</td>\n",
       "      <td>31</td>\n",
       "    </tr>\n",
       "    <tr>\n",
       "      <th>3</th>\n",
       "      <td>1</td>\n",
       "      <td>1</td>\n",
       "      <td>1</td>\n",
       "      <td>2</td>\n",
       "      <td>1</td>\n",
       "      <td>1</td>\n",
       "      <td>0</td>\n",
       "      <td>0</td>\n",
       "      <td>0</td>\n",
       "      <td>0</td>\n",
       "      <td>0</td>\n",
       "      <td>0</td>\n",
       "      <td>0</td>\n",
       "      <td>0</td>\n",
       "      <td>15</td>\n",
       "    </tr>\n",
       "    <tr>\n",
       "      <th>39</th>\n",
       "      <td>1</td>\n",
       "      <td>1</td>\n",
       "      <td>1</td>\n",
       "      <td>2</td>\n",
       "      <td>1</td>\n",
       "      <td>1</td>\n",
       "      <td>0</td>\n",
       "      <td>1</td>\n",
       "      <td>1</td>\n",
       "      <td>1</td>\n",
       "      <td>1</td>\n",
       "      <td>0</td>\n",
       "      <td>1</td>\n",
       "      <td>1</td>\n",
       "      <td>14</td>\n",
       "    </tr>\n",
       "    <tr>\n",
       "      <th>35</th>\n",
       "      <td>1</td>\n",
       "      <td>1</td>\n",
       "      <td>1</td>\n",
       "      <td>2</td>\n",
       "      <td>1</td>\n",
       "      <td>1</td>\n",
       "      <td>0</td>\n",
       "      <td>0</td>\n",
       "      <td>1</td>\n",
       "      <td>0</td>\n",
       "      <td>0</td>\n",
       "      <td>0</td>\n",
       "      <td>0</td>\n",
       "      <td>0</td>\n",
       "      <td>17</td>\n",
       "    </tr>\n",
       "    <tr>\n",
       "      <th>88</th>\n",
       "      <td>1</td>\n",
       "      <td>0</td>\n",
       "      <td>1</td>\n",
       "      <td>2</td>\n",
       "      <td>1</td>\n",
       "      <td>1</td>\n",
       "      <td>0</td>\n",
       "      <td>0</td>\n",
       "      <td>1</td>\n",
       "      <td>0</td>\n",
       "      <td>0</td>\n",
       "      <td>0</td>\n",
       "      <td>0</td>\n",
       "      <td>0</td>\n",
       "      <td>17</td>\n",
       "    </tr>\n",
       "    <tr>\n",
       "      <th>21</th>\n",
       "      <td>1</td>\n",
       "      <td>1</td>\n",
       "      <td>1</td>\n",
       "      <td>1</td>\n",
       "      <td>1</td>\n",
       "      <td>1</td>\n",
       "      <td>1</td>\n",
       "      <td>0</td>\n",
       "      <td>1</td>\n",
       "      <td>1</td>\n",
       "      <td>1</td>\n",
       "      <td>0</td>\n",
       "      <td>0</td>\n",
       "      <td>1</td>\n",
       "      <td>14</td>\n",
       "    </tr>\n",
       "    <tr>\n",
       "      <th>0</th>\n",
       "      <td>0</td>\n",
       "      <td>0</td>\n",
       "      <td>1</td>\n",
       "      <td>2</td>\n",
       "      <td>1</td>\n",
       "      <td>1</td>\n",
       "      <td>0</td>\n",
       "      <td>0</td>\n",
       "      <td>0</td>\n",
       "      <td>0</td>\n",
       "      <td>0</td>\n",
       "      <td>0</td>\n",
       "      <td>0</td>\n",
       "      <td>0</td>\n",
       "      <td>17</td>\n",
       "    </tr>\n",
       "    <tr>\n",
       "      <th>86</th>\n",
       "      <td>1</td>\n",
       "      <td>1</td>\n",
       "      <td>1</td>\n",
       "      <td>0</td>\n",
       "      <td>1</td>\n",
       "      <td>0</td>\n",
       "      <td>0</td>\n",
       "      <td>0</td>\n",
       "      <td>1</td>\n",
       "      <td>0</td>\n",
       "      <td>1</td>\n",
       "      <td>1</td>\n",
       "      <td>0</td>\n",
       "      <td>1</td>\n",
       "      <td>37</td>\n",
       "    </tr>\n",
       "    <tr>\n",
       "      <th>67</th>\n",
       "      <td>1</td>\n",
       "      <td>1</td>\n",
       "      <td>1</td>\n",
       "      <td>2</td>\n",
       "      <td>1</td>\n",
       "      <td>1</td>\n",
       "      <td>0</td>\n",
       "      <td>2</td>\n",
       "      <td>1</td>\n",
       "      <td>1</td>\n",
       "      <td>1</td>\n",
       "      <td>0</td>\n",
       "      <td>1</td>\n",
       "      <td>1</td>\n",
       "      <td>17</td>\n",
       "    </tr>\n",
       "    <tr>\n",
       "      <th>45</th>\n",
       "      <td>1</td>\n",
       "      <td>1</td>\n",
       "      <td>1</td>\n",
       "      <td>0</td>\n",
       "      <td>1</td>\n",
       "      <td>1</td>\n",
       "      <td>1</td>\n",
       "      <td>2</td>\n",
       "      <td>1</td>\n",
       "      <td>1</td>\n",
       "      <td>1</td>\n",
       "      <td>1</td>\n",
       "      <td>0</td>\n",
       "      <td>1</td>\n",
       "      <td>15</td>\n",
       "    </tr>\n",
       "  </tbody>\n",
       "</table>\n",
       "</div>"
      ],
      "text/plain": [
       "    religionnew  ethnicitynew  educationnew  occupationnew  incomenew  \\\n",
       "64            1             1             1              2          0   \n",
       "87            1             1             1              0          1   \n",
       "5             1             1             1              2          0   \n",
       "70            1             1             1              2          1   \n",
       "52            1             1             1              2          1   \n",
       "47            1             1             1              2          1   \n",
       "17            1             1             1              2          1   \n",
       "65            1             1             0              1          1   \n",
       "34            1             1             1              2          1   \n",
       "84            1             1             0              1          1   \n",
       "3             1             1             1              2          1   \n",
       "39            1             1             1              2          1   \n",
       "35            1             1             1              2          1   \n",
       "88            1             0             1              2          1   \n",
       "21            1             1             1              1          1   \n",
       "0             0             0             1              2          1   \n",
       "86            1             1             1              0          1   \n",
       "67            1             1             1              2          1   \n",
       "45            1             1             1              0          1   \n",
       "\n",
       "    maritalnew  smokenew  alcoholnew  partnernew  EV  CB  PV  SV  IPV  Age  \n",
       "64           1         0           2           1   1   1   1   1    1   16  \n",
       "87           0         0           1           1   0   1   0   0    1   29  \n",
       "5            1         0           0           0   0   0   0   0    0   15  \n",
       "70           1         0           2           1   1   1   0   1    1   16  \n",
       "52           1         1           2           1   1   1   1   1    1   17  \n",
       "47           1         0           0           1   1   1   1   1    1   17  \n",
       "17           1         0           0           1   0   1   0   1    1   16  \n",
       "65           1         0           1           1   1   1   0   1    1   19  \n",
       "34           1         0           1           1   1   1   0   1    1   14  \n",
       "84           0         0           0           1   1   0   1   1    1   31  \n",
       "3            1         0           0           0   0   0   0   0    0   15  \n",
       "39           1         0           1           1   1   1   0   1    1   14  \n",
       "35           1         0           0           1   0   0   0   0    0   17  \n",
       "88           1         0           0           1   0   0   0   0    0   17  \n",
       "21           1         1           0           1   1   1   0   0    1   14  \n",
       "0            1         0           0           0   0   0   0   0    0   17  \n",
       "86           0         0           0           1   0   1   1   0    1   37  \n",
       "67           1         0           2           1   1   1   0   1    1   17  \n",
       "45           1         1           2           1   1   1   1   0    1   15  "
      ]
     },
     "execution_count": 196,
     "metadata": {},
     "output_type": "execute_result"
    }
   ],
   "source": [
    "val_xs"
   ]
  },
  {
   "cell_type": "code",
   "execution_count": 197,
   "id": "11ce0856-94c5-47bb-8a54-6c2a45de4b7d",
   "metadata": {},
   "outputs": [
    {
     "data": {
      "text/plain": [
       "64    1\n",
       "87    0\n",
       "5     1\n",
       "70    0\n",
       "52    1\n",
       "47    0\n",
       "17    0\n",
       "65    1\n",
       "34    1\n",
       "84    1\n",
       "3     0\n",
       "39    1\n",
       "35    1\n",
       "88    0\n",
       "21    1\n",
       "0     0\n",
       "86    0\n",
       "67    1\n",
       "45    0\n",
       "Name: MINIdepression, dtype: int64"
      ]
     },
     "execution_count": 197,
     "metadata": {},
     "output_type": "execute_result"
    }
   ],
   "source": [
    "val_y"
   ]
  },
  {
   "cell_type": "markdown",
   "id": "aeeb732f-15de-4d3e-a2e4-c4051ac1f4fd",
   "metadata": {
    "jp-MarkdownHeadingCollapsed": true
   },
   "source": [
    "# Logistic Regression"
   ]
  },
  {
   "cell_type": "markdown",
   "id": "3679fd48-83ca-4406-b571-4567b1011c30",
   "metadata": {},
   "source": [
    "## Model Training and Prediction"
   ]
  },
  {
   "cell_type": "code",
   "execution_count": 10,
   "id": "844e3a0b-8969-4970-802e-ef4b9e6ef3d9",
   "metadata": {},
   "outputs": [],
   "source": [
    "logreg = LogisticRegression()\n",
    "logreg.fit(trn_xs, trn_y)\n",
    "y_pred = logreg.predict(val_xs)"
   ]
  },
  {
   "cell_type": "markdown",
   "id": "890fb914-b18f-4a58-9404-3b8da31a3d21",
   "metadata": {},
   "source": [
    "## Model Evaluation"
   ]
  },
  {
   "cell_type": "markdown",
   "id": "5bfffd59-49bf-485d-af3b-49069976d9cc",
   "metadata": {},
   "source": [
    "### MAE For Validation Set"
   ]
  },
  {
   "cell_type": "code",
   "execution_count": 11,
   "id": "8b542f96-a1e1-4c84-94c8-61464e6431e0",
   "metadata": {},
   "outputs": [
    {
     "data": {
      "text/plain": [
       "0.42105263157894735"
      ]
     },
     "execution_count": 11,
     "metadata": {},
     "output_type": "execute_result"
    }
   ],
   "source": [
    "mean_absolute_error(val_y, y_pred)"
   ]
  },
  {
   "cell_type": "markdown",
   "id": "6351d544-22e9-4809-ac4e-eb27fb1ff101",
   "metadata": {},
   "source": [
    "### MAE For Training Set"
   ]
  },
  {
   "cell_type": "code",
   "execution_count": 12,
   "id": "a9c39270-90b4-4a25-8aa0-ba39fc6f770e",
   "metadata": {},
   "outputs": [
    {
     "data": {
      "text/plain": [
       "0.25"
      ]
     },
     "execution_count": 12,
     "metadata": {},
     "output_type": "execute_result"
    }
   ],
   "source": [
    "y_train_pred = logreg.predict(trn_xs)\n",
    "mean_absolute_error(trn_y, y_train_pred)"
   ]
  },
  {
   "cell_type": "markdown",
   "id": "e247e13b-6ddd-430c-bdaa-d752469112a4",
   "metadata": {},
   "source": [
    "> Lower MAE for training compare to validation set might indicate that the model is overfitting a little."
   ]
  },
  {
   "cell_type": "markdown",
   "id": "ecec0709-3854-4005-a8c3-be17c4f0b73a",
   "metadata": {},
   "source": [
    "### Confusion Metrics"
   ]
  },
  {
   "cell_type": "code",
   "execution_count": 13,
   "id": "4dc062d8-be6c-4d3a-9f35-164f31cbb2fb",
   "metadata": {},
   "outputs": [
    {
     "data": {
      "image/png": "[encoded data removed]",
      "text/plain": [
       "<Figure size 640x480 with 2 Axes>"
      ]
     },
     "metadata": {},
     "output_type": "display_data"
    }
   ],
   "source": [
    "# Create the confusion matrix\n",
    "cm = confusion_matrix(val_y, y_pred)\n",
    "\n",
    "ConfusionMatrixDisplay(confusion_matrix=cm).plot();"
   ]
  },
  {
   "cell_type": "markdown",
   "id": "1db46c33-2db6-4203-b325-34a7a38de122",
   "metadata": {},
   "source": [
    "> I will say that the model is not very confidence in classifying if a subject is depressed or not. If the purple boxes is more towards zero, the better it is since that means the model did never guessed wrong."
   ]
  },
  {
   "cell_type": "markdown",
   "id": "769f93b4-0019-4144-bf14-d72a8bd4abf1",
   "metadata": {},
   "source": [
    "### Accuracy, Precision, Recall"
   ]
  },
  {
   "cell_type": "code",
   "execution_count": 14,
   "id": "eb884a2d-ce7a-45b9-a46b-56ea7af25223",
   "metadata": {},
   "outputs": [
    {
     "name": "stdout",
     "output_type": "stream",
     "text": [
      "Accuracy: 0.5789473684210527\n",
      "Precision: 0.5714285714285714\n",
      "Recall: 0.8\n"
     ]
    }
   ],
   "source": [
    "accuracy = accuracy_score(val_y, y_pred)\n",
    "precision = precision_score(val_y, y_pred)\n",
    "recall = recall_score(val_y, y_pred)\n",
    "\n",
    "print(\"Accuracy:\", accuracy)\n",
    "print(\"Precision:\", precision)\n",
    "print(\"Recall:\", recall)"
   ]
  },
  {
   "cell_type": "markdown",
   "id": "034293db-d644-4459-8847-f6d6e79eeff8",
   "metadata": {},
   "source": [
    "Accuracy: In general, when the model makes prediction, it is right 57% of the time.\n",
    "\n",
    "Precision: This is the accuracy of the Positive Prediction. For 60% precision for \"with depression as positive\", that means, for a list of patients that our model predicted as depressed, 60% of them IS in fact depressed, while the other 40% is not actually depressed but wrongly predicted as so. The downside is, it does not count missing POSITIVE, that is, our model can pick a few patients where it is confident that they are depressed and achieved High Precision, but left out many patients that are actually depressed but missed out by our model.\n",
    "\n",
    "Recall: It is the ability of the model to detect the target. If there are 100 depressed patient in a list of X (let say 1000), and our model correctly labelled all 100 depressed patient as depressed, that means the recall is 100%. It does not matter if the model also predicted other non-depressed patient as depressed (False Positive), as it does not count in recall calculation. But too many False Positive can be inconvenient where manual intervention must be made to filter them out and make the labelling correct again."
   ]
  },
  {
   "cell_type": "markdown",
   "id": "6b8b0e8f-7de8-4d1c-8047-0fc425a9b791",
   "metadata": {},
   "source": [
    "### Classification Report"
   ]
  },
  {
   "cell_type": "code",
   "execution_count": 15,
   "id": "2c6eadbf-d70e-495f-866b-a8825db26d37",
   "metadata": {},
   "outputs": [
    {
     "name": "stdout",
     "output_type": "stream",
     "text": [
      "                        precision    recall  f1-score   support\n",
      "\n",
      "without MINIdepression       0.60      0.33      0.43         9\n",
      "   with MINIdepression       0.57      0.80      0.67        10\n",
      "\n",
      "              accuracy                           0.58        19\n",
      "             macro avg       0.59      0.57      0.55        19\n",
      "          weighted avg       0.58      0.58      0.55        19\n",
      "\n"
     ]
    }
   ],
   "source": [
    "target_names = [f'without {dep}', f'with {dep}']\n",
    "print(classification_report(val_y, y_pred, target_names=target_names))"
   ]
  },
  {
   "cell_type": "markdown",
   "id": "0dfe6476-e403-46c4-a3ee-e8ed74e2db53",
   "metadata": {},
   "source": [
    "F1 Score: makes a balance between precision and recall.\n",
    "\n",
    "In the most simple terms, higher F1 scores are generally better. It range from 0 to 1."
   ]
  },
  {
   "cell_type": "markdown",
   "id": "a899997b-3b2d-4543-bba7-9a3f2adfe765",
   "metadata": {},
   "source": [
    "### ROC Curve"
   ]
  },
  {
   "cell_type": "markdown",
   "id": "2f3e466f-74c0-4bdf-9e08-4b70c7d400dd",
   "metadata": {},
   "source": [
    "Receiver Operating Characteristic(ROC) curve is a plot of the true positive rate against the false positive rate. It shows the tradeoff between sensitivity and specificity."
   ]
  },
  {
   "cell_type": "code",
   "execution_count": 16,
   "id": "c8dd6a64-1f98-4441-898b-d9c19359e0a4",
   "metadata": {},
   "outputs": [
    {
     "data": {
      "image/png": "[encoded data removed]",
      "text/plain": [
       "<Figure size 640x480 with 1 Axes>"
      ]
     },
     "metadata": {},
     "output_type": "display_data"
    }
   ],
   "source": [
    "y_pred_proba = logreg.predict_proba(val_xs)[:,1]\n",
    "fpr, tpr, _ = roc_curve(val_y,  y_pred_proba)\n",
    "auc = roc_auc_score(val_y, y_pred_proba)\n",
    "plt.plot(fpr,tpr,label=\"data 1, auc=\"+str(auc))\n",
    "plt.legend(loc=4)\n",
    "plt.show()"
   ]
  },
  {
   "cell_type": "markdown",
   "id": "7d13b0cb-840b-471d-87bd-e2dfb13f1612",
   "metadata": {},
   "source": [
    "> AUC score for the case is 0.57. AUC score 1 represents a perfect classifier, and 0.5 represents a worthless classifier."
   ]
  },
  {
   "cell_type": "code",
   "execution_count": 109,
   "id": "3d922378-eccf-4ec5-9815-365f95783391",
   "metadata": {},
   "outputs": [
    {
     "data": {
      "text/plain": [
       "array([[0.40305733, 0.59694267],\n",
       "       [0.62733889, 0.37266111],\n",
       "       [0.75465795, 0.24534205],\n",
       "       [0.33524827, 0.66475173],\n",
       "       [0.18182407, 0.81817593],\n",
       "       [0.30144321, 0.69855679],\n",
       "       [0.50535592, 0.49464408],\n",
       "       [0.52064886, 0.47935114],\n",
       "       [0.30510115, 0.69489885],\n",
       "       [0.55688155, 0.44311845],\n",
       "       [0.68431777, 0.31568223],\n",
       "       [0.30510115, 0.69489885],\n",
       "       [0.6784858 , 0.3215142 ],\n",
       "       [0.55629376, 0.44370624],\n",
       "       [0.20771047, 0.79228953],\n",
       "       [0.43375215, 0.56624785],\n",
       "       [0.66438548, 0.33561452],\n",
       "       [0.34329078, 0.65670922],\n",
       "       [0.2302417 , 0.7697583 ]])"
      ]
     },
     "execution_count": 109,
     "metadata": {},
     "output_type": "execute_result"
    }
   ],
   "source": [
    "logreg.predict_proba(val_xs)"
   ]
  },
  {
   "cell_type": "code",
   "execution_count": 111,
   "id": "15e2e62b-8129-462e-a060-0a370defdadf",
   "metadata": {},
   "outputs": [
    {
     "data": {
      "text/plain": [
       "(19, 2)"
      ]
     },
     "execution_count": 111,
     "metadata": {},
     "output_type": "execute_result"
    }
   ],
   "source": [
    "logreg.predict_proba(val_xs).shape"
   ]
  },
  {
   "cell_type": "code",
   "execution_count": 115,
   "id": "5d9061e2-1989-4977-994a-3b3f06d3ced3",
   "metadata": {},
   "outputs": [
    {
     "data": {
      "text/plain": [
       "array([0.59694267, 0.37266111, 0.24534205, 0.66475173, 0.81817593,\n",
       "       0.69855679, 0.49464408, 0.47935114, 0.69489885, 0.44311845,\n",
       "       0.31568223, 0.69489885, 0.3215142 , 0.44370624, 0.79228953,\n",
       "       0.56624785, 0.33561452, 0.65670922, 0.7697583 ])"
      ]
     },
     "execution_count": 115,
     "metadata": {},
     "output_type": "execute_result"
    }
   ],
   "source": [
    "logreg.predict_proba(val_xs)[:,1]"
   ]
  },
  {
   "cell_type": "code",
   "execution_count": 114,
   "id": "8fb321ff-ae71-443c-99b6-7b61397bd3b5",
   "metadata": {},
   "outputs": [
    {
     "data": {
      "text/plain": [
       "(19,)"
      ]
     },
     "execution_count": 114,
     "metadata": {},
     "output_type": "execute_result"
    }
   ],
   "source": [
    "logreg.predict_proba(val_xs)[:,1].shape"
   ]
  },
  {
   "cell_type": "markdown",
   "id": "e9eaee26-eff9-4cde-8325-a833c249ddfc",
   "metadata": {},
   "source": [
    "### Feature Importance"
   ]
  },
  {
   "cell_type": "markdown",
   "id": "945fd2c6-6b38-4852-ae2f-86f3f8bc19f1",
   "metadata": {},
   "source": [
    "#### By Training Set"
   ]
  },
  {
   "cell_type": "code",
   "execution_count": 17,
   "id": "eef542be-b42c-4d64-8ecd-e14345dcb2bf",
   "metadata": {},
   "outputs": [],
   "source": [
    "# Create a series containing feature importances from the model and feature names from the training data\n",
    "# logreg_fi = pd.Series(logreg.feature_importances_, index=trn_xs.columns).sort_values(ascending=False)\n",
    "logreg_fi = permutation_importance(logreg, trn_xs, trn_y)\n",
    "\n",
    "# Plot a simple bar chart\n",
    "# plt.figure(figsize=[14,5])\n",
    "# sns.barplot(x=trn_xs.columns, y=logreg_fi['importances_mean'])\n",
    "# plt.show()"
   ]
  },
  {
   "cell_type": "code",
   "execution_count": 18,
   "id": "d5e492d6-4aa8-4b3d-8050-cad716841728",
   "metadata": {},
   "outputs": [
    {
     "data": {
      "image/png": "[encoded data removed]",
      "text/plain": [
       "<Figure size 640x480 with 1 Axes>"
      ]
     },
     "metadata": {},
     "output_type": "display_data"
    }
   ],
   "source": [
    "# Create a series containing feature importances from the model and feature names from the training data\n",
    "feature_importances = pd.Series(logreg_fi['importances_mean'], index=trn_xs.columns).sort_values(ascending=False)\n",
    "\n",
    "# Plot a simple bar chart\n",
    "feature_importances.plot.bar();"
   ]
  },
  {
   "cell_type": "markdown",
   "id": "718460e1-58c8-4fd8-a8e9-ce0a174dc686",
   "metadata": {},
   "source": [
    "Where Y-axis is: Change in Mean Squared Error.\n",
    "\n",
    "The left most means, changing this features will result in the RMSE to increase (about 0.16 for EV).\n",
    "Meaning the model is highly dependent on these features.\n",
    "\n",
    "Zero means changing the feature does not affect the model much.\n",
    "\n",
    "X-axis is: Name of features in this model."
   ]
  },
  {
   "cell_type": "markdown",
   "id": "bbbfda95-1752-4d0e-8f26-1accad4ba089",
   "metadata": {},
   "source": [
    "#### By Validation Set"
   ]
  },
  {
   "cell_type": "code",
   "execution_count": 19,
   "id": "9b904379-2c9c-47a7-ad37-e9d576f01f88",
   "metadata": {},
   "outputs": [
    {
     "data": {
      "image/png": "[encoded data removed]",
      "text/plain": [
       "<Figure size 640x480 with 1 Axes>"
      ]
     },
     "metadata": {},
     "output_type": "display_data"
    }
   ],
   "source": [
    "logreg_fi_val = permutation_importance(logreg, val_xs, val_y)\n",
    "\n",
    "feature_importances = pd.Series(logreg_fi_val['importances_mean'], index=val_xs.columns).sort_values(ascending=False)\n",
    "feature_importances.plot.bar();"
   ]
  },
  {
   "cell_type": "markdown",
   "id": "be084a1f-b56e-42b3-b8cf-1fabb3c57a70",
   "metadata": {},
   "source": [
    "> Bear in mind that this model is not considered a good model by our Evaluation above (eg. AUC Score). So we cannot say for certain that the feature importance found above has a significant value to our conclusion. However we can still take it onto our consideration for further analysis."
   ]
  },
  {
   "cell_type": "markdown",
   "id": "4cf755e7-6507-43ec-882b-e8ec099406f1",
   "metadata": {},
   "source": [
    "> Also bear in mind, we get different result each time we refresh the code due to the randomness. However I found that EV is always on top of the other feature in importance."
   ]
  },
  {
   "cell_type": "markdown",
   "id": "75b8fe80-a4d7-4be9-9d05-1aea996358b4",
   "metadata": {},
   "source": [
    "#### Playground To Rerun"
   ]
  },
  {
   "cell_type": "code",
   "execution_count": 20,
   "id": "20fec8d6-84d5-4f41-be2d-22a9db5a367d",
   "metadata": {},
   "outputs": [
    {
     "data": {
      "image/png": "[encoded data removed]",
      "text/plain": [
       "<Figure size 640x480 with 1 Axes>"
      ]
     },
     "metadata": {},
     "output_type": "display_data"
    }
   ],
   "source": [
    "logreg_fi_val = permutation_importance(logreg, val_xs, val_y)\n",
    "\n",
    "feature_importances = pd.Series(logreg_fi_val['importances_mean'], index=val_xs.columns).sort_values(ascending=False)\n",
    "feature_importances.plot.bar();"
   ]
  },
  {
   "cell_type": "markdown",
   "id": "0d2fb33d-a5fe-444c-b702-29a2afefc40e",
   "metadata": {},
   "source": [
    "---"
   ]
  },
  {
   "cell_type": "markdown",
   "id": "4effc25a-0c5d-40d0-9949-999e4d28a285",
   "metadata": {
    "jp-MarkdownHeadingCollapsed": true
   },
   "source": [
    "# Random Forest"
   ]
  },
  {
   "cell_type": "markdown",
   "id": "c4d610f8-fadd-44f4-8eb7-25aadb13f1b7",
   "metadata": {},
   "source": [
    "## Model Training and Prediction"
   ]
  },
  {
   "cell_type": "code",
   "execution_count": 21,
   "id": "5a28af0e-27a3-4565-a748-5978d3f0459c",
   "metadata": {},
   "outputs": [],
   "source": [
    "rf = RandomForestClassifier(100, min_samples_leaf=5)\n",
    "rf.fit(trn_xs, trn_y)\n",
    "y_pred = rf.predict(val_xs)"
   ]
  },
  {
   "cell_type": "markdown",
   "id": "87645417-2b1e-40c7-a046-edd0ee74d2d1",
   "metadata": {},
   "source": [
    "## Model Evaluation"
   ]
  },
  {
   "cell_type": "markdown",
   "id": "b1bdc54f-d44b-44bf-b449-5a0ee4576916",
   "metadata": {},
   "source": [
    "### MAE For Validation Set"
   ]
  },
  {
   "cell_type": "code",
   "execution_count": 22,
   "id": "f8613522-3128-4b3b-98f2-422cc8cfb696",
   "metadata": {},
   "outputs": [
    {
     "data": {
      "text/plain": [
       "0.3684210526315789"
      ]
     },
     "execution_count": 22,
     "metadata": {},
     "output_type": "execute_result"
    }
   ],
   "source": [
    "mean_absolute_error(val_y, y_pred)"
   ]
  },
  {
   "cell_type": "markdown",
   "id": "fe643b47-824b-4765-aed5-6229d1df061b",
   "metadata": {},
   "source": [
    "### MAE For Training Set"
   ]
  },
  {
   "cell_type": "code",
   "execution_count": 23,
   "id": "9a465fab-b4f9-456f-ab4a-09464d4e460f",
   "metadata": {},
   "outputs": [
    {
     "data": {
      "text/plain": [
       "0.25"
      ]
     },
     "execution_count": 23,
     "metadata": {},
     "output_type": "execute_result"
    }
   ],
   "source": [
    "y_train_pred = rf.predict(trn_xs)\n",
    "mean_absolute_error(trn_y, y_train_pred)"
   ]
  },
  {
   "cell_type": "markdown",
   "id": "1ebce284-d002-4d12-a0f6-afe3f496ba5e",
   "metadata": {},
   "source": [
    "> Lower MAE for training compare to validation set might indicate that the model is overfitting a little."
   ]
  },
  {
   "cell_type": "markdown",
   "id": "a99fd39c-000c-427e-ab51-e0640831e066",
   "metadata": {},
   "source": [
    "### Confusion Metrics"
   ]
  },
  {
   "cell_type": "code",
   "execution_count": 24,
   "id": "8b246e74-b5c9-45ae-b530-4703bc573d2e",
   "metadata": {},
   "outputs": [
    {
     "data": {
      "image/png": "[encoded data removed]",
      "text/plain": [
       "<Figure size 640x480 with 2 Axes>"
      ]
     },
     "metadata": {},
     "output_type": "display_data"
    }
   ],
   "source": [
    "# Create the confusion matrix\n",
    "cm = confusion_matrix(val_y, y_pred)\n",
    "\n",
    "ConfusionMatrixDisplay(confusion_matrix=cm).plot();"
   ]
  },
  {
   "cell_type": "markdown",
   "id": "17d1065b-52ab-412b-9e11-a40e52eab250",
   "metadata": {},
   "source": [
    "> I will say that the model is not very confidence in classifying if a subject is depressed or not."
   ]
  },
  {
   "cell_type": "markdown",
   "id": "58bc2289-711f-4850-ae48-b0d24cd178fb",
   "metadata": {},
   "source": [
    "### Accuracy, Precision, Recall"
   ]
  },
  {
   "cell_type": "code",
   "execution_count": 25,
   "id": "30905a08-f84b-42cd-a6cf-7cf08bbac5af",
   "metadata": {},
   "outputs": [
    {
     "name": "stdout",
     "output_type": "stream",
     "text": [
      "Accuracy: 0.631578947368421\n",
      "Precision: 0.6153846153846154\n",
      "Recall: 0.8\n"
     ]
    }
   ],
   "source": [
    "accuracy = accuracy_score(val_y, y_pred)\n",
    "precision = precision_score(val_y, y_pred)\n",
    "recall = recall_score(val_y, y_pred)\n",
    "\n",
    "print(\"Accuracy:\", accuracy)\n",
    "print(\"Precision:\", precision)\n",
    "print(\"Recall:\", recall)"
   ]
  },
  {
   "cell_type": "markdown",
   "id": "e4bf487d-8e79-465c-8373-6481af201831",
   "metadata": {},
   "source": [
    "Accuracy: In general, when the model makes prediction, it is right 63% of the time.\n",
    "\n",
    "Precision: This is the accuracy of the Positive Prediction. For 60% precision for \"with depression as positive\", that means, for a list of patients that our model predicted as depressed, 60% of them IS in fact depressed, while the other 40% is not actually depressed but wrongly predicted as so. The downside is, it does not count missing POSITIVE, that is, our model can pick a few patients where it is confident that they are depressed and achieved High Precision, but left out many patients that are actually depressed but missed out by our model.\n",
    "\n",
    "Recall: It is the ability of the model to detect the target. If there are 100 depressed patient in a list of X (let say 1000), and our model correctly labelled all 100 depressed patient as depressed, that means the recall is 100%. It does not matter if the model also predicted other non-depressed patient as depressed (False Positive), as it does not count in recall calculation. But too many False Positive can be inconvenient where manual intervention must be made to filter them out and make the labelling correct again."
   ]
  },
  {
   "cell_type": "markdown",
   "id": "49a732c3-0587-4c15-8308-247cc670414a",
   "metadata": {},
   "source": [
    "### Classification Report"
   ]
  },
  {
   "cell_type": "code",
   "execution_count": 26,
   "id": "6e6d4168-1d21-45d0-aafd-a79937e97d81",
   "metadata": {},
   "outputs": [
    {
     "name": "stdout",
     "output_type": "stream",
     "text": [
      "                        precision    recall  f1-score   support\n",
      "\n",
      "without MINIdepression       0.67      0.44      0.53         9\n",
      "   with MINIdepression       0.62      0.80      0.70        10\n",
      "\n",
      "              accuracy                           0.63        19\n",
      "             macro avg       0.64      0.62      0.61        19\n",
      "          weighted avg       0.64      0.63      0.62        19\n",
      "\n"
     ]
    }
   ],
   "source": [
    "target_names = [f'without {dep}', f'with {dep}']\n",
    "print(classification_report(val_y, y_pred, target_names=target_names))"
   ]
  },
  {
   "cell_type": "markdown",
   "id": "ce824464-9f8f-41e3-897d-5744ad6ab616",
   "metadata": {},
   "source": [
    "F1 Score: makes a balance between precision and recall.\n",
    "\n",
    "In the most simple terms, higher F1 scores are generally better. It range from 0 to 1."
   ]
  },
  {
   "cell_type": "markdown",
   "id": "ae16214b-0943-411e-84a2-d85be15bbbd6",
   "metadata": {},
   "source": [
    "### ROC Curve"
   ]
  },
  {
   "cell_type": "markdown",
   "id": "b0df73d9-3f90-4c84-ae7d-745daf574af9",
   "metadata": {},
   "source": [
    "Receiver Operating Characteristic(ROC) curve is a plot of the true positive rate against the false positive rate. It shows the tradeoff between sensitivity and specificity."
   ]
  },
  {
   "cell_type": "code",
   "execution_count": 27,
   "id": "4dc45eda-9950-44d1-ba8f-974ac280d0ca",
   "metadata": {},
   "outputs": [
    {
     "data": {
      "image/png": "[encoded data removed]",
      "text/plain": [
       "<Figure size 640x480 with 1 Axes>"
      ]
     },
     "metadata": {},
     "output_type": "display_data"
    }
   ],
   "source": [
    "y_pred_proba = rf.predict_proba(val_xs)[:,1]\n",
    "fpr, tpr, _ = roc_curve(val_y,  y_pred_proba)\n",
    "auc = roc_auc_score(val_y, y_pred_proba)\n",
    "plt.plot(fpr,tpr,label=\"data 1, auc=\"+str(auc))\n",
    "plt.legend(loc=4)\n",
    "plt.show()"
   ]
  },
  {
   "cell_type": "markdown",
   "id": "509a0ebb-eb35-45e6-b929-313179e276e7",
   "metadata": {},
   "source": [
    "> AUC score for the case is 0.60. AUC score 1 represents a perfect classifier, and 0.5 represents a worthless classifier.\n",
    "> This is slighly better than the Logistic Regression"
   ]
  },
  {
   "cell_type": "markdown",
   "id": "71ae2dad-9a9c-4538-a591-5402be68bb7d",
   "metadata": {},
   "source": [
    "### Permutation Importance"
   ]
  },
  {
   "cell_type": "markdown",
   "id": "4a2f0456-1528-47b5-856d-892dac20b688",
   "metadata": {},
   "source": [
    "#### By Training Set"
   ]
  },
  {
   "cell_type": "code",
   "execution_count": 28,
   "id": "3ebd4690-82f8-4809-be7d-6a4702477900",
   "metadata": {},
   "outputs": [
    {
     "data": {
      "image/png": "[encoded data removed]",
      "text/plain": [
       "<Figure size 640x480 with 1 Axes>"
      ]
     },
     "metadata": {},
     "output_type": "display_data"
    }
   ],
   "source": [
    "rf_fi = permutation_importance(rf, trn_xs, trn_y)\n",
    "\n",
    "feature_importances = pd.Series(rf_fi['importances_mean'], index=trn_xs.columns).sort_values(ascending=False)\n",
    "feature_importances.plot.bar();"
   ]
  },
  {
   "cell_type": "markdown",
   "id": "c605d257-c2b3-4470-90ca-ce45f534389d",
   "metadata": {},
   "source": [
    "Where Y-axis is: Change in Mean Squared Error.\n",
    "\n",
    "The left most means, changing this features will result in the RMSE to increase (about 0.1 for EV).\n",
    "Meaning the model is highly dependent on these features.\n",
    "\n",
    "Zero means changing the feature does not affect the model much.\n",
    "\n",
    "X-axis is: Name of features in this model."
   ]
  },
  {
   "cell_type": "markdown",
   "id": "dbaa1307-1239-4881-a71f-e7afd044cbb6",
   "metadata": {},
   "source": [
    "#### By Validation Set"
   ]
  },
  {
   "cell_type": "code",
   "execution_count": 29,
   "id": "e1cf57b6-3777-4087-95e1-87d0dff249b9",
   "metadata": {},
   "outputs": [
    {
     "data": {
      "image/png": "[encoded data removed]",
      "text/plain": [
       "<Figure size 640x480 with 1 Axes>"
      ]
     },
     "metadata": {},
     "output_type": "display_data"
    }
   ],
   "source": [
    "rf_fi_val = permutation_importance(rf, val_xs, val_y)\n",
    "\n",
    "feature_importances = pd.Series(rf_fi_val['importances_mean'], index=val_xs.columns).sort_values(ascending=False)\n",
    "feature_importances.plot.bar();"
   ]
  },
  {
   "cell_type": "markdown",
   "id": "f3dffc54-7c2b-497f-9f68-089ed38a53fa",
   "metadata": {},
   "source": [
    "> Bear in mind that this model is not considered a good model by our Evaluation above (eg. AUC Score). So we cannot say for certain that the feature importance found above has a significant value to our conclusion. However we can still take it onto our consideration for further analysis."
   ]
  },
  {
   "cell_type": "markdown",
   "id": "18ff12bb-bc13-4941-a43c-0d4fb158a81a",
   "metadata": {},
   "source": [
    "> Also bear in mind, we get different result each time we refresh the code due to the randomness. However I found that EV is always on top of the other feature in importance."
   ]
  },
  {
   "cell_type": "markdown",
   "id": "41fd97a3-5a58-40bc-92a3-8853f1bbbfb0",
   "metadata": {},
   "source": [
    "#### Playground To Rerun"
   ]
  },
  {
   "cell_type": "code",
   "execution_count": 30,
   "id": "3c46f05c-5160-4f28-b4d4-b5a8eeb806f4",
   "metadata": {},
   "outputs": [
    {
     "data": {
      "image/png": "[encoded data removed]",
      "text/plain": [
       "<Figure size 640x480 with 1 Axes>"
      ]
     },
     "metadata": {},
     "output_type": "display_data"
    }
   ],
   "source": [
    "rf_fi_val = permutation_importance(rf, val_xs, val_y)\n",
    "\n",
    "feature_importances = pd.Series(rf_fi_val['importances_mean'], index=val_xs.columns).sort_values(ascending=False)\n",
    "feature_importances.plot.bar();"
   ]
  },
  {
   "cell_type": "markdown",
   "id": "77d7f9cc-4615-43e0-aedb-2c19ac511a7d",
   "metadata": {},
   "source": [
    "### Feature Importance"
   ]
  },
  {
   "cell_type": "code",
   "execution_count": 31,
   "id": "39d459cf-f70b-4556-899e-ba28de1f3c89",
   "metadata": {},
   "outputs": [
    {
     "data": {
      "image/png": "[encoded data removed]",
      "text/plain": [
       "<Figure size 640x480 with 1 Axes>"
      ]
     },
     "metadata": {},
     "output_type": "display_data"
    }
   ],
   "source": [
    "imp = rf.feature_importances_\n",
    "pd.DataFrame(dict(cols=trn_xs.columns, imp=imp)).sort_values(by='imp', ascending=True).plot('cols', 'imp', 'barh');"
   ]
  },
  {
   "cell_type": "markdown",
   "id": "fd2ac516-8781-410f-8959-8e47266d34e7",
   "metadata": {},
   "source": [
    "> The bottom three feature is what we were expecting from the histogram where the sample is very small for one side."
   ]
  },
  {
   "cell_type": "markdown",
   "id": "bedf1bde-130f-4983-89f3-fb82a5a3487d",
   "metadata": {},
   "source": [
    "### Visualizing the Results"
   ]
  },
  {
   "cell_type": "markdown",
   "id": "2c12ec97-c2c5-48d2-bec5-c19aecba289c",
   "metadata": {},
   "source": [
    "We can use the following code to visualize our first 3 trees."
   ]
  },
  {
   "cell_type": "code",
   "execution_count": 32,
   "id": "03f5e2db-363d-4907-8cfb-b39a00ca164b",
   "metadata": {},
   "outputs": [
    {
     "data": {
      "image/svg+xml": [
       "<?xml version=\"1.0\" encoding=\"UTF-8\" standalone=\"no\"?>\n",
       "<!DOCTYPE svg PUBLIC \"-//W3C//DTD SVG 1.1//EN\"\n",
       " \"http://www.w3.org/Graphics/SVG/1.1/DTD/svg11.dtd\">\n",
       "<!-- Generated by graphviz version 11.0.0 (0)\n",
       " -->\n",
       "<!-- Title: Tree Pages: 1 -->\n",
       "<svg width=\"626pt\" height=\"318pt\"\n",
       " viewBox=\"0.00 0.00 626.12 317.75\" xmlns=\"http://www.w3.org/2000/svg\" xmlns:xlink=\"http://www.w3.org/1999/xlink\">\n",
       "<g id=\"graph0\" class=\"graph\" transform=\"scale(1 1) rotate(0) translate(4 313.75)\">\n",
       "<title>Tree</title>\n",
       "<polygon fill=\"white\" stroke=\"none\" points=\"-4,4 -4,-313.75 622.12,-313.75 622.12,4 -4,4\"/>\n",
       "<!-- 0 -->\n",
       "<g id=\"node1\" class=\"node\">\n",
       "<title>0</title>\n",
       "<polygon fill=\"#d7ebfa\" stroke=\"black\" points=\"395.5,-309.75 249,-309.75 249,-254.5 395.5,-254.5 395.5,-309.75\"/>\n",
       "<text text-anchor=\"middle\" x=\"322.25\" y=\"-292.45\" font-family=\"Helvetica,sans-Serif\" font-size=\"14.00\">SV &lt;= 0.5</text>\n",
       "<text text-anchor=\"middle\" x=\"322.25\" y=\"-276.7\" font-family=\"Helvetica,sans-Serif\" font-size=\"14.00\">samples = 100.0%</text>\n",
       "<text text-anchor=\"middle\" x=\"322.25\" y=\"-260.95\" font-family=\"Helvetica,sans-Serif\" font-size=\"14.00\">value = [0.444, 0.556]</text>\n",
       "</g>\n",
       "<!-- 1 -->\n",
       "<g id=\"node2\" class=\"node\">\n",
       "<title>1</title>\n",
       "<polygon fill=\"#fcf2eb\" stroke=\"black\" points=\"312.5,-218.5 166,-218.5 166,-163.25 312.5,-163.25 312.5,-218.5\"/>\n",
       "<text text-anchor=\"middle\" x=\"239.25\" y=\"-201.2\" font-family=\"Helvetica,sans-Serif\" font-size=\"14.00\">Age &lt;= 16.5</text>\n",
       "<text text-anchor=\"middle\" x=\"239.25\" y=\"-185.45\" font-family=\"Helvetica,sans-Serif\" font-size=\"14.00\">samples = 52.4%</text>\n",
       "<text text-anchor=\"middle\" x=\"239.25\" y=\"-169.7\" font-family=\"Helvetica,sans-Serif\" font-size=\"14.00\">value = [0.526, 0.474]</text>\n",
       "</g>\n",
       "<!-- 0&#45;&gt;1 -->\n",
       "<g id=\"edge1\" class=\"edge\">\n",
       "<title>0&#45;&gt;1</title>\n",
       "<path fill=\"none\" stroke=\"black\" d=\"M297.35,-254.35C289.46,-245.86 280.61,-236.35 272.25,-227.36\"/>\n",
       "<polygon fill=\"black\" stroke=\"black\" points=\"274.83,-224.99 265.45,-220.05 269.7,-229.76 274.83,-224.99\"/>\n",
       "<text text-anchor=\"middle\" x=\"263.52\" y=\"-238.5\" font-family=\"Helvetica,sans-Serif\" font-size=\"14.00\">True</text>\n",
       "</g>\n",
       "<!-- 6 -->\n",
       "<g id=\"node7\" class=\"node\">\n",
       "<title>6</title>\n",
       "<polygon fill=\"#a5d2f3\" stroke=\"black\" points=\"478.5,-218.5 332,-218.5 332,-163.25 478.5,-163.25 478.5,-218.5\"/>\n",
       "<text text-anchor=\"middle\" x=\"405.25\" y=\"-201.2\" font-family=\"Helvetica,sans-Serif\" font-size=\"14.00\">Age &lt;= 17.5</text>\n",
       "<text text-anchor=\"middle\" x=\"405.25\" y=\"-185.45\" font-family=\"Helvetica,sans-Serif\" font-size=\"14.00\">samples = 47.6%</text>\n",
       "<text text-anchor=\"middle\" x=\"405.25\" y=\"-169.7\" font-family=\"Helvetica,sans-Serif\" font-size=\"14.00\">value = [0.353, 0.647]</text>\n",
       "</g>\n",
       "<!-- 0&#45;&gt;6 -->\n",
       "<g id=\"edge6\" class=\"edge\">\n",
       "<title>0&#45;&gt;6</title>\n",
       "<path fill=\"none\" stroke=\"black\" d=\"M347.15,-254.35C355.04,-245.86 363.89,-236.35 372.25,-227.36\"/>\n",
       "<polygon fill=\"black\" stroke=\"black\" points=\"374.8,-229.76 379.05,-220.05 369.67,-224.99 374.8,-229.76\"/>\n",
       "<text text-anchor=\"middle\" x=\"380.98\" y=\"-238.5\" font-family=\"Helvetica,sans-Serif\" font-size=\"14.00\">False</text>\n",
       "</g>\n",
       "<!-- 2 -->\n",
       "<g id=\"node3\" class=\"node\">\n",
       "<title>2</title>\n",
       "<polygon fill=\"#9ccef2\" stroke=\"black\" points=\"146.5,-119.38 0,-119.38 0,-79.88 146.5,-79.88 146.5,-119.38\"/>\n",
       "<text text-anchor=\"middle\" x=\"73.25\" y=\"-102.08\" font-family=\"Helvetica,sans-Serif\" font-size=\"14.00\">samples = 21.4%</text>\n",
       "<text text-anchor=\"middle\" x=\"73.25\" y=\"-86.33\" font-family=\"Helvetica,sans-Serif\" font-size=\"14.00\">value = [0.333, 0.667]</text>\n",
       "</g>\n",
       "<!-- 1&#45;&gt;2 -->\n",
       "<g id=\"edge2\" class=\"edge\">\n",
       "<title>1&#45;&gt;2</title>\n",
       "<path fill=\"none\" stroke=\"black\" d=\"M188.99,-162.85C166.67,-150.85 140.58,-136.83 118.83,-125.13\"/>\n",
       "<polygon fill=\"black\" stroke=\"black\" points=\"120.65,-122.14 110.19,-120.48 117.34,-128.3 120.65,-122.14\"/>\n",
       "</g>\n",
       "<!-- 3 -->\n",
       "<g id=\"node4\" class=\"node\">\n",
       "<title>3</title>\n",
       "<polygon fill=\"#f3c4a3\" stroke=\"black\" points=\"313.62,-127.25 164.88,-127.25 164.88,-72 313.62,-72 313.62,-127.25\"/>\n",
       "<text text-anchor=\"middle\" x=\"239.25\" y=\"-109.95\" font-family=\"Helvetica,sans-Serif\" font-size=\"14.00\">occupationnew &lt;= 1.5</text>\n",
       "<text text-anchor=\"middle\" x=\"239.25\" y=\"-94.2\" font-family=\"Helvetica,sans-Serif\" font-size=\"14.00\">samples = 31.0%</text>\n",
       "<text text-anchor=\"middle\" x=\"239.25\" y=\"-78.45\" font-family=\"Helvetica,sans-Serif\" font-size=\"14.00\">value = [0.652, 0.348]</text>\n",
       "</g>\n",
       "<!-- 1&#45;&gt;3 -->\n",
       "<g id=\"edge3\" class=\"edge\">\n",
       "<title>1&#45;&gt;3</title>\n",
       "<path fill=\"none\" stroke=\"black\" d=\"M239.25,-163.1C239.25,-155.58 239.25,-147.25 239.25,-139.18\"/>\n",
       "<polygon fill=\"black\" stroke=\"black\" points=\"242.75,-139.21 239.25,-129.21 235.75,-139.21 242.75,-139.21\"/>\n",
       "</g>\n",
       "<!-- 4 -->\n",
       "<g id=\"node5\" class=\"node\">\n",
       "<title>4</title>\n",
       "<polygon fill=\"#c0c0c0\" stroke=\"black\" points=\"223.25,-36 169.25,-36 169.25,0 223.25,0 223.25,-36\"/>\n",
       "<text text-anchor=\"middle\" x=\"196.25\" y=\"-12.57\" font-family=\"Helvetica,sans-Serif\" font-size=\"14.00\">(...)</text>\n",
       "</g>\n",
       "<!-- 3&#45;&gt;4 -->\n",
       "<g id=\"edge4\" class=\"edge\">\n",
       "<title>3&#45;&gt;4</title>\n",
       "<path fill=\"none\" stroke=\"black\" d=\"M224.69,-71.67C220.24,-63.42 215.34,-54.35 210.88,-46.09\"/>\n",
       "<polygon fill=\"black\" stroke=\"black\" points=\"214.08,-44.66 206.25,-37.52 207.93,-47.99 214.08,-44.66\"/>\n",
       "</g>\n",
       "<!-- 5 -->\n",
       "<g id=\"node6\" class=\"node\">\n",
       "<title>5</title>\n",
       "<polygon fill=\"#c0c0c0\" stroke=\"black\" points=\"295.25,-36 241.25,-36 241.25,0 295.25,0 295.25,-36\"/>\n",
       "<text text-anchor=\"middle\" x=\"268.25\" y=\"-12.57\" font-family=\"Helvetica,sans-Serif\" font-size=\"14.00\">(...)</text>\n",
       "</g>\n",
       "<!-- 3&#45;&gt;5 -->\n",
       "<g id=\"edge5\" class=\"edge\">\n",
       "<title>3&#45;&gt;5</title>\n",
       "<path fill=\"none\" stroke=\"black\" d=\"M249.07,-71.67C251.97,-63.69 255.16,-54.95 258.08,-46.92\"/>\n",
       "<polygon fill=\"black\" stroke=\"black\" points=\"261.34,-48.21 261.47,-37.61 254.76,-45.81 261.34,-48.21\"/>\n",
       "</g>\n",
       "<!-- 7 -->\n",
       "<g id=\"node8\" class=\"node\">\n",
       "<title>7</title>\n",
       "<polygon fill=\"#72b9ec\" stroke=\"black\" points=\"478.5,-127.25 332,-127.25 332,-72 478.5,-72 478.5,-127.25\"/>\n",
       "<text text-anchor=\"middle\" x=\"405.25\" y=\"-109.95\" font-family=\"Helvetica,sans-Serif\" font-size=\"14.00\">alcoholnew &lt;= 0.5</text>\n",
       "<text text-anchor=\"middle\" x=\"405.25\" y=\"-94.2\" font-family=\"Helvetica,sans-Serif\" font-size=\"14.00\">samples = 26.2%</text>\n",
       "<text text-anchor=\"middle\" x=\"405.25\" y=\"-78.45\" font-family=\"Helvetica,sans-Serif\" font-size=\"14.00\">value = [0.222, 0.778]</text>\n",
       "</g>\n",
       "<!-- 6&#45;&gt;7 -->\n",
       "<g id=\"edge7\" class=\"edge\">\n",
       "<title>6&#45;&gt;7</title>\n",
       "<path fill=\"none\" stroke=\"black\" d=\"M405.25,-163.1C405.25,-155.58 405.25,-147.25 405.25,-139.18\"/>\n",
       "<polygon fill=\"black\" stroke=\"black\" points=\"408.75,-139.21 405.25,-129.21 401.75,-139.21 408.75,-139.21\"/>\n",
       "</g>\n",
       "<!-- 10 -->\n",
       "<g id=\"node11\" class=\"node\">\n",
       "<title>10</title>\n",
       "<polygon fill=\"#ffffff\" stroke=\"black\" points=\"618.12,-119.38 496.38,-119.38 496.38,-79.88 618.12,-79.88 618.12,-119.38\"/>\n",
       "<text text-anchor=\"middle\" x=\"557.25\" y=\"-102.08\" font-family=\"Helvetica,sans-Serif\" font-size=\"14.00\">samples = 21.4%</text>\n",
       "<text text-anchor=\"middle\" x=\"557.25\" y=\"-86.33\" font-family=\"Helvetica,sans-Serif\" font-size=\"14.00\">value = [0.5, 0.5]</text>\n",
       "</g>\n",
       "<!-- 6&#45;&gt;10 -->\n",
       "<g id=\"edge10\" class=\"edge\">\n",
       "<title>6&#45;&gt;10</title>\n",
       "<path fill=\"none\" stroke=\"black\" d=\"M451.27,-162.85C471.6,-150.92 495.34,-136.98 515.19,-125.32\"/>\n",
       "<polygon fill=\"black\" stroke=\"black\" points=\"516.73,-128.48 523.58,-120.39 513.19,-122.44 516.73,-128.48\"/>\n",
       "</g>\n",
       "<!-- 8 -->\n",
       "<g id=\"node9\" class=\"node\">\n",
       "<title>8</title>\n",
       "<polygon fill=\"#c0c0c0\" stroke=\"black\" points=\"396.25,-36 342.25,-36 342.25,0 396.25,0 396.25,-36\"/>\n",
       "<text text-anchor=\"middle\" x=\"369.25\" y=\"-12.57\" font-family=\"Helvetica,sans-Serif\" font-size=\"14.00\">(...)</text>\n",
       "</g>\n",
       "<!-- 7&#45;&gt;8 -->\n",
       "<g id=\"edge8\" class=\"edge\">\n",
       "<title>7&#45;&gt;8</title>\n",
       "<path fill=\"none\" stroke=\"black\" d=\"M393.06,-71.67C389.42,-63.6 385.41,-54.75 381.75,-46.64\"/>\n",
       "<polygon fill=\"black\" stroke=\"black\" points=\"384.96,-45.24 377.65,-37.57 378.58,-48.12 384.96,-45.24\"/>\n",
       "</g>\n",
       "<!-- 9 -->\n",
       "<g id=\"node10\" class=\"node\">\n",
       "<title>9</title>\n",
       "<polygon fill=\"#c0c0c0\" stroke=\"black\" points=\"468.25,-36 414.25,-36 414.25,0 468.25,0 468.25,-36\"/>\n",
       "<text text-anchor=\"middle\" x=\"441.25\" y=\"-12.57\" font-family=\"Helvetica,sans-Serif\" font-size=\"14.00\">(...)</text>\n",
       "</g>\n",
       "<!-- 7&#45;&gt;9 -->\n",
       "<g id=\"edge9\" class=\"edge\">\n",
       "<title>7&#45;&gt;9</title>\n",
       "<path fill=\"none\" stroke=\"black\" d=\"M417.44,-71.67C421.08,-63.6 425.09,-54.75 428.75,-46.64\"/>\n",
       "<polygon fill=\"black\" stroke=\"black\" points=\"431.92,-48.12 432.85,-37.57 425.54,-45.24 431.92,-48.12\"/>\n",
       "</g>\n",
       "</g>\n",
       "</svg>\n"
      ],
      "text/plain": [
       "<graphviz.sources.Source at 0x1a1c7487dd0>"
      ]
     },
     "metadata": {},
     "output_type": "display_data"
    },
    {
     "data": {
      "image/svg+xml": [
       "<?xml version=\"1.0\" encoding=\"UTF-8\" standalone=\"no\"?>\n",
       "<!DOCTYPE svg PUBLIC \"-//W3C//DTD SVG 1.1//EN\"\n",
       " \"http://www.w3.org/Graphics/SVG/1.1/DTD/svg11.dtd\">\n",
       "<!-- Generated by graphviz version 11.0.0 (0)\n",
       " -->\n",
       "<!-- Title: Tree Pages: 1 -->\n",
       "<svg width=\"402pt\" height=\"318pt\"\n",
       " viewBox=\"0.00 0.00 401.50 317.75\" xmlns=\"http://www.w3.org/2000/svg\" xmlns:xlink=\"http://www.w3.org/1999/xlink\">\n",
       "<g id=\"graph0\" class=\"graph\" transform=\"scale(1 1) rotate(0) translate(4 313.75)\">\n",
       "<title>Tree</title>\n",
       "<polygon fill=\"white\" stroke=\"none\" points=\"-4,4 -4,-313.75 397.5,-313.75 397.5,4 -4,4\"/>\n",
       "<!-- 0 -->\n",
       "<g id=\"node1\" class=\"node\">\n",
       "<title>0</title>\n",
       "<polygon fill=\"#cfe7f9\" stroke=\"black\" points=\"229.62,-309.75 80.88,-309.75 80.88,-254.5 229.62,-254.5 229.62,-309.75\"/>\n",
       "<text text-anchor=\"middle\" x=\"155.25\" y=\"-292.45\" font-family=\"Helvetica,sans-Serif\" font-size=\"14.00\">occupationnew &lt;= 0.5</text>\n",
       "<text text-anchor=\"middle\" x=\"155.25\" y=\"-276.7\" font-family=\"Helvetica,sans-Serif\" font-size=\"14.00\">samples = 100.0%</text>\n",
       "<text text-anchor=\"middle\" x=\"155.25\" y=\"-260.95\" font-family=\"Helvetica,sans-Serif\" font-size=\"14.00\">value = [0.431, 0.569]</text>\n",
       "</g>\n",
       "<!-- 1 -->\n",
       "<g id=\"node2\" class=\"node\">\n",
       "<title>1</title>\n",
       "<polygon fill=\"#b0d8f5\" stroke=\"black\" points=\"146.5,-210.62 0,-210.62 0,-171.12 146.5,-171.12 146.5,-210.62\"/>\n",
       "<text text-anchor=\"middle\" x=\"73.25\" y=\"-193.32\" font-family=\"Helvetica,sans-Serif\" font-size=\"14.00\">samples = 11.4%</text>\n",
       "<text text-anchor=\"middle\" x=\"73.25\" y=\"-177.57\" font-family=\"Helvetica,sans-Serif\" font-size=\"14.00\">value = [0.375, 0.625]</text>\n",
       "</g>\n",
       "<!-- 0&#45;&gt;1 -->\n",
       "<g id=\"edge1\" class=\"edge\">\n",
       "<title>0&#45;&gt;1</title>\n",
       "<path fill=\"none\" stroke=\"black\" d=\"M130.65,-254.35C120.42,-243.22 108.57,-230.32 98.3,-219.14\"/>\n",
       "<polygon fill=\"black\" stroke=\"black\" points=\"101.17,-217.09 91.83,-212.09 96.02,-221.83 101.17,-217.09\"/>\n",
       "<text text-anchor=\"middle\" x=\"89.75\" y=\"-230.53\" font-family=\"Helvetica,sans-Serif\" font-size=\"14.00\">True</text>\n",
       "</g>\n",
       "<!-- 2 -->\n",
       "<g id=\"node3\" class=\"node\">\n",
       "<title>2</title>\n",
       "<polygon fill=\"#d3e9f9\" stroke=\"black\" points=\"311.5,-218.5 165,-218.5 165,-163.25 311.5,-163.25 311.5,-218.5\"/>\n",
       "<text text-anchor=\"middle\" x=\"238.25\" y=\"-201.2\" font-family=\"Helvetica,sans-Serif\" font-size=\"14.00\">alcoholnew &lt;= 1.5</text>\n",
       "<text text-anchor=\"middle\" x=\"238.25\" y=\"-185.45\" font-family=\"Helvetica,sans-Serif\" font-size=\"14.00\">samples = 88.6%</text>\n",
       "<text text-anchor=\"middle\" x=\"238.25\" y=\"-169.7\" font-family=\"Helvetica,sans-Serif\" font-size=\"14.00\">value = [0.438, 0.562]</text>\n",
       "</g>\n",
       "<!-- 0&#45;&gt;2 -->\n",
       "<g id=\"edge2\" class=\"edge\">\n",
       "<title>0&#45;&gt;2</title>\n",
       "<path fill=\"none\" stroke=\"black\" d=\"M180.15,-254.35C188.04,-245.86 196.89,-236.35 205.25,-227.36\"/>\n",
       "<polygon fill=\"black\" stroke=\"black\" points=\"207.8,-229.76 212.05,-220.05 202.67,-224.99 207.8,-229.76\"/>\n",
       "<text text-anchor=\"middle\" x=\"213.98\" y=\"-238.5\" font-family=\"Helvetica,sans-Serif\" font-size=\"14.00\">False</text>\n",
       "</g>\n",
       "<!-- 3 -->\n",
       "<g id=\"node4\" class=\"node\">\n",
       "<title>3</title>\n",
       "<polygon fill=\"#fcf0e7\" stroke=\"black\" points=\"228.5,-127.25 82,-127.25 82,-72 228.5,-72 228.5,-127.25\"/>\n",
       "<text text-anchor=\"middle\" x=\"155.25\" y=\"-109.95\" font-family=\"Helvetica,sans-Serif\" font-size=\"14.00\">CB &lt;= 0.5</text>\n",
       "<text text-anchor=\"middle\" x=\"155.25\" y=\"-94.2\" font-family=\"Helvetica,sans-Serif\" font-size=\"14.00\">samples = 65.9%</text>\n",
       "<text text-anchor=\"middle\" x=\"155.25\" y=\"-78.45\" font-family=\"Helvetica,sans-Serif\" font-size=\"14.00\">value = [0.532, 0.468]</text>\n",
       "</g>\n",
       "<!-- 2&#45;&gt;3 -->\n",
       "<g id=\"edge3\" class=\"edge\">\n",
       "<title>2&#45;&gt;3</title>\n",
       "<path fill=\"none\" stroke=\"black\" d=\"M213.35,-163.1C205.46,-154.61 196.61,-145.1 188.25,-136.11\"/>\n",
       "<polygon fill=\"black\" stroke=\"black\" points=\"190.83,-133.74 181.45,-128.8 185.7,-138.51 190.83,-133.74\"/>\n",
       "</g>\n",
       "<!-- 8 -->\n",
       "<g id=\"node7\" class=\"node\">\n",
       "<title>8</title>\n",
       "<polygon fill=\"#63b2eb\" stroke=\"black\" points=\"393.5,-119.38 247,-119.38 247,-79.88 393.5,-79.88 393.5,-119.38\"/>\n",
       "<text text-anchor=\"middle\" x=\"320.25\" y=\"-102.08\" font-family=\"Helvetica,sans-Serif\" font-size=\"14.00\">samples = 22.7%</text>\n",
       "<text text-anchor=\"middle\" x=\"320.25\" y=\"-86.33\" font-family=\"Helvetica,sans-Serif\" font-size=\"14.00\">value = [0.176, 0.824]</text>\n",
       "</g>\n",
       "<!-- 2&#45;&gt;8 -->\n",
       "<g id=\"edge6\" class=\"edge\">\n",
       "<title>2&#45;&gt;8</title>\n",
       "<path fill=\"none\" stroke=\"black\" d=\"M262.85,-163.1C273.08,-151.97 284.93,-139.07 295.2,-127.89\"/>\n",
       "<polygon fill=\"black\" stroke=\"black\" points=\"297.48,-130.58 301.67,-120.84 292.33,-125.84 297.48,-130.58\"/>\n",
       "</g>\n",
       "<!-- 4 -->\n",
       "<g id=\"node5\" class=\"node\">\n",
       "<title>4</title>\n",
       "<polygon fill=\"#c0c0c0\" stroke=\"black\" points=\"146.25,-36 92.25,-36 92.25,0 146.25,0 146.25,-36\"/>\n",
       "<text text-anchor=\"middle\" x=\"119.25\" y=\"-12.57\" font-family=\"Helvetica,sans-Serif\" font-size=\"14.00\">(...)</text>\n",
       "</g>\n",
       "<!-- 3&#45;&gt;4 -->\n",
       "<g id=\"edge4\" class=\"edge\">\n",
       "<title>3&#45;&gt;4</title>\n",
       "<path fill=\"none\" stroke=\"black\" d=\"M143.06,-71.67C139.42,-63.6 135.41,-54.75 131.75,-46.64\"/>\n",
       "<polygon fill=\"black\" stroke=\"black\" points=\"134.96,-45.24 127.65,-37.57 128.58,-48.12 134.96,-45.24\"/>\n",
       "</g>\n",
       "<!-- 5 -->\n",
       "<g id=\"node6\" class=\"node\">\n",
       "<title>5</title>\n",
       "<polygon fill=\"#c0c0c0\" stroke=\"black\" points=\"218.25,-36 164.25,-36 164.25,0 218.25,0 218.25,-36\"/>\n",
       "<text text-anchor=\"middle\" x=\"191.25\" y=\"-12.57\" font-family=\"Helvetica,sans-Serif\" font-size=\"14.00\">(...)</text>\n",
       "</g>\n",
       "<!-- 3&#45;&gt;5 -->\n",
       "<g id=\"edge5\" class=\"edge\">\n",
       "<title>3&#45;&gt;5</title>\n",
       "<path fill=\"none\" stroke=\"black\" d=\"M167.44,-71.67C171.08,-63.6 175.09,-54.75 178.75,-46.64\"/>\n",
       "<polygon fill=\"black\" stroke=\"black\" points=\"181.92,-48.12 182.85,-37.57 175.54,-45.24 181.92,-48.12\"/>\n",
       "</g>\n",
       "</g>\n",
       "</svg>\n"
      ],
      "text/plain": [
       "<graphviz.sources.Source at 0x1a1c743acd0>"
      ]
     },
     "metadata": {},
     "output_type": "display_data"
    },
    {
     "data": {
      "image/svg+xml": [
       "<?xml version=\"1.0\" encoding=\"UTF-8\" standalone=\"no\"?>\n",
       "<!DOCTYPE svg PUBLIC \"-//W3C//DTD SVG 1.1//EN\"\n",
       " \"http://www.w3.org/Graphics/SVG/1.1/DTD/svg11.dtd\">\n",
       "<!-- Generated by graphviz version 11.0.0 (0)\n",
       " -->\n",
       "<!-- Title: Tree Pages: 1 -->\n",
       "<svg width=\"600pt\" height=\"318pt\"\n",
       " viewBox=\"0.00 0.00 599.75 317.75\" xmlns=\"http://www.w3.org/2000/svg\" xmlns:xlink=\"http://www.w3.org/1999/xlink\">\n",
       "<g id=\"graph0\" class=\"graph\" transform=\"scale(1 1) rotate(0) translate(4 313.75)\">\n",
       "<title>Tree</title>\n",
       "<polygon fill=\"white\" stroke=\"none\" points=\"-4,4 -4,-313.75 595.75,-313.75 595.75,4 -4,4\"/>\n",
       "<!-- 0 -->\n",
       "<g id=\"node1\" class=\"node\">\n",
       "<title>0</title>\n",
       "<polygon fill=\"#f4fafe\" stroke=\"black\" points=\"376,-309.75 229.5,-309.75 229.5,-254.5 376,-254.5 376,-309.75\"/>\n",
       "<text text-anchor=\"middle\" x=\"302.75\" y=\"-292.45\" font-family=\"Helvetica,sans-Serif\" font-size=\"14.00\">educationnew &lt;= 0.5</text>\n",
       "<text text-anchor=\"middle\" x=\"302.75\" y=\"-276.7\" font-family=\"Helvetica,sans-Serif\" font-size=\"14.00\">samples = 100.0%</text>\n",
       "<text text-anchor=\"middle\" x=\"302.75\" y=\"-260.95\" font-family=\"Helvetica,sans-Serif\" font-size=\"14.00\">value = [0.486, 0.514]</text>\n",
       "</g>\n",
       "<!-- 1 -->\n",
       "<g id=\"node2\" class=\"node\">\n",
       "<title>1</title>\n",
       "<polygon fill=\"#f2c09c\" stroke=\"black\" points=\"294,-218.5 147.5,-218.5 147.5,-163.25 294,-163.25 294,-218.5\"/>\n",
       "<text text-anchor=\"middle\" x=\"220.75\" y=\"-201.2\" font-family=\"Helvetica,sans-Serif\" font-size=\"14.00\">Age &lt;= 20.5</text>\n",
       "<text text-anchor=\"middle\" x=\"220.75\" y=\"-185.45\" font-family=\"Helvetica,sans-Serif\" font-size=\"14.00\">samples = 38.6%</text>\n",
       "<text text-anchor=\"middle\" x=\"220.75\" y=\"-169.7\" font-family=\"Helvetica,sans-Serif\" font-size=\"14.00\">value = [0.667, 0.333]</text>\n",
       "</g>\n",
       "<!-- 0&#45;&gt;1 -->\n",
       "<g id=\"edge1\" class=\"edge\">\n",
       "<title>0&#45;&gt;1</title>\n",
       "<path fill=\"none\" stroke=\"black\" d=\"M278.15,-254.35C270.35,-245.86 261.61,-236.35 253.35,-227.36\"/>\n",
       "<polygon fill=\"black\" stroke=\"black\" points=\"255.99,-225.05 246.64,-220.06 250.83,-229.79 255.99,-225.05\"/>\n",
       "<text text-anchor=\"middle\" x=\"244.56\" y=\"-238.5\" font-family=\"Helvetica,sans-Serif\" font-size=\"14.00\">True</text>\n",
       "</g>\n",
       "<!-- 6 -->\n",
       "<g id=\"node7\" class=\"node\">\n",
       "<title>6</title>\n",
       "<polygon fill=\"#b1d8f5\" stroke=\"black\" points=\"459,-218.5 312.5,-218.5 312.5,-163.25 459,-163.25 459,-218.5\"/>\n",
       "<text text-anchor=\"middle\" x=\"385.75\" y=\"-201.2\" font-family=\"Helvetica,sans-Serif\" font-size=\"14.00\">EV &lt;= 0.5</text>\n",
       "<text text-anchor=\"middle\" x=\"385.75\" y=\"-185.45\" font-family=\"Helvetica,sans-Serif\" font-size=\"14.00\">samples = 61.4%</text>\n",
       "<text text-anchor=\"middle\" x=\"385.75\" y=\"-169.7\" font-family=\"Helvetica,sans-Serif\" font-size=\"14.00\">value = [0.378, 0.622]</text>\n",
       "</g>\n",
       "<!-- 0&#45;&gt;6 -->\n",
       "<g id=\"edge6\" class=\"edge\">\n",
       "<title>0&#45;&gt;6</title>\n",
       "<path fill=\"none\" stroke=\"black\" d=\"M327.65,-254.35C335.54,-245.86 344.39,-236.35 352.75,-227.36\"/>\n",
       "<polygon fill=\"black\" stroke=\"black\" points=\"355.3,-229.76 359.55,-220.05 350.17,-224.99 355.3,-229.76\"/>\n",
       "<text text-anchor=\"middle\" x=\"361.48\" y=\"-238.5\" font-family=\"Helvetica,sans-Serif\" font-size=\"14.00\">False</text>\n",
       "</g>\n",
       "<!-- 2 -->\n",
       "<g id=\"node3\" class=\"node\">\n",
       "<title>2</title>\n",
       "<polygon fill=\"#eeab7b\" stroke=\"black\" points=\"131.5,-127.25 0,-127.25 0,-72 131.5,-72 131.5,-127.25\"/>\n",
       "<text text-anchor=\"middle\" x=\"65.75\" y=\"-109.95\" font-family=\"Helvetica,sans-Serif\" font-size=\"14.00\">alcoholnew &lt;= 0.5</text>\n",
       "<text text-anchor=\"middle\" x=\"65.75\" y=\"-94.2\" font-family=\"Helvetica,sans-Serif\" font-size=\"14.00\">samples = 27.3%</text>\n",
       "<text text-anchor=\"middle\" x=\"65.75\" y=\"-78.45\" font-family=\"Helvetica,sans-Serif\" font-size=\"14.00\">value = [0.75, 0.25]</text>\n",
       "</g>\n",
       "<!-- 1&#45;&gt;2 -->\n",
       "<g id=\"edge2\" class=\"edge\">\n",
       "<title>1&#45;&gt;2</title>\n",
       "<path fill=\"none\" stroke=\"black\" d=\"M173.82,-162.85C157.66,-153.55 139.39,-143.02 122.52,-133.31\"/>\n",
       "<polygon fill=\"black\" stroke=\"black\" points=\"124.51,-130.42 114.1,-128.46 121.01,-136.49 124.51,-130.42\"/>\n",
       "</g>\n",
       "<!-- 5 -->\n",
       "<g id=\"node6\" class=\"node\">\n",
       "<title>5</title>\n",
       "<polygon fill=\"#cee6f8\" stroke=\"black\" points=\"296,-119.38 149.5,-119.38 149.5,-79.88 296,-79.88 296,-119.38\"/>\n",
       "<text text-anchor=\"middle\" x=\"222.75\" y=\"-102.08\" font-family=\"Helvetica,sans-Serif\" font-size=\"14.00\">samples = 11.4%</text>\n",
       "<text text-anchor=\"middle\" x=\"222.75\" y=\"-86.33\" font-family=\"Helvetica,sans-Serif\" font-size=\"14.00\">value = [0.429, 0.571]</text>\n",
       "</g>\n",
       "<!-- 1&#45;&gt;5 -->\n",
       "<g id=\"edge5\" class=\"edge\">\n",
       "<title>1&#45;&gt;5</title>\n",
       "<path fill=\"none\" stroke=\"black\" d=\"M221.35,-163.1C221.58,-153.06 221.83,-141.58 222.06,-131.22\"/>\n",
       "<polygon fill=\"black\" stroke=\"black\" points=\"225.56,-131.32 222.29,-121.24 218.56,-131.16 225.56,-131.32\"/>\n",
       "</g>\n",
       "<!-- 3 -->\n",
       "<g id=\"node4\" class=\"node\">\n",
       "<title>3</title>\n",
       "<polygon fill=\"#c0c0c0\" stroke=\"black\" points=\"56.75,-36 2.75,-36 2.75,0 56.75,0 56.75,-36\"/>\n",
       "<text text-anchor=\"middle\" x=\"29.75\" y=\"-12.57\" font-family=\"Helvetica,sans-Serif\" font-size=\"14.00\">(...)</text>\n",
       "</g>\n",
       "<!-- 2&#45;&gt;3 -->\n",
       "<g id=\"edge3\" class=\"edge\">\n",
       "<title>2&#45;&gt;3</title>\n",
       "<path fill=\"none\" stroke=\"black\" d=\"M53.56,-71.67C49.92,-63.6 45.91,-54.75 42.25,-46.64\"/>\n",
       "<polygon fill=\"black\" stroke=\"black\" points=\"45.46,-45.24 38.15,-37.57 39.08,-48.12 45.46,-45.24\"/>\n",
       "</g>\n",
       "<!-- 4 -->\n",
       "<g id=\"node5\" class=\"node\">\n",
       "<title>4</title>\n",
       "<polygon fill=\"#c0c0c0\" stroke=\"black\" points=\"128.75,-36 74.75,-36 74.75,0 128.75,0 128.75,-36\"/>\n",
       "<text text-anchor=\"middle\" x=\"101.75\" y=\"-12.57\" font-family=\"Helvetica,sans-Serif\" font-size=\"14.00\">(...)</text>\n",
       "</g>\n",
       "<!-- 2&#45;&gt;4 -->\n",
       "<g id=\"edge4\" class=\"edge\">\n",
       "<title>2&#45;&gt;4</title>\n",
       "<path fill=\"none\" stroke=\"black\" d=\"M77.94,-71.67C81.58,-63.6 85.59,-54.75 89.25,-46.64\"/>\n",
       "<polygon fill=\"black\" stroke=\"black\" points=\"92.42,-48.12 93.35,-37.57 86.04,-45.24 92.42,-48.12\"/>\n",
       "</g>\n",
       "<!-- 7 -->\n",
       "<g id=\"node8\" class=\"node\">\n",
       "<title>7</title>\n",
       "<polygon fill=\"#fdf5f0\" stroke=\"black\" points=\"449.5,-127.25 318,-127.25 318,-72 449.5,-72 449.5,-127.25\"/>\n",
       "<text text-anchor=\"middle\" x=\"383.75\" y=\"-109.95\" font-family=\"Helvetica,sans-Serif\" font-size=\"14.00\">Age &lt;= 16.5</text>\n",
       "<text text-anchor=\"middle\" x=\"383.75\" y=\"-94.2\" font-family=\"Helvetica,sans-Serif\" font-size=\"14.00\">samples = 29.5%</text>\n",
       "<text text-anchor=\"middle\" x=\"383.75\" y=\"-78.45\" font-family=\"Helvetica,sans-Serif\" font-size=\"14.00\">value = [0.52, 0.48]</text>\n",
       "</g>\n",
       "<!-- 6&#45;&gt;7 -->\n",
       "<g id=\"edge7\" class=\"edge\">\n",
       "<title>6&#45;&gt;7</title>\n",
       "<path fill=\"none\" stroke=\"black\" d=\"M385.15,-163.1C384.98,-155.58 384.79,-147.25 384.61,-139.18\"/>\n",
       "<polygon fill=\"black\" stroke=\"black\" points=\"388.11,-139.12 384.39,-129.21 381.12,-139.28 388.11,-139.12\"/>\n",
       "</g>\n",
       "<!-- 10 -->\n",
       "<g id=\"node11\" class=\"node\">\n",
       "<title>10</title>\n",
       "<polygon fill=\"#6ab6ec\" stroke=\"black\" points=\"589.62,-127.25 467.88,-127.25 467.88,-72 589.62,-72 589.62,-127.25\"/>\n",
       "<text text-anchor=\"middle\" x=\"528.75\" y=\"-109.95\" font-family=\"Helvetica,sans-Serif\" font-size=\"14.00\">PV &lt;= 0.5</text>\n",
       "<text text-anchor=\"middle\" x=\"528.75\" y=\"-94.2\" font-family=\"Helvetica,sans-Serif\" font-size=\"14.00\">samples = 31.8%</text>\n",
       "<text text-anchor=\"middle\" x=\"528.75\" y=\"-78.45\" font-family=\"Helvetica,sans-Serif\" font-size=\"14.00\">value = [0.2, 0.8]</text>\n",
       "</g>\n",
       "<!-- 6&#45;&gt;10 -->\n",
       "<g id=\"edge10\" class=\"edge\">\n",
       "<title>6&#45;&gt;10</title>\n",
       "<path fill=\"none\" stroke=\"black\" d=\"M429.04,-162.85C443.88,-153.59 460.65,-143.13 476.15,-133.45\"/>\n",
       "<polygon fill=\"black\" stroke=\"black\" points=\"477.69,-136.62 484.32,-128.35 473.98,-130.68 477.69,-136.62\"/>\n",
       "</g>\n",
       "<!-- 8 -->\n",
       "<g id=\"node9\" class=\"node\">\n",
       "<title>8</title>\n",
       "<polygon fill=\"#c0c0c0\" stroke=\"black\" points=\"356.75,-36 302.75,-36 302.75,0 356.75,0 356.75,-36\"/>\n",
       "<text text-anchor=\"middle\" x=\"329.75\" y=\"-12.57\" font-family=\"Helvetica,sans-Serif\" font-size=\"14.00\">(...)</text>\n",
       "</g>\n",
       "<!-- 7&#45;&gt;8 -->\n",
       "<g id=\"edge8\" class=\"edge\">\n",
       "<title>7&#45;&gt;8</title>\n",
       "<path fill=\"none\" stroke=\"black\" d=\"M365.47,-71.67C359.75,-63.24 353.45,-53.94 347.75,-45.54\"/>\n",
       "<polygon fill=\"black\" stroke=\"black\" points=\"350.77,-43.76 342.26,-37.44 344.97,-47.69 350.77,-43.76\"/>\n",
       "</g>\n",
       "<!-- 9 -->\n",
       "<g id=\"node10\" class=\"node\">\n",
       "<title>9</title>\n",
       "<polygon fill=\"#c0c0c0\" stroke=\"black\" points=\"428.75,-36 374.75,-36 374.75,0 428.75,0 428.75,-36\"/>\n",
       "<text text-anchor=\"middle\" x=\"401.75\" y=\"-12.57\" font-family=\"Helvetica,sans-Serif\" font-size=\"14.00\">(...)</text>\n",
       "</g>\n",
       "<!-- 7&#45;&gt;9 -->\n",
       "<g id=\"edge9\" class=\"edge\">\n",
       "<title>7&#45;&gt;9</title>\n",
       "<path fill=\"none\" stroke=\"black\" d=\"M389.84,-71.67C391.63,-63.79 393.58,-55.15 395.38,-47.2\"/>\n",
       "<polygon fill=\"black\" stroke=\"black\" points=\"398.74,-48.19 397.53,-37.67 391.91,-46.65 398.74,-48.19\"/>\n",
       "</g>\n",
       "<!-- 11 -->\n",
       "<g id=\"node12\" class=\"node\">\n",
       "<title>11</title>\n",
       "<polygon fill=\"#c0c0c0\" stroke=\"black\" points=\"519.75,-36 465.75,-36 465.75,0 519.75,0 519.75,-36\"/>\n",
       "<text text-anchor=\"middle\" x=\"492.75\" y=\"-12.57\" font-family=\"Helvetica,sans-Serif\" font-size=\"14.00\">(...)</text>\n",
       "</g>\n",
       "<!-- 10&#45;&gt;11 -->\n",
       "<g id=\"edge11\" class=\"edge\">\n",
       "<title>10&#45;&gt;11</title>\n",
       "<path fill=\"none\" stroke=\"black\" d=\"M516.56,-71.67C512.92,-63.6 508.91,-54.75 505.25,-46.64\"/>\n",
       "<polygon fill=\"black\" stroke=\"black\" points=\"508.46,-45.24 501.15,-37.57 502.08,-48.12 508.46,-45.24\"/>\n",
       "</g>\n",
       "<!-- 12 -->\n",
       "<g id=\"node13\" class=\"node\">\n",
       "<title>12</title>\n",
       "<polygon fill=\"#c0c0c0\" stroke=\"black\" points=\"591.75,-36 537.75,-36 537.75,0 591.75,0 591.75,-36\"/>\n",
       "<text text-anchor=\"middle\" x=\"564.75\" y=\"-12.57\" font-family=\"Helvetica,sans-Serif\" font-size=\"14.00\">(...)</text>\n",
       "</g>\n",
       "<!-- 10&#45;&gt;12 -->\n",
       "<g id=\"edge12\" class=\"edge\">\n",
       "<title>10&#45;&gt;12</title>\n",
       "<path fill=\"none\" stroke=\"black\" d=\"M540.94,-71.67C544.58,-63.6 548.59,-54.75 552.25,-46.64\"/>\n",
       "<polygon fill=\"black\" stroke=\"black\" points=\"555.42,-48.12 556.35,-37.57 549.04,-45.24 555.42,-48.12\"/>\n",
       "</g>\n",
       "</g>\n",
       "</svg>\n"
      ],
      "text/plain": [
       "<graphviz.sources.Source at 0x1a1c7487dd0>"
      ]
     },
     "metadata": {},
     "output_type": "display_data"
    }
   ],
   "source": [
    "# Export the first three decision trees from the forest\n",
    "\n",
    "for i in range(3):\n",
    "    tree = rf.estimators_[i]\n",
    "    dot_data = export_graphviz(tree,\n",
    "                               feature_names=trn_xs.columns,  \n",
    "                               filled=True,  \n",
    "                               max_depth=2, \n",
    "                               impurity=False, \n",
    "                               proportion=True)\n",
    "    graph = graphviz.Source(dot_data)\n",
    "    display(graph)"
   ]
  },
  {
   "cell_type": "markdown",
   "id": "11ec496a-f104-4fbd-9305-4d120931264d",
   "metadata": {},
   "source": [
    "## Hyperparameter Tuning"
   ]
  },
  {
   "cell_type": "code",
   "execution_count": 33,
   "id": "38e04d7f-1b0e-4582-9fba-083ca8f72cfd",
   "metadata": {},
   "outputs": [
    {
     "data": {
      "text/html": [
       "<style>#sk-container-id-1 {\n",
       "  /* Definition of color scheme common for light and dark mode */\n",
       "  --sklearn-color-text: black;\n",
       "  --sklearn-color-line: gray;\n",
       "  /* Definition of color scheme for unfitted estimators */\n",
       "  --sklearn-color-unfitted-level-0: #fff5e6;\n",
       "  --sklearn-color-unfitted-level-1: #f6e4d2;\n",
       "  --sklearn-color-unfitted-level-2: #ffe0b3;\n",
       "  --sklearn-color-unfitted-level-3: chocolate;\n",
       "  /* Definition of color scheme for fitted estimators */\n",
       "  --sklearn-color-fitted-level-0: #f0f8ff;\n",
       "  --sklearn-color-fitted-level-1: #d4ebff;\n",
       "  --sklearn-color-fitted-level-2: #b3dbfd;\n",
       "  --sklearn-color-fitted-level-3: cornflowerblue;\n",
       "\n",
       "  /* Specific color for light theme */\n",
       "  --sklearn-color-text-on-default-background: var(--sg-text-color, var(--theme-code-foreground, var(--jp-content-font-color1, black)));\n",
       "  --sklearn-color-background: var(--sg-background-color, var(--theme-background, var(--jp-layout-color0, white)));\n",
       "  --sklearn-color-border-box: var(--sg-text-color, var(--theme-code-foreground, var(--jp-content-font-color1, black)));\n",
       "  --sklearn-color-icon: #696969;\n",
       "\n",
       "  @media (prefers-color-scheme: dark) {\n",
       "    /* Redefinition of color scheme for dark theme */\n",
       "    --sklearn-color-text-on-default-background: var(--sg-text-color, var(--theme-code-foreground, var(--jp-content-font-color1, white)));\n",
       "    --sklearn-color-background: var(--sg-background-color, var(--theme-background, var(--jp-layout-color0, #111)));\n",
       "    --sklearn-color-border-box: var(--sg-text-color, var(--theme-code-foreground, var(--jp-content-font-color1, white)));\n",
       "    --sklearn-color-icon: #878787;\n",
       "  }\n",
       "}\n",
       "\n",
       "#sk-container-id-1 {\n",
       "  color: var(--sklearn-color-text);\n",
       "}\n",
       "\n",
       "#sk-container-id-1 pre {\n",
       "  padding: 0;\n",
       "}\n",
       "\n",
       "#sk-container-id-1 input.sk-hidden--visually {\n",
       "  border: 0;\n",
       "  clip: rect(1px 1px 1px 1px);\n",
       "  clip: rect(1px, 1px, 1px, 1px);\n",
       "  height: 1px;\n",
       "  margin: -1px;\n",
       "  overflow: hidden;\n",
       "  padding: 0;\n",
       "  position: absolute;\n",
       "  width: 1px;\n",
       "}\n",
       "\n",
       "#sk-container-id-1 div.sk-dashed-wrapped {\n",
       "  border: 1px dashed var(--sklearn-color-line);\n",
       "  margin: 0 0.4em 0.5em 0.4em;\n",
       "  box-sizing: border-box;\n",
       "  padding-bottom: 0.4em;\n",
       "  background-color: var(--sklearn-color-background);\n",
       "}\n",
       "\n",
       "#sk-container-id-1 div.sk-container {\n",
       "  /* jupyter's `normalize.less` sets `[hidden] { display: none; }`\n",
       "     but bootstrap.min.css set `[hidden] { display: none !important; }`\n",
       "     so we also need the `!important` here to be able to override the\n",
       "     default hidden behavior on the sphinx rendered scikit-learn.org.\n",
       "     See: https://github.com/scikit-learn/scikit-learn/issues/21755 */\n",
       "  display: inline-block !important;\n",
       "  position: relative;\n",
       "}\n",
       "\n",
       "#sk-container-id-1 div.sk-text-repr-fallback {\n",
       "  display: none;\n",
       "}\n",
       "\n",
       "div.sk-parallel-item,\n",
       "div.sk-serial,\n",
       "div.sk-item {\n",
       "  /* draw centered vertical line to link estimators */\n",
       "  background-image: linear-gradient(var(--sklearn-color-text-on-default-background), var(--sklearn-color-text-on-default-background));\n",
       "  background-size: 2px 100%;\n",
       "  background-repeat: no-repeat;\n",
       "  background-position: center center;\n",
       "}\n",
       "\n",
       "/* Parallel-specific style estimator block */\n",
       "\n",
       "#sk-container-id-1 div.sk-parallel-item::after {\n",
       "  content: \"\";\n",
       "  width: 100%;\n",
       "  border-bottom: 2px solid var(--sklearn-color-text-on-default-background);\n",
       "  flex-grow: 1;\n",
       "}\n",
       "\n",
       "#sk-container-id-1 div.sk-parallel {\n",
       "  display: flex;\n",
       "  align-items: stretch;\n",
       "  justify-content: center;\n",
       "  background-color: var(--sklearn-color-background);\n",
       "  position: relative;\n",
       "}\n",
       "\n",
       "#sk-container-id-1 div.sk-parallel-item {\n",
       "  display: flex;\n",
       "  flex-direction: column;\n",
       "}\n",
       "\n",
       "#sk-container-id-1 div.sk-parallel-item:first-child::after {\n",
       "  align-self: flex-end;\n",
       "  width: 50%;\n",
       "}\n",
       "\n",
       "#sk-container-id-1 div.sk-parallel-item:last-child::after {\n",
       "  align-self: flex-start;\n",
       "  width: 50%;\n",
       "}\n",
       "\n",
       "#sk-container-id-1 div.sk-parallel-item:only-child::after {\n",
       "  width: 0;\n",
       "}\n",
       "\n",
       "/* Serial-specific style estimator block */\n",
       "\n",
       "#sk-container-id-1 div.sk-serial {\n",
       "  display: flex;\n",
       "  flex-direction: column;\n",
       "  align-items: center;\n",
       "  background-color: var(--sklearn-color-background);\n",
       "  padding-right: 1em;\n",
       "  padding-left: 1em;\n",
       "}\n",
       "\n",
       "\n",
       "/* Toggleable style: style used for estimator/Pipeline/ColumnTransformer box that is\n",
       "clickable and can be expanded/collapsed.\n",
       "- Pipeline and ColumnTransformer use this feature and define the default style\n",
       "- Estimators will overwrite some part of the style using the `sk-estimator` class\n",
       "*/\n",
       "\n",
       "/* Pipeline and ColumnTransformer style (default) */\n",
       "\n",
       "#sk-container-id-1 div.sk-toggleable {\n",
       "  /* Default theme specific background. It is overwritten whether we have a\n",
       "  specific estimator or a Pipeline/ColumnTransformer */\n",
       "  background-color: var(--sklearn-color-background);\n",
       "}\n",
       "\n",
       "/* Toggleable label */\n",
       "#sk-container-id-1 label.sk-toggleable__label {\n",
       "  cursor: pointer;\n",
       "  display: block;\n",
       "  width: 100%;\n",
       "  margin-bottom: 0;\n",
       "  padding: 0.5em;\n",
       "  box-sizing: border-box;\n",
       "  text-align: center;\n",
       "}\n",
       "\n",
       "#sk-container-id-1 label.sk-toggleable__label-arrow:before {\n",
       "  /* Arrow on the left of the label */\n",
       "  content: \"▸\";\n",
       "  float: left;\n",
       "  margin-right: 0.25em;\n",
       "  color: var(--sklearn-color-icon);\n",
       "}\n",
       "\n",
       "#sk-container-id-1 label.sk-toggleable__label-arrow:hover:before {\n",
       "  color: var(--sklearn-color-text);\n",
       "}\n",
       "\n",
       "/* Toggleable content - dropdown */\n",
       "\n",
       "#sk-container-id-1 div.sk-toggleable__content {\n",
       "  max-height: 0;\n",
       "  max-width: 0;\n",
       "  overflow: hidden;\n",
       "  text-align: left;\n",
       "  /* unfitted */\n",
       "  background-color: var(--sklearn-color-unfitted-level-0);\n",
       "}\n",
       "\n",
       "#sk-container-id-1 div.sk-toggleable__content.fitted {\n",
       "  /* fitted */\n",
       "  background-color: var(--sklearn-color-fitted-level-0);\n",
       "}\n",
       "\n",
       "#sk-container-id-1 div.sk-toggleable__content pre {\n",
       "  margin: 0.2em;\n",
       "  border-radius: 0.25em;\n",
       "  color: var(--sklearn-color-text);\n",
       "  /* unfitted */\n",
       "  background-color: var(--sklearn-color-unfitted-level-0);\n",
       "}\n",
       "\n",
       "#sk-container-id-1 div.sk-toggleable__content.fitted pre {\n",
       "  /* unfitted */\n",
       "  background-color: var(--sklearn-color-fitted-level-0);\n",
       "}\n",
       "\n",
       "#sk-container-id-1 input.sk-toggleable__control:checked~div.sk-toggleable__content {\n",
       "  /* Expand drop-down */\n",
       "  max-height: 200px;\n",
       "  max-width: 100%;\n",
       "  overflow: auto;\n",
       "}\n",
       "\n",
       "#sk-container-id-1 input.sk-toggleable__control:checked~label.sk-toggleable__label-arrow:before {\n",
       "  content: \"▾\";\n",
       "}\n",
       "\n",
       "/* Pipeline/ColumnTransformer-specific style */\n",
       "\n",
       "#sk-container-id-1 div.sk-label input.sk-toggleable__control:checked~label.sk-toggleable__label {\n",
       "  color: var(--sklearn-color-text);\n",
       "  background-color: var(--sklearn-color-unfitted-level-2);\n",
       "}\n",
       "\n",
       "#sk-container-id-1 div.sk-label.fitted input.sk-toggleable__control:checked~label.sk-toggleable__label {\n",
       "  background-color: var(--sklearn-color-fitted-level-2);\n",
       "}\n",
       "\n",
       "/* Estimator-specific style */\n",
       "\n",
       "/* Colorize estimator box */\n",
       "#sk-container-id-1 div.sk-estimator input.sk-toggleable__control:checked~label.sk-toggleable__label {\n",
       "  /* unfitted */\n",
       "  background-color: var(--sklearn-color-unfitted-level-2);\n",
       "}\n",
       "\n",
       "#sk-container-id-1 div.sk-estimator.fitted input.sk-toggleable__control:checked~label.sk-toggleable__label {\n",
       "  /* fitted */\n",
       "  background-color: var(--sklearn-color-fitted-level-2);\n",
       "}\n",
       "\n",
       "#sk-container-id-1 div.sk-label label.sk-toggleable__label,\n",
       "#sk-container-id-1 div.sk-label label {\n",
       "  /* The background is the default theme color */\n",
       "  color: var(--sklearn-color-text-on-default-background);\n",
       "}\n",
       "\n",
       "/* On hover, darken the color of the background */\n",
       "#sk-container-id-1 div.sk-label:hover label.sk-toggleable__label {\n",
       "  color: var(--sklearn-color-text);\n",
       "  background-color: var(--sklearn-color-unfitted-level-2);\n",
       "}\n",
       "\n",
       "/* Label box, darken color on hover, fitted */\n",
       "#sk-container-id-1 div.sk-label.fitted:hover label.sk-toggleable__label.fitted {\n",
       "  color: var(--sklearn-color-text);\n",
       "  background-color: var(--sklearn-color-fitted-level-2);\n",
       "}\n",
       "\n",
       "/* Estimator label */\n",
       "\n",
       "#sk-container-id-1 div.sk-label label {\n",
       "  font-family: monospace;\n",
       "  font-weight: bold;\n",
       "  display: inline-block;\n",
       "  line-height: 1.2em;\n",
       "}\n",
       "\n",
       "#sk-container-id-1 div.sk-label-container {\n",
       "  text-align: center;\n",
       "}\n",
       "\n",
       "/* Estimator-specific */\n",
       "#sk-container-id-1 div.sk-estimator {\n",
       "  font-family: monospace;\n",
       "  border: 1px dotted var(--sklearn-color-border-box);\n",
       "  border-radius: 0.25em;\n",
       "  box-sizing: border-box;\n",
       "  margin-bottom: 0.5em;\n",
       "  /* unfitted */\n",
       "  background-color: var(--sklearn-color-unfitted-level-0);\n",
       "}\n",
       "\n",
       "#sk-container-id-1 div.sk-estimator.fitted {\n",
       "  /* fitted */\n",
       "  background-color: var(--sklearn-color-fitted-level-0);\n",
       "}\n",
       "\n",
       "/* on hover */\n",
       "#sk-container-id-1 div.sk-estimator:hover {\n",
       "  /* unfitted */\n",
       "  background-color: var(--sklearn-color-unfitted-level-2);\n",
       "}\n",
       "\n",
       "#sk-container-id-1 div.sk-estimator.fitted:hover {\n",
       "  /* fitted */\n",
       "  background-color: var(--sklearn-color-fitted-level-2);\n",
       "}\n",
       "\n",
       "/* Specification for estimator info (e.g. \"i\" and \"?\") */\n",
       "\n",
       "/* Common style for \"i\" and \"?\" */\n",
       "\n",
       ".sk-estimator-doc-link,\n",
       "a:link.sk-estimator-doc-link,\n",
       "a:visited.sk-estimator-doc-link {\n",
       "  float: right;\n",
       "  font-size: smaller;\n",
       "  line-height: 1em;\n",
       "  font-family: monospace;\n",
       "  background-color: var(--sklearn-color-background);\n",
       "  border-radius: 1em;\n",
       "  height: 1em;\n",
       "  width: 1em;\n",
       "  text-decoration: none !important;\n",
       "  margin-left: 1ex;\n",
       "  /* unfitted */\n",
       "  border: var(--sklearn-color-unfitted-level-1) 1pt solid;\n",
       "  color: var(--sklearn-color-unfitted-level-1);\n",
       "}\n",
       "\n",
       ".sk-estimator-doc-link.fitted,\n",
       "a:link.sk-estimator-doc-link.fitted,\n",
       "a:visited.sk-estimator-doc-link.fitted {\n",
       "  /* fitted */\n",
       "  border: var(--sklearn-color-fitted-level-1) 1pt solid;\n",
       "  color: var(--sklearn-color-fitted-level-1);\n",
       "}\n",
       "\n",
       "/* On hover */\n",
       "div.sk-estimator:hover .sk-estimator-doc-link:hover,\n",
       ".sk-estimator-doc-link:hover,\n",
       "div.sk-label-container:hover .sk-estimator-doc-link:hover,\n",
       ".sk-estimator-doc-link:hover {\n",
       "  /* unfitted */\n",
       "  background-color: var(--sklearn-color-unfitted-level-3);\n",
       "  color: var(--sklearn-color-background);\n",
       "  text-decoration: none;\n",
       "}\n",
       "\n",
       "div.sk-estimator.fitted:hover .sk-estimator-doc-link.fitted:hover,\n",
       ".sk-estimator-doc-link.fitted:hover,\n",
       "div.sk-label-container:hover .sk-estimator-doc-link.fitted:hover,\n",
       ".sk-estimator-doc-link.fitted:hover {\n",
       "  /* fitted */\n",
       "  background-color: var(--sklearn-color-fitted-level-3);\n",
       "  color: var(--sklearn-color-background);\n",
       "  text-decoration: none;\n",
       "}\n",
       "\n",
       "/* Span, style for the box shown on hovering the info icon */\n",
       ".sk-estimator-doc-link span {\n",
       "  display: none;\n",
       "  z-index: 9999;\n",
       "  position: relative;\n",
       "  font-weight: normal;\n",
       "  right: .2ex;\n",
       "  padding: .5ex;\n",
       "  margin: .5ex;\n",
       "  width: min-content;\n",
       "  min-width: 20ex;\n",
       "  max-width: 50ex;\n",
       "  color: var(--sklearn-color-text);\n",
       "  box-shadow: 2pt 2pt 4pt #999;\n",
       "  /* unfitted */\n",
       "  background: var(--sklearn-color-unfitted-level-0);\n",
       "  border: .5pt solid var(--sklearn-color-unfitted-level-3);\n",
       "}\n",
       "\n",
       ".sk-estimator-doc-link.fitted span {\n",
       "  /* fitted */\n",
       "  background: var(--sklearn-color-fitted-level-0);\n",
       "  border: var(--sklearn-color-fitted-level-3);\n",
       "}\n",
       "\n",
       ".sk-estimator-doc-link:hover span {\n",
       "  display: block;\n",
       "}\n",
       "\n",
       "/* \"?\"-specific style due to the `<a>` HTML tag */\n",
       "\n",
       "#sk-container-id-1 a.estimator_doc_link {\n",
       "  float: right;\n",
       "  font-size: 1rem;\n",
       "  line-height: 1em;\n",
       "  font-family: monospace;\n",
       "  background-color: var(--sklearn-color-background);\n",
       "  border-radius: 1rem;\n",
       "  height: 1rem;\n",
       "  width: 1rem;\n",
       "  text-decoration: none;\n",
       "  /* unfitted */\n",
       "  color: var(--sklearn-color-unfitted-level-1);\n",
       "  border: var(--sklearn-color-unfitted-level-1) 1pt solid;\n",
       "}\n",
       "\n",
       "#sk-container-id-1 a.estimator_doc_link.fitted {\n",
       "  /* fitted */\n",
       "  border: var(--sklearn-color-fitted-level-1) 1pt solid;\n",
       "  color: var(--sklearn-color-fitted-level-1);\n",
       "}\n",
       "\n",
       "/* On hover */\n",
       "#sk-container-id-1 a.estimator_doc_link:hover {\n",
       "  /* unfitted */\n",
       "  background-color: var(--sklearn-color-unfitted-level-3);\n",
       "  color: var(--sklearn-color-background);\n",
       "  text-decoration: none;\n",
       "}\n",
       "\n",
       "#sk-container-id-1 a.estimator_doc_link.fitted:hover {\n",
       "  /* fitted */\n",
       "  background-color: var(--sklearn-color-fitted-level-3);\n",
       "}\n",
       "</style><div id=\"sk-container-id-1\" class=\"sk-top-container\"><div class=\"sk-text-repr-fallback\"><pre>RandomizedSearchCV(cv=5, estimator=RandomForestClassifier(), n_iter=5,\n",
       "                   param_distributions={&#x27;max_depth&#x27;: &lt;scipy.stats._distn_infrastructure.rv_discrete_frozen object at 0x000001A1C74B5410&gt;,\n",
       "                                        &#x27;n_estimators&#x27;: &lt;scipy.stats._distn_infrastructure.rv_discrete_frozen object at 0x000001A1C7082ED0&gt;})</pre><b>In a Jupyter environment, please rerun this cell to show the HTML representation or trust the notebook. <br />On GitHub, the HTML representation is unable to render, please try loading this page with nbviewer.org.</b></div><div class=\"sk-container\" hidden><div class=\"sk-item sk-dashed-wrapped\"><div class=\"sk-label-container\"><div class=\"sk-label fitted sk-toggleable\"><input class=\"sk-toggleable__control sk-hidden--visually\" id=\"sk-estimator-id-1\" type=\"checkbox\" ><label for=\"sk-estimator-id-1\" class=\"sk-toggleable__label fitted sk-toggleable__label-arrow fitted\">&nbsp;&nbsp;RandomizedSearchCV<a class=\"sk-estimator-doc-link fitted\" rel=\"noreferrer\" target=\"_blank\" href=\"https://scikit-learn.org/1.5/modules/generated/sklearn.model_selection.RandomizedSearchCV.html\">?<span>Documentation for RandomizedSearchCV</span></a><span class=\"sk-estimator-doc-link fitted\">i<span>Fitted</span></span></label><div class=\"sk-toggleable__content fitted\"><pre>RandomizedSearchCV(cv=5, estimator=RandomForestClassifier(), n_iter=5,\n",
       "                   param_distributions={&#x27;max_depth&#x27;: &lt;scipy.stats._distn_infrastructure.rv_discrete_frozen object at 0x000001A1C74B5410&gt;,\n",
       "                                        &#x27;n_estimators&#x27;: &lt;scipy.stats._distn_infrastructure.rv_discrete_frozen object at 0x000001A1C7082ED0&gt;})</pre></div> </div></div><div class=\"sk-parallel\"><div class=\"sk-parallel-item\"><div class=\"sk-item\"><div class=\"sk-label-container\"><div class=\"sk-label fitted sk-toggleable\"><input class=\"sk-toggleable__control sk-hidden--visually\" id=\"sk-estimator-id-2\" type=\"checkbox\" ><label for=\"sk-estimator-id-2\" class=\"sk-toggleable__label fitted sk-toggleable__label-arrow fitted\">best_estimator_: RandomForestClassifier</label><div class=\"sk-toggleable__content fitted\"><pre>RandomForestClassifier(max_depth=6, n_estimators=390)</pre></div> </div></div><div class=\"sk-serial\"><div class=\"sk-item\"><div class=\"sk-estimator fitted sk-toggleable\"><input class=\"sk-toggleable__control sk-hidden--visually\" id=\"sk-estimator-id-3\" type=\"checkbox\" ><label for=\"sk-estimator-id-3\" class=\"sk-toggleable__label fitted sk-toggleable__label-arrow fitted\">&nbsp;RandomForestClassifier<a class=\"sk-estimator-doc-link fitted\" rel=\"noreferrer\" target=\"_blank\" href=\"https://scikit-learn.org/1.5/modules/generated/sklearn.ensemble.RandomForestClassifier.html\">?<span>Documentation for RandomForestClassifier</span></a></label><div class=\"sk-toggleable__content fitted\"><pre>RandomForestClassifier(max_depth=6, n_estimators=390)</pre></div> </div></div></div></div></div></div></div></div></div>"
      ],
      "text/plain": [
       "RandomizedSearchCV(cv=5, estimator=RandomForestClassifier(), n_iter=5,\n",
       "                   param_distributions={'max_depth': <scipy.stats._distn_infrastructure.rv_discrete_frozen object at 0x000001A1C74B5410>,\n",
       "                                        'n_estimators': <scipy.stats._distn_infrastructure.rv_discrete_frozen object at 0x000001A1C7082ED0>})"
      ]
     },
     "execution_count": 33,
     "metadata": {},
     "output_type": "execute_result"
    }
   ],
   "source": [
    "param_dist = {'n_estimators': randint(50,500),\n",
    "              'max_depth': randint(1,20)}\n",
    "\n",
    "# Create a random forest classifier\n",
    "rf2 = RandomForestClassifier()\n",
    "\n",
    "# Use random search to find the best hyperparameters\n",
    "rand_search = RandomizedSearchCV(rf2, \n",
    "                                 param_distributions = param_dist, \n",
    "                                 n_iter=5, \n",
    "                                 cv=5)\n",
    "\n",
    "# Fit the random search object to the data\n",
    "rand_search.fit(trn_xs, trn_y)"
   ]
  },
  {
   "cell_type": "code",
   "execution_count": 34,
   "id": "39153234-12a3-4198-a7ee-a59ba517635d",
   "metadata": {},
   "outputs": [
    {
     "name": "stdout",
     "output_type": "stream",
     "text": [
      "Best hyperparameters: {'max_depth': 6, 'n_estimators': 390}\n"
     ]
    }
   ],
   "source": [
    "# Create a variable for the best model\n",
    "best_rf = rand_search.best_estimator_\n",
    "\n",
    "y_pred = best_rf.predict(val_xs)\n",
    "\n",
    "# Print the best hyperparameters\n",
    "print('Best hyperparameters:',  rand_search.best_params_)"
   ]
  },
  {
   "cell_type": "markdown",
   "id": "8dfb4bcd-590b-40a4-a0da-675b4c62052f",
   "metadata": {},
   "source": [
    "### Model Evaluation"
   ]
  },
  {
   "cell_type": "markdown",
   "id": "e213b558-043b-4939-b58a-cadff1f52c61",
   "metadata": {},
   "source": [
    "#### MAE For Validation Set"
   ]
  },
  {
   "cell_type": "code",
   "execution_count": 35,
   "id": "ae88384c-ff4f-4f18-a26b-313d08068b7d",
   "metadata": {},
   "outputs": [
    {
     "data": {
      "text/plain": [
       "0.3684210526315789"
      ]
     },
     "execution_count": 35,
     "metadata": {},
     "output_type": "execute_result"
    }
   ],
   "source": [
    "mean_absolute_error(val_y, y_pred)"
   ]
  },
  {
   "cell_type": "markdown",
   "id": "16e993ee-2e81-4197-9f4c-35811fd640af",
   "metadata": {},
   "source": [
    "### MAE For Training Set"
   ]
  },
  {
   "cell_type": "code",
   "execution_count": 36,
   "id": "4d1f5d48-af6d-4d86-a10c-ad09fcb383c7",
   "metadata": {},
   "outputs": [
    {
     "data": {
      "text/plain": [
       "0.041666666666666664"
      ]
     },
     "execution_count": 36,
     "metadata": {},
     "output_type": "execute_result"
    }
   ],
   "source": [
    "y_train_pred = best_rf.predict(trn_xs)\n",
    "mean_absolute_error(trn_y, y_train_pred)"
   ]
  },
  {
   "cell_type": "markdown",
   "id": "d3bad915-c4f7-48f5-aa39-3fa76dd136cf",
   "metadata": {},
   "source": [
    "> Lower MAE for training compare to validation set might indicate that the model is overfitting a little."
   ]
  },
  {
   "cell_type": "markdown",
   "id": "bce35913-0a37-45c0-ae6f-f53b1a79e1f8",
   "metadata": {},
   "source": [
    "### Confusion Metrics"
   ]
  },
  {
   "cell_type": "code",
   "execution_count": 37,
   "id": "296534e9-399f-4c35-9048-b774bf65e97e",
   "metadata": {},
   "outputs": [
    {
     "data": {
      "image/png": "[encoded data removed]",
      "text/plain": [
       "<Figure size 640x480 with 2 Axes>"
      ]
     },
     "metadata": {},
     "output_type": "display_data"
    }
   ],
   "source": [
    "# Create the confusion matrix\n",
    "cm = confusion_matrix(val_y, y_pred)\n",
    "\n",
    "ConfusionMatrixDisplay(confusion_matrix=cm).plot();"
   ]
  },
  {
   "cell_type": "markdown",
   "id": "e2a4d8c0-11a1-425a-83e7-72b3c254855e",
   "metadata": {},
   "source": [
    "> I will say that the model is somewhat confidence in classifying if a subject is depressed or not."
   ]
  },
  {
   "cell_type": "markdown",
   "id": "c2461fb7-8995-4ca6-adbe-3d6fb6aec742",
   "metadata": {},
   "source": [
    "### Accuracy, Precision, Recall"
   ]
  },
  {
   "cell_type": "code",
   "execution_count": 38,
   "id": "c5ccae76-0334-4662-99d6-a872d822c61f",
   "metadata": {},
   "outputs": [
    {
     "name": "stdout",
     "output_type": "stream",
     "text": [
      "Accuracy: 0.631578947368421\n",
      "Precision: 0.6153846153846154\n",
      "Recall: 0.8\n"
     ]
    }
   ],
   "source": [
    "accuracy = accuracy_score(val_y, y_pred)\n",
    "precision = precision_score(val_y, y_pred)\n",
    "recall = recall_score(val_y, y_pred)\n",
    "\n",
    "print(\"Accuracy:\", accuracy)\n",
    "print(\"Precision:\", precision)\n",
    "print(\"Recall:\", recall)"
   ]
  },
  {
   "cell_type": "markdown",
   "id": "adad3f34-f2b0-4f0f-a4e0-28dc06a760b1",
   "metadata": {},
   "source": [
    "### Classification Report"
   ]
  },
  {
   "cell_type": "code",
   "execution_count": 39,
   "id": "c0704097-8b9b-46e1-81cb-547410028b7b",
   "metadata": {},
   "outputs": [
    {
     "name": "stdout",
     "output_type": "stream",
     "text": [
      "                        precision    recall  f1-score   support\n",
      "\n",
      "without MINIdepression       0.67      0.44      0.53         9\n",
      "   with MINIdepression       0.62      0.80      0.70        10\n",
      "\n",
      "              accuracy                           0.63        19\n",
      "             macro avg       0.64      0.62      0.61        19\n",
      "          weighted avg       0.64      0.63      0.62        19\n",
      "\n"
     ]
    }
   ],
   "source": [
    "target_names = [f'without {dep}', f'with {dep}']\n",
    "print(classification_report(val_y, y_pred, target_names=target_names))"
   ]
  },
  {
   "cell_type": "markdown",
   "id": "02ffd68a-5cd4-4f3e-95d1-b238a7d187bf",
   "metadata": {},
   "source": [
    "F1 Score: makes a balance between precision and recall.\n",
    "\n",
    "In the most simple terms, higher F1 scores are generally better. It range from 0 to 1."
   ]
  },
  {
   "cell_type": "markdown",
   "id": "081f1234-8295-4944-8f13-08ad9788a30a",
   "metadata": {},
   "source": [
    "### ROC Curve"
   ]
  },
  {
   "cell_type": "markdown",
   "id": "0a6668f0-adf1-464c-b6b5-e6e80825a57f",
   "metadata": {},
   "source": [
    "Receiver Operating Characteristic(ROC) curve is a plot of the true positive rate against the false positive rate. It shows the tradeoff between sensitivity and specificity."
   ]
  },
  {
   "cell_type": "code",
   "execution_count": 40,
   "id": "e40e8d65-f17f-4437-8f94-9b54d002c17d",
   "metadata": {},
   "outputs": [
    {
     "data": {
      "image/png": "[encoded data removed]",
      "text/plain": [
       "<Figure size 640x480 with 1 Axes>"
      ]
     },
     "metadata": {},
     "output_type": "display_data"
    }
   ],
   "source": [
    "y_pred_proba = best_rf.predict_proba(val_xs)[:,1]\n",
    "fpr, tpr, _ = roc_curve(val_y,  y_pred_proba)\n",
    "auc = roc_auc_score(val_y, y_pred_proba)\n",
    "plt.plot(fpr,tpr,label=\"data 1, auc=\"+str(auc))\n",
    "plt.legend(loc=4)\n",
    "plt.show()"
   ]
  },
  {
   "cell_type": "markdown",
   "id": "733f229d-0a19-4a1a-9e76-811b017f523a",
   "metadata": {},
   "source": [
    "> AUC score for the case is 0.58. AUC score 1 represents a perfect classifier, and 0.5 represents a worthless classifier.\n",
    "> This is slighly better than the Logistic Regression?"
   ]
  },
  {
   "cell_type": "markdown",
   "id": "b6f8fe04-17be-4a60-a8dc-15a9910aec24",
   "metadata": {},
   "source": [
    "### Permutation Importance"
   ]
  },
  {
   "cell_type": "markdown",
   "id": "597a76ad-654c-4082-a301-6a135c73a7fa",
   "metadata": {},
   "source": [
    "#### By Training Set"
   ]
  },
  {
   "cell_type": "code",
   "execution_count": 41,
   "id": "b2181b78-1a4e-4c07-9c36-19152e9e9774",
   "metadata": {},
   "outputs": [
    {
     "data": {
      "image/png": "[encoded data removed]",
      "text/plain": [
       "<Figure size 640x480 with 1 Axes>"
      ]
     },
     "metadata": {},
     "output_type": "display_data"
    }
   ],
   "source": [
    "rf_pi = permutation_importance(best_rf, trn_xs, trn_y)\n",
    "\n",
    "feature_importances = pd.Series(rf_pi['importances_mean'], index=trn_xs.columns).sort_values(ascending=False)\n",
    "feature_importances.plot.bar();"
   ]
  },
  {
   "cell_type": "markdown",
   "id": "dc7726de-507f-484f-b88b-fd90a07eee30",
   "metadata": {},
   "source": [
    "Where Y-axis is: Change in Mean Squared Error.\n",
    "\n",
    "The left most means, changing this features will result in the RMSE to increase (about 0.16 for EV).\n",
    "Meaning the model is highly dependent on these features.\n",
    "\n",
    "Zero means changing the feature does not affect the model much.\n",
    "\n",
    "X-axis is: Name of features in this model."
   ]
  },
  {
   "cell_type": "markdown",
   "id": "8889b994-b287-4fd4-ba87-94373bde17a8",
   "metadata": {},
   "source": [
    "#### By Validation Set"
   ]
  },
  {
   "cell_type": "code",
   "execution_count": 42,
   "id": "9c88b3d8-68b2-4c5a-b788-283d755e3fff",
   "metadata": {},
   "outputs": [
    {
     "data": {
      "image/png": "[encoded data removed]",
      "text/plain": [
       "<Figure size 640x480 with 1 Axes>"
      ]
     },
     "metadata": {},
     "output_type": "display_data"
    }
   ],
   "source": [
    "rf_pi_val = permutation_importance(best_rf, val_xs, val_y)\n",
    "\n",
    "feature_importances = pd.Series(rf_pi_val['importances_mean'], index=val_xs.columns).sort_values(ascending=False)\n",
    "feature_importances.plot.bar();"
   ]
  },
  {
   "cell_type": "markdown",
   "id": "13eb4649-97b4-4e8c-9bf7-b4a61ceae1d2",
   "metadata": {},
   "source": [
    "### Feature Importance"
   ]
  },
  {
   "cell_type": "code",
   "execution_count": 43,
   "id": "bcf4554c-7892-4f1d-a3c8-f48ee9e4cf13",
   "metadata": {},
   "outputs": [
    {
     "data": {
      "image/png": "[encoded data removed]",
      "text/plain": [
       "<Figure size 640x480 with 1 Axes>"
      ]
     },
     "metadata": {},
     "output_type": "display_data"
    }
   ],
   "source": [
    "imp = best_rf.feature_importances_\n",
    "pd.DataFrame(dict(cols=trn_xs.columns, imp=imp)).sort_values(by='imp', ascending=True).plot('cols', 'imp', 'barh');"
   ]
  },
  {
   "cell_type": "markdown",
   "id": "27a75177-b0b4-44c1-9e9a-d1143b3d8d5e",
   "metadata": {},
   "source": [
    "> The bottom three feature is what we were expecting from the histogram where the sample is very small for one side."
   ]
  },
  {
   "cell_type": "markdown",
   "id": "4ab055b4-4094-4cc4-ba84-89163b6e11b5",
   "metadata": {},
   "source": [
    "### Visualizing the Results"
   ]
  },
  {
   "cell_type": "markdown",
   "id": "e0040ae5-b885-438c-bcd6-09eb7e59cad7",
   "metadata": {},
   "source": [
    "We can use the following code to visualize our first 3 trees."
   ]
  },
  {
   "cell_type": "code",
   "execution_count": 44,
   "id": "df53d59e-50d7-402f-a0e2-9a0df40e2a19",
   "metadata": {},
   "outputs": [
    {
     "data": {
      "image/svg+xml": [
       "<?xml version=\"1.0\" encoding=\"UTF-8\" standalone=\"no\"?>\n",
       "<!DOCTYPE svg PUBLIC \"-//W3C//DTD SVG 1.1//EN\"\n",
       " \"http://www.w3.org/Graphics/SVG/1.1/DTD/svg11.dtd\">\n",
       "<!-- Generated by graphviz version 11.0.0 (0)\n",
       " -->\n",
       "<!-- Title: Tree Pages: 1 -->\n",
       "<svg width=\"590pt\" height=\"318pt\"\n",
       " viewBox=\"0.00 0.00 589.50 317.75\" xmlns=\"http://www.w3.org/2000/svg\" xmlns:xlink=\"http://www.w3.org/1999/xlink\">\n",
       "<g id=\"graph0\" class=\"graph\" transform=\"scale(1 1) rotate(0) translate(4 313.75)\">\n",
       "<title>Tree</title>\n",
       "<polygon fill=\"white\" stroke=\"none\" points=\"-4,4 -4,-313.75 585.5,-313.75 585.5,4 -4,4\"/>\n",
       "<!-- 0 -->\n",
       "<g id=\"node1\" class=\"node\">\n",
       "<title>0</title>\n",
       "<polygon fill=\"#fcf2ea\" stroke=\"black\" points=\"351.5,-309.75 205,-309.75 205,-254.5 351.5,-254.5 351.5,-309.75\"/>\n",
       "<text text-anchor=\"middle\" x=\"278.25\" y=\"-292.45\" font-family=\"Helvetica,sans-Serif\" font-size=\"14.00\">smokenew &lt;= 0.5</text>\n",
       "<text text-anchor=\"middle\" x=\"278.25\" y=\"-276.7\" font-family=\"Helvetica,sans-Serif\" font-size=\"14.00\">samples = 100.0%</text>\n",
       "<text text-anchor=\"middle\" x=\"278.25\" y=\"-260.95\" font-family=\"Helvetica,sans-Serif\" font-size=\"14.00\">value = [0.528, 0.472]</text>\n",
       "</g>\n",
       "<!-- 1 -->\n",
       "<g id=\"node2\" class=\"node\">\n",
       "<title>1</title>\n",
       "<polygon fill=\"#f9e3d2\" stroke=\"black\" points=\"269.5,-218.5 123,-218.5 123,-163.25 269.5,-163.25 269.5,-218.5\"/>\n",
       "<text text-anchor=\"middle\" x=\"196.25\" y=\"-201.2\" font-family=\"Helvetica,sans-Serif\" font-size=\"14.00\">Age &lt;= 14.5</text>\n",
       "<text text-anchor=\"middle\" x=\"196.25\" y=\"-185.45\" font-family=\"Helvetica,sans-Serif\" font-size=\"14.00\">samples = 71.4%</text>\n",
       "<text text-anchor=\"middle\" x=\"196.25\" y=\"-169.7\" font-family=\"Helvetica,sans-Serif\" font-size=\"14.00\">value = [0.564, 0.436]</text>\n",
       "</g>\n",
       "<!-- 0&#45;&gt;1 -->\n",
       "<g id=\"edge1\" class=\"edge\">\n",
       "<title>0&#45;&gt;1</title>\n",
       "<path fill=\"none\" stroke=\"black\" d=\"M253.65,-254.35C245.85,-245.86 237.11,-236.35 228.85,-227.36\"/>\n",
       "<polygon fill=\"black\" stroke=\"black\" points=\"231.49,-225.05 222.14,-220.06 226.33,-229.79 231.49,-225.05\"/>\n",
       "<text text-anchor=\"middle\" x=\"220.06\" y=\"-238.5\" font-family=\"Helvetica,sans-Serif\" font-size=\"14.00\">True</text>\n",
       "</g>\n",
       "<!-- 20 -->\n",
       "<g id=\"node7\" class=\"node\">\n",
       "<title>20</title>\n",
       "<polygon fill=\"#c4e2f7\" stroke=\"black\" points=\"434.5,-218.5 288,-218.5 288,-163.25 434.5,-163.25 434.5,-218.5\"/>\n",
       "<text text-anchor=\"middle\" x=\"361.25\" y=\"-201.2\" font-family=\"Helvetica,sans-Serif\" font-size=\"14.00\">EV &lt;= 0.5</text>\n",
       "<text text-anchor=\"middle\" x=\"361.25\" y=\"-185.45\" font-family=\"Helvetica,sans-Serif\" font-size=\"14.00\">samples = 28.6%</text>\n",
       "<text text-anchor=\"middle\" x=\"361.25\" y=\"-169.7\" font-family=\"Helvetica,sans-Serif\" font-size=\"14.00\">value = [0.412, 0.588]</text>\n",
       "</g>\n",
       "<!-- 0&#45;&gt;20 -->\n",
       "<g id=\"edge6\" class=\"edge\">\n",
       "<title>0&#45;&gt;20</title>\n",
       "<path fill=\"none\" stroke=\"black\" d=\"M303.15,-254.35C311.04,-245.86 319.89,-236.35 328.25,-227.36\"/>\n",
       "<polygon fill=\"black\" stroke=\"black\" points=\"330.8,-229.76 335.05,-220.05 325.67,-224.99 330.8,-229.76\"/>\n",
       "<text text-anchor=\"middle\" x=\"336.98\" y=\"-238.5\" font-family=\"Helvetica,sans-Serif\" font-size=\"14.00\">False</text>\n",
       "</g>\n",
       "<!-- 2 -->\n",
       "<g id=\"node3\" class=\"node\">\n",
       "<title>2</title>\n",
       "<polygon fill=\"#399de5\" stroke=\"black\" points=\"116.5,-119.38 0,-119.38 0,-79.88 116.5,-79.88 116.5,-119.38\"/>\n",
       "<text text-anchor=\"middle\" x=\"58.25\" y=\"-102.08\" font-family=\"Helvetica,sans-Serif\" font-size=\"14.00\">samples = 8.6%</text>\n",
       "<text text-anchor=\"middle\" x=\"58.25\" y=\"-86.33\" font-family=\"Helvetica,sans-Serif\" font-size=\"14.00\">value = [0.0, 1.0]</text>\n",
       "</g>\n",
       "<!-- 1&#45;&gt;2 -->\n",
       "<g id=\"edge2\" class=\"edge\">\n",
       "<title>1&#45;&gt;2</title>\n",
       "<path fill=\"none\" stroke=\"black\" d=\"M154.47,-162.85C136.26,-151.08 115.05,-137.36 97.18,-125.8\"/>\n",
       "<polygon fill=\"black\" stroke=\"black\" points=\"99.2,-122.94 88.9,-120.45 95.4,-128.82 99.2,-122.94\"/>\n",
       "</g>\n",
       "<!-- 3 -->\n",
       "<g id=\"node4\" class=\"node\">\n",
       "<title>3</title>\n",
       "<polygon fill=\"#f5ceb2\" stroke=\"black\" points=\"267.75,-127.25 134.75,-127.25 134.75,-72 267.75,-72 267.75,-127.25\"/>\n",
       "<text text-anchor=\"middle\" x=\"201.25\" y=\"-109.95\" font-family=\"Helvetica,sans-Serif\" font-size=\"14.00\">ethnicitynew &lt;= 0.5</text>\n",
       "<text text-anchor=\"middle\" x=\"201.25\" y=\"-94.2\" font-family=\"Helvetica,sans-Serif\" font-size=\"14.00\">samples = 62.9%</text>\n",
       "<text text-anchor=\"middle\" x=\"201.25\" y=\"-78.45\" font-family=\"Helvetica,sans-Serif\" font-size=\"14.00\">value = [0.62, 0.38]</text>\n",
       "</g>\n",
       "<!-- 1&#45;&gt;3 -->\n",
       "<g id=\"edge3\" class=\"edge\">\n",
       "<title>1&#45;&gt;3</title>\n",
       "<path fill=\"none\" stroke=\"black\" d=\"M197.75,-163.1C198.17,-155.58 198.64,-147.25 199.09,-139.18\"/>\n",
       "<polygon fill=\"black\" stroke=\"black\" points=\"202.58,-139.38 199.65,-129.2 195.59,-138.99 202.58,-139.38\"/>\n",
       "</g>\n",
       "<!-- 4 -->\n",
       "<g id=\"node5\" class=\"node\">\n",
       "<title>4</title>\n",
       "<polygon fill=\"#c0c0c0\" stroke=\"black\" points=\"161.25,-36 107.25,-36 107.25,0 161.25,0 161.25,-36\"/>\n",
       "<text text-anchor=\"middle\" x=\"134.25\" y=\"-12.57\" font-family=\"Helvetica,sans-Serif\" font-size=\"14.00\">(...)</text>\n",
       "</g>\n",
       "<!-- 3&#45;&gt;4 -->\n",
       "<g id=\"edge4\" class=\"edge\">\n",
       "<title>3&#45;&gt;4</title>\n",
       "<path fill=\"none\" stroke=\"black\" d=\"M178.57,-71.67C171.32,-63.05 163.31,-53.54 156.12,-44.99\"/>\n",
       "<polygon fill=\"black\" stroke=\"black\" points=\"158.81,-42.75 149.69,-37.35 153.45,-47.25 158.81,-42.75\"/>\n",
       "</g>\n",
       "<!-- 7 -->\n",
       "<g id=\"node6\" class=\"node\">\n",
       "<title>7</title>\n",
       "<polygon fill=\"#c0c0c0\" stroke=\"black\" points=\"233.25,-36 179.25,-36 179.25,0 233.25,0 233.25,-36\"/>\n",
       "<text text-anchor=\"middle\" x=\"206.25\" y=\"-12.57\" font-family=\"Helvetica,sans-Serif\" font-size=\"14.00\">(...)</text>\n",
       "</g>\n",
       "<!-- 3&#45;&gt;7 -->\n",
       "<g id=\"edge5\" class=\"edge\">\n",
       "<title>3&#45;&gt;7</title>\n",
       "<path fill=\"none\" stroke=\"black\" d=\"M202.94,-71.67C203.43,-63.88 203.97,-55.35 204.46,-47.47\"/>\n",
       "<polygon fill=\"black\" stroke=\"black\" points=\"207.94,-47.9 205.08,-37.7 200.96,-47.46 207.94,-47.9\"/>\n",
       "</g>\n",
       "<!-- 21 -->\n",
       "<g id=\"node8\" class=\"node\">\n",
       "<title>21</title>\n",
       "<polygon fill=\"#6ab6ec\" stroke=\"black\" points=\"417.12,-127.25 295.38,-127.25 295.38,-72 417.12,-72 417.12,-127.25\"/>\n",
       "<text text-anchor=\"middle\" x=\"356.25\" y=\"-109.95\" font-family=\"Helvetica,sans-Serif\" font-size=\"14.00\">Age &lt;= 16.5</text>\n",
       "<text text-anchor=\"middle\" x=\"356.25\" y=\"-94.2\" font-family=\"Helvetica,sans-Serif\" font-size=\"14.00\">samples = 14.3%</text>\n",
       "<text text-anchor=\"middle\" x=\"356.25\" y=\"-78.45\" font-family=\"Helvetica,sans-Serif\" font-size=\"14.00\">value = [0.2, 0.8]</text>\n",
       "</g>\n",
       "<!-- 20&#45;&gt;21 -->\n",
       "<g id=\"edge7\" class=\"edge\">\n",
       "<title>20&#45;&gt;21</title>\n",
       "<path fill=\"none\" stroke=\"black\" d=\"M359.75,-163.1C359.33,-155.58 358.86,-147.25 358.41,-139.18\"/>\n",
       "<polygon fill=\"black\" stroke=\"black\" points=\"361.91,-138.99 357.85,-129.2 354.92,-139.38 361.91,-138.99\"/>\n",
       "</g>\n",
       "<!-- 26 -->\n",
       "<g id=\"node11\" class=\"node\">\n",
       "<title>26</title>\n",
       "<polygon fill=\"#efb388\" stroke=\"black\" points=\"581.5,-127.25 435,-127.25 435,-72 581.5,-72 581.5,-127.25\"/>\n",
       "<text text-anchor=\"middle\" x=\"508.25\" y=\"-109.95\" font-family=\"Helvetica,sans-Serif\" font-size=\"14.00\">SV &lt;= 0.5</text>\n",
       "<text text-anchor=\"middle\" x=\"508.25\" y=\"-94.2\" font-family=\"Helvetica,sans-Serif\" font-size=\"14.00\">samples = 14.3%</text>\n",
       "<text text-anchor=\"middle\" x=\"508.25\" y=\"-78.45\" font-family=\"Helvetica,sans-Serif\" font-size=\"14.00\">value = [0.714, 0.286]</text>\n",
       "</g>\n",
       "<!-- 20&#45;&gt;26 -->\n",
       "<g id=\"edge10\" class=\"edge\">\n",
       "<title>20&#45;&gt;26</title>\n",
       "<path fill=\"none\" stroke=\"black\" d=\"M405.75,-162.85C420.94,-153.64 438.09,-143.22 453.96,-133.59\"/>\n",
       "<polygon fill=\"black\" stroke=\"black\" points=\"455.62,-136.67 462.35,-128.49 451.99,-130.69 455.62,-136.67\"/>\n",
       "</g>\n",
       "<!-- 22 -->\n",
       "<g id=\"node9\" class=\"node\">\n",
       "<title>22</title>\n",
       "<polygon fill=\"#c0c0c0\" stroke=\"black\" points=\"333.25,-36 279.25,-36 279.25,0 333.25,0 333.25,-36\"/>\n",
       "<text text-anchor=\"middle\" x=\"306.25\" y=\"-12.57\" font-family=\"Helvetica,sans-Serif\" font-size=\"14.00\">(...)</text>\n",
       "</g>\n",
       "<!-- 21&#45;&gt;22 -->\n",
       "<g id=\"edge8\" class=\"edge\">\n",
       "<title>21&#45;&gt;22</title>\n",
       "<path fill=\"none\" stroke=\"black\" d=\"M339.32,-71.67C334.09,-63.33 328.32,-54.15 323.09,-45.82\"/>\n",
       "<polygon fill=\"black\" stroke=\"black\" points=\"326.13,-44.08 317.85,-37.47 320.2,-47.8 326.13,-44.08\"/>\n",
       "</g>\n",
       "<!-- 23 -->\n",
       "<g id=\"node10\" class=\"node\">\n",
       "<title>23</title>\n",
       "<polygon fill=\"#c0c0c0\" stroke=\"black\" points=\"405.25,-36 351.25,-36 351.25,0 405.25,0 405.25,-36\"/>\n",
       "<text text-anchor=\"middle\" x=\"378.25\" y=\"-12.57\" font-family=\"Helvetica,sans-Serif\" font-size=\"14.00\">(...)</text>\n",
       "</g>\n",
       "<!-- 21&#45;&gt;23 -->\n",
       "<g id=\"edge9\" class=\"edge\">\n",
       "<title>21&#45;&gt;23</title>\n",
       "<path fill=\"none\" stroke=\"black\" d=\"M363.7,-71.67C365.88,-63.79 368.26,-55.15 370.46,-47.2\"/>\n",
       "<polygon fill=\"black\" stroke=\"black\" points=\"373.81,-48.22 373.1,-37.65 367.06,-46.36 373.81,-48.22\"/>\n",
       "</g>\n",
       "<!-- 27 -->\n",
       "<g id=\"node12\" class=\"node\">\n",
       "<title>27</title>\n",
       "<polygon fill=\"#c0c0c0\" stroke=\"black\" points=\"499.25,-36 445.25,-36 445.25,0 499.25,0 499.25,-36\"/>\n",
       "<text text-anchor=\"middle\" x=\"472.25\" y=\"-12.57\" font-family=\"Helvetica,sans-Serif\" font-size=\"14.00\">(...)</text>\n",
       "</g>\n",
       "<!-- 26&#45;&gt;27 -->\n",
       "<g id=\"edge11\" class=\"edge\">\n",
       "<title>26&#45;&gt;27</title>\n",
       "<path fill=\"none\" stroke=\"black\" d=\"M496.06,-71.67C492.42,-63.6 488.41,-54.75 484.75,-46.64\"/>\n",
       "<polygon fill=\"black\" stroke=\"black\" points=\"487.96,-45.24 480.65,-37.57 481.58,-48.12 487.96,-45.24\"/>\n",
       "</g>\n",
       "<!-- 28 -->\n",
       "<g id=\"node13\" class=\"node\">\n",
       "<title>28</title>\n",
       "<polygon fill=\"#c0c0c0\" stroke=\"black\" points=\"571.25,-36 517.25,-36 517.25,0 571.25,0 571.25,-36\"/>\n",
       "<text text-anchor=\"middle\" x=\"544.25\" y=\"-12.57\" font-family=\"Helvetica,sans-Serif\" font-size=\"14.00\">(...)</text>\n",
       "</g>\n",
       "<!-- 26&#45;&gt;28 -->\n",
       "<g id=\"edge12\" class=\"edge\">\n",
       "<title>26&#45;&gt;28</title>\n",
       "<path fill=\"none\" stroke=\"black\" d=\"M520.44,-71.67C524.08,-63.6 528.09,-54.75 531.75,-46.64\"/>\n",
       "<polygon fill=\"black\" stroke=\"black\" points=\"534.92,-48.12 535.85,-37.57 528.54,-45.24 534.92,-48.12\"/>\n",
       "</g>\n",
       "</g>\n",
       "</svg>\n"
      ],
      "text/plain": [
       "<graphviz.sources.Source at 0x1a1c7082250>"
      ]
     },
     "metadata": {},
     "output_type": "display_data"
    },
    {
     "data": {
      "image/svg+xml": [
       "<?xml version=\"1.0\" encoding=\"UTF-8\" standalone=\"no\"?>\n",
       "<!DOCTYPE svg PUBLIC \"-//W3C//DTD SVG 1.1//EN\"\n",
       " \"http://www.w3.org/Graphics/SVG/1.1/DTD/svg11.dtd\">\n",
       "<!-- Generated by graphviz version 11.0.0 (0)\n",
       " -->\n",
       "<!-- Title: Tree Pages: 1 -->\n",
       "<svg width=\"620pt\" height=\"318pt\"\n",
       " viewBox=\"0.00 0.00 619.50 317.75\" xmlns=\"http://www.w3.org/2000/svg\" xmlns:xlink=\"http://www.w3.org/1999/xlink\">\n",
       "<g id=\"graph0\" class=\"graph\" transform=\"scale(1 1) rotate(0) translate(4 313.75)\">\n",
       "<title>Tree</title>\n",
       "<polygon fill=\"white\" stroke=\"none\" points=\"-4,4 -4,-313.75 615.5,-313.75 615.5,4 -4,4\"/>\n",
       "<!-- 0 -->\n",
       "<g id=\"node1\" class=\"node\">\n",
       "<title>0</title>\n",
       "<polygon fill=\"#cfe7f9\" stroke=\"black\" points=\"363.5,-309.75 217,-309.75 217,-254.5 363.5,-254.5 363.5,-309.75\"/>\n",
       "<text text-anchor=\"middle\" x=\"290.25\" y=\"-292.45\" font-family=\"Helvetica,sans-Serif\" font-size=\"14.00\">CB &lt;= 0.5</text>\n",
       "<text text-anchor=\"middle\" x=\"290.25\" y=\"-276.7\" font-family=\"Helvetica,sans-Serif\" font-size=\"14.00\">samples = 100.0%</text>\n",
       "<text text-anchor=\"middle\" x=\"290.25\" y=\"-260.95\" font-family=\"Helvetica,sans-Serif\" font-size=\"14.00\">value = [0.431, 0.569]</text>\n",
       "</g>\n",
       "<!-- 1 -->\n",
       "<g id=\"node2\" class=\"node\">\n",
       "<title>1</title>\n",
       "<polygon fill=\"#ffffff\" stroke=\"black\" points=\"274.75,-218.5 141.75,-218.5 141.75,-163.25 274.75,-163.25 274.75,-218.5\"/>\n",
       "<text text-anchor=\"middle\" x=\"208.25\" y=\"-201.2\" font-family=\"Helvetica,sans-Serif\" font-size=\"14.00\">ethnicitynew &lt;= 0.5</text>\n",
       "<text text-anchor=\"middle\" x=\"208.25\" y=\"-185.45\" font-family=\"Helvetica,sans-Serif\" font-size=\"14.00\">samples = 17.0%</text>\n",
       "<text text-anchor=\"middle\" x=\"208.25\" y=\"-169.7\" font-family=\"Helvetica,sans-Serif\" font-size=\"14.00\">value = [0.5, 0.5]</text>\n",
       "</g>\n",
       "<!-- 0&#45;&gt;1 -->\n",
       "<g id=\"edge1\" class=\"edge\">\n",
       "<title>0&#45;&gt;1</title>\n",
       "<path fill=\"none\" stroke=\"black\" d=\"M265.65,-254.35C257.85,-245.86 249.11,-236.35 240.85,-227.36\"/>\n",
       "<polygon fill=\"black\" stroke=\"black\" points=\"243.49,-225.05 234.14,-220.06 238.33,-229.79 243.49,-225.05\"/>\n",
       "<text text-anchor=\"middle\" x=\"232.06\" y=\"-238.5\" font-family=\"Helvetica,sans-Serif\" font-size=\"14.00\">True</text>\n",
       "</g>\n",
       "<!-- 12 -->\n",
       "<g id=\"node7\" class=\"node\">\n",
       "<title>12</title>\n",
       "<polygon fill=\"#c6e3f8\" stroke=\"black\" points=\"446.5,-218.5 300,-218.5 300,-163.25 446.5,-163.25 446.5,-218.5\"/>\n",
       "<text text-anchor=\"middle\" x=\"373.25\" y=\"-201.2\" font-family=\"Helvetica,sans-Serif\" font-size=\"14.00\">EV &lt;= 0.5</text>\n",
       "<text text-anchor=\"middle\" x=\"373.25\" y=\"-185.45\" font-family=\"Helvetica,sans-Serif\" font-size=\"14.00\">samples = 83.0%</text>\n",
       "<text text-anchor=\"middle\" x=\"373.25\" y=\"-169.7\" font-family=\"Helvetica,sans-Serif\" font-size=\"14.00\">value = [0.417, 0.583]</text>\n",
       "</g>\n",
       "<!-- 0&#45;&gt;12 -->\n",
       "<g id=\"edge6\" class=\"edge\">\n",
       "<title>0&#45;&gt;12</title>\n",
       "<path fill=\"none\" stroke=\"black\" d=\"M315.15,-254.35C323.04,-245.86 331.89,-236.35 340.25,-227.36\"/>\n",
       "<polygon fill=\"black\" stroke=\"black\" points=\"342.8,-229.76 347.05,-220.05 337.67,-224.99 342.8,-229.76\"/>\n",
       "<text text-anchor=\"middle\" x=\"348.98\" y=\"-238.5\" font-family=\"Helvetica,sans-Serif\" font-size=\"14.00\">False</text>\n",
       "</g>\n",
       "<!-- 2 -->\n",
       "<g id=\"node3\" class=\"node\">\n",
       "<title>2</title>\n",
       "<polygon fill=\"#e58139\" stroke=\"black\" points=\"116.5,-119.38 0,-119.38 0,-79.88 116.5,-79.88 116.5,-119.38\"/>\n",
       "<text text-anchor=\"middle\" x=\"58.25\" y=\"-102.08\" font-family=\"Helvetica,sans-Serif\" font-size=\"14.00\">samples = 2.1%</text>\n",
       "<text text-anchor=\"middle\" x=\"58.25\" y=\"-86.33\" font-family=\"Helvetica,sans-Serif\" font-size=\"14.00\">value = [1.0, 0.0]</text>\n",
       "</g>\n",
       "<!-- 1&#45;&gt;2 -->\n",
       "<g id=\"edge2\" class=\"edge\">\n",
       "<title>1&#45;&gt;2</title>\n",
       "<path fill=\"none\" stroke=\"black\" d=\"M162.84,-162.85C142.87,-150.97 119.56,-137.1 100.02,-125.48\"/>\n",
       "<polygon fill=\"black\" stroke=\"black\" points=\"101.87,-122.51 91.49,-120.4 98.29,-128.52 101.87,-122.51\"/>\n",
       "</g>\n",
       "<!-- 3 -->\n",
       "<g id=\"node4\" class=\"node\">\n",
       "<title>3</title>\n",
       "<polygon fill=\"#deeffb\" stroke=\"black\" points=\"281.5,-127.25 135,-127.25 135,-72 281.5,-72 281.5,-127.25\"/>\n",
       "<text text-anchor=\"middle\" x=\"208.25\" y=\"-109.95\" font-family=\"Helvetica,sans-Serif\" font-size=\"14.00\">PV &lt;= 0.5</text>\n",
       "<text text-anchor=\"middle\" x=\"208.25\" y=\"-94.2\" font-family=\"Helvetica,sans-Serif\" font-size=\"14.00\">samples = 14.9%</text>\n",
       "<text text-anchor=\"middle\" x=\"208.25\" y=\"-78.45\" font-family=\"Helvetica,sans-Serif\" font-size=\"14.00\">value = [0.455, 0.545]</text>\n",
       "</g>\n",
       "<!-- 1&#45;&gt;3 -->\n",
       "<g id=\"edge3\" class=\"edge\">\n",
       "<title>1&#45;&gt;3</title>\n",
       "<path fill=\"none\" stroke=\"black\" d=\"M208.25,-163.1C208.25,-155.58 208.25,-147.25 208.25,-139.18\"/>\n",
       "<polygon fill=\"black\" stroke=\"black\" points=\"211.75,-139.21 208.25,-129.21 204.75,-139.21 211.75,-139.21\"/>\n",
       "</g>\n",
       "<!-- 4 -->\n",
       "<g id=\"node5\" class=\"node\">\n",
       "<title>4</title>\n",
       "<polygon fill=\"#c0c0c0\" stroke=\"black\" points=\"173.25,-36 119.25,-36 119.25,0 173.25,0 173.25,-36\"/>\n",
       "<text text-anchor=\"middle\" x=\"146.25\" y=\"-12.57\" font-family=\"Helvetica,sans-Serif\" font-size=\"14.00\">(...)</text>\n",
       "</g>\n",
       "<!-- 3&#45;&gt;4 -->\n",
       "<g id=\"edge4\" class=\"edge\">\n",
       "<title>3&#45;&gt;4</title>\n",
       "<path fill=\"none\" stroke=\"black\" d=\"M187.26,-71.67C180.62,-63.14 173.3,-53.74 166.7,-45.27\"/>\n",
       "<polygon fill=\"black\" stroke=\"black\" points=\"169.47,-43.13 160.57,-37.39 163.95,-47.43 169.47,-43.13\"/>\n",
       "</g>\n",
       "<!-- 11 -->\n",
       "<g id=\"node6\" class=\"node\">\n",
       "<title>11</title>\n",
       "<polygon fill=\"#c0c0c0\" stroke=\"black\" points=\"245.25,-36 191.25,-36 191.25,0 245.25,0 245.25,-36\"/>\n",
       "<text text-anchor=\"middle\" x=\"218.25\" y=\"-12.57\" font-family=\"Helvetica,sans-Serif\" font-size=\"14.00\">(...)</text>\n",
       "</g>\n",
       "<!-- 3&#45;&gt;11 -->\n",
       "<g id=\"edge5\" class=\"edge\">\n",
       "<title>3&#45;&gt;11</title>\n",
       "<path fill=\"none\" stroke=\"black\" d=\"M211.64,-71.67C212.61,-63.88 213.68,-55.35 214.67,-47.47\"/>\n",
       "<polygon fill=\"black\" stroke=\"black\" points=\"218.13,-48.05 215.9,-37.69 211.18,-47.18 218.13,-48.05\"/>\n",
       "</g>\n",
       "<!-- 13 -->\n",
       "<g id=\"node8\" class=\"node\">\n",
       "<title>13</title>\n",
       "<polygon fill=\"#f0b58b\" stroke=\"black\" points=\"446.5,-127.25 300,-127.25 300,-72 446.5,-72 446.5,-127.25\"/>\n",
       "<text text-anchor=\"middle\" x=\"373.25\" y=\"-109.95\" font-family=\"Helvetica,sans-Serif\" font-size=\"14.00\">PV &lt;= 0.5</text>\n",
       "<text text-anchor=\"middle\" x=\"373.25\" y=\"-94.2\" font-family=\"Helvetica,sans-Serif\" font-size=\"14.00\">samples = 25.5%</text>\n",
       "<text text-anchor=\"middle\" x=\"373.25\" y=\"-78.45\" font-family=\"Helvetica,sans-Serif\" font-size=\"14.00\">value = [0.706, 0.294]</text>\n",
       "</g>\n",
       "<!-- 12&#45;&gt;13 -->\n",
       "<g id=\"edge7\" class=\"edge\">\n",
       "<title>12&#45;&gt;13</title>\n",
       "<path fill=\"none\" stroke=\"black\" d=\"M373.25,-163.1C373.25,-155.58 373.25,-147.25 373.25,-139.18\"/>\n",
       "<polygon fill=\"black\" stroke=\"black\" points=\"376.75,-139.21 373.25,-129.21 369.75,-139.21 376.75,-139.21\"/>\n",
       "</g>\n",
       "<!-- 22 -->\n",
       "<g id=\"node11\" class=\"node\">\n",
       "<title>22</title>\n",
       "<polygon fill=\"#8fc7f0\" stroke=\"black\" points=\"611.5,-127.25 465,-127.25 465,-72 611.5,-72 611.5,-127.25\"/>\n",
       "<text text-anchor=\"middle\" x=\"538.25\" y=\"-109.95\" font-family=\"Helvetica,sans-Serif\" font-size=\"14.00\">smokenew &lt;= 0.5</text>\n",
       "<text text-anchor=\"middle\" x=\"538.25\" y=\"-94.2\" font-family=\"Helvetica,sans-Serif\" font-size=\"14.00\">samples = 57.4%</text>\n",
       "<text text-anchor=\"middle\" x=\"538.25\" y=\"-78.45\" font-family=\"Helvetica,sans-Serif\" font-size=\"14.00\">value = [0.302, 0.698]</text>\n",
       "</g>\n",
       "<!-- 12&#45;&gt;22 -->\n",
       "<g id=\"edge10\" class=\"edge\">\n",
       "<title>12&#45;&gt;22</title>\n",
       "<path fill=\"none\" stroke=\"black\" d=\"M423.2,-162.85C440.49,-153.5 460.05,-142.93 478.07,-133.18\"/>\n",
       "<polygon fill=\"black\" stroke=\"black\" points=\"479.72,-136.26 486.85,-128.43 476.39,-130.11 479.72,-136.26\"/>\n",
       "</g>\n",
       "<!-- 14 -->\n",
       "<g id=\"node9\" class=\"node\">\n",
       "<title>14</title>\n",
       "<polygon fill=\"#c0c0c0\" stroke=\"black\" points=\"356.25,-36 302.25,-36 302.25,0 356.25,0 356.25,-36\"/>\n",
       "<text text-anchor=\"middle\" x=\"329.25\" y=\"-12.57\" font-family=\"Helvetica,sans-Serif\" font-size=\"14.00\">(...)</text>\n",
       "</g>\n",
       "<!-- 13&#45;&gt;14 -->\n",
       "<g id=\"edge8\" class=\"edge\">\n",
       "<title>13&#45;&gt;14</title>\n",
       "<path fill=\"none\" stroke=\"black\" d=\"M358.35,-71.67C353.8,-63.42 348.78,-54.35 344.22,-46.09\"/>\n",
       "<polygon fill=\"black\" stroke=\"black\" points=\"347.38,-44.58 339.48,-37.52 341.26,-47.96 347.38,-44.58\"/>\n",
       "</g>\n",
       "<!-- 21 -->\n",
       "<g id=\"node10\" class=\"node\">\n",
       "<title>21</title>\n",
       "<polygon fill=\"#c0c0c0\" stroke=\"black\" points=\"428.25,-36 374.25,-36 374.25,0 428.25,0 428.25,-36\"/>\n",
       "<text text-anchor=\"middle\" x=\"401.25\" y=\"-12.57\" font-family=\"Helvetica,sans-Serif\" font-size=\"14.00\">(...)</text>\n",
       "</g>\n",
       "<!-- 13&#45;&gt;21 -->\n",
       "<g id=\"edge9\" class=\"edge\">\n",
       "<title>13&#45;&gt;21</title>\n",
       "<path fill=\"none\" stroke=\"black\" d=\"M382.73,-71.67C385.53,-63.69 388.61,-54.95 391.43,-46.92\"/>\n",
       "<polygon fill=\"black\" stroke=\"black\" points=\"394.69,-48.21 394.7,-37.62 388.08,-45.89 394.69,-48.21\"/>\n",
       "</g>\n",
       "<!-- 23 -->\n",
       "<g id=\"node12\" class=\"node\">\n",
       "<title>23</title>\n",
       "<polygon fill=\"#c0c0c0\" stroke=\"black\" points=\"529.25,-36 475.25,-36 475.25,0 529.25,0 529.25,-36\"/>\n",
       "<text text-anchor=\"middle\" x=\"502.25\" y=\"-12.57\" font-family=\"Helvetica,sans-Serif\" font-size=\"14.00\">(...)</text>\n",
       "</g>\n",
       "<!-- 22&#45;&gt;23 -->\n",
       "<g id=\"edge11\" class=\"edge\">\n",
       "<title>22&#45;&gt;23</title>\n",
       "<path fill=\"none\" stroke=\"black\" d=\"M526.06,-71.67C522.42,-63.6 518.41,-54.75 514.75,-46.64\"/>\n",
       "<polygon fill=\"black\" stroke=\"black\" points=\"517.96,-45.24 510.65,-37.57 511.58,-48.12 517.96,-45.24\"/>\n",
       "</g>\n",
       "<!-- 34 -->\n",
       "<g id=\"node13\" class=\"node\">\n",
       "<title>34</title>\n",
       "<polygon fill=\"#c0c0c0\" stroke=\"black\" points=\"601.25,-36 547.25,-36 547.25,0 601.25,0 601.25,-36\"/>\n",
       "<text text-anchor=\"middle\" x=\"574.25\" y=\"-12.57\" font-family=\"Helvetica,sans-Serif\" font-size=\"14.00\">(...)</text>\n",
       "</g>\n",
       "<!-- 22&#45;&gt;34 -->\n",
       "<g id=\"edge12\" class=\"edge\">\n",
       "<title>22&#45;&gt;34</title>\n",
       "<path fill=\"none\" stroke=\"black\" d=\"M550.44,-71.67C554.08,-63.6 558.09,-54.75 561.75,-46.64\"/>\n",
       "<polygon fill=\"black\" stroke=\"black\" points=\"564.92,-48.12 565.85,-37.57 558.54,-45.24 564.92,-48.12\"/>\n",
       "</g>\n",
       "</g>\n",
       "</svg>\n"
      ],
      "text/plain": [
       "<graphviz.sources.Source at 0x1a1c7010c10>"
      ]
     },
     "metadata": {},
     "output_type": "display_data"
    },
    {
     "data": {
      "image/svg+xml": [
       "<?xml version=\"1.0\" encoding=\"UTF-8\" standalone=\"no\"?>\n",
       "<!DOCTYPE svg PUBLIC \"-//W3C//DTD SVG 1.1//EN\"\n",
       " \"http://www.w3.org/Graphics/SVG/1.1/DTD/svg11.dtd\">\n",
       "<!-- Generated by graphviz version 11.0.0 (0)\n",
       " -->\n",
       "<!-- Title: Tree Pages: 1 -->\n",
       "<svg width=\"656pt\" height=\"318pt\"\n",
       " viewBox=\"0.00 0.00 656.25 317.75\" xmlns=\"http://www.w3.org/2000/svg\" xmlns:xlink=\"http://www.w3.org/1999/xlink\">\n",
       "<g id=\"graph0\" class=\"graph\" transform=\"scale(1 1) rotate(0) translate(4 313.75)\">\n",
       "<title>Tree</title>\n",
       "<polygon fill=\"white\" stroke=\"none\" points=\"-4,4 -4,-313.75 652.25,-313.75 652.25,4 -4,4\"/>\n",
       "<!-- 0 -->\n",
       "<g id=\"node1\" class=\"node\">\n",
       "<title>0</title>\n",
       "<polygon fill=\"#fcf2ea\" stroke=\"black\" points=\"393.5,-309.75 247,-309.75 247,-254.5 393.5,-254.5 393.5,-309.75\"/>\n",
       "<text text-anchor=\"middle\" x=\"320.25\" y=\"-292.45\" font-family=\"Helvetica,sans-Serif\" font-size=\"14.00\">EV &lt;= 0.5</text>\n",
       "<text text-anchor=\"middle\" x=\"320.25\" y=\"-276.7\" font-family=\"Helvetica,sans-Serif\" font-size=\"14.00\">samples = 100.0%</text>\n",
       "<text text-anchor=\"middle\" x=\"320.25\" y=\"-260.95\" font-family=\"Helvetica,sans-Serif\" font-size=\"14.00\">value = [0.528, 0.472]</text>\n",
       "</g>\n",
       "<!-- 1 -->\n",
       "<g id=\"node2\" class=\"node\">\n",
       "<title>1</title>\n",
       "<polygon fill=\"#f4c9aa\" stroke=\"black\" points=\"311.5,-218.5 165,-218.5 165,-163.25 311.5,-163.25 311.5,-218.5\"/>\n",
       "<text text-anchor=\"middle\" x=\"238.25\" y=\"-201.2\" font-family=\"Helvetica,sans-Serif\" font-size=\"14.00\">incomenew &lt;= 0.5</text>\n",
       "<text text-anchor=\"middle\" x=\"238.25\" y=\"-185.45\" font-family=\"Helvetica,sans-Serif\" font-size=\"14.00\">samples = 44.2%</text>\n",
       "<text text-anchor=\"middle\" x=\"238.25\" y=\"-169.7\" font-family=\"Helvetica,sans-Serif\" font-size=\"14.00\">value = [0.636, 0.364]</text>\n",
       "</g>\n",
       "<!-- 0&#45;&gt;1 -->\n",
       "<g id=\"edge1\" class=\"edge\">\n",
       "<title>0&#45;&gt;1</title>\n",
       "<path fill=\"none\" stroke=\"black\" d=\"M295.65,-254.35C287.85,-245.86 279.11,-236.35 270.85,-227.36\"/>\n",
       "<polygon fill=\"black\" stroke=\"black\" points=\"273.49,-225.05 264.14,-220.06 268.33,-229.79 273.49,-225.05\"/>\n",
       "<text text-anchor=\"middle\" x=\"262.06\" y=\"-238.5\" font-family=\"Helvetica,sans-Serif\" font-size=\"14.00\">True</text>\n",
       "</g>\n",
       "<!-- 18 -->\n",
       "<g id=\"node9\" class=\"node\">\n",
       "<title>18</title>\n",
       "<polygon fill=\"#d2e9f9\" stroke=\"black\" points=\"476.5,-218.5 330,-218.5 330,-163.25 476.5,-163.25 476.5,-218.5\"/>\n",
       "<text text-anchor=\"middle\" x=\"403.25\" y=\"-201.2\" font-family=\"Helvetica,sans-Serif\" font-size=\"14.00\">SV &lt;= 0.5</text>\n",
       "<text text-anchor=\"middle\" x=\"403.25\" y=\"-185.45\" font-family=\"Helvetica,sans-Serif\" font-size=\"14.00\">samples = 55.8%</text>\n",
       "<text text-anchor=\"middle\" x=\"403.25\" y=\"-169.7\" font-family=\"Helvetica,sans-Serif\" font-size=\"14.00\">value = [0.436, 0.564]</text>\n",
       "</g>\n",
       "<!-- 0&#45;&gt;18 -->\n",
       "<g id=\"edge8\" class=\"edge\">\n",
       "<title>0&#45;&gt;18</title>\n",
       "<path fill=\"none\" stroke=\"black\" d=\"M345.15,-254.35C353.04,-245.86 361.89,-236.35 370.25,-227.36\"/>\n",
       "<polygon fill=\"black\" stroke=\"black\" points=\"372.8,-229.76 377.05,-220.05 367.67,-224.99 372.8,-229.76\"/>\n",
       "<text text-anchor=\"middle\" x=\"378.98\" y=\"-238.5\" font-family=\"Helvetica,sans-Serif\" font-size=\"14.00\">False</text>\n",
       "</g>\n",
       "<!-- 2 -->\n",
       "<g id=\"node3\" class=\"node\">\n",
       "<title>2</title>\n",
       "<polygon fill=\"#9ccef2\" stroke=\"black\" points=\"146.5,-127.25 0,-127.25 0,-72 146.5,-72 146.5,-127.25\"/>\n",
       "<text text-anchor=\"middle\" x=\"73.25\" y=\"-109.95\" font-family=\"Helvetica,sans-Serif\" font-size=\"14.00\">CB &lt;= 0.5</text>\n",
       "<text text-anchor=\"middle\" x=\"73.25\" y=\"-94.2\" font-family=\"Helvetica,sans-Serif\" font-size=\"14.00\">samples = 11.6%</text>\n",
       "<text text-anchor=\"middle\" x=\"73.25\" y=\"-78.45\" font-family=\"Helvetica,sans-Serif\" font-size=\"14.00\">value = [0.333, 0.667]</text>\n",
       "</g>\n",
       "<!-- 1&#45;&gt;2 -->\n",
       "<g id=\"edge2\" class=\"edge\">\n",
       "<title>1&#45;&gt;2</title>\n",
       "<path fill=\"none\" stroke=\"black\" d=\"M188.3,-162.85C171.01,-153.5 151.45,-142.93 133.43,-133.18\"/>\n",
       "<polygon fill=\"black\" stroke=\"black\" points=\"135.11,-130.11 124.65,-128.43 131.78,-136.26 135.11,-130.11\"/>\n",
       "</g>\n",
       "<!-- 9 -->\n",
       "<g id=\"node6\" class=\"node\">\n",
       "<title>9</title>\n",
       "<polygon fill=\"#f0b68c\" stroke=\"black\" points=\"311.5,-127.25 165,-127.25 165,-72 311.5,-72 311.5,-127.25\"/>\n",
       "<text text-anchor=\"middle\" x=\"238.25\" y=\"-109.95\" font-family=\"Helvetica,sans-Serif\" font-size=\"14.00\">Age &lt;= 20.0</text>\n",
       "<text text-anchor=\"middle\" x=\"238.25\" y=\"-94.2\" font-family=\"Helvetica,sans-Serif\" font-size=\"14.00\">samples = 32.6%</text>\n",
       "<text text-anchor=\"middle\" x=\"238.25\" y=\"-78.45\" font-family=\"Helvetica,sans-Serif\" font-size=\"14.00\">value = [0.704, 0.296]</text>\n",
       "</g>\n",
       "<!-- 1&#45;&gt;9 -->\n",
       "<g id=\"edge5\" class=\"edge\">\n",
       "<title>1&#45;&gt;9</title>\n",
       "<path fill=\"none\" stroke=\"black\" d=\"M238.25,-163.1C238.25,-155.58 238.25,-147.25 238.25,-139.18\"/>\n",
       "<polygon fill=\"black\" stroke=\"black\" points=\"241.75,-139.21 238.25,-129.21 234.75,-139.21 241.75,-139.21\"/>\n",
       "</g>\n",
       "<!-- 3 -->\n",
       "<g id=\"node4\" class=\"node\">\n",
       "<title>3</title>\n",
       "<polygon fill=\"#c0c0c0\" stroke=\"black\" points=\"96.25,-36 42.25,-36 42.25,0 96.25,0 96.25,-36\"/>\n",
       "<text text-anchor=\"middle\" x=\"69.25\" y=\"-12.57\" font-family=\"Helvetica,sans-Serif\" font-size=\"14.00\">(...)</text>\n",
       "</g>\n",
       "<!-- 2&#45;&gt;3 -->\n",
       "<g id=\"edge3\" class=\"edge\">\n",
       "<title>2&#45;&gt;3</title>\n",
       "<path fill=\"none\" stroke=\"black\" d=\"M71.9,-71.67C71.5,-63.88 71.08,-55.35 70.68,-47.47\"/>\n",
       "<polygon fill=\"black\" stroke=\"black\" points=\"74.19,-47.52 70.19,-37.7 67.2,-47.87 74.19,-47.52\"/>\n",
       "</g>\n",
       "<!-- 4 -->\n",
       "<g id=\"node5\" class=\"node\">\n",
       "<title>4</title>\n",
       "<polygon fill=\"#c0c0c0\" stroke=\"black\" points=\"168.25,-36 114.25,-36 114.25,0 168.25,0 168.25,-36\"/>\n",
       "<text text-anchor=\"middle\" x=\"141.25\" y=\"-12.57\" font-family=\"Helvetica,sans-Serif\" font-size=\"14.00\">(...)</text>\n",
       "</g>\n",
       "<!-- 2&#45;&gt;4 -->\n",
       "<g id=\"edge4\" class=\"edge\">\n",
       "<title>2&#45;&gt;4</title>\n",
       "<path fill=\"none\" stroke=\"black\" d=\"M96.27,-71.67C103.71,-62.96 111.93,-53.34 119.28,-44.72\"/>\n",
       "<polygon fill=\"black\" stroke=\"black\" points=\"121.75,-47.22 125.59,-37.34 116.43,-42.67 121.75,-47.22\"/>\n",
       "</g>\n",
       "<!-- 10 -->\n",
       "<g id=\"node7\" class=\"node\">\n",
       "<title>10</title>\n",
       "<polygon fill=\"#c0c0c0\" stroke=\"black\" points=\"252.25,-36 198.25,-36 198.25,0 252.25,0 252.25,-36\"/>\n",
       "<text text-anchor=\"middle\" x=\"225.25\" y=\"-12.57\" font-family=\"Helvetica,sans-Serif\" font-size=\"14.00\">(...)</text>\n",
       "</g>\n",
       "<!-- 9&#45;&gt;10 -->\n",
       "<g id=\"edge6\" class=\"edge\">\n",
       "<title>9&#45;&gt;10</title>\n",
       "<path fill=\"none\" stroke=\"black\" d=\"M233.85,-71.67C232.58,-63.88 231.19,-55.35 229.9,-47.47\"/>\n",
       "<polygon fill=\"black\" stroke=\"black\" points=\"233.37,-46.99 228.3,-37.69 226.46,-48.12 233.37,-46.99\"/>\n",
       "</g>\n",
       "<!-- 17 -->\n",
       "<g id=\"node8\" class=\"node\">\n",
       "<title>17</title>\n",
       "<polygon fill=\"#c0c0c0\" stroke=\"black\" points=\"324.25,-36 270.25,-36 270.25,0 324.25,0 324.25,-36\"/>\n",
       "<text text-anchor=\"middle\" x=\"297.25\" y=\"-12.57\" font-family=\"Helvetica,sans-Serif\" font-size=\"14.00\">(...)</text>\n",
       "</g>\n",
       "<!-- 9&#45;&gt;17 -->\n",
       "<g id=\"edge7\" class=\"edge\">\n",
       "<title>9&#45;&gt;17</title>\n",
       "<path fill=\"none\" stroke=\"black\" d=\"M258.22,-71.67C264.54,-63.14 271.51,-53.74 277.79,-45.27\"/>\n",
       "<polygon fill=\"black\" stroke=\"black\" points=\"280.47,-47.53 283.61,-37.41 274.84,-43.36 280.47,-47.53\"/>\n",
       "</g>\n",
       "<!-- 19 -->\n",
       "<g id=\"node10\" class=\"node\">\n",
       "<title>19</title>\n",
       "<polygon fill=\"#efb083\" stroke=\"black\" points=\"476.5,-127.25 330,-127.25 330,-72 476.5,-72 476.5,-127.25\"/>\n",
       "<text text-anchor=\"middle\" x=\"403.25\" y=\"-109.95\" font-family=\"Helvetica,sans-Serif\" font-size=\"14.00\">ethnicitynew &lt;= 0.5</text>\n",
       "<text text-anchor=\"middle\" x=\"403.25\" y=\"-94.2\" font-family=\"Helvetica,sans-Serif\" font-size=\"14.00\">samples = 16.3%</text>\n",
       "<text text-anchor=\"middle\" x=\"403.25\" y=\"-78.45\" font-family=\"Helvetica,sans-Serif\" font-size=\"14.00\">value = [0.727, 0.273]</text>\n",
       "</g>\n",
       "<!-- 18&#45;&gt;19 -->\n",
       "<g id=\"edge9\" class=\"edge\">\n",
       "<title>18&#45;&gt;19</title>\n",
       "<path fill=\"none\" stroke=\"black\" d=\"M403.25,-163.1C403.25,-155.58 403.25,-147.25 403.25,-139.18\"/>\n",
       "<polygon fill=\"black\" stroke=\"black\" points=\"406.75,-139.21 403.25,-129.21 399.75,-139.21 406.75,-139.21\"/>\n",
       "</g>\n",
       "<!-- 30 -->\n",
       "<g id=\"node13\" class=\"node\">\n",
       "<title>30</title>\n",
       "<polygon fill=\"#97cbf1\" stroke=\"black\" points=\"641.5,-127.25 495,-127.25 495,-72 641.5,-72 641.5,-127.25\"/>\n",
       "<text text-anchor=\"middle\" x=\"568.25\" y=\"-109.95\" font-family=\"Helvetica,sans-Serif\" font-size=\"14.00\">Age &lt;= 17.5</text>\n",
       "<text text-anchor=\"middle\" x=\"568.25\" y=\"-94.2\" font-family=\"Helvetica,sans-Serif\" font-size=\"14.00\">samples = 39.5%</text>\n",
       "<text text-anchor=\"middle\" x=\"568.25\" y=\"-78.45\" font-family=\"Helvetica,sans-Serif\" font-size=\"14.00\">value = [0.321, 0.679]</text>\n",
       "</g>\n",
       "<!-- 18&#45;&gt;30 -->\n",
       "<g id=\"edge12\" class=\"edge\">\n",
       "<title>18&#45;&gt;30</title>\n",
       "<path fill=\"none\" stroke=\"black\" d=\"M453.2,-162.85C470.49,-153.5 490.05,-142.93 508.07,-133.18\"/>\n",
       "<polygon fill=\"black\" stroke=\"black\" points=\"509.72,-136.26 516.85,-128.43 506.39,-130.11 509.72,-136.26\"/>\n",
       "</g>\n",
       "<!-- 20 -->\n",
       "<g id=\"node11\" class=\"node\">\n",
       "<title>20</title>\n",
       "<polygon fill=\"#c0c0c0\" stroke=\"black\" points=\"413.25,-36 359.25,-36 359.25,0 413.25,0 413.25,-36\"/>\n",
       "<text text-anchor=\"middle\" x=\"386.25\" y=\"-12.57\" font-family=\"Helvetica,sans-Serif\" font-size=\"14.00\">(...)</text>\n",
       "</g>\n",
       "<!-- 19&#45;&gt;20 -->\n",
       "<g id=\"edge10\" class=\"edge\">\n",
       "<title>19&#45;&gt;20</title>\n",
       "<path fill=\"none\" stroke=\"black\" d=\"M397.49,-71.67C395.81,-63.79 393.97,-55.15 392.27,-47.2\"/>\n",
       "<polygon fill=\"black\" stroke=\"black\" points=\"395.75,-46.72 390.24,-37.67 388.9,-48.18 395.75,-46.72\"/>\n",
       "</g>\n",
       "<!-- 21 -->\n",
       "<g id=\"node12\" class=\"node\">\n",
       "<title>21</title>\n",
       "<polygon fill=\"#c0c0c0\" stroke=\"black\" points=\"485.25,-36 431.25,-36 431.25,0 485.25,0 485.25,-36\"/>\n",
       "<text text-anchor=\"middle\" x=\"458.25\" y=\"-12.57\" font-family=\"Helvetica,sans-Serif\" font-size=\"14.00\">(...)</text>\n",
       "</g>\n",
       "<!-- 19&#45;&gt;21 -->\n",
       "<g id=\"edge11\" class=\"edge\">\n",
       "<title>19&#45;&gt;21</title>\n",
       "<path fill=\"none\" stroke=\"black\" d=\"M421.87,-71.67C427.69,-63.24 434.11,-53.94 439.92,-45.54\"/>\n",
       "<polygon fill=\"black\" stroke=\"black\" points=\"442.71,-47.65 445.51,-37.44 436.95,-43.68 442.71,-47.65\"/>\n",
       "</g>\n",
       "<!-- 31 -->\n",
       "<g id=\"node14\" class=\"node\">\n",
       "<title>31</title>\n",
       "<polygon fill=\"#c0c0c0\" stroke=\"black\" points=\"576.25,-36 522.25,-36 522.25,0 576.25,0 576.25,-36\"/>\n",
       "<text text-anchor=\"middle\" x=\"549.25\" y=\"-12.57\" font-family=\"Helvetica,sans-Serif\" font-size=\"14.00\">(...)</text>\n",
       "</g>\n",
       "<!-- 30&#45;&gt;31 -->\n",
       "<g id=\"edge13\" class=\"edge\">\n",
       "<title>30&#45;&gt;31</title>\n",
       "<path fill=\"none\" stroke=\"black\" d=\"M561.82,-71.67C559.94,-63.79 557.88,-55.15 555.98,-47.2\"/>\n",
       "<polygon fill=\"black\" stroke=\"black\" points=\"559.43,-46.58 553.7,-37.66 552.62,-48.2 559.43,-46.58\"/>\n",
       "</g>\n",
       "<!-- 32 -->\n",
       "<g id=\"node15\" class=\"node\">\n",
       "<title>32</title>\n",
       "<polygon fill=\"#c0c0c0\" stroke=\"black\" points=\"648.25,-36 594.25,-36 594.25,0 648.25,0 648.25,-36\"/>\n",
       "<text text-anchor=\"middle\" x=\"621.25\" y=\"-12.57\" font-family=\"Helvetica,sans-Serif\" font-size=\"14.00\">(...)</text>\n",
       "</g>\n",
       "<!-- 30&#45;&gt;32 -->\n",
       "<g id=\"edge14\" class=\"edge\">\n",
       "<title>30&#45;&gt;32</title>\n",
       "<path fill=\"none\" stroke=\"black\" d=\"M586.19,-71.67C591.81,-63.24 597.99,-53.94 603.58,-45.54\"/>\n",
       "<polygon fill=\"black\" stroke=\"black\" points=\"606.34,-47.72 608.97,-37.45 600.51,-43.84 606.34,-47.72\"/>\n",
       "</g>\n",
       "</g>\n",
       "</svg>\n"
      ],
      "text/plain": [
       "<graphviz.sources.Source at 0x1a1c5895fd0>"
      ]
     },
     "metadata": {},
     "output_type": "display_data"
    }
   ],
   "source": [
    "# Export the first three decision trees from the forest\n",
    "\n",
    "for i in range(3):\n",
    "    tree = best_rf.estimators_[i]\n",
    "    dot_data = export_graphviz(tree,\n",
    "                               feature_names=trn_xs.columns,  \n",
    "                               filled=True,  \n",
    "                               max_depth=2, \n",
    "                               impurity=False, \n",
    "                               proportion=True)\n",
    "    graph = graphviz.Source(dot_data)\n",
    "    display(graph)"
   ]
  },
  {
   "cell_type": "markdown",
   "id": "f0e42f92-cc8f-4a02-9b73-60f4e00911f9",
   "metadata": {},
   "source": [
    "## Saving The Model"
   ]
  },
  {
   "cell_type": "raw",
   "id": "41554500-80e2-4eea-b1a3-6304f8bd9997",
   "metadata": {},
   "source": [
    "with open(\"./models/hp_tuning_70_17072024_0144_changed_name.pkl\", \"wb\") as f:\n",
    "    dump(best_rf, f, protocol=5)"
   ]
  },
  {
   "cell_type": "markdown",
   "id": "d9879e63-5017-411c-8b7f-8c9f4c5451ff",
   "metadata": {},
   "source": [
    "## Loading The Model"
   ]
  },
  {
   "cell_type": "raw",
   "id": "31449b8d-311b-4e80-a813-ec92f614facc",
   "metadata": {},
   "source": [
    "with open(\"filename.pkl\", \"rb\") as f:\n",
    "    mymodel = load(f)"
   ]
  },
  {
   "cell_type": "markdown",
   "id": "92189572-a2da-4b76-b4f9-7209669c9fe5",
   "metadata": {},
   "source": [
    "---"
   ]
  },
  {
   "cell_type": "markdown",
   "id": "b2cd25cf-647b-4ebb-a89c-3e9689b48daf",
   "metadata": {},
   "source": [
    "# Finding p-value"
   ]
  },
  {
   "cell_type": "code",
   "execution_count": 151,
   "id": "b4ea0bfa-3df9-4571-b8e0-c7d497896920",
   "metadata": {},
   "outputs": [],
   "source": [
    "sm_X, sm_Y = xs_y(df)"
   ]
  },
  {
   "cell_type": "code",
   "execution_count": 153,
   "id": "81c737c6-75d1-4ee1-a853-1a79aa0c4320",
   "metadata": {},
   "outputs": [],
   "source": [
    "sm_X2 = sm.add_constant(sm_X)"
   ]
  },
  {
   "cell_type": "code",
   "execution_count": 154,
   "id": "2aa7ccd5-e7da-42f7-88db-90192211b49e",
   "metadata": {},
   "outputs": [],
   "source": [
    "est = sm.OLS(sm_Y, sm_X2)"
   ]
  },
  {
   "cell_type": "code",
   "execution_count": 155,
   "id": "c7645749-0899-448d-9be6-7ec404e4dc0f",
   "metadata": {},
   "outputs": [],
   "source": [
    "est2 = est.fit()"
   ]
  },
  {
   "cell_type": "code",
   "execution_count": 156,
   "id": "d88ef60f-44a8-4d84-9b19-49f984ad20e6",
   "metadata": {},
   "outputs": [
    {
     "data": {
      "text/html": [
       "<table class=\"simpletable\">\n",
       "<caption>OLS Regression Results</caption>\n",
       "<tr>\n",
       "  <th>Dep. Variable:</th>     <td>MINIdepression</td>  <th>  R-squared:         </th> <td>   0.166</td>\n",
       "</tr>\n",
       "<tr>\n",
       "  <th>Model:</th>                   <td>OLS</td>       <th>  Adj. R-squared:    </th> <td>   0.038</td>\n",
       "</tr>\n",
       "<tr>\n",
       "  <th>Method:</th>             <td>Least Squares</td>  <th>  F-statistic:       </th> <td>   1.293</td>\n",
       "</tr>\n",
       "<tr>\n",
       "  <th>Date:</th>             <td>Wed, 17 Jul 2024</td> <th>  Prob (F-statistic):</th>  <td> 0.240</td> \n",
       "</tr>\n",
       "<tr>\n",
       "  <th>Time:</th>                 <td>11:43:26</td>     <th>  Log-Likelihood:    </th> <td> -57.343</td>\n",
       "</tr>\n",
       "<tr>\n",
       "  <th>No. Observations:</th>      <td>    91</td>      <th>  AIC:               </th> <td>   140.7</td>\n",
       "</tr>\n",
       "<tr>\n",
       "  <th>Df Residuals:</th>          <td>    78</td>      <th>  BIC:               </th> <td>   173.3</td>\n",
       "</tr>\n",
       "<tr>\n",
       "  <th>Df Model:</th>              <td>    12</td>      <th>                     </th>     <td> </td>   \n",
       "</tr>\n",
       "<tr>\n",
       "  <th>Covariance Type:</th>      <td>nonrobust</td>    <th>                     </th>     <td> </td>   \n",
       "</tr>\n",
       "</table>\n",
       "<table class=\"simpletable\">\n",
       "<tr>\n",
       "        <td></td>           <th>coef</th>     <th>std err</th>      <th>t</th>      <th>P>|t|</th>  <th>[0.025</th>    <th>0.975]</th>  \n",
       "</tr>\n",
       "<tr>\n",
       "  <th>const</th>         <td>    0.2286</td> <td>    0.429</td> <td>    0.533</td> <td> 0.596</td> <td>   -0.625</td> <td>    1.083</td>\n",
       "</tr>\n",
       "<tr>\n",
       "  <th>ethnicitynew</th>  <td>   -0.0882</td> <td>    0.180</td> <td>   -0.491</td> <td> 0.625</td> <td>   -0.446</td> <td>    0.270</td>\n",
       "</tr>\n",
       "<tr>\n",
       "  <th>educationnew</th>  <td>    0.1503</td> <td>    0.131</td> <td>    1.146</td> <td> 0.255</td> <td>   -0.111</td> <td>    0.411</td>\n",
       "</tr>\n",
       "<tr>\n",
       "  <th>occupationnew</th> <td>    0.0288</td> <td>    0.085</td> <td>    0.337</td> <td> 0.737</td> <td>   -0.141</td> <td>    0.199</td>\n",
       "</tr>\n",
       "<tr>\n",
       "  <th>incomenew</th>     <td>   -0.0035</td> <td>    0.142</td> <td>   -0.025</td> <td> 0.980</td> <td>   -0.287</td> <td>    0.280</td>\n",
       "</tr>\n",
       "<tr>\n",
       "  <th>smokenew</th>      <td>    0.2275</td> <td>    0.142</td> <td>    1.607</td> <td> 0.112</td> <td>   -0.054</td> <td>    0.509</td>\n",
       "</tr>\n",
       "<tr>\n",
       "  <th>alcoholnew</th>    <td>   -0.0440</td> <td>    0.071</td> <td>   -0.618</td> <td> 0.538</td> <td>   -0.186</td> <td>    0.098</td>\n",
       "</tr>\n",
       "<tr>\n",
       "  <th>EV</th>            <td>    0.3208</td> <td>    0.137</td> <td>    2.334</td> <td> 0.022</td> <td>    0.047</td> <td>    0.595</td>\n",
       "</tr>\n",
       "<tr>\n",
       "  <th>CB</th>            <td>   -0.0562</td> <td>    0.266</td> <td>   -0.211</td> <td> 0.833</td> <td>   -0.585</td> <td>    0.473</td>\n",
       "</tr>\n",
       "<tr>\n",
       "  <th>PV</th>            <td>   -0.0628</td> <td>    0.138</td> <td>   -0.456</td> <td> 0.649</td> <td>   -0.337</td> <td>    0.211</td>\n",
       "</tr>\n",
       "<tr>\n",
       "  <th>SV</th>            <td>    0.1131</td> <td>    0.132</td> <td>    0.857</td> <td> 0.394</td> <td>   -0.150</td> <td>    0.376</td>\n",
       "</tr>\n",
       "<tr>\n",
       "  <th>IPV</th>           <td>    0.0460</td> <td>    0.327</td> <td>    0.140</td> <td> 0.889</td> <td>   -0.606</td> <td>    0.697</td>\n",
       "</tr>\n",
       "<tr>\n",
       "  <th>Age</th>           <td>   -0.0025</td> <td>    0.010</td> <td>   -0.237</td> <td> 0.813</td> <td>   -0.023</td> <td>    0.018</td>\n",
       "</tr>\n",
       "</table>\n",
       "<table class=\"simpletable\">\n",
       "<tr>\n",
       "  <th>Omnibus:</th>       <td>36.396</td> <th>  Durbin-Watson:     </th> <td>   2.139</td>\n",
       "</tr>\n",
       "<tr>\n",
       "  <th>Prob(Omnibus):</th> <td> 0.000</td> <th>  Jarque-Bera (JB):  </th> <td>   5.961</td>\n",
       "</tr>\n",
       "<tr>\n",
       "  <th>Skew:</th>          <td>-0.063</td> <th>  Prob(JB):          </th> <td>  0.0508</td>\n",
       "</tr>\n",
       "<tr>\n",
       "  <th>Kurtosis:</th>      <td> 1.753</td> <th>  Cond. No.          </th> <td>    170.</td>\n",
       "</tr>\n",
       "</table><br/><br/>Notes:<br/>[1] Standard Errors assume that the covariance matrix of the errors is correctly specified."
      ],
      "text/latex": [
       "\\begin{center}\n",
       "\\begin{tabular}{lclc}\n",
       "\\toprule\n",
       "\\textbf{Dep. Variable:}    &  MINIdepression  & \\textbf{  R-squared:         } &     0.166   \\\\\n",
       "\\textbf{Model:}            &       OLS        & \\textbf{  Adj. R-squared:    } &     0.038   \\\\\n",
       "\\textbf{Method:}           &  Least Squares   & \\textbf{  F-statistic:       } &     1.293   \\\\\n",
       "\\textbf{Date:}             & Wed, 17 Jul 2024 & \\textbf{  Prob (F-statistic):} &    0.240    \\\\\n",
       "\\textbf{Time:}             &     11:43:26     & \\textbf{  Log-Likelihood:    } &   -57.343   \\\\\n",
       "\\textbf{No. Observations:} &          91      & \\textbf{  AIC:               } &     140.7   \\\\\n",
       "\\textbf{Df Residuals:}     &          78      & \\textbf{  BIC:               } &     173.3   \\\\\n",
       "\\textbf{Df Model:}         &          12      & \\textbf{                     } &             \\\\\n",
       "\\textbf{Covariance Type:}  &    nonrobust     & \\textbf{                     } &             \\\\\n",
       "\\bottomrule\n",
       "\\end{tabular}\n",
       "\\begin{tabular}{lcccccc}\n",
       "                       & \\textbf{coef} & \\textbf{std err} & \\textbf{t} & \\textbf{P$> |$t$|$} & \\textbf{[0.025} & \\textbf{0.975]}  \\\\\n",
       "\\midrule\n",
       "\\textbf{const}         &       0.2286  &        0.429     &     0.533  &         0.596        &       -0.625    &        1.083     \\\\\n",
       "\\textbf{ethnicitynew}  &      -0.0882  &        0.180     &    -0.491  &         0.625        &       -0.446    &        0.270     \\\\\n",
       "\\textbf{educationnew}  &       0.1503  &        0.131     &     1.146  &         0.255        &       -0.111    &        0.411     \\\\\n",
       "\\textbf{occupationnew} &       0.0288  &        0.085     &     0.337  &         0.737        &       -0.141    &        0.199     \\\\\n",
       "\\textbf{incomenew}     &      -0.0035  &        0.142     &    -0.025  &         0.980        &       -0.287    &        0.280     \\\\\n",
       "\\textbf{smokenew}      &       0.2275  &        0.142     &     1.607  &         0.112        &       -0.054    &        0.509     \\\\\n",
       "\\textbf{alcoholnew}    &      -0.0440  &        0.071     &    -0.618  &         0.538        &       -0.186    &        0.098     \\\\\n",
       "\\textbf{EV}            &       0.3208  &        0.137     &     2.334  &         0.022        &        0.047    &        0.595     \\\\\n",
       "\\textbf{CB}            &      -0.0562  &        0.266     &    -0.211  &         0.833        &       -0.585    &        0.473     \\\\\n",
       "\\textbf{PV}            &      -0.0628  &        0.138     &    -0.456  &         0.649        &       -0.337    &        0.211     \\\\\n",
       "\\textbf{SV}            &       0.1131  &        0.132     &     0.857  &         0.394        &       -0.150    &        0.376     \\\\\n",
       "\\textbf{IPV}           &       0.0460  &        0.327     &     0.140  &         0.889        &       -0.606    &        0.697     \\\\\n",
       "\\textbf{Age}           &      -0.0025  &        0.010     &    -0.237  &         0.813        &       -0.023    &        0.018     \\\\\n",
       "\\bottomrule\n",
       "\\end{tabular}\n",
       "\\begin{tabular}{lclc}\n",
       "\\textbf{Omnibus:}       & 36.396 & \\textbf{  Durbin-Watson:     } &    2.139  \\\\\n",
       "\\textbf{Prob(Omnibus):} &  0.000 & \\textbf{  Jarque-Bera (JB):  } &    5.961  \\\\\n",
       "\\textbf{Skew:}          & -0.063 & \\textbf{  Prob(JB):          } &   0.0508  \\\\\n",
       "\\textbf{Kurtosis:}      &  1.753 & \\textbf{  Cond. No.          } &     170.  \\\\\n",
       "\\bottomrule\n",
       "\\end{tabular}\n",
       "%\\caption{OLS Regression Results}\n",
       "\\end{center}\n",
       "\n",
       "Notes: \\newline\n",
       " [1] Standard Errors assume that the covariance matrix of the errors is correctly specified."
      ],
      "text/plain": [
       "<class 'statsmodels.iolib.summary.Summary'>\n",
       "\"\"\"\n",
       "                            OLS Regression Results                            \n",
       "==============================================================================\n",
       "Dep. Variable:         MINIdepression   R-squared:                       0.166\n",
       "Model:                            OLS   Adj. R-squared:                  0.038\n",
       "Method:                 Least Squares   F-statistic:                     1.293\n",
       "Date:                Wed, 17 Jul 2024   Prob (F-statistic):              0.240\n",
       "Time:                        11:43:26   Log-Likelihood:                -57.343\n",
       "No. Observations:                  91   AIC:                             140.7\n",
       "Df Residuals:                      78   BIC:                             173.3\n",
       "Df Model:                          12                                         \n",
       "Covariance Type:            nonrobust                                         \n",
       "=================================================================================\n",
       "                    coef    std err          t      P>|t|      [0.025      0.975]\n",
       "---------------------------------------------------------------------------------\n",
       "const             0.2286      0.429      0.533      0.596      -0.625       1.083\n",
       "ethnicitynew     -0.0882      0.180     -0.491      0.625      -0.446       0.270\n",
       "educationnew      0.1503      0.131      1.146      0.255      -0.111       0.411\n",
       "occupationnew     0.0288      0.085      0.337      0.737      -0.141       0.199\n",
       "incomenew        -0.0035      0.142     -0.025      0.980      -0.287       0.280\n",
       "smokenew          0.2275      0.142      1.607      0.112      -0.054       0.509\n",
       "alcoholnew       -0.0440      0.071     -0.618      0.538      -0.186       0.098\n",
       "EV                0.3208      0.137      2.334      0.022       0.047       0.595\n",
       "CB               -0.0562      0.266     -0.211      0.833      -0.585       0.473\n",
       "PV               -0.0628      0.138     -0.456      0.649      -0.337       0.211\n",
       "SV                0.1131      0.132      0.857      0.394      -0.150       0.376\n",
       "IPV               0.0460      0.327      0.140      0.889      -0.606       0.697\n",
       "Age              -0.0025      0.010     -0.237      0.813      -0.023       0.018\n",
       "==============================================================================\n",
       "Omnibus:                       36.396   Durbin-Watson:                   2.139\n",
       "Prob(Omnibus):                  0.000   Jarque-Bera (JB):                5.961\n",
       "Skew:                          -0.063   Prob(JB):                       0.0508\n",
       "Kurtosis:                       1.753   Cond. No.                         170.\n",
       "==============================================================================\n",
       "\n",
       "Notes:\n",
       "[1] Standard Errors assume that the covariance matrix of the errors is correctly specified.\n",
       "\"\"\""
      ]
     },
     "execution_count": 156,
     "metadata": {},
     "output_type": "execute_result"
    }
   ],
   "source": [
    "est2.summary()"
   ]
  },
  {
   "cell_type": "markdown",
   "id": "548298e8-c60b-48f9-b7f1-54da488d1894",
   "metadata": {},
   "source": [
    "---"
   ]
  },
  {
   "cell_type": "markdown",
   "id": "e717e3e3-6004-453e-950a-8782e0d93f12",
   "metadata": {
    "jp-MarkdownHeadingCollapsed": true
   },
   "source": [
    "# FastAI Tabular Learner"
   ]
  },
  {
   "cell_type": "markdown",
   "id": "1debe797-3e25-4406-b44c-eeefb7560cc6",
   "metadata": {},
   "source": [
    "## Model Training and Prediction"
   ]
  },
  {
   "cell_type": "code",
   "execution_count": 45,
   "id": "4ce35af4-d45c-454e-b6d6-1d307fb6c4ff",
   "metadata": {},
   "outputs": [],
   "source": [
    "from fastai.tabular.all import *"
   ]
  },
  {
   "cell_type": "code",
   "execution_count": 46,
   "id": "e2af779b-83c0-4e2f-93b2-bb277d6e3281",
   "metadata": {},
   "outputs": [],
   "source": [
    "splits = RandomSplitter()(df)"
   ]
  },
  {
   "cell_type": "code",
   "execution_count": 47,
   "id": "fb0df7f4-1956-4d32-989f-884a6a2cc4d7",
   "metadata": {},
   "outputs": [],
   "source": [
    "dls = TabularPandas(\n",
    "    df, splits=splits,\n",
    "    procs = [Categorify, FillMissing, Normalize],\n",
    "    cat_names=cats,\n",
    "    cont_names=conts,\n",
    "    y_names=dep, y_block=CategoryBlock(),\n",
    ").dataloaders(path='.')"
   ]
  },
  {
   "cell_type": "code",
   "execution_count": 122,
   "id": "bedd92b8-440f-46ae-b8a9-340078d8df34",
   "metadata": {},
   "outputs": [],
   "source": [
    "learn = tabular_learner(dls, metrics=accuracy, layers=[10,10])"
   ]
  },
  {
   "cell_type": "code",
   "execution_count": 49,
   "id": "ab8f3a0f-fe83-4f2b-acf7-b284771962d5",
   "metadata": {},
   "outputs": [
    {
     "data": {
      "text/html": [
       "\n",
       "<style>\n",
       "    /* Turns off some styling */\n",
       "    progress {\n",
       "        /* gets rid of default border in Firefox and Opera. */\n",
       "        border: none;\n",
       "        /* Needs to be in here for Safari polyfill so background images work as expected. */\n",
       "        background-size: auto;\n",
       "    }\n",
       "    progress:not([value]), progress:not([value])::-webkit-progress-bar {\n",
       "        background: repeating-linear-gradient(45deg, #7e7e7e, #7e7e7e 10px, #5c5c5c 10px, #5c5c5c 20px);\n",
       "    }\n",
       "    .progress-bar-interrupted, .progress-bar-interrupted::-webkit-progress-bar {\n",
       "        background: #F44336;\n",
       "    }\n",
       "</style>\n"
      ],
      "text/plain": [
       "<IPython.core.display.HTML object>"
      ]
     },
     "metadata": {},
     "output_type": "display_data"
    },
    {
     "data": {
      "text/html": [],
      "text/plain": [
       "<IPython.core.display.HTML object>"
      ]
     },
     "metadata": {},
     "output_type": "display_data"
    },
    {
     "data": {
      "text/plain": [
       "SuggestedLRs(slide=0.14454397559165955, valley=0.007585775572806597)"
      ]
     },
     "execution_count": 49,
     "metadata": {},
     "output_type": "execute_result"
    },
    {
     "data": {
      "image/png": "[encoded data removed]",
      "text/plain": [
       "<Figure size 640x480 with 1 Axes>"
      ]
     },
     "metadata": {},
     "output_type": "display_data"
    }
   ],
   "source": [
    "learn.lr_find(suggest_funcs=(slide, valley))"
   ]
  },
  {
   "cell_type": "code",
   "execution_count": 129,
   "id": "9f003a9b-8e1c-448b-99cd-3afcc0762cc4",
   "metadata": {},
   "outputs": [
    {
     "data": {
      "text/html": [
       "\n",
       "<style>\n",
       "    /* Turns off some styling */\n",
       "    progress {\n",
       "        /* gets rid of default border in Firefox and Opera. */\n",
       "        border: none;\n",
       "        /* Needs to be in here for Safari polyfill so background images work as expected. */\n",
       "        background-size: auto;\n",
       "    }\n",
       "    progress:not([value]), progress:not([value])::-webkit-progress-bar {\n",
       "        background: repeating-linear-gradient(45deg, #7e7e7e, #7e7e7e 10px, #5c5c5c 10px, #5c5c5c 20px);\n",
       "    }\n",
       "    .progress-bar-interrupted, .progress-bar-interrupted::-webkit-progress-bar {\n",
       "        background: #F44336;\n",
       "    }\n",
       "</style>\n"
      ],
      "text/plain": [
       "<IPython.core.display.HTML object>"
      ]
     },
     "metadata": {},
     "output_type": "display_data"
    },
    {
     "data": {
      "text/html": [
       "<table border=\"1\" class=\"dataframe\">\n",
       "  <thead>\n",
       "    <tr style=\"text-align: left;\">\n",
       "      <th>epoch</th>\n",
       "      <th>train_loss</th>\n",
       "      <th>valid_loss</th>\n",
       "      <th>accuracy</th>\n",
       "      <th>time</th>\n",
       "    </tr>\n",
       "  </thead>\n",
       "  <tbody>\n",
       "    <tr>\n",
       "      <td>0</td>\n",
       "      <td>0.581843</td>\n",
       "      <td>0.653523</td>\n",
       "      <td>0.666667</td>\n",
       "      <td>00:00</td>\n",
       "    </tr>\n",
       "    <tr>\n",
       "      <td>1</td>\n",
       "      <td>0.581946</td>\n",
       "      <td>0.649573</td>\n",
       "      <td>0.722222</td>\n",
       "      <td>00:00</td>\n",
       "    </tr>\n",
       "    <tr>\n",
       "      <td>2</td>\n",
       "      <td>0.571324</td>\n",
       "      <td>0.647451</td>\n",
       "      <td>0.722222</td>\n",
       "      <td>00:00</td>\n",
       "    </tr>\n",
       "    <tr>\n",
       "      <td>3</td>\n",
       "      <td>0.566170</td>\n",
       "      <td>0.646048</td>\n",
       "      <td>0.777778</td>\n",
       "      <td>00:00</td>\n",
       "    </tr>\n",
       "    <tr>\n",
       "      <td>4</td>\n",
       "      <td>0.571565</td>\n",
       "      <td>0.645656</td>\n",
       "      <td>0.777778</td>\n",
       "      <td>00:00</td>\n",
       "    </tr>\n",
       "    <tr>\n",
       "      <td>5</td>\n",
       "      <td>0.571369</td>\n",
       "      <td>0.642138</td>\n",
       "      <td>0.777778</td>\n",
       "      <td>00:00</td>\n",
       "    </tr>\n",
       "    <tr>\n",
       "      <td>6</td>\n",
       "      <td>0.564286</td>\n",
       "      <td>0.639660</td>\n",
       "      <td>0.777778</td>\n",
       "      <td>00:00</td>\n",
       "    </tr>\n",
       "    <tr>\n",
       "      <td>7</td>\n",
       "      <td>0.558442</td>\n",
       "      <td>0.637092</td>\n",
       "      <td>0.777778</td>\n",
       "      <td>00:00</td>\n",
       "    </tr>\n",
       "    <tr>\n",
       "      <td>8</td>\n",
       "      <td>0.554458</td>\n",
       "      <td>0.635990</td>\n",
       "      <td>0.777778</td>\n",
       "      <td>00:00</td>\n",
       "    </tr>\n",
       "    <tr>\n",
       "      <td>9</td>\n",
       "      <td>0.556113</td>\n",
       "      <td>0.633444</td>\n",
       "      <td>0.777778</td>\n",
       "      <td>00:00</td>\n",
       "    </tr>\n",
       "  </tbody>\n",
       "</table>"
      ],
      "text/plain": [
       "<IPython.core.display.HTML object>"
      ]
     },
     "metadata": {},
     "output_type": "display_data"
    }
   ],
   "source": [
    "learn.fit(10, lr=0.001)"
   ]
  },
  {
   "cell_type": "code",
   "execution_count": 131,
   "id": "e5499e22-d581-474d-b759-f9bcb46ba2ef",
   "metadata": {},
   "outputs": [],
   "source": [
    "trn_split,val_split=splits"
   ]
  },
  {
   "cell_type": "code",
   "execution_count": 132,
   "id": "f11ec750-dd34-45d2-bcc1-f2c30a60ed1d",
   "metadata": {},
   "outputs": [
    {
     "data": {
      "text/html": [
       "<div>\n",
       "<style scoped>\n",
       "    .dataframe tbody tr th:only-of-type {\n",
       "        vertical-align: middle;\n",
       "    }\n",
       "\n",
       "    .dataframe tbody tr th {\n",
       "        vertical-align: top;\n",
       "    }\n",
       "\n",
       "    .dataframe thead th {\n",
       "        text-align: right;\n",
       "    }\n",
       "</style>\n",
       "<table border=\"1\" class=\"dataframe\">\n",
       "  <thead>\n",
       "    <tr style=\"text-align: right;\">\n",
       "      <th></th>\n",
       "      <th>ID</th>\n",
       "      <th>Home</th>\n",
       "      <th>Age</th>\n",
       "      <th>Religion</th>\n",
       "      <th>Ethnicity</th>\n",
       "      <th>Education</th>\n",
       "      <th>Occupation</th>\n",
       "      <th>Income</th>\n",
       "      <th>Marital</th>\n",
       "      <th>Smoke</th>\n",
       "      <th>...</th>\n",
       "      <th>filter_$</th>\n",
       "      <th>religionnew</th>\n",
       "      <th>ethnicitynew</th>\n",
       "      <th>incomenew</th>\n",
       "      <th>maritalnew</th>\n",
       "      <th>educationnew</th>\n",
       "      <th>occupationnew</th>\n",
       "      <th>smokenew</th>\n",
       "      <th>alcoholnew</th>\n",
       "      <th>partnernew</th>\n",
       "    </tr>\n",
       "  </thead>\n",
       "  <tbody>\n",
       "    <tr>\n",
       "      <th>85</th>\n",
       "      <td>58</td>\n",
       "      <td>1</td>\n",
       "      <td>16</td>\n",
       "      <td>1</td>\n",
       "      <td>1</td>\n",
       "      <td>2</td>\n",
       "      <td>4</td>\n",
       "      <td>3</td>\n",
       "      <td>1</td>\n",
       "      <td>2</td>\n",
       "      <td>...</td>\n",
       "      <td>1</td>\n",
       "      <td>1</td>\n",
       "      <td>1</td>\n",
       "      <td>0</td>\n",
       "      <td>1</td>\n",
       "      <td>1</td>\n",
       "      <td>3</td>\n",
       "      <td>1</td>\n",
       "      <td>2</td>\n",
       "      <td>1</td>\n",
       "    </tr>\n",
       "    <tr>\n",
       "      <th>89</th>\n",
       "      <td>95</td>\n",
       "      <td>2</td>\n",
       "      <td>39</td>\n",
       "      <td>1</td>\n",
       "      <td>1</td>\n",
       "      <td>2</td>\n",
       "      <td>1</td>\n",
       "      <td>1</td>\n",
       "      <td>2</td>\n",
       "      <td>3</td>\n",
       "      <td>...</td>\n",
       "      <td>1</td>\n",
       "      <td>1</td>\n",
       "      <td>1</td>\n",
       "      <td>1</td>\n",
       "      <td>0</td>\n",
       "      <td>1</td>\n",
       "      <td>2</td>\n",
       "      <td>0</td>\n",
       "      <td>0</td>\n",
       "      <td>1</td>\n",
       "    </tr>\n",
       "    <tr>\n",
       "      <th>66</th>\n",
       "      <td>69</td>\n",
       "      <td>2</td>\n",
       "      <td>19</td>\n",
       "      <td>1</td>\n",
       "      <td>1</td>\n",
       "      <td>2</td>\n",
       "      <td>1</td>\n",
       "      <td>1</td>\n",
       "      <td>1</td>\n",
       "      <td>3</td>\n",
       "      <td>...</td>\n",
       "      <td>1</td>\n",
       "      <td>1</td>\n",
       "      <td>1</td>\n",
       "      <td>1</td>\n",
       "      <td>1</td>\n",
       "      <td>1</td>\n",
       "      <td>2</td>\n",
       "      <td>0</td>\n",
       "      <td>0</td>\n",
       "      <td>1</td>\n",
       "    </tr>\n",
       "    <tr>\n",
       "      <th>76</th>\n",
       "      <td>90</td>\n",
       "      <td>2</td>\n",
       "      <td>16</td>\n",
       "      <td>1</td>\n",
       "      <td>1</td>\n",
       "      <td>2</td>\n",
       "      <td>4</td>\n",
       "      <td>1</td>\n",
       "      <td>1</td>\n",
       "      <td>3</td>\n",
       "      <td>...</td>\n",
       "      <td>1</td>\n",
       "      <td>1</td>\n",
       "      <td>1</td>\n",
       "      <td>1</td>\n",
       "      <td>1</td>\n",
       "      <td>1</td>\n",
       "      <td>3</td>\n",
       "      <td>0</td>\n",
       "      <td>0</td>\n",
       "      <td>1</td>\n",
       "    </tr>\n",
       "    <tr>\n",
       "      <th>27</th>\n",
       "      <td>41</td>\n",
       "      <td>1</td>\n",
       "      <td>16</td>\n",
       "      <td>1</td>\n",
       "      <td>1</td>\n",
       "      <td>2</td>\n",
       "      <td>4</td>\n",
       "      <td>1</td>\n",
       "      <td>1</td>\n",
       "      <td>3</td>\n",
       "      <td>...</td>\n",
       "      <td>1</td>\n",
       "      <td>1</td>\n",
       "      <td>1</td>\n",
       "      <td>1</td>\n",
       "      <td>1</td>\n",
       "      <td>1</td>\n",
       "      <td>3</td>\n",
       "      <td>0</td>\n",
       "      <td>0</td>\n",
       "      <td>1</td>\n",
       "    </tr>\n",
       "    <tr>\n",
       "      <th>63</th>\n",
       "      <td>77</td>\n",
       "      <td>2</td>\n",
       "      <td>18</td>\n",
       "      <td>1</td>\n",
       "      <td>1</td>\n",
       "      <td>2</td>\n",
       "      <td>4</td>\n",
       "      <td>1</td>\n",
       "      <td>1</td>\n",
       "      <td>3</td>\n",
       "      <td>...</td>\n",
       "      <td>1</td>\n",
       "      <td>1</td>\n",
       "      <td>1</td>\n",
       "      <td>1</td>\n",
       "      <td>1</td>\n",
       "      <td>1</td>\n",
       "      <td>3</td>\n",
       "      <td>0</td>\n",
       "      <td>0</td>\n",
       "      <td>1</td>\n",
       "    </tr>\n",
       "    <tr>\n",
       "      <th>78</th>\n",
       "      <td>49</td>\n",
       "      <td>1</td>\n",
       "      <td>19</td>\n",
       "      <td>1</td>\n",
       "      <td>1</td>\n",
       "      <td>3</td>\n",
       "      <td>4</td>\n",
       "      <td>3</td>\n",
       "      <td>1</td>\n",
       "      <td>1</td>\n",
       "      <td>...</td>\n",
       "      <td>1</td>\n",
       "      <td>1</td>\n",
       "      <td>1</td>\n",
       "      <td>0</td>\n",
       "      <td>1</td>\n",
       "      <td>0</td>\n",
       "      <td>3</td>\n",
       "      <td>1</td>\n",
       "      <td>2</td>\n",
       "      <td>1</td>\n",
       "    </tr>\n",
       "    <tr>\n",
       "      <th>61</th>\n",
       "      <td>48</td>\n",
       "      <td>1</td>\n",
       "      <td>20</td>\n",
       "      <td>1</td>\n",
       "      <td>1</td>\n",
       "      <td>1</td>\n",
       "      <td>1</td>\n",
       "      <td>1</td>\n",
       "      <td>1</td>\n",
       "      <td>3</td>\n",
       "      <td>...</td>\n",
       "      <td>1</td>\n",
       "      <td>1</td>\n",
       "      <td>1</td>\n",
       "      <td>1</td>\n",
       "      <td>1</td>\n",
       "      <td>0</td>\n",
       "      <td>2</td>\n",
       "      <td>0</td>\n",
       "      <td>0</td>\n",
       "      <td>1</td>\n",
       "    </tr>\n",
       "    <tr>\n",
       "      <th>0</th>\n",
       "      <td>7</td>\n",
       "      <td>1</td>\n",
       "      <td>17</td>\n",
       "      <td>3</td>\n",
       "      <td>3</td>\n",
       "      <td>2</td>\n",
       "      <td>4</td>\n",
       "      <td>1</td>\n",
       "      <td>1</td>\n",
       "      <td>3</td>\n",
       "      <td>...</td>\n",
       "      <td>0</td>\n",
       "      <td>0</td>\n",
       "      <td>0</td>\n",
       "      <td>1</td>\n",
       "      <td>1</td>\n",
       "      <td>1</td>\n",
       "      <td>3</td>\n",
       "      <td>0</td>\n",
       "      <td>0</td>\n",
       "      <td>0</td>\n",
       "    </tr>\n",
       "    <tr>\n",
       "      <th>67</th>\n",
       "      <td>80</td>\n",
       "      <td>2</td>\n",
       "      <td>17</td>\n",
       "      <td>1</td>\n",
       "      <td>1</td>\n",
       "      <td>2</td>\n",
       "      <td>4</td>\n",
       "      <td>1</td>\n",
       "      <td>1</td>\n",
       "      <td>3</td>\n",
       "      <td>...</td>\n",
       "      <td>1</td>\n",
       "      <td>1</td>\n",
       "      <td>1</td>\n",
       "      <td>1</td>\n",
       "      <td>1</td>\n",
       "      <td>1</td>\n",
       "      <td>3</td>\n",
       "      <td>0</td>\n",
       "      <td>2</td>\n",
       "      <td>1</td>\n",
       "    </tr>\n",
       "    <tr>\n",
       "      <th>87</th>\n",
       "      <td>54</td>\n",
       "      <td>1</td>\n",
       "      <td>29</td>\n",
       "      <td>1</td>\n",
       "      <td>1</td>\n",
       "      <td>2</td>\n",
       "      <td>2</td>\n",
       "      <td>1</td>\n",
       "      <td>3</td>\n",
       "      <td>3</td>\n",
       "      <td>...</td>\n",
       "      <td>1</td>\n",
       "      <td>1</td>\n",
       "      <td>1</td>\n",
       "      <td>1</td>\n",
       "      <td>0</td>\n",
       "      <td>1</td>\n",
       "      <td>1</td>\n",
       "      <td>0</td>\n",
       "      <td>1</td>\n",
       "      <td>1</td>\n",
       "    </tr>\n",
       "    <tr>\n",
       "      <th>43</th>\n",
       "      <td>89</td>\n",
       "      <td>2</td>\n",
       "      <td>19</td>\n",
       "      <td>1</td>\n",
       "      <td>6</td>\n",
       "      <td>2</td>\n",
       "      <td>1</td>\n",
       "      <td>1</td>\n",
       "      <td>1</td>\n",
       "      <td>3</td>\n",
       "      <td>...</td>\n",
       "      <td>1</td>\n",
       "      <td>1</td>\n",
       "      <td>0</td>\n",
       "      <td>1</td>\n",
       "      <td>1</td>\n",
       "      <td>1</td>\n",
       "      <td>2</td>\n",
       "      <td>0</td>\n",
       "      <td>1</td>\n",
       "      <td>1</td>\n",
       "    </tr>\n",
       "    <tr>\n",
       "      <th>82</th>\n",
       "      <td>50</td>\n",
       "      <td>1</td>\n",
       "      <td>38</td>\n",
       "      <td>1</td>\n",
       "      <td>1</td>\n",
       "      <td>2</td>\n",
       "      <td>1</td>\n",
       "      <td>1</td>\n",
       "      <td>3</td>\n",
       "      <td>3</td>\n",
       "      <td>...</td>\n",
       "      <td>1</td>\n",
       "      <td>1</td>\n",
       "      <td>1</td>\n",
       "      <td>1</td>\n",
       "      <td>0</td>\n",
       "      <td>1</td>\n",
       "      <td>2</td>\n",
       "      <td>0</td>\n",
       "      <td>0</td>\n",
       "      <td>1</td>\n",
       "    </tr>\n",
       "    <tr>\n",
       "      <th>23</th>\n",
       "      <td>30</td>\n",
       "      <td>1</td>\n",
       "      <td>15</td>\n",
       "      <td>1</td>\n",
       "      <td>1</td>\n",
       "      <td>2</td>\n",
       "      <td>2</td>\n",
       "      <td>1</td>\n",
       "      <td>1</td>\n",
       "      <td>2</td>\n",
       "      <td>...</td>\n",
       "      <td>1</td>\n",
       "      <td>1</td>\n",
       "      <td>1</td>\n",
       "      <td>1</td>\n",
       "      <td>1</td>\n",
       "      <td>1</td>\n",
       "      <td>1</td>\n",
       "      <td>1</td>\n",
       "      <td>0</td>\n",
       "      <td>1</td>\n",
       "    </tr>\n",
       "    <tr>\n",
       "      <th>25</th>\n",
       "      <td>37</td>\n",
       "      <td>1</td>\n",
       "      <td>17</td>\n",
       "      <td>1</td>\n",
       "      <td>1</td>\n",
       "      <td>2</td>\n",
       "      <td>2</td>\n",
       "      <td>1</td>\n",
       "      <td>1</td>\n",
       "      <td>2</td>\n",
       "      <td>...</td>\n",
       "      <td>1</td>\n",
       "      <td>1</td>\n",
       "      <td>1</td>\n",
       "      <td>1</td>\n",
       "      <td>1</td>\n",
       "      <td>1</td>\n",
       "      <td>1</td>\n",
       "      <td>1</td>\n",
       "      <td>0</td>\n",
       "      <td>1</td>\n",
       "    </tr>\n",
       "    <tr>\n",
       "      <th>71</th>\n",
       "      <td>4</td>\n",
       "      <td>1</td>\n",
       "      <td>16</td>\n",
       "      <td>1</td>\n",
       "      <td>1</td>\n",
       "      <td>2</td>\n",
       "      <td>4</td>\n",
       "      <td>1</td>\n",
       "      <td>1</td>\n",
       "      <td>3</td>\n",
       "      <td>...</td>\n",
       "      <td>1</td>\n",
       "      <td>1</td>\n",
       "      <td>1</td>\n",
       "      <td>1</td>\n",
       "      <td>1</td>\n",
       "      <td>1</td>\n",
       "      <td>3</td>\n",
       "      <td>0</td>\n",
       "      <td>1</td>\n",
       "      <td>1</td>\n",
       "    </tr>\n",
       "    <tr>\n",
       "      <th>9</th>\n",
       "      <td>16</td>\n",
       "      <td>1</td>\n",
       "      <td>15</td>\n",
       "      <td>1</td>\n",
       "      <td>1</td>\n",
       "      <td>2</td>\n",
       "      <td>1</td>\n",
       "      <td>1</td>\n",
       "      <td>1</td>\n",
       "      <td>3</td>\n",
       "      <td>...</td>\n",
       "      <td>1</td>\n",
       "      <td>1</td>\n",
       "      <td>1</td>\n",
       "      <td>1</td>\n",
       "      <td>1</td>\n",
       "      <td>1</td>\n",
       "      <td>2</td>\n",
       "      <td>0</td>\n",
       "      <td>0</td>\n",
       "      <td>1</td>\n",
       "    </tr>\n",
       "    <tr>\n",
       "      <th>45</th>\n",
       "      <td>25</td>\n",
       "      <td>1</td>\n",
       "      <td>15</td>\n",
       "      <td>1</td>\n",
       "      <td>1</td>\n",
       "      <td>2</td>\n",
       "      <td>2</td>\n",
       "      <td>1</td>\n",
       "      <td>1</td>\n",
       "      <td>1</td>\n",
       "      <td>...</td>\n",
       "      <td>1</td>\n",
       "      <td>1</td>\n",
       "      <td>1</td>\n",
       "      <td>1</td>\n",
       "      <td>1</td>\n",
       "      <td>1</td>\n",
       "      <td>1</td>\n",
       "      <td>1</td>\n",
       "      <td>2</td>\n",
       "      <td>1</td>\n",
       "    </tr>\n",
       "  </tbody>\n",
       "</table>\n",
       "<p>18 rows × 147 columns</p>\n",
       "</div>"
      ],
      "text/plain": [
       "    ID  Home  Age  Religion  Ethnicity  Education  Occupation  Income  \\\n",
       "85  58     1   16         1          1          2           4       3   \n",
       "89  95     2   39         1          1          2           1       1   \n",
       "66  69     2   19         1          1          2           1       1   \n",
       "76  90     2   16         1          1          2           4       1   \n",
       "27  41     1   16         1          1          2           4       1   \n",
       "63  77     2   18         1          1          2           4       1   \n",
       "78  49     1   19         1          1          3           4       3   \n",
       "61  48     1   20         1          1          1           1       1   \n",
       "0    7     1   17         3          3          2           4       1   \n",
       "67  80     2   17         1          1          2           4       1   \n",
       "87  54     1   29         1          1          2           2       1   \n",
       "43  89     2   19         1          6          2           1       1   \n",
       "82  50     1   38         1          1          2           1       1   \n",
       "23  30     1   15         1          1          2           2       1   \n",
       "25  37     1   17         1          1          2           2       1   \n",
       "71   4     1   16         1          1          2           4       1   \n",
       "9   16     1   15         1          1          2           1       1   \n",
       "45  25     1   15         1          1          2           2       1   \n",
       "\n",
       "    Marital  Smoke  ...  filter_$  religionnew  ethnicitynew incomenew  \\\n",
       "85        1      2  ...         1            1             1         0   \n",
       "89        2      3  ...         1            1             1         1   \n",
       "66        1      3  ...         1            1             1         1   \n",
       "76        1      3  ...         1            1             1         1   \n",
       "27        1      3  ...         1            1             1         1   \n",
       "63        1      3  ...         1            1             1         1   \n",
       "78        1      1  ...         1            1             1         0   \n",
       "61        1      3  ...         1            1             1         1   \n",
       "0         1      3  ...         0            0             0         1   \n",
       "67        1      3  ...         1            1             1         1   \n",
       "87        3      3  ...         1            1             1         1   \n",
       "43        1      3  ...         1            1             0         1   \n",
       "82        3      3  ...         1            1             1         1   \n",
       "23        1      2  ...         1            1             1         1   \n",
       "25        1      2  ...         1            1             1         1   \n",
       "71        1      3  ...         1            1             1         1   \n",
       "9         1      3  ...         1            1             1         1   \n",
       "45        1      1  ...         1            1             1         1   \n",
       "\n",
       "    maritalnew  educationnew  occupationnew  smokenew  alcoholnew  partnernew  \n",
       "85           1             1              3         1           2           1  \n",
       "89           0             1              2         0           0           1  \n",
       "66           1             1              2         0           0           1  \n",
       "76           1             1              3         0           0           1  \n",
       "27           1             1              3         0           0           1  \n",
       "63           1             1              3         0           0           1  \n",
       "78           1             0              3         1           2           1  \n",
       "61           1             0              2         0           0           1  \n",
       "0            1             1              3         0           0           0  \n",
       "67           1             1              3         0           2           1  \n",
       "87           0             1              1         0           1           1  \n",
       "43           1             1              2         0           1           1  \n",
       "82           0             1              2         0           0           1  \n",
       "23           1             1              1         1           0           1  \n",
       "25           1             1              1         1           0           1  \n",
       "71           1             1              3         0           1           1  \n",
       "9            1             1              2         0           0           1  \n",
       "45           1             1              1         1           2           1  \n",
       "\n",
       "[18 rows x 147 columns]"
      ]
     },
     "execution_count": 132,
     "metadata": {},
     "output_type": "execute_result"
    }
   ],
   "source": [
    "df.iloc[val_split]"
   ]
  },
  {
   "cell_type": "code",
   "execution_count": 133,
   "id": "46c62d37-083b-4e7b-94cc-dc852c138c0c",
   "metadata": {},
   "outputs": [],
   "source": [
    "tst_dl = learn.dls.test_dl(df.iloc[val_split])"
   ]
  },
  {
   "cell_type": "code",
   "execution_count": 134,
   "id": "6399992f-b73c-4911-912b-ac0dfd0ace7b",
   "metadata": {},
   "outputs": [
    {
     "data": {
      "text/html": [
       "\n",
       "<style>\n",
       "    /* Turns off some styling */\n",
       "    progress {\n",
       "        /* gets rid of default border in Firefox and Opera. */\n",
       "        border: none;\n",
       "        /* Needs to be in here for Safari polyfill so background images work as expected. */\n",
       "        background-size: auto;\n",
       "    }\n",
       "    progress:not([value]), progress:not([value])::-webkit-progress-bar {\n",
       "        background: repeating-linear-gradient(45deg, #7e7e7e, #7e7e7e 10px, #5c5c5c 10px, #5c5c5c 20px);\n",
       "    }\n",
       "    .progress-bar-interrupted, .progress-bar-interrupted::-webkit-progress-bar {\n",
       "        background: #F44336;\n",
       "    }\n",
       "</style>\n"
      ],
      "text/plain": [
       "<IPython.core.display.HTML object>"
      ]
     },
     "metadata": {},
     "output_type": "display_data"
    },
    {
     "data": {
      "text/html": [],
      "text/plain": [
       "<IPython.core.display.HTML object>"
      ]
     },
     "metadata": {},
     "output_type": "display_data"
    }
   ],
   "source": [
    "y_pred_ai, val_y_ai = learn.get_preds(dl=tst_dl)"
   ]
  },
  {
   "cell_type": "code",
   "execution_count": 135,
   "id": "fe3726e2-2782-4a44-8217-b87932a26a02",
   "metadata": {},
   "outputs": [
    {
     "data": {
      "text/html": [
       "\n",
       "<style>\n",
       "    /* Turns off some styling */\n",
       "    progress {\n",
       "        /* gets rid of default border in Firefox and Opera. */\n",
       "        border: none;\n",
       "        /* Needs to be in here for Safari polyfill so background images work as expected. */\n",
       "        background-size: auto;\n",
       "    }\n",
       "    progress:not([value]), progress:not([value])::-webkit-progress-bar {\n",
       "        background: repeating-linear-gradient(45deg, #7e7e7e, #7e7e7e 10px, #5c5c5c 10px, #5c5c5c 20px);\n",
       "    }\n",
       "    .progress-bar-interrupted, .progress-bar-interrupted::-webkit-progress-bar {\n",
       "        background: #F44336;\n",
       "    }\n",
       "</style>\n"
      ],
      "text/plain": [
       "<IPython.core.display.HTML object>"
      ]
     },
     "metadata": {},
     "output_type": "display_data"
    },
    {
     "data": {
      "text/html": [],
      "text/plain": [
       "<IPython.core.display.HTML object>"
      ]
     },
     "metadata": {},
     "output_type": "display_data"
    },
    {
     "data": {
      "text/plain": [
       "(tensor([[0.4462, 0.5538],\n",
       "         [0.5065, 0.4935],\n",
       "         [0.6030, 0.3970],\n",
       "         [0.4256, 0.5744],\n",
       "         [0.4256, 0.5744],\n",
       "         [0.5482, 0.4518],\n",
       "         [0.5874, 0.4126],\n",
       "         [0.5259, 0.4741],\n",
       "         [0.5982, 0.4018],\n",
       "         [0.4803, 0.5197],\n",
       "         [0.5437, 0.4563],\n",
       "         [0.5769, 0.4231],\n",
       "         [0.5037, 0.4963],\n",
       "         [0.3344, 0.6656],\n",
       "         [0.3964, 0.6036],\n",
       "         [0.5422, 0.4578],\n",
       "         [0.5086, 0.4914],\n",
       "         [0.3223, 0.6777]]),\n",
       " tensor([[1],\n",
       "         [1],\n",
       "         [0],\n",
       "         [1],\n",
       "         [1],\n",
       "         [0],\n",
       "         [1],\n",
       "         [0],\n",
       "         [0],\n",
       "         [1],\n",
       "         [0],\n",
       "         [0],\n",
       "         [1],\n",
       "         [1],\n",
       "         [1],\n",
       "         [0],\n",
       "         [0],\n",
       "         [0]], dtype=torch.int8))"
      ]
     },
     "execution_count": 135,
     "metadata": {},
     "output_type": "execute_result"
    }
   ],
   "source": [
    "learn.get_preds(dl=tst_dl)"
   ]
  },
  {
   "cell_type": "code",
   "execution_count": 136,
   "id": "44f253cc-574e-4291-8ddd-ead8945fca36",
   "metadata": {},
   "outputs": [
    {
     "data": {
      "text/plain": [
       "array([0, 0, 1, 0, 1, 0, 1, 1, 1, 1, 0, 1, 1, 0, 1, 1, 1, 1, 1],\n",
       "      dtype=int64)"
      ]
     },
     "execution_count": 136,
     "metadata": {},
     "output_type": "execute_result"
    }
   ],
   "source": [
    "y_pred"
   ]
  },
  {
   "cell_type": "code",
   "execution_count": 137,
   "id": "d4b4aa01-370b-496c-8882-aa52f7b51f56",
   "metadata": {},
   "outputs": [
    {
     "data": {
      "text/html": [
       "\n",
       "<style>\n",
       "    /* Turns off some styling */\n",
       "    progress {\n",
       "        /* gets rid of default border in Firefox and Opera. */\n",
       "        border: none;\n",
       "        /* Needs to be in here for Safari polyfill so background images work as expected. */\n",
       "        background-size: auto;\n",
       "    }\n",
       "    progress:not([value]), progress:not([value])::-webkit-progress-bar {\n",
       "        background: repeating-linear-gradient(45deg, #7e7e7e, #7e7e7e 10px, #5c5c5c 10px, #5c5c5c 20px);\n",
       "    }\n",
       "    .progress-bar-interrupted, .progress-bar-interrupted::-webkit-progress-bar {\n",
       "        background: #F44336;\n",
       "    }\n",
       "</style>\n"
      ],
      "text/plain": [
       "<IPython.core.display.HTML object>"
      ]
     },
     "metadata": {},
     "output_type": "display_data"
    },
    {
     "data": {
      "text/html": [],
      "text/plain": [
       "<IPython.core.display.HTML object>"
      ]
     },
     "metadata": {},
     "output_type": "display_data"
    }
   ],
   "source": [
    "row, clas, probs = learn.predict(df.iloc[0])"
   ]
  },
  {
   "cell_type": "code",
   "execution_count": 138,
   "id": "2e89c6bd-be46-44f7-885a-7332861b7107",
   "metadata": {},
   "outputs": [
    {
     "data": {
      "text/html": [
       "<table border=\"1\" class=\"dataframe\">\n",
       "  <thead>\n",
       "    <tr style=\"text-align: right;\">\n",
       "      <th></th>\n",
       "      <th>ethnicitynew</th>\n",
       "      <th>educationnew</th>\n",
       "      <th>occupationnew</th>\n",
       "      <th>incomenew</th>\n",
       "      <th>smokenew</th>\n",
       "      <th>alcoholnew</th>\n",
       "      <th>EV</th>\n",
       "      <th>CB</th>\n",
       "      <th>PV</th>\n",
       "      <th>SV</th>\n",
       "      <th>IPV</th>\n",
       "      <th>Age</th>\n",
       "      <th>MINIdepression</th>\n",
       "    </tr>\n",
       "  </thead>\n",
       "  <tbody>\n",
       "    <tr>\n",
       "      <th>0</th>\n",
       "      <td>0</td>\n",
       "      <td>1</td>\n",
       "      <td>3</td>\n",
       "      <td>1</td>\n",
       "      <td>0</td>\n",
       "      <td>0</td>\n",
       "      <td>0</td>\n",
       "      <td>0</td>\n",
       "      <td>0</td>\n",
       "      <td>0</td>\n",
       "      <td>0</td>\n",
       "      <td>17.0</td>\n",
       "      <td>0</td>\n",
       "    </tr>\n",
       "  </tbody>\n",
       "</table>"
      ],
      "text/plain": [
       "<IPython.core.display.HTML object>"
      ]
     },
     "metadata": {},
     "output_type": "display_data"
    }
   ],
   "source": [
    "row.show()"
   ]
  },
  {
   "cell_type": "code",
   "execution_count": 139,
   "id": "3b57a87e-6464-43b6-8006-3c8e3b625ff7",
   "metadata": {},
   "outputs": [
    {
     "data": {
      "text/plain": [
       "(tensor(0), tensor([0.5982, 0.4018]))"
      ]
     },
     "execution_count": 139,
     "metadata": {},
     "output_type": "execute_result"
    }
   ],
   "source": [
    "clas, probs"
   ]
  },
  {
   "cell_type": "code",
   "execution_count": 140,
   "id": "13db7e53-495d-4eec-b10f-2bfb46252cb3",
   "metadata": {},
   "outputs": [
    {
     "data": {
      "text/html": [
       "\n",
       "<style>\n",
       "    /* Turns off some styling */\n",
       "    progress {\n",
       "        /* gets rid of default border in Firefox and Opera. */\n",
       "        border: none;\n",
       "        /* Needs to be in here for Safari polyfill so background images work as expected. */\n",
       "        background-size: auto;\n",
       "    }\n",
       "    progress:not([value]), progress:not([value])::-webkit-progress-bar {\n",
       "        background: repeating-linear-gradient(45deg, #7e7e7e, #7e7e7e 10px, #5c5c5c 10px, #5c5c5c 20px);\n",
       "    }\n",
       "    .progress-bar-interrupted, .progress-bar-interrupted::-webkit-progress-bar {\n",
       "        background: #F44336;\n",
       "    }\n",
       "</style>\n"
      ],
      "text/plain": [
       "<IPython.core.display.HTML object>"
      ]
     },
     "metadata": {},
     "output_type": "display_data"
    },
    {
     "data": {
      "text/html": [],
      "text/plain": [
       "<IPython.core.display.HTML object>"
      ]
     },
     "metadata": {},
     "output_type": "display_data"
    }
   ],
   "source": [
    "y_prob_ai, val_y_ai, y_pred_ai  = learn.get_preds(dl=tst_dl, with_decoded=True)"
   ]
  },
  {
   "cell_type": "markdown",
   "id": "cbcfdf7e-193e-4966-a0f5-bf38e55ea95b",
   "metadata": {},
   "source": [
    "## Model Evaluation"
   ]
  },
  {
   "cell_type": "markdown",
   "id": "bed5e22a-f40d-4d96-9e62-b0dbb0d60d8e",
   "metadata": {},
   "source": [
    "### MAE For Validation Set"
   ]
  },
  {
   "cell_type": "code",
   "execution_count": 238,
   "id": "4e4a507e-6c05-474e-9210-b2bf669991eb",
   "metadata": {},
   "outputs": [
    {
     "data": {
      "text/html": [
       "\n",
       "<style>\n",
       "    /* Turns off some styling */\n",
       "    progress {\n",
       "        /* gets rid of default border in Firefox and Opera. */\n",
       "        border: none;\n",
       "        /* Needs to be in here for Safari polyfill so background images work as expected. */\n",
       "        background-size: auto;\n",
       "    }\n",
       "    progress:not([value]), progress:not([value])::-webkit-progress-bar {\n",
       "        background: repeating-linear-gradient(45deg, #7e7e7e, #7e7e7e 10px, #5c5c5c 10px, #5c5c5c 20px);\n",
       "    }\n",
       "    .progress-bar-interrupted, .progress-bar-interrupted::-webkit-progress-bar {\n",
       "        background: #F44336;\n",
       "    }\n",
       "</style>\n"
      ],
      "text/plain": [
       "<IPython.core.display.HTML object>"
      ]
     },
     "metadata": {},
     "output_type": "display_data"
    },
    {
     "data": {
      "text/html": [],
      "text/plain": [
       "<IPython.core.display.HTML object>"
      ]
     },
     "metadata": {},
     "output_type": "display_data"
    },
    {
     "data": {
      "text/plain": [
       "(tensor([[0.0029, 0.9971],\n",
       "         [0.8661, 0.1339],\n",
       "         [0.4691, 0.5309],\n",
       "         [0.6199, 0.3801],\n",
       "         [0.5514, 0.4486],\n",
       "         [0.7824, 0.2176],\n",
       "         [0.1871, 0.8129],\n",
       "         [0.4225, 0.5775],\n",
       "         [0.6508, 0.3492],\n",
       "         [0.2912, 0.7088],\n",
       "         [0.7411, 0.2589],\n",
       "         [0.0796, 0.9204],\n",
       "         [0.6487, 0.3513],\n",
       "         [0.7730, 0.2270],\n",
       "         [0.2637, 0.7363],\n",
       "         [0.7299, 0.2701],\n",
       "         [0.5587, 0.4413],\n",
       "         [0.7318, 0.2682]]),\n",
       " tensor([[1],\n",
       "         [1],\n",
       "         [1],\n",
       "         [1],\n",
       "         [0],\n",
       "         [1],\n",
       "         [1],\n",
       "         [1],\n",
       "         [0],\n",
       "         [1],\n",
       "         [1],\n",
       "         [1],\n",
       "         [0],\n",
       "         [0],\n",
       "         [1],\n",
       "         [0],\n",
       "         [1],\n",
       "         [0]], dtype=torch.int8),\n",
       " tensor([1, 0, 1, 0, 0, 0, 1, 1, 0, 1, 0, 1, 0, 0, 1, 0, 0, 0]))"
      ]
     },
     "execution_count": 238,
     "metadata": {},
     "output_type": "execute_result"
    }
   ],
   "source": [
    "learn.get_preds(dl=tst_dl, with_decoded=True)"
   ]
  },
  {
   "cell_type": "code",
   "execution_count": 141,
   "id": "54d487aa-ba63-45ab-99fe-e1a41ee29794",
   "metadata": {},
   "outputs": [
    {
     "data": {
      "text/plain": [
       "0.2222222222222222"
      ]
     },
     "execution_count": 141,
     "metadata": {},
     "output_type": "execute_result"
    }
   ],
   "source": [
    "mean_absolute_error(val_y_ai, y_pred_ai)"
   ]
  },
  {
   "cell_type": "markdown",
   "id": "286554be-a514-4be8-9982-ab9d4f894ceb",
   "metadata": {},
   "source": [
    "### MAE For Training Set"
   ]
  },
  {
   "cell_type": "code",
   "execution_count": 142,
   "id": "c6a5df73-6a91-408e-a601-8eba8bdfd1ac",
   "metadata": {},
   "outputs": [
    {
     "data": {
      "text/html": [
       "\n",
       "<style>\n",
       "    /* Turns off some styling */\n",
       "    progress {\n",
       "        /* gets rid of default border in Firefox and Opera. */\n",
       "        border: none;\n",
       "        /* Needs to be in here for Safari polyfill so background images work as expected. */\n",
       "        background-size: auto;\n",
       "    }\n",
       "    progress:not([value]), progress:not([value])::-webkit-progress-bar {\n",
       "        background: repeating-linear-gradient(45deg, #7e7e7e, #7e7e7e 10px, #5c5c5c 10px, #5c5c5c 20px);\n",
       "    }\n",
       "    .progress-bar-interrupted, .progress-bar-interrupted::-webkit-progress-bar {\n",
       "        background: #F44336;\n",
       "    }\n",
       "</style>\n"
      ],
      "text/plain": [
       "<IPython.core.display.HTML object>"
      ]
     },
     "metadata": {},
     "output_type": "display_data"
    },
    {
     "data": {
      "text/html": [],
      "text/plain": [
       "<IPython.core.display.HTML object>"
      ]
     },
     "metadata": {},
     "output_type": "display_data"
    },
    {
     "data": {
      "text/plain": [
       "0.3424657534246575"
      ]
     },
     "execution_count": 142,
     "metadata": {},
     "output_type": "execute_result"
    }
   ],
   "source": [
    "training_dl = learn.dls.test_dl(df.iloc[trn_split])\n",
    "y_train_prob_ai, train_y_ai, y_train_pred_ai  = learn.get_preds(dl=training_dl, with_decoded=True)\n",
    "mean_absolute_error(train_y_ai, y_train_pred_ai)"
   ]
  },
  {
   "cell_type": "markdown",
   "id": "c0eb69b4-6e33-493e-bcdf-0e1025ac1c80",
   "metadata": {},
   "source": [
    "> Lower MAE for training compare to validation set might indicate that the model is overfitting a little."
   ]
  },
  {
   "cell_type": "markdown",
   "id": "6377c231-6557-47db-ad2a-15bfddc5268a",
   "metadata": {},
   "source": [
    "### Confusion Metrics"
   ]
  },
  {
   "cell_type": "code",
   "execution_count": 143,
   "id": "3f7c6514-62c0-47c2-af86-a6ad3ae5bfa1",
   "metadata": {},
   "outputs": [
    {
     "data": {
      "image/png": "[encoded data removed]",
      "text/plain": [
       "<Figure size 640x480 with 2 Axes>"
      ]
     },
     "metadata": {},
     "output_type": "display_data"
    }
   ],
   "source": [
    "# Create the confusion matrix\n",
    "cm = confusion_matrix(val_y_ai, y_pred_ai)\n",
    "\n",
    "ConfusionMatrixDisplay(confusion_matrix=cm).plot();"
   ]
  },
  {
   "cell_type": "markdown",
   "id": "89f69241-19b9-443f-892a-cdf9f3148037",
   "metadata": {},
   "source": [
    "> I will say that the model is fairly confidence in classifying if a subject is depressed or not."
   ]
  },
  {
   "cell_type": "markdown",
   "id": "c04ac04c-f148-455b-af97-b2b13090cbb1",
   "metadata": {},
   "source": [
    "### Accuracy, Precision, Recall"
   ]
  },
  {
   "cell_type": "code",
   "execution_count": 144,
   "id": "c1e9a554-8869-4e86-a00b-70d4b906207e",
   "metadata": {},
   "outputs": [
    {
     "name": "stdout",
     "output_type": "stream",
     "text": [
      "Accuracy: 0.7777777777777778\n",
      "Precision: 0.8571428571428571\n",
      "Recall: 0.6666666666666666\n"
     ]
    }
   ],
   "source": [
    "accuracy = accuracy_score(val_y_ai, y_pred_ai)\n",
    "precision = precision_score(val_y_ai, y_pred_ai)\n",
    "recall = recall_score(val_y_ai, y_pred_ai)\n",
    "\n",
    "print(\"Accuracy:\", accuracy)\n",
    "print(\"Precision:\", precision)\n",
    "print(\"Recall:\", recall)"
   ]
  },
  {
   "cell_type": "markdown",
   "id": "6d71977a-83a1-4988-95bb-8158a8171307",
   "metadata": {},
   "source": [
    "Accuracy: In general, when the model makes prediction, it is right 63% of the time.\n",
    "\n",
    "Precision: This is the accuracy of the Positive Prediction. For 60% precision for \"with depression as positive\", that means, for a list of patients that our model predicted as depressed, 60% of them IS in fact depressed, while the other 40% is not actually depressed but wrongly predicted as so. The downside is, it does not count missing POSITIVE, that is, our model can pick a few patients where it is confident that they are depressed and achieved High Precision, but left out many patients that are actually depressed but missed out by our model.\n",
    "\n",
    "Recall: It is the ability of the model to detect the target. If there are 100 depressed patient in a list of X (let say 1000), and our model correctly labelled all 100 depressed patient as depressed, that means the recall is 100%. It does not matter if the model also predicted other non-depressed patient as depressed (False Positive), as it does not count in recall calculation. But too many False Positive can be inconvenient where manual intervention must be made to filter them out and make the labelling correct again.\n",
    "\n",
    "In this case, with 100% precision, means for all those that this model predict as depressed, it is precisely all of them really are depressed. But with low recall meaning our model is missing (in this case 42%) other patients who are depressed but failed to be detected by our model."
   ]
  },
  {
   "cell_type": "markdown",
   "id": "f0002edc-7ea5-4184-b11a-838472508547",
   "metadata": {},
   "source": [
    "### Classification Report"
   ]
  },
  {
   "cell_type": "code",
   "execution_count": 145,
   "id": "b345667e-3386-4a7a-a2fa-9bcbc64f75a8",
   "metadata": {},
   "outputs": [
    {
     "name": "stdout",
     "output_type": "stream",
     "text": [
      "                        precision    recall  f1-score   support\n",
      "\n",
      "without MINIdepression       0.73      0.89      0.80         9\n",
      "   with MINIdepression       0.86      0.67      0.75         9\n",
      "\n",
      "              accuracy                           0.78        18\n",
      "             macro avg       0.79      0.78      0.78        18\n",
      "          weighted avg       0.79      0.78      0.77        18\n",
      "\n"
     ]
    }
   ],
   "source": [
    "target_names = [f'without {dep}', f'with {dep}']\n",
    "print(classification_report(val_y_ai, y_pred_ai, target_names=target_names))"
   ]
  },
  {
   "cell_type": "markdown",
   "id": "62b789f2-d032-48d2-a1f6-54bedf8b6481",
   "metadata": {},
   "source": [
    "F1 Score: makes a balance between precision and recall.\n",
    "\n",
    "In the most simple terms, higher F1 scores are generally better. It range from 0 to 1."
   ]
  },
  {
   "cell_type": "markdown",
   "id": "637d4819-5f32-4047-83e0-4a24f1ebc269",
   "metadata": {},
   "source": [
    "## Saving The Model"
   ]
  },
  {
   "cell_type": "raw",
   "id": "08679005-eb64-4602-b8f8-abfe89334ee1",
   "metadata": {},
   "source": [
    "learn.export('./models/fastai_75_17072024_1119_change_name.pkl')"
   ]
  },
  {
   "cell_type": "markdown",
   "id": "ea4ad7ad-e7b8-4460-8f91-60e85e2fb4e8",
   "metadata": {},
   "source": [
    "## Load The Model"
   ]
  },
  {
   "cell_type": "raw",
   "id": "1a8d6faa-3fed-456f-8c8b-450ea94f0529",
   "metadata": {},
   "source": [
    "learn = load_learner('./model/xresnet50_export.pkl', cpu=False)"
   ]
  },
  {
   "cell_type": "markdown",
   "id": "fb86a7fa-8999-4cd0-8c57-9b1a1ff0d41c",
   "metadata": {},
   "source": [
    "---"
   ]
  },
  {
   "cell_type": "markdown",
   "id": "0848befd-7ab2-4597-a312-0107b3154e30",
   "metadata": {},
   "source": [
    "### ROC Curve"
   ]
  },
  {
   "cell_type": "markdown",
   "id": "4be377f5-90d4-4e65-b855-160202f2635c",
   "metadata": {},
   "source": [
    "Receiver Operating Characteristic(ROC) curve is a plot of the true positive rate against the false positive rate. It shows the tradeoff between sensitivity and specificity."
   ]
  },
  {
   "cell_type": "code",
   "execution_count": 244,
   "id": "7cb16a7d-aa39-4c33-b832-3b30a3428373",
   "metadata": {},
   "outputs": [
    {
     "ename": "AttributeError",
     "evalue": "'TabularModel' object has no attribute 'predict_proba'",
     "output_type": "error",
     "traceback": [
      "\u001b[1;31m---------------------------------------------------------------------------\u001b[0m",
      "\u001b[1;31mAttributeError\u001b[0m                            Traceback (most recent call last)",
      "Cell \u001b[1;32mIn[244], line 1\u001b[0m\n\u001b[1;32m----> 1\u001b[0m y_pred_proba \u001b[38;5;241m=\u001b[39m \u001b[43mlearn\u001b[49m\u001b[38;5;241;43m.\u001b[39;49m\u001b[43mpredict_proba\u001b[49m(df\u001b[38;5;241m.\u001b[39miloc[val_split])[:,\u001b[38;5;241m1\u001b[39m]\n\u001b[0;32m      2\u001b[0m fpr, tpr, _ \u001b[38;5;241m=\u001b[39m roc_curve(val_y_ai,  y_pred_proba)\n\u001b[0;32m      3\u001b[0m auc \u001b[38;5;241m=\u001b[39m roc_auc_score(val_y_ai, y_pred_proba)\n",
      "File \u001b[1;32m~\\miniconda3\\envs\\cenno\\Lib\\site-packages\\fastcore\\basics.py:507\u001b[0m, in \u001b[0;36mGetAttr.__getattr__\u001b[1;34m(self, k)\u001b[0m\n\u001b[0;32m    505\u001b[0m \u001b[38;5;28;01mif\u001b[39;00m \u001b[38;5;28mself\u001b[39m\u001b[38;5;241m.\u001b[39m_component_attr_filter(k):\n\u001b[0;32m    506\u001b[0m     attr \u001b[38;5;241m=\u001b[39m \u001b[38;5;28mgetattr\u001b[39m(\u001b[38;5;28mself\u001b[39m,\u001b[38;5;28mself\u001b[39m\u001b[38;5;241m.\u001b[39m_default,\u001b[38;5;28;01mNone\u001b[39;00m)\n\u001b[1;32m--> 507\u001b[0m     \u001b[38;5;28;01mif\u001b[39;00m attr \u001b[38;5;129;01mis\u001b[39;00m \u001b[38;5;129;01mnot\u001b[39;00m \u001b[38;5;28;01mNone\u001b[39;00m: \u001b[38;5;28;01mreturn\u001b[39;00m \u001b[38;5;28mgetattr\u001b[39m(attr,k)\n\u001b[0;32m    508\u001b[0m \u001b[38;5;28;01mraise\u001b[39;00m \u001b[38;5;167;01mAttributeError\u001b[39;00m(k)\n",
      "File \u001b[1;32m~\\miniconda3\\envs\\cenno\\Lib\\site-packages\\torch\\nn\\modules\\module.py:1709\u001b[0m, in \u001b[0;36mModule.__getattr__\u001b[1;34m(self, name)\u001b[0m\n\u001b[0;32m   1707\u001b[0m     \u001b[38;5;28;01mif\u001b[39;00m name \u001b[38;5;129;01min\u001b[39;00m modules:\n\u001b[0;32m   1708\u001b[0m         \u001b[38;5;28;01mreturn\u001b[39;00m modules[name]\n\u001b[1;32m-> 1709\u001b[0m \u001b[38;5;28;01mraise\u001b[39;00m \u001b[38;5;167;01mAttributeError\u001b[39;00m(\u001b[38;5;124mf\u001b[39m\u001b[38;5;124m\"\u001b[39m\u001b[38;5;124m'\u001b[39m\u001b[38;5;132;01m{\u001b[39;00m\u001b[38;5;28mtype\u001b[39m(\u001b[38;5;28mself\u001b[39m)\u001b[38;5;241m.\u001b[39m\u001b[38;5;18m__name__\u001b[39m\u001b[38;5;132;01m}\u001b[39;00m\u001b[38;5;124m'\u001b[39m\u001b[38;5;124m object has no attribute \u001b[39m\u001b[38;5;124m'\u001b[39m\u001b[38;5;132;01m{\u001b[39;00mname\u001b[38;5;132;01m}\u001b[39;00m\u001b[38;5;124m'\u001b[39m\u001b[38;5;124m\"\u001b[39m)\n",
      "\u001b[1;31mAttributeError\u001b[0m: 'TabularModel' object has no attribute 'predict_proba'"
     ]
    }
   ],
   "source": [
    "y_pred_proba = learn.predict_proba(df.iloc[val_split])[:,1]\n",
    "fpr, tpr, _ = roc_curve(val_y_ai,  y_pred_proba)\n",
    "auc = roc_auc_score(val_y_ai, y_pred_proba)\n",
    "plt.plot(fpr,tpr,label=\"data 1, auc=\"+str(auc))\n",
    "plt.legend(loc=4)\n",
    "plt.show()"
   ]
  },
  {
   "cell_type": "markdown",
   "id": "7dda4f80-daa4-4dbd-ac18-e2027b9631d9",
   "metadata": {},
   "source": [
    "> AUC score for the case is 0.63. AUC score 1 represents a perfect classifier, and 0.5 represents a worthless classifier.\n",
    "> This is slighly better than the Logistic Regression"
   ]
  },
  {
   "cell_type": "markdown",
   "id": "4f5aa426-8e4a-456e-8796-b39137e9f8c9",
   "metadata": {},
   "source": [
    "### Feature Importance"
   ]
  },
  {
   "cell_type": "markdown",
   "id": "a3ce7cdd-74a2-4163-874c-a34a9d6c9c72",
   "metadata": {},
   "source": [
    "#### By Training Set"
   ]
  },
  {
   "cell_type": "code",
   "execution_count": 148,
   "id": "0018716b-afde-47b6-ad96-697fc7a2cc48",
   "metadata": {},
   "outputs": [
    {
     "data": {
      "image/png": "[encoded data removed]",
      "text/plain": [
       "<Figure size 640x480 with 1 Axes>"
      ]
     },
     "metadata": {},
     "output_type": "display_data"
    }
   ],
   "source": [
    "rf_fi = permutation_importance(learn, trn_xs, trn_y)\n",
    "\n",
    "feature_importances = pd.Series(rf_fi['importances_mean'], index=trn_xs.columns).sort_values(ascending=False)\n",
    "feature_importances.plot.bar();"
   ]
  },
  {
   "cell_type": "markdown",
   "id": "4009f7bd-41f3-40c0-ae3f-8e1fe0453315",
   "metadata": {},
   "source": [
    "Where Y-axis is: Change in Mean Squared Error.\n",
    "\n",
    "The left most means, changing this features will result in the RMSE to increase (about 0.1 for EV).\n",
    "Meaning the model is highly dependent on these features.\n",
    "\n",
    "Zero means changing the feature does not affect the model much.\n",
    "\n",
    "X-axis is: Name of features in this model."
   ]
  },
  {
   "cell_type": "markdown",
   "id": "d5895910-0368-4b74-b6ce-600f684d19a6",
   "metadata": {},
   "source": [
    "#### By Validation Set"
   ]
  },
  {
   "cell_type": "code",
   "execution_count": 159,
   "id": "0b05d6e1-c375-471b-8c7e-c59a0ddf751b",
   "metadata": {},
   "outputs": [
    {
     "data": {
      "image/png": "[encoded data removed]",
      "text/plain": [
       "<Figure size 640x480 with 1 Axes>"
      ]
     },
     "metadata": {},
     "output_type": "display_data"
    }
   ],
   "source": [
    "rf_fi_val = permutation_importance(rf, val_xs, val_y)\n",
    "\n",
    "feature_importances = pd.Series(rf_fi_val['importances_mean'], index=val_xs.columns).sort_values(ascending=False)\n",
    "feature_importances.plot.bar();"
   ]
  },
  {
   "cell_type": "markdown",
   "id": "c8fff4b2-e7e2-4602-8e41-59039bd9a3ca",
   "metadata": {},
   "source": [
    "> Bear in mind that this model is not considered a good model by our Evaluation above (eg. AUC Score). So we cannot say for certain that the feature importance found above has a significant value to our conclusion. However we can still take it onto our consideration for further analysis."
   ]
  },
  {
   "cell_type": "markdown",
   "id": "fecd1cab-6811-4235-a68d-c3440b627187",
   "metadata": {},
   "source": [
    "> Also bear in mind, we get different result each time we refresh the code due to the randomness. However I found that EV is always on top of the other feature in importance."
   ]
  },
  {
   "cell_type": "markdown",
   "id": "b7eefd2a-35df-4561-a168-00356e0547cd",
   "metadata": {},
   "source": [
    "#### Playground To Rerun"
   ]
  },
  {
   "cell_type": "code",
   "execution_count": 161,
   "id": "cbd085aa-4fd7-43b0-a77f-4a93858c79f6",
   "metadata": {},
   "outputs": [
    {
     "data": {
      "image/png": "[encoded data removed]",
      "text/plain": [
       "<Figure size 640x480 with 1 Axes>"
      ]
     },
     "metadata": {},
     "output_type": "display_data"
    }
   ],
   "source": [
    "rf_fi_val = permutation_importance(rf, val_xs, val_y)\n",
    "\n",
    "feature_importances = pd.Series(rf_fi_val['importances_mean'], index=val_xs.columns).sort_values(ascending=False)\n",
    "feature_importances.plot.bar();"
   ]
  },
  {
   "cell_type": "markdown",
   "id": "40ef756a-1712-4087-9fc0-c84d1bb5a505",
   "metadata": {},
   "source": [
    "---"
   ]
  }
 ],
 "metadata": {
  "kernelspec": {
   "display_name": "Python 3 (ipykernel)",
   "language": "python",
   "name": "python3"
  },
  "language_info": {
   "codemirror_mode": {
    "name": "ipython",
    "version": 3
   },
   "file_extension": ".py",
   "mimetype": "text/x-python",
   "name": "python",
   "nbconvert_exporter": "python",
   "pygments_lexer": "ipython3",
   "version": "3.11.9"
  }
 },
 "nbformat": 4,
 "nbformat_minor": 5
}
