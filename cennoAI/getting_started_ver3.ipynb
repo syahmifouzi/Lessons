{
 "cells": [
  {
   "cell_type": "code",
   "execution_count": 1,
   "id": "8a2b284f-a1f2-4e90-841f-dd9d2a6e7d27",
   "metadata": {},
   "outputs": [],
   "source": [
    "from fastai.imports import *\n",
    "np.set_printoptions(linewidth=130)"
   ]
  },
  {
   "cell_type": "code",
   "execution_count": 2,
   "id": "cf231828-41d1-425c-980a-4074da68937a",
   "metadata": {},
   "outputs": [
    {
     "data": {
      "text/html": [
       "<div>\n",
       "<style scoped>\n",
       "    .dataframe tbody tr th:only-of-type {\n",
       "        vertical-align: middle;\n",
       "    }\n",
       "\n",
       "    .dataframe tbody tr th {\n",
       "        vertical-align: top;\n",
       "    }\n",
       "\n",
       "    .dataframe thead th {\n",
       "        text-align: right;\n",
       "    }\n",
       "</style>\n",
       "<table border=\"1\" class=\"dataframe\">\n",
       "  <thead>\n",
       "    <tr style=\"text-align: right;\">\n",
       "      <th></th>\n",
       "      <th>ID</th>\n",
       "      <th>Home</th>\n",
       "      <th>Age</th>\n",
       "      <th>Religion</th>\n",
       "      <th>Ethnicity</th>\n",
       "      <th>Education</th>\n",
       "      <th>Occupation</th>\n",
       "      <th>Income</th>\n",
       "      <th>Marital</th>\n",
       "      <th>Smoke</th>\n",
       "      <th>...</th>\n",
       "      <th>filter_$</th>\n",
       "      <th>religionnew</th>\n",
       "      <th>ethnicitynew</th>\n",
       "      <th>incomenew</th>\n",
       "      <th>maritalnew</th>\n",
       "      <th>educationnew</th>\n",
       "      <th>occupationnew</th>\n",
       "      <th>smokenew</th>\n",
       "      <th>alcoholnew</th>\n",
       "      <th>partnernew</th>\n",
       "    </tr>\n",
       "  </thead>\n",
       "  <tbody>\n",
       "    <tr>\n",
       "      <th>0</th>\n",
       "      <td>7</td>\n",
       "      <td>1</td>\n",
       "      <td>17</td>\n",
       "      <td>3</td>\n",
       "      <td>3</td>\n",
       "      <td>2</td>\n",
       "      <td>4</td>\n",
       "      <td>1</td>\n",
       "      <td>1</td>\n",
       "      <td>3</td>\n",
       "      <td>...</td>\n",
       "      <td>0</td>\n",
       "      <td>0</td>\n",
       "      <td>0</td>\n",
       "      <td>1</td>\n",
       "      <td>1</td>\n",
       "      <td>1</td>\n",
       "      <td>3</td>\n",
       "      <td>0</td>\n",
       "      <td>0</td>\n",
       "      <td>0</td>\n",
       "    </tr>\n",
       "    <tr>\n",
       "      <th>1</th>\n",
       "      <td>9</td>\n",
       "      <td>1</td>\n",
       "      <td>15</td>\n",
       "      <td>1</td>\n",
       "      <td>5</td>\n",
       "      <td>1</td>\n",
       "      <td>4</td>\n",
       "      <td>1</td>\n",
       "      <td>1</td>\n",
       "      <td>3</td>\n",
       "      <td>...</td>\n",
       "      <td>0</td>\n",
       "      <td>1</td>\n",
       "      <td>0</td>\n",
       "      <td>1</td>\n",
       "      <td>1</td>\n",
       "      <td>0</td>\n",
       "      <td>3</td>\n",
       "      <td>0</td>\n",
       "      <td>0</td>\n",
       "      <td>0</td>\n",
       "    </tr>\n",
       "    <tr>\n",
       "      <th>2</th>\n",
       "      <td>11</td>\n",
       "      <td>1</td>\n",
       "      <td>14</td>\n",
       "      <td>1</td>\n",
       "      <td>1</td>\n",
       "      <td>1</td>\n",
       "      <td>2</td>\n",
       "      <td>1</td>\n",
       "      <td>1</td>\n",
       "      <td>3</td>\n",
       "      <td>...</td>\n",
       "      <td>0</td>\n",
       "      <td>1</td>\n",
       "      <td>1</td>\n",
       "      <td>1</td>\n",
       "      <td>1</td>\n",
       "      <td>0</td>\n",
       "      <td>1</td>\n",
       "      <td>0</td>\n",
       "      <td>0</td>\n",
       "      <td>0</td>\n",
       "    </tr>\n",
       "    <tr>\n",
       "      <th>3</th>\n",
       "      <td>15</td>\n",
       "      <td>1</td>\n",
       "      <td>15</td>\n",
       "      <td>1</td>\n",
       "      <td>1</td>\n",
       "      <td>2</td>\n",
       "      <td>4</td>\n",
       "      <td>1</td>\n",
       "      <td>1</td>\n",
       "      <td>3</td>\n",
       "      <td>...</td>\n",
       "      <td>0</td>\n",
       "      <td>1</td>\n",
       "      <td>1</td>\n",
       "      <td>1</td>\n",
       "      <td>1</td>\n",
       "      <td>1</td>\n",
       "      <td>3</td>\n",
       "      <td>0</td>\n",
       "      <td>0</td>\n",
       "      <td>0</td>\n",
       "    </tr>\n",
       "    <tr>\n",
       "      <th>4</th>\n",
       "      <td>43</td>\n",
       "      <td>1</td>\n",
       "      <td>17</td>\n",
       "      <td>1</td>\n",
       "      <td>1</td>\n",
       "      <td>2</td>\n",
       "      <td>4</td>\n",
       "      <td>1</td>\n",
       "      <td>1</td>\n",
       "      <td>3</td>\n",
       "      <td>...</td>\n",
       "      <td>0</td>\n",
       "      <td>1</td>\n",
       "      <td>1</td>\n",
       "      <td>1</td>\n",
       "      <td>1</td>\n",
       "      <td>1</td>\n",
       "      <td>3</td>\n",
       "      <td>0</td>\n",
       "      <td>0</td>\n",
       "      <td>0</td>\n",
       "    </tr>\n",
       "  </tbody>\n",
       "</table>\n",
       "<p>5 rows × 147 columns</p>\n",
       "</div>"
      ],
      "text/plain": [
       "   ID  Home  Age  Religion  Ethnicity  Education  Occupation  Income  Marital  \\\n",
       "0   7     1   17         3          3          2           4       1        1   \n",
       "1   9     1   15         1          5          1           4       1        1   \n",
       "2  11     1   14         1          1          1           2       1        1   \n",
       "3  15     1   15         1          1          2           4       1        1   \n",
       "4  43     1   17         1          1          2           4       1        1   \n",
       "\n",
       "   Smoke  ...  filter_$  religionnew  ethnicitynew incomenew  maritalnew  \\\n",
       "0      3  ...         0            0             0         1           1   \n",
       "1      3  ...         0            1             0         1           1   \n",
       "2      3  ...         0            1             1         1           1   \n",
       "3      3  ...         0            1             1         1           1   \n",
       "4      3  ...         0            1             1         1           1   \n",
       "\n",
       "   educationnew  occupationnew  smokenew  alcoholnew  partnernew  \n",
       "0             1              3         0           0           0  \n",
       "1             0              3         0           0           0  \n",
       "2             0              1         0           0           0  \n",
       "3             1              3         0           0           0  \n",
       "4             1              3         0           0           0  \n",
       "\n",
       "[5 rows x 147 columns]"
      ]
     },
     "execution_count": 2,
     "metadata": {},
     "output_type": "execute_result"
    }
   ],
   "source": [
    "df = pd.read_csv('./references/09 data clean.csv')\n",
    "df.head()"
   ]
  },
  {
   "cell_type": "code",
   "execution_count": 3,
   "id": "43827d8a-fd7c-4273-92fc-11154a4a6e93",
   "metadata": {},
   "outputs": [
    {
     "data": {
      "text/html": [
       "<div>\n",
       "<style scoped>\n",
       "    .dataframe tbody tr th:only-of-type {\n",
       "        vertical-align: middle;\n",
       "    }\n",
       "\n",
       "    .dataframe tbody tr th {\n",
       "        vertical-align: top;\n",
       "    }\n",
       "\n",
       "    .dataframe thead th {\n",
       "        text-align: right;\n",
       "    }\n",
       "</style>\n",
       "<table border=\"1\" class=\"dataframe\">\n",
       "  <thead>\n",
       "    <tr style=\"text-align: right;\">\n",
       "      <th></th>\n",
       "      <th>ID</th>\n",
       "      <th>Home</th>\n",
       "      <th>Age</th>\n",
       "      <th>Religion</th>\n",
       "      <th>Ethnicity</th>\n",
       "      <th>Education</th>\n",
       "      <th>Occupation</th>\n",
       "      <th>Income</th>\n",
       "      <th>Marital</th>\n",
       "      <th>Smoke</th>\n",
       "      <th>Smoking</th>\n",
       "      <th>Alcohol</th>\n",
       "      <th>Partner</th>\n",
       "      <th>P_Age</th>\n",
       "      <th>P_Education</th>\n",
       "      <th>P_Occupation</th>\n",
       "      <th>P_Alcohol</th>\n",
       "      <th>P_Drugs</th>\n",
       "      <th>P_Fights</th>\n",
       "      <th>P_Women</th>\n",
       "      <th>P_Child</th>\n",
       "      <th>SectionCQ1</th>\n",
       "      <th>SectionCQ2</th>\n",
       "      <th>SectionCQ3</th>\n",
       "      <th>SectionCQ4</th>\n",
       "      <th>SectionCQ5</th>\n",
       "      <th>SectionCQ6</th>\n",
       "      <th>SectionCQ7</th>\n",
       "      <th>SectionCQ8</th>\n",
       "      <th>SectionCQ9</th>\n",
       "      <th>SectionCQ10</th>\n",
       "      <th>SectionCQ11</th>\n",
       "      <th>SectionCQ12</th>\n",
       "      <th>SectionCQ13</th>\n",
       "      <th>SectionCQ14</th>\n",
       "      <th>SectionCQ15</th>\n",
       "      <th>SectionCQ16</th>\n",
       "      <th>SectionCQ17</th>\n",
       "      <th>SectionCQ18</th>\n",
       "      <th>SectionCQ19</th>\n",
       "      <th>SectionCQ20</th>\n",
       "      <th>SectionCQ21</th>\n",
       "      <th>SectionCQ22</th>\n",
       "      <th>SectionCQ23</th>\n",
       "      <th>SectionCQ24</th>\n",
       "      <th>SectionCQ25</th>\n",
       "      <th>SectionCQ26</th>\n",
       "      <th>SectionCQ27</th>\n",
       "      <th>SectionCQ28</th>\n",
       "      <th>SectionCQ29</th>\n",
       "      <th>SectionCQ30</th>\n",
       "      <th>SectionCQ31</th>\n",
       "      <th>SectionCQ32</th>\n",
       "      <th>SectionCQ33</th>\n",
       "      <th>SectionCQ34</th>\n",
       "      <th>SectionCQ35</th>\n",
       "      <th>SectionCQ36</th>\n",
       "      <th>SectionCQ37</th>\n",
       "      <th>SectionCQ38</th>\n",
       "      <th>SectionCQ39</th>\n",
       "      <th>SectionCQ40</th>\n",
       "      <th>SectionCQ41</th>\n",
       "      <th>SectionCQ42</th>\n",
       "      <th>SectionCQ43</th>\n",
       "      <th>SectionCQ44</th>\n",
       "      <th>SectionDQ1</th>\n",
       "      <th>SectionDQ1a</th>\n",
       "      <th>SectionDQ2</th>\n",
       "      <th>SectionDQ2a</th>\n",
       "      <th>SectionDQ3</th>\n",
       "      <th>SectionDQ3a</th>\n",
       "      <th>SectionDQ4</th>\n",
       "      <th>SectionDQ5</th>\n",
       "      <th>PHQ1</th>\n",
       "      <th>PHQ2</th>\n",
       "      <th>PHQ3</th>\n",
       "      <th>PHQ4</th>\n",
       "      <th>PHQ5</th>\n",
       "      <th>PHQ6</th>\n",
       "      <th>PHQ7</th>\n",
       "      <th>PHQ8</th>\n",
       "      <th>PHQ9</th>\n",
       "      <th>PHQ10</th>\n",
       "      <th>TPHQ</th>\n",
       "      <th>LDEPRESSION</th>\n",
       "      <th>PDEPRESSION</th>\n",
       "      <th>GAD1</th>\n",
       "      <th>GAD2</th>\n",
       "      <th>GAD3</th>\n",
       "      <th>GAD4</th>\n",
       "      <th>GAD5</th>\n",
       "      <th>GAD6</th>\n",
       "      <th>GAD7</th>\n",
       "      <th>TANXIETY</th>\n",
       "      <th>Lanxiety</th>\n",
       "      <th>Panxiety</th>\n",
       "      <th>PCL1</th>\n",
       "      <th>PCL2</th>\n",
       "      <th>PCL3</th>\n",
       "      <th>PCL4</th>\n",
       "      <th>PCL5</th>\n",
       "      <th>PCL6</th>\n",
       "      <th>PCL7</th>\n",
       "      <th>PCL8</th>\n",
       "      <th>PCL9</th>\n",
       "      <th>PCL10</th>\n",
       "      <th>PCL11</th>\n",
       "      <th>PCL12</th>\n",
       "      <th>PCL13</th>\n",
       "      <th>PCL14</th>\n",
       "      <th>PCL15</th>\n",
       "      <th>PCL16</th>\n",
       "      <th>PCL17</th>\n",
       "      <th>PCL18</th>\n",
       "      <th>PCL19</th>\n",
       "      <th>PCL20</th>\n",
       "      <th>TPCL</th>\n",
       "      <th>PPTSD</th>\n",
       "      <th>MINI1</th>\n",
       "      <th>MINI1a</th>\n",
       "      <th>MINI2</th>\n",
       "      <th>MINI2a</th>\n",
       "      <th>MINI3</th>\n",
       "      <th>MINI4</th>\n",
       "      <th>MINI5</th>\n",
       "      <th>MINI6</th>\n",
       "      <th>MINI7</th>\n",
       "      <th>MINI8</th>\n",
       "      <th>MINI9</th>\n",
       "      <th>MINI10</th>\n",
       "      <th>MINI11</th>\n",
       "      <th>MINIdepression</th>\n",
       "      <th>EV</th>\n",
       "      <th>CB</th>\n",
       "      <th>PV</th>\n",
       "      <th>SV</th>\n",
       "      <th>IPV</th>\n",
       "      <th>filter_$</th>\n",
       "      <th>religionnew</th>\n",
       "      <th>ethnicitynew</th>\n",
       "      <th>incomenew</th>\n",
       "      <th>maritalnew</th>\n",
       "      <th>educationnew</th>\n",
       "      <th>occupationnew</th>\n",
       "      <th>smokenew</th>\n",
       "      <th>alcoholnew</th>\n",
       "      <th>partnernew</th>\n",
       "    </tr>\n",
       "  </thead>\n",
       "  <tbody>\n",
       "    <tr>\n",
       "      <th>0</th>\n",
       "      <td>7</td>\n",
       "      <td>1</td>\n",
       "      <td>17</td>\n",
       "      <td>3</td>\n",
       "      <td>3</td>\n",
       "      <td>2</td>\n",
       "      <td>4</td>\n",
       "      <td>1</td>\n",
       "      <td>1</td>\n",
       "      <td>3</td>\n",
       "      <td>3</td>\n",
       "      <td>7</td>\n",
       "      <td>1</td>\n",
       "      <td></td>\n",
       "      <td>6</td>\n",
       "      <td>6</td>\n",
       "      <td>7</td>\n",
       "      <td>7</td>\n",
       "      <td>4</td>\n",
       "      <td>5</td>\n",
       "      <td>6</td>\n",
       "      <td>2</td>\n",
       "      <td>2</td>\n",
       "      <td>2</td>\n",
       "      <td>2</td>\n",
       "      <td>1</td>\n",
       "      <td>2</td>\n",
       "      <td>2</td>\n",
       "      <td>2</td>\n",
       "      <td>2</td>\n",
       "      <td>2</td>\n",
       "      <td>2</td>\n",
       "      <td>2</td>\n",
       "      <td>2</td>\n",
       "      <td>3</td>\n",
       "      <td>2</td>\n",
       "      <td>3</td>\n",
       "      <td>2</td>\n",
       "      <td>3</td>\n",
       "      <td>2</td>\n",
       "      <td>3</td>\n",
       "      <td>2</td>\n",
       "      <td>3</td>\n",
       "      <td>2</td>\n",
       "      <td>3</td>\n",
       "      <td>2</td>\n",
       "      <td>3</td>\n",
       "      <td>2</td>\n",
       "      <td>3</td>\n",
       "      <td>2</td>\n",
       "      <td>3</td>\n",
       "      <td>2</td>\n",
       "      <td>3</td>\n",
       "      <td>2</td>\n",
       "      <td>3</td>\n",
       "      <td>2</td>\n",
       "      <td>3</td>\n",
       "      <td>2</td>\n",
       "      <td>3</td>\n",
       "      <td>3</td>\n",
       "      <td>4</td>\n",
       "      <td>4</td>\n",
       "      <td>4</td>\n",
       "      <td>4</td>\n",
       "      <td>5</td>\n",
       "      <td>1</td>\n",
       "      <td>1</td>\n",
       "      <td>1</td>\n",
       "      <td>1</td>\n",
       "      <td>1</td>\n",
       "      <td>1</td>\n",
       "      <td>2</td>\n",
       "      <td>1</td>\n",
       "      <td>0</td>\n",
       "      <td>3</td>\n",
       "      <td>3</td>\n",
       "      <td>2</td>\n",
       "      <td>0</td>\n",
       "      <td>3</td>\n",
       "      <td>1</td>\n",
       "      <td>1</td>\n",
       "      <td>3</td>\n",
       "      <td>1</td>\n",
       "      <td>16</td>\n",
       "      <td>4</td>\n",
       "      <td>0</td>\n",
       "      <td>3</td>\n",
       "      <td>3</td>\n",
       "      <td>3</td>\n",
       "      <td>3</td>\n",
       "      <td>1</td>\n",
       "      <td>2</td>\n",
       "      <td>2</td>\n",
       "      <td>17</td>\n",
       "      <td>4</td>\n",
       "      <td>1</td>\n",
       "      <td>3</td>\n",
       "      <td>2</td>\n",
       "      <td>3</td>\n",
       "      <td>3</td>\n",
       "      <td>3</td>\n",
       "      <td>1</td>\n",
       "      <td>2</td>\n",
       "      <td>3</td>\n",
       "      <td>1</td>\n",
       "      <td>2</td>\n",
       "      <td>3</td>\n",
       "      <td>3</td>\n",
       "      <td>1</td>\n",
       "      <td>3</td>\n",
       "      <td>2</td>\n",
       "      <td>1</td>\n",
       "      <td>1</td>\n",
       "      <td>3</td>\n",
       "      <td>1</td>\n",
       "      <td>1</td>\n",
       "      <td>42</td>\n",
       "      <td>1</td>\n",
       "      <td>1</td>\n",
       "      <td>1</td>\n",
       "      <td>1</td>\n",
       "      <td>1</td>\n",
       "      <td>2</td>\n",
       "      <td>2</td>\n",
       "      <td>2</td>\n",
       "      <td>2</td>\n",
       "      <td>2</td>\n",
       "      <td>1</td>\n",
       "      <td>2</td>\n",
       "      <td>2</td>\n",
       "      <td>1</td>\n",
       "      <td>0</td>\n",
       "      <td>0</td>\n",
       "      <td>0</td>\n",
       "      <td>0</td>\n",
       "      <td>0</td>\n",
       "      <td>0</td>\n",
       "      <td>0</td>\n",
       "      <td>0</td>\n",
       "      <td>0</td>\n",
       "      <td>1</td>\n",
       "      <td>1</td>\n",
       "      <td>1</td>\n",
       "      <td>3</td>\n",
       "      <td>0</td>\n",
       "      <td>0</td>\n",
       "      <td>0</td>\n",
       "    </tr>\n",
       "    <tr>\n",
       "      <th>1</th>\n",
       "      <td>9</td>\n",
       "      <td>1</td>\n",
       "      <td>15</td>\n",
       "      <td>1</td>\n",
       "      <td>5</td>\n",
       "      <td>1</td>\n",
       "      <td>4</td>\n",
       "      <td>1</td>\n",
       "      <td>1</td>\n",
       "      <td>3</td>\n",
       "      <td>3</td>\n",
       "      <td>7</td>\n",
       "      <td>4</td>\n",
       "      <td></td>\n",
       "      <td>6</td>\n",
       "      <td>6</td>\n",
       "      <td>7</td>\n",
       "      <td>7</td>\n",
       "      <td>4</td>\n",
       "      <td>5</td>\n",
       "      <td>6</td>\n",
       "      <td>2</td>\n",
       "      <td>2</td>\n",
       "      <td>2</td>\n",
       "      <td>2</td>\n",
       "      <td>1</td>\n",
       "      <td>2</td>\n",
       "      <td>2</td>\n",
       "      <td>2</td>\n",
       "      <td>2</td>\n",
       "      <td>2</td>\n",
       "      <td>2</td>\n",
       "      <td>2</td>\n",
       "      <td>2</td>\n",
       "      <td>3</td>\n",
       "      <td>2</td>\n",
       "      <td>3</td>\n",
       "      <td>2</td>\n",
       "      <td>3</td>\n",
       "      <td>2</td>\n",
       "      <td>3</td>\n",
       "      <td>2</td>\n",
       "      <td>3</td>\n",
       "      <td>2</td>\n",
       "      <td>3</td>\n",
       "      <td>2</td>\n",
       "      <td>3</td>\n",
       "      <td>2</td>\n",
       "      <td>3</td>\n",
       "      <td>2</td>\n",
       "      <td>3</td>\n",
       "      <td>2</td>\n",
       "      <td>3</td>\n",
       "      <td>2</td>\n",
       "      <td>3</td>\n",
       "      <td>2</td>\n",
       "      <td>3</td>\n",
       "      <td>2</td>\n",
       "      <td>3</td>\n",
       "      <td>3</td>\n",
       "      <td>4</td>\n",
       "      <td>4</td>\n",
       "      <td>4</td>\n",
       "      <td>4</td>\n",
       "      <td>5</td>\n",
       "      <td>2</td>\n",
       "      <td></td>\n",
       "      <td>1</td>\n",
       "      <td>89</td>\n",
       "      <td>2</td>\n",
       "      <td></td>\n",
       "      <td>2</td>\n",
       "      <td>1</td>\n",
       "      <td>1</td>\n",
       "      <td>3</td>\n",
       "      <td>0</td>\n",
       "      <td>3</td>\n",
       "      <td>2</td>\n",
       "      <td>3</td>\n",
       "      <td>2</td>\n",
       "      <td>2</td>\n",
       "      <td>1</td>\n",
       "      <td>3</td>\n",
       "      <td>17</td>\n",
       "      <td>4</td>\n",
       "      <td>0</td>\n",
       "      <td>1</td>\n",
       "      <td>0</td>\n",
       "      <td>3</td>\n",
       "      <td>1</td>\n",
       "      <td>0</td>\n",
       "      <td>2</td>\n",
       "      <td>1</td>\n",
       "      <td>8</td>\n",
       "      <td>2</td>\n",
       "      <td>0</td>\n",
       "      <td>4</td>\n",
       "      <td>0</td>\n",
       "      <td>3</td>\n",
       "      <td>4</td>\n",
       "      <td>1</td>\n",
       "      <td>4</td>\n",
       "      <td>0</td>\n",
       "      <td>0</td>\n",
       "      <td>4</td>\n",
       "      <td>0</td>\n",
       "      <td>4</td>\n",
       "      <td>2</td>\n",
       "      <td>4</td>\n",
       "      <td>2</td>\n",
       "      <td>4</td>\n",
       "      <td>0</td>\n",
       "      <td>2</td>\n",
       "      <td>0</td>\n",
       "      <td>2</td>\n",
       "      <td>4</td>\n",
       "      <td>44</td>\n",
       "      <td>1</td>\n",
       "      <td>2</td>\n",
       "      <td></td>\n",
       "      <td>2</td>\n",
       "      <td></td>\n",
       "      <td></td>\n",
       "      <td></td>\n",
       "      <td></td>\n",
       "      <td></td>\n",
       "      <td></td>\n",
       "      <td></td>\n",
       "      <td></td>\n",
       "      <td></td>\n",
       "      <td></td>\n",
       "      <td>0</td>\n",
       "      <td>0</td>\n",
       "      <td>0</td>\n",
       "      <td>0</td>\n",
       "      <td>0</td>\n",
       "      <td>0</td>\n",
       "      <td>0</td>\n",
       "      <td>1</td>\n",
       "      <td>0</td>\n",
       "      <td>1</td>\n",
       "      <td>1</td>\n",
       "      <td>0</td>\n",
       "      <td>3</td>\n",
       "      <td>0</td>\n",
       "      <td>0</td>\n",
       "      <td>0</td>\n",
       "    </tr>\n",
       "    <tr>\n",
       "      <th>2</th>\n",
       "      <td>11</td>\n",
       "      <td>1</td>\n",
       "      <td>14</td>\n",
       "      <td>1</td>\n",
       "      <td>1</td>\n",
       "      <td>1</td>\n",
       "      <td>2</td>\n",
       "      <td>1</td>\n",
       "      <td>1</td>\n",
       "      <td>3</td>\n",
       "      <td>3</td>\n",
       "      <td>7</td>\n",
       "      <td>2</td>\n",
       "      <td></td>\n",
       "      <td>6</td>\n",
       "      <td>6</td>\n",
       "      <td>7</td>\n",
       "      <td>7</td>\n",
       "      <td>4</td>\n",
       "      <td>5</td>\n",
       "      <td>6</td>\n",
       "      <td>2</td>\n",
       "      <td>2</td>\n",
       "      <td>2</td>\n",
       "      <td>2</td>\n",
       "      <td>1</td>\n",
       "      <td>2</td>\n",
       "      <td>2</td>\n",
       "      <td>2</td>\n",
       "      <td>2</td>\n",
       "      <td>2</td>\n",
       "      <td>2</td>\n",
       "      <td>2</td>\n",
       "      <td>2</td>\n",
       "      <td>3</td>\n",
       "      <td>2</td>\n",
       "      <td>3</td>\n",
       "      <td>2</td>\n",
       "      <td>3</td>\n",
       "      <td>2</td>\n",
       "      <td>3</td>\n",
       "      <td>2</td>\n",
       "      <td>3</td>\n",
       "      <td>2</td>\n",
       "      <td>3</td>\n",
       "      <td>2</td>\n",
       "      <td>3</td>\n",
       "      <td>2</td>\n",
       "      <td>3</td>\n",
       "      <td>2</td>\n",
       "      <td>3</td>\n",
       "      <td>2</td>\n",
       "      <td>3</td>\n",
       "      <td>2</td>\n",
       "      <td>3</td>\n",
       "      <td>2</td>\n",
       "      <td>3</td>\n",
       "      <td>2</td>\n",
       "      <td>3</td>\n",
       "      <td>3</td>\n",
       "      <td>4</td>\n",
       "      <td>4</td>\n",
       "      <td>4</td>\n",
       "      <td>4</td>\n",
       "      <td>5</td>\n",
       "      <td>1</td>\n",
       "      <td>1</td>\n",
       "      <td>1</td>\n",
       "      <td>1</td>\n",
       "      <td>1</td>\n",
       "      <td>1</td>\n",
       "      <td>1</td>\n",
       "      <td>1</td>\n",
       "      <td>3</td>\n",
       "      <td>3</td>\n",
       "      <td>3</td>\n",
       "      <td>3</td>\n",
       "      <td>3</td>\n",
       "      <td>3</td>\n",
       "      <td>3</td>\n",
       "      <td>3</td>\n",
       "      <td>3</td>\n",
       "      <td>3</td>\n",
       "      <td>27</td>\n",
       "      <td>5</td>\n",
       "      <td>1</td>\n",
       "      <td>3</td>\n",
       "      <td>3</td>\n",
       "      <td>3</td>\n",
       "      <td>3</td>\n",
       "      <td>3</td>\n",
       "      <td>2</td>\n",
       "      <td>3</td>\n",
       "      <td>20</td>\n",
       "      <td>4</td>\n",
       "      <td>1</td>\n",
       "      <td>4</td>\n",
       "      <td>4</td>\n",
       "      <td>4</td>\n",
       "      <td>4</td>\n",
       "      <td>4</td>\n",
       "      <td>4</td>\n",
       "      <td>4</td>\n",
       "      <td>4</td>\n",
       "      <td>4</td>\n",
       "      <td>4</td>\n",
       "      <td>4</td>\n",
       "      <td>4</td>\n",
       "      <td>4</td>\n",
       "      <td>4</td>\n",
       "      <td>4</td>\n",
       "      <td>4</td>\n",
       "      <td>4</td>\n",
       "      <td>4</td>\n",
       "      <td>4</td>\n",
       "      <td>4</td>\n",
       "      <td>80</td>\n",
       "      <td>1</td>\n",
       "      <td>1</td>\n",
       "      <td>1</td>\n",
       "      <td>1</td>\n",
       "      <td>1</td>\n",
       "      <td>2</td>\n",
       "      <td>2</td>\n",
       "      <td>1</td>\n",
       "      <td>1</td>\n",
       "      <td>1</td>\n",
       "      <td>1</td>\n",
       "      <td>1</td>\n",
       "      <td>1</td>\n",
       "      <td>1</td>\n",
       "      <td>1</td>\n",
       "      <td>0</td>\n",
       "      <td>0</td>\n",
       "      <td>0</td>\n",
       "      <td>0</td>\n",
       "      <td>0</td>\n",
       "      <td>0</td>\n",
       "      <td>1</td>\n",
       "      <td>1</td>\n",
       "      <td>1</td>\n",
       "      <td>1</td>\n",
       "      <td>0</td>\n",
       "      <td>1</td>\n",
       "      <td>0</td>\n",
       "      <td>0</td>\n",
       "      <td>0</td>\n",
       "    </tr>\n",
       "    <tr>\n",
       "      <th>3</th>\n",
       "      <td>15</td>\n",
       "      <td>1</td>\n",
       "      <td>15</td>\n",
       "      <td>1</td>\n",
       "      <td>1</td>\n",
       "      <td>2</td>\n",
       "      <td>4</td>\n",
       "      <td>1</td>\n",
       "      <td>1</td>\n",
       "      <td>3</td>\n",
       "      <td>3</td>\n",
       "      <td>7</td>\n",
       "      <td>1</td>\n",
       "      <td></td>\n",
       "      <td>6</td>\n",
       "      <td>6</td>\n",
       "      <td>7</td>\n",
       "      <td>7</td>\n",
       "      <td>4</td>\n",
       "      <td>5</td>\n",
       "      <td>6</td>\n",
       "      <td>2</td>\n",
       "      <td>2</td>\n",
       "      <td>2</td>\n",
       "      <td>2</td>\n",
       "      <td>1</td>\n",
       "      <td>2</td>\n",
       "      <td>2</td>\n",
       "      <td>2</td>\n",
       "      <td>2</td>\n",
       "      <td>2</td>\n",
       "      <td>2</td>\n",
       "      <td>2</td>\n",
       "      <td>2</td>\n",
       "      <td>3</td>\n",
       "      <td>2</td>\n",
       "      <td>3</td>\n",
       "      <td>2</td>\n",
       "      <td>3</td>\n",
       "      <td>2</td>\n",
       "      <td>3</td>\n",
       "      <td>2</td>\n",
       "      <td>3</td>\n",
       "      <td>2</td>\n",
       "      <td>3</td>\n",
       "      <td>2</td>\n",
       "      <td>3</td>\n",
       "      <td>2</td>\n",
       "      <td>3</td>\n",
       "      <td>2</td>\n",
       "      <td>3</td>\n",
       "      <td>2</td>\n",
       "      <td>3</td>\n",
       "      <td>2</td>\n",
       "      <td>3</td>\n",
       "      <td>2</td>\n",
       "      <td>3</td>\n",
       "      <td>2</td>\n",
       "      <td>3</td>\n",
       "      <td>3</td>\n",
       "      <td>4</td>\n",
       "      <td>4</td>\n",
       "      <td>4</td>\n",
       "      <td>4</td>\n",
       "      <td>5</td>\n",
       "      <td>1</td>\n",
       "      <td>34</td>\n",
       "      <td>1</td>\n",
       "      <td>13</td>\n",
       "      <td>1</td>\n",
       "      <td>13</td>\n",
       "      <td>4</td>\n",
       "      <td>2</td>\n",
       "      <td>0</td>\n",
       "      <td>0</td>\n",
       "      <td>1</td>\n",
       "      <td>0</td>\n",
       "      <td>0</td>\n",
       "      <td>0</td>\n",
       "      <td>0</td>\n",
       "      <td>0</td>\n",
       "      <td>0</td>\n",
       "      <td>1</td>\n",
       "      <td>1</td>\n",
       "      <td>1</td>\n",
       "      <td>0</td>\n",
       "      <td>0</td>\n",
       "      <td>0</td>\n",
       "      <td>0</td>\n",
       "      <td>0</td>\n",
       "      <td>0</td>\n",
       "      <td>0</td>\n",
       "      <td>0</td>\n",
       "      <td>0</td>\n",
       "      <td>1</td>\n",
       "      <td>0</td>\n",
       "      <td>0</td>\n",
       "      <td>0</td>\n",
       "      <td>0</td>\n",
       "      <td>0</td>\n",
       "      <td>0</td>\n",
       "      <td>0</td>\n",
       "      <td>0</td>\n",
       "      <td>0</td>\n",
       "      <td>0</td>\n",
       "      <td>0</td>\n",
       "      <td>0</td>\n",
       "      <td>0</td>\n",
       "      <td>0</td>\n",
       "      <td>0</td>\n",
       "      <td>0</td>\n",
       "      <td>0</td>\n",
       "      <td>0</td>\n",
       "      <td>0</td>\n",
       "      <td>0</td>\n",
       "      <td>0</td>\n",
       "      <td>0</td>\n",
       "      <td>0</td>\n",
       "      <td>2</td>\n",
       "      <td></td>\n",
       "      <td>2</td>\n",
       "      <td></td>\n",
       "      <td>2</td>\n",
       "      <td>2</td>\n",
       "      <td>2</td>\n",
       "      <td>2</td>\n",
       "      <td>2</td>\n",
       "      <td>2</td>\n",
       "      <td>2</td>\n",
       "      <td>2</td>\n",
       "      <td>2</td>\n",
       "      <td>0</td>\n",
       "      <td>0</td>\n",
       "      <td>0</td>\n",
       "      <td>0</td>\n",
       "      <td>0</td>\n",
       "      <td>0</td>\n",
       "      <td>0</td>\n",
       "      <td>1</td>\n",
       "      <td>1</td>\n",
       "      <td>1</td>\n",
       "      <td>1</td>\n",
       "      <td>1</td>\n",
       "      <td>3</td>\n",
       "      <td>0</td>\n",
       "      <td>0</td>\n",
       "      <td>0</td>\n",
       "    </tr>\n",
       "    <tr>\n",
       "      <th>4</th>\n",
       "      <td>43</td>\n",
       "      <td>1</td>\n",
       "      <td>17</td>\n",
       "      <td>1</td>\n",
       "      <td>1</td>\n",
       "      <td>2</td>\n",
       "      <td>4</td>\n",
       "      <td>1</td>\n",
       "      <td>1</td>\n",
       "      <td>3</td>\n",
       "      <td>3</td>\n",
       "      <td>7</td>\n",
       "      <td>1</td>\n",
       "      <td></td>\n",
       "      <td>6</td>\n",
       "      <td>6</td>\n",
       "      <td>7</td>\n",
       "      <td>7</td>\n",
       "      <td>4</td>\n",
       "      <td>5</td>\n",
       "      <td>6</td>\n",
       "      <td>2</td>\n",
       "      <td>2</td>\n",
       "      <td>2</td>\n",
       "      <td>2</td>\n",
       "      <td>1</td>\n",
       "      <td>2</td>\n",
       "      <td>2</td>\n",
       "      <td>2</td>\n",
       "      <td>2</td>\n",
       "      <td>2</td>\n",
       "      <td>2</td>\n",
       "      <td>2</td>\n",
       "      <td>2</td>\n",
       "      <td>3</td>\n",
       "      <td>2</td>\n",
       "      <td>3</td>\n",
       "      <td>2</td>\n",
       "      <td>3</td>\n",
       "      <td>2</td>\n",
       "      <td>3</td>\n",
       "      <td>2</td>\n",
       "      <td>3</td>\n",
       "      <td>2</td>\n",
       "      <td>3</td>\n",
       "      <td>2</td>\n",
       "      <td>3</td>\n",
       "      <td>2</td>\n",
       "      <td>3</td>\n",
       "      <td>2</td>\n",
       "      <td>3</td>\n",
       "      <td>2</td>\n",
       "      <td>3</td>\n",
       "      <td>2</td>\n",
       "      <td>3</td>\n",
       "      <td>2</td>\n",
       "      <td>3</td>\n",
       "      <td>2</td>\n",
       "      <td>3</td>\n",
       "      <td>3</td>\n",
       "      <td>4</td>\n",
       "      <td>4</td>\n",
       "      <td>4</td>\n",
       "      <td>4</td>\n",
       "      <td>5</td>\n",
       "      <td>1</td>\n",
       "      <td>2</td>\n",
       "      <td>2</td>\n",
       "      <td></td>\n",
       "      <td>2</td>\n",
       "      <td></td>\n",
       "      <td>13</td>\n",
       "      <td>1</td>\n",
       "      <td>1</td>\n",
       "      <td>1</td>\n",
       "      <td>2</td>\n",
       "      <td>2</td>\n",
       "      <td>3</td>\n",
       "      <td>3</td>\n",
       "      <td>3</td>\n",
       "      <td>1</td>\n",
       "      <td>2</td>\n",
       "      <td>1</td>\n",
       "      <td>18</td>\n",
       "      <td>4</td>\n",
       "      <td>0</td>\n",
       "      <td>1</td>\n",
       "      <td>1</td>\n",
       "      <td>0</td>\n",
       "      <td>0</td>\n",
       "      <td>1</td>\n",
       "      <td>2</td>\n",
       "      <td>1</td>\n",
       "      <td>6</td>\n",
       "      <td>2</td>\n",
       "      <td>0</td>\n",
       "      <td>3</td>\n",
       "      <td>2</td>\n",
       "      <td>2</td>\n",
       "      <td>3</td>\n",
       "      <td>2</td>\n",
       "      <td>2</td>\n",
       "      <td>2</td>\n",
       "      <td>1</td>\n",
       "      <td>3</td>\n",
       "      <td>3</td>\n",
       "      <td>3</td>\n",
       "      <td>3</td>\n",
       "      <td>3</td>\n",
       "      <td>2</td>\n",
       "      <td>2</td>\n",
       "      <td>2</td>\n",
       "      <td>1</td>\n",
       "      <td>2</td>\n",
       "      <td>3</td>\n",
       "      <td>3</td>\n",
       "      <td>47</td>\n",
       "      <td>1</td>\n",
       "      <td>2</td>\n",
       "      <td></td>\n",
       "      <td>1</td>\n",
       "      <td>2</td>\n",
       "      <td>2</td>\n",
       "      <td>2</td>\n",
       "      <td>2</td>\n",
       "      <td>2</td>\n",
       "      <td>2</td>\n",
       "      <td>2</td>\n",
       "      <td>2</td>\n",
       "      <td>2</td>\n",
       "      <td>2</td>\n",
       "      <td>0</td>\n",
       "      <td>0</td>\n",
       "      <td>0</td>\n",
       "      <td>0</td>\n",
       "      <td>0</td>\n",
       "      <td>0</td>\n",
       "      <td>0</td>\n",
       "      <td>1</td>\n",
       "      <td>1</td>\n",
       "      <td>1</td>\n",
       "      <td>1</td>\n",
       "      <td>1</td>\n",
       "      <td>3</td>\n",
       "      <td>0</td>\n",
       "      <td>0</td>\n",
       "      <td>0</td>\n",
       "    </tr>\n",
       "  </tbody>\n",
       "</table>\n",
       "</div>"
      ],
      "text/plain": [
       "   ID  Home  Age  Religion  Ethnicity  Education  Occupation  Income  Marital  \\\n",
       "0   7     1   17         3          3          2           4       1        1   \n",
       "1   9     1   15         1          5          1           4       1        1   \n",
       "2  11     1   14         1          1          1           2       1        1   \n",
       "3  15     1   15         1          1          2           4       1        1   \n",
       "4  43     1   17         1          1          2           4       1        1   \n",
       "\n",
       "   Smoke  Smoking  Alcohol  Partner P_Age  P_Education  P_Occupation  \\\n",
       "0      3        3        7        1                  6             6   \n",
       "1      3        3        7        4                  6             6   \n",
       "2      3        3        7        2                  6             6   \n",
       "3      3        3        7        1                  6             6   \n",
       "4      3        3        7        1                  6             6   \n",
       "\n",
       "   P_Alcohol  P_Drugs  P_Fights  P_Women  P_Child  SectionCQ1  SectionCQ2  \\\n",
       "0          7        7         4        5        6           2           2   \n",
       "1          7        7         4        5        6           2           2   \n",
       "2          7        7         4        5        6           2           2   \n",
       "3          7        7         4        5        6           2           2   \n",
       "4          7        7         4        5        6           2           2   \n",
       "\n",
       "   SectionCQ3  SectionCQ4  SectionCQ5  SectionCQ6 SectionCQ7  SectionCQ8  \\\n",
       "0           2           2           1           2          2           2   \n",
       "1           2           2           1           2          2           2   \n",
       "2           2           2           1           2          2           2   \n",
       "3           2           2           1           2          2           2   \n",
       "4           2           2           1           2          2           2   \n",
       "\n",
       "   SectionCQ9  SectionCQ10  SectionCQ11  SectionCQ12  SectionCQ13  \\\n",
       "0           2            2            2            2            2   \n",
       "1           2            2            2            2            2   \n",
       "2           2            2            2            2            2   \n",
       "3           2            2            2            2            2   \n",
       "4           2            2            2            2            2   \n",
       "\n",
       "   SectionCQ14  SectionCQ15  SectionCQ16  SectionCQ17 SectionCQ18  \\\n",
       "0            3            2            3            2           3   \n",
       "1            3            2            3            2           3   \n",
       "2            3            2            3            2           3   \n",
       "3            3            2            3            2           3   \n",
       "4            3            2            3            2           3   \n",
       "\n",
       "   SectionCQ19  SectionCQ20  SectionCQ21  SectionCQ22  SectionCQ23  \\\n",
       "0            2            3            2            3            2   \n",
       "1            2            3            2            3            2   \n",
       "2            2            3            2            3            2   \n",
       "3            2            3            2            3            2   \n",
       "4            2            3            2            3            2   \n",
       "\n",
       "   SectionCQ24  SectionCQ25  SectionCQ26  SectionCQ27  SectionCQ28  \\\n",
       "0            3            2            3            2            3   \n",
       "1            3            2            3            2            3   \n",
       "2            3            2            3            2            3   \n",
       "3            3            2            3            2            3   \n",
       "4            3            2            3            2            3   \n",
       "\n",
       "   SectionCQ29  SectionCQ30  SectionCQ31  SectionCQ32  SectionCQ33  \\\n",
       "0            2            3            2            3            2   \n",
       "1            2            3            2            3            2   \n",
       "2            2            3            2            3            2   \n",
       "3            2            3            2            3            2   \n",
       "4            2            3            2            3            2   \n",
       "\n",
       "   SectionCQ34  SectionCQ35  SectionCQ36  SectionCQ37  SectionCQ38  \\\n",
       "0            3            2            3            2            3   \n",
       "1            3            2            3            2            3   \n",
       "2            3            2            3            2            3   \n",
       "3            3            2            3            2            3   \n",
       "4            3            2            3            2            3   \n",
       "\n",
       "   SectionCQ39 SectionCQ40 SectionCQ41 SectionCQ42 SectionCQ43 SectionCQ44  \\\n",
       "0            3           4           4           4           4           5   \n",
       "1            3           4           4           4           4           5   \n",
       "2            3           4           4           4           4           5   \n",
       "3            3           4           4           4           4           5   \n",
       "4            3           4           4           4           4           5   \n",
       "\n",
       "   SectionDQ1 SectionDQ1a  SectionDQ2 SectionDQ2a  SectionDQ3 SectionDQ3a  \\\n",
       "0           1           1           1           1           1           1   \n",
       "1           2                       1          89           2               \n",
       "2           1           1           1           1           1           1   \n",
       "3           1          34           1          13           1          13   \n",
       "4           1           2           2                       2               \n",
       "\n",
       "   SectionDQ4  SectionDQ5  PHQ1  PHQ2  PHQ3  PHQ4  PHQ5  PHQ6  PHQ7  PHQ8  \\\n",
       "0           2           1     0     3     3     2     0     3     1     1   \n",
       "1           2           1     1     3     0     3     2     3     2     2   \n",
       "2           1           1     3     3     3     3     3     3     3     3   \n",
       "3           4           2     0     0     1     0     0     0     0     0   \n",
       "4          13           1     1     1     2     2     3     3     3     1   \n",
       "\n",
       "   PHQ9  PHQ10  TPHQ  LDEPRESSION  PDEPRESSION  GAD1  GAD2  GAD3  GAD4  GAD5  \\\n",
       "0     3      1    16            4            0     3     3     3     3     1   \n",
       "1     1      3    17            4            0     1     0     3     1     0   \n",
       "2     3      3    27            5            1     3     3     3     3     3   \n",
       "3     0      1     1            1            0     0     0     0     0     0   \n",
       "4     2      1    18            4            0     1     1     0     0     1   \n",
       "\n",
       "   GAD6  GAD7  TANXIETY  Lanxiety  Panxiety  PCL1  PCL2  PCL3  PCL4  PCL5  \\\n",
       "0     2     2        17         4         1     3     2     3     3     3   \n",
       "1     2     1         8         2         0     4     0     3     4     1   \n",
       "2     2     3        20         4         1     4     4     4     4     4   \n",
       "3     0     0         0         1         0     0     0     0     0     0   \n",
       "4     2     1         6         2         0     3     2     2     3     2   \n",
       "\n",
       "   PCL6  PCL7  PCL8  PCL9  PCL10  PCL11  PCL12  PCL13  PCL14  PCL15  PCL16  \\\n",
       "0     1     2     3     1      2      3      3      1      3      2      1   \n",
       "1     4     0     0     4      0      4      2      4      2      4      0   \n",
       "2     4     4     4     4      4      4      4      4      4      4      4   \n",
       "3     0     0     0     0      0      0      0      0      0      0      0   \n",
       "4     2     2     1     3      3      3      3      3      2      2      2   \n",
       "\n",
       "   PCL17  PCL18  PCL19  PCL20  TPCL  PPTSD  MINI1 MINI1a  MINI2 MINI2a MINI3  \\\n",
       "0      1      3      1      1    42      1      1      1      1      1     2   \n",
       "1      2      0      2      4    44      1      2             2                \n",
       "2      4      4      4      4    80      1      1      1      1      1     2   \n",
       "3      0      0      0      0     0      0      2             2            2   \n",
       "4      1      2      3      3    47      1      2             1      2     2   \n",
       "\n",
       "  MINI4 MINI5 MINI6 MINI7 MINI8 MINI9 MINI10 MINI11  MINIdepression  EV  CB  \\\n",
       "0     2     2     2     2     1     2      2      1               0   0   0   \n",
       "1                                                                 0   0   0   \n",
       "2     2     1     1     1     1     1      1      1               1   0   0   \n",
       "3     2     2     2     2     2     2      2      2               0   0   0   \n",
       "4     2     2     2     2     2     2      2      2               0   0   0   \n",
       "\n",
       "   PV  SV  IPV  filter_$  religionnew  ethnicitynew  incomenew  maritalnew  \\\n",
       "0   0   0    0         0            0             0          1           1   \n",
       "1   0   0    0         0            1             0          1           1   \n",
       "2   0   0    0         0            1             1          1           1   \n",
       "3   0   0    0         0            1             1          1           1   \n",
       "4   0   0    0         0            1             1          1           1   \n",
       "\n",
       "   educationnew  occupationnew  smokenew  alcoholnew  partnernew  \n",
       "0             1              3         0           0           0  \n",
       "1             0              3         0           0           0  \n",
       "2             0              1         0           0           0  \n",
       "3             1              3         0           0           0  \n",
       "4             1              3         0           0           0  "
      ]
     },
     "execution_count": 3,
     "metadata": {},
     "output_type": "execute_result"
    }
   ],
   "source": [
    "pd.set_option('display.max_columns', None)\n",
    "df.head()"
   ]
  },
  {
   "cell_type": "code",
   "execution_count": 4,
   "id": "014fef9b-d252-437e-aa70-e745378fd16b",
   "metadata": {},
   "outputs": [
    {
     "data": {
      "text/plain": [
       "21"
      ]
     },
     "execution_count": 4,
     "metadata": {},
     "output_type": "execute_result"
    }
   ],
   "source": [
    "df.columns.get_loc('SectionCQ1')"
   ]
  },
  {
   "cell_type": "code",
   "execution_count": 5,
   "id": "543a4aea-ed9e-47fe-8f44-b995aa976e01",
   "metadata": {},
   "outputs": [
    {
     "data": {
      "text/plain": [
       "83"
      ]
     },
     "execution_count": 5,
     "metadata": {},
     "output_type": "execute_result"
    }
   ],
   "source": [
    "df.columns.get_loc('TPHQ')"
   ]
  },
  {
   "cell_type": "code",
   "execution_count": 6,
   "id": "f5639299-2e86-4914-bc4d-137a84d82ac7",
   "metadata": {},
   "outputs": [],
   "source": [
    "df = df.drop(df.columns[21:84], axis=1) # axis: 0 = rows, 1 = columns"
   ]
  },
  {
   "cell_type": "code",
   "execution_count": 7,
   "id": "874460fd-b7e6-42d5-9493-c0bfcc1ab2c3",
   "metadata": {},
   "outputs": [
    {
     "data": {
      "text/plain": [
       "23"
      ]
     },
     "execution_count": 7,
     "metadata": {},
     "output_type": "execute_result"
    }
   ],
   "source": [
    "df.columns.get_loc('GAD1')"
   ]
  },
  {
   "cell_type": "code",
   "execution_count": 8,
   "id": "f9f6e27c-7cb6-4bbc-8377-4c29f2fcd03f",
   "metadata": {},
   "outputs": [
    {
     "data": {
      "text/plain": [
       "30"
      ]
     },
     "execution_count": 8,
     "metadata": {},
     "output_type": "execute_result"
    }
   ],
   "source": [
    "df.columns.get_loc('TANXIETY')"
   ]
  },
  {
   "cell_type": "code",
   "execution_count": 9,
   "id": "2fd24313-50ed-455f-ba50-28564e3c6235",
   "metadata": {},
   "outputs": [],
   "source": [
    "df = df.drop(df.columns[23:31], axis=1) # axis: 0 = rows, 1 = columns"
   ]
  },
  {
   "cell_type": "code",
   "execution_count": 10,
   "id": "81a6e550-293d-4aa8-8a43-c0915685b0c2",
   "metadata": {},
   "outputs": [
    {
     "data": {
      "text/plain": [
       "25"
      ]
     },
     "execution_count": 10,
     "metadata": {},
     "output_type": "execute_result"
    }
   ],
   "source": [
    "df.columns.get_loc('PCL1')"
   ]
  },
  {
   "cell_type": "code",
   "execution_count": 11,
   "id": "97eb6695-ba92-4bc1-b74d-d522c2612398",
   "metadata": {},
   "outputs": [
    {
     "data": {
      "text/plain": [
       "45"
      ]
     },
     "execution_count": 11,
     "metadata": {},
     "output_type": "execute_result"
    }
   ],
   "source": [
    "df.columns.get_loc('TPCL')"
   ]
  },
  {
   "cell_type": "code",
   "execution_count": 12,
   "id": "6fdf19d1-b560-4e2f-9798-bcf6916200c7",
   "metadata": {},
   "outputs": [],
   "source": [
    "df = df.drop(df.columns[25:46], axis=1) # axis: 0 = rows, 1 = columns"
   ]
  },
  {
   "cell_type": "code",
   "execution_count": 13,
   "id": "ce4ecb86-a940-4cd3-825c-f347d8211c2d",
   "metadata": {},
   "outputs": [
    {
     "data": {
      "text/plain": [
       "26"
      ]
     },
     "execution_count": 13,
     "metadata": {},
     "output_type": "execute_result"
    }
   ],
   "source": [
    "df.columns.get_loc('MINI1')"
   ]
  },
  {
   "cell_type": "code",
   "execution_count": 14,
   "id": "1f6d292a-5ae4-405b-837a-b84d0c33fbd9",
   "metadata": {},
   "outputs": [
    {
     "data": {
      "text/plain": [
       "38"
      ]
     },
     "execution_count": 14,
     "metadata": {},
     "output_type": "execute_result"
    }
   ],
   "source": [
    "df.columns.get_loc('MINI11')"
   ]
  },
  {
   "cell_type": "code",
   "execution_count": 15,
   "id": "0f434d5b-3957-4cd5-a8d6-831732eb7cc4",
   "metadata": {},
   "outputs": [],
   "source": [
    "df = df.drop(df.columns[26:39], axis=1) # axis: 0 = rows, 1 = columns"
   ]
  },
  {
   "cell_type": "code",
   "execution_count": 16,
   "id": "dc571bae-ab50-43f1-8811-900276df6d15",
   "metadata": {},
   "outputs": [
    {
     "data": {
      "text/plain": [
       "(91, 42)"
      ]
     },
     "execution_count": 16,
     "metadata": {},
     "output_type": "execute_result"
    }
   ],
   "source": [
    "df.shape"
   ]
  },
  {
   "cell_type": "code",
   "execution_count": 17,
   "id": "7efe3082-9a93-45fb-a42e-95b040bd463a",
   "metadata": {},
   "outputs": [
    {
     "data": {
      "text/plain": [
       "32"
      ]
     },
     "execution_count": 17,
     "metadata": {},
     "output_type": "execute_result"
    }
   ],
   "source": [
    "df.columns.get_loc('filter_$')"
   ]
  },
  {
   "cell_type": "code",
   "execution_count": 18,
   "id": "8baa5564-fe32-4b1c-82bd-a9b96e0140e7",
   "metadata": {},
   "outputs": [],
   "source": [
    "df = df.drop(df.columns[32:], axis=1) # axis: 0 = rows, 1 = columns"
   ]
  },
  {
   "cell_type": "code",
   "execution_count": 19,
   "id": "9a44cf55-8090-46d1-ae00-620cb4ba7d70",
   "metadata": {},
   "outputs": [
    {
     "data": {
      "text/html": [
       "<div>\n",
       "<style scoped>\n",
       "    .dataframe tbody tr th:only-of-type {\n",
       "        vertical-align: middle;\n",
       "    }\n",
       "\n",
       "    .dataframe tbody tr th {\n",
       "        vertical-align: top;\n",
       "    }\n",
       "\n",
       "    .dataframe thead th {\n",
       "        text-align: right;\n",
       "    }\n",
       "</style>\n",
       "<table border=\"1\" class=\"dataframe\">\n",
       "  <thead>\n",
       "    <tr style=\"text-align: right;\">\n",
       "      <th></th>\n",
       "      <th>ID</th>\n",
       "      <th>Home</th>\n",
       "      <th>Age</th>\n",
       "      <th>Religion</th>\n",
       "      <th>Ethnicity</th>\n",
       "      <th>Education</th>\n",
       "      <th>Occupation</th>\n",
       "      <th>Income</th>\n",
       "      <th>Marital</th>\n",
       "      <th>Smoke</th>\n",
       "      <th>Smoking</th>\n",
       "      <th>Alcohol</th>\n",
       "      <th>Partner</th>\n",
       "      <th>P_Age</th>\n",
       "      <th>P_Education</th>\n",
       "      <th>P_Occupation</th>\n",
       "      <th>P_Alcohol</th>\n",
       "      <th>P_Drugs</th>\n",
       "      <th>P_Fights</th>\n",
       "      <th>P_Women</th>\n",
       "      <th>P_Child</th>\n",
       "      <th>LDEPRESSION</th>\n",
       "      <th>PDEPRESSION</th>\n",
       "      <th>Lanxiety</th>\n",
       "      <th>Panxiety</th>\n",
       "      <th>PPTSD</th>\n",
       "      <th>MINIdepression</th>\n",
       "      <th>EV</th>\n",
       "      <th>CB</th>\n",
       "      <th>PV</th>\n",
       "      <th>SV</th>\n",
       "      <th>IPV</th>\n",
       "    </tr>\n",
       "  </thead>\n",
       "  <tbody>\n",
       "    <tr>\n",
       "      <th>0</th>\n",
       "      <td>7</td>\n",
       "      <td>1</td>\n",
       "      <td>17</td>\n",
       "      <td>3</td>\n",
       "      <td>3</td>\n",
       "      <td>2</td>\n",
       "      <td>4</td>\n",
       "      <td>1</td>\n",
       "      <td>1</td>\n",
       "      <td>3</td>\n",
       "      <td>3</td>\n",
       "      <td>7</td>\n",
       "      <td>1</td>\n",
       "      <td></td>\n",
       "      <td>6</td>\n",
       "      <td>6</td>\n",
       "      <td>7</td>\n",
       "      <td>7</td>\n",
       "      <td>4</td>\n",
       "      <td>5</td>\n",
       "      <td>6</td>\n",
       "      <td>4</td>\n",
       "      <td>0</td>\n",
       "      <td>4</td>\n",
       "      <td>1</td>\n",
       "      <td>1</td>\n",
       "      <td>0</td>\n",
       "      <td>0</td>\n",
       "      <td>0</td>\n",
       "      <td>0</td>\n",
       "      <td>0</td>\n",
       "      <td>0</td>\n",
       "    </tr>\n",
       "    <tr>\n",
       "      <th>1</th>\n",
       "      <td>9</td>\n",
       "      <td>1</td>\n",
       "      <td>15</td>\n",
       "      <td>1</td>\n",
       "      <td>5</td>\n",
       "      <td>1</td>\n",
       "      <td>4</td>\n",
       "      <td>1</td>\n",
       "      <td>1</td>\n",
       "      <td>3</td>\n",
       "      <td>3</td>\n",
       "      <td>7</td>\n",
       "      <td>4</td>\n",
       "      <td></td>\n",
       "      <td>6</td>\n",
       "      <td>6</td>\n",
       "      <td>7</td>\n",
       "      <td>7</td>\n",
       "      <td>4</td>\n",
       "      <td>5</td>\n",
       "      <td>6</td>\n",
       "      <td>4</td>\n",
       "      <td>0</td>\n",
       "      <td>2</td>\n",
       "      <td>0</td>\n",
       "      <td>1</td>\n",
       "      <td>0</td>\n",
       "      <td>0</td>\n",
       "      <td>0</td>\n",
       "      <td>0</td>\n",
       "      <td>0</td>\n",
       "      <td>0</td>\n",
       "    </tr>\n",
       "    <tr>\n",
       "      <th>2</th>\n",
       "      <td>11</td>\n",
       "      <td>1</td>\n",
       "      <td>14</td>\n",
       "      <td>1</td>\n",
       "      <td>1</td>\n",
       "      <td>1</td>\n",
       "      <td>2</td>\n",
       "      <td>1</td>\n",
       "      <td>1</td>\n",
       "      <td>3</td>\n",
       "      <td>3</td>\n",
       "      <td>7</td>\n",
       "      <td>2</td>\n",
       "      <td></td>\n",
       "      <td>6</td>\n",
       "      <td>6</td>\n",
       "      <td>7</td>\n",
       "      <td>7</td>\n",
       "      <td>4</td>\n",
       "      <td>5</td>\n",
       "      <td>6</td>\n",
       "      <td>5</td>\n",
       "      <td>1</td>\n",
       "      <td>4</td>\n",
       "      <td>1</td>\n",
       "      <td>1</td>\n",
       "      <td>1</td>\n",
       "      <td>0</td>\n",
       "      <td>0</td>\n",
       "      <td>0</td>\n",
       "      <td>0</td>\n",
       "      <td>0</td>\n",
       "    </tr>\n",
       "    <tr>\n",
       "      <th>3</th>\n",
       "      <td>15</td>\n",
       "      <td>1</td>\n",
       "      <td>15</td>\n",
       "      <td>1</td>\n",
       "      <td>1</td>\n",
       "      <td>2</td>\n",
       "      <td>4</td>\n",
       "      <td>1</td>\n",
       "      <td>1</td>\n",
       "      <td>3</td>\n",
       "      <td>3</td>\n",
       "      <td>7</td>\n",
       "      <td>1</td>\n",
       "      <td></td>\n",
       "      <td>6</td>\n",
       "      <td>6</td>\n",
       "      <td>7</td>\n",
       "      <td>7</td>\n",
       "      <td>4</td>\n",
       "      <td>5</td>\n",
       "      <td>6</td>\n",
       "      <td>1</td>\n",
       "      <td>0</td>\n",
       "      <td>1</td>\n",
       "      <td>0</td>\n",
       "      <td>0</td>\n",
       "      <td>0</td>\n",
       "      <td>0</td>\n",
       "      <td>0</td>\n",
       "      <td>0</td>\n",
       "      <td>0</td>\n",
       "      <td>0</td>\n",
       "    </tr>\n",
       "    <tr>\n",
       "      <th>4</th>\n",
       "      <td>43</td>\n",
       "      <td>1</td>\n",
       "      <td>17</td>\n",
       "      <td>1</td>\n",
       "      <td>1</td>\n",
       "      <td>2</td>\n",
       "      <td>4</td>\n",
       "      <td>1</td>\n",
       "      <td>1</td>\n",
       "      <td>3</td>\n",
       "      <td>3</td>\n",
       "      <td>7</td>\n",
       "      <td>1</td>\n",
       "      <td></td>\n",
       "      <td>6</td>\n",
       "      <td>6</td>\n",
       "      <td>7</td>\n",
       "      <td>7</td>\n",
       "      <td>4</td>\n",
       "      <td>5</td>\n",
       "      <td>6</td>\n",
       "      <td>4</td>\n",
       "      <td>0</td>\n",
       "      <td>2</td>\n",
       "      <td>0</td>\n",
       "      <td>1</td>\n",
       "      <td>0</td>\n",
       "      <td>0</td>\n",
       "      <td>0</td>\n",
       "      <td>0</td>\n",
       "      <td>0</td>\n",
       "      <td>0</td>\n",
       "    </tr>\n",
       "  </tbody>\n",
       "</table>\n",
       "</div>"
      ],
      "text/plain": [
       "   ID  Home  Age  Religion  Ethnicity  Education  Occupation  Income  Marital  \\\n",
       "0   7     1   17         3          3          2           4       1        1   \n",
       "1   9     1   15         1          5          1           4       1        1   \n",
       "2  11     1   14         1          1          1           2       1        1   \n",
       "3  15     1   15         1          1          2           4       1        1   \n",
       "4  43     1   17         1          1          2           4       1        1   \n",
       "\n",
       "   Smoke  Smoking  Alcohol  Partner P_Age  P_Education  P_Occupation  \\\n",
       "0      3        3        7        1                  6             6   \n",
       "1      3        3        7        4                  6             6   \n",
       "2      3        3        7        2                  6             6   \n",
       "3      3        3        7        1                  6             6   \n",
       "4      3        3        7        1                  6             6   \n",
       "\n",
       "   P_Alcohol  P_Drugs  P_Fights  P_Women  P_Child  LDEPRESSION  PDEPRESSION  \\\n",
       "0          7        7         4        5        6            4            0   \n",
       "1          7        7         4        5        6            4            0   \n",
       "2          7        7         4        5        6            5            1   \n",
       "3          7        7         4        5        6            1            0   \n",
       "4          7        7         4        5        6            4            0   \n",
       "\n",
       "   Lanxiety  Panxiety  PPTSD  MINIdepression  EV  CB  PV  SV  IPV  \n",
       "0         4         1      1               0   0   0   0   0    0  \n",
       "1         2         0      1               0   0   0   0   0    0  \n",
       "2         4         1      1               1   0   0   0   0    0  \n",
       "3         1         0      0               0   0   0   0   0    0  \n",
       "4         2         0      1               0   0   0   0   0    0  "
      ]
     },
     "execution_count": 19,
     "metadata": {},
     "output_type": "execute_result"
    }
   ],
   "source": [
    "df.head()"
   ]
  },
  {
   "cell_type": "code",
   "execution_count": 20,
   "id": "79e55bad-0b07-469c-8e08-193f0e9080d0",
   "metadata": {},
   "outputs": [],
   "source": [
    "df['Home'] = df.Home.replace(1, 'JKM/MAIS')"
   ]
  },
  {
   "cell_type": "code",
   "execution_count": 21,
   "id": "673a32d3-bd38-4c51-8fc1-d014eecf6fa6",
   "metadata": {},
   "outputs": [],
   "source": [
    "df['Home'] = df.Home.replace(2, 'NGO')"
   ]
  },
  {
   "cell_type": "code",
   "execution_count": 22,
   "id": "71cdb193-f5eb-4930-b025-f36b27d825f4",
   "metadata": {},
   "outputs": [
    {
     "data": {
      "text/plain": [
       "count           91\n",
       "unique           2\n",
       "top       JKM/MAIS\n",
       "freq            64\n",
       "Name: Home, dtype: object"
      ]
     },
     "execution_count": 22,
     "metadata": {},
     "output_type": "execute_result"
    }
   ],
   "source": [
    "df.Home.describe()"
   ]
  },
  {
   "cell_type": "code",
   "execution_count": 23,
   "id": "835b2d57-d724-4576-b338-d987611d9b06",
   "metadata": {},
   "outputs": [
    {
     "data": {
      "text/plain": [
       "array(['JKM/MAIS', 'NGO'], dtype=object)"
      ]
     },
     "execution_count": 23,
     "metadata": {},
     "output_type": "execute_result"
    }
   ],
   "source": [
    "df.Home.unique()"
   ]
  },
  {
   "cell_type": "code",
   "execution_count": 24,
   "id": "fcadf4d5-5235-4cde-a115-f28e60f2585f",
   "metadata": {},
   "outputs": [],
   "source": [
    "df['Religion'] = df.Religion.replace(1, 'Muslim')\n",
    "df['Religion'] = df.Religion.replace(2, 'Buddhist')\n",
    "df['Religion'] = df.Religion.replace(3, 'Hinduism')\n",
    "df['Religion'] = df.Religion.replace(4, 'Christian')"
   ]
  },
  {
   "cell_type": "code",
   "execution_count": 25,
   "id": "7d3c7392-c157-4cbb-a338-0bd7c4792278",
   "metadata": {},
   "outputs": [
    {
     "data": {
      "text/plain": [
       "count         91\n",
       "unique         4\n",
       "top       Muslim\n",
       "freq          86\n",
       "Name: Religion, dtype: object"
      ]
     },
     "execution_count": 25,
     "metadata": {},
     "output_type": "execute_result"
    }
   ],
   "source": [
    "df.Religion.describe()"
   ]
  },
  {
   "cell_type": "code",
   "execution_count": 26,
   "id": "14e20e88-1a80-4fa3-adc7-740ade992c05",
   "metadata": {},
   "outputs": [
    {
     "data": {
      "text/plain": [
       "array(['Hinduism', 'Muslim', 'Buddhist', 'Christian'], dtype=object)"
      ]
     },
     "execution_count": 26,
     "metadata": {},
     "output_type": "execute_result"
    }
   ],
   "source": [
    "df.Religion.unique()"
   ]
  },
  {
   "cell_type": "code",
   "execution_count": 27,
   "id": "204413b1-9311-47ab-bd1e-9db65844ff4c",
   "metadata": {},
   "outputs": [],
   "source": [
    "df['Ethnicity'] = df.Ethnicity.replace(1, 'Malay')\n",
    "df['Ethnicity'] = df.Ethnicity.replace(2, 'Chinese')\n",
    "df['Ethnicity'] = df.Ethnicity.replace(3, 'Indian')\n",
    "df['Ethnicity'] = df.Ethnicity.replace(4, 'Bumiputera_4')\n",
    "df['Ethnicity'] = df.Ethnicity.replace(5, 'Bumiputera_5')\n",
    "df['Ethnicity'] = df.Ethnicity.replace(6, 'Others')"
   ]
  },
  {
   "cell_type": "code",
   "execution_count": 28,
   "id": "53a20898-43a3-4027-b904-295a140b0f09",
   "metadata": {},
   "outputs": [
    {
     "data": {
      "text/plain": [
       "count        91\n",
       "unique        6\n",
       "top       Malay\n",
       "freq         81\n",
       "Name: Ethnicity, dtype: object"
      ]
     },
     "execution_count": 28,
     "metadata": {},
     "output_type": "execute_result"
    }
   ],
   "source": [
    "df.Ethnicity.describe()"
   ]
  },
  {
   "cell_type": "code",
   "execution_count": 29,
   "id": "89b9519f-20f4-43b0-bb77-c058058dbcd4",
   "metadata": {},
   "outputs": [
    {
     "data": {
      "text/plain": [
       "array(['Indian', 'Bumiputera_5', 'Malay', 'Chinese', 'Bumiputera_4', 'Others'], dtype=object)"
      ]
     },
     "execution_count": 29,
     "metadata": {},
     "output_type": "execute_result"
    }
   ],
   "source": [
    "df.Ethnicity.unique()"
   ]
  },
  {
   "cell_type": "code",
   "execution_count": 30,
   "id": "25144c1f-8a4c-4f77-a5ab-03db6dc27078",
   "metadata": {},
   "outputs": [],
   "source": [
    "df['Education'] = df.Education.replace(1, 'Primary')\n",
    "df['Education'] = df.Education.replace(2, 'Secondary')\n",
    "df['Education'] = df.Education.replace(3, 'Higher')\n",
    "df['Education'] = df.Education.replace(4, 'No_Formal')"
   ]
  },
  {
   "cell_type": "code",
   "execution_count": 31,
   "id": "5f5d2816-a1ca-4209-9990-ae0594881584",
   "metadata": {},
   "outputs": [
    {
     "data": {
      "text/plain": [
       "count            91\n",
       "unique            4\n",
       "top       Secondary\n",
       "freq             69\n",
       "Name: Education, dtype: object"
      ]
     },
     "execution_count": 31,
     "metadata": {},
     "output_type": "execute_result"
    }
   ],
   "source": [
    "df.Education.describe()"
   ]
  },
  {
   "cell_type": "code",
   "execution_count": 32,
   "id": "81f6561d-2ad7-43e2-ba93-c28751081319",
   "metadata": {},
   "outputs": [
    {
     "data": {
      "text/plain": [
       "array(['Secondary', 'Primary', 'No_Formal', 'Higher'], dtype=object)"
      ]
     },
     "execution_count": 32,
     "metadata": {},
     "output_type": "execute_result"
    }
   ],
   "source": [
    "df.Education.unique()"
   ]
  },
  {
   "cell_type": "code",
   "execution_count": 33,
   "id": "8d32bd0e-31a3-423c-b829-9c721c518431",
   "metadata": {},
   "outputs": [],
   "source": [
    "df['Occupation'] = df.Occupation.replace(1, 'Working')\n",
    "df['Occupation'] = df.Occupation.replace(2, 'Looking')\n",
    "df['Occupation'] = df.Occupation.replace(3, 'Retired')\n",
    "df['Occupation'] = df.Occupation.replace(4, 'Studying')"
   ]
  },
  {
   "cell_type": "code",
   "execution_count": 34,
   "id": "0f62e2c7-a4c0-4902-a412-e368308e7da0",
   "metadata": {},
   "outputs": [
    {
     "data": {
      "text/plain": [
       "count           91\n",
       "unique           4\n",
       "top       Studying\n",
       "freq            51\n",
       "Name: Occupation, dtype: object"
      ]
     },
     "execution_count": 34,
     "metadata": {},
     "output_type": "execute_result"
    }
   ],
   "source": [
    "df.Occupation.describe()"
   ]
  },
  {
   "cell_type": "code",
   "execution_count": 35,
   "id": "ee045144-4774-445b-a294-760595371e52",
   "metadata": {},
   "outputs": [
    {
     "data": {
      "text/plain": [
       "array(['Studying', 'Looking', 'Working', 'Retired'], dtype=object)"
      ]
     },
     "execution_count": 35,
     "metadata": {},
     "output_type": "execute_result"
    }
   ],
   "source": [
    "df.Occupation.unique()"
   ]
  },
  {
   "cell_type": "code",
   "execution_count": 36,
   "id": "6d55841e-acdd-43b4-b50d-0e170a0ab90a",
   "metadata": {},
   "outputs": [],
   "source": [
    "df['Income'] = df.Income.replace(1, 'B40')\n",
    "df['Income'] = df.Income.replace(2, 'M40')\n",
    "df['Income'] = df.Income.replace(3, 'T20')"
   ]
  },
  {
   "cell_type": "code",
   "execution_count": 37,
   "id": "2f4a5ab5-df86-4d36-b594-1cbf6b315dba",
   "metadata": {},
   "outputs": [
    {
     "data": {
      "text/plain": [
       "count      91\n",
       "unique      3\n",
       "top       B40\n",
       "freq       73\n",
       "Name: Income, dtype: object"
      ]
     },
     "execution_count": 37,
     "metadata": {},
     "output_type": "execute_result"
    }
   ],
   "source": [
    "df.Income.describe()"
   ]
  },
  {
   "cell_type": "code",
   "execution_count": 38,
   "id": "6e35dc0d-5f02-4966-b3de-77b90c21d030",
   "metadata": {},
   "outputs": [
    {
     "data": {
      "text/plain": [
       "array(['B40', 'M40', 'T20'], dtype=object)"
      ]
     },
     "execution_count": 38,
     "metadata": {},
     "output_type": "execute_result"
    }
   ],
   "source": [
    "df.Income.unique()"
   ]
  },
  {
   "cell_type": "code",
   "execution_count": 39,
   "id": "0c581d51-c7ce-42a5-9680-7fcfc572758d",
   "metadata": {},
   "outputs": [],
   "source": [
    "df['Marital'] = df.Marital.replace(1, 'Single')\n",
    "df['Marital'] = df.Marital.replace(2, 'Married')\n",
    "df['Marital'] = df.Marital.replace(3, 'Widowed')"
   ]
  },
  {
   "cell_type": "code",
   "execution_count": 40,
   "id": "1d59d454-a04e-4e4d-b5c8-af68c552e588",
   "metadata": {},
   "outputs": [
    {
     "data": {
      "text/plain": [
       "count         91\n",
       "unique         3\n",
       "top       Single\n",
       "freq          85\n",
       "Name: Marital, dtype: object"
      ]
     },
     "execution_count": 40,
     "metadata": {},
     "output_type": "execute_result"
    }
   ],
   "source": [
    "df.Marital.describe()"
   ]
  },
  {
   "cell_type": "code",
   "execution_count": 41,
   "id": "520d84b2-324d-4ee5-bf28-fac2180949b7",
   "metadata": {},
   "outputs": [
    {
     "data": {
      "text/plain": [
       "array(['Single', 'Widowed', 'Married'], dtype=object)"
      ]
     },
     "execution_count": 41,
     "metadata": {},
     "output_type": "execute_result"
    }
   ],
   "source": [
    "df.Marital.unique()"
   ]
  },
  {
   "cell_type": "code",
   "execution_count": 42,
   "id": "7e7b08ee-a161-4d74-9433-eb91c7a3fa2a",
   "metadata": {},
   "outputs": [],
   "source": [
    "df['Smoke'] = df.Smoke.replace(1, 'Everyday')\n",
    "df['Smoke'] = df.Smoke.replace(2, 'Not_Everyday')\n",
    "df['Smoke'] = df.Smoke.replace(3, 'Not_Smoke')"
   ]
  },
  {
   "cell_type": "code",
   "execution_count": 43,
   "id": "a0dcf633-dceb-4012-954c-a013165e0772",
   "metadata": {},
   "outputs": [
    {
     "data": {
      "text/plain": [
       "count            91\n",
       "unique            3\n",
       "top       Not_Smoke\n",
       "freq             67\n",
       "Name: Smoke, dtype: object"
      ]
     },
     "execution_count": 43,
     "metadata": {},
     "output_type": "execute_result"
    }
   ],
   "source": [
    "df.Smoke.describe()"
   ]
  },
  {
   "cell_type": "code",
   "execution_count": 44,
   "id": "c13848eb-c3e8-4867-89e8-8b66059999bf",
   "metadata": {},
   "outputs": [
    {
     "data": {
      "text/plain": [
       "array(['Not_Smoke', 'Everyday', 'Not_Everyday'], dtype=object)"
      ]
     },
     "execution_count": 44,
     "metadata": {},
     "output_type": "execute_result"
    }
   ],
   "source": [
    "df.Smoke.unique()"
   ]
  },
  {
   "cell_type": "code",
   "execution_count": 45,
   "id": "e6ab71fa-3a2f-47c6-9291-07cc4854e45f",
   "metadata": {},
   "outputs": [],
   "source": [
    "df['Smoking'] = df.Smoking.replace(1, 'Everyday')\n",
    "df['Smoking'] = df.Smoking.replace(2, 'Not_Everyday')\n",
    "df['Smoking'] = df.Smoking.replace(3, 'Not_Smoke')"
   ]
  },
  {
   "cell_type": "code",
   "execution_count": 46,
   "id": "33affe65-2c39-4557-8c70-da46567b8f7a",
   "metadata": {},
   "outputs": [
    {
     "data": {
      "text/plain": [
       "count            91\n",
       "unique            3\n",
       "top       Not_Smoke\n",
       "freq             41\n",
       "Name: Smoking, dtype: object"
      ]
     },
     "execution_count": 46,
     "metadata": {},
     "output_type": "execute_result"
    }
   ],
   "source": [
    "df.Smoking.describe()"
   ]
  },
  {
   "cell_type": "code",
   "execution_count": 47,
   "id": "1274c809-e6af-4e2a-91ba-55bb26107f72",
   "metadata": {},
   "outputs": [
    {
     "data": {
      "text/plain": [
       "array(['Not_Smoke', 'Everyday', 'Not_Everyday'], dtype=object)"
      ]
     },
     "execution_count": 47,
     "metadata": {},
     "output_type": "execute_result"
    }
   ],
   "source": [
    "df.Smoking.unique()"
   ]
  },
  {
   "cell_type": "code",
   "execution_count": 48,
   "id": "935c2c9f-65c3-422d-825a-f3f5974ae53a",
   "metadata": {},
   "outputs": [],
   "source": [
    "df['Alcohol'] = df.Alcohol.replace(1, 'Everyday')\n",
    "df['Alcohol'] = df.Alcohol.replace(2, 'Once_Or')\n",
    "df['Alcohol'] = df.Alcohol.replace(3, '1-3_Times')\n",
    "df['Alcohol'] = df.Alcohol.replace(4, 'Less_Than')\n",
    "df['Alcohol'] = df.Alcohol.replace(5, '1-2_TImes')\n",
    "df['Alcohol'] = df.Alcohol.replace(6, 'Not_Drinking')\n",
    "df['Alcohol'] = df.Alcohol.replace(7, 'Never')"
   ]
  },
  {
   "cell_type": "code",
   "execution_count": 49,
   "id": "e2af183b-f7ee-4c17-8f44-5e4130264cec",
   "metadata": {},
   "outputs": [
    {
     "data": {
      "text/plain": [
       "count        91\n",
       "unique        7\n",
       "top       Never\n",
       "freq         54\n",
       "Name: Alcohol, dtype: object"
      ]
     },
     "execution_count": 49,
     "metadata": {},
     "output_type": "execute_result"
    }
   ],
   "source": [
    "df.Alcohol.describe()"
   ]
  },
  {
   "cell_type": "code",
   "execution_count": 50,
   "id": "4c27aab8-35cd-4d88-b8c2-cd5f81f28231",
   "metadata": {},
   "outputs": [
    {
     "data": {
      "text/plain": [
       "array(['Never', 'Less_Than', 'Once_Or', 'Not_Drinking', '1-3_Times', 'Everyday', '1-2_TImes'], dtype=object)"
      ]
     },
     "execution_count": 50,
     "metadata": {},
     "output_type": "execute_result"
    }
   ],
   "source": [
    "df.Alcohol.unique()"
   ]
  },
  {
   "cell_type": "code",
   "execution_count": 51,
   "id": "b2f26de8-8fe5-4e66-9223-d07f15328ee1",
   "metadata": {},
   "outputs": [],
   "source": [
    "df['Partner'] = df.Partner.replace(1, 'No')\n",
    "df['Partner'] = df.Partner.replace(2, 'Yes_2')\n",
    "df['Partner'] = df.Partner.replace(3, 'Yes_3')\n",
    "df['Partner'] = df.Partner.replace(4, 'Yes_4')\n",
    "df['Partner'] = df.Partner.replace(5, 'Yes_More')"
   ]
  },
  {
   "cell_type": "code",
   "execution_count": 52,
   "id": "b05d675d-7670-46a1-b685-ee704c1f5807",
   "metadata": {},
   "outputs": [
    {
     "data": {
      "text/plain": [
       "count     91\n",
       "unique     5\n",
       "top       No\n",
       "freq      45\n",
       "Name: Partner, dtype: object"
      ]
     },
     "execution_count": 52,
     "metadata": {},
     "output_type": "execute_result"
    }
   ],
   "source": [
    "df.Partner.describe()"
   ]
  },
  {
   "cell_type": "code",
   "execution_count": 53,
   "id": "ba7f8f8a-a03d-4838-b649-01792bf53fa6",
   "metadata": {},
   "outputs": [
    {
     "data": {
      "text/plain": [
       "array(['No', 'Yes_4', 'Yes_2', 'Yes_More', 'Yes_3'], dtype=object)"
      ]
     },
     "execution_count": 53,
     "metadata": {},
     "output_type": "execute_result"
    }
   ],
   "source": [
    "df.Partner.unique()"
   ]
  },
  {
   "cell_type": "code",
   "execution_count": 54,
   "id": "af9745e4-438b-43ee-9d95-e7e7c2f94a44",
   "metadata": {},
   "outputs": [],
   "source": [
    "df['P_Education'] = df.P_Education.replace(1, 'Primary')\n",
    "df['P_Education'] = df.P_Education.replace(2, 'Secondary')\n",
    "df['P_Education'] = df.P_Education.replace(3, 'College')\n",
    "df['P_Education'] = df.P_Education.replace(4, 'No_Formal')\n",
    "df['P_Education'] = df.P_Education.replace(5, 'Not_Sure')\n",
    "df['P_Education'] = df.P_Education.replace(6, 'No_Partner')"
   ]
  },
  {
   "cell_type": "code",
   "execution_count": 55,
   "id": "7c8cabe9-ec6e-48df-b51a-94356479bb76",
   "metadata": {},
   "outputs": [
    {
     "data": {
      "text/plain": [
       "count            91\n",
       "unique            6\n",
       "top       Secondary\n",
       "freq             44\n",
       "Name: P_Education, dtype: object"
      ]
     },
     "execution_count": 55,
     "metadata": {},
     "output_type": "execute_result"
    }
   ],
   "source": [
    "df.P_Education.describe()"
   ]
  },
  {
   "cell_type": "code",
   "execution_count": 56,
   "id": "3466cf52-ee83-454f-8bca-64a361804c27",
   "metadata": {},
   "outputs": [
    {
     "data": {
      "text/plain": [
       "array(['No_Partner', 'Secondary', 'Primary', 'No_Formal', 'College', 'Not_Sure'], dtype=object)"
      ]
     },
     "execution_count": 56,
     "metadata": {},
     "output_type": "execute_result"
    }
   ],
   "source": [
    "df.P_Education.unique()"
   ]
  },
  {
   "cell_type": "code",
   "execution_count": 57,
   "id": "ade636c1-9698-4628-a028-421a2ff03cd5",
   "metadata": {},
   "outputs": [],
   "source": [
    "df['P_Occupation'] = df.P_Occupation.replace(1, 'Working')\n",
    "df['P_Occupation'] = df.P_Occupation.replace(2, 'Looking_For')\n",
    "df['P_Occupation'] = df.P_Occupation.replace(3, 'Retired')\n",
    "df['P_Occupation'] = df.P_Occupation.replace(4, 'Studying')\n",
    "df['P_Occupation'] = df.P_Occupation.replace(5, 'Not_Sure')\n",
    "df['P_Occupation'] = df.P_Occupation.replace(6, 'No_Partner')"
   ]
  },
  {
   "cell_type": "code",
   "execution_count": 58,
   "id": "e336539b-748b-49c0-b91e-74870fa7e05f",
   "metadata": {},
   "outputs": [
    {
     "data": {
      "text/plain": [
       "count          91\n",
       "unique          6\n",
       "top       Working\n",
       "freq           69\n",
       "Name: P_Occupation, dtype: object"
      ]
     },
     "execution_count": 58,
     "metadata": {},
     "output_type": "execute_result"
    }
   ],
   "source": [
    "df.P_Occupation.describe()"
   ]
  },
  {
   "cell_type": "code",
   "execution_count": 59,
   "id": "c6f1af1e-bb9b-4eac-8891-0eb81d75afcc",
   "metadata": {},
   "outputs": [
    {
     "data": {
      "text/plain": [
       "array(['No_Partner', 'Studying', 'Working', 'Not_Sure', 'Retired', 'Looking_For'], dtype=object)"
      ]
     },
     "execution_count": 59,
     "metadata": {},
     "output_type": "execute_result"
    }
   ],
   "source": [
    "df.P_Occupation.unique()"
   ]
  },
  {
   "cell_type": "code",
   "execution_count": 60,
   "id": "b372f088-edeb-41dd-b366-d2e6d2c1793a",
   "metadata": {},
   "outputs": [],
   "source": [
    "df['P_Alcohol'] = df.P_Alcohol.replace(1, 'Everyday')\n",
    "df['P_Alcohol'] = df.P_Alcohol.replace(2, 'Once_Or')\n",
    "df['P_Alcohol'] = df.P_Alcohol.replace(3, '1-3_Times')\n",
    "df['P_Alcohol'] = df.P_Alcohol.replace(4, 'Less_Than')\n",
    "df['P_Alcohol'] = df.P_Alcohol.replace(5, 'Never')\n",
    "df['P_Alcohol'] = df.P_Alcohol.replace(6, 'Dont_Know')\n",
    "df['P_Alcohol'] = df.P_Alcohol.replace(7, 'No_Partner')"
   ]
  },
  {
   "cell_type": "code",
   "execution_count": 61,
   "id": "98e58afa-8efe-4f17-967e-ba66c0d24459",
   "metadata": {},
   "outputs": [
    {
     "data": {
      "text/plain": [
       "count            91\n",
       "unique            7\n",
       "top       Dont_Know\n",
       "freq             30\n",
       "Name: P_Alcohol, dtype: object"
      ]
     },
     "execution_count": 61,
     "metadata": {},
     "output_type": "execute_result"
    }
   ],
   "source": [
    "df.P_Alcohol.describe()"
   ]
  },
  {
   "cell_type": "code",
   "execution_count": 62,
   "id": "6c8621e9-e89b-487f-b008-af22a15dec9f",
   "metadata": {},
   "outputs": [
    {
     "data": {
      "text/plain": [
       "array(['No_Partner', 'Never', 'Dont_Know', 'Everyday', 'Once_Or', '1-3_Times', 'Less_Than'], dtype=object)"
      ]
     },
     "execution_count": 62,
     "metadata": {},
     "output_type": "execute_result"
    }
   ],
   "source": [
    "df.P_Alcohol.unique()"
   ]
  },
  {
   "cell_type": "code",
   "execution_count": 63,
   "id": "2053f8d8-cec4-4b2d-aedf-5ab153f3fba2",
   "metadata": {},
   "outputs": [],
   "source": [
    "df['P_Drugs'] = df.P_Drugs.replace(1, 'Everyday')\n",
    "df['P_Drugs'] = df.P_Drugs.replace(2, 'Once_to')\n",
    "df['P_Drugs'] = df.P_Drugs.replace(3, '1-3_Times')\n",
    "df['P_Drugs'] = df.P_Drugs.replace(4, 'Less_Than')\n",
    "df['P_Drugs'] = df.P_Drugs.replace(5, 'Never')\n",
    "df['P_Drugs'] = df.P_Drugs.replace(6, 'Dont_Know')\n",
    "df['P_Drugs'] = df.P_Drugs.replace(7, 'No_Partner')"
   ]
  },
  {
   "cell_type": "code",
   "execution_count": 64,
   "id": "9775a6cb-8f10-40aa-8c53-19f7fd1b64c4",
   "metadata": {},
   "outputs": [
    {
     "data": {
      "text/plain": [
       "count        91\n",
       "unique        7\n",
       "top       Never\n",
       "freq         44\n",
       "Name: P_Drugs, dtype: object"
      ]
     },
     "execution_count": 64,
     "metadata": {},
     "output_type": "execute_result"
    }
   ],
   "source": [
    "df.P_Drugs.describe()"
   ]
  },
  {
   "cell_type": "code",
   "execution_count": 65,
   "id": "1a2ddc71-f913-4b01-b804-13c82c8972c8",
   "metadata": {},
   "outputs": [
    {
     "data": {
      "text/plain": [
       "array(['No_Partner', 'Never', 'Dont_Know', 'Less_Than', 'Once_to', 'Everyday', '1-3_Times'], dtype=object)"
      ]
     },
     "execution_count": 65,
     "metadata": {},
     "output_type": "execute_result"
    }
   ],
   "source": [
    "df.P_Drugs.unique()"
   ]
  },
  {
   "cell_type": "code",
   "execution_count": 66,
   "id": "e02e041b-7e07-4fd8-a38f-e52295dd551b",
   "metadata": {},
   "outputs": [],
   "source": [
    "df['P_Fights'] = df.P_Fights.replace(1, 'Yes')\n",
    "df['P_Fights'] = df.P_Fights.replace(2, 'No')\n",
    "df['P_Fights'] = df.P_Fights.replace(3, 'Dont_Know')\n",
    "df['P_Fights'] = df.P_Fights.replace(4, 'No_Partner')"
   ]
  },
  {
   "cell_type": "code",
   "execution_count": 67,
   "id": "d568846a-183c-40a7-87a3-9771ea0e91a8",
   "metadata": {},
   "outputs": [
    {
     "data": {
      "text/plain": [
       "count     91\n",
       "unique     4\n",
       "top       No\n",
       "freq      33\n",
       "Name: P_Fights, dtype: object"
      ]
     },
     "execution_count": 67,
     "metadata": {},
     "output_type": "execute_result"
    }
   ],
   "source": [
    "df.P_Fights.describe()"
   ]
  },
  {
   "cell_type": "code",
   "execution_count": 68,
   "id": "6cfb4b13-2e4c-4a07-a30f-d444688de3db",
   "metadata": {},
   "outputs": [
    {
     "data": {
      "text/plain": [
       "array(['No_Partner', 'Dont_Know', 'No', 'Yes'], dtype=object)"
      ]
     },
     "execution_count": 68,
     "metadata": {},
     "output_type": "execute_result"
    }
   ],
   "source": [
    "df.P_Fights.unique()"
   ]
  },
  {
   "cell_type": "code",
   "execution_count": 69,
   "id": "afadaa29-457e-4182-916e-b941ea4dd499",
   "metadata": {},
   "outputs": [],
   "source": [
    "df['P_Women'] = df.P_Women.replace(1, 'Yes')\n",
    "df['P_Women'] = df.P_Women.replace(2, 'No')\n",
    "df['P_Women'] = df.P_Women.replace(3, 'Maybe')\n",
    "df['P_Women'] = df.P_Women.replace(4, 'Dont_Know')\n",
    "df['P_Women'] = df.P_Women.replace(5, 'No_Partner')"
   ]
  },
  {
   "cell_type": "code",
   "execution_count": 70,
   "id": "c18d2377-6d05-4c00-924f-9ce0c3d2af4a",
   "metadata": {},
   "outputs": [
    {
     "data": {
      "text/plain": [
       "count     91\n",
       "unique     5\n",
       "top       No\n",
       "freq      34\n",
       "Name: P_Women, dtype: object"
      ]
     },
     "execution_count": 70,
     "metadata": {},
     "output_type": "execute_result"
    }
   ],
   "source": [
    "df.P_Women.describe()"
   ]
  },
  {
   "cell_type": "code",
   "execution_count": 71,
   "id": "022f9615-e08b-4e0a-97f0-29690bfe6fc6",
   "metadata": {},
   "outputs": [
    {
     "data": {
      "text/plain": [
       "array(['No_Partner', 'No', 'Dont_Know', 'Maybe', 'Yes'], dtype=object)"
      ]
     },
     "execution_count": 71,
     "metadata": {},
     "output_type": "execute_result"
    }
   ],
   "source": [
    "df.P_Women.unique()"
   ]
  },
  {
   "cell_type": "code",
   "execution_count": 72,
   "id": "40c81e32-8cf7-4ecd-92d6-105f90379a29",
   "metadata": {},
   "outputs": [],
   "source": [
    "df['P_Child'] = df.P_Child.replace(1, 'Yes')\n",
    "df['P_Child'] = df.P_Child.replace(2, 'No')\n",
    "df['P_Child'] = df.P_Child.replace(3, 'Maybe')\n",
    "df['P_Child'] = df.P_Child.replace(4, 'Dont_Know')\n",
    "df['P_Child'] = df.P_Child.replace(5, 'No_Relation')\n",
    "df['P_Child'] = df.P_Child.replace(6, 'No_Partner')"
   ]
  },
  {
   "cell_type": "code",
   "execution_count": 73,
   "id": "2f6a147e-9c23-4f82-aef9-35348e6189d3",
   "metadata": {},
   "outputs": [
    {
     "data": {
      "text/plain": [
       "count     91\n",
       "unique     6\n",
       "top       No\n",
       "freq      49\n",
       "Name: P_Child, dtype: object"
      ]
     },
     "execution_count": 73,
     "metadata": {},
     "output_type": "execute_result"
    }
   ],
   "source": [
    "df.P_Child.describe()"
   ]
  },
  {
   "cell_type": "code",
   "execution_count": 74,
   "id": "9b6a7583-7d46-4696-8e28-6e97a4e5bc17",
   "metadata": {},
   "outputs": [
    {
     "data": {
      "text/plain": [
       "array(['No_Partner', 'No', 'Dont_Know', 'No_Relation', 'Yes', 'Maybe'], dtype=object)"
      ]
     },
     "execution_count": 74,
     "metadata": {},
     "output_type": "execute_result"
    }
   ],
   "source": [
    "df.P_Child.unique()"
   ]
  },
  {
   "cell_type": "code",
   "execution_count": 75,
   "id": "8b4f8e59-ed2b-42ae-86ac-075a5d75eafe",
   "metadata": {},
   "outputs": [],
   "source": [
    "# bins = [-1, 0, np.inf]\n",
    "bins = [-1, 0, 1]\n",
    "names = ['No', 'Yes']\n",
    "\n",
    "df['PDEPRESSION'] = pd.cut(df['PDEPRESSION'], bins, labels=names)"
   ]
  },
  {
   "cell_type": "code",
   "execution_count": 76,
   "id": "2188a027-fb21-4421-8d40-718e7ce35b5c",
   "metadata": {},
   "outputs": [
    {
     "data": {
      "text/plain": [
       "count     91\n",
       "unique     2\n",
       "top       No\n",
       "freq      70\n",
       "Name: PDEPRESSION, dtype: object"
      ]
     },
     "execution_count": 76,
     "metadata": {},
     "output_type": "execute_result"
    }
   ],
   "source": [
    "df.PDEPRESSION.describe()"
   ]
  },
  {
   "cell_type": "code",
   "execution_count": 77,
   "id": "eec6db5a-2d70-46f4-b485-287beed5c4bb",
   "metadata": {},
   "outputs": [
    {
     "data": {
      "text/plain": [
       "['No', 'Yes']\n",
       "Categories (2, object): ['No' < 'Yes']"
      ]
     },
     "execution_count": 77,
     "metadata": {},
     "output_type": "execute_result"
    }
   ],
   "source": [
    "df.PDEPRESSION.unique()"
   ]
  },
  {
   "cell_type": "code",
   "execution_count": 78,
   "id": "21fb265d-9f84-4e15-901d-cd92ccd12d10",
   "metadata": {},
   "outputs": [],
   "source": [
    "# bins = [-1, 0, np.inf]\n",
    "# bins = [-np.inf, 0.5, np.inf]\n",
    "# names = ['No', 'Yes']\n",
    "\n",
    "# df['MINIdepression'] = pd.cut(df['MINIdepression'], bins, labels=names)"
   ]
  },
  {
   "cell_type": "code",
   "execution_count": 79,
   "id": "29eca2a6-0e04-4fbe-958d-0247900ab74a",
   "metadata": {},
   "outputs": [
    {
     "data": {
      "text/plain": [
       "count    91.000000\n",
       "mean      0.549451\n",
       "std       0.500305\n",
       "min       0.000000\n",
       "25%       0.000000\n",
       "50%       1.000000\n",
       "75%       1.000000\n",
       "max       1.000000\n",
       "Name: MINIdepression, dtype: float64"
      ]
     },
     "execution_count": 79,
     "metadata": {},
     "output_type": "execute_result"
    }
   ],
   "source": [
    "df.MINIdepression.describe()"
   ]
  },
  {
   "cell_type": "code",
   "execution_count": 80,
   "id": "a0baddd1-53bc-4651-8b03-c71f7ec2c419",
   "metadata": {},
   "outputs": [
    {
     "data": {
      "text/plain": [
       "array([0, 1], dtype=int64)"
      ]
     },
     "execution_count": 80,
     "metadata": {},
     "output_type": "execute_result"
    }
   ],
   "source": [
    "df.MINIdepression.unique()"
   ]
  },
  {
   "cell_type": "code",
   "execution_count": 109,
   "id": "b2cb2aa7-9d79-4557-8a92-48c002a5df24",
   "metadata": {},
   "outputs": [],
   "source": [
    "cats_Old=['Home', 'Religion', 'Ethnicity', 'Education', 'Occupation',\n",
    "       'Income', 'Marital', 'Smoke', 'Smoking', 'Alcohol', 'Partner',\n",
    "       'P_Education', 'P_Occupation', 'P_Alcohol', 'P_Drugs', 'P_Fights',\n",
    "       'P_Women', 'P_Child', 'LDEPRESSION', 'PDEPRESSION', 'Lanxiety',\n",
    "       'Panxiety', 'PPTSD', 'EV', 'CB', 'PV', 'SV', 'IPV']\n",
    "cats=['Home', 'Religion', 'Ethnicity', 'Education', 'Occupation',\n",
    "       'Income', 'Marital', 'Smoke', 'Smoking', 'Alcohol', 'Partner',\n",
    "       'P_Education', 'P_Occupation', 'P_Alcohol', 'P_Drugs', 'P_Fights',\n",
    "       'P_Women', 'P_Child', 'PDEPRESSION',\n",
    "       'Panxiety', 'PPTSD', 'EV', 'CB', 'PV', 'SV', 'IPV']\n",
    "conts=['Age', 'P_Age']\n",
    "dep=\"MINIdepression\""
   ]
  },
  {
   "cell_type": "code",
   "execution_count": 130,
   "id": "fdcea7ce-8272-4340-8123-dd913ec644cb",
   "metadata": {},
   "outputs": [
    {
     "name": "stdout",
     "output_type": "stream",
     "text": [
      "Home\n",
      "Religion\n",
      "Ethnicity\n",
      "Education\n",
      "Occupation\n",
      "Income\n",
      "Marital\n",
      "Smoke\n",
      "Smoking\n",
      "Alcohol\n",
      "Partner\n",
      "P_Education\n",
      "P_Occupation\n",
      "P_Alcohol\n",
      "P_Drugs\n",
      "P_Fights\n",
      "P_Women\n",
      "P_Child\n",
      "LDEPRESSION\n",
      "PDEPRESSION\n",
      "Lanxiety\n",
      "Panxiety\n",
      "PPTSD\n",
      "EV\n",
      "CB\n",
      "PV\n",
      "SV\n",
      "IPV\n"
     ]
    }
   ],
   "source": [
    "for label in cats_Old:\n",
    "    print(label)"
   ]
  },
  {
   "cell_type": "code",
   "execution_count": 82,
   "id": "0a007fa4-26b0-437d-89ff-65c0a9cc7ac6",
   "metadata": {},
   "outputs": [],
   "source": [
    "for label in cats:\n",
    "    df[label] = pd.Categorical(df[label])"
   ]
  },
  {
   "cell_type": "code",
   "execution_count": 83,
   "id": "349c7780-4b65-4584-b7d2-fcc15a3f6fb3",
   "metadata": {},
   "outputs": [],
   "source": [
    "# df['MINIdepression'] = pd.Categorical(df['MINIdepression'])"
   ]
  },
  {
   "cell_type": "code",
   "execution_count": 84,
   "id": "4fc90536-4394-4455-9a91-caf3875b8437",
   "metadata": {},
   "outputs": [
    {
     "data": {
      "text/plain": [
       "array([' ', '14', '16', '17', '18', '19', '20', '21', '22', '23', '24', '25', '26', '27', '29', '30', '31', '32', '36', '38',\n",
       "       '40', '56'], dtype=object)"
      ]
     },
     "execution_count": 84,
     "metadata": {},
     "output_type": "execute_result"
    }
   ],
   "source": [
    "df.P_Age.unique()"
   ]
  },
  {
   "cell_type": "code",
   "execution_count": 85,
   "id": "ffc334b4-805c-4396-b27f-8459c4e2075b",
   "metadata": {},
   "outputs": [],
   "source": [
    "df['P_Age'] = df.P_Age.replace(' ', None)"
   ]
  },
  {
   "cell_type": "code",
   "execution_count": 86,
   "id": "c7c15e7e-3539-4023-ad63-917d806eb0af",
   "metadata": {},
   "outputs": [],
   "source": [
    "df['P_Age'] = df.P_Age.fillna(0)"
   ]
  },
  {
   "cell_type": "code",
   "execution_count": 87,
   "id": "0c73e473-f16e-4490-8deb-38f9eef4902e",
   "metadata": {},
   "outputs": [],
   "source": [
    "df['P_Age'] = df.P_Age.astype('int64')"
   ]
  },
  {
   "cell_type": "code",
   "execution_count": 88,
   "id": "e859a146-87b2-4d44-8eef-bf65ef6049ba",
   "metadata": {},
   "outputs": [
    {
     "data": {
      "text/plain": [
       "array([ 0, 14, 16, 17, 18, 19, 20, 21, 22, 23, 24, 25, 26, 27, 29, 30, 31, 32, 36, 38, 40, 56], dtype=int64)"
      ]
     },
     "execution_count": 88,
     "metadata": {},
     "output_type": "execute_result"
    }
   ],
   "source": [
    "df.P_Age.unique()"
   ]
  },
  {
   "cell_type": "code",
   "execution_count": 89,
   "id": "8aa87d3f-5e91-431d-8265-007ff7049e5b",
   "metadata": {},
   "outputs": [],
   "source": [
    "# df['MINIdepression'] = df.MINIdepression.astype('int64')"
   ]
  },
  {
   "cell_type": "code",
   "execution_count": 90,
   "id": "af0d6342-7c3e-4cfd-8b90-c434452c8b19",
   "metadata": {},
   "outputs": [
    {
     "data": {
      "text/plain": [
       "ID                   int64\n",
       "Home              category\n",
       "Age                  int64\n",
       "Religion          category\n",
       "Ethnicity         category\n",
       "Education         category\n",
       "Occupation        category\n",
       "Income            category\n",
       "Marital           category\n",
       "Smoke             category\n",
       "Smoking           category\n",
       "Alcohol           category\n",
       "Partner           category\n",
       "P_Age                int64\n",
       "P_Education       category\n",
       "P_Occupation      category\n",
       "P_Alcohol         category\n",
       "P_Drugs           category\n",
       "P_Fights          category\n",
       "P_Women           category\n",
       "P_Child           category\n",
       "LDEPRESSION       category\n",
       "PDEPRESSION       category\n",
       "Lanxiety          category\n",
       "Panxiety          category\n",
       "PPTSD             category\n",
       "MINIdepression       int64\n",
       "EV                category\n",
       "CB                category\n",
       "PV                category\n",
       "SV                category\n",
       "IPV               category\n",
       "dtype: object"
      ]
     },
     "execution_count": 90,
     "metadata": {},
     "output_type": "execute_result"
    }
   ],
   "source": [
    "df.dtypes"
   ]
  },
  {
   "cell_type": "code",
   "execution_count": 91,
   "id": "efc54f07-5ec3-4ebc-9bea-be4d8394528b",
   "metadata": {},
   "outputs": [
    {
     "data": {
      "text/plain": [
       "ID                          62\n",
       "Home                  JKM/MAIS\n",
       "Age                         14\n",
       "Religion                Muslim\n",
       "Ethnicity                Malay\n",
       "Education            Secondary\n",
       "Occupation            Studying\n",
       "Income                     B40\n",
       "Marital                 Single\n",
       "Smoke                Not_Smoke\n",
       "Smoking           Not_Everyday\n",
       "Alcohol                  Never\n",
       "Partner                     No\n",
       "P_Age                       19\n",
       "P_Education          Secondary\n",
       "P_Occupation           Working\n",
       "P_Alcohol            Dont_Know\n",
       "P_Drugs              Dont_Know\n",
       "P_Fights                   Yes\n",
       "P_Women                    Yes\n",
       "P_Child              Dont_Know\n",
       "LDEPRESSION                  5\n",
       "PDEPRESSION                Yes\n",
       "Lanxiety                     4\n",
       "Panxiety                     1\n",
       "PPTSD                        1\n",
       "MINIdepression               1\n",
       "EV                           1\n",
       "CB                           1\n",
       "PV                           0\n",
       "SV                           1\n",
       "IPV                          1\n",
       "Name: 40, dtype: object"
      ]
     },
     "execution_count": 91,
     "metadata": {},
     "output_type": "execute_result"
    }
   ],
   "source": [
    "df.iloc[40]"
   ]
  },
  {
   "cell_type": "markdown",
   "id": "a1e94aaf-1de9-475f-8f9d-7395bb2f3fe8",
   "metadata": {},
   "source": [
    "# Training Our Data"
   ]
  },
  {
   "cell_type": "code",
   "execution_count": 92,
   "id": "ccd49a89-3856-4b24-a003-d1a19019bf4d",
   "metadata": {},
   "outputs": [],
   "source": [
    "from numpy import random\n",
    "from sklearn.model_selection import train_test_split\n",
    "from sklearn.metrics import mean_absolute_error"
   ]
  },
  {
   "cell_type": "code",
   "execution_count": 110,
   "id": "df4461d6-a6e5-4107-8da3-29a0efeec916",
   "metadata": {},
   "outputs": [],
   "source": [
    "trn_df,val_df = train_test_split(df, test_size=0.25)\n",
    "trn_df[cats] = trn_df[cats].apply(lambda x: x.cat.codes)\n",
    "val_df[cats] = val_df[cats].apply(lambda x: x.cat.codes)"
   ]
  },
  {
   "cell_type": "code",
   "execution_count": 111,
   "id": "228f4d5d-4c50-46e5-8e27-120fd5be4905",
   "metadata": {},
   "outputs": [],
   "source": [
    "def xs_y(df):\n",
    "    xs = df[cats+conts].copy()\n",
    "    return xs,df[dep] if dep in df else None\n",
    "\n",
    "trn_xs,trn_y = xs_y(trn_df)\n",
    "val_xs,val_y = xs_y(val_df)"
   ]
  },
  {
   "cell_type": "code",
   "execution_count": 112,
   "id": "d2471111-ac35-45a2-b754-6139223ab3c3",
   "metadata": {},
   "outputs": [],
   "source": [
    "from sklearn.tree import DecisionTreeClassifier, export_graphviz\n",
    "\n",
    "m = DecisionTreeClassifier(max_leaf_nodes=4).fit(trn_xs, trn_y);"
   ]
  },
  {
   "cell_type": "code",
   "execution_count": 96,
   "id": "50de2e37-8371-43e3-8f04-fef668437d70",
   "metadata": {},
   "outputs": [],
   "source": [
    "import graphviz\n",
    "\n",
    "def draw_tree(t, df, size=10, ratio=0.6, precision=2, **kwargs):\n",
    "    s=export_graphviz(t, out_file=None, feature_names=df.columns, filled=True, rounded=True,\n",
    "                      special_characters=True, rotate=False, precision=precision, **kwargs)\n",
    "    return graphviz.Source(re.sub('Tree {', f'Tree {{ size={size}; ratio={ratio}', s))"
   ]
  },
  {
   "cell_type": "code",
   "execution_count": 113,
   "id": "cae886ed-46cc-49ee-bfe3-be3bc94036b9",
   "metadata": {},
   "outputs": [
    {
     "data": {
      "image/svg+xml": [
       "<?xml version=\"1.0\" encoding=\"UTF-8\" standalone=\"no\"?>\n",
       "<!DOCTYPE svg PUBLIC \"-//W3C//DTD SVG 1.1//EN\"\n",
       " \"http://www.w3.org/Graphics/SVG/1.1/DTD/svg11.dtd\">\n",
       "<!-- Generated by graphviz version 11.0.0 (0)\n",
       " -->\n",
       "<!-- Title: Tree Pages: 1 -->\n",
       "<svg width=\"635pt\" height=\"384pt\"\n",
       " viewBox=\"0.00 0.00 635.08 384.25\" xmlns=\"http://www.w3.org/2000/svg\" xmlns:xlink=\"http://www.w3.org/1999/xlink\">\n",
       "<g id=\"graph0\" class=\"graph\" transform=\"scale(1 1) rotate(0) translate(4 380.25)\">\n",
       "<title>Tree</title>\n",
       "<polygon fill=\"white\" stroke=\"none\" points=\"-4,4 -4,-380.25 631.08,-380.25 631.08,4 -4,4\"/>\n",
       "<!-- 0 -->\n",
       "<g id=\"node1\" class=\"node\">\n",
       "<title>0</title>\n",
       "<path fill=\"#dfeffb\" stroke=\"black\" d=\"M250.18,-376.5C250.18,-376.5 165.18,-376.5 165.18,-376.5 159.18,-376.5 153.18,-370.5 153.18,-364.5 153.18,-364.5 153.18,-317.5 153.18,-317.5 153.18,-311.5 159.18,-305.5 165.18,-305.5 165.18,-305.5 250.18,-305.5 250.18,-305.5 256.18,-305.5 262.18,-311.5 262.18,-317.5 262.18,-317.5 262.18,-364.5 262.18,-364.5 262.18,-370.5 256.18,-376.5 250.18,-376.5\"/>\n",
       "<text text-anchor=\"start\" x=\"168.31\" y=\"-359.2\" font-family=\"Helvetica,sans-Serif\" font-size=\"14.00\">PPTSD ≤ 0.5</text>\n",
       "<text text-anchor=\"start\" x=\"179.93\" y=\"-343.45\" font-family=\"Helvetica,sans-Serif\" font-size=\"14.00\">gini = 0.5</text>\n",
       "<text text-anchor=\"start\" x=\"166.81\" y=\"-327.7\" font-family=\"Helvetica,sans-Serif\" font-size=\"14.00\">samples = 68</text>\n",
       "<text text-anchor=\"start\" x=\"161.18\" y=\"-311.95\" font-family=\"Helvetica,sans-Serif\" font-size=\"14.00\">value = [31, 37]</text>\n",
       "</g>\n",
       "<!-- 1 -->\n",
       "<g id=\"node2\" class=\"node\">\n",
       "<title>1</title>\n",
       "<path fill=\"#eca572\" stroke=\"black\" d=\"M133.43,-261.62C133.43,-261.62 55.93,-261.62 55.93,-261.62 49.93,-261.62 43.93,-255.62 43.93,-249.62 43.93,-249.62 43.93,-218.38 43.93,-218.38 43.93,-212.38 49.93,-206.38 55.93,-206.38 55.93,-206.38 133.43,-206.38 133.43,-206.38 139.43,-206.38 145.43,-212.38 145.43,-218.38 145.43,-218.38 145.43,-249.62 145.43,-249.62 145.43,-255.62 139.43,-261.62 133.43,-261.62\"/>\n",
       "<text text-anchor=\"start\" x=\"63.18\" y=\"-244.32\" font-family=\"Helvetica,sans-Serif\" font-size=\"14.00\">gini = 0.35</text>\n",
       "<text text-anchor=\"start\" x=\"53.81\" y=\"-228.57\" font-family=\"Helvetica,sans-Serif\" font-size=\"14.00\">samples = 27</text>\n",
       "<text text-anchor=\"start\" x=\"51.93\" y=\"-212.82\" font-family=\"Helvetica,sans-Serif\" font-size=\"14.00\">value = [21, 6]</text>\n",
       "</g>\n",
       "<!-- 0&#45;&gt;1 -->\n",
       "<g id=\"edge1\" class=\"edge\">\n",
       "<title>0&#45;&gt;1</title>\n",
       "<path fill=\"none\" stroke=\"black\" d=\"M170.06,-305.04C157.74,-293.6 144.08,-280.9 131.81,-269.5\"/>\n",
       "<polygon fill=\"black\" stroke=\"black\" points=\"134.38,-267.11 124.68,-262.87 129.62,-272.24 134.38,-267.11\"/>\n",
       "<text text-anchor=\"middle\" x=\"124.48\" y=\"-281.4\" font-family=\"Helvetica,sans-Serif\" font-size=\"14.00\">True</text>\n",
       "</g>\n",
       "<!-- 2 -->\n",
       "<g id=\"node3\" class=\"node\">\n",
       "<title>2</title>\n",
       "<path fill=\"#79bded\" stroke=\"black\" d=\"M366.18,-269.5C366.18,-269.5 281.18,-269.5 281.18,-269.5 275.18,-269.5 269.18,-263.5 269.18,-257.5 269.18,-257.5 269.18,-210.5 269.18,-210.5 269.18,-204.5 275.18,-198.5 281.18,-198.5 281.18,-198.5 366.18,-198.5 366.18,-198.5 372.18,-198.5 378.18,-204.5 378.18,-210.5 378.18,-210.5 378.18,-257.5 378.18,-257.5 378.18,-263.5 372.18,-269.5 366.18,-269.5\"/>\n",
       "<text text-anchor=\"start\" x=\"280.93\" y=\"-252.2\" font-family=\"Helvetica,sans-Serif\" font-size=\"14.00\">Panxiety ≤ 0.5</text>\n",
       "<text text-anchor=\"start\" x=\"292.18\" y=\"-236.45\" font-family=\"Helvetica,sans-Serif\" font-size=\"14.00\">gini = 0.37</text>\n",
       "<text text-anchor=\"start\" x=\"282.81\" y=\"-220.7\" font-family=\"Helvetica,sans-Serif\" font-size=\"14.00\">samples = 41</text>\n",
       "<text text-anchor=\"start\" x=\"277.18\" y=\"-204.95\" font-family=\"Helvetica,sans-Serif\" font-size=\"14.00\">value = [10, 31]</text>\n",
       "</g>\n",
       "<!-- 0&#45;&gt;2 -->\n",
       "<g id=\"edge2\" class=\"edge\">\n",
       "<title>0&#45;&gt;2</title>\n",
       "<path fill=\"none\" stroke=\"black\" d=\"M246.31,-305.04C256.09,-296.18 266.71,-286.57 276.85,-277.39\"/>\n",
       "<polygon fill=\"black\" stroke=\"black\" points=\"279.04,-280.13 284.1,-270.83 274.34,-274.94 279.04,-280.13\"/>\n",
       "<text text-anchor=\"middle\" x=\"283.98\" y=\"-289.35\" font-family=\"Helvetica,sans-Serif\" font-size=\"14.00\">False</text>\n",
       "</g>\n",
       "<!-- 3 -->\n",
       "<g id=\"node4\" class=\"node\">\n",
       "<title>3</title>\n",
       "<path fill=\"#eca06a\" stroke=\"black\" d=\"M250.68,-154.62C250.68,-154.62 180.68,-154.62 180.68,-154.62 174.68,-154.62 168.68,-148.62 168.68,-142.62 168.68,-142.62 168.68,-111.38 168.68,-111.38 168.68,-105.38 174.68,-99.38 180.68,-99.38 180.68,-99.38 250.68,-99.38 250.68,-99.38 256.68,-99.38 262.68,-105.38 262.68,-111.38 262.68,-111.38 262.68,-142.62 262.68,-142.62 262.68,-148.62 256.68,-154.62 250.68,-154.62\"/>\n",
       "<text text-anchor=\"start\" x=\"184.18\" y=\"-137.32\" font-family=\"Helvetica,sans-Serif\" font-size=\"14.00\">gini = 0.32</text>\n",
       "<text text-anchor=\"start\" x=\"178.56\" y=\"-121.58\" font-family=\"Helvetica,sans-Serif\" font-size=\"14.00\">samples = 5</text>\n",
       "<text text-anchor=\"start\" x=\"176.68\" y=\"-105.83\" font-family=\"Helvetica,sans-Serif\" font-size=\"14.00\">value = [4, 1]</text>\n",
       "</g>\n",
       "<!-- 2&#45;&gt;3 -->\n",
       "<g id=\"edge3\" class=\"edge\">\n",
       "<title>2&#45;&gt;3</title>\n",
       "<path fill=\"none\" stroke=\"black\" d=\"M287.72,-198.04C276.07,-186.71 263.15,-174.15 251.51,-162.83\"/>\n",
       "<polygon fill=\"black\" stroke=\"black\" points=\"253.98,-160.36 244.38,-155.89 249.11,-165.38 253.98,-160.36\"/>\n",
       "</g>\n",
       "<!-- 4 -->\n",
       "<g id=\"node5\" class=\"node\">\n",
       "<title>4</title>\n",
       "<path fill=\"#61b1ea\" stroke=\"black\" d=\"M470.43,-162.5C470.43,-162.5 392.93,-162.5 392.93,-162.5 386.93,-162.5 380.93,-156.5 380.93,-150.5 380.93,-150.5 380.93,-103.5 380.93,-103.5 380.93,-97.5 386.93,-91.5 392.93,-91.5 392.93,-91.5 470.43,-91.5 470.43,-91.5 476.43,-91.5 482.43,-97.5 482.43,-103.5 482.43,-103.5 482.43,-150.5 482.43,-150.5 482.43,-156.5 476.43,-162.5 470.43,-162.5\"/>\n",
       "<text text-anchor=\"start\" x=\"392.68\" y=\"-145.2\" font-family=\"Helvetica,sans-Serif\" font-size=\"14.00\">Alcohol ≤ 5.5</text>\n",
       "<text text-anchor=\"start\" x=\"400.18\" y=\"-129.45\" font-family=\"Helvetica,sans-Serif\" font-size=\"14.00\">gini = 0.28</text>\n",
       "<text text-anchor=\"start\" x=\"390.81\" y=\"-113.7\" font-family=\"Helvetica,sans-Serif\" font-size=\"14.00\">samples = 36</text>\n",
       "<text text-anchor=\"start\" x=\"388.93\" y=\"-97.95\" font-family=\"Helvetica,sans-Serif\" font-size=\"14.00\">value = [6, 30]</text>\n",
       "</g>\n",
       "<!-- 2&#45;&gt;4 -->\n",
       "<g id=\"edge4\" class=\"edge\">\n",
       "<title>2&#45;&gt;4</title>\n",
       "<path fill=\"none\" stroke=\"black\" d=\"M359.65,-198.04C368.66,-189.27 378.44,-179.77 387.79,-170.67\"/>\n",
       "<polygon fill=\"black\" stroke=\"black\" points=\"390.06,-173.35 394.79,-163.87 385.18,-168.33 390.06,-173.35\"/>\n",
       "</g>\n",
       "<!-- 5 -->\n",
       "<g id=\"node6\" class=\"node\">\n",
       "<title>5</title>\n",
       "<path fill=\"#4da7e8\" stroke=\"black\" d=\"M362.43,-55.62C362.43,-55.62 284.93,-55.62 284.93,-55.62 278.93,-55.62 272.93,-49.62 272.93,-43.62 272.93,-43.62 272.93,-12.38 272.93,-12.38 272.93,-6.38 278.93,-0.38 284.93,-0.38 284.93,-0.38 362.43,-0.38 362.43,-0.38 368.43,-0.38 374.43,-6.38 374.43,-12.38 374.43,-12.38 374.43,-43.62 374.43,-43.62 374.43,-49.62 368.43,-55.62 362.43,-55.62\"/>\n",
       "<text text-anchor=\"start\" x=\"292.18\" y=\"-38.33\" font-family=\"Helvetica,sans-Serif\" font-size=\"14.00\">gini = 0.17</text>\n",
       "<text text-anchor=\"start\" x=\"282.81\" y=\"-22.57\" font-family=\"Helvetica,sans-Serif\" font-size=\"14.00\">samples = 32</text>\n",
       "<text text-anchor=\"start\" x=\"280.93\" y=\"-6.83\" font-family=\"Helvetica,sans-Serif\" font-size=\"14.00\">value = [3, 29]</text>\n",
       "</g>\n",
       "<!-- 4&#45;&gt;5 -->\n",
       "<g id=\"edge5\" class=\"edge\">\n",
       "<title>4&#45;&gt;5</title>\n",
       "<path fill=\"none\" stroke=\"black\" d=\"M393,-91.25C382.98,-82.26 372.2,-72.57 362.19,-63.58\"/>\n",
       "<polygon fill=\"black\" stroke=\"black\" points=\"364.53,-60.99 354.76,-56.91 359.86,-66.19 364.53,-60.99\"/>\n",
       "</g>\n",
       "<!-- 6 -->\n",
       "<g id=\"node7\" class=\"node\">\n",
       "<title>6</title>\n",
       "<path fill=\"#eeab7b\" stroke=\"black\" d=\"M574.68,-55.62C574.68,-55.62 504.68,-55.62 504.68,-55.62 498.68,-55.62 492.68,-49.62 492.68,-43.62 492.68,-43.62 492.68,-12.38 492.68,-12.38 492.68,-6.38 498.68,-0.38 504.68,-0.38 504.68,-0.38 574.68,-0.38 574.68,-0.38 580.68,-0.38 586.68,-6.38 586.68,-12.38 586.68,-12.38 586.68,-43.62 586.68,-43.62 586.68,-49.62 580.68,-55.62 574.68,-55.62\"/>\n",
       "<text text-anchor=\"start\" x=\"508.18\" y=\"-38.33\" font-family=\"Helvetica,sans-Serif\" font-size=\"14.00\">gini = 0.38</text>\n",
       "<text text-anchor=\"start\" x=\"502.56\" y=\"-22.57\" font-family=\"Helvetica,sans-Serif\" font-size=\"14.00\">samples = 4</text>\n",
       "<text text-anchor=\"start\" x=\"500.68\" y=\"-6.83\" font-family=\"Helvetica,sans-Serif\" font-size=\"14.00\">value = [3, 1]</text>\n",
       "</g>\n",
       "<!-- 4&#45;&gt;6 -->\n",
       "<g id=\"edge6\" class=\"edge\">\n",
       "<title>4&#45;&gt;6</title>\n",
       "<path fill=\"none\" stroke=\"black\" d=\"M470.37,-91.25C480.39,-82.26 491.17,-72.57 501.18,-63.58\"/>\n",
       "<polygon fill=\"black\" stroke=\"black\" points=\"503.51,-66.19 508.61,-56.91 498.83,-60.99 503.51,-66.19\"/>\n",
       "</g>\n",
       "</g>\n",
       "</svg>\n"
      ],
      "text/plain": [
       "<graphviz.sources.Source at 0x234d378a5d0>"
      ]
     },
     "execution_count": 113,
     "metadata": {},
     "output_type": "execute_result"
    }
   ],
   "source": [
    "draw_tree(m, trn_xs, size=10)"
   ]
  },
  {
   "cell_type": "code",
   "execution_count": 114,
   "id": "35423793-2f23-4371-ba79-fbf6cfdb6ba7",
   "metadata": {},
   "outputs": [
    {
     "data": {
      "text/plain": [
       "0.34782608695652173"
      ]
     },
     "execution_count": 114,
     "metadata": {},
     "output_type": "execute_result"
    }
   ],
   "source": [
    "mean_absolute_error(val_y, m.predict(val_xs))"
   ]
  },
  {
   "cell_type": "code",
   "execution_count": 115,
   "id": "999ce68a-4194-4fa5-aec8-5bfa05bad80e",
   "metadata": {},
   "outputs": [
    {
     "data": {
      "image/svg+xml": [
       "<?xml version=\"1.0\" encoding=\"UTF-8\" standalone=\"no\"?>\n",
       "<!DOCTYPE svg PUBLIC \"-//W3C//DTD SVG 1.1//EN\"\n",
       " \"http://www.w3.org/Graphics/SVG/1.1/DTD/svg11.dtd\">\n",
       "<!-- Generated by graphviz version 11.0.0 (0)\n",
       " -->\n",
       "<!-- Title: Tree Pages: 1 -->\n",
       "<svg width=\"864pt\" height=\"521pt\"\n",
       " viewBox=\"0.00 0.00 864.00 521.19\" xmlns=\"http://www.w3.org/2000/svg\" xmlns:xlink=\"http://www.w3.org/1999/xlink\">\n",
       "<g id=\"graph0\" class=\"graph\" transform=\"scale(0.871187 0.871187) rotate(0) translate(4 594.25)\">\n",
       "<title>Tree</title>\n",
       "<polygon fill=\"white\" stroke=\"none\" points=\"-4,4 -4,-594.25 987.75,-594.25 987.75,4 -4,4\"/>\n",
       "<!-- 0 -->\n",
       "<g id=\"node1\" class=\"node\">\n",
       "<title>0</title>\n",
       "<path fill=\"#dfeffb\" stroke=\"black\" d=\"M538.89,-590.5C538.89,-590.5 453.89,-590.5 453.89,-590.5 447.89,-590.5 441.89,-584.5 441.89,-578.5 441.89,-578.5 441.89,-531.5 441.89,-531.5 441.89,-525.5 447.89,-519.5 453.89,-519.5 453.89,-519.5 538.89,-519.5 538.89,-519.5 544.89,-519.5 550.89,-525.5 550.89,-531.5 550.89,-531.5 550.89,-578.5 550.89,-578.5 550.89,-584.5 544.89,-590.5 538.89,-590.5\"/>\n",
       "<text text-anchor=\"start\" x=\"457.02\" y=\"-573.2\" font-family=\"Helvetica,sans-Serif\" font-size=\"14.00\">PPTSD ≤ 0.5</text>\n",
       "<text text-anchor=\"start\" x=\"468.64\" y=\"-557.45\" font-family=\"Helvetica,sans-Serif\" font-size=\"14.00\">gini = 0.5</text>\n",
       "<text text-anchor=\"start\" x=\"455.52\" y=\"-541.7\" font-family=\"Helvetica,sans-Serif\" font-size=\"14.00\">samples = 68</text>\n",
       "<text text-anchor=\"start\" x=\"449.89\" y=\"-525.95\" font-family=\"Helvetica,sans-Serif\" font-size=\"14.00\">value = [31, 37]</text>\n",
       "</g>\n",
       "<!-- 1 -->\n",
       "<g id=\"node2\" class=\"node\">\n",
       "<title>1</title>\n",
       "<path fill=\"#eca572\" stroke=\"black\" d=\"M424.89,-483.5C424.89,-483.5 345.89,-483.5 345.89,-483.5 339.89,-483.5 333.89,-477.5 333.89,-471.5 333.89,-471.5 333.89,-424.5 333.89,-424.5 333.89,-418.5 339.89,-412.5 345.89,-412.5 345.89,-412.5 424.89,-412.5 424.89,-412.5 430.89,-412.5 436.89,-418.5 436.89,-424.5 436.89,-424.5 436.89,-471.5 436.89,-471.5 436.89,-477.5 430.89,-483.5 424.89,-483.5\"/>\n",
       "<text text-anchor=\"start\" x=\"341.89\" y=\"-466.2\" font-family=\"Helvetica,sans-Serif\" font-size=\"14.00\">P_Fights ≤ 1.5</text>\n",
       "<text text-anchor=\"start\" x=\"353.89\" y=\"-450.45\" font-family=\"Helvetica,sans-Serif\" font-size=\"14.00\">gini = 0.35</text>\n",
       "<text text-anchor=\"start\" x=\"344.52\" y=\"-434.7\" font-family=\"Helvetica,sans-Serif\" font-size=\"14.00\">samples = 27</text>\n",
       "<text text-anchor=\"start\" x=\"342.64\" y=\"-418.95\" font-family=\"Helvetica,sans-Serif\" font-size=\"14.00\">value = [21, 6]</text>\n",
       "</g>\n",
       "<!-- 0&#45;&gt;1 -->\n",
       "<g id=\"edge1\" class=\"edge\">\n",
       "<title>0&#45;&gt;1</title>\n",
       "<path fill=\"none\" stroke=\"black\" d=\"M459.43,-519.04C450.16,-510.27 440.12,-500.77 430.5,-491.67\"/>\n",
       "<polygon fill=\"black\" stroke=\"black\" points=\"432.96,-489.18 423.29,-484.85 428.15,-494.27 432.96,-489.18\"/>\n",
       "<text text-anchor=\"middle\" x=\"422.89\" y=\"-503.38\" font-family=\"Helvetica,sans-Serif\" font-size=\"14.00\">True</text>\n",
       "</g>\n",
       "<!-- 8 -->\n",
       "<g id=\"node9\" class=\"node\">\n",
       "<title>8</title>\n",
       "<path fill=\"#79bded\" stroke=\"black\" d=\"M649.89,-483.5C649.89,-483.5 564.89,-483.5 564.89,-483.5 558.89,-483.5 552.89,-477.5 552.89,-471.5 552.89,-471.5 552.89,-424.5 552.89,-424.5 552.89,-418.5 558.89,-412.5 564.89,-412.5 564.89,-412.5 649.89,-412.5 649.89,-412.5 655.89,-412.5 661.89,-418.5 661.89,-424.5 661.89,-424.5 661.89,-471.5 661.89,-471.5 661.89,-477.5 655.89,-483.5 649.89,-483.5\"/>\n",
       "<text text-anchor=\"start\" x=\"564.64\" y=\"-466.2\" font-family=\"Helvetica,sans-Serif\" font-size=\"14.00\">Panxiety ≤ 0.5</text>\n",
       "<text text-anchor=\"start\" x=\"575.89\" y=\"-450.45\" font-family=\"Helvetica,sans-Serif\" font-size=\"14.00\">gini = 0.37</text>\n",
       "<text text-anchor=\"start\" x=\"566.52\" y=\"-434.7\" font-family=\"Helvetica,sans-Serif\" font-size=\"14.00\">samples = 41</text>\n",
       "<text text-anchor=\"start\" x=\"560.89\" y=\"-418.95\" font-family=\"Helvetica,sans-Serif\" font-size=\"14.00\">value = [10, 31]</text>\n",
       "</g>\n",
       "<!-- 0&#45;&gt;8 -->\n",
       "<g id=\"edge8\" class=\"edge\">\n",
       "<title>0&#45;&gt;8</title>\n",
       "<path fill=\"none\" stroke=\"black\" d=\"M533.35,-519.04C542.62,-510.27 552.67,-500.77 562.28,-491.67\"/>\n",
       "<polygon fill=\"black\" stroke=\"black\" points=\"564.63,-494.27 569.49,-484.85 559.82,-489.18 564.63,-494.27\"/>\n",
       "<text text-anchor=\"middle\" x=\"569.9\" y=\"-503.38\" font-family=\"Helvetica,sans-Serif\" font-size=\"14.00\">False</text>\n",
       "</g>\n",
       "<!-- 2 -->\n",
       "<g id=\"node3\" class=\"node\">\n",
       "<title>2</title>\n",
       "<path fill=\"#f2c09c\" stroke=\"black\" d=\"M227.14,-376.5C227.14,-376.5 149.64,-376.5 149.64,-376.5 143.64,-376.5 137.64,-370.5 137.64,-364.5 137.64,-364.5 137.64,-317.5 137.64,-317.5 137.64,-311.5 143.64,-305.5 149.64,-305.5 149.64,-305.5 227.14,-305.5 227.14,-305.5 233.14,-305.5 239.14,-311.5 239.14,-317.5 239.14,-317.5 239.14,-364.5 239.14,-364.5 239.14,-370.5 233.14,-376.5 227.14,-376.5\"/>\n",
       "<text text-anchor=\"start\" x=\"147.52\" y=\"-359.2\" font-family=\"Helvetica,sans-Serif\" font-size=\"14.00\">P_Age ≤ 24.0</text>\n",
       "<text text-anchor=\"start\" x=\"156.89\" y=\"-343.45\" font-family=\"Helvetica,sans-Serif\" font-size=\"14.00\">gini = 0.44</text>\n",
       "<text text-anchor=\"start\" x=\"147.52\" y=\"-327.7\" font-family=\"Helvetica,sans-Serif\" font-size=\"14.00\">samples = 18</text>\n",
       "<text text-anchor=\"start\" x=\"145.64\" y=\"-311.95\" font-family=\"Helvetica,sans-Serif\" font-size=\"14.00\">value = [12, 6]</text>\n",
       "</g>\n",
       "<!-- 1&#45;&gt;2 -->\n",
       "<g id=\"edge2\" class=\"edge\">\n",
       "<title>1&#45;&gt;2</title>\n",
       "<path fill=\"none\" stroke=\"black\" d=\"M333.63,-419.41C307.86,-405.67 276.52,-388.97 249.56,-374.6\"/>\n",
       "<polygon fill=\"black\" stroke=\"black\" points=\"251.27,-371.55 240.8,-369.93 247.98,-377.73 251.27,-371.55\"/>\n",
       "</g>\n",
       "<!-- 7 -->\n",
       "<g id=\"node8\" class=\"node\">\n",
       "<title>7</title>\n",
       "<path fill=\"#e58139\" stroke=\"black\" d=\"M431.39,-368.62C431.39,-368.62 361.39,-368.62 361.39,-368.62 355.39,-368.62 349.39,-362.62 349.39,-356.62 349.39,-356.62 349.39,-325.38 349.39,-325.38 349.39,-319.38 355.39,-313.38 361.39,-313.38 361.39,-313.38 431.39,-313.38 431.39,-313.38 437.39,-313.38 443.39,-319.38 443.39,-325.38 443.39,-325.38 443.39,-356.62 443.39,-356.62 443.39,-362.62 437.39,-368.62 431.39,-368.62\"/>\n",
       "<text text-anchor=\"start\" x=\"368.64\" y=\"-351.32\" font-family=\"Helvetica,sans-Serif\" font-size=\"14.00\">gini = 0.0</text>\n",
       "<text text-anchor=\"start\" x=\"359.27\" y=\"-335.57\" font-family=\"Helvetica,sans-Serif\" font-size=\"14.00\">samples = 9</text>\n",
       "<text text-anchor=\"start\" x=\"357.39\" y=\"-319.82\" font-family=\"Helvetica,sans-Serif\" font-size=\"14.00\">value = [9, 0]</text>\n",
       "</g>\n",
       "<!-- 1&#45;&gt;7 -->\n",
       "<g id=\"edge7\" class=\"edge\">\n",
       "<title>1&#45;&gt;7</title>\n",
       "<path fill=\"none\" stroke=\"black\" d=\"M389.05,-412.04C390.13,-401.81 391.3,-390.57 392.39,-380.16\"/>\n",
       "<polygon fill=\"black\" stroke=\"black\" points=\"395.86,-380.66 393.42,-370.35 388.9,-379.93 395.86,-380.66\"/>\n",
       "</g>\n",
       "<!-- 3 -->\n",
       "<g id=\"node4\" class=\"node\">\n",
       "<title>3</title>\n",
       "<path fill=\"#ffffff\" stroke=\"black\" d=\"M221.27,-269.5C221.27,-269.5 147.52,-269.5 147.52,-269.5 141.52,-269.5 135.52,-263.5 135.52,-257.5 135.52,-257.5 135.52,-210.5 135.52,-210.5 135.52,-204.5 141.52,-198.5 147.52,-198.5 147.52,-198.5 221.27,-198.5 221.27,-198.5 227.27,-198.5 233.27,-204.5 233.27,-210.5 233.27,-210.5 233.27,-257.5 233.27,-257.5 233.27,-263.5 227.27,-269.5 221.27,-269.5\"/>\n",
       "<text text-anchor=\"start\" x=\"151.77\" y=\"-252.2\" font-family=\"Helvetica,sans-Serif\" font-size=\"14.00\">Age ≤ 18.0</text>\n",
       "<text text-anchor=\"start\" x=\"156.64\" y=\"-236.45\" font-family=\"Helvetica,sans-Serif\" font-size=\"14.00\">gini = 0.5</text>\n",
       "<text text-anchor=\"start\" x=\"143.52\" y=\"-220.7\" font-family=\"Helvetica,sans-Serif\" font-size=\"14.00\">samples = 12</text>\n",
       "<text text-anchor=\"start\" x=\"145.39\" y=\"-204.95\" font-family=\"Helvetica,sans-Serif\" font-size=\"14.00\">value = [6, 6]</text>\n",
       "</g>\n",
       "<!-- 2&#45;&gt;3 -->\n",
       "<g id=\"edge3\" class=\"edge\">\n",
       "<title>2&#45;&gt;3</title>\n",
       "<path fill=\"none\" stroke=\"black\" d=\"M187.06,-305.04C186.77,-297.42 186.46,-289.25 186.15,-281.27\"/>\n",
       "<polygon fill=\"black\" stroke=\"black\" points=\"189.65,-281.18 185.78,-271.32 182.66,-281.45 189.65,-281.18\"/>\n",
       "</g>\n",
       "<!-- 6 -->\n",
       "<g id=\"node7\" class=\"node\">\n",
       "<title>6</title>\n",
       "<path fill=\"#e58139\" stroke=\"black\" d=\"M423.39,-261.62C423.39,-261.62 353.39,-261.62 353.39,-261.62 347.39,-261.62 341.39,-255.62 341.39,-249.62 341.39,-249.62 341.39,-218.38 341.39,-218.38 341.39,-212.38 347.39,-206.38 353.39,-206.38 353.39,-206.38 423.39,-206.38 423.39,-206.38 429.39,-206.38 435.39,-212.38 435.39,-218.38 435.39,-218.38 435.39,-249.62 435.39,-249.62 435.39,-255.62 429.39,-261.62 423.39,-261.62\"/>\n",
       "<text text-anchor=\"start\" x=\"360.64\" y=\"-244.32\" font-family=\"Helvetica,sans-Serif\" font-size=\"14.00\">gini = 0.0</text>\n",
       "<text text-anchor=\"start\" x=\"351.27\" y=\"-228.57\" font-family=\"Helvetica,sans-Serif\" font-size=\"14.00\">samples = 6</text>\n",
       "<text text-anchor=\"start\" x=\"349.39\" y=\"-212.82\" font-family=\"Helvetica,sans-Serif\" font-size=\"14.00\">value = [6, 0]</text>\n",
       "</g>\n",
       "<!-- 2&#45;&gt;6 -->\n",
       "<g id=\"edge6\" class=\"edge\">\n",
       "<title>2&#45;&gt;6</title>\n",
       "<path fill=\"none\" stroke=\"black\" d=\"M239.64,-313.1C267.59,-298.42 302.27,-280.21 331.12,-265.07\"/>\n",
       "<polygon fill=\"black\" stroke=\"black\" points=\"332.49,-268.3 339.71,-260.56 329.23,-262.11 332.49,-268.3\"/>\n",
       "</g>\n",
       "<!-- 4 -->\n",
       "<g id=\"node5\" class=\"node\">\n",
       "<title>4</title>\n",
       "<path fill=\"#9ccef2\" stroke=\"black\" d=\"M119.39,-154.62C119.39,-154.62 49.39,-154.62 49.39,-154.62 43.39,-154.62 37.39,-148.62 37.39,-142.62 37.39,-142.62 37.39,-111.38 37.39,-111.38 37.39,-105.38 43.39,-99.38 49.39,-99.38 49.39,-99.38 119.39,-99.38 119.39,-99.38 125.39,-99.38 131.39,-105.38 131.39,-111.38 131.39,-111.38 131.39,-142.62 131.39,-142.62 131.39,-148.62 125.39,-154.62 119.39,-154.62\"/>\n",
       "<text text-anchor=\"start\" x=\"52.89\" y=\"-137.32\" font-family=\"Helvetica,sans-Serif\" font-size=\"14.00\">gini = 0.44</text>\n",
       "<text text-anchor=\"start\" x=\"47.27\" y=\"-121.58\" font-family=\"Helvetica,sans-Serif\" font-size=\"14.00\">samples = 6</text>\n",
       "<text text-anchor=\"start\" x=\"45.39\" y=\"-105.83\" font-family=\"Helvetica,sans-Serif\" font-size=\"14.00\">value = [2, 4]</text>\n",
       "</g>\n",
       "<!-- 3&#45;&gt;4 -->\n",
       "<g id=\"edge4\" class=\"edge\">\n",
       "<title>3&#45;&gt;4</title>\n",
       "<path fill=\"none\" stroke=\"black\" d=\"M151.09,-198.04C140.41,-186.82 128.57,-174.39 117.88,-163.16\"/>\n",
       "<polygon fill=\"black\" stroke=\"black\" points=\"120.43,-160.76 111,-155.94 115.36,-165.59 120.43,-160.76\"/>\n",
       "</g>\n",
       "<!-- 5 -->\n",
       "<g id=\"node6\" class=\"node\">\n",
       "<title>5</title>\n",
       "<path fill=\"#f2c09c\" stroke=\"black\" d=\"M320.39,-154.62C320.39,-154.62 250.39,-154.62 250.39,-154.62 244.39,-154.62 238.39,-148.62 238.39,-142.62 238.39,-142.62 238.39,-111.38 238.39,-111.38 238.39,-105.38 244.39,-99.38 250.39,-99.38 250.39,-99.38 320.39,-99.38 320.39,-99.38 326.39,-99.38 332.39,-105.38 332.39,-111.38 332.39,-111.38 332.39,-142.62 332.39,-142.62 332.39,-148.62 326.39,-154.62 320.39,-154.62\"/>\n",
       "<text text-anchor=\"start\" x=\"253.89\" y=\"-137.32\" font-family=\"Helvetica,sans-Serif\" font-size=\"14.00\">gini = 0.44</text>\n",
       "<text text-anchor=\"start\" x=\"248.27\" y=\"-121.58\" font-family=\"Helvetica,sans-Serif\" font-size=\"14.00\">samples = 6</text>\n",
       "<text text-anchor=\"start\" x=\"246.39\" y=\"-105.83\" font-family=\"Helvetica,sans-Serif\" font-size=\"14.00\">value = [4, 2]</text>\n",
       "</g>\n",
       "<!-- 3&#45;&gt;5 -->\n",
       "<g id=\"edge5\" class=\"edge\">\n",
       "<title>3&#45;&gt;5</title>\n",
       "<path fill=\"none\" stroke=\"black\" d=\"M218.02,-198.04C228.92,-186.71 241,-174.15 251.89,-162.83\"/>\n",
       "<polygon fill=\"black\" stroke=\"black\" points=\"254.12,-165.56 258.53,-155.93 249.07,-160.71 254.12,-165.56\"/>\n",
       "</g>\n",
       "<!-- 9 -->\n",
       "<g id=\"node10\" class=\"node\">\n",
       "<title>9</title>\n",
       "<path fill=\"#eca06a\" stroke=\"black\" d=\"M633.39,-368.62C633.39,-368.62 563.39,-368.62 563.39,-368.62 557.39,-368.62 551.39,-362.62 551.39,-356.62 551.39,-356.62 551.39,-325.38 551.39,-325.38 551.39,-319.38 557.39,-313.38 563.39,-313.38 563.39,-313.38 633.39,-313.38 633.39,-313.38 639.39,-313.38 645.39,-319.38 645.39,-325.38 645.39,-325.38 645.39,-356.62 645.39,-356.62 645.39,-362.62 639.39,-368.62 633.39,-368.62\"/>\n",
       "<text text-anchor=\"start\" x=\"566.89\" y=\"-351.32\" font-family=\"Helvetica,sans-Serif\" font-size=\"14.00\">gini = 0.32</text>\n",
       "<text text-anchor=\"start\" x=\"561.27\" y=\"-335.57\" font-family=\"Helvetica,sans-Serif\" font-size=\"14.00\">samples = 5</text>\n",
       "<text text-anchor=\"start\" x=\"559.39\" y=\"-319.82\" font-family=\"Helvetica,sans-Serif\" font-size=\"14.00\">value = [4, 1]</text>\n",
       "</g>\n",
       "<!-- 8&#45;&gt;9 -->\n",
       "<g id=\"edge9\" class=\"edge\">\n",
       "<title>8&#45;&gt;9</title>\n",
       "<path fill=\"none\" stroke=\"black\" d=\"M604.4,-412.04C603.52,-401.81 602.56,-390.57 601.66,-380.16\"/>\n",
       "<polygon fill=\"black\" stroke=\"black\" points=\"605.16,-380.01 600.82,-370.35 598.19,-380.61 605.16,-380.01\"/>\n",
       "</g>\n",
       "<!-- 10 -->\n",
       "<g id=\"node11\" class=\"node\">\n",
       "<title>10</title>\n",
       "<path fill=\"#61b1ea\" stroke=\"black\" d=\"M845.14,-376.5C845.14,-376.5 767.64,-376.5 767.64,-376.5 761.64,-376.5 755.64,-370.5 755.64,-364.5 755.64,-364.5 755.64,-317.5 755.64,-317.5 755.64,-311.5 761.64,-305.5 767.64,-305.5 767.64,-305.5 845.14,-305.5 845.14,-305.5 851.14,-305.5 857.14,-311.5 857.14,-317.5 857.14,-317.5 857.14,-364.5 857.14,-364.5 857.14,-370.5 851.14,-376.5 845.14,-376.5\"/>\n",
       "<text text-anchor=\"start\" x=\"767.39\" y=\"-359.2\" font-family=\"Helvetica,sans-Serif\" font-size=\"14.00\">Alcohol ≤ 4.5</text>\n",
       "<text text-anchor=\"start\" x=\"774.89\" y=\"-343.45\" font-family=\"Helvetica,sans-Serif\" font-size=\"14.00\">gini = 0.28</text>\n",
       "<text text-anchor=\"start\" x=\"765.52\" y=\"-327.7\" font-family=\"Helvetica,sans-Serif\" font-size=\"14.00\">samples = 36</text>\n",
       "<text text-anchor=\"start\" x=\"763.64\" y=\"-311.95\" font-family=\"Helvetica,sans-Serif\" font-size=\"14.00\">value = [6, 30]</text>\n",
       "</g>\n",
       "<!-- 8&#45;&gt;10 -->\n",
       "<g id=\"edge10\" class=\"edge\">\n",
       "<title>8&#45;&gt;10</title>\n",
       "<path fill=\"none\" stroke=\"black\" d=\"M662.3,-418.03C688.11,-404.41 718.96,-388.13 745.49,-374.14\"/>\n",
       "<polygon fill=\"black\" stroke=\"black\" points=\"746.87,-377.36 754.08,-369.6 743.61,-371.17 746.87,-377.36\"/>\n",
       "</g>\n",
       "<!-- 11 -->\n",
       "<g id=\"node12\" class=\"node\">\n",
       "<title>11</title>\n",
       "<path fill=\"#48a5e7\" stroke=\"black\" d=\"M728.89,-269.5C728.89,-269.5 649.89,-269.5 649.89,-269.5 643.89,-269.5 637.89,-263.5 637.89,-257.5 637.89,-257.5 637.89,-210.5 637.89,-210.5 637.89,-204.5 643.89,-198.5 649.89,-198.5 649.89,-198.5 728.89,-198.5 728.89,-198.5 734.89,-198.5 740.89,-204.5 740.89,-210.5 740.89,-210.5 740.89,-257.5 740.89,-257.5 740.89,-263.5 734.89,-269.5 728.89,-269.5\"/>\n",
       "<text text-anchor=\"start\" x=\"645.89\" y=\"-252.2\" font-family=\"Helvetica,sans-Serif\" font-size=\"14.00\">Smoking ≤ 1.5</text>\n",
       "<text text-anchor=\"start\" x=\"657.89\" y=\"-236.45\" font-family=\"Helvetica,sans-Serif\" font-size=\"14.00\">gini = 0.13</text>\n",
       "<text text-anchor=\"start\" x=\"648.52\" y=\"-220.7\" font-family=\"Helvetica,sans-Serif\" font-size=\"14.00\">samples = 28</text>\n",
       "<text text-anchor=\"start\" x=\"646.64\" y=\"-204.95\" font-family=\"Helvetica,sans-Serif\" font-size=\"14.00\">value = [2, 26]</text>\n",
       "</g>\n",
       "<!-- 10&#45;&gt;11 -->\n",
       "<g id=\"edge11\" class=\"edge\">\n",
       "<title>10&#45;&gt;11</title>\n",
       "<path fill=\"none\" stroke=\"black\" d=\"M767.43,-305.04C757.57,-296.18 746.86,-286.57 736.63,-277.39\"/>\n",
       "<polygon fill=\"black\" stroke=\"black\" points=\"739.09,-274.9 729.31,-270.82 734.41,-280.11 739.09,-274.9\"/>\n",
       "</g>\n",
       "<!-- 16 -->\n",
       "<g id=\"node17\" class=\"node\">\n",
       "<title>16</title>\n",
       "<path fill=\"#ffffff\" stroke=\"black\" d=\"M934.39,-261.62C934.39,-261.62 864.39,-261.62 864.39,-261.62 858.39,-261.62 852.39,-255.62 852.39,-249.62 852.39,-249.62 852.39,-218.38 852.39,-218.38 852.39,-212.38 858.39,-206.38 864.39,-206.38 864.39,-206.38 934.39,-206.38 934.39,-206.38 940.39,-206.38 946.39,-212.38 946.39,-218.38 946.39,-218.38 946.39,-249.62 946.39,-249.62 946.39,-255.62 940.39,-261.62 934.39,-261.62\"/>\n",
       "<text text-anchor=\"start\" x=\"871.64\" y=\"-244.32\" font-family=\"Helvetica,sans-Serif\" font-size=\"14.00\">gini = 0.5</text>\n",
       "<text text-anchor=\"start\" x=\"862.27\" y=\"-228.57\" font-family=\"Helvetica,sans-Serif\" font-size=\"14.00\">samples = 8</text>\n",
       "<text text-anchor=\"start\" x=\"860.39\" y=\"-212.82\" font-family=\"Helvetica,sans-Serif\" font-size=\"14.00\">value = [4, 4]</text>\n",
       "</g>\n",
       "<!-- 10&#45;&gt;16 -->\n",
       "<g id=\"edge16\" class=\"edge\">\n",
       "<title>10&#45;&gt;16</title>\n",
       "<path fill=\"none\" stroke=\"black\" d=\"M837.36,-305.04C847.3,-293.82 858.3,-281.39 868.25,-270.16\"/>\n",
       "<polygon fill=\"black\" stroke=\"black\" points=\"870.61,-272.78 874.62,-262.97 865.37,-268.14 870.61,-272.78\"/>\n",
       "</g>\n",
       "<!-- 12 -->\n",
       "<g id=\"node13\" class=\"node\">\n",
       "<title>12</title>\n",
       "<path fill=\"#399de5\" stroke=\"black\" d=\"M583.14,-154.62C583.14,-154.62 505.64,-154.62 505.64,-154.62 499.64,-154.62 493.64,-148.62 493.64,-142.62 493.64,-142.62 493.64,-111.38 493.64,-111.38 493.64,-105.38 499.64,-99.38 505.64,-99.38 505.64,-99.38 583.14,-99.38 583.14,-99.38 589.14,-99.38 595.14,-105.38 595.14,-111.38 595.14,-111.38 595.14,-142.62 595.14,-142.62 595.14,-148.62 589.14,-154.62 583.14,-154.62\"/>\n",
       "<text text-anchor=\"start\" x=\"516.64\" y=\"-137.32\" font-family=\"Helvetica,sans-Serif\" font-size=\"14.00\">gini = 0.0</text>\n",
       "<text text-anchor=\"start\" x=\"503.52\" y=\"-121.58\" font-family=\"Helvetica,sans-Serif\" font-size=\"14.00\">samples = 14</text>\n",
       "<text text-anchor=\"start\" x=\"501.64\" y=\"-105.83\" font-family=\"Helvetica,sans-Serif\" font-size=\"14.00\">value = [0, 14]</text>\n",
       "</g>\n",
       "<!-- 11&#45;&gt;12 -->\n",
       "<g id=\"edge12\" class=\"edge\">\n",
       "<title>11&#45;&gt;12</title>\n",
       "<path fill=\"none\" stroke=\"black\" d=\"M641.11,-198.04C624.86,-186.27 606.77,-173.17 590.67,-161.51\"/>\n",
       "<polygon fill=\"black\" stroke=\"black\" points=\"592.83,-158.76 582.68,-155.73 588.73,-164.43 592.83,-158.76\"/>\n",
       "</g>\n",
       "<!-- 13 -->\n",
       "<g id=\"node14\" class=\"node\">\n",
       "<title>13</title>\n",
       "<path fill=\"#5aade9\" stroke=\"black\" d=\"M832.52,-162.5C832.52,-162.5 730.27,-162.5 730.27,-162.5 724.27,-162.5 718.27,-156.5 718.27,-150.5 718.27,-150.5 718.27,-103.5 718.27,-103.5 718.27,-97.5 724.27,-91.5 730.27,-91.5 730.27,-91.5 832.52,-91.5 832.52,-91.5 838.52,-91.5 844.52,-97.5 844.52,-103.5 844.52,-103.5 844.52,-150.5 844.52,-150.5 844.52,-156.5 838.52,-162.5 832.52,-162.5\"/>\n",
       "<text text-anchor=\"start\" x=\"726.27\" y=\"-145.2\" font-family=\"Helvetica,sans-Serif\" font-size=\"14.00\">P_Education ≤ 1.5</text>\n",
       "<text text-anchor=\"start\" x=\"749.89\" y=\"-129.45\" font-family=\"Helvetica,sans-Serif\" font-size=\"14.00\">gini = 0.24</text>\n",
       "<text text-anchor=\"start\" x=\"740.52\" y=\"-113.7\" font-family=\"Helvetica,sans-Serif\" font-size=\"14.00\">samples = 14</text>\n",
       "<text text-anchor=\"start\" x=\"738.64\" y=\"-97.95\" font-family=\"Helvetica,sans-Serif\" font-size=\"14.00\">value = [2, 12]</text>\n",
       "</g>\n",
       "<!-- 11&#45;&gt;13 -->\n",
       "<g id=\"edge13\" class=\"edge\">\n",
       "<title>11&#45;&gt;13</title>\n",
       "<path fill=\"none\" stroke=\"black\" d=\"M720.03,-198.04C727.55,-189.45 735.7,-180.15 743.52,-171.22\"/>\n",
       "<polygon fill=\"black\" stroke=\"black\" points=\"745.94,-173.78 749.89,-163.95 740.67,-169.16 745.94,-173.78\"/>\n",
       "</g>\n",
       "<!-- 14 -->\n",
       "<g id=\"node15\" class=\"node\">\n",
       "<title>14</title>\n",
       "<path fill=\"#399de5\" stroke=\"black\" d=\"M716.39,-55.62C716.39,-55.62 646.39,-55.62 646.39,-55.62 640.39,-55.62 634.39,-49.62 634.39,-43.62 634.39,-43.62 634.39,-12.38 634.39,-12.38 634.39,-6.38 640.39,-0.38 646.39,-0.38 646.39,-0.38 716.39,-0.38 716.39,-0.38 722.39,-0.38 728.39,-6.38 728.39,-12.38 728.39,-12.38 728.39,-43.62 728.39,-43.62 728.39,-49.62 722.39,-55.62 716.39,-55.62\"/>\n",
       "<text text-anchor=\"start\" x=\"653.64\" y=\"-38.33\" font-family=\"Helvetica,sans-Serif\" font-size=\"14.00\">gini = 0.0</text>\n",
       "<text text-anchor=\"start\" x=\"644.27\" y=\"-22.57\" font-family=\"Helvetica,sans-Serif\" font-size=\"14.00\">samples = 6</text>\n",
       "<text text-anchor=\"start\" x=\"642.39\" y=\"-6.83\" font-family=\"Helvetica,sans-Serif\" font-size=\"14.00\">value = [0, 6]</text>\n",
       "</g>\n",
       "<!-- 13&#45;&gt;14 -->\n",
       "<g id=\"edge14\" class=\"edge\">\n",
       "<title>13&#45;&gt;14</title>\n",
       "<path fill=\"none\" stroke=\"black\" d=\"M745.57,-91.25C736.39,-82.35 726.51,-72.77 717.32,-63.85\"/>\n",
       "<polygon fill=\"black\" stroke=\"black\" points=\"719.82,-61.4 710.21,-56.95 714.95,-66.42 719.82,-61.4\"/>\n",
       "</g>\n",
       "<!-- 15 -->\n",
       "<g id=\"node16\" class=\"node\">\n",
       "<title>15</title>\n",
       "<path fill=\"#7bbeee\" stroke=\"black\" d=\"M916.39,-55.62C916.39,-55.62 846.39,-55.62 846.39,-55.62 840.39,-55.62 834.39,-49.62 834.39,-43.62 834.39,-43.62 834.39,-12.38 834.39,-12.38 834.39,-6.38 840.39,-0.38 846.39,-0.38 846.39,-0.38 916.39,-0.38 916.39,-0.38 922.39,-0.38 928.39,-6.38 928.39,-12.38 928.39,-12.38 928.39,-43.62 928.39,-43.62 928.39,-49.62 922.39,-55.62 916.39,-55.62\"/>\n",
       "<text text-anchor=\"start\" x=\"849.89\" y=\"-38.33\" font-family=\"Helvetica,sans-Serif\" font-size=\"14.00\">gini = 0.38</text>\n",
       "<text text-anchor=\"start\" x=\"844.27\" y=\"-22.57\" font-family=\"Helvetica,sans-Serif\" font-size=\"14.00\">samples = 8</text>\n",
       "<text text-anchor=\"start\" x=\"842.39\" y=\"-6.83\" font-family=\"Helvetica,sans-Serif\" font-size=\"14.00\">value = [2, 6]</text>\n",
       "</g>\n",
       "<!-- 13&#45;&gt;15 -->\n",
       "<g id=\"edge15\" class=\"edge\">\n",
       "<title>13&#45;&gt;15</title>\n",
       "<path fill=\"none\" stroke=\"black\" d=\"M817.21,-91.25C826.39,-82.35 836.27,-72.77 845.46,-63.85\"/>\n",
       "<polygon fill=\"black\" stroke=\"black\" points=\"847.84,-66.42 852.58,-56.95 842.96,-61.4 847.84,-66.42\"/>\n",
       "</g>\n",
       "</g>\n",
       "</svg>\n"
      ],
      "text/plain": [
       "<graphviz.sources.Source at 0x234d36d1890>"
      ]
     },
     "execution_count": 115,
     "metadata": {},
     "output_type": "execute_result"
    }
   ],
   "source": [
    "m = DecisionTreeClassifier(min_samples_leaf=5)\n",
    "m.fit(trn_xs, trn_y)\n",
    "draw_tree(m, trn_xs, size=12)"
   ]
  },
  {
   "cell_type": "code",
   "execution_count": 116,
   "id": "0c8d4558-fca7-4ec3-ae64-498846f70905",
   "metadata": {},
   "outputs": [
    {
     "data": {
      "text/plain": [
       "0.5652173913043478"
      ]
     },
     "execution_count": 116,
     "metadata": {},
     "output_type": "execute_result"
    }
   ],
   "source": [
    "mean_absolute_error(val_y, m.predict(val_xs))"
   ]
  },
  {
   "cell_type": "code",
   "execution_count": 117,
   "id": "5fa6d21b-f77e-4ec7-b80b-ccd74825a6f0",
   "metadata": {},
   "outputs": [],
   "source": [
    "def get_tree(prop=0.75):\n",
    "    n = len(trn_y)\n",
    "    idxs = random.choice(n, int(n*prop))\n",
    "    return DecisionTreeClassifier(min_samples_leaf=5).fit(trn_xs.iloc[idxs], trn_y.iloc[idxs])"
   ]
  },
  {
   "cell_type": "code",
   "execution_count": 118,
   "id": "b28493f1-4289-40d4-84ce-238f6ef8ac7b",
   "metadata": {},
   "outputs": [],
   "source": [
    "trees = [get_tree() for t in range(100)]"
   ]
  },
  {
   "cell_type": "code",
   "execution_count": 119,
   "id": "5ac77970-9711-4eac-89da-0f60aafda9a9",
   "metadata": {},
   "outputs": [
    {
     "data": {
      "text/plain": [
       "0.41130434782608694"
      ]
     },
     "execution_count": 119,
     "metadata": {},
     "output_type": "execute_result"
    }
   ],
   "source": [
    "all_probs = [t.predict(val_xs) for t in trees]\n",
    "avg_probs = np.stack(all_probs).mean(0)\n",
    "\n",
    "mean_absolute_error(val_y, avg_probs)"
   ]
  },
  {
   "cell_type": "code",
   "execution_count": 127,
   "id": "20408820-cc08-4938-8c90-d3071e80e557",
   "metadata": {},
   "outputs": [
    {
     "data": {
      "text/plain": [
       "0.30434782608695654"
      ]
     },
     "execution_count": 127,
     "metadata": {},
     "output_type": "execute_result"
    }
   ],
   "source": [
    "from sklearn.ensemble import RandomForestClassifier\n",
    "\n",
    "rf = RandomForestClassifier(100, min_samples_leaf=5)\n",
    "rf.fit(trn_xs, trn_y);\n",
    "mean_absolute_error(val_y, rf.predict(val_xs))"
   ]
  },
  {
   "cell_type": "code",
   "execution_count": 105,
   "id": "96f550ff-4e11-4123-ac88-ef9adcb9873a",
   "metadata": {},
   "outputs": [
    {
     "data": {
      "image/png": "[encoded data removed]",
      "text/plain": [
       "<Figure size 640x480 with 1 Axes>"
      ]
     },
     "metadata": {},
     "output_type": "display_data"
    }
   ],
   "source": [
    "pd.DataFrame(dict(cols=trn_xs.columns, imp=m.feature_importances_)).plot('cols', 'imp', 'barh');"
   ]
  },
  {
   "cell_type": "code",
   "execution_count": 128,
   "id": "5ce36761-0911-445d-8b90-0783a8932f05",
   "metadata": {},
   "outputs": [
    {
     "data": {
      "image/png": "[encoded data removed]",
      "text/plain": [
       "<Figure size 640x480 with 1 Axes>"
      ]
     },
     "metadata": {},
     "output_type": "display_data"
    }
   ],
   "source": [
    "pd.DataFrame(dict(cols=trn_xs.columns, imp=m.feature_importances_)).plot('cols', 'imp', 'barh');"
   ]
  },
  {
   "cell_type": "markdown",
   "id": "81f52001-c441-45c3-b039-1880c022ac22",
   "metadata": {},
   "source": [
    "# Trying to see IPV vs Depression"
   ]
  },
  {
   "cell_type": "code",
   "execution_count": 106,
   "id": "d25b1224-0d03-4718-b245-25ee12d74eb8",
   "metadata": {},
   "outputs": [
    {
     "data": {
      "image/png": "[encoded data removed]",
      "text/plain": [
       "<Figure size 1100x500 with 2 Axes>"
      ]
     },
     "metadata": {},
     "output_type": "display_data"
    }
   ],
   "source": [
    "import seaborn as sns\n",
    "\n",
    "fig,axs = plt.subplots(1,2, figsize=(11,5))\n",
    "sns.barplot(data=df, y=dep, x=\"IPV\", ax=axs[0]).set(title=\"Depression rate\")\n",
    "sns.countplot(data=df, x=\"IPV\", ax=axs[1]).set(title=\"Histogram\");"
   ]
  },
  {
   "cell_type": "code",
   "execution_count": 129,
   "id": "125168ea-42f1-48da-ac49-f26fa0ef1a64",
   "metadata": {},
   "outputs": [
    {
     "data": {
      "image/png": "[encoded data removed]",
      "text/plain": [
       "<Figure size 1100x500 with 2 Axes>"
      ]
     },
     "metadata": {},
     "output_type": "display_data"
    }
   ],
   "source": [
    "fig,axs = plt.subplots(1,2, figsize=(11,5))\n",
    "sns.barplot(data=df, y=dep, x=\"PPTSD\", ax=axs[0]).set(title=\"Depression rate\")\n",
    "sns.countplot(data=df, x=\"PPTSD\", ax=axs[1]).set(title=\"Histogram\");"
   ]
  },
  {
   "cell_type": "code",
   "execution_count": 108,
   "id": "93db453f-8278-45e4-9a84-20faab9569f9",
   "metadata": {},
   "outputs": [
    {
     "data": {
      "image/png": "[encoded data removed]",
      "text/plain": [
       "<Figure size 1100x500 with 2 Axes>"
      ]
     },
     "metadata": {},
     "output_type": "display_data"
    }
   ],
   "source": [
    "fig,axs = plt.subplots(1,2, figsize=(11,5))\n",
    "sns.barplot(data=df, y=dep, x=\"Panxiety\", ax=axs[0]).set(title=\"Depression rate\")\n",
    "sns.countplot(data=df, x=\"Panxiety\", ax=axs[1]).set(title=\"Histogram\");"
   ]
  },
  {
   "cell_type": "code",
   "execution_count": null,
   "id": "0ed9f077-c894-47f1-b0e5-833ce7b6ecc0",
   "metadata": {},
   "outputs": [],
   "source": []
  }
 ],
 "metadata": {
  "kernelspec": {
   "display_name": "Python 3 (ipykernel)",
   "language": "python",
   "name": "python3"
  },
  "language_info": {
   "codemirror_mode": {
    "name": "ipython",
    "version": 3
   },
   "file_extension": ".py",
   "mimetype": "text/x-python",
   "name": "python",
   "nbconvert_exporter": "python",
   "pygments_lexer": "ipython3",
   "version": "3.11.9"
  }
 },
 "nbformat": 4,
 "nbformat_minor": 5
}
