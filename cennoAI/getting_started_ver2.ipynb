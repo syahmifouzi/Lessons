{
 "cells": [
  {
   "cell_type": "code",
   "execution_count": 2,
   "id": "8a2b284f-a1f2-4e90-841f-dd9d2a6e7d27",
   "metadata": {},
   "outputs": [],
   "source": [
    "from fastai.imports import *"
   ]
  },
  {
   "cell_type": "code",
   "execution_count": 3,
   "id": "cf231828-41d1-425c-980a-4074da68937a",
   "metadata": {},
   "outputs": [
    {
     "data": {
      "text/html": [
       "<div>\n",
       "<style scoped>\n",
       "    .dataframe tbody tr th:only-of-type {\n",
       "        vertical-align: middle;\n",
       "    }\n",
       "\n",
       "    .dataframe tbody tr th {\n",
       "        vertical-align: top;\n",
       "    }\n",
       "\n",
       "    .dataframe thead th {\n",
       "        text-align: right;\n",
       "    }\n",
       "</style>\n",
       "<table border=\"1\" class=\"dataframe\">\n",
       "  <thead>\n",
       "    <tr style=\"text-align: right;\">\n",
       "      <th></th>\n",
       "      <th>ID</th>\n",
       "      <th>Home</th>\n",
       "      <th>Age</th>\n",
       "      <th>Religion</th>\n",
       "      <th>Ethnicity</th>\n",
       "      <th>Education</th>\n",
       "      <th>Occupation</th>\n",
       "      <th>Income</th>\n",
       "      <th>Marital</th>\n",
       "      <th>Smoke</th>\n",
       "      <th>...</th>\n",
       "      <th>filter_$</th>\n",
       "      <th>religionnew</th>\n",
       "      <th>ethnicitynew</th>\n",
       "      <th>incomenew</th>\n",
       "      <th>maritalnew</th>\n",
       "      <th>educationnew</th>\n",
       "      <th>occupationnew</th>\n",
       "      <th>smokenew</th>\n",
       "      <th>alcoholnew</th>\n",
       "      <th>partnernew</th>\n",
       "    </tr>\n",
       "  </thead>\n",
       "  <tbody>\n",
       "    <tr>\n",
       "      <th>0</th>\n",
       "      <td>7</td>\n",
       "      <td>1</td>\n",
       "      <td>17</td>\n",
       "      <td>3</td>\n",
       "      <td>3</td>\n",
       "      <td>2</td>\n",
       "      <td>4</td>\n",
       "      <td>1</td>\n",
       "      <td>1</td>\n",
       "      <td>3</td>\n",
       "      <td>...</td>\n",
       "      <td>0</td>\n",
       "      <td>0</td>\n",
       "      <td>0</td>\n",
       "      <td>1</td>\n",
       "      <td>1</td>\n",
       "      <td>1</td>\n",
       "      <td>3</td>\n",
       "      <td>0</td>\n",
       "      <td>0</td>\n",
       "      <td>0</td>\n",
       "    </tr>\n",
       "    <tr>\n",
       "      <th>1</th>\n",
       "      <td>9</td>\n",
       "      <td>1</td>\n",
       "      <td>15</td>\n",
       "      <td>1</td>\n",
       "      <td>5</td>\n",
       "      <td>1</td>\n",
       "      <td>4</td>\n",
       "      <td>1</td>\n",
       "      <td>1</td>\n",
       "      <td>3</td>\n",
       "      <td>...</td>\n",
       "      <td>0</td>\n",
       "      <td>1</td>\n",
       "      <td>0</td>\n",
       "      <td>1</td>\n",
       "      <td>1</td>\n",
       "      <td>0</td>\n",
       "      <td>3</td>\n",
       "      <td>0</td>\n",
       "      <td>0</td>\n",
       "      <td>0</td>\n",
       "    </tr>\n",
       "    <tr>\n",
       "      <th>2</th>\n",
       "      <td>11</td>\n",
       "      <td>1</td>\n",
       "      <td>14</td>\n",
       "      <td>1</td>\n",
       "      <td>1</td>\n",
       "      <td>1</td>\n",
       "      <td>2</td>\n",
       "      <td>1</td>\n",
       "      <td>1</td>\n",
       "      <td>3</td>\n",
       "      <td>...</td>\n",
       "      <td>0</td>\n",
       "      <td>1</td>\n",
       "      <td>1</td>\n",
       "      <td>1</td>\n",
       "      <td>1</td>\n",
       "      <td>0</td>\n",
       "      <td>1</td>\n",
       "      <td>0</td>\n",
       "      <td>0</td>\n",
       "      <td>0</td>\n",
       "    </tr>\n",
       "    <tr>\n",
       "      <th>3</th>\n",
       "      <td>15</td>\n",
       "      <td>1</td>\n",
       "      <td>15</td>\n",
       "      <td>1</td>\n",
       "      <td>1</td>\n",
       "      <td>2</td>\n",
       "      <td>4</td>\n",
       "      <td>1</td>\n",
       "      <td>1</td>\n",
       "      <td>3</td>\n",
       "      <td>...</td>\n",
       "      <td>0</td>\n",
       "      <td>1</td>\n",
       "      <td>1</td>\n",
       "      <td>1</td>\n",
       "      <td>1</td>\n",
       "      <td>1</td>\n",
       "      <td>3</td>\n",
       "      <td>0</td>\n",
       "      <td>0</td>\n",
       "      <td>0</td>\n",
       "    </tr>\n",
       "    <tr>\n",
       "      <th>4</th>\n",
       "      <td>43</td>\n",
       "      <td>1</td>\n",
       "      <td>17</td>\n",
       "      <td>1</td>\n",
       "      <td>1</td>\n",
       "      <td>2</td>\n",
       "      <td>4</td>\n",
       "      <td>1</td>\n",
       "      <td>1</td>\n",
       "      <td>3</td>\n",
       "      <td>...</td>\n",
       "      <td>0</td>\n",
       "      <td>1</td>\n",
       "      <td>1</td>\n",
       "      <td>1</td>\n",
       "      <td>1</td>\n",
       "      <td>1</td>\n",
       "      <td>3</td>\n",
       "      <td>0</td>\n",
       "      <td>0</td>\n",
       "      <td>0</td>\n",
       "    </tr>\n",
       "  </tbody>\n",
       "</table>\n",
       "<p>5 rows × 147 columns</p>\n",
       "</div>"
      ],
      "text/plain": [
       "   ID  Home  Age  Religion  Ethnicity  Education  Occupation  Income  Marital  \\\n",
       "0   7     1   17         3          3          2           4       1        1   \n",
       "1   9     1   15         1          5          1           4       1        1   \n",
       "2  11     1   14         1          1          1           2       1        1   \n",
       "3  15     1   15         1          1          2           4       1        1   \n",
       "4  43     1   17         1          1          2           4       1        1   \n",
       "\n",
       "   Smoke  ...  filter_$  religionnew  ethnicitynew incomenew  maritalnew  \\\n",
       "0      3  ...         0            0             0         1           1   \n",
       "1      3  ...         0            1             0         1           1   \n",
       "2      3  ...         0            1             1         1           1   \n",
       "3      3  ...         0            1             1         1           1   \n",
       "4      3  ...         0            1             1         1           1   \n",
       "\n",
       "   educationnew  occupationnew  smokenew  alcoholnew  partnernew  \n",
       "0             1              3         0           0           0  \n",
       "1             0              3         0           0           0  \n",
       "2             0              1         0           0           0  \n",
       "3             1              3         0           0           0  \n",
       "4             1              3         0           0           0  \n",
       "\n",
       "[5 rows x 147 columns]"
      ]
     },
     "execution_count": 3,
     "metadata": {},
     "output_type": "execute_result"
    }
   ],
   "source": [
    "df = pd.read_csv('./references/09 data clean.csv')\n",
    "df.head()"
   ]
  },
  {
   "cell_type": "code",
   "execution_count": 4,
   "id": "43827d8a-fd7c-4273-92fc-11154a4a6e93",
   "metadata": {},
   "outputs": [
    {
     "data": {
      "text/html": [
       "<div>\n",
       "<style scoped>\n",
       "    .dataframe tbody tr th:only-of-type {\n",
       "        vertical-align: middle;\n",
       "    }\n",
       "\n",
       "    .dataframe tbody tr th {\n",
       "        vertical-align: top;\n",
       "    }\n",
       "\n",
       "    .dataframe thead th {\n",
       "        text-align: right;\n",
       "    }\n",
       "</style>\n",
       "<table border=\"1\" class=\"dataframe\">\n",
       "  <thead>\n",
       "    <tr style=\"text-align: right;\">\n",
       "      <th></th>\n",
       "      <th>ID</th>\n",
       "      <th>Home</th>\n",
       "      <th>Age</th>\n",
       "      <th>Religion</th>\n",
       "      <th>Ethnicity</th>\n",
       "      <th>Education</th>\n",
       "      <th>Occupation</th>\n",
       "      <th>Income</th>\n",
       "      <th>Marital</th>\n",
       "      <th>Smoke</th>\n",
       "      <th>Smoking</th>\n",
       "      <th>Alcohol</th>\n",
       "      <th>Partner</th>\n",
       "      <th>P_Age</th>\n",
       "      <th>P_Education</th>\n",
       "      <th>P_Occupation</th>\n",
       "      <th>P_Alcohol</th>\n",
       "      <th>P_Drugs</th>\n",
       "      <th>P_Fights</th>\n",
       "      <th>P_Women</th>\n",
       "      <th>P_Child</th>\n",
       "      <th>SectionCQ1</th>\n",
       "      <th>SectionCQ2</th>\n",
       "      <th>SectionCQ3</th>\n",
       "      <th>SectionCQ4</th>\n",
       "      <th>SectionCQ5</th>\n",
       "      <th>SectionCQ6</th>\n",
       "      <th>SectionCQ7</th>\n",
       "      <th>SectionCQ8</th>\n",
       "      <th>SectionCQ9</th>\n",
       "      <th>SectionCQ10</th>\n",
       "      <th>SectionCQ11</th>\n",
       "      <th>SectionCQ12</th>\n",
       "      <th>SectionCQ13</th>\n",
       "      <th>SectionCQ14</th>\n",
       "      <th>SectionCQ15</th>\n",
       "      <th>SectionCQ16</th>\n",
       "      <th>SectionCQ17</th>\n",
       "      <th>SectionCQ18</th>\n",
       "      <th>SectionCQ19</th>\n",
       "      <th>SectionCQ20</th>\n",
       "      <th>SectionCQ21</th>\n",
       "      <th>SectionCQ22</th>\n",
       "      <th>SectionCQ23</th>\n",
       "      <th>SectionCQ24</th>\n",
       "      <th>SectionCQ25</th>\n",
       "      <th>SectionCQ26</th>\n",
       "      <th>SectionCQ27</th>\n",
       "      <th>SectionCQ28</th>\n",
       "      <th>SectionCQ29</th>\n",
       "      <th>SectionCQ30</th>\n",
       "      <th>SectionCQ31</th>\n",
       "      <th>SectionCQ32</th>\n",
       "      <th>SectionCQ33</th>\n",
       "      <th>SectionCQ34</th>\n",
       "      <th>SectionCQ35</th>\n",
       "      <th>SectionCQ36</th>\n",
       "      <th>SectionCQ37</th>\n",
       "      <th>SectionCQ38</th>\n",
       "      <th>SectionCQ39</th>\n",
       "      <th>SectionCQ40</th>\n",
       "      <th>SectionCQ41</th>\n",
       "      <th>SectionCQ42</th>\n",
       "      <th>SectionCQ43</th>\n",
       "      <th>SectionCQ44</th>\n",
       "      <th>SectionDQ1</th>\n",
       "      <th>SectionDQ1a</th>\n",
       "      <th>SectionDQ2</th>\n",
       "      <th>SectionDQ2a</th>\n",
       "      <th>SectionDQ3</th>\n",
       "      <th>SectionDQ3a</th>\n",
       "      <th>SectionDQ4</th>\n",
       "      <th>SectionDQ5</th>\n",
       "      <th>PHQ1</th>\n",
       "      <th>PHQ2</th>\n",
       "      <th>PHQ3</th>\n",
       "      <th>PHQ4</th>\n",
       "      <th>PHQ5</th>\n",
       "      <th>PHQ6</th>\n",
       "      <th>PHQ7</th>\n",
       "      <th>PHQ8</th>\n",
       "      <th>PHQ9</th>\n",
       "      <th>PHQ10</th>\n",
       "      <th>TPHQ</th>\n",
       "      <th>LDEPRESSION</th>\n",
       "      <th>PDEPRESSION</th>\n",
       "      <th>GAD1</th>\n",
       "      <th>GAD2</th>\n",
       "      <th>GAD3</th>\n",
       "      <th>GAD4</th>\n",
       "      <th>GAD5</th>\n",
       "      <th>GAD6</th>\n",
       "      <th>GAD7</th>\n",
       "      <th>TANXIETY</th>\n",
       "      <th>Lanxiety</th>\n",
       "      <th>Panxiety</th>\n",
       "      <th>PCL1</th>\n",
       "      <th>PCL2</th>\n",
       "      <th>PCL3</th>\n",
       "      <th>PCL4</th>\n",
       "      <th>PCL5</th>\n",
       "      <th>PCL6</th>\n",
       "      <th>PCL7</th>\n",
       "      <th>PCL8</th>\n",
       "      <th>PCL9</th>\n",
       "      <th>PCL10</th>\n",
       "      <th>PCL11</th>\n",
       "      <th>PCL12</th>\n",
       "      <th>PCL13</th>\n",
       "      <th>PCL14</th>\n",
       "      <th>PCL15</th>\n",
       "      <th>PCL16</th>\n",
       "      <th>PCL17</th>\n",
       "      <th>PCL18</th>\n",
       "      <th>PCL19</th>\n",
       "      <th>PCL20</th>\n",
       "      <th>TPCL</th>\n",
       "      <th>PPTSD</th>\n",
       "      <th>MINI1</th>\n",
       "      <th>MINI1a</th>\n",
       "      <th>MINI2</th>\n",
       "      <th>MINI2a</th>\n",
       "      <th>MINI3</th>\n",
       "      <th>MINI4</th>\n",
       "      <th>MINI5</th>\n",
       "      <th>MINI6</th>\n",
       "      <th>MINI7</th>\n",
       "      <th>MINI8</th>\n",
       "      <th>MINI9</th>\n",
       "      <th>MINI10</th>\n",
       "      <th>MINI11</th>\n",
       "      <th>MINIdepression</th>\n",
       "      <th>EV</th>\n",
       "      <th>CB</th>\n",
       "      <th>PV</th>\n",
       "      <th>SV</th>\n",
       "      <th>IPV</th>\n",
       "      <th>filter_$</th>\n",
       "      <th>religionnew</th>\n",
       "      <th>ethnicitynew</th>\n",
       "      <th>incomenew</th>\n",
       "      <th>maritalnew</th>\n",
       "      <th>educationnew</th>\n",
       "      <th>occupationnew</th>\n",
       "      <th>smokenew</th>\n",
       "      <th>alcoholnew</th>\n",
       "      <th>partnernew</th>\n",
       "    </tr>\n",
       "  </thead>\n",
       "  <tbody>\n",
       "    <tr>\n",
       "      <th>0</th>\n",
       "      <td>7</td>\n",
       "      <td>1</td>\n",
       "      <td>17</td>\n",
       "      <td>3</td>\n",
       "      <td>3</td>\n",
       "      <td>2</td>\n",
       "      <td>4</td>\n",
       "      <td>1</td>\n",
       "      <td>1</td>\n",
       "      <td>3</td>\n",
       "      <td>3</td>\n",
       "      <td>7</td>\n",
       "      <td>1</td>\n",
       "      <td></td>\n",
       "      <td>6</td>\n",
       "      <td>6</td>\n",
       "      <td>7</td>\n",
       "      <td>7</td>\n",
       "      <td>4</td>\n",
       "      <td>5</td>\n",
       "      <td>6</td>\n",
       "      <td>2</td>\n",
       "      <td>2</td>\n",
       "      <td>2</td>\n",
       "      <td>2</td>\n",
       "      <td>1</td>\n",
       "      <td>2</td>\n",
       "      <td>2</td>\n",
       "      <td>2</td>\n",
       "      <td>2</td>\n",
       "      <td>2</td>\n",
       "      <td>2</td>\n",
       "      <td>2</td>\n",
       "      <td>2</td>\n",
       "      <td>3</td>\n",
       "      <td>2</td>\n",
       "      <td>3</td>\n",
       "      <td>2</td>\n",
       "      <td>3</td>\n",
       "      <td>2</td>\n",
       "      <td>3</td>\n",
       "      <td>2</td>\n",
       "      <td>3</td>\n",
       "      <td>2</td>\n",
       "      <td>3</td>\n",
       "      <td>2</td>\n",
       "      <td>3</td>\n",
       "      <td>2</td>\n",
       "      <td>3</td>\n",
       "      <td>2</td>\n",
       "      <td>3</td>\n",
       "      <td>2</td>\n",
       "      <td>3</td>\n",
       "      <td>2</td>\n",
       "      <td>3</td>\n",
       "      <td>2</td>\n",
       "      <td>3</td>\n",
       "      <td>2</td>\n",
       "      <td>3</td>\n",
       "      <td>3</td>\n",
       "      <td>4</td>\n",
       "      <td>4</td>\n",
       "      <td>4</td>\n",
       "      <td>4</td>\n",
       "      <td>5</td>\n",
       "      <td>1</td>\n",
       "      <td>1</td>\n",
       "      <td>1</td>\n",
       "      <td>1</td>\n",
       "      <td>1</td>\n",
       "      <td>1</td>\n",
       "      <td>2</td>\n",
       "      <td>1</td>\n",
       "      <td>0</td>\n",
       "      <td>3</td>\n",
       "      <td>3</td>\n",
       "      <td>2</td>\n",
       "      <td>0</td>\n",
       "      <td>3</td>\n",
       "      <td>1</td>\n",
       "      <td>1</td>\n",
       "      <td>3</td>\n",
       "      <td>1</td>\n",
       "      <td>16</td>\n",
       "      <td>4</td>\n",
       "      <td>0</td>\n",
       "      <td>3</td>\n",
       "      <td>3</td>\n",
       "      <td>3</td>\n",
       "      <td>3</td>\n",
       "      <td>1</td>\n",
       "      <td>2</td>\n",
       "      <td>2</td>\n",
       "      <td>17</td>\n",
       "      <td>4</td>\n",
       "      <td>1</td>\n",
       "      <td>3</td>\n",
       "      <td>2</td>\n",
       "      <td>3</td>\n",
       "      <td>3</td>\n",
       "      <td>3</td>\n",
       "      <td>1</td>\n",
       "      <td>2</td>\n",
       "      <td>3</td>\n",
       "      <td>1</td>\n",
       "      <td>2</td>\n",
       "      <td>3</td>\n",
       "      <td>3</td>\n",
       "      <td>1</td>\n",
       "      <td>3</td>\n",
       "      <td>2</td>\n",
       "      <td>1</td>\n",
       "      <td>1</td>\n",
       "      <td>3</td>\n",
       "      <td>1</td>\n",
       "      <td>1</td>\n",
       "      <td>42</td>\n",
       "      <td>1</td>\n",
       "      <td>1</td>\n",
       "      <td>1</td>\n",
       "      <td>1</td>\n",
       "      <td>1</td>\n",
       "      <td>2</td>\n",
       "      <td>2</td>\n",
       "      <td>2</td>\n",
       "      <td>2</td>\n",
       "      <td>2</td>\n",
       "      <td>1</td>\n",
       "      <td>2</td>\n",
       "      <td>2</td>\n",
       "      <td>1</td>\n",
       "      <td>0</td>\n",
       "      <td>0</td>\n",
       "      <td>0</td>\n",
       "      <td>0</td>\n",
       "      <td>0</td>\n",
       "      <td>0</td>\n",
       "      <td>0</td>\n",
       "      <td>0</td>\n",
       "      <td>0</td>\n",
       "      <td>1</td>\n",
       "      <td>1</td>\n",
       "      <td>1</td>\n",
       "      <td>3</td>\n",
       "      <td>0</td>\n",
       "      <td>0</td>\n",
       "      <td>0</td>\n",
       "    </tr>\n",
       "    <tr>\n",
       "      <th>1</th>\n",
       "      <td>9</td>\n",
       "      <td>1</td>\n",
       "      <td>15</td>\n",
       "      <td>1</td>\n",
       "      <td>5</td>\n",
       "      <td>1</td>\n",
       "      <td>4</td>\n",
       "      <td>1</td>\n",
       "      <td>1</td>\n",
       "      <td>3</td>\n",
       "      <td>3</td>\n",
       "      <td>7</td>\n",
       "      <td>4</td>\n",
       "      <td></td>\n",
       "      <td>6</td>\n",
       "      <td>6</td>\n",
       "      <td>7</td>\n",
       "      <td>7</td>\n",
       "      <td>4</td>\n",
       "      <td>5</td>\n",
       "      <td>6</td>\n",
       "      <td>2</td>\n",
       "      <td>2</td>\n",
       "      <td>2</td>\n",
       "      <td>2</td>\n",
       "      <td>1</td>\n",
       "      <td>2</td>\n",
       "      <td>2</td>\n",
       "      <td>2</td>\n",
       "      <td>2</td>\n",
       "      <td>2</td>\n",
       "      <td>2</td>\n",
       "      <td>2</td>\n",
       "      <td>2</td>\n",
       "      <td>3</td>\n",
       "      <td>2</td>\n",
       "      <td>3</td>\n",
       "      <td>2</td>\n",
       "      <td>3</td>\n",
       "      <td>2</td>\n",
       "      <td>3</td>\n",
       "      <td>2</td>\n",
       "      <td>3</td>\n",
       "      <td>2</td>\n",
       "      <td>3</td>\n",
       "      <td>2</td>\n",
       "      <td>3</td>\n",
       "      <td>2</td>\n",
       "      <td>3</td>\n",
       "      <td>2</td>\n",
       "      <td>3</td>\n",
       "      <td>2</td>\n",
       "      <td>3</td>\n",
       "      <td>2</td>\n",
       "      <td>3</td>\n",
       "      <td>2</td>\n",
       "      <td>3</td>\n",
       "      <td>2</td>\n",
       "      <td>3</td>\n",
       "      <td>3</td>\n",
       "      <td>4</td>\n",
       "      <td>4</td>\n",
       "      <td>4</td>\n",
       "      <td>4</td>\n",
       "      <td>5</td>\n",
       "      <td>2</td>\n",
       "      <td></td>\n",
       "      <td>1</td>\n",
       "      <td>89</td>\n",
       "      <td>2</td>\n",
       "      <td></td>\n",
       "      <td>2</td>\n",
       "      <td>1</td>\n",
       "      <td>1</td>\n",
       "      <td>3</td>\n",
       "      <td>0</td>\n",
       "      <td>3</td>\n",
       "      <td>2</td>\n",
       "      <td>3</td>\n",
       "      <td>2</td>\n",
       "      <td>2</td>\n",
       "      <td>1</td>\n",
       "      <td>3</td>\n",
       "      <td>17</td>\n",
       "      <td>4</td>\n",
       "      <td>0</td>\n",
       "      <td>1</td>\n",
       "      <td>0</td>\n",
       "      <td>3</td>\n",
       "      <td>1</td>\n",
       "      <td>0</td>\n",
       "      <td>2</td>\n",
       "      <td>1</td>\n",
       "      <td>8</td>\n",
       "      <td>2</td>\n",
       "      <td>0</td>\n",
       "      <td>4</td>\n",
       "      <td>0</td>\n",
       "      <td>3</td>\n",
       "      <td>4</td>\n",
       "      <td>1</td>\n",
       "      <td>4</td>\n",
       "      <td>0</td>\n",
       "      <td>0</td>\n",
       "      <td>4</td>\n",
       "      <td>0</td>\n",
       "      <td>4</td>\n",
       "      <td>2</td>\n",
       "      <td>4</td>\n",
       "      <td>2</td>\n",
       "      <td>4</td>\n",
       "      <td>0</td>\n",
       "      <td>2</td>\n",
       "      <td>0</td>\n",
       "      <td>2</td>\n",
       "      <td>4</td>\n",
       "      <td>44</td>\n",
       "      <td>1</td>\n",
       "      <td>2</td>\n",
       "      <td></td>\n",
       "      <td>2</td>\n",
       "      <td></td>\n",
       "      <td></td>\n",
       "      <td></td>\n",
       "      <td></td>\n",
       "      <td></td>\n",
       "      <td></td>\n",
       "      <td></td>\n",
       "      <td></td>\n",
       "      <td></td>\n",
       "      <td></td>\n",
       "      <td>0</td>\n",
       "      <td>0</td>\n",
       "      <td>0</td>\n",
       "      <td>0</td>\n",
       "      <td>0</td>\n",
       "      <td>0</td>\n",
       "      <td>0</td>\n",
       "      <td>1</td>\n",
       "      <td>0</td>\n",
       "      <td>1</td>\n",
       "      <td>1</td>\n",
       "      <td>0</td>\n",
       "      <td>3</td>\n",
       "      <td>0</td>\n",
       "      <td>0</td>\n",
       "      <td>0</td>\n",
       "    </tr>\n",
       "    <tr>\n",
       "      <th>2</th>\n",
       "      <td>11</td>\n",
       "      <td>1</td>\n",
       "      <td>14</td>\n",
       "      <td>1</td>\n",
       "      <td>1</td>\n",
       "      <td>1</td>\n",
       "      <td>2</td>\n",
       "      <td>1</td>\n",
       "      <td>1</td>\n",
       "      <td>3</td>\n",
       "      <td>3</td>\n",
       "      <td>7</td>\n",
       "      <td>2</td>\n",
       "      <td></td>\n",
       "      <td>6</td>\n",
       "      <td>6</td>\n",
       "      <td>7</td>\n",
       "      <td>7</td>\n",
       "      <td>4</td>\n",
       "      <td>5</td>\n",
       "      <td>6</td>\n",
       "      <td>2</td>\n",
       "      <td>2</td>\n",
       "      <td>2</td>\n",
       "      <td>2</td>\n",
       "      <td>1</td>\n",
       "      <td>2</td>\n",
       "      <td>2</td>\n",
       "      <td>2</td>\n",
       "      <td>2</td>\n",
       "      <td>2</td>\n",
       "      <td>2</td>\n",
       "      <td>2</td>\n",
       "      <td>2</td>\n",
       "      <td>3</td>\n",
       "      <td>2</td>\n",
       "      <td>3</td>\n",
       "      <td>2</td>\n",
       "      <td>3</td>\n",
       "      <td>2</td>\n",
       "      <td>3</td>\n",
       "      <td>2</td>\n",
       "      <td>3</td>\n",
       "      <td>2</td>\n",
       "      <td>3</td>\n",
       "      <td>2</td>\n",
       "      <td>3</td>\n",
       "      <td>2</td>\n",
       "      <td>3</td>\n",
       "      <td>2</td>\n",
       "      <td>3</td>\n",
       "      <td>2</td>\n",
       "      <td>3</td>\n",
       "      <td>2</td>\n",
       "      <td>3</td>\n",
       "      <td>2</td>\n",
       "      <td>3</td>\n",
       "      <td>2</td>\n",
       "      <td>3</td>\n",
       "      <td>3</td>\n",
       "      <td>4</td>\n",
       "      <td>4</td>\n",
       "      <td>4</td>\n",
       "      <td>4</td>\n",
       "      <td>5</td>\n",
       "      <td>1</td>\n",
       "      <td>1</td>\n",
       "      <td>1</td>\n",
       "      <td>1</td>\n",
       "      <td>1</td>\n",
       "      <td>1</td>\n",
       "      <td>1</td>\n",
       "      <td>1</td>\n",
       "      <td>3</td>\n",
       "      <td>3</td>\n",
       "      <td>3</td>\n",
       "      <td>3</td>\n",
       "      <td>3</td>\n",
       "      <td>3</td>\n",
       "      <td>3</td>\n",
       "      <td>3</td>\n",
       "      <td>3</td>\n",
       "      <td>3</td>\n",
       "      <td>27</td>\n",
       "      <td>5</td>\n",
       "      <td>1</td>\n",
       "      <td>3</td>\n",
       "      <td>3</td>\n",
       "      <td>3</td>\n",
       "      <td>3</td>\n",
       "      <td>3</td>\n",
       "      <td>2</td>\n",
       "      <td>3</td>\n",
       "      <td>20</td>\n",
       "      <td>4</td>\n",
       "      <td>1</td>\n",
       "      <td>4</td>\n",
       "      <td>4</td>\n",
       "      <td>4</td>\n",
       "      <td>4</td>\n",
       "      <td>4</td>\n",
       "      <td>4</td>\n",
       "      <td>4</td>\n",
       "      <td>4</td>\n",
       "      <td>4</td>\n",
       "      <td>4</td>\n",
       "      <td>4</td>\n",
       "      <td>4</td>\n",
       "      <td>4</td>\n",
       "      <td>4</td>\n",
       "      <td>4</td>\n",
       "      <td>4</td>\n",
       "      <td>4</td>\n",
       "      <td>4</td>\n",
       "      <td>4</td>\n",
       "      <td>4</td>\n",
       "      <td>80</td>\n",
       "      <td>1</td>\n",
       "      <td>1</td>\n",
       "      <td>1</td>\n",
       "      <td>1</td>\n",
       "      <td>1</td>\n",
       "      <td>2</td>\n",
       "      <td>2</td>\n",
       "      <td>1</td>\n",
       "      <td>1</td>\n",
       "      <td>1</td>\n",
       "      <td>1</td>\n",
       "      <td>1</td>\n",
       "      <td>1</td>\n",
       "      <td>1</td>\n",
       "      <td>1</td>\n",
       "      <td>0</td>\n",
       "      <td>0</td>\n",
       "      <td>0</td>\n",
       "      <td>0</td>\n",
       "      <td>0</td>\n",
       "      <td>0</td>\n",
       "      <td>1</td>\n",
       "      <td>1</td>\n",
       "      <td>1</td>\n",
       "      <td>1</td>\n",
       "      <td>0</td>\n",
       "      <td>1</td>\n",
       "      <td>0</td>\n",
       "      <td>0</td>\n",
       "      <td>0</td>\n",
       "    </tr>\n",
       "    <tr>\n",
       "      <th>3</th>\n",
       "      <td>15</td>\n",
       "      <td>1</td>\n",
       "      <td>15</td>\n",
       "      <td>1</td>\n",
       "      <td>1</td>\n",
       "      <td>2</td>\n",
       "      <td>4</td>\n",
       "      <td>1</td>\n",
       "      <td>1</td>\n",
       "      <td>3</td>\n",
       "      <td>3</td>\n",
       "      <td>7</td>\n",
       "      <td>1</td>\n",
       "      <td></td>\n",
       "      <td>6</td>\n",
       "      <td>6</td>\n",
       "      <td>7</td>\n",
       "      <td>7</td>\n",
       "      <td>4</td>\n",
       "      <td>5</td>\n",
       "      <td>6</td>\n",
       "      <td>2</td>\n",
       "      <td>2</td>\n",
       "      <td>2</td>\n",
       "      <td>2</td>\n",
       "      <td>1</td>\n",
       "      <td>2</td>\n",
       "      <td>2</td>\n",
       "      <td>2</td>\n",
       "      <td>2</td>\n",
       "      <td>2</td>\n",
       "      <td>2</td>\n",
       "      <td>2</td>\n",
       "      <td>2</td>\n",
       "      <td>3</td>\n",
       "      <td>2</td>\n",
       "      <td>3</td>\n",
       "      <td>2</td>\n",
       "      <td>3</td>\n",
       "      <td>2</td>\n",
       "      <td>3</td>\n",
       "      <td>2</td>\n",
       "      <td>3</td>\n",
       "      <td>2</td>\n",
       "      <td>3</td>\n",
       "      <td>2</td>\n",
       "      <td>3</td>\n",
       "      <td>2</td>\n",
       "      <td>3</td>\n",
       "      <td>2</td>\n",
       "      <td>3</td>\n",
       "      <td>2</td>\n",
       "      <td>3</td>\n",
       "      <td>2</td>\n",
       "      <td>3</td>\n",
       "      <td>2</td>\n",
       "      <td>3</td>\n",
       "      <td>2</td>\n",
       "      <td>3</td>\n",
       "      <td>3</td>\n",
       "      <td>4</td>\n",
       "      <td>4</td>\n",
       "      <td>4</td>\n",
       "      <td>4</td>\n",
       "      <td>5</td>\n",
       "      <td>1</td>\n",
       "      <td>34</td>\n",
       "      <td>1</td>\n",
       "      <td>13</td>\n",
       "      <td>1</td>\n",
       "      <td>13</td>\n",
       "      <td>4</td>\n",
       "      <td>2</td>\n",
       "      <td>0</td>\n",
       "      <td>0</td>\n",
       "      <td>1</td>\n",
       "      <td>0</td>\n",
       "      <td>0</td>\n",
       "      <td>0</td>\n",
       "      <td>0</td>\n",
       "      <td>0</td>\n",
       "      <td>0</td>\n",
       "      <td>1</td>\n",
       "      <td>1</td>\n",
       "      <td>1</td>\n",
       "      <td>0</td>\n",
       "      <td>0</td>\n",
       "      <td>0</td>\n",
       "      <td>0</td>\n",
       "      <td>0</td>\n",
       "      <td>0</td>\n",
       "      <td>0</td>\n",
       "      <td>0</td>\n",
       "      <td>0</td>\n",
       "      <td>1</td>\n",
       "      <td>0</td>\n",
       "      <td>0</td>\n",
       "      <td>0</td>\n",
       "      <td>0</td>\n",
       "      <td>0</td>\n",
       "      <td>0</td>\n",
       "      <td>0</td>\n",
       "      <td>0</td>\n",
       "      <td>0</td>\n",
       "      <td>0</td>\n",
       "      <td>0</td>\n",
       "      <td>0</td>\n",
       "      <td>0</td>\n",
       "      <td>0</td>\n",
       "      <td>0</td>\n",
       "      <td>0</td>\n",
       "      <td>0</td>\n",
       "      <td>0</td>\n",
       "      <td>0</td>\n",
       "      <td>0</td>\n",
       "      <td>0</td>\n",
       "      <td>0</td>\n",
       "      <td>0</td>\n",
       "      <td>2</td>\n",
       "      <td></td>\n",
       "      <td>2</td>\n",
       "      <td></td>\n",
       "      <td>2</td>\n",
       "      <td>2</td>\n",
       "      <td>2</td>\n",
       "      <td>2</td>\n",
       "      <td>2</td>\n",
       "      <td>2</td>\n",
       "      <td>2</td>\n",
       "      <td>2</td>\n",
       "      <td>2</td>\n",
       "      <td>0</td>\n",
       "      <td>0</td>\n",
       "      <td>0</td>\n",
       "      <td>0</td>\n",
       "      <td>0</td>\n",
       "      <td>0</td>\n",
       "      <td>0</td>\n",
       "      <td>1</td>\n",
       "      <td>1</td>\n",
       "      <td>1</td>\n",
       "      <td>1</td>\n",
       "      <td>1</td>\n",
       "      <td>3</td>\n",
       "      <td>0</td>\n",
       "      <td>0</td>\n",
       "      <td>0</td>\n",
       "    </tr>\n",
       "    <tr>\n",
       "      <th>4</th>\n",
       "      <td>43</td>\n",
       "      <td>1</td>\n",
       "      <td>17</td>\n",
       "      <td>1</td>\n",
       "      <td>1</td>\n",
       "      <td>2</td>\n",
       "      <td>4</td>\n",
       "      <td>1</td>\n",
       "      <td>1</td>\n",
       "      <td>3</td>\n",
       "      <td>3</td>\n",
       "      <td>7</td>\n",
       "      <td>1</td>\n",
       "      <td></td>\n",
       "      <td>6</td>\n",
       "      <td>6</td>\n",
       "      <td>7</td>\n",
       "      <td>7</td>\n",
       "      <td>4</td>\n",
       "      <td>5</td>\n",
       "      <td>6</td>\n",
       "      <td>2</td>\n",
       "      <td>2</td>\n",
       "      <td>2</td>\n",
       "      <td>2</td>\n",
       "      <td>1</td>\n",
       "      <td>2</td>\n",
       "      <td>2</td>\n",
       "      <td>2</td>\n",
       "      <td>2</td>\n",
       "      <td>2</td>\n",
       "      <td>2</td>\n",
       "      <td>2</td>\n",
       "      <td>2</td>\n",
       "      <td>3</td>\n",
       "      <td>2</td>\n",
       "      <td>3</td>\n",
       "      <td>2</td>\n",
       "      <td>3</td>\n",
       "      <td>2</td>\n",
       "      <td>3</td>\n",
       "      <td>2</td>\n",
       "      <td>3</td>\n",
       "      <td>2</td>\n",
       "      <td>3</td>\n",
       "      <td>2</td>\n",
       "      <td>3</td>\n",
       "      <td>2</td>\n",
       "      <td>3</td>\n",
       "      <td>2</td>\n",
       "      <td>3</td>\n",
       "      <td>2</td>\n",
       "      <td>3</td>\n",
       "      <td>2</td>\n",
       "      <td>3</td>\n",
       "      <td>2</td>\n",
       "      <td>3</td>\n",
       "      <td>2</td>\n",
       "      <td>3</td>\n",
       "      <td>3</td>\n",
       "      <td>4</td>\n",
       "      <td>4</td>\n",
       "      <td>4</td>\n",
       "      <td>4</td>\n",
       "      <td>5</td>\n",
       "      <td>1</td>\n",
       "      <td>2</td>\n",
       "      <td>2</td>\n",
       "      <td></td>\n",
       "      <td>2</td>\n",
       "      <td></td>\n",
       "      <td>13</td>\n",
       "      <td>1</td>\n",
       "      <td>1</td>\n",
       "      <td>1</td>\n",
       "      <td>2</td>\n",
       "      <td>2</td>\n",
       "      <td>3</td>\n",
       "      <td>3</td>\n",
       "      <td>3</td>\n",
       "      <td>1</td>\n",
       "      <td>2</td>\n",
       "      <td>1</td>\n",
       "      <td>18</td>\n",
       "      <td>4</td>\n",
       "      <td>0</td>\n",
       "      <td>1</td>\n",
       "      <td>1</td>\n",
       "      <td>0</td>\n",
       "      <td>0</td>\n",
       "      <td>1</td>\n",
       "      <td>2</td>\n",
       "      <td>1</td>\n",
       "      <td>6</td>\n",
       "      <td>2</td>\n",
       "      <td>0</td>\n",
       "      <td>3</td>\n",
       "      <td>2</td>\n",
       "      <td>2</td>\n",
       "      <td>3</td>\n",
       "      <td>2</td>\n",
       "      <td>2</td>\n",
       "      <td>2</td>\n",
       "      <td>1</td>\n",
       "      <td>3</td>\n",
       "      <td>3</td>\n",
       "      <td>3</td>\n",
       "      <td>3</td>\n",
       "      <td>3</td>\n",
       "      <td>2</td>\n",
       "      <td>2</td>\n",
       "      <td>2</td>\n",
       "      <td>1</td>\n",
       "      <td>2</td>\n",
       "      <td>3</td>\n",
       "      <td>3</td>\n",
       "      <td>47</td>\n",
       "      <td>1</td>\n",
       "      <td>2</td>\n",
       "      <td></td>\n",
       "      <td>1</td>\n",
       "      <td>2</td>\n",
       "      <td>2</td>\n",
       "      <td>2</td>\n",
       "      <td>2</td>\n",
       "      <td>2</td>\n",
       "      <td>2</td>\n",
       "      <td>2</td>\n",
       "      <td>2</td>\n",
       "      <td>2</td>\n",
       "      <td>2</td>\n",
       "      <td>0</td>\n",
       "      <td>0</td>\n",
       "      <td>0</td>\n",
       "      <td>0</td>\n",
       "      <td>0</td>\n",
       "      <td>0</td>\n",
       "      <td>0</td>\n",
       "      <td>1</td>\n",
       "      <td>1</td>\n",
       "      <td>1</td>\n",
       "      <td>1</td>\n",
       "      <td>1</td>\n",
       "      <td>3</td>\n",
       "      <td>0</td>\n",
       "      <td>0</td>\n",
       "      <td>0</td>\n",
       "    </tr>\n",
       "  </tbody>\n",
       "</table>\n",
       "</div>"
      ],
      "text/plain": [
       "   ID  Home  Age  Religion  Ethnicity  Education  Occupation  Income  Marital  \\\n",
       "0   7     1   17         3          3          2           4       1        1   \n",
       "1   9     1   15         1          5          1           4       1        1   \n",
       "2  11     1   14         1          1          1           2       1        1   \n",
       "3  15     1   15         1          1          2           4       1        1   \n",
       "4  43     1   17         1          1          2           4       1        1   \n",
       "\n",
       "   Smoke  Smoking  Alcohol  Partner P_Age  P_Education  P_Occupation  \\\n",
       "0      3        3        7        1                  6             6   \n",
       "1      3        3        7        4                  6             6   \n",
       "2      3        3        7        2                  6             6   \n",
       "3      3        3        7        1                  6             6   \n",
       "4      3        3        7        1                  6             6   \n",
       "\n",
       "   P_Alcohol  P_Drugs  P_Fights  P_Women  P_Child  SectionCQ1  SectionCQ2  \\\n",
       "0          7        7         4        5        6           2           2   \n",
       "1          7        7         4        5        6           2           2   \n",
       "2          7        7         4        5        6           2           2   \n",
       "3          7        7         4        5        6           2           2   \n",
       "4          7        7         4        5        6           2           2   \n",
       "\n",
       "   SectionCQ3  SectionCQ4  SectionCQ5  SectionCQ6 SectionCQ7  SectionCQ8  \\\n",
       "0           2           2           1           2          2           2   \n",
       "1           2           2           1           2          2           2   \n",
       "2           2           2           1           2          2           2   \n",
       "3           2           2           1           2          2           2   \n",
       "4           2           2           1           2          2           2   \n",
       "\n",
       "   SectionCQ9  SectionCQ10  SectionCQ11  SectionCQ12  SectionCQ13  \\\n",
       "0           2            2            2            2            2   \n",
       "1           2            2            2            2            2   \n",
       "2           2            2            2            2            2   \n",
       "3           2            2            2            2            2   \n",
       "4           2            2            2            2            2   \n",
       "\n",
       "   SectionCQ14  SectionCQ15  SectionCQ16  SectionCQ17 SectionCQ18  \\\n",
       "0            3            2            3            2           3   \n",
       "1            3            2            3            2           3   \n",
       "2            3            2            3            2           3   \n",
       "3            3            2            3            2           3   \n",
       "4            3            2            3            2           3   \n",
       "\n",
       "   SectionCQ19  SectionCQ20  SectionCQ21  SectionCQ22  SectionCQ23  \\\n",
       "0            2            3            2            3            2   \n",
       "1            2            3            2            3            2   \n",
       "2            2            3            2            3            2   \n",
       "3            2            3            2            3            2   \n",
       "4            2            3            2            3            2   \n",
       "\n",
       "   SectionCQ24  SectionCQ25  SectionCQ26  SectionCQ27  SectionCQ28  \\\n",
       "0            3            2            3            2            3   \n",
       "1            3            2            3            2            3   \n",
       "2            3            2            3            2            3   \n",
       "3            3            2            3            2            3   \n",
       "4            3            2            3            2            3   \n",
       "\n",
       "   SectionCQ29  SectionCQ30  SectionCQ31  SectionCQ32  SectionCQ33  \\\n",
       "0            2            3            2            3            2   \n",
       "1            2            3            2            3            2   \n",
       "2            2            3            2            3            2   \n",
       "3            2            3            2            3            2   \n",
       "4            2            3            2            3            2   \n",
       "\n",
       "   SectionCQ34  SectionCQ35  SectionCQ36  SectionCQ37  SectionCQ38  \\\n",
       "0            3            2            3            2            3   \n",
       "1            3            2            3            2            3   \n",
       "2            3            2            3            2            3   \n",
       "3            3            2            3            2            3   \n",
       "4            3            2            3            2            3   \n",
       "\n",
       "   SectionCQ39 SectionCQ40 SectionCQ41 SectionCQ42 SectionCQ43 SectionCQ44  \\\n",
       "0            3           4           4           4           4           5   \n",
       "1            3           4           4           4           4           5   \n",
       "2            3           4           4           4           4           5   \n",
       "3            3           4           4           4           4           5   \n",
       "4            3           4           4           4           4           5   \n",
       "\n",
       "   SectionDQ1 SectionDQ1a  SectionDQ2 SectionDQ2a  SectionDQ3 SectionDQ3a  \\\n",
       "0           1           1           1           1           1           1   \n",
       "1           2                       1          89           2               \n",
       "2           1           1           1           1           1           1   \n",
       "3           1          34           1          13           1          13   \n",
       "4           1           2           2                       2               \n",
       "\n",
       "   SectionDQ4  SectionDQ5  PHQ1  PHQ2  PHQ3  PHQ4  PHQ5  PHQ6  PHQ7  PHQ8  \\\n",
       "0           2           1     0     3     3     2     0     3     1     1   \n",
       "1           2           1     1     3     0     3     2     3     2     2   \n",
       "2           1           1     3     3     3     3     3     3     3     3   \n",
       "3           4           2     0     0     1     0     0     0     0     0   \n",
       "4          13           1     1     1     2     2     3     3     3     1   \n",
       "\n",
       "   PHQ9  PHQ10  TPHQ  LDEPRESSION  PDEPRESSION  GAD1  GAD2  GAD3  GAD4  GAD5  \\\n",
       "0     3      1    16            4            0     3     3     3     3     1   \n",
       "1     1      3    17            4            0     1     0     3     1     0   \n",
       "2     3      3    27            5            1     3     3     3     3     3   \n",
       "3     0      1     1            1            0     0     0     0     0     0   \n",
       "4     2      1    18            4            0     1     1     0     0     1   \n",
       "\n",
       "   GAD6  GAD7  TANXIETY  Lanxiety  Panxiety  PCL1  PCL2  PCL3  PCL4  PCL5  \\\n",
       "0     2     2        17         4         1     3     2     3     3     3   \n",
       "1     2     1         8         2         0     4     0     3     4     1   \n",
       "2     2     3        20         4         1     4     4     4     4     4   \n",
       "3     0     0         0         1         0     0     0     0     0     0   \n",
       "4     2     1         6         2         0     3     2     2     3     2   \n",
       "\n",
       "   PCL6  PCL7  PCL8  PCL9  PCL10  PCL11  PCL12  PCL13  PCL14  PCL15  PCL16  \\\n",
       "0     1     2     3     1      2      3      3      1      3      2      1   \n",
       "1     4     0     0     4      0      4      2      4      2      4      0   \n",
       "2     4     4     4     4      4      4      4      4      4      4      4   \n",
       "3     0     0     0     0      0      0      0      0      0      0      0   \n",
       "4     2     2     1     3      3      3      3      3      2      2      2   \n",
       "\n",
       "   PCL17  PCL18  PCL19  PCL20  TPCL  PPTSD  MINI1 MINI1a  MINI2 MINI2a MINI3  \\\n",
       "0      1      3      1      1    42      1      1      1      1      1     2   \n",
       "1      2      0      2      4    44      1      2             2                \n",
       "2      4      4      4      4    80      1      1      1      1      1     2   \n",
       "3      0      0      0      0     0      0      2             2            2   \n",
       "4      1      2      3      3    47      1      2             1      2     2   \n",
       "\n",
       "  MINI4 MINI5 MINI6 MINI7 MINI8 MINI9 MINI10 MINI11  MINIdepression  EV  CB  \\\n",
       "0     2     2     2     2     1     2      2      1               0   0   0   \n",
       "1                                                                 0   0   0   \n",
       "2     2     1     1     1     1     1      1      1               1   0   0   \n",
       "3     2     2     2     2     2     2      2      2               0   0   0   \n",
       "4     2     2     2     2     2     2      2      2               0   0   0   \n",
       "\n",
       "   PV  SV  IPV  filter_$  religionnew  ethnicitynew  incomenew  maritalnew  \\\n",
       "0   0   0    0         0            0             0          1           1   \n",
       "1   0   0    0         0            1             0          1           1   \n",
       "2   0   0    0         0            1             1          1           1   \n",
       "3   0   0    0         0            1             1          1           1   \n",
       "4   0   0    0         0            1             1          1           1   \n",
       "\n",
       "   educationnew  occupationnew  smokenew  alcoholnew  partnernew  \n",
       "0             1              3         0           0           0  \n",
       "1             0              3         0           0           0  \n",
       "2             0              1         0           0           0  \n",
       "3             1              3         0           0           0  \n",
       "4             1              3         0           0           0  "
      ]
     },
     "execution_count": 4,
     "metadata": {},
     "output_type": "execute_result"
    }
   ],
   "source": [
    "pd.set_option('display.max_columns', None)\n",
    "df.head()"
   ]
  },
  {
   "cell_type": "code",
   "execution_count": 5,
   "id": "014fef9b-d252-437e-aa70-e745378fd16b",
   "metadata": {},
   "outputs": [
    {
     "data": {
      "text/plain": [
       "21"
      ]
     },
     "execution_count": 5,
     "metadata": {},
     "output_type": "execute_result"
    }
   ],
   "source": [
    "df.columns.get_loc('SectionCQ1')"
   ]
  },
  {
   "cell_type": "code",
   "execution_count": 6,
   "id": "543a4aea-ed9e-47fe-8f44-b995aa976e01",
   "metadata": {},
   "outputs": [
    {
     "data": {
      "text/plain": [
       "83"
      ]
     },
     "execution_count": 6,
     "metadata": {},
     "output_type": "execute_result"
    }
   ],
   "source": [
    "df.columns.get_loc('TPHQ')"
   ]
  },
  {
   "cell_type": "code",
   "execution_count": 7,
   "id": "f5639299-2e86-4914-bc4d-137a84d82ac7",
   "metadata": {},
   "outputs": [],
   "source": [
    "df = df.drop(df.columns[21:84], axis=1) # axis: 0 = rows, 1 = columns"
   ]
  },
  {
   "cell_type": "code",
   "execution_count": 8,
   "id": "874460fd-b7e6-42d5-9493-c0bfcc1ab2c3",
   "metadata": {},
   "outputs": [
    {
     "data": {
      "text/plain": [
       "23"
      ]
     },
     "execution_count": 8,
     "metadata": {},
     "output_type": "execute_result"
    }
   ],
   "source": [
    "df.columns.get_loc('GAD1')"
   ]
  },
  {
   "cell_type": "code",
   "execution_count": 9,
   "id": "f9f6e27c-7cb6-4bbc-8377-4c29f2fcd03f",
   "metadata": {},
   "outputs": [
    {
     "data": {
      "text/plain": [
       "30"
      ]
     },
     "execution_count": 9,
     "metadata": {},
     "output_type": "execute_result"
    }
   ],
   "source": [
    "df.columns.get_loc('TANXIETY')"
   ]
  },
  {
   "cell_type": "code",
   "execution_count": 10,
   "id": "2fd24313-50ed-455f-ba50-28564e3c6235",
   "metadata": {},
   "outputs": [],
   "source": [
    "df = df.drop(df.columns[23:31], axis=1) # axis: 0 = rows, 1 = columns"
   ]
  },
  {
   "cell_type": "code",
   "execution_count": 11,
   "id": "81a6e550-293d-4aa8-8a43-c0915685b0c2",
   "metadata": {},
   "outputs": [
    {
     "data": {
      "text/plain": [
       "25"
      ]
     },
     "execution_count": 11,
     "metadata": {},
     "output_type": "execute_result"
    }
   ],
   "source": [
    "df.columns.get_loc('PCL1')"
   ]
  },
  {
   "cell_type": "code",
   "execution_count": 12,
   "id": "97eb6695-ba92-4bc1-b74d-d522c2612398",
   "metadata": {},
   "outputs": [
    {
     "data": {
      "text/plain": [
       "45"
      ]
     },
     "execution_count": 12,
     "metadata": {},
     "output_type": "execute_result"
    }
   ],
   "source": [
    "df.columns.get_loc('TPCL')"
   ]
  },
  {
   "cell_type": "code",
   "execution_count": 13,
   "id": "6fdf19d1-b560-4e2f-9798-bcf6916200c7",
   "metadata": {},
   "outputs": [],
   "source": [
    "df = df.drop(df.columns[25:46], axis=1) # axis: 0 = rows, 1 = columns"
   ]
  },
  {
   "cell_type": "code",
   "execution_count": 14,
   "id": "ce4ecb86-a940-4cd3-825c-f347d8211c2d",
   "metadata": {},
   "outputs": [
    {
     "data": {
      "text/plain": [
       "26"
      ]
     },
     "execution_count": 14,
     "metadata": {},
     "output_type": "execute_result"
    }
   ],
   "source": [
    "df.columns.get_loc('MINI1')"
   ]
  },
  {
   "cell_type": "code",
   "execution_count": 15,
   "id": "1f6d292a-5ae4-405b-837a-b84d0c33fbd9",
   "metadata": {},
   "outputs": [
    {
     "data": {
      "text/plain": [
       "38"
      ]
     },
     "execution_count": 15,
     "metadata": {},
     "output_type": "execute_result"
    }
   ],
   "source": [
    "df.columns.get_loc('MINI11')"
   ]
  },
  {
   "cell_type": "code",
   "execution_count": 16,
   "id": "0f434d5b-3957-4cd5-a8d6-831732eb7cc4",
   "metadata": {},
   "outputs": [],
   "source": [
    "df = df.drop(df.columns[26:39], axis=1) # axis: 0 = rows, 1 = columns"
   ]
  },
  {
   "cell_type": "code",
   "execution_count": 17,
   "id": "dc571bae-ab50-43f1-8811-900276df6d15",
   "metadata": {},
   "outputs": [
    {
     "data": {
      "text/plain": [
       "(91, 42)"
      ]
     },
     "execution_count": 17,
     "metadata": {},
     "output_type": "execute_result"
    }
   ],
   "source": [
    "df.shape"
   ]
  },
  {
   "cell_type": "code",
   "execution_count": 18,
   "id": "7efe3082-9a93-45fb-a42e-95b040bd463a",
   "metadata": {},
   "outputs": [
    {
     "data": {
      "text/plain": [
       "32"
      ]
     },
     "execution_count": 18,
     "metadata": {},
     "output_type": "execute_result"
    }
   ],
   "source": [
    "df.columns.get_loc('filter_$')"
   ]
  },
  {
   "cell_type": "code",
   "execution_count": 19,
   "id": "8baa5564-fe32-4b1c-82bd-a9b96e0140e7",
   "metadata": {},
   "outputs": [],
   "source": [
    "df = df.drop(df.columns[32:], axis=1) # axis: 0 = rows, 1 = columns"
   ]
  },
  {
   "cell_type": "code",
   "execution_count": 20,
   "id": "9a44cf55-8090-46d1-ae00-620cb4ba7d70",
   "metadata": {},
   "outputs": [
    {
     "data": {
      "text/html": [
       "<div>\n",
       "<style scoped>\n",
       "    .dataframe tbody tr th:only-of-type {\n",
       "        vertical-align: middle;\n",
       "    }\n",
       "\n",
       "    .dataframe tbody tr th {\n",
       "        vertical-align: top;\n",
       "    }\n",
       "\n",
       "    .dataframe thead th {\n",
       "        text-align: right;\n",
       "    }\n",
       "</style>\n",
       "<table border=\"1\" class=\"dataframe\">\n",
       "  <thead>\n",
       "    <tr style=\"text-align: right;\">\n",
       "      <th></th>\n",
       "      <th>ID</th>\n",
       "      <th>Home</th>\n",
       "      <th>Age</th>\n",
       "      <th>Religion</th>\n",
       "      <th>Ethnicity</th>\n",
       "      <th>Education</th>\n",
       "      <th>Occupation</th>\n",
       "      <th>Income</th>\n",
       "      <th>Marital</th>\n",
       "      <th>Smoke</th>\n",
       "      <th>Smoking</th>\n",
       "      <th>Alcohol</th>\n",
       "      <th>Partner</th>\n",
       "      <th>P_Age</th>\n",
       "      <th>P_Education</th>\n",
       "      <th>P_Occupation</th>\n",
       "      <th>P_Alcohol</th>\n",
       "      <th>P_Drugs</th>\n",
       "      <th>P_Fights</th>\n",
       "      <th>P_Women</th>\n",
       "      <th>P_Child</th>\n",
       "      <th>LDEPRESSION</th>\n",
       "      <th>PDEPRESSION</th>\n",
       "      <th>Lanxiety</th>\n",
       "      <th>Panxiety</th>\n",
       "      <th>PPTSD</th>\n",
       "      <th>MINIdepression</th>\n",
       "      <th>EV</th>\n",
       "      <th>CB</th>\n",
       "      <th>PV</th>\n",
       "      <th>SV</th>\n",
       "      <th>IPV</th>\n",
       "    </tr>\n",
       "  </thead>\n",
       "  <tbody>\n",
       "    <tr>\n",
       "      <th>0</th>\n",
       "      <td>7</td>\n",
       "      <td>1</td>\n",
       "      <td>17</td>\n",
       "      <td>3</td>\n",
       "      <td>3</td>\n",
       "      <td>2</td>\n",
       "      <td>4</td>\n",
       "      <td>1</td>\n",
       "      <td>1</td>\n",
       "      <td>3</td>\n",
       "      <td>3</td>\n",
       "      <td>7</td>\n",
       "      <td>1</td>\n",
       "      <td></td>\n",
       "      <td>6</td>\n",
       "      <td>6</td>\n",
       "      <td>7</td>\n",
       "      <td>7</td>\n",
       "      <td>4</td>\n",
       "      <td>5</td>\n",
       "      <td>6</td>\n",
       "      <td>4</td>\n",
       "      <td>0</td>\n",
       "      <td>4</td>\n",
       "      <td>1</td>\n",
       "      <td>1</td>\n",
       "      <td>0</td>\n",
       "      <td>0</td>\n",
       "      <td>0</td>\n",
       "      <td>0</td>\n",
       "      <td>0</td>\n",
       "      <td>0</td>\n",
       "    </tr>\n",
       "    <tr>\n",
       "      <th>1</th>\n",
       "      <td>9</td>\n",
       "      <td>1</td>\n",
       "      <td>15</td>\n",
       "      <td>1</td>\n",
       "      <td>5</td>\n",
       "      <td>1</td>\n",
       "      <td>4</td>\n",
       "      <td>1</td>\n",
       "      <td>1</td>\n",
       "      <td>3</td>\n",
       "      <td>3</td>\n",
       "      <td>7</td>\n",
       "      <td>4</td>\n",
       "      <td></td>\n",
       "      <td>6</td>\n",
       "      <td>6</td>\n",
       "      <td>7</td>\n",
       "      <td>7</td>\n",
       "      <td>4</td>\n",
       "      <td>5</td>\n",
       "      <td>6</td>\n",
       "      <td>4</td>\n",
       "      <td>0</td>\n",
       "      <td>2</td>\n",
       "      <td>0</td>\n",
       "      <td>1</td>\n",
       "      <td>0</td>\n",
       "      <td>0</td>\n",
       "      <td>0</td>\n",
       "      <td>0</td>\n",
       "      <td>0</td>\n",
       "      <td>0</td>\n",
       "    </tr>\n",
       "    <tr>\n",
       "      <th>2</th>\n",
       "      <td>11</td>\n",
       "      <td>1</td>\n",
       "      <td>14</td>\n",
       "      <td>1</td>\n",
       "      <td>1</td>\n",
       "      <td>1</td>\n",
       "      <td>2</td>\n",
       "      <td>1</td>\n",
       "      <td>1</td>\n",
       "      <td>3</td>\n",
       "      <td>3</td>\n",
       "      <td>7</td>\n",
       "      <td>2</td>\n",
       "      <td></td>\n",
       "      <td>6</td>\n",
       "      <td>6</td>\n",
       "      <td>7</td>\n",
       "      <td>7</td>\n",
       "      <td>4</td>\n",
       "      <td>5</td>\n",
       "      <td>6</td>\n",
       "      <td>5</td>\n",
       "      <td>1</td>\n",
       "      <td>4</td>\n",
       "      <td>1</td>\n",
       "      <td>1</td>\n",
       "      <td>1</td>\n",
       "      <td>0</td>\n",
       "      <td>0</td>\n",
       "      <td>0</td>\n",
       "      <td>0</td>\n",
       "      <td>0</td>\n",
       "    </tr>\n",
       "    <tr>\n",
       "      <th>3</th>\n",
       "      <td>15</td>\n",
       "      <td>1</td>\n",
       "      <td>15</td>\n",
       "      <td>1</td>\n",
       "      <td>1</td>\n",
       "      <td>2</td>\n",
       "      <td>4</td>\n",
       "      <td>1</td>\n",
       "      <td>1</td>\n",
       "      <td>3</td>\n",
       "      <td>3</td>\n",
       "      <td>7</td>\n",
       "      <td>1</td>\n",
       "      <td></td>\n",
       "      <td>6</td>\n",
       "      <td>6</td>\n",
       "      <td>7</td>\n",
       "      <td>7</td>\n",
       "      <td>4</td>\n",
       "      <td>5</td>\n",
       "      <td>6</td>\n",
       "      <td>1</td>\n",
       "      <td>0</td>\n",
       "      <td>1</td>\n",
       "      <td>0</td>\n",
       "      <td>0</td>\n",
       "      <td>0</td>\n",
       "      <td>0</td>\n",
       "      <td>0</td>\n",
       "      <td>0</td>\n",
       "      <td>0</td>\n",
       "      <td>0</td>\n",
       "    </tr>\n",
       "    <tr>\n",
       "      <th>4</th>\n",
       "      <td>43</td>\n",
       "      <td>1</td>\n",
       "      <td>17</td>\n",
       "      <td>1</td>\n",
       "      <td>1</td>\n",
       "      <td>2</td>\n",
       "      <td>4</td>\n",
       "      <td>1</td>\n",
       "      <td>1</td>\n",
       "      <td>3</td>\n",
       "      <td>3</td>\n",
       "      <td>7</td>\n",
       "      <td>1</td>\n",
       "      <td></td>\n",
       "      <td>6</td>\n",
       "      <td>6</td>\n",
       "      <td>7</td>\n",
       "      <td>7</td>\n",
       "      <td>4</td>\n",
       "      <td>5</td>\n",
       "      <td>6</td>\n",
       "      <td>4</td>\n",
       "      <td>0</td>\n",
       "      <td>2</td>\n",
       "      <td>0</td>\n",
       "      <td>1</td>\n",
       "      <td>0</td>\n",
       "      <td>0</td>\n",
       "      <td>0</td>\n",
       "      <td>0</td>\n",
       "      <td>0</td>\n",
       "      <td>0</td>\n",
       "    </tr>\n",
       "  </tbody>\n",
       "</table>\n",
       "</div>"
      ],
      "text/plain": [
       "   ID  Home  Age  Religion  Ethnicity  Education  Occupation  Income  Marital  \\\n",
       "0   7     1   17         3          3          2           4       1        1   \n",
       "1   9     1   15         1          5          1           4       1        1   \n",
       "2  11     1   14         1          1          1           2       1        1   \n",
       "3  15     1   15         1          1          2           4       1        1   \n",
       "4  43     1   17         1          1          2           4       1        1   \n",
       "\n",
       "   Smoke  Smoking  Alcohol  Partner P_Age  P_Education  P_Occupation  \\\n",
       "0      3        3        7        1                  6             6   \n",
       "1      3        3        7        4                  6             6   \n",
       "2      3        3        7        2                  6             6   \n",
       "3      3        3        7        1                  6             6   \n",
       "4      3        3        7        1                  6             6   \n",
       "\n",
       "   P_Alcohol  P_Drugs  P_Fights  P_Women  P_Child  LDEPRESSION  PDEPRESSION  \\\n",
       "0          7        7         4        5        6            4            0   \n",
       "1          7        7         4        5        6            4            0   \n",
       "2          7        7         4        5        6            5            1   \n",
       "3          7        7         4        5        6            1            0   \n",
       "4          7        7         4        5        6            4            0   \n",
       "\n",
       "   Lanxiety  Panxiety  PPTSD  MINIdepression  EV  CB  PV  SV  IPV  \n",
       "0         4         1      1               0   0   0   0   0    0  \n",
       "1         2         0      1               0   0   0   0   0    0  \n",
       "2         4         1      1               1   0   0   0   0    0  \n",
       "3         1         0      0               0   0   0   0   0    0  \n",
       "4         2         0      1               0   0   0   0   0    0  "
      ]
     },
     "execution_count": 20,
     "metadata": {},
     "output_type": "execute_result"
    }
   ],
   "source": [
    "df.head()"
   ]
  },
  {
   "cell_type": "code",
   "execution_count": 21,
   "id": "79e55bad-0b07-469c-8e08-193f0e9080d0",
   "metadata": {},
   "outputs": [],
   "source": [
    "df['Home'] = df.Home.replace(1, 'JKM/MAIS')"
   ]
  },
  {
   "cell_type": "code",
   "execution_count": 22,
   "id": "673a32d3-bd38-4c51-8fc1-d014eecf6fa6",
   "metadata": {},
   "outputs": [],
   "source": [
    "df['Home'] = df.Home.replace(2, 'NGO')"
   ]
  },
  {
   "cell_type": "code",
   "execution_count": 23,
   "id": "71cdb193-f5eb-4930-b025-f36b27d825f4",
   "metadata": {},
   "outputs": [
    {
     "data": {
      "text/plain": [
       "count           91\n",
       "unique           2\n",
       "top       JKM/MAIS\n",
       "freq            64\n",
       "Name: Home, dtype: object"
      ]
     },
     "execution_count": 23,
     "metadata": {},
     "output_type": "execute_result"
    }
   ],
   "source": [
    "df.Home.describe()"
   ]
  },
  {
   "cell_type": "code",
   "execution_count": 24,
   "id": "835b2d57-d724-4576-b338-d987611d9b06",
   "metadata": {},
   "outputs": [
    {
     "data": {
      "text/plain": [
       "array(['JKM/MAIS', 'NGO'], dtype=object)"
      ]
     },
     "execution_count": 24,
     "metadata": {},
     "output_type": "execute_result"
    }
   ],
   "source": [
    "df.Home.unique()"
   ]
  },
  {
   "cell_type": "code",
   "execution_count": 25,
   "id": "fcadf4d5-5235-4cde-a115-f28e60f2585f",
   "metadata": {},
   "outputs": [],
   "source": [
    "df['Religion'] = df.Religion.replace(1, 'Muslim')\n",
    "df['Religion'] = df.Religion.replace(2, 'Buddhist')\n",
    "df['Religion'] = df.Religion.replace(3, 'Hinduism')\n",
    "df['Religion'] = df.Religion.replace(4, 'Christian')"
   ]
  },
  {
   "cell_type": "code",
   "execution_count": 26,
   "id": "7d3c7392-c157-4cbb-a338-0bd7c4792278",
   "metadata": {},
   "outputs": [
    {
     "data": {
      "text/plain": [
       "count         91\n",
       "unique         4\n",
       "top       Muslim\n",
       "freq          86\n",
       "Name: Religion, dtype: object"
      ]
     },
     "execution_count": 26,
     "metadata": {},
     "output_type": "execute_result"
    }
   ],
   "source": [
    "df.Religion.describe()"
   ]
  },
  {
   "cell_type": "code",
   "execution_count": 27,
   "id": "14e20e88-1a80-4fa3-adc7-740ade992c05",
   "metadata": {},
   "outputs": [
    {
     "data": {
      "text/plain": [
       "array(['Hinduism', 'Muslim', 'Buddhist', 'Christian'], dtype=object)"
      ]
     },
     "execution_count": 27,
     "metadata": {},
     "output_type": "execute_result"
    }
   ],
   "source": [
    "df.Religion.unique()"
   ]
  },
  {
   "cell_type": "code",
   "execution_count": 28,
   "id": "204413b1-9311-47ab-bd1e-9db65844ff4c",
   "metadata": {},
   "outputs": [],
   "source": [
    "df['Ethnicity'] = df.Ethnicity.replace(1, 'Malay')\n",
    "df['Ethnicity'] = df.Ethnicity.replace(2, 'Chinese')\n",
    "df['Ethnicity'] = df.Ethnicity.replace(3, 'Indian')\n",
    "df['Ethnicity'] = df.Ethnicity.replace(4, 'Bumiputera_4')\n",
    "df['Ethnicity'] = df.Ethnicity.replace(5, 'Bumiputera_5')\n",
    "df['Ethnicity'] = df.Ethnicity.replace(6, 'Others')"
   ]
  },
  {
   "cell_type": "code",
   "execution_count": 29,
   "id": "53a20898-43a3-4027-b904-295a140b0f09",
   "metadata": {},
   "outputs": [
    {
     "data": {
      "text/plain": [
       "count        91\n",
       "unique        6\n",
       "top       Malay\n",
       "freq         81\n",
       "Name: Ethnicity, dtype: object"
      ]
     },
     "execution_count": 29,
     "metadata": {},
     "output_type": "execute_result"
    }
   ],
   "source": [
    "df.Ethnicity.describe()"
   ]
  },
  {
   "cell_type": "code",
   "execution_count": 30,
   "id": "89b9519f-20f4-43b0-bb77-c058058dbcd4",
   "metadata": {},
   "outputs": [
    {
     "data": {
      "text/plain": [
       "array(['Indian', 'Bumiputera_5', 'Malay', 'Chinese', 'Bumiputera_4',\n",
       "       'Others'], dtype=object)"
      ]
     },
     "execution_count": 30,
     "metadata": {},
     "output_type": "execute_result"
    }
   ],
   "source": [
    "df.Ethnicity.unique()"
   ]
  },
  {
   "cell_type": "code",
   "execution_count": 31,
   "id": "25144c1f-8a4c-4f77-a5ab-03db6dc27078",
   "metadata": {},
   "outputs": [],
   "source": [
    "df['Education'] = df.Education.replace(1, 'Primary')\n",
    "df['Education'] = df.Education.replace(2, 'Secondary')\n",
    "df['Education'] = df.Education.replace(3, 'Higher')\n",
    "df['Education'] = df.Education.replace(4, 'No_Formal')"
   ]
  },
  {
   "cell_type": "code",
   "execution_count": 32,
   "id": "5f5d2816-a1ca-4209-9990-ae0594881584",
   "metadata": {},
   "outputs": [
    {
     "data": {
      "text/plain": [
       "count            91\n",
       "unique            4\n",
       "top       Secondary\n",
       "freq             69\n",
       "Name: Education, dtype: object"
      ]
     },
     "execution_count": 32,
     "metadata": {},
     "output_type": "execute_result"
    }
   ],
   "source": [
    "df.Education.describe()"
   ]
  },
  {
   "cell_type": "code",
   "execution_count": 33,
   "id": "81f6561d-2ad7-43e2-ba93-c28751081319",
   "metadata": {},
   "outputs": [
    {
     "data": {
      "text/plain": [
       "array(['Secondary', 'Primary', 'No_Formal', 'Higher'], dtype=object)"
      ]
     },
     "execution_count": 33,
     "metadata": {},
     "output_type": "execute_result"
    }
   ],
   "source": [
    "df.Education.unique()"
   ]
  },
  {
   "cell_type": "code",
   "execution_count": 34,
   "id": "8d32bd0e-31a3-423c-b829-9c721c518431",
   "metadata": {},
   "outputs": [],
   "source": [
    "df['Occupation'] = df.Occupation.replace(1, 'Working')\n",
    "df['Occupation'] = df.Occupation.replace(2, 'Looking')\n",
    "df['Occupation'] = df.Occupation.replace(3, 'Retired')\n",
    "df['Occupation'] = df.Occupation.replace(4, 'Studying')"
   ]
  },
  {
   "cell_type": "code",
   "execution_count": 35,
   "id": "0f62e2c7-a4c0-4902-a412-e368308e7da0",
   "metadata": {},
   "outputs": [
    {
     "data": {
      "text/plain": [
       "count           91\n",
       "unique           4\n",
       "top       Studying\n",
       "freq            51\n",
       "Name: Occupation, dtype: object"
      ]
     },
     "execution_count": 35,
     "metadata": {},
     "output_type": "execute_result"
    }
   ],
   "source": [
    "df.Occupation.describe()"
   ]
  },
  {
   "cell_type": "code",
   "execution_count": 36,
   "id": "ee045144-4774-445b-a294-760595371e52",
   "metadata": {},
   "outputs": [
    {
     "data": {
      "text/plain": [
       "array(['Studying', 'Looking', 'Working', 'Retired'], dtype=object)"
      ]
     },
     "execution_count": 36,
     "metadata": {},
     "output_type": "execute_result"
    }
   ],
   "source": [
    "df.Occupation.unique()"
   ]
  },
  {
   "cell_type": "code",
   "execution_count": 37,
   "id": "6d55841e-acdd-43b4-b50d-0e170a0ab90a",
   "metadata": {},
   "outputs": [],
   "source": [
    "df['Income'] = df.Income.replace(1, 'B40')\n",
    "df['Income'] = df.Income.replace(2, 'M40')\n",
    "df['Income'] = df.Income.replace(3, 'T20')"
   ]
  },
  {
   "cell_type": "code",
   "execution_count": 38,
   "id": "2f4a5ab5-df86-4d36-b594-1cbf6b315dba",
   "metadata": {},
   "outputs": [
    {
     "data": {
      "text/plain": [
       "count      91\n",
       "unique      3\n",
       "top       B40\n",
       "freq       73\n",
       "Name: Income, dtype: object"
      ]
     },
     "execution_count": 38,
     "metadata": {},
     "output_type": "execute_result"
    }
   ],
   "source": [
    "df.Income.describe()"
   ]
  },
  {
   "cell_type": "code",
   "execution_count": 39,
   "id": "6e35dc0d-5f02-4966-b3de-77b90c21d030",
   "metadata": {},
   "outputs": [
    {
     "data": {
      "text/plain": [
       "array(['B40', 'M40', 'T20'], dtype=object)"
      ]
     },
     "execution_count": 39,
     "metadata": {},
     "output_type": "execute_result"
    }
   ],
   "source": [
    "df.Income.unique()"
   ]
  },
  {
   "cell_type": "code",
   "execution_count": 40,
   "id": "0c581d51-c7ce-42a5-9680-7fcfc572758d",
   "metadata": {},
   "outputs": [],
   "source": [
    "df['Marital'] = df.Marital.replace(1, 'Single')\n",
    "df['Marital'] = df.Marital.replace(2, 'Married')\n",
    "df['Marital'] = df.Marital.replace(3, 'Widowed')"
   ]
  },
  {
   "cell_type": "code",
   "execution_count": 41,
   "id": "1d59d454-a04e-4e4d-b5c8-af68c552e588",
   "metadata": {},
   "outputs": [
    {
     "data": {
      "text/plain": [
       "count         91\n",
       "unique         3\n",
       "top       Single\n",
       "freq          85\n",
       "Name: Marital, dtype: object"
      ]
     },
     "execution_count": 41,
     "metadata": {},
     "output_type": "execute_result"
    }
   ],
   "source": [
    "df.Marital.describe()"
   ]
  },
  {
   "cell_type": "code",
   "execution_count": 42,
   "id": "520d84b2-324d-4ee5-bf28-fac2180949b7",
   "metadata": {},
   "outputs": [
    {
     "data": {
      "text/plain": [
       "array(['Single', 'Widowed', 'Married'], dtype=object)"
      ]
     },
     "execution_count": 42,
     "metadata": {},
     "output_type": "execute_result"
    }
   ],
   "source": [
    "df.Marital.unique()"
   ]
  },
  {
   "cell_type": "code",
   "execution_count": 43,
   "id": "7e7b08ee-a161-4d74-9433-eb91c7a3fa2a",
   "metadata": {},
   "outputs": [],
   "source": [
    "df['Smoke'] = df.Smoke.replace(1, 'Everyday')\n",
    "df['Smoke'] = df.Smoke.replace(2, 'Not_Everyday')\n",
    "df['Smoke'] = df.Smoke.replace(3, 'Not_Smoke')"
   ]
  },
  {
   "cell_type": "code",
   "execution_count": 44,
   "id": "a0dcf633-dceb-4012-954c-a013165e0772",
   "metadata": {},
   "outputs": [
    {
     "data": {
      "text/plain": [
       "count            91\n",
       "unique            3\n",
       "top       Not_Smoke\n",
       "freq             67\n",
       "Name: Smoke, dtype: object"
      ]
     },
     "execution_count": 44,
     "metadata": {},
     "output_type": "execute_result"
    }
   ],
   "source": [
    "df.Smoke.describe()"
   ]
  },
  {
   "cell_type": "code",
   "execution_count": 45,
   "id": "c13848eb-c3e8-4867-89e8-8b66059999bf",
   "metadata": {},
   "outputs": [
    {
     "data": {
      "text/plain": [
       "array(['Not_Smoke', 'Everyday', 'Not_Everyday'], dtype=object)"
      ]
     },
     "execution_count": 45,
     "metadata": {},
     "output_type": "execute_result"
    }
   ],
   "source": [
    "df.Smoke.unique()"
   ]
  },
  {
   "cell_type": "code",
   "execution_count": 46,
   "id": "e6ab71fa-3a2f-47c6-9291-07cc4854e45f",
   "metadata": {},
   "outputs": [],
   "source": [
    "df['Smoking'] = df.Smoking.replace(1, 'Everyday')\n",
    "df['Smoking'] = df.Smoking.replace(2, 'Not_Everyday')\n",
    "df['Smoking'] = df.Smoking.replace(3, 'Not_Smoke')"
   ]
  },
  {
   "cell_type": "code",
   "execution_count": 47,
   "id": "33affe65-2c39-4557-8c70-da46567b8f7a",
   "metadata": {},
   "outputs": [
    {
     "data": {
      "text/plain": [
       "count            91\n",
       "unique            3\n",
       "top       Not_Smoke\n",
       "freq             41\n",
       "Name: Smoking, dtype: object"
      ]
     },
     "execution_count": 47,
     "metadata": {},
     "output_type": "execute_result"
    }
   ],
   "source": [
    "df.Smoking.describe()"
   ]
  },
  {
   "cell_type": "code",
   "execution_count": 48,
   "id": "1274c809-e6af-4e2a-91ba-55bb26107f72",
   "metadata": {},
   "outputs": [
    {
     "data": {
      "text/plain": [
       "array(['Not_Smoke', 'Everyday', 'Not_Everyday'], dtype=object)"
      ]
     },
     "execution_count": 48,
     "metadata": {},
     "output_type": "execute_result"
    }
   ],
   "source": [
    "df.Smoking.unique()"
   ]
  },
  {
   "cell_type": "code",
   "execution_count": 49,
   "id": "935c2c9f-65c3-422d-825a-f3f5974ae53a",
   "metadata": {},
   "outputs": [],
   "source": [
    "df['Alcohol'] = df.Alcohol.replace(1, 'Everyday')\n",
    "df['Alcohol'] = df.Alcohol.replace(2, 'Once_Or')\n",
    "df['Alcohol'] = df.Alcohol.replace(3, '1-3_Times')\n",
    "df['Alcohol'] = df.Alcohol.replace(4, 'Less_Than')\n",
    "df['Alcohol'] = df.Alcohol.replace(5, '1-2_TImes')\n",
    "df['Alcohol'] = df.Alcohol.replace(6, 'Not_Drinking')\n",
    "df['Alcohol'] = df.Alcohol.replace(7, 'Never')"
   ]
  },
  {
   "cell_type": "code",
   "execution_count": 50,
   "id": "e2af183b-f7ee-4c17-8f44-5e4130264cec",
   "metadata": {},
   "outputs": [
    {
     "data": {
      "text/plain": [
       "count        91\n",
       "unique        7\n",
       "top       Never\n",
       "freq         54\n",
       "Name: Alcohol, dtype: object"
      ]
     },
     "execution_count": 50,
     "metadata": {},
     "output_type": "execute_result"
    }
   ],
   "source": [
    "df.Alcohol.describe()"
   ]
  },
  {
   "cell_type": "code",
   "execution_count": 51,
   "id": "4c27aab8-35cd-4d88-b8c2-cd5f81f28231",
   "metadata": {},
   "outputs": [
    {
     "data": {
      "text/plain": [
       "array(['Never', 'Less_Than', 'Once_Or', 'Not_Drinking', '1-3_Times',\n",
       "       'Everyday', '1-2_TImes'], dtype=object)"
      ]
     },
     "execution_count": 51,
     "metadata": {},
     "output_type": "execute_result"
    }
   ],
   "source": [
    "df.Alcohol.unique()"
   ]
  },
  {
   "cell_type": "code",
   "execution_count": 52,
   "id": "b2f26de8-8fe5-4e66-9223-d07f15328ee1",
   "metadata": {},
   "outputs": [],
   "source": [
    "df['Partner'] = df.Partner.replace(1, 'No')\n",
    "df['Partner'] = df.Partner.replace(2, 'Yes_2')\n",
    "df['Partner'] = df.Partner.replace(3, 'Yes_3')\n",
    "df['Partner'] = df.Partner.replace(4, 'Yes_4')\n",
    "df['Partner'] = df.Partner.replace(5, 'Yes_More')"
   ]
  },
  {
   "cell_type": "code",
   "execution_count": 53,
   "id": "b05d675d-7670-46a1-b685-ee704c1f5807",
   "metadata": {},
   "outputs": [
    {
     "data": {
      "text/plain": [
       "count     91\n",
       "unique     5\n",
       "top       No\n",
       "freq      45\n",
       "Name: Partner, dtype: object"
      ]
     },
     "execution_count": 53,
     "metadata": {},
     "output_type": "execute_result"
    }
   ],
   "source": [
    "df.Partner.describe()"
   ]
  },
  {
   "cell_type": "code",
   "execution_count": 54,
   "id": "ba7f8f8a-a03d-4838-b649-01792bf53fa6",
   "metadata": {},
   "outputs": [
    {
     "data": {
      "text/plain": [
       "array(['No', 'Yes_4', 'Yes_2', 'Yes_More', 'Yes_3'], dtype=object)"
      ]
     },
     "execution_count": 54,
     "metadata": {},
     "output_type": "execute_result"
    }
   ],
   "source": [
    "df.Partner.unique()"
   ]
  },
  {
   "cell_type": "code",
   "execution_count": 55,
   "id": "af9745e4-438b-43ee-9d95-e7e7c2f94a44",
   "metadata": {},
   "outputs": [],
   "source": [
    "df['P_Education'] = df.P_Education.replace(1, 'Primary')\n",
    "df['P_Education'] = df.P_Education.replace(2, 'Secondary')\n",
    "df['P_Education'] = df.P_Education.replace(3, 'College')\n",
    "df['P_Education'] = df.P_Education.replace(4, 'No_Formal')\n",
    "df['P_Education'] = df.P_Education.replace(5, 'Not_Sure')\n",
    "df['P_Education'] = df.P_Education.replace(6, 'No_Partner')"
   ]
  },
  {
   "cell_type": "code",
   "execution_count": 56,
   "id": "7c8cabe9-ec6e-48df-b51a-94356479bb76",
   "metadata": {},
   "outputs": [
    {
     "data": {
      "text/plain": [
       "count            91\n",
       "unique            6\n",
       "top       Secondary\n",
       "freq             44\n",
       "Name: P_Education, dtype: object"
      ]
     },
     "execution_count": 56,
     "metadata": {},
     "output_type": "execute_result"
    }
   ],
   "source": [
    "df.P_Education.describe()"
   ]
  },
  {
   "cell_type": "code",
   "execution_count": 57,
   "id": "3466cf52-ee83-454f-8bca-64a361804c27",
   "metadata": {},
   "outputs": [
    {
     "data": {
      "text/plain": [
       "array(['No_Partner', 'Secondary', 'Primary', 'No_Formal', 'College',\n",
       "       'Not_Sure'], dtype=object)"
      ]
     },
     "execution_count": 57,
     "metadata": {},
     "output_type": "execute_result"
    }
   ],
   "source": [
    "df.P_Education.unique()"
   ]
  },
  {
   "cell_type": "code",
   "execution_count": 58,
   "id": "ade636c1-9698-4628-a028-421a2ff03cd5",
   "metadata": {},
   "outputs": [],
   "source": [
    "df['P_Occupation'] = df.P_Occupation.replace(1, 'Working')\n",
    "df['P_Occupation'] = df.P_Occupation.replace(2, 'Looking_For')\n",
    "df['P_Occupation'] = df.P_Occupation.replace(3, 'Retired')\n",
    "df['P_Occupation'] = df.P_Occupation.replace(4, 'Studying')\n",
    "df['P_Occupation'] = df.P_Occupation.replace(5, 'Not_Sure')\n",
    "df['P_Occupation'] = df.P_Occupation.replace(6, 'No_Partner')"
   ]
  },
  {
   "cell_type": "code",
   "execution_count": 59,
   "id": "e336539b-748b-49c0-b91e-74870fa7e05f",
   "metadata": {},
   "outputs": [
    {
     "data": {
      "text/plain": [
       "count          91\n",
       "unique          6\n",
       "top       Working\n",
       "freq           69\n",
       "Name: P_Occupation, dtype: object"
      ]
     },
     "execution_count": 59,
     "metadata": {},
     "output_type": "execute_result"
    }
   ],
   "source": [
    "df.P_Occupation.describe()"
   ]
  },
  {
   "cell_type": "code",
   "execution_count": 60,
   "id": "c6f1af1e-bb9b-4eac-8891-0eb81d75afcc",
   "metadata": {},
   "outputs": [
    {
     "data": {
      "text/plain": [
       "array(['No_Partner', 'Studying', 'Working', 'Not_Sure', 'Retired',\n",
       "       'Looking_For'], dtype=object)"
      ]
     },
     "execution_count": 60,
     "metadata": {},
     "output_type": "execute_result"
    }
   ],
   "source": [
    "df.P_Occupation.unique()"
   ]
  },
  {
   "cell_type": "code",
   "execution_count": 61,
   "id": "b372f088-edeb-41dd-b366-d2e6d2c1793a",
   "metadata": {},
   "outputs": [],
   "source": [
    "df['P_Alcohol'] = df.P_Alcohol.replace(1, 'Everyday')\n",
    "df['P_Alcohol'] = df.P_Alcohol.replace(2, 'Once_Or')\n",
    "df['P_Alcohol'] = df.P_Alcohol.replace(3, '1-3_Times')\n",
    "df['P_Alcohol'] = df.P_Alcohol.replace(4, 'Less_Than')\n",
    "df['P_Alcohol'] = df.P_Alcohol.replace(5, 'Never')\n",
    "df['P_Alcohol'] = df.P_Alcohol.replace(6, 'Dont_Know')\n",
    "df['P_Alcohol'] = df.P_Alcohol.replace(7, 'No_Partner')"
   ]
  },
  {
   "cell_type": "code",
   "execution_count": 62,
   "id": "98e58afa-8efe-4f17-967e-ba66c0d24459",
   "metadata": {},
   "outputs": [
    {
     "data": {
      "text/plain": [
       "count            91\n",
       "unique            7\n",
       "top       Dont_Know\n",
       "freq             30\n",
       "Name: P_Alcohol, dtype: object"
      ]
     },
     "execution_count": 62,
     "metadata": {},
     "output_type": "execute_result"
    }
   ],
   "source": [
    "df.P_Alcohol.describe()"
   ]
  },
  {
   "cell_type": "code",
   "execution_count": 63,
   "id": "6c8621e9-e89b-487f-b008-af22a15dec9f",
   "metadata": {},
   "outputs": [
    {
     "data": {
      "text/plain": [
       "array(['No_Partner', 'Never', 'Dont_Know', 'Everyday', 'Once_Or',\n",
       "       '1-3_Times', 'Less_Than'], dtype=object)"
      ]
     },
     "execution_count": 63,
     "metadata": {},
     "output_type": "execute_result"
    }
   ],
   "source": [
    "df.P_Alcohol.unique()"
   ]
  },
  {
   "cell_type": "code",
   "execution_count": 64,
   "id": "2053f8d8-cec4-4b2d-aedf-5ab153f3fba2",
   "metadata": {},
   "outputs": [],
   "source": [
    "df['P_Drugs'] = df.P_Drugs.replace(1, 'Everyday')\n",
    "df['P_Drugs'] = df.P_Drugs.replace(2, 'Once_to')\n",
    "df['P_Drugs'] = df.P_Drugs.replace(3, '1-3_Times')\n",
    "df['P_Drugs'] = df.P_Drugs.replace(4, 'Less_Than')\n",
    "df['P_Drugs'] = df.P_Drugs.replace(5, 'Never')\n",
    "df['P_Drugs'] = df.P_Drugs.replace(6, 'Dont_Know')\n",
    "df['P_Drugs'] = df.P_Drugs.replace(7, 'No_Partner')"
   ]
  },
  {
   "cell_type": "code",
   "execution_count": 65,
   "id": "9775a6cb-8f10-40aa-8c53-19f7fd1b64c4",
   "metadata": {},
   "outputs": [
    {
     "data": {
      "text/plain": [
       "count        91\n",
       "unique        7\n",
       "top       Never\n",
       "freq         44\n",
       "Name: P_Drugs, dtype: object"
      ]
     },
     "execution_count": 65,
     "metadata": {},
     "output_type": "execute_result"
    }
   ],
   "source": [
    "df.P_Drugs.describe()"
   ]
  },
  {
   "cell_type": "code",
   "execution_count": 66,
   "id": "1a2ddc71-f913-4b01-b804-13c82c8972c8",
   "metadata": {},
   "outputs": [
    {
     "data": {
      "text/plain": [
       "array(['No_Partner', 'Never', 'Dont_Know', 'Less_Than', 'Once_to',\n",
       "       'Everyday', '1-3_Times'], dtype=object)"
      ]
     },
     "execution_count": 66,
     "metadata": {},
     "output_type": "execute_result"
    }
   ],
   "source": [
    "df.P_Drugs.unique()"
   ]
  },
  {
   "cell_type": "code",
   "execution_count": 67,
   "id": "e02e041b-7e07-4fd8-a38f-e52295dd551b",
   "metadata": {},
   "outputs": [],
   "source": [
    "df['P_Fights'] = df.P_Fights.replace(1, 'Yes')\n",
    "df['P_Fights'] = df.P_Fights.replace(2, 'No')\n",
    "df['P_Fights'] = df.P_Fights.replace(3, 'Dont_Know')\n",
    "df['P_Fights'] = df.P_Fights.replace(4, 'No_Partner')"
   ]
  },
  {
   "cell_type": "code",
   "execution_count": 68,
   "id": "d568846a-183c-40a7-87a3-9771ea0e91a8",
   "metadata": {},
   "outputs": [
    {
     "data": {
      "text/plain": [
       "count     91\n",
       "unique     4\n",
       "top       No\n",
       "freq      33\n",
       "Name: P_Fights, dtype: object"
      ]
     },
     "execution_count": 68,
     "metadata": {},
     "output_type": "execute_result"
    }
   ],
   "source": [
    "df.P_Fights.describe()"
   ]
  },
  {
   "cell_type": "code",
   "execution_count": 69,
   "id": "6cfb4b13-2e4c-4a07-a30f-d444688de3db",
   "metadata": {},
   "outputs": [
    {
     "data": {
      "text/plain": [
       "array(['No_Partner', 'Dont_Know', 'No', 'Yes'], dtype=object)"
      ]
     },
     "execution_count": 69,
     "metadata": {},
     "output_type": "execute_result"
    }
   ],
   "source": [
    "df.P_Fights.unique()"
   ]
  },
  {
   "cell_type": "code",
   "execution_count": 70,
   "id": "afadaa29-457e-4182-916e-b941ea4dd499",
   "metadata": {},
   "outputs": [],
   "source": [
    "df['P_Women'] = df.P_Women.replace(1, 'Yes')\n",
    "df['P_Women'] = df.P_Women.replace(2, 'No')\n",
    "df['P_Women'] = df.P_Women.replace(3, 'Maybe')\n",
    "df['P_Women'] = df.P_Women.replace(4, 'Dont_Know')\n",
    "df['P_Women'] = df.P_Women.replace(5, 'No_Partner')"
   ]
  },
  {
   "cell_type": "code",
   "execution_count": 71,
   "id": "c18d2377-6d05-4c00-924f-9ce0c3d2af4a",
   "metadata": {},
   "outputs": [
    {
     "data": {
      "text/plain": [
       "count     91\n",
       "unique     5\n",
       "top       No\n",
       "freq      34\n",
       "Name: P_Women, dtype: object"
      ]
     },
     "execution_count": 71,
     "metadata": {},
     "output_type": "execute_result"
    }
   ],
   "source": [
    "df.P_Women.describe()"
   ]
  },
  {
   "cell_type": "code",
   "execution_count": 72,
   "id": "022f9615-e08b-4e0a-97f0-29690bfe6fc6",
   "metadata": {},
   "outputs": [
    {
     "data": {
      "text/plain": [
       "array(['No_Partner', 'No', 'Dont_Know', 'Maybe', 'Yes'], dtype=object)"
      ]
     },
     "execution_count": 72,
     "metadata": {},
     "output_type": "execute_result"
    }
   ],
   "source": [
    "df.P_Women.unique()"
   ]
  },
  {
   "cell_type": "code",
   "execution_count": 73,
   "id": "40c81e32-8cf7-4ecd-92d6-105f90379a29",
   "metadata": {},
   "outputs": [],
   "source": [
    "df['P_Child'] = df.P_Child.replace(1, 'Yes')\n",
    "df['P_Child'] = df.P_Child.replace(2, 'No')\n",
    "df['P_Child'] = df.P_Child.replace(3, 'Maybe')\n",
    "df['P_Child'] = df.P_Child.replace(4, 'Dont_Know')\n",
    "df['P_Child'] = df.P_Child.replace(5, 'No_Relation')\n",
    "df['P_Child'] = df.P_Child.replace(6, 'No_Partner')"
   ]
  },
  {
   "cell_type": "code",
   "execution_count": 74,
   "id": "2f6a147e-9c23-4f82-aef9-35348e6189d3",
   "metadata": {},
   "outputs": [
    {
     "data": {
      "text/plain": [
       "count     91\n",
       "unique     6\n",
       "top       No\n",
       "freq      49\n",
       "Name: P_Child, dtype: object"
      ]
     },
     "execution_count": 74,
     "metadata": {},
     "output_type": "execute_result"
    }
   ],
   "source": [
    "df.P_Child.describe()"
   ]
  },
  {
   "cell_type": "code",
   "execution_count": 75,
   "id": "9b6a7583-7d46-4696-8e28-6e97a4e5bc17",
   "metadata": {},
   "outputs": [
    {
     "data": {
      "text/plain": [
       "array(['No_Partner', 'No', 'Dont_Know', 'No_Relation', 'Yes', 'Maybe'],\n",
       "      dtype=object)"
      ]
     },
     "execution_count": 75,
     "metadata": {},
     "output_type": "execute_result"
    }
   ],
   "source": [
    "df.P_Child.unique()"
   ]
  },
  {
   "cell_type": "code",
   "execution_count": 76,
   "id": "8b4f8e59-ed2b-42ae-86ac-075a5d75eafe",
   "metadata": {},
   "outputs": [],
   "source": [
    "# bins = [-1, 0, np.inf]\n",
    "bins = [-1, 0, 1]\n",
    "names = ['No', 'Yes']\n",
    "\n",
    "df['PDEPRESSION'] = pd.cut(df['PDEPRESSION'], bins, labels=names)"
   ]
  },
  {
   "cell_type": "code",
   "execution_count": 77,
   "id": "2188a027-fb21-4421-8d40-718e7ce35b5c",
   "metadata": {},
   "outputs": [
    {
     "data": {
      "text/plain": [
       "count     91\n",
       "unique     2\n",
       "top       No\n",
       "freq      70\n",
       "Name: PDEPRESSION, dtype: object"
      ]
     },
     "execution_count": 77,
     "metadata": {},
     "output_type": "execute_result"
    }
   ],
   "source": [
    "df.PDEPRESSION.describe()"
   ]
  },
  {
   "cell_type": "code",
   "execution_count": 78,
   "id": "eec6db5a-2d70-46f4-b485-287beed5c4bb",
   "metadata": {},
   "outputs": [
    {
     "data": {
      "text/plain": [
       "['No', 'Yes']\n",
       "Categories (2, object): ['No' < 'Yes']"
      ]
     },
     "execution_count": 78,
     "metadata": {},
     "output_type": "execute_result"
    }
   ],
   "source": [
    "df.PDEPRESSION.unique()"
   ]
  },
  {
   "cell_type": "code",
   "execution_count": 79,
   "id": "be656308-789a-4b43-aa79-ad6b8d74d883",
   "metadata": {},
   "outputs": [],
   "source": [
    "df['LDEPRESSION'] = df['LDEPRESSION'].astype('category')"
   ]
  },
  {
   "cell_type": "code",
   "execution_count": 80,
   "id": "ac920f4d-3c50-40ad-9aff-7810ecb919a7",
   "metadata": {},
   "outputs": [
    {
     "data": {
      "text/plain": [
       "count     91\n",
       "unique     5\n",
       "top        3\n",
       "freq      24\n",
       "Name: LDEPRESSION, dtype: int64"
      ]
     },
     "execution_count": 80,
     "metadata": {},
     "output_type": "execute_result"
    }
   ],
   "source": [
    "df.LDEPRESSION.describe()"
   ]
  },
  {
   "cell_type": "code",
   "execution_count": 81,
   "id": "b66d98dd-8534-4a11-a069-9f9a54e0b114",
   "metadata": {},
   "outputs": [
    {
     "data": {
      "text/plain": [
       "[4, 5, 1, 2, 3]\n",
       "Categories (5, int64): [1, 2, 3, 4, 5]"
      ]
     },
     "execution_count": 81,
     "metadata": {},
     "output_type": "execute_result"
    }
   ],
   "source": [
    "df.LDEPRESSION.unique()"
   ]
  },
  {
   "cell_type": "code",
   "execution_count": 82,
   "id": "c6d4a892-2281-4ebd-801d-3e5976820f50",
   "metadata": {},
   "outputs": [
    {
     "name": "stderr",
     "output_type": "stream",
     "text": [
      "C:\\Users\\shamy\\AppData\\Local\\Temp\\ipykernel_23536\\1571589258.py:2: FutureWarning: Setting an item of incompatible dtype is deprecated and will raise in a future error of pandas. Value '0     4\n",
      "1     2\n",
      "2     4\n",
      "3     1\n",
      "4     2\n",
      "     ..\n",
      "86    1\n",
      "87    1\n",
      "88    4\n",
      "89    4\n",
      "90    4\n",
      "Name: Lanxiety, Length: 91, dtype: object' has dtype incompatible with int64, please explicitly cast to a compatible dtype first.\n",
      "  df.iloc[:, -18:] = df.iloc[:, -18:].astype('object')\n",
      "C:\\Users\\shamy\\AppData\\Local\\Temp\\ipykernel_23536\\1571589258.py:2: FutureWarning: Setting an item of incompatible dtype is deprecated and will raise in a future error of pandas. Value '0     1\n",
      "1     0\n",
      "2     1\n",
      "3     0\n",
      "4     0\n",
      "     ..\n",
      "86    0\n",
      "87    0\n",
      "88    1\n",
      "89    1\n",
      "90    1\n",
      "Name: Panxiety, Length: 91, dtype: object' has dtype incompatible with int64, please explicitly cast to a compatible dtype first.\n",
      "  df.iloc[:, -18:] = df.iloc[:, -18:].astype('object')\n",
      "C:\\Users\\shamy\\AppData\\Local\\Temp\\ipykernel_23536\\1571589258.py:2: FutureWarning: Setting an item of incompatible dtype is deprecated and will raise in a future error of pandas. Value '0     1\n",
      "1     1\n",
      "2     1\n",
      "3     0\n",
      "4     1\n",
      "     ..\n",
      "86    0\n",
      "87    0\n",
      "88    0\n",
      "89    1\n",
      "90    0\n",
      "Name: PPTSD, Length: 91, dtype: object' has dtype incompatible with int64, please explicitly cast to a compatible dtype first.\n",
      "  df.iloc[:, -18:] = df.iloc[:, -18:].astype('object')\n",
      "C:\\Users\\shamy\\AppData\\Local\\Temp\\ipykernel_23536\\1571589258.py:2: FutureWarning: Setting an item of incompatible dtype is deprecated and will raise in a future error of pandas. Value '0     0\n",
      "1     0\n",
      "2     1\n",
      "3     0\n",
      "4     0\n",
      "     ..\n",
      "86    0\n",
      "87    0\n",
      "88    0\n",
      "89    1\n",
      "90    0\n",
      "Name: MINIdepression, Length: 91, dtype: object' has dtype incompatible with int64, please explicitly cast to a compatible dtype first.\n",
      "  df.iloc[:, -18:] = df.iloc[:, -18:].astype('object')\n",
      "C:\\Users\\shamy\\AppData\\Local\\Temp\\ipykernel_23536\\1571589258.py:2: FutureWarning: Setting an item of incompatible dtype is deprecated and will raise in a future error of pandas. Value '0     0\n",
      "1     0\n",
      "2     0\n",
      "3     0\n",
      "4     0\n",
      "     ..\n",
      "86    0\n",
      "87    0\n",
      "88    0\n",
      "89    1\n",
      "90    1\n",
      "Name: EV, Length: 91, dtype: object' has dtype incompatible with int64, please explicitly cast to a compatible dtype first.\n",
      "  df.iloc[:, -18:] = df.iloc[:, -18:].astype('object')\n",
      "C:\\Users\\shamy\\AppData\\Local\\Temp\\ipykernel_23536\\1571589258.py:2: FutureWarning: Setting an item of incompatible dtype is deprecated and will raise in a future error of pandas. Value '0     0\n",
      "1     0\n",
      "2     0\n",
      "3     0\n",
      "4     0\n",
      "     ..\n",
      "86    1\n",
      "87    1\n",
      "88    0\n",
      "89    1\n",
      "90    1\n",
      "Name: CB, Length: 91, dtype: object' has dtype incompatible with int64, please explicitly cast to a compatible dtype first.\n",
      "  df.iloc[:, -18:] = df.iloc[:, -18:].astype('object')\n",
      "C:\\Users\\shamy\\AppData\\Local\\Temp\\ipykernel_23536\\1571589258.py:2: FutureWarning: Setting an item of incompatible dtype is deprecated and will raise in a future error of pandas. Value '0     0\n",
      "1     0\n",
      "2     0\n",
      "3     0\n",
      "4     0\n",
      "     ..\n",
      "86    1\n",
      "87    0\n",
      "88    0\n",
      "89    1\n",
      "90    1\n",
      "Name: PV, Length: 91, dtype: object' has dtype incompatible with int64, please explicitly cast to a compatible dtype first.\n",
      "  df.iloc[:, -18:] = df.iloc[:, -18:].astype('object')\n",
      "C:\\Users\\shamy\\AppData\\Local\\Temp\\ipykernel_23536\\1571589258.py:2: FutureWarning: Setting an item of incompatible dtype is deprecated and will raise in a future error of pandas. Value '0     0\n",
      "1     0\n",
      "2     0\n",
      "3     0\n",
      "4     0\n",
      "     ..\n",
      "86    0\n",
      "87    0\n",
      "88    0\n",
      "89    1\n",
      "90    0\n",
      "Name: SV, Length: 91, dtype: object' has dtype incompatible with int64, please explicitly cast to a compatible dtype first.\n",
      "  df.iloc[:, -18:] = df.iloc[:, -18:].astype('object')\n",
      "C:\\Users\\shamy\\AppData\\Local\\Temp\\ipykernel_23536\\1571589258.py:2: FutureWarning: Setting an item of incompatible dtype is deprecated and will raise in a future error of pandas. Value '0     0\n",
      "1     0\n",
      "2     0\n",
      "3     0\n",
      "4     0\n",
      "     ..\n",
      "86    1\n",
      "87    1\n",
      "88    0\n",
      "89    1\n",
      "90    1\n",
      "Name: IPV, Length: 91, dtype: object' has dtype incompatible with int64, please explicitly cast to a compatible dtype first.\n",
      "  df.iloc[:, -18:] = df.iloc[:, -18:].astype('object')\n"
     ]
    }
   ],
   "source": [
    "# df.iloc[:, -3:] = df.iloc[:, -3:].astype('category')\n",
    "df.iloc[:, -18:] = df.iloc[:, -18:].astype('object')\n",
    "df.iloc[:, -18:] = df.iloc[:, -18:].astype('category')"
   ]
  },
  {
   "cell_type": "code",
   "execution_count": 83,
   "id": "4fc90536-4394-4455-9a91-caf3875b8437",
   "metadata": {},
   "outputs": [
    {
     "data": {
      "text/plain": [
       "array([' ', '14', '16', '17', '18', '19', '20', '21', '22', '23', '24',\n",
       "       '25', '26', '27', '29', '30', '31', '32', '36', '38', '40', '56'],\n",
       "      dtype=object)"
      ]
     },
     "execution_count": 83,
     "metadata": {},
     "output_type": "execute_result"
    }
   ],
   "source": [
    "df.P_Age.unique()"
   ]
  },
  {
   "cell_type": "code",
   "execution_count": 84,
   "id": "2b33fc17-7c76-495d-8c45-241c388b502a",
   "metadata": {},
   "outputs": [
    {
     "data": {
      "text/plain": [
       "array([17, 15, 14, 13, 16, 12, 21, 20, 18, 19, 23, 22, 38, 31, 37, 29, 39,\n",
       "       54], dtype=int64)"
      ]
     },
     "execution_count": 84,
     "metadata": {},
     "output_type": "execute_result"
    }
   ],
   "source": [
    "df.Age.unique()"
   ]
  },
  {
   "cell_type": "code",
   "execution_count": 85,
   "id": "ffc334b4-805c-4396-b27f-8459c4e2075b",
   "metadata": {},
   "outputs": [],
   "source": [
    "df['P_Age'] = df.P_Age.replace(' ', None)"
   ]
  },
  {
   "cell_type": "code",
   "execution_count": 87,
   "id": "c7c15e7e-3539-4023-ad63-917d806eb0af",
   "metadata": {},
   "outputs": [],
   "source": [
    "df['P_Age'] = df.P_Age.fillna(0)"
   ]
  },
  {
   "cell_type": "code",
   "execution_count": 88,
   "id": "0c73e473-f16e-4490-8deb-38f9eef4902e",
   "metadata": {},
   "outputs": [],
   "source": [
    "df['P_Age'] = df.loc[:, 'P_Age'].astype('int64')"
   ]
  },
  {
   "cell_type": "code",
   "execution_count": 89,
   "id": "3cc18f2f-c294-431a-b021-e6c32ca88352",
   "metadata": {},
   "outputs": [
    {
     "data": {
      "text/plain": [
       "ID                False\n",
       "Home              False\n",
       "Age               False\n",
       "Religion          False\n",
       "Ethnicity         False\n",
       "Education         False\n",
       "Occupation        False\n",
       "Income            False\n",
       "Marital           False\n",
       "Smoke             False\n",
       "Smoking           False\n",
       "Alcohol           False\n",
       "Partner           False\n",
       "P_Age             False\n",
       "P_Education       False\n",
       "P_Occupation      False\n",
       "P_Alcohol         False\n",
       "P_Drugs           False\n",
       "P_Fights          False\n",
       "P_Women           False\n",
       "P_Child           False\n",
       "LDEPRESSION       False\n",
       "PDEPRESSION       False\n",
       "Lanxiety          False\n",
       "Panxiety          False\n",
       "PPTSD             False\n",
       "MINIdepression    False\n",
       "EV                False\n",
       "CB                False\n",
       "PV                False\n",
       "SV                False\n",
       "IPV               False\n",
       "dtype: bool"
      ]
     },
     "execution_count": 89,
     "metadata": {},
     "output_type": "execute_result"
    }
   ],
   "source": [
    "df.isna().any()"
   ]
  },
  {
   "cell_type": "code",
   "execution_count": 90,
   "id": "625022d2-8032-469c-b8bb-65b334cec52b",
   "metadata": {},
   "outputs": [
    {
     "data": {
      "text/plain": [
       "ID                   int64\n",
       "Home                object\n",
       "Age                  int64\n",
       "Religion            object\n",
       "Ethnicity           object\n",
       "Education           object\n",
       "Occupation          object\n",
       "Income              object\n",
       "Marital             object\n",
       "Smoke               object\n",
       "Smoking             object\n",
       "Alcohol             object\n",
       "Partner             object\n",
       "P_Age                int64\n",
       "P_Education         object\n",
       "P_Occupation        object\n",
       "P_Alcohol           object\n",
       "P_Drugs             object\n",
       "P_Fights            object\n",
       "P_Women             object\n",
       "P_Child             object\n",
       "LDEPRESSION       category\n",
       "PDEPRESSION       category\n",
       "Lanxiety            object\n",
       "Panxiety            object\n",
       "PPTSD               object\n",
       "MINIdepression      object\n",
       "EV                  object\n",
       "CB                  object\n",
       "PV                  object\n",
       "SV                  object\n",
       "IPV                 object\n",
       "dtype: object"
      ]
     },
     "execution_count": 90,
     "metadata": {},
     "output_type": "execute_result"
    }
   ],
   "source": [
    "df.dtypes"
   ]
  },
  {
   "cell_type": "code",
   "execution_count": 91,
   "id": "829a6958-6608-4250-a648-f9b7d1684999",
   "metadata": {},
   "outputs": [
    {
     "data": {
      "text/html": [
       "<div>\n",
       "<style scoped>\n",
       "    .dataframe tbody tr th:only-of-type {\n",
       "        vertical-align: middle;\n",
       "    }\n",
       "\n",
       "    .dataframe tbody tr th {\n",
       "        vertical-align: top;\n",
       "    }\n",
       "\n",
       "    .dataframe thead th {\n",
       "        text-align: right;\n",
       "    }\n",
       "</style>\n",
       "<table border=\"1\" class=\"dataframe\">\n",
       "  <thead>\n",
       "    <tr style=\"text-align: right;\">\n",
       "      <th></th>\n",
       "      <th>ID</th>\n",
       "      <th>Home</th>\n",
       "      <th>Age</th>\n",
       "      <th>Religion</th>\n",
       "      <th>Ethnicity</th>\n",
       "      <th>Education</th>\n",
       "      <th>Occupation</th>\n",
       "      <th>Income</th>\n",
       "      <th>Marital</th>\n",
       "      <th>Smoke</th>\n",
       "      <th>Smoking</th>\n",
       "      <th>Alcohol</th>\n",
       "      <th>Partner</th>\n",
       "      <th>P_Age</th>\n",
       "      <th>P_Education</th>\n",
       "      <th>P_Occupation</th>\n",
       "      <th>P_Alcohol</th>\n",
       "      <th>P_Drugs</th>\n",
       "      <th>P_Fights</th>\n",
       "      <th>P_Women</th>\n",
       "      <th>P_Child</th>\n",
       "      <th>LDEPRESSION</th>\n",
       "      <th>PDEPRESSION</th>\n",
       "      <th>Lanxiety</th>\n",
       "      <th>Panxiety</th>\n",
       "      <th>PPTSD</th>\n",
       "      <th>MINIdepression</th>\n",
       "      <th>EV</th>\n",
       "      <th>CB</th>\n",
       "      <th>PV</th>\n",
       "      <th>SV</th>\n",
       "      <th>IPV</th>\n",
       "    </tr>\n",
       "  </thead>\n",
       "  <tbody>\n",
       "  </tbody>\n",
       "</table>\n",
       "</div>"
      ],
      "text/plain": [
       "Empty DataFrame\n",
       "Columns: [ID, Home, Age, Religion, Ethnicity, Education, Occupation, Income, Marital, Smoke, Smoking, Alcohol, Partner, P_Age, P_Education, P_Occupation, P_Alcohol, P_Drugs, P_Fights, P_Women, P_Child, LDEPRESSION, PDEPRESSION, Lanxiety, Panxiety, PPTSD, MINIdepression, EV, CB, PV, SV, IPV]\n",
       "Index: []"
      ]
     },
     "execution_count": 91,
     "metadata": {},
     "output_type": "execute_result"
    }
   ],
   "source": [
    "df.loc[df.PDEPRESSION == 0].head()"
   ]
  },
  {
   "cell_type": "code",
   "execution_count": 92,
   "id": "77b2e55d-0336-4162-81d3-ef29b29699bd",
   "metadata": {},
   "outputs": [
    {
     "data": {
      "text/html": [
       "<div>\n",
       "<style scoped>\n",
       "    .dataframe tbody tr th:only-of-type {\n",
       "        vertical-align: middle;\n",
       "    }\n",
       "\n",
       "    .dataframe tbody tr th {\n",
       "        vertical-align: top;\n",
       "    }\n",
       "\n",
       "    .dataframe thead th {\n",
       "        text-align: right;\n",
       "    }\n",
       "</style>\n",
       "<table border=\"1\" class=\"dataframe\">\n",
       "  <thead>\n",
       "    <tr style=\"text-align: right;\">\n",
       "      <th></th>\n",
       "      <th>ID</th>\n",
       "      <th>Home</th>\n",
       "      <th>Age</th>\n",
       "      <th>Religion</th>\n",
       "      <th>Ethnicity</th>\n",
       "      <th>Education</th>\n",
       "      <th>Occupation</th>\n",
       "      <th>Income</th>\n",
       "      <th>Marital</th>\n",
       "      <th>Smoke</th>\n",
       "      <th>Smoking</th>\n",
       "      <th>Alcohol</th>\n",
       "      <th>Partner</th>\n",
       "      <th>P_Age</th>\n",
       "      <th>P_Education</th>\n",
       "      <th>P_Occupation</th>\n",
       "      <th>P_Alcohol</th>\n",
       "      <th>P_Drugs</th>\n",
       "      <th>P_Fights</th>\n",
       "      <th>P_Women</th>\n",
       "      <th>P_Child</th>\n",
       "      <th>LDEPRESSION</th>\n",
       "      <th>PDEPRESSION</th>\n",
       "      <th>Lanxiety</th>\n",
       "      <th>Panxiety</th>\n",
       "      <th>PPTSD</th>\n",
       "      <th>MINIdepression</th>\n",
       "      <th>EV</th>\n",
       "      <th>CB</th>\n",
       "      <th>PV</th>\n",
       "      <th>SV</th>\n",
       "      <th>IPV</th>\n",
       "    </tr>\n",
       "  </thead>\n",
       "  <tbody>\n",
       "    <tr>\n",
       "      <th>0</th>\n",
       "      <td>7</td>\n",
       "      <td>JKM/MAIS</td>\n",
       "      <td>17</td>\n",
       "      <td>Hinduism</td>\n",
       "      <td>Indian</td>\n",
       "      <td>Secondary</td>\n",
       "      <td>Studying</td>\n",
       "      <td>B40</td>\n",
       "      <td>Single</td>\n",
       "      <td>Not_Smoke</td>\n",
       "      <td>Not_Smoke</td>\n",
       "      <td>Never</td>\n",
       "      <td>No</td>\n",
       "      <td>0</td>\n",
       "      <td>No_Partner</td>\n",
       "      <td>No_Partner</td>\n",
       "      <td>No_Partner</td>\n",
       "      <td>No_Partner</td>\n",
       "      <td>No_Partner</td>\n",
       "      <td>No_Partner</td>\n",
       "      <td>No_Partner</td>\n",
       "      <td>4</td>\n",
       "      <td>No</td>\n",
       "      <td>4</td>\n",
       "      <td>1</td>\n",
       "      <td>1</td>\n",
       "      <td>0</td>\n",
       "      <td>0</td>\n",
       "      <td>0</td>\n",
       "      <td>0</td>\n",
       "      <td>0</td>\n",
       "      <td>0</td>\n",
       "    </tr>\n",
       "    <tr>\n",
       "      <th>1</th>\n",
       "      <td>9</td>\n",
       "      <td>JKM/MAIS</td>\n",
       "      <td>15</td>\n",
       "      <td>Muslim</td>\n",
       "      <td>Bumiputera_5</td>\n",
       "      <td>Primary</td>\n",
       "      <td>Studying</td>\n",
       "      <td>B40</td>\n",
       "      <td>Single</td>\n",
       "      <td>Not_Smoke</td>\n",
       "      <td>Not_Smoke</td>\n",
       "      <td>Never</td>\n",
       "      <td>Yes_4</td>\n",
       "      <td>0</td>\n",
       "      <td>No_Partner</td>\n",
       "      <td>No_Partner</td>\n",
       "      <td>No_Partner</td>\n",
       "      <td>No_Partner</td>\n",
       "      <td>No_Partner</td>\n",
       "      <td>No_Partner</td>\n",
       "      <td>No_Partner</td>\n",
       "      <td>4</td>\n",
       "      <td>No</td>\n",
       "      <td>2</td>\n",
       "      <td>0</td>\n",
       "      <td>1</td>\n",
       "      <td>0</td>\n",
       "      <td>0</td>\n",
       "      <td>0</td>\n",
       "      <td>0</td>\n",
       "      <td>0</td>\n",
       "      <td>0</td>\n",
       "    </tr>\n",
       "    <tr>\n",
       "      <th>2</th>\n",
       "      <td>11</td>\n",
       "      <td>JKM/MAIS</td>\n",
       "      <td>14</td>\n",
       "      <td>Muslim</td>\n",
       "      <td>Malay</td>\n",
       "      <td>Primary</td>\n",
       "      <td>Looking</td>\n",
       "      <td>B40</td>\n",
       "      <td>Single</td>\n",
       "      <td>Not_Smoke</td>\n",
       "      <td>Not_Smoke</td>\n",
       "      <td>Never</td>\n",
       "      <td>Yes_2</td>\n",
       "      <td>0</td>\n",
       "      <td>No_Partner</td>\n",
       "      <td>No_Partner</td>\n",
       "      <td>No_Partner</td>\n",
       "      <td>No_Partner</td>\n",
       "      <td>No_Partner</td>\n",
       "      <td>No_Partner</td>\n",
       "      <td>No_Partner</td>\n",
       "      <td>5</td>\n",
       "      <td>Yes</td>\n",
       "      <td>4</td>\n",
       "      <td>1</td>\n",
       "      <td>1</td>\n",
       "      <td>1</td>\n",
       "      <td>0</td>\n",
       "      <td>0</td>\n",
       "      <td>0</td>\n",
       "      <td>0</td>\n",
       "      <td>0</td>\n",
       "    </tr>\n",
       "    <tr>\n",
       "      <th>3</th>\n",
       "      <td>15</td>\n",
       "      <td>JKM/MAIS</td>\n",
       "      <td>15</td>\n",
       "      <td>Muslim</td>\n",
       "      <td>Malay</td>\n",
       "      <td>Secondary</td>\n",
       "      <td>Studying</td>\n",
       "      <td>B40</td>\n",
       "      <td>Single</td>\n",
       "      <td>Not_Smoke</td>\n",
       "      <td>Not_Smoke</td>\n",
       "      <td>Never</td>\n",
       "      <td>No</td>\n",
       "      <td>0</td>\n",
       "      <td>No_Partner</td>\n",
       "      <td>No_Partner</td>\n",
       "      <td>No_Partner</td>\n",
       "      <td>No_Partner</td>\n",
       "      <td>No_Partner</td>\n",
       "      <td>No_Partner</td>\n",
       "      <td>No_Partner</td>\n",
       "      <td>1</td>\n",
       "      <td>No</td>\n",
       "      <td>1</td>\n",
       "      <td>0</td>\n",
       "      <td>0</td>\n",
       "      <td>0</td>\n",
       "      <td>0</td>\n",
       "      <td>0</td>\n",
       "      <td>0</td>\n",
       "      <td>0</td>\n",
       "      <td>0</td>\n",
       "    </tr>\n",
       "    <tr>\n",
       "      <th>4</th>\n",
       "      <td>43</td>\n",
       "      <td>JKM/MAIS</td>\n",
       "      <td>17</td>\n",
       "      <td>Muslim</td>\n",
       "      <td>Malay</td>\n",
       "      <td>Secondary</td>\n",
       "      <td>Studying</td>\n",
       "      <td>B40</td>\n",
       "      <td>Single</td>\n",
       "      <td>Not_Smoke</td>\n",
       "      <td>Not_Smoke</td>\n",
       "      <td>Never</td>\n",
       "      <td>No</td>\n",
       "      <td>0</td>\n",
       "      <td>No_Partner</td>\n",
       "      <td>No_Partner</td>\n",
       "      <td>No_Partner</td>\n",
       "      <td>No_Partner</td>\n",
       "      <td>No_Partner</td>\n",
       "      <td>No_Partner</td>\n",
       "      <td>No_Partner</td>\n",
       "      <td>4</td>\n",
       "      <td>No</td>\n",
       "      <td>2</td>\n",
       "      <td>0</td>\n",
       "      <td>1</td>\n",
       "      <td>0</td>\n",
       "      <td>0</td>\n",
       "      <td>0</td>\n",
       "      <td>0</td>\n",
       "      <td>0</td>\n",
       "      <td>0</td>\n",
       "    </tr>\n",
       "  </tbody>\n",
       "</table>\n",
       "</div>"
      ],
      "text/plain": [
       "   ID      Home  Age  Religion     Ethnicity  Education Occupation Income  \\\n",
       "0   7  JKM/MAIS   17  Hinduism        Indian  Secondary   Studying    B40   \n",
       "1   9  JKM/MAIS   15    Muslim  Bumiputera_5    Primary   Studying    B40   \n",
       "2  11  JKM/MAIS   14    Muslim         Malay    Primary    Looking    B40   \n",
       "3  15  JKM/MAIS   15    Muslim         Malay  Secondary   Studying    B40   \n",
       "4  43  JKM/MAIS   17    Muslim         Malay  Secondary   Studying    B40   \n",
       "\n",
       "  Marital      Smoke    Smoking Alcohol Partner  P_Age P_Education  \\\n",
       "0  Single  Not_Smoke  Not_Smoke   Never      No      0  No_Partner   \n",
       "1  Single  Not_Smoke  Not_Smoke   Never   Yes_4      0  No_Partner   \n",
       "2  Single  Not_Smoke  Not_Smoke   Never   Yes_2      0  No_Partner   \n",
       "3  Single  Not_Smoke  Not_Smoke   Never      No      0  No_Partner   \n",
       "4  Single  Not_Smoke  Not_Smoke   Never      No      0  No_Partner   \n",
       "\n",
       "  P_Occupation   P_Alcohol     P_Drugs    P_Fights     P_Women     P_Child  \\\n",
       "0   No_Partner  No_Partner  No_Partner  No_Partner  No_Partner  No_Partner   \n",
       "1   No_Partner  No_Partner  No_Partner  No_Partner  No_Partner  No_Partner   \n",
       "2   No_Partner  No_Partner  No_Partner  No_Partner  No_Partner  No_Partner   \n",
       "3   No_Partner  No_Partner  No_Partner  No_Partner  No_Partner  No_Partner   \n",
       "4   No_Partner  No_Partner  No_Partner  No_Partner  No_Partner  No_Partner   \n",
       "\n",
       "  LDEPRESSION PDEPRESSION Lanxiety Panxiety PPTSD MINIdepression EV CB PV SV  \\\n",
       "0           4          No        4        1     1              0  0  0  0  0   \n",
       "1           4          No        2        0     1              0  0  0  0  0   \n",
       "2           5         Yes        4        1     1              1  0  0  0  0   \n",
       "3           1          No        1        0     0              0  0  0  0  0   \n",
       "4           4          No        2        0     1              0  0  0  0  0   \n",
       "\n",
       "  IPV  \n",
       "0   0  \n",
       "1   0  \n",
       "2   0  \n",
       "3   0  \n",
       "4   0  "
      ]
     },
     "execution_count": 92,
     "metadata": {},
     "output_type": "execute_result"
    }
   ],
   "source": [
    "df.head()"
   ]
  },
  {
   "cell_type": "code",
   "execution_count": 93,
   "id": "2996ad54-6bb9-41e2-8561-39f4260e4d60",
   "metadata": {},
   "outputs": [
    {
     "data": {
      "text/plain": [
       "(91, 32)"
      ]
     },
     "execution_count": 93,
     "metadata": {},
     "output_type": "execute_result"
    }
   ],
   "source": [
    "df.shape"
   ]
  },
  {
   "cell_type": "code",
   "execution_count": 94,
   "id": "a510d895-fb47-4cc9-86c0-75b9b4221694",
   "metadata": {},
   "outputs": [
    {
     "data": {
      "text/plain": [
       "ID                          20\n",
       "Home                  JKM/MAIS\n",
       "Age                         14\n",
       "Religion             Christian\n",
       "Ethnicity         Bumiputera_4\n",
       "Education            Secondary\n",
       "Occupation            Studying\n",
       "Income                     B40\n",
       "Marital                 Single\n",
       "Smoke             Not_Everyday\n",
       "Smoking           Not_Everyday\n",
       "Alcohol              1-3_Times\n",
       "Partner                  Yes_4\n",
       "P_Age                       17\n",
       "P_Education          Secondary\n",
       "P_Occupation           Working\n",
       "P_Alcohol            Dont_Know\n",
       "P_Drugs              Dont_Know\n",
       "P_Fights             Dont_Know\n",
       "P_Women              Dont_Know\n",
       "P_Child              Dont_Know\n",
       "LDEPRESSION                  3\n",
       "PDEPRESSION                 No\n",
       "Lanxiety                     4\n",
       "Panxiety                     1\n",
       "PPTSD                        1\n",
       "MINIdepression               1\n",
       "EV                           1\n",
       "CB                           0\n",
       "PV                           0\n",
       "SV                           1\n",
       "IPV                          1\n",
       "Name: 14, dtype: object"
      ]
     },
     "execution_count": 94,
     "metadata": {},
     "output_type": "execute_result"
    }
   ],
   "source": [
    "df.iloc[14]"
   ]
  },
  {
   "cell_type": "code",
   "execution_count": 95,
   "id": "8a12fc11-e4b5-4396-ac16-793f6ce211ee",
   "metadata": {},
   "outputs": [],
   "source": [
    "df['Religion'] = pd.Categorical(df.Religion)"
   ]
  },
  {
   "cell_type": "code",
   "execution_count": 96,
   "id": "e6266ad1-1f7f-4b21-a70a-e2e699bdfa03",
   "metadata": {},
   "outputs": [],
   "source": [
    "df['Home'] = pd.Categorical(df.iloc[:, 1])"
   ]
  },
  {
   "cell_type": "code",
   "execution_count": 97,
   "id": "885148b3-adb1-45f1-87c5-542c503a9c71",
   "metadata": {},
   "outputs": [],
   "source": [
    "df['Ethnicity'] = pd.Categorical(df['Ethnicity'])"
   ]
  },
  {
   "cell_type": "code",
   "execution_count": 98,
   "id": "f11e2849-f001-4cd8-b177-dafbea0040ac",
   "metadata": {},
   "outputs": [],
   "source": [
    "label = 'Education'\n",
    "df[label] = pd.Categorical(df[label])"
   ]
  },
  {
   "cell_type": "code",
   "execution_count": 99,
   "id": "83f458ad-de0b-4615-ae19-219ff3622cf5",
   "metadata": {},
   "outputs": [
    {
     "data": {
      "text/plain": [
       "Index(['ID', 'Home', 'Age', 'Religion', 'Ethnicity', 'Education', 'Occupation',\n",
       "       'Income', 'Marital', 'Smoke', 'Smoking', 'Alcohol', 'Partner', 'P_Age',\n",
       "       'P_Education', 'P_Occupation', 'P_Alcohol', 'P_Drugs', 'P_Fights',\n",
       "       'P_Women', 'P_Child', 'LDEPRESSION', 'PDEPRESSION', 'Lanxiety',\n",
       "       'Panxiety', 'PPTSD', 'MINIdepression', 'EV', 'CB', 'PV', 'SV', 'IPV'],\n",
       "      dtype='object')"
      ]
     },
     "execution_count": 99,
     "metadata": {},
     "output_type": "execute_result"
    }
   ],
   "source": [
    "df.columns"
   ]
  },
  {
   "cell_type": "code",
   "execution_count": 100,
   "id": "e4b9baf5-7fc8-477e-8b21-11023e384e39",
   "metadata": {},
   "outputs": [],
   "source": [
    "labels = ['Occupation', 'Income', 'Marital', 'Smoke', 'Smoking', 'Alcohol', 'Partner']\n",
    "for label in labels:\n",
    "    df[label] = pd.Categorical(df[label])"
   ]
  },
  {
   "cell_type": "code",
   "execution_count": 101,
   "id": "0a007fa4-26b0-437d-89ff-65c0a9cc7ac6",
   "metadata": {},
   "outputs": [],
   "source": [
    "labels = ['P_Education', 'P_Occupation', 'P_Alcohol', 'P_Drugs', 'P_Fights', 'P_Women', 'P_Child']\n",
    "for label in labels:\n",
    "    df[label] = pd.Categorical(df[label])"
   ]
  },
  {
   "cell_type": "code",
   "execution_count": 109,
   "id": "8d347245-3c3f-4a39-87df-11eae8858bae",
   "metadata": {},
   "outputs": [
    {
     "data": {
      "text/plain": [
       "ID                   int64\n",
       "Home              category\n",
       "Age                  int64\n",
       "Religion          category\n",
       "Ethnicity         category\n",
       "Education         category\n",
       "Occupation        category\n",
       "Income            category\n",
       "Marital           category\n",
       "Smoke             category\n",
       "Smoking           category\n",
       "Alcohol           category\n",
       "Partner           category\n",
       "P_Age                int64\n",
       "P_Education       category\n",
       "P_Occupation      category\n",
       "P_Alcohol         category\n",
       "P_Drugs           category\n",
       "P_Fights          category\n",
       "P_Women           category\n",
       "P_Child           category\n",
       "LDEPRESSION       category\n",
       "PDEPRESSION       category\n",
       "Lanxiety            object\n",
       "Panxiety            object\n",
       "PPTSD               object\n",
       "MINIdepression      object\n",
       "EV                  object\n",
       "CB                  object\n",
       "PV                  object\n",
       "SV                  object\n",
       "IPV                 object\n",
       "dtype: object"
      ]
     },
     "execution_count": 109,
     "metadata": {},
     "output_type": "execute_result"
    }
   ],
   "source": [
    "df.dtypes"
   ]
  },
  {
   "cell_type": "code",
   "execution_count": 103,
   "id": "a6c439d9-e407-4edc-bfe3-97bc8a27e98b",
   "metadata": {},
   "outputs": [
    {
     "data": {
      "text/plain": [
       "0    0\n",
       "1    0\n",
       "2    0\n",
       "3    0\n",
       "4    0\n",
       "Name: EV, dtype: object"
      ]
     },
     "execution_count": 103,
     "metadata": {},
     "output_type": "execute_result"
    }
   ],
   "source": [
    "df.EV.head()"
   ]
  },
  {
   "cell_type": "code",
   "execution_count": 105,
   "id": "f7b3cc21-fc4f-4e4b-adf0-ad1f52b61db0",
   "metadata": {},
   "outputs": [],
   "source": [
    "# np.corrcoef(df.Religion, df.Ethnicity)"
   ]
  },
  {
   "cell_type": "code",
   "execution_count": 106,
   "id": "b2cb2aa7-9d79-4557-8a92-48c002a5df24",
   "metadata": {},
   "outputs": [],
   "source": [
    "cats=['Home', 'Religion', 'Ethnicity', 'Education', 'Occupation',\n",
    "       'Income', 'Marital', 'Smoke', 'Smoking', 'Alcohol', 'Partner',\n",
    "       'P_Education', 'P_Occupation', 'P_Alcohol', 'P_Drugs', 'P_Fights',\n",
    "       'P_Women', 'P_Child', 'LDEPRESSION', 'PDEPRESSION', 'Lanxiety',\n",
    "       'Panxiety', 'PPTSD', 'MINIdepression', 'EV', 'CB', 'PV', 'SV', 'IPV']\n",
    "conts=['Age', 'P_Age']\n",
    "dep=\"MINIdepression\""
   ]
  },
  {
   "cell_type": "code",
   "execution_count": 107,
   "id": "ccd49a89-3856-4b24-a003-d1a19019bf4d",
   "metadata": {},
   "outputs": [],
   "source": [
    "from sklearn.model_selection import train_test_split"
   ]
  },
  {
   "cell_type": "code",
   "execution_count": 108,
   "id": "df4461d6-a6e5-4107-8da3-29a0efeec916",
   "metadata": {},
   "outputs": [
    {
     "ename": "AttributeError",
     "evalue": "Can only use .cat accessor with a 'category' dtype",
     "output_type": "error",
     "traceback": [
      "\u001b[1;31m---------------------------------------------------------------------------\u001b[0m",
      "\u001b[1;31mAttributeError\u001b[0m                            Traceback (most recent call last)",
      "Cell \u001b[1;32mIn[108], line 2\u001b[0m\n\u001b[0;32m      1\u001b[0m trn_df,val_df \u001b[38;5;241m=\u001b[39m train_test_split(df, test_size\u001b[38;5;241m=\u001b[39m\u001b[38;5;241m0.25\u001b[39m)\n\u001b[1;32m----> 2\u001b[0m trn_df[cats] \u001b[38;5;241m=\u001b[39m \u001b[43mtrn_df\u001b[49m\u001b[43m[\u001b[49m\u001b[43mcats\u001b[49m\u001b[43m]\u001b[49m\u001b[38;5;241;43m.\u001b[39;49m\u001b[43mapply\u001b[49m\u001b[43m(\u001b[49m\u001b[38;5;28;43;01mlambda\u001b[39;49;00m\u001b[43m \u001b[49m\u001b[43mx\u001b[49m\u001b[43m:\u001b[49m\u001b[43m \u001b[49m\u001b[43mx\u001b[49m\u001b[38;5;241;43m.\u001b[39;49m\u001b[43mcat\u001b[49m\u001b[38;5;241;43m.\u001b[39;49m\u001b[43mcodes\u001b[49m\u001b[43m)\u001b[49m\n\u001b[0;32m      3\u001b[0m val_df[cats] \u001b[38;5;241m=\u001b[39m val_df[cats]\u001b[38;5;241m.\u001b[39mapply(\u001b[38;5;28;01mlambda\u001b[39;00m x: x\u001b[38;5;241m.\u001b[39mcat\u001b[38;5;241m.\u001b[39mcodes)\n",
      "File \u001b[1;32m~\\miniconda3\\envs\\cenno\\Lib\\site-packages\\pandas\\core\\frame.py:10374\u001b[0m, in \u001b[0;36mDataFrame.apply\u001b[1;34m(self, func, axis, raw, result_type, args, by_row, engine, engine_kwargs, **kwargs)\u001b[0m\n\u001b[0;32m  10360\u001b[0m \u001b[38;5;28;01mfrom\u001b[39;00m \u001b[38;5;21;01mpandas\u001b[39;00m\u001b[38;5;21;01m.\u001b[39;00m\u001b[38;5;21;01mcore\u001b[39;00m\u001b[38;5;21;01m.\u001b[39;00m\u001b[38;5;21;01mapply\u001b[39;00m \u001b[38;5;28;01mimport\u001b[39;00m frame_apply\n\u001b[0;32m  10362\u001b[0m op \u001b[38;5;241m=\u001b[39m frame_apply(\n\u001b[0;32m  10363\u001b[0m     \u001b[38;5;28mself\u001b[39m,\n\u001b[0;32m  10364\u001b[0m     func\u001b[38;5;241m=\u001b[39mfunc,\n\u001b[1;32m   (...)\u001b[0m\n\u001b[0;32m  10372\u001b[0m     kwargs\u001b[38;5;241m=\u001b[39mkwargs,\n\u001b[0;32m  10373\u001b[0m )\n\u001b[1;32m> 10374\u001b[0m \u001b[38;5;28;01mreturn\u001b[39;00m \u001b[43mop\u001b[49m\u001b[38;5;241;43m.\u001b[39;49m\u001b[43mapply\u001b[49m\u001b[43m(\u001b[49m\u001b[43m)\u001b[49m\u001b[38;5;241m.\u001b[39m__finalize__(\u001b[38;5;28mself\u001b[39m, method\u001b[38;5;241m=\u001b[39m\u001b[38;5;124m\"\u001b[39m\u001b[38;5;124mapply\u001b[39m\u001b[38;5;124m\"\u001b[39m)\n",
      "File \u001b[1;32m~\\miniconda3\\envs\\cenno\\Lib\\site-packages\\pandas\\core\\apply.py:916\u001b[0m, in \u001b[0;36mFrameApply.apply\u001b[1;34m(self)\u001b[0m\n\u001b[0;32m    913\u001b[0m \u001b[38;5;28;01melif\u001b[39;00m \u001b[38;5;28mself\u001b[39m\u001b[38;5;241m.\u001b[39mraw:\n\u001b[0;32m    914\u001b[0m     \u001b[38;5;28;01mreturn\u001b[39;00m \u001b[38;5;28mself\u001b[39m\u001b[38;5;241m.\u001b[39mapply_raw(engine\u001b[38;5;241m=\u001b[39m\u001b[38;5;28mself\u001b[39m\u001b[38;5;241m.\u001b[39mengine, engine_kwargs\u001b[38;5;241m=\u001b[39m\u001b[38;5;28mself\u001b[39m\u001b[38;5;241m.\u001b[39mengine_kwargs)\n\u001b[1;32m--> 916\u001b[0m \u001b[38;5;28;01mreturn\u001b[39;00m \u001b[38;5;28;43mself\u001b[39;49m\u001b[38;5;241;43m.\u001b[39;49m\u001b[43mapply_standard\u001b[49m\u001b[43m(\u001b[49m\u001b[43m)\u001b[49m\n",
      "File \u001b[1;32m~\\miniconda3\\envs\\cenno\\Lib\\site-packages\\pandas\\core\\apply.py:1063\u001b[0m, in \u001b[0;36mFrameApply.apply_standard\u001b[1;34m(self)\u001b[0m\n\u001b[0;32m   1061\u001b[0m \u001b[38;5;28;01mdef\u001b[39;00m \u001b[38;5;21mapply_standard\u001b[39m(\u001b[38;5;28mself\u001b[39m):\n\u001b[0;32m   1062\u001b[0m     \u001b[38;5;28;01mif\u001b[39;00m \u001b[38;5;28mself\u001b[39m\u001b[38;5;241m.\u001b[39mengine \u001b[38;5;241m==\u001b[39m \u001b[38;5;124m\"\u001b[39m\u001b[38;5;124mpython\u001b[39m\u001b[38;5;124m\"\u001b[39m:\n\u001b[1;32m-> 1063\u001b[0m         results, res_index \u001b[38;5;241m=\u001b[39m \u001b[38;5;28;43mself\u001b[39;49m\u001b[38;5;241;43m.\u001b[39;49m\u001b[43mapply_series_generator\u001b[49m\u001b[43m(\u001b[49m\u001b[43m)\u001b[49m\n\u001b[0;32m   1064\u001b[0m     \u001b[38;5;28;01melse\u001b[39;00m:\n\u001b[0;32m   1065\u001b[0m         results, res_index \u001b[38;5;241m=\u001b[39m \u001b[38;5;28mself\u001b[39m\u001b[38;5;241m.\u001b[39mapply_series_numba()\n",
      "File \u001b[1;32m~\\miniconda3\\envs\\cenno\\Lib\\site-packages\\pandas\\core\\apply.py:1081\u001b[0m, in \u001b[0;36mFrameApply.apply_series_generator\u001b[1;34m(self)\u001b[0m\n\u001b[0;32m   1078\u001b[0m \u001b[38;5;28;01mwith\u001b[39;00m option_context(\u001b[38;5;124m\"\u001b[39m\u001b[38;5;124mmode.chained_assignment\u001b[39m\u001b[38;5;124m\"\u001b[39m, \u001b[38;5;28;01mNone\u001b[39;00m):\n\u001b[0;32m   1079\u001b[0m     \u001b[38;5;28;01mfor\u001b[39;00m i, v \u001b[38;5;129;01min\u001b[39;00m \u001b[38;5;28menumerate\u001b[39m(series_gen):\n\u001b[0;32m   1080\u001b[0m         \u001b[38;5;66;03m# ignore SettingWithCopy here in case the user mutates\u001b[39;00m\n\u001b[1;32m-> 1081\u001b[0m         results[i] \u001b[38;5;241m=\u001b[39m \u001b[38;5;28;43mself\u001b[39;49m\u001b[38;5;241;43m.\u001b[39;49m\u001b[43mfunc\u001b[49m\u001b[43m(\u001b[49m\u001b[43mv\u001b[49m\u001b[43m,\u001b[49m\u001b[43m \u001b[49m\u001b[38;5;241;43m*\u001b[39;49m\u001b[38;5;28;43mself\u001b[39;49m\u001b[38;5;241;43m.\u001b[39;49m\u001b[43margs\u001b[49m\u001b[43m,\u001b[49m\u001b[43m \u001b[49m\u001b[38;5;241;43m*\u001b[39;49m\u001b[38;5;241;43m*\u001b[39;49m\u001b[38;5;28;43mself\u001b[39;49m\u001b[38;5;241;43m.\u001b[39;49m\u001b[43mkwargs\u001b[49m\u001b[43m)\u001b[49m\n\u001b[0;32m   1082\u001b[0m         \u001b[38;5;28;01mif\u001b[39;00m \u001b[38;5;28misinstance\u001b[39m(results[i], ABCSeries):\n\u001b[0;32m   1083\u001b[0m             \u001b[38;5;66;03m# If we have a view on v, we need to make a copy because\u001b[39;00m\n\u001b[0;32m   1084\u001b[0m             \u001b[38;5;66;03m#  series_generator will swap out the underlying data\u001b[39;00m\n\u001b[0;32m   1085\u001b[0m             results[i] \u001b[38;5;241m=\u001b[39m results[i]\u001b[38;5;241m.\u001b[39mcopy(deep\u001b[38;5;241m=\u001b[39m\u001b[38;5;28;01mFalse\u001b[39;00m)\n",
      "Cell \u001b[1;32mIn[108], line 2\u001b[0m, in \u001b[0;36m<lambda>\u001b[1;34m(x)\u001b[0m\n\u001b[0;32m      1\u001b[0m trn_df,val_df \u001b[38;5;241m=\u001b[39m train_test_split(df, test_size\u001b[38;5;241m=\u001b[39m\u001b[38;5;241m0.25\u001b[39m)\n\u001b[1;32m----> 2\u001b[0m trn_df[cats] \u001b[38;5;241m=\u001b[39m trn_df[cats]\u001b[38;5;241m.\u001b[39mapply(\u001b[38;5;28;01mlambda\u001b[39;00m x: \u001b[43mx\u001b[49m\u001b[38;5;241;43m.\u001b[39;49m\u001b[43mcat\u001b[49m\u001b[38;5;241m.\u001b[39mcodes)\n\u001b[0;32m      3\u001b[0m val_df[cats] \u001b[38;5;241m=\u001b[39m val_df[cats]\u001b[38;5;241m.\u001b[39mapply(\u001b[38;5;28;01mlambda\u001b[39;00m x: x\u001b[38;5;241m.\u001b[39mcat\u001b[38;5;241m.\u001b[39mcodes)\n",
      "File \u001b[1;32m~\\miniconda3\\envs\\cenno\\Lib\\site-packages\\pandas\\core\\generic.py:6299\u001b[0m, in \u001b[0;36mNDFrame.__getattr__\u001b[1;34m(self, name)\u001b[0m\n\u001b[0;32m   6292\u001b[0m \u001b[38;5;28;01mif\u001b[39;00m (\n\u001b[0;32m   6293\u001b[0m     name \u001b[38;5;129;01mnot\u001b[39;00m \u001b[38;5;129;01min\u001b[39;00m \u001b[38;5;28mself\u001b[39m\u001b[38;5;241m.\u001b[39m_internal_names_set\n\u001b[0;32m   6294\u001b[0m     \u001b[38;5;129;01mand\u001b[39;00m name \u001b[38;5;129;01mnot\u001b[39;00m \u001b[38;5;129;01min\u001b[39;00m \u001b[38;5;28mself\u001b[39m\u001b[38;5;241m.\u001b[39m_metadata\n\u001b[0;32m   6295\u001b[0m     \u001b[38;5;129;01mand\u001b[39;00m name \u001b[38;5;129;01mnot\u001b[39;00m \u001b[38;5;129;01min\u001b[39;00m \u001b[38;5;28mself\u001b[39m\u001b[38;5;241m.\u001b[39m_accessors\n\u001b[0;32m   6296\u001b[0m     \u001b[38;5;129;01mand\u001b[39;00m \u001b[38;5;28mself\u001b[39m\u001b[38;5;241m.\u001b[39m_info_axis\u001b[38;5;241m.\u001b[39m_can_hold_identifiers_and_holds_name(name)\n\u001b[0;32m   6297\u001b[0m ):\n\u001b[0;32m   6298\u001b[0m     \u001b[38;5;28;01mreturn\u001b[39;00m \u001b[38;5;28mself\u001b[39m[name]\n\u001b[1;32m-> 6299\u001b[0m \u001b[38;5;28;01mreturn\u001b[39;00m \u001b[38;5;28;43mobject\u001b[39;49m\u001b[38;5;241;43m.\u001b[39;49m\u001b[38;5;21;43m__getattribute__\u001b[39;49m\u001b[43m(\u001b[49m\u001b[38;5;28;43mself\u001b[39;49m\u001b[43m,\u001b[49m\u001b[43m \u001b[49m\u001b[43mname\u001b[49m\u001b[43m)\u001b[49m\n",
      "File \u001b[1;32m~\\miniconda3\\envs\\cenno\\Lib\\site-packages\\pandas\\core\\accessor.py:224\u001b[0m, in \u001b[0;36mCachedAccessor.__get__\u001b[1;34m(self, obj, cls)\u001b[0m\n\u001b[0;32m    221\u001b[0m \u001b[38;5;28;01mif\u001b[39;00m obj \u001b[38;5;129;01mis\u001b[39;00m \u001b[38;5;28;01mNone\u001b[39;00m:\n\u001b[0;32m    222\u001b[0m     \u001b[38;5;66;03m# we're accessing the attribute of the class, i.e., Dataset.geo\u001b[39;00m\n\u001b[0;32m    223\u001b[0m     \u001b[38;5;28;01mreturn\u001b[39;00m \u001b[38;5;28mself\u001b[39m\u001b[38;5;241m.\u001b[39m_accessor\n\u001b[1;32m--> 224\u001b[0m accessor_obj \u001b[38;5;241m=\u001b[39m \u001b[38;5;28;43mself\u001b[39;49m\u001b[38;5;241;43m.\u001b[39;49m\u001b[43m_accessor\u001b[49m\u001b[43m(\u001b[49m\u001b[43mobj\u001b[49m\u001b[43m)\u001b[49m\n\u001b[0;32m    225\u001b[0m \u001b[38;5;66;03m# Replace the property with the accessor object. Inspired by:\u001b[39;00m\n\u001b[0;32m    226\u001b[0m \u001b[38;5;66;03m# https://www.pydanny.com/cached-property.html\u001b[39;00m\n\u001b[0;32m    227\u001b[0m \u001b[38;5;66;03m# We need to use object.__setattr__ because we overwrite __setattr__ on\u001b[39;00m\n\u001b[0;32m    228\u001b[0m \u001b[38;5;66;03m# NDFrame\u001b[39;00m\n\u001b[0;32m    229\u001b[0m \u001b[38;5;28mobject\u001b[39m\u001b[38;5;241m.\u001b[39m\u001b[38;5;21m__setattr__\u001b[39m(obj, \u001b[38;5;28mself\u001b[39m\u001b[38;5;241m.\u001b[39m_name, accessor_obj)\n",
      "File \u001b[1;32m~\\miniconda3\\envs\\cenno\\Lib\\site-packages\\pandas\\core\\arrays\\categorical.py:2898\u001b[0m, in \u001b[0;36mCategoricalAccessor.__init__\u001b[1;34m(self, data)\u001b[0m\n\u001b[0;32m   2897\u001b[0m \u001b[38;5;28;01mdef\u001b[39;00m \u001b[38;5;21m__init__\u001b[39m(\u001b[38;5;28mself\u001b[39m, data) \u001b[38;5;241m-\u001b[39m\u001b[38;5;241m>\u001b[39m \u001b[38;5;28;01mNone\u001b[39;00m:\n\u001b[1;32m-> 2898\u001b[0m     \u001b[38;5;28;43mself\u001b[39;49m\u001b[38;5;241;43m.\u001b[39;49m\u001b[43m_validate\u001b[49m\u001b[43m(\u001b[49m\u001b[43mdata\u001b[49m\u001b[43m)\u001b[49m\n\u001b[0;32m   2899\u001b[0m     \u001b[38;5;28mself\u001b[39m\u001b[38;5;241m.\u001b[39m_parent \u001b[38;5;241m=\u001b[39m data\u001b[38;5;241m.\u001b[39mvalues\n\u001b[0;32m   2900\u001b[0m     \u001b[38;5;28mself\u001b[39m\u001b[38;5;241m.\u001b[39m_index \u001b[38;5;241m=\u001b[39m data\u001b[38;5;241m.\u001b[39mindex\n",
      "File \u001b[1;32m~\\miniconda3\\envs\\cenno\\Lib\\site-packages\\pandas\\core\\arrays\\categorical.py:2907\u001b[0m, in \u001b[0;36mCategoricalAccessor._validate\u001b[1;34m(data)\u001b[0m\n\u001b[0;32m   2904\u001b[0m \u001b[38;5;129m@staticmethod\u001b[39m\n\u001b[0;32m   2905\u001b[0m \u001b[38;5;28;01mdef\u001b[39;00m \u001b[38;5;21m_validate\u001b[39m(data):\n\u001b[0;32m   2906\u001b[0m     \u001b[38;5;28;01mif\u001b[39;00m \u001b[38;5;129;01mnot\u001b[39;00m \u001b[38;5;28misinstance\u001b[39m(data\u001b[38;5;241m.\u001b[39mdtype, CategoricalDtype):\n\u001b[1;32m-> 2907\u001b[0m         \u001b[38;5;28;01mraise\u001b[39;00m \u001b[38;5;167;01mAttributeError\u001b[39;00m(\u001b[38;5;124m\"\u001b[39m\u001b[38;5;124mCan only use .cat accessor with a \u001b[39m\u001b[38;5;124m'\u001b[39m\u001b[38;5;124mcategory\u001b[39m\u001b[38;5;124m'\u001b[39m\u001b[38;5;124m dtype\u001b[39m\u001b[38;5;124m\"\u001b[39m)\n",
      "\u001b[1;31mAttributeError\u001b[0m: Can only use .cat accessor with a 'category' dtype"
     ]
    }
   ],
   "source": [
    "trn_df,val_df = train_test_split(df, test_size=0.25)\n",
    "trn_df[cats] = trn_df[cats].apply(lambda x: x.cat.codes)\n",
    "val_df[cats] = val_df[cats].apply(lambda x: x.cat.codes)"
   ]
  },
  {
   "cell_type": "code",
   "execution_count": null,
   "id": "228f4d5d-4c50-46e5-8e27-120fd5be4905",
   "metadata": {},
   "outputs": [],
   "source": [
    "def xs_y(df):\n",
    "    xs = df[cats+conts].copy()\n",
    "    return xs,df[dep] if dep in df else None\n",
    "\n",
    "trn_xs,trn_y = xs_y(trn_df)\n",
    "val_xs,val_y = xs_y(val_df)"
   ]
  },
  {
   "cell_type": "code",
   "execution_count": null,
   "id": "d2471111-ac35-45a2-b754-6139223ab3c3",
   "metadata": {},
   "outputs": [],
   "source": [
    "from sklearn.tree import DecisionTreeClassifier, export_graphviz\n",
    "\n",
    "m = DecisionTreeClassifier(max_leaf_nodes=4).fit(trn_xs, trn_y);"
   ]
  },
  {
   "cell_type": "code",
   "execution_count": null,
   "id": "50de2e37-8371-43e3-8f04-fef668437d70",
   "metadata": {},
   "outputs": [],
   "source": [
    "import graphviz\n",
    "\n",
    "def draw_tree(t, df, size=10, ratio=0.6, precision=2, **kwargs):\n",
    "    s=export_graphviz(t, out_file=None, feature_names=df.columns, filled=True, rounded=True,\n",
    "                      special_characters=True, rotate=False, precision=precision, **kwargs)\n",
    "    return graphviz.Source(re.sub('Tree {', f'Tree {{ size={size}; ratio={ratio}', s))"
   ]
  },
  {
   "cell_type": "code",
   "execution_count": null,
   "id": "cae886ed-46cc-49ee-bfe3-be3bc94036b9",
   "metadata": {},
   "outputs": [],
   "source": []
  }
 ],
 "metadata": {
  "kernelspec": {
   "display_name": "Python 3 (ipykernel)",
   "language": "python",
   "name": "python3"
  },
  "language_info": {
   "codemirror_mode": {
    "name": "ipython",
    "version": 3
   },
   "file_extension": ".py",
   "mimetype": "text/x-python",
   "name": "python",
   "nbconvert_exporter": "python",
   "pygments_lexer": "ipython3",
   "version": "3.11.9"
  }
 },
 "nbformat": 4,
 "nbformat_minor": 5
}
