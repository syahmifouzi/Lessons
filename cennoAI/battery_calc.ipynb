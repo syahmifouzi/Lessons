{
 "cells": [
  {
   "cell_type": "code",
   "execution_count": 24,
   "id": "ec7df606-627a-49b0-820e-761f6043bc62",
   "metadata": {},
   "outputs": [],
   "source": [
    "from fastai.imports import *\n",
    "import matplotlib.dates as mdates"
   ]
  },
  {
   "cell_type": "markdown",
   "id": "29f4f2a3-7f4b-4b3c-bb13-5a5313a44cf0",
   "metadata": {},
   "source": [
    "```py\n",
    "df = pd.DataFrame(\n",
    "    {'Date':['3/7/2024'],\n",
    "     'Time':['8:53 PM'],\n",
    "     'AA-Battery': [3.197],\n",
    "     'Lipo-Battery':[None]\n",
    "    })\n",
    "df\n",
    "```"
   ]
  },
  {
   "cell_type": "markdown",
   "id": "af5e77ba-a915-49e9-a133-28c9e62b8aa7",
   "metadata": {},
   "source": [
    "```py\n",
    "new_row = {'Date':'6/7/2024',\n",
    "     'Time':'11:48 AM',\n",
    "     'AA-Battery': None,\n",
    "     'Lipo-Battery':12.61\n",
    "    }\n",
    "\n",
    "df = df._append(new_row, ignore_index=True)\n",
    "df\n",
    "```"
   ]
  },
  {
   "cell_type": "markdown",
   "id": "33f0666f-0972-4b9d-b752-5dd9812a92ca",
   "metadata": {},
   "source": [
    "```py\n",
    "df = df.drop(2)\n",
    "df\n",
    "```"
   ]
  },
  {
   "cell_type": "code",
   "execution_count": 8,
   "id": "f98388f9-171d-4c05-8b7b-dc0a8aae5948",
   "metadata": {},
   "outputs": [],
   "source": [
    "df = pd.read_csv('./battery_data/battery_data.csv', index_col=0)"
   ]
  },
  {
   "cell_type": "code",
   "execution_count": 9,
   "id": "051516ca-7664-4f1f-b1ac-ba0f15c49a7f",
   "metadata": {},
   "outputs": [
    {
     "data": {
      "text/html": [
       "<div>\n",
       "<style scoped>\n",
       "    .dataframe tbody tr th:only-of-type {\n",
       "        vertical-align: middle;\n",
       "    }\n",
       "\n",
       "    .dataframe tbody tr th {\n",
       "        vertical-align: top;\n",
       "    }\n",
       "\n",
       "    .dataframe thead th {\n",
       "        text-align: right;\n",
       "    }\n",
       "</style>\n",
       "<table border=\"1\" class=\"dataframe\">\n",
       "  <thead>\n",
       "    <tr style=\"text-align: right;\">\n",
       "      <th></th>\n",
       "      <th>Date</th>\n",
       "      <th>Time</th>\n",
       "      <th>AA-Battery</th>\n",
       "      <th>Lipo-Battery</th>\n",
       "    </tr>\n",
       "  </thead>\n",
       "  <tbody>\n",
       "    <tr>\n",
       "      <th>0</th>\n",
       "      <td>3/7/2024</td>\n",
       "      <td>8:53 PM</td>\n",
       "      <td>3.197</td>\n",
       "      <td>NaN</td>\n",
       "    </tr>\n",
       "    <tr>\n",
       "      <th>1</th>\n",
       "      <td>6/7/2024</td>\n",
       "      <td>11:48 AM</td>\n",
       "      <td>NaN</td>\n",
       "      <td>12.61</td>\n",
       "    </tr>\n",
       "    <tr>\n",
       "      <th>2</th>\n",
       "      <td>9/7/2024</td>\n",
       "      <td>3:14 PM</td>\n",
       "      <td>3.117</td>\n",
       "      <td>12.59</td>\n",
       "    </tr>\n",
       "    <tr>\n",
       "      <th>3</th>\n",
       "      <td>15/7/2024</td>\n",
       "      <td>4:53 PM</td>\n",
       "      <td>3.072</td>\n",
       "      <td>12.54</td>\n",
       "    </tr>\n",
       "    <tr>\n",
       "      <th>4</th>\n",
       "      <td>22/7/2024</td>\n",
       "      <td>3:05 PM</td>\n",
       "      <td>3.037</td>\n",
       "      <td>12.49</td>\n",
       "    </tr>\n",
       "    <tr>\n",
       "      <th>5</th>\n",
       "      <td>1/8/2024</td>\n",
       "      <td>11:32 AM</td>\n",
       "      <td>3.008</td>\n",
       "      <td>12.43</td>\n",
       "    </tr>\n",
       "    <tr>\n",
       "      <th>6</th>\n",
       "      <td>9/8/2024</td>\n",
       "      <td>1:15 AM</td>\n",
       "      <td>2.989</td>\n",
       "      <td>12.38</td>\n",
       "    </tr>\n",
       "  </tbody>\n",
       "</table>\n",
       "</div>"
      ],
      "text/plain": [
       "        Date      Time  AA-Battery  Lipo-Battery\n",
       "0   3/7/2024   8:53 PM       3.197           NaN\n",
       "1   6/7/2024  11:48 AM         NaN         12.61\n",
       "2   9/7/2024   3:14 PM       3.117         12.59\n",
       "3  15/7/2024   4:53 PM       3.072         12.54\n",
       "4  22/7/2024   3:05 PM       3.037         12.49\n",
       "5   1/8/2024  11:32 AM       3.008         12.43\n",
       "6   9/8/2024   1:15 AM       2.989         12.38"
      ]
     },
     "execution_count": 9,
     "metadata": {},
     "output_type": "execute_result"
    }
   ],
   "source": [
    "df"
   ]
  },
  {
   "cell_type": "code",
   "execution_count": 10,
   "id": "f1aa619c-5248-4957-84a4-13191afe5ff9",
   "metadata": {},
   "outputs": [
    {
     "data": {
      "text/plain": [
       "0     3/7/2024 8:53 PM\n",
       "1    6/7/2024 11:48 AM\n",
       "2     9/7/2024 3:14 PM\n",
       "3    15/7/2024 4:53 PM\n",
       "4    22/7/2024 3:05 PM\n",
       "dtype: object"
      ]
     },
     "execution_count": 10,
     "metadata": {},
     "output_type": "execute_result"
    }
   ],
   "source": [
    "df['Date'] + ' ' + df['Time']"
   ]
  },
  {
   "cell_type": "code",
   "execution_count": 12,
   "id": "f97fd955-cf54-4399-942a-676b5ff2f21d",
   "metadata": {},
   "outputs": [],
   "source": [
    "df['datetime'] = pd.to_datetime(df['Date'] + ' ' + df['Time'], format='%d/%m/%Y %I:%M %p')"
   ]
  },
  {
   "cell_type": "code",
   "execution_count": 4,
   "id": "763894c9-3d45-46e1-91ea-e8fa82477e24",
   "metadata": {},
   "outputs": [],
   "source": [
    "def append_data(df, date, time, aa, lipo):\n",
    "    new_row = {'Date':date,\n",
    "     'Time':time,\n",
    "     'AA-Battery':aa,\n",
    "     'Lipo-Battery':lipo\n",
    "    }\n",
    "    \n",
    "    filtered = {k: v for k, v in new_row.items() if v is not None}\n",
    "\n",
    "    return df._append(filtered, ignore_index=True)\n",
    "    "
   ]
  },
  {
   "cell_type": "raw",
   "id": "b0044ff9-0cab-469a-a0bf-53ab421dc148",
   "metadata": {},
   "source": [
    "df = append_data(\n",
    "    df,\n",
    "    '9/8/2024',\n",
    "    '1:15 AM',\n",
    "    2.989,\n",
    "    12.38\n",
    "    )\n",
    "# date,time,aa,lipo = new_row.values()\n"
   ]
  },
  {
   "cell_type": "code",
   "execution_count": 13,
   "id": "775257e7-fcec-46ba-a7ad-fea15ffad9cb",
   "metadata": {},
   "outputs": [
    {
     "data": {
      "text/html": [
       "<div>\n",
       "<style scoped>\n",
       "    .dataframe tbody tr th:only-of-type {\n",
       "        vertical-align: middle;\n",
       "    }\n",
       "\n",
       "    .dataframe tbody tr th {\n",
       "        vertical-align: top;\n",
       "    }\n",
       "\n",
       "    .dataframe thead th {\n",
       "        text-align: right;\n",
       "    }\n",
       "</style>\n",
       "<table border=\"1\" class=\"dataframe\">\n",
       "  <thead>\n",
       "    <tr style=\"text-align: right;\">\n",
       "      <th></th>\n",
       "      <th>Date</th>\n",
       "      <th>Time</th>\n",
       "      <th>AA-Battery</th>\n",
       "      <th>Lipo-Battery</th>\n",
       "      <th>datetime</th>\n",
       "    </tr>\n",
       "  </thead>\n",
       "  <tbody>\n",
       "    <tr>\n",
       "      <th>0</th>\n",
       "      <td>3/7/2024</td>\n",
       "      <td>8:53 PM</td>\n",
       "      <td>3.197</td>\n",
       "      <td>NaN</td>\n",
       "      <td>2024-07-03 20:53:00</td>\n",
       "    </tr>\n",
       "    <tr>\n",
       "      <th>1</th>\n",
       "      <td>6/7/2024</td>\n",
       "      <td>11:48 AM</td>\n",
       "      <td>NaN</td>\n",
       "      <td>12.61</td>\n",
       "      <td>2024-07-06 11:48:00</td>\n",
       "    </tr>\n",
       "    <tr>\n",
       "      <th>2</th>\n",
       "      <td>9/7/2024</td>\n",
       "      <td>3:14 PM</td>\n",
       "      <td>3.117</td>\n",
       "      <td>12.59</td>\n",
       "      <td>2024-07-09 15:14:00</td>\n",
       "    </tr>\n",
       "    <tr>\n",
       "      <th>3</th>\n",
       "      <td>15/7/2024</td>\n",
       "      <td>4:53 PM</td>\n",
       "      <td>3.072</td>\n",
       "      <td>12.54</td>\n",
       "      <td>2024-07-15 16:53:00</td>\n",
       "    </tr>\n",
       "    <tr>\n",
       "      <th>4</th>\n",
       "      <td>22/7/2024</td>\n",
       "      <td>3:05 PM</td>\n",
       "      <td>3.037</td>\n",
       "      <td>12.49</td>\n",
       "      <td>2024-07-22 15:05:00</td>\n",
       "    </tr>\n",
       "    <tr>\n",
       "      <th>5</th>\n",
       "      <td>1/8/2024</td>\n",
       "      <td>11:32 AM</td>\n",
       "      <td>3.008</td>\n",
       "      <td>12.43</td>\n",
       "      <td>2024-08-01 11:32:00</td>\n",
       "    </tr>\n",
       "    <tr>\n",
       "      <th>6</th>\n",
       "      <td>9/8/2024</td>\n",
       "      <td>1:15 AM</td>\n",
       "      <td>2.989</td>\n",
       "      <td>12.38</td>\n",
       "      <td>2024-08-09 01:15:00</td>\n",
       "    </tr>\n",
       "  </tbody>\n",
       "</table>\n",
       "</div>"
      ],
      "text/plain": [
       "        Date      Time  AA-Battery  Lipo-Battery            datetime\n",
       "0   3/7/2024   8:53 PM       3.197           NaN 2024-07-03 20:53:00\n",
       "1   6/7/2024  11:48 AM         NaN         12.61 2024-07-06 11:48:00\n",
       "2   9/7/2024   3:14 PM       3.117         12.59 2024-07-09 15:14:00\n",
       "3  15/7/2024   4:53 PM       3.072         12.54 2024-07-15 16:53:00\n",
       "4  22/7/2024   3:05 PM       3.037         12.49 2024-07-22 15:05:00\n",
       "5   1/8/2024  11:32 AM       3.008         12.43 2024-08-01 11:32:00\n",
       "6   9/8/2024   1:15 AM       2.989         12.38 2024-08-09 01:15:00"
      ]
     },
     "execution_count": 13,
     "metadata": {},
     "output_type": "execute_result"
    }
   ],
   "source": [
    "df"
   ]
  },
  {
   "cell_type": "raw",
   "id": "c65ad369-8492-44ed-8a74-7115e43fa9e5",
   "metadata": {},
   "source": [
    "df.to_csv('./battery_data/battery_data.csv')"
   ]
  },
  {
   "cell_type": "code",
   "execution_count": 57,
   "id": "3085b1a6-6919-473a-9db7-a3d4def88bea",
   "metadata": {},
   "outputs": [
    {
     "data": {
      "text/plain": [
       "Date             object\n",
       "Time             object\n",
       "AA-Battery      float64\n",
       "Lipo-Battery    float64\n",
       "dtype: object"
      ]
     },
     "execution_count": 57,
     "metadata": {},
     "output_type": "execute_result"
    }
   ],
   "source": [
    "df.dtypes"
   ]
  },
  {
   "cell_type": "raw",
   "id": "20cad670-b94b-41a0-9621-6ccda48bd304",
   "metadata": {},
   "source": [
    "df['Date'] = pd.to_datetime(df['Date'], dayfirst=True)"
   ]
  },
  {
   "cell_type": "code",
   "execution_count": 86,
   "id": "f7d64509-7606-4716-bd7d-62ffcb7aeee6",
   "metadata": {},
   "outputs": [
    {
     "data": {
      "text/plain": [
       "Date                    object\n",
       "Time                    object\n",
       "AA-Battery             float64\n",
       "Lipo-Battery           float64\n",
       "datetime        datetime64[ns]\n",
       "dtype: object"
      ]
     },
     "execution_count": 86,
     "metadata": {},
     "output_type": "execute_result"
    }
   ],
   "source": [
    "df.dtypes"
   ]
  },
  {
   "cell_type": "code",
   "execution_count": 62,
   "id": "f65ec17f-bb61-415b-889f-c3d626cc2a26",
   "metadata": {},
   "outputs": [
    {
     "data": {
      "text/plain": [
       "count                      4\n",
       "mean     2024-07-08 06:00:00\n",
       "min      2024-07-03 00:00:00\n",
       "25%      2024-07-05 06:00:00\n",
       "50%      2024-07-07 12:00:00\n",
       "75%      2024-07-10 12:00:00\n",
       "max      2024-07-15 00:00:00\n",
       "Name: Date, dtype: object"
      ]
     },
     "execution_count": 62,
     "metadata": {},
     "output_type": "execute_result"
    }
   ],
   "source": [
    "df.Date.describe()"
   ]
  },
  {
   "cell_type": "code",
   "execution_count": 10,
   "id": "77307738-6b43-4d2c-9a36-aa6061c5e042",
   "metadata": {},
   "outputs": [],
   "source": [
    "def to_hours(days):\n",
    "    return days * 24\n",
    "\n",
    "def in_months(days):\n",
    "    return days / 30"
   ]
  },
  {
   "cell_type": "code",
   "execution_count": 14,
   "id": "a09906e0-b5d3-4a4f-94d1-d6770b8b7bf6",
   "metadata": {},
   "outputs": [],
   "source": [
    "diff_batt_time = df.datetime.max() - df.datetime.min()\n",
    "diff_batt_time_hours = to_hours(diff_batt_time.days)"
   ]
  },
  {
   "cell_type": "code",
   "execution_count": 15,
   "id": "bc847eea-e247-4dd3-a1a7-defc96ef3f4a",
   "metadata": {},
   "outputs": [],
   "source": [
    "diff_batt = df['AA-Battery'].max() - df['AA-Battery'].min()\n",
    "\n",
    "battery_drain_per_day = diff_batt / diff_batt_time.days"
   ]
  },
  {
   "cell_type": "code",
   "execution_count": 98,
   "id": "8f95f86c-2a8a-4354-804b-37e1ad2938d6",
   "metadata": {},
   "outputs": [
    {
     "data": {
      "text/plain": [
       "0.011363636363636364"
      ]
     },
     "execution_count": 98,
     "metadata": {},
     "output_type": "execute_result"
    }
   ],
   "source": [
    "battery_drain_per_day"
   ]
  },
  {
   "cell_type": "code",
   "execution_count": 16,
   "id": "ff020af4-17b4-4427-a30e-e4e35c345cfe",
   "metadata": {},
   "outputs": [
    {
     "data": {
      "text/plain": [
       "0.008888888888888898"
      ]
     },
     "execution_count": 16,
     "metadata": {},
     "output_type": "execute_result"
    }
   ],
   "source": [
    "battery_drain_per_day"
   ]
  },
  {
   "cell_type": "code",
   "execution_count": 13,
   "id": "06198f3a-5a23-4783-b35d-b7ae74f52a10",
   "metadata": {},
   "outputs": [
    {
     "data": {
      "text/plain": [
       "0.006750000000000002"
      ]
     },
     "execution_count": 13,
     "metadata": {},
     "output_type": "execute_result"
    }
   ],
   "source": [
    "battery_drain_per_day"
   ]
  },
  {
   "cell_type": "code",
   "execution_count": 16,
   "id": "fe724d55-8048-4926-abad-788ddb13e248",
   "metadata": {},
   "outputs": [
    {
     "data": {
      "text/plain": [
       "0.005777777777777783"
      ]
     },
     "execution_count": 16,
     "metadata": {},
     "output_type": "execute_result"
    }
   ],
   "source": [
    "battery_drain_per_day"
   ]
  },
  {
   "cell_type": "code",
   "execution_count": 17,
   "id": "12bd3b73-5467-40ab-a4e8-17a75e979ee5",
   "metadata": {},
   "outputs": [
    {
     "data": {
      "text/plain": [
       "205.96153846153828"
      ]
     },
     "execution_count": 17,
     "metadata": {},
     "output_type": "execute_result"
    }
   ],
   "source": [
    "max_battery_AA = 3.19\n",
    "min_mcu_vdd = 2.0\n",
    "\n",
    "days_before_kong = (max_battery_AA - min_mcu_vdd) / battery_drain_per_day\n",
    "\n",
    "days_before_kong"
   ]
  },
  {
   "cell_type": "code",
   "execution_count": 105,
   "id": "3f834184-f5ab-444c-ba81-e51ed119f2c5",
   "metadata": {},
   "outputs": [
    {
     "data": {
      "text/plain": [
       "3.490666666666667"
      ]
     },
     "execution_count": 105,
     "metadata": {},
     "output_type": "execute_result"
    }
   ],
   "source": [
    "in_months(days_before_kong)"
   ]
  },
  {
   "cell_type": "code",
   "execution_count": 18,
   "id": "487bf861-2f78-4713-8710-1b5051dfecb8",
   "metadata": {},
   "outputs": [
    {
     "data": {
      "text/plain": [
       "4.462499999999995"
      ]
     },
     "execution_count": 18,
     "metadata": {},
     "output_type": "execute_result"
    }
   ],
   "source": [
    "in_months(days_before_kong)"
   ]
  },
  {
   "cell_type": "code",
   "execution_count": 15,
   "id": "849f5be9-243d-4ef8-a73d-0391f2b57018",
   "metadata": {},
   "outputs": [
    {
     "data": {
      "text/plain": [
       "5.876543209876542"
      ]
     },
     "execution_count": 15,
     "metadata": {},
     "output_type": "execute_result"
    }
   ],
   "source": [
    "in_months(days_before_kong)"
   ]
  },
  {
   "cell_type": "code",
   "execution_count": 18,
   "id": "5993864e-0be1-4ee3-9921-87a3838a7e23",
   "metadata": {},
   "outputs": [
    {
     "data": {
      "text/plain": [
       "6.86538461538461"
      ]
     },
     "execution_count": 18,
     "metadata": {},
     "output_type": "execute_result"
    }
   ],
   "source": [
    "in_months(days_before_kong)"
   ]
  },
  {
   "cell_type": "code",
   "execution_count": 28,
   "id": "0324fe8b-23b8-4b78-ac75-a39428ccb49b",
   "metadata": {},
   "outputs": [
    {
     "data": {
      "image/png": "[encoded data removed]",
      "text/plain": [
       "<Figure size 1000x500 with 1 Axes>"
      ]
     },
     "metadata": {},
     "output_type": "display_data"
    }
   ],
   "source": [
    "# Plotting\n",
    "plt.figure(figsize=(10, 5))\n",
    "plt.plot(df['datetime'], df['AA-Battery'], marker='o')\n",
    "\n",
    "# Formatting the date\n",
    "plt.gca().xaxis.set_major_formatter(mdates.DateFormatter('%d-%m'))\n",
    "plt.gca().xaxis.set_major_locator(mdates.DayLocator())\n",
    "\n",
    "# Rotate date labels for better readability\n",
    "plt.gcf().autofmt_xdate()\n",
    "\n",
    "# Adding labels and title\n",
    "plt.xlabel('Date')\n",
    "plt.ylabel('AA V')\n",
    "plt.title('AA V vs. Date')\n",
    "\n",
    "# Show plot\n",
    "plt.show()"
   ]
  },
  {
   "cell_type": "code",
   "execution_count": 19,
   "id": "be674fe0-1ae0-4d8b-bfd8-149e289db160",
   "metadata": {},
   "outputs": [],
   "source": [
    "diff_lipo_time = df['datetime'].max() - df['datetime'][1]\n",
    "\n",
    "diff_lipo_batt = df['Lipo-Battery'].max() - df['Lipo-Battery'].min()\n",
    "\n",
    "lipo_drain_per_day = diff_lipo_batt / diff_lipo_time.days"
   ]
  },
  {
   "cell_type": "code",
   "execution_count": 110,
   "id": "e25ac295-b623-4149-853e-a84e2202fef8",
   "metadata": {},
   "outputs": [
    {
     "data": {
      "text/plain": [
       "0.00777777777777781"
      ]
     },
     "execution_count": 110,
     "metadata": {},
     "output_type": "execute_result"
    }
   ],
   "source": [
    "lipo_drain_per_day"
   ]
  },
  {
   "cell_type": "code",
   "execution_count": 20,
   "id": "034627cc-e2da-4ee5-b8af-eff6e9cf0542",
   "metadata": {},
   "outputs": [
    {
     "data": {
      "text/plain": [
       "0.007499999999999951"
      ]
     },
     "execution_count": 20,
     "metadata": {},
     "output_type": "execute_result"
    }
   ],
   "source": [
    "lipo_drain_per_day"
   ]
  },
  {
   "cell_type": "code",
   "execution_count": 17,
   "id": "ead2b71a-2151-4e54-aef7-a0e1387ab36b",
   "metadata": {},
   "outputs": [
    {
     "data": {
      "text/plain": [
       "0.0071999999999999885"
      ]
     },
     "execution_count": 17,
     "metadata": {},
     "output_type": "execute_result"
    }
   ],
   "source": [
    "lipo_drain_per_day"
   ]
  },
  {
   "cell_type": "code",
   "execution_count": 20,
   "id": "103b8aab-156a-4da8-840d-1b84818e88db",
   "metadata": {},
   "outputs": [
    {
     "data": {
      "text/plain": [
       "0.006969696969696929"
      ]
     },
     "execution_count": 20,
     "metadata": {},
     "output_type": "execute_result"
    }
   ],
   "source": [
    "lipo_drain_per_day"
   ]
  },
  {
   "cell_type": "code",
   "execution_count": 21,
   "id": "27a70fbc-5a20-49de-a356-058d2b7a454b",
   "metadata": {},
   "outputs": [
    {
     "data": {
      "text/plain": [
       "516.5217391304378"
      ]
     },
     "execution_count": 21,
     "metadata": {},
     "output_type": "execute_result"
    }
   ],
   "source": [
    "max_battery_Lipo = 12.6\n",
    "min_lipo = 9.0\n",
    "\n",
    "days_before_lipo_kong = (max_battery_Lipo - min_lipo) / lipo_drain_per_day\n",
    "\n",
    "days_before_lipo_kong"
   ]
  },
  {
   "cell_type": "code",
   "execution_count": 114,
   "id": "712d1b79-0502-4e4a-bdfc-b658cb82afb8",
   "metadata": {},
   "outputs": [
    {
     "data": {
      "text/plain": [
       "15.428571428571363"
      ]
     },
     "execution_count": 114,
     "metadata": {},
     "output_type": "execute_result"
    }
   ],
   "source": [
    "in_months(days_before_lipo_kong)"
   ]
  },
  {
   "cell_type": "code",
   "execution_count": 22,
   "id": "7459e68f-ad2a-41a1-b5f2-f483351bf4a1",
   "metadata": {},
   "outputs": [
    {
     "data": {
      "text/plain": [
       "16.000000000000103"
      ]
     },
     "execution_count": 22,
     "metadata": {},
     "output_type": "execute_result"
    }
   ],
   "source": [
    "in_months(days_before_lipo_kong)"
   ]
  },
  {
   "cell_type": "code",
   "execution_count": 19,
   "id": "ae3ef707-b2c7-40dd-8f6c-7a30e924ab96",
   "metadata": {},
   "outputs": [
    {
     "data": {
      "text/plain": [
       "16.666666666666693"
      ]
     },
     "execution_count": 19,
     "metadata": {},
     "output_type": "execute_result"
    }
   ],
   "source": [
    "in_months(days_before_lipo_kong)"
   ]
  },
  {
   "cell_type": "code",
   "execution_count": 22,
   "id": "839bed88-4199-443f-b43a-2a60ab07876a",
   "metadata": {},
   "outputs": [
    {
     "data": {
      "text/plain": [
       "17.217391304347927"
      ]
     },
     "execution_count": 22,
     "metadata": {},
     "output_type": "execute_result"
    }
   ],
   "source": [
    "in_months(days_before_lipo_kong)"
   ]
  },
  {
   "cell_type": "code",
   "execution_count": 27,
   "id": "db941661-dd6f-441c-8e7e-846fc1af731f",
   "metadata": {},
   "outputs": [
    {
     "data": {
      "image/png": "[encoded data removed]",
      "text/plain": [
       "<Figure size 1000x500 with 1 Axes>"
      ]
     },
     "metadata": {},
     "output_type": "display_data"
    }
   ],
   "source": [
    "# Plotting\n",
    "plt.figure(figsize=(10, 5))\n",
    "plt.plot(df['datetime'], df['Lipo-Battery'], marker='o')\n",
    "\n",
    "# Formatting the date\n",
    "plt.gca().xaxis.set_major_formatter(mdates.DateFormatter('%d-%m'))\n",
    "plt.gca().xaxis.set_major_locator(mdates.DayLocator())\n",
    "\n",
    "# Rotate date labels for better readability\n",
    "plt.gcf().autofmt_xdate()\n",
    "\n",
    "# Adding labels and title\n",
    "plt.xlabel('Date')\n",
    "plt.ylabel('Lipo V')\n",
    "plt.title('Lipo V vs. Date')\n",
    "\n",
    "# Show plot\n",
    "plt.show()"
   ]
  },
  {
   "cell_type": "code",
   "execution_count": null,
   "id": "be267011-cb80-4103-901a-03ce215f6eca",
   "metadata": {},
   "outputs": [],
   "source": []
  }
 ],
 "metadata": {
  "kernelspec": {
   "display_name": "Python 3 (ipykernel)",
   "language": "python",
   "name": "python3"
  },
  "language_info": {
   "codemirror_mode": {
    "name": "ipython",
    "version": 3
   },
   "file_extension": ".py",
   "mimetype": "text/x-python",
   "name": "python",
   "nbconvert_exporter": "python",
   "pygments_lexer": "ipython3",
   "version": "3.11.9"
  }
 },
 "nbformat": 4,
 "nbformat_minor": 5
}
