{
 "cells": [
  {
   "cell_type": "code",
   "execution_count": 1,
   "id": "8a2b284f-a1f2-4e90-841f-dd9d2a6e7d27",
   "metadata": {},
   "outputs": [],
   "source": [
    "from fastai.imports import *"
   ]
  },
  {
   "cell_type": "code",
   "execution_count": 2,
   "id": "cf231828-41d1-425c-980a-4074da68937a",
   "metadata": {},
   "outputs": [
    {
     "data": {
      "text/html": [
       "<div>\n",
       "<style scoped>\n",
       "    .dataframe tbody tr th:only-of-type {\n",
       "        vertical-align: middle;\n",
       "    }\n",
       "\n",
       "    .dataframe tbody tr th {\n",
       "        vertical-align: top;\n",
       "    }\n",
       "\n",
       "    .dataframe thead th {\n",
       "        text-align: right;\n",
       "    }\n",
       "</style>\n",
       "<table border=\"1\" class=\"dataframe\">\n",
       "  <thead>\n",
       "    <tr style=\"text-align: right;\">\n",
       "      <th></th>\n",
       "      <th>ID</th>\n",
       "      <th>Home</th>\n",
       "      <th>Age</th>\n",
       "      <th>Religion</th>\n",
       "      <th>Ethnicity</th>\n",
       "      <th>Education</th>\n",
       "      <th>Occupation</th>\n",
       "      <th>Income</th>\n",
       "      <th>Marital</th>\n",
       "      <th>Smoke</th>\n",
       "      <th>...</th>\n",
       "      <th>filter_$</th>\n",
       "      <th>religionnew</th>\n",
       "      <th>ethnicitynew</th>\n",
       "      <th>incomenew</th>\n",
       "      <th>maritalnew</th>\n",
       "      <th>educationnew</th>\n",
       "      <th>occupationnew</th>\n",
       "      <th>smokenew</th>\n",
       "      <th>alcoholnew</th>\n",
       "      <th>partnernew</th>\n",
       "    </tr>\n",
       "  </thead>\n",
       "  <tbody>\n",
       "    <tr>\n",
       "      <th>0</th>\n",
       "      <td>7</td>\n",
       "      <td>1</td>\n",
       "      <td>17</td>\n",
       "      <td>3</td>\n",
       "      <td>3</td>\n",
       "      <td>2</td>\n",
       "      <td>4</td>\n",
       "      <td>1</td>\n",
       "      <td>1</td>\n",
       "      <td>3</td>\n",
       "      <td>...</td>\n",
       "      <td>0</td>\n",
       "      <td>0</td>\n",
       "      <td>0</td>\n",
       "      <td>1</td>\n",
       "      <td>1</td>\n",
       "      <td>1</td>\n",
       "      <td>3</td>\n",
       "      <td>0</td>\n",
       "      <td>0</td>\n",
       "      <td>0</td>\n",
       "    </tr>\n",
       "    <tr>\n",
       "      <th>1</th>\n",
       "      <td>9</td>\n",
       "      <td>1</td>\n",
       "      <td>15</td>\n",
       "      <td>1</td>\n",
       "      <td>5</td>\n",
       "      <td>1</td>\n",
       "      <td>4</td>\n",
       "      <td>1</td>\n",
       "      <td>1</td>\n",
       "      <td>3</td>\n",
       "      <td>...</td>\n",
       "      <td>0</td>\n",
       "      <td>1</td>\n",
       "      <td>0</td>\n",
       "      <td>1</td>\n",
       "      <td>1</td>\n",
       "      <td>0</td>\n",
       "      <td>3</td>\n",
       "      <td>0</td>\n",
       "      <td>0</td>\n",
       "      <td>0</td>\n",
       "    </tr>\n",
       "    <tr>\n",
       "      <th>2</th>\n",
       "      <td>11</td>\n",
       "      <td>1</td>\n",
       "      <td>14</td>\n",
       "      <td>1</td>\n",
       "      <td>1</td>\n",
       "      <td>1</td>\n",
       "      <td>2</td>\n",
       "      <td>1</td>\n",
       "      <td>1</td>\n",
       "      <td>3</td>\n",
       "      <td>...</td>\n",
       "      <td>0</td>\n",
       "      <td>1</td>\n",
       "      <td>1</td>\n",
       "      <td>1</td>\n",
       "      <td>1</td>\n",
       "      <td>0</td>\n",
       "      <td>1</td>\n",
       "      <td>0</td>\n",
       "      <td>0</td>\n",
       "      <td>0</td>\n",
       "    </tr>\n",
       "    <tr>\n",
       "      <th>3</th>\n",
       "      <td>15</td>\n",
       "      <td>1</td>\n",
       "      <td>15</td>\n",
       "      <td>1</td>\n",
       "      <td>1</td>\n",
       "      <td>2</td>\n",
       "      <td>4</td>\n",
       "      <td>1</td>\n",
       "      <td>1</td>\n",
       "      <td>3</td>\n",
       "      <td>...</td>\n",
       "      <td>0</td>\n",
       "      <td>1</td>\n",
       "      <td>1</td>\n",
       "      <td>1</td>\n",
       "      <td>1</td>\n",
       "      <td>1</td>\n",
       "      <td>3</td>\n",
       "      <td>0</td>\n",
       "      <td>0</td>\n",
       "      <td>0</td>\n",
       "    </tr>\n",
       "    <tr>\n",
       "      <th>4</th>\n",
       "      <td>43</td>\n",
       "      <td>1</td>\n",
       "      <td>17</td>\n",
       "      <td>1</td>\n",
       "      <td>1</td>\n",
       "      <td>2</td>\n",
       "      <td>4</td>\n",
       "      <td>1</td>\n",
       "      <td>1</td>\n",
       "      <td>3</td>\n",
       "      <td>...</td>\n",
       "      <td>0</td>\n",
       "      <td>1</td>\n",
       "      <td>1</td>\n",
       "      <td>1</td>\n",
       "      <td>1</td>\n",
       "      <td>1</td>\n",
       "      <td>3</td>\n",
       "      <td>0</td>\n",
       "      <td>0</td>\n",
       "      <td>0</td>\n",
       "    </tr>\n",
       "  </tbody>\n",
       "</table>\n",
       "<p>5 rows × 147 columns</p>\n",
       "</div>"
      ],
      "text/plain": [
       "   ID  Home  Age  Religion  Ethnicity  Education  Occupation  Income  Marital  \\\n",
       "0   7     1   17         3          3          2           4       1        1   \n",
       "1   9     1   15         1          5          1           4       1        1   \n",
       "2  11     1   14         1          1          1           2       1        1   \n",
       "3  15     1   15         1          1          2           4       1        1   \n",
       "4  43     1   17         1          1          2           4       1        1   \n",
       "\n",
       "   Smoke  ...  filter_$  religionnew  ethnicitynew incomenew  maritalnew  \\\n",
       "0      3  ...         0            0             0         1           1   \n",
       "1      3  ...         0            1             0         1           1   \n",
       "2      3  ...         0            1             1         1           1   \n",
       "3      3  ...         0            1             1         1           1   \n",
       "4      3  ...         0            1             1         1           1   \n",
       "\n",
       "   educationnew  occupationnew  smokenew  alcoholnew  partnernew  \n",
       "0             1              3         0           0           0  \n",
       "1             0              3         0           0           0  \n",
       "2             0              1         0           0           0  \n",
       "3             1              3         0           0           0  \n",
       "4             1              3         0           0           0  \n",
       "\n",
       "[5 rows x 147 columns]"
      ]
     },
     "execution_count": 2,
     "metadata": {},
     "output_type": "execute_result"
    }
   ],
   "source": [
    "df = pd.read_csv('./references/09 data clean.csv')\n",
    "df.head()"
   ]
  },
  {
   "cell_type": "code",
   "execution_count": 3,
   "id": "43827d8a-fd7c-4273-92fc-11154a4a6e93",
   "metadata": {},
   "outputs": [
    {
     "data": {
      "text/html": [
       "<div>\n",
       "<style scoped>\n",
       "    .dataframe tbody tr th:only-of-type {\n",
       "        vertical-align: middle;\n",
       "    }\n",
       "\n",
       "    .dataframe tbody tr th {\n",
       "        vertical-align: top;\n",
       "    }\n",
       "\n",
       "    .dataframe thead th {\n",
       "        text-align: right;\n",
       "    }\n",
       "</style>\n",
       "<table border=\"1\" class=\"dataframe\">\n",
       "  <thead>\n",
       "    <tr style=\"text-align: right;\">\n",
       "      <th></th>\n",
       "      <th>ID</th>\n",
       "      <th>Home</th>\n",
       "      <th>Age</th>\n",
       "      <th>Religion</th>\n",
       "      <th>Ethnicity</th>\n",
       "      <th>Education</th>\n",
       "      <th>Occupation</th>\n",
       "      <th>Income</th>\n",
       "      <th>Marital</th>\n",
       "      <th>Smoke</th>\n",
       "      <th>Smoking</th>\n",
       "      <th>Alcohol</th>\n",
       "      <th>Partner</th>\n",
       "      <th>P_Age</th>\n",
       "      <th>P_Education</th>\n",
       "      <th>P_Occupation</th>\n",
       "      <th>P_Alcohol</th>\n",
       "      <th>P_Drugs</th>\n",
       "      <th>P_Fights</th>\n",
       "      <th>P_Women</th>\n",
       "      <th>P_Child</th>\n",
       "      <th>SectionCQ1</th>\n",
       "      <th>SectionCQ2</th>\n",
       "      <th>SectionCQ3</th>\n",
       "      <th>SectionCQ4</th>\n",
       "      <th>SectionCQ5</th>\n",
       "      <th>SectionCQ6</th>\n",
       "      <th>SectionCQ7</th>\n",
       "      <th>SectionCQ8</th>\n",
       "      <th>SectionCQ9</th>\n",
       "      <th>SectionCQ10</th>\n",
       "      <th>SectionCQ11</th>\n",
       "      <th>SectionCQ12</th>\n",
       "      <th>SectionCQ13</th>\n",
       "      <th>SectionCQ14</th>\n",
       "      <th>SectionCQ15</th>\n",
       "      <th>SectionCQ16</th>\n",
       "      <th>SectionCQ17</th>\n",
       "      <th>SectionCQ18</th>\n",
       "      <th>SectionCQ19</th>\n",
       "      <th>SectionCQ20</th>\n",
       "      <th>SectionCQ21</th>\n",
       "      <th>SectionCQ22</th>\n",
       "      <th>SectionCQ23</th>\n",
       "      <th>SectionCQ24</th>\n",
       "      <th>SectionCQ25</th>\n",
       "      <th>SectionCQ26</th>\n",
       "      <th>SectionCQ27</th>\n",
       "      <th>SectionCQ28</th>\n",
       "      <th>SectionCQ29</th>\n",
       "      <th>SectionCQ30</th>\n",
       "      <th>SectionCQ31</th>\n",
       "      <th>SectionCQ32</th>\n",
       "      <th>SectionCQ33</th>\n",
       "      <th>SectionCQ34</th>\n",
       "      <th>SectionCQ35</th>\n",
       "      <th>SectionCQ36</th>\n",
       "      <th>SectionCQ37</th>\n",
       "      <th>SectionCQ38</th>\n",
       "      <th>SectionCQ39</th>\n",
       "      <th>SectionCQ40</th>\n",
       "      <th>SectionCQ41</th>\n",
       "      <th>SectionCQ42</th>\n",
       "      <th>SectionCQ43</th>\n",
       "      <th>SectionCQ44</th>\n",
       "      <th>SectionDQ1</th>\n",
       "      <th>SectionDQ1a</th>\n",
       "      <th>SectionDQ2</th>\n",
       "      <th>SectionDQ2a</th>\n",
       "      <th>SectionDQ3</th>\n",
       "      <th>SectionDQ3a</th>\n",
       "      <th>SectionDQ4</th>\n",
       "      <th>SectionDQ5</th>\n",
       "      <th>PHQ1</th>\n",
       "      <th>PHQ2</th>\n",
       "      <th>PHQ3</th>\n",
       "      <th>PHQ4</th>\n",
       "      <th>PHQ5</th>\n",
       "      <th>PHQ6</th>\n",
       "      <th>PHQ7</th>\n",
       "      <th>PHQ8</th>\n",
       "      <th>PHQ9</th>\n",
       "      <th>PHQ10</th>\n",
       "      <th>TPHQ</th>\n",
       "      <th>LDEPRESSION</th>\n",
       "      <th>PDEPRESSION</th>\n",
       "      <th>GAD1</th>\n",
       "      <th>GAD2</th>\n",
       "      <th>GAD3</th>\n",
       "      <th>GAD4</th>\n",
       "      <th>GAD5</th>\n",
       "      <th>GAD6</th>\n",
       "      <th>GAD7</th>\n",
       "      <th>TANXIETY</th>\n",
       "      <th>Lanxiety</th>\n",
       "      <th>Panxiety</th>\n",
       "      <th>PCL1</th>\n",
       "      <th>PCL2</th>\n",
       "      <th>PCL3</th>\n",
       "      <th>PCL4</th>\n",
       "      <th>PCL5</th>\n",
       "      <th>PCL6</th>\n",
       "      <th>PCL7</th>\n",
       "      <th>PCL8</th>\n",
       "      <th>PCL9</th>\n",
       "      <th>PCL10</th>\n",
       "      <th>PCL11</th>\n",
       "      <th>PCL12</th>\n",
       "      <th>PCL13</th>\n",
       "      <th>PCL14</th>\n",
       "      <th>PCL15</th>\n",
       "      <th>PCL16</th>\n",
       "      <th>PCL17</th>\n",
       "      <th>PCL18</th>\n",
       "      <th>PCL19</th>\n",
       "      <th>PCL20</th>\n",
       "      <th>TPCL</th>\n",
       "      <th>PPTSD</th>\n",
       "      <th>MINI1</th>\n",
       "      <th>MINI1a</th>\n",
       "      <th>MINI2</th>\n",
       "      <th>MINI2a</th>\n",
       "      <th>MINI3</th>\n",
       "      <th>MINI4</th>\n",
       "      <th>MINI5</th>\n",
       "      <th>MINI6</th>\n",
       "      <th>MINI7</th>\n",
       "      <th>MINI8</th>\n",
       "      <th>MINI9</th>\n",
       "      <th>MINI10</th>\n",
       "      <th>MINI11</th>\n",
       "      <th>MINIdepression</th>\n",
       "      <th>EV</th>\n",
       "      <th>CB</th>\n",
       "      <th>PV</th>\n",
       "      <th>SV</th>\n",
       "      <th>IPV</th>\n",
       "      <th>filter_$</th>\n",
       "      <th>religionnew</th>\n",
       "      <th>ethnicitynew</th>\n",
       "      <th>incomenew</th>\n",
       "      <th>maritalnew</th>\n",
       "      <th>educationnew</th>\n",
       "      <th>occupationnew</th>\n",
       "      <th>smokenew</th>\n",
       "      <th>alcoholnew</th>\n",
       "      <th>partnernew</th>\n",
       "    </tr>\n",
       "  </thead>\n",
       "  <tbody>\n",
       "    <tr>\n",
       "      <th>0</th>\n",
       "      <td>7</td>\n",
       "      <td>1</td>\n",
       "      <td>17</td>\n",
       "      <td>3</td>\n",
       "      <td>3</td>\n",
       "      <td>2</td>\n",
       "      <td>4</td>\n",
       "      <td>1</td>\n",
       "      <td>1</td>\n",
       "      <td>3</td>\n",
       "      <td>3</td>\n",
       "      <td>7</td>\n",
       "      <td>1</td>\n",
       "      <td></td>\n",
       "      <td>6</td>\n",
       "      <td>6</td>\n",
       "      <td>7</td>\n",
       "      <td>7</td>\n",
       "      <td>4</td>\n",
       "      <td>5</td>\n",
       "      <td>6</td>\n",
       "      <td>2</td>\n",
       "      <td>2</td>\n",
       "      <td>2</td>\n",
       "      <td>2</td>\n",
       "      <td>1</td>\n",
       "      <td>2</td>\n",
       "      <td>2</td>\n",
       "      <td>2</td>\n",
       "      <td>2</td>\n",
       "      <td>2</td>\n",
       "      <td>2</td>\n",
       "      <td>2</td>\n",
       "      <td>2</td>\n",
       "      <td>3</td>\n",
       "      <td>2</td>\n",
       "      <td>3</td>\n",
       "      <td>2</td>\n",
       "      <td>3</td>\n",
       "      <td>2</td>\n",
       "      <td>3</td>\n",
       "      <td>2</td>\n",
       "      <td>3</td>\n",
       "      <td>2</td>\n",
       "      <td>3</td>\n",
       "      <td>2</td>\n",
       "      <td>3</td>\n",
       "      <td>2</td>\n",
       "      <td>3</td>\n",
       "      <td>2</td>\n",
       "      <td>3</td>\n",
       "      <td>2</td>\n",
       "      <td>3</td>\n",
       "      <td>2</td>\n",
       "      <td>3</td>\n",
       "      <td>2</td>\n",
       "      <td>3</td>\n",
       "      <td>2</td>\n",
       "      <td>3</td>\n",
       "      <td>3</td>\n",
       "      <td>4</td>\n",
       "      <td>4</td>\n",
       "      <td>4</td>\n",
       "      <td>4</td>\n",
       "      <td>5</td>\n",
       "      <td>1</td>\n",
       "      <td>1</td>\n",
       "      <td>1</td>\n",
       "      <td>1</td>\n",
       "      <td>1</td>\n",
       "      <td>1</td>\n",
       "      <td>2</td>\n",
       "      <td>1</td>\n",
       "      <td>0</td>\n",
       "      <td>3</td>\n",
       "      <td>3</td>\n",
       "      <td>2</td>\n",
       "      <td>0</td>\n",
       "      <td>3</td>\n",
       "      <td>1</td>\n",
       "      <td>1</td>\n",
       "      <td>3</td>\n",
       "      <td>1</td>\n",
       "      <td>16</td>\n",
       "      <td>4</td>\n",
       "      <td>0</td>\n",
       "      <td>3</td>\n",
       "      <td>3</td>\n",
       "      <td>3</td>\n",
       "      <td>3</td>\n",
       "      <td>1</td>\n",
       "      <td>2</td>\n",
       "      <td>2</td>\n",
       "      <td>17</td>\n",
       "      <td>4</td>\n",
       "      <td>1</td>\n",
       "      <td>3</td>\n",
       "      <td>2</td>\n",
       "      <td>3</td>\n",
       "      <td>3</td>\n",
       "      <td>3</td>\n",
       "      <td>1</td>\n",
       "      <td>2</td>\n",
       "      <td>3</td>\n",
       "      <td>1</td>\n",
       "      <td>2</td>\n",
       "      <td>3</td>\n",
       "      <td>3</td>\n",
       "      <td>1</td>\n",
       "      <td>3</td>\n",
       "      <td>2</td>\n",
       "      <td>1</td>\n",
       "      <td>1</td>\n",
       "      <td>3</td>\n",
       "      <td>1</td>\n",
       "      <td>1</td>\n",
       "      <td>42</td>\n",
       "      <td>1</td>\n",
       "      <td>1</td>\n",
       "      <td>1</td>\n",
       "      <td>1</td>\n",
       "      <td>1</td>\n",
       "      <td>2</td>\n",
       "      <td>2</td>\n",
       "      <td>2</td>\n",
       "      <td>2</td>\n",
       "      <td>2</td>\n",
       "      <td>1</td>\n",
       "      <td>2</td>\n",
       "      <td>2</td>\n",
       "      <td>1</td>\n",
       "      <td>0</td>\n",
       "      <td>0</td>\n",
       "      <td>0</td>\n",
       "      <td>0</td>\n",
       "      <td>0</td>\n",
       "      <td>0</td>\n",
       "      <td>0</td>\n",
       "      <td>0</td>\n",
       "      <td>0</td>\n",
       "      <td>1</td>\n",
       "      <td>1</td>\n",
       "      <td>1</td>\n",
       "      <td>3</td>\n",
       "      <td>0</td>\n",
       "      <td>0</td>\n",
       "      <td>0</td>\n",
       "    </tr>\n",
       "    <tr>\n",
       "      <th>1</th>\n",
       "      <td>9</td>\n",
       "      <td>1</td>\n",
       "      <td>15</td>\n",
       "      <td>1</td>\n",
       "      <td>5</td>\n",
       "      <td>1</td>\n",
       "      <td>4</td>\n",
       "      <td>1</td>\n",
       "      <td>1</td>\n",
       "      <td>3</td>\n",
       "      <td>3</td>\n",
       "      <td>7</td>\n",
       "      <td>4</td>\n",
       "      <td></td>\n",
       "      <td>6</td>\n",
       "      <td>6</td>\n",
       "      <td>7</td>\n",
       "      <td>7</td>\n",
       "      <td>4</td>\n",
       "      <td>5</td>\n",
       "      <td>6</td>\n",
       "      <td>2</td>\n",
       "      <td>2</td>\n",
       "      <td>2</td>\n",
       "      <td>2</td>\n",
       "      <td>1</td>\n",
       "      <td>2</td>\n",
       "      <td>2</td>\n",
       "      <td>2</td>\n",
       "      <td>2</td>\n",
       "      <td>2</td>\n",
       "      <td>2</td>\n",
       "      <td>2</td>\n",
       "      <td>2</td>\n",
       "      <td>3</td>\n",
       "      <td>2</td>\n",
       "      <td>3</td>\n",
       "      <td>2</td>\n",
       "      <td>3</td>\n",
       "      <td>2</td>\n",
       "      <td>3</td>\n",
       "      <td>2</td>\n",
       "      <td>3</td>\n",
       "      <td>2</td>\n",
       "      <td>3</td>\n",
       "      <td>2</td>\n",
       "      <td>3</td>\n",
       "      <td>2</td>\n",
       "      <td>3</td>\n",
       "      <td>2</td>\n",
       "      <td>3</td>\n",
       "      <td>2</td>\n",
       "      <td>3</td>\n",
       "      <td>2</td>\n",
       "      <td>3</td>\n",
       "      <td>2</td>\n",
       "      <td>3</td>\n",
       "      <td>2</td>\n",
       "      <td>3</td>\n",
       "      <td>3</td>\n",
       "      <td>4</td>\n",
       "      <td>4</td>\n",
       "      <td>4</td>\n",
       "      <td>4</td>\n",
       "      <td>5</td>\n",
       "      <td>2</td>\n",
       "      <td></td>\n",
       "      <td>1</td>\n",
       "      <td>89</td>\n",
       "      <td>2</td>\n",
       "      <td></td>\n",
       "      <td>2</td>\n",
       "      <td>1</td>\n",
       "      <td>1</td>\n",
       "      <td>3</td>\n",
       "      <td>0</td>\n",
       "      <td>3</td>\n",
       "      <td>2</td>\n",
       "      <td>3</td>\n",
       "      <td>2</td>\n",
       "      <td>2</td>\n",
       "      <td>1</td>\n",
       "      <td>3</td>\n",
       "      <td>17</td>\n",
       "      <td>4</td>\n",
       "      <td>0</td>\n",
       "      <td>1</td>\n",
       "      <td>0</td>\n",
       "      <td>3</td>\n",
       "      <td>1</td>\n",
       "      <td>0</td>\n",
       "      <td>2</td>\n",
       "      <td>1</td>\n",
       "      <td>8</td>\n",
       "      <td>2</td>\n",
       "      <td>0</td>\n",
       "      <td>4</td>\n",
       "      <td>0</td>\n",
       "      <td>3</td>\n",
       "      <td>4</td>\n",
       "      <td>1</td>\n",
       "      <td>4</td>\n",
       "      <td>0</td>\n",
       "      <td>0</td>\n",
       "      <td>4</td>\n",
       "      <td>0</td>\n",
       "      <td>4</td>\n",
       "      <td>2</td>\n",
       "      <td>4</td>\n",
       "      <td>2</td>\n",
       "      <td>4</td>\n",
       "      <td>0</td>\n",
       "      <td>2</td>\n",
       "      <td>0</td>\n",
       "      <td>2</td>\n",
       "      <td>4</td>\n",
       "      <td>44</td>\n",
       "      <td>1</td>\n",
       "      <td>2</td>\n",
       "      <td></td>\n",
       "      <td>2</td>\n",
       "      <td></td>\n",
       "      <td></td>\n",
       "      <td></td>\n",
       "      <td></td>\n",
       "      <td></td>\n",
       "      <td></td>\n",
       "      <td></td>\n",
       "      <td></td>\n",
       "      <td></td>\n",
       "      <td></td>\n",
       "      <td>0</td>\n",
       "      <td>0</td>\n",
       "      <td>0</td>\n",
       "      <td>0</td>\n",
       "      <td>0</td>\n",
       "      <td>0</td>\n",
       "      <td>0</td>\n",
       "      <td>1</td>\n",
       "      <td>0</td>\n",
       "      <td>1</td>\n",
       "      <td>1</td>\n",
       "      <td>0</td>\n",
       "      <td>3</td>\n",
       "      <td>0</td>\n",
       "      <td>0</td>\n",
       "      <td>0</td>\n",
       "    </tr>\n",
       "    <tr>\n",
       "      <th>2</th>\n",
       "      <td>11</td>\n",
       "      <td>1</td>\n",
       "      <td>14</td>\n",
       "      <td>1</td>\n",
       "      <td>1</td>\n",
       "      <td>1</td>\n",
       "      <td>2</td>\n",
       "      <td>1</td>\n",
       "      <td>1</td>\n",
       "      <td>3</td>\n",
       "      <td>3</td>\n",
       "      <td>7</td>\n",
       "      <td>2</td>\n",
       "      <td></td>\n",
       "      <td>6</td>\n",
       "      <td>6</td>\n",
       "      <td>7</td>\n",
       "      <td>7</td>\n",
       "      <td>4</td>\n",
       "      <td>5</td>\n",
       "      <td>6</td>\n",
       "      <td>2</td>\n",
       "      <td>2</td>\n",
       "      <td>2</td>\n",
       "      <td>2</td>\n",
       "      <td>1</td>\n",
       "      <td>2</td>\n",
       "      <td>2</td>\n",
       "      <td>2</td>\n",
       "      <td>2</td>\n",
       "      <td>2</td>\n",
       "      <td>2</td>\n",
       "      <td>2</td>\n",
       "      <td>2</td>\n",
       "      <td>3</td>\n",
       "      <td>2</td>\n",
       "      <td>3</td>\n",
       "      <td>2</td>\n",
       "      <td>3</td>\n",
       "      <td>2</td>\n",
       "      <td>3</td>\n",
       "      <td>2</td>\n",
       "      <td>3</td>\n",
       "      <td>2</td>\n",
       "      <td>3</td>\n",
       "      <td>2</td>\n",
       "      <td>3</td>\n",
       "      <td>2</td>\n",
       "      <td>3</td>\n",
       "      <td>2</td>\n",
       "      <td>3</td>\n",
       "      <td>2</td>\n",
       "      <td>3</td>\n",
       "      <td>2</td>\n",
       "      <td>3</td>\n",
       "      <td>2</td>\n",
       "      <td>3</td>\n",
       "      <td>2</td>\n",
       "      <td>3</td>\n",
       "      <td>3</td>\n",
       "      <td>4</td>\n",
       "      <td>4</td>\n",
       "      <td>4</td>\n",
       "      <td>4</td>\n",
       "      <td>5</td>\n",
       "      <td>1</td>\n",
       "      <td>1</td>\n",
       "      <td>1</td>\n",
       "      <td>1</td>\n",
       "      <td>1</td>\n",
       "      <td>1</td>\n",
       "      <td>1</td>\n",
       "      <td>1</td>\n",
       "      <td>3</td>\n",
       "      <td>3</td>\n",
       "      <td>3</td>\n",
       "      <td>3</td>\n",
       "      <td>3</td>\n",
       "      <td>3</td>\n",
       "      <td>3</td>\n",
       "      <td>3</td>\n",
       "      <td>3</td>\n",
       "      <td>3</td>\n",
       "      <td>27</td>\n",
       "      <td>5</td>\n",
       "      <td>1</td>\n",
       "      <td>3</td>\n",
       "      <td>3</td>\n",
       "      <td>3</td>\n",
       "      <td>3</td>\n",
       "      <td>3</td>\n",
       "      <td>2</td>\n",
       "      <td>3</td>\n",
       "      <td>20</td>\n",
       "      <td>4</td>\n",
       "      <td>1</td>\n",
       "      <td>4</td>\n",
       "      <td>4</td>\n",
       "      <td>4</td>\n",
       "      <td>4</td>\n",
       "      <td>4</td>\n",
       "      <td>4</td>\n",
       "      <td>4</td>\n",
       "      <td>4</td>\n",
       "      <td>4</td>\n",
       "      <td>4</td>\n",
       "      <td>4</td>\n",
       "      <td>4</td>\n",
       "      <td>4</td>\n",
       "      <td>4</td>\n",
       "      <td>4</td>\n",
       "      <td>4</td>\n",
       "      <td>4</td>\n",
       "      <td>4</td>\n",
       "      <td>4</td>\n",
       "      <td>4</td>\n",
       "      <td>80</td>\n",
       "      <td>1</td>\n",
       "      <td>1</td>\n",
       "      <td>1</td>\n",
       "      <td>1</td>\n",
       "      <td>1</td>\n",
       "      <td>2</td>\n",
       "      <td>2</td>\n",
       "      <td>1</td>\n",
       "      <td>1</td>\n",
       "      <td>1</td>\n",
       "      <td>1</td>\n",
       "      <td>1</td>\n",
       "      <td>1</td>\n",
       "      <td>1</td>\n",
       "      <td>1</td>\n",
       "      <td>0</td>\n",
       "      <td>0</td>\n",
       "      <td>0</td>\n",
       "      <td>0</td>\n",
       "      <td>0</td>\n",
       "      <td>0</td>\n",
       "      <td>1</td>\n",
       "      <td>1</td>\n",
       "      <td>1</td>\n",
       "      <td>1</td>\n",
       "      <td>0</td>\n",
       "      <td>1</td>\n",
       "      <td>0</td>\n",
       "      <td>0</td>\n",
       "      <td>0</td>\n",
       "    </tr>\n",
       "    <tr>\n",
       "      <th>3</th>\n",
       "      <td>15</td>\n",
       "      <td>1</td>\n",
       "      <td>15</td>\n",
       "      <td>1</td>\n",
       "      <td>1</td>\n",
       "      <td>2</td>\n",
       "      <td>4</td>\n",
       "      <td>1</td>\n",
       "      <td>1</td>\n",
       "      <td>3</td>\n",
       "      <td>3</td>\n",
       "      <td>7</td>\n",
       "      <td>1</td>\n",
       "      <td></td>\n",
       "      <td>6</td>\n",
       "      <td>6</td>\n",
       "      <td>7</td>\n",
       "      <td>7</td>\n",
       "      <td>4</td>\n",
       "      <td>5</td>\n",
       "      <td>6</td>\n",
       "      <td>2</td>\n",
       "      <td>2</td>\n",
       "      <td>2</td>\n",
       "      <td>2</td>\n",
       "      <td>1</td>\n",
       "      <td>2</td>\n",
       "      <td>2</td>\n",
       "      <td>2</td>\n",
       "      <td>2</td>\n",
       "      <td>2</td>\n",
       "      <td>2</td>\n",
       "      <td>2</td>\n",
       "      <td>2</td>\n",
       "      <td>3</td>\n",
       "      <td>2</td>\n",
       "      <td>3</td>\n",
       "      <td>2</td>\n",
       "      <td>3</td>\n",
       "      <td>2</td>\n",
       "      <td>3</td>\n",
       "      <td>2</td>\n",
       "      <td>3</td>\n",
       "      <td>2</td>\n",
       "      <td>3</td>\n",
       "      <td>2</td>\n",
       "      <td>3</td>\n",
       "      <td>2</td>\n",
       "      <td>3</td>\n",
       "      <td>2</td>\n",
       "      <td>3</td>\n",
       "      <td>2</td>\n",
       "      <td>3</td>\n",
       "      <td>2</td>\n",
       "      <td>3</td>\n",
       "      <td>2</td>\n",
       "      <td>3</td>\n",
       "      <td>2</td>\n",
       "      <td>3</td>\n",
       "      <td>3</td>\n",
       "      <td>4</td>\n",
       "      <td>4</td>\n",
       "      <td>4</td>\n",
       "      <td>4</td>\n",
       "      <td>5</td>\n",
       "      <td>1</td>\n",
       "      <td>34</td>\n",
       "      <td>1</td>\n",
       "      <td>13</td>\n",
       "      <td>1</td>\n",
       "      <td>13</td>\n",
       "      <td>4</td>\n",
       "      <td>2</td>\n",
       "      <td>0</td>\n",
       "      <td>0</td>\n",
       "      <td>1</td>\n",
       "      <td>0</td>\n",
       "      <td>0</td>\n",
       "      <td>0</td>\n",
       "      <td>0</td>\n",
       "      <td>0</td>\n",
       "      <td>0</td>\n",
       "      <td>1</td>\n",
       "      <td>1</td>\n",
       "      <td>1</td>\n",
       "      <td>0</td>\n",
       "      <td>0</td>\n",
       "      <td>0</td>\n",
       "      <td>0</td>\n",
       "      <td>0</td>\n",
       "      <td>0</td>\n",
       "      <td>0</td>\n",
       "      <td>0</td>\n",
       "      <td>0</td>\n",
       "      <td>1</td>\n",
       "      <td>0</td>\n",
       "      <td>0</td>\n",
       "      <td>0</td>\n",
       "      <td>0</td>\n",
       "      <td>0</td>\n",
       "      <td>0</td>\n",
       "      <td>0</td>\n",
       "      <td>0</td>\n",
       "      <td>0</td>\n",
       "      <td>0</td>\n",
       "      <td>0</td>\n",
       "      <td>0</td>\n",
       "      <td>0</td>\n",
       "      <td>0</td>\n",
       "      <td>0</td>\n",
       "      <td>0</td>\n",
       "      <td>0</td>\n",
       "      <td>0</td>\n",
       "      <td>0</td>\n",
       "      <td>0</td>\n",
       "      <td>0</td>\n",
       "      <td>0</td>\n",
       "      <td>0</td>\n",
       "      <td>2</td>\n",
       "      <td></td>\n",
       "      <td>2</td>\n",
       "      <td></td>\n",
       "      <td>2</td>\n",
       "      <td>2</td>\n",
       "      <td>2</td>\n",
       "      <td>2</td>\n",
       "      <td>2</td>\n",
       "      <td>2</td>\n",
       "      <td>2</td>\n",
       "      <td>2</td>\n",
       "      <td>2</td>\n",
       "      <td>0</td>\n",
       "      <td>0</td>\n",
       "      <td>0</td>\n",
       "      <td>0</td>\n",
       "      <td>0</td>\n",
       "      <td>0</td>\n",
       "      <td>0</td>\n",
       "      <td>1</td>\n",
       "      <td>1</td>\n",
       "      <td>1</td>\n",
       "      <td>1</td>\n",
       "      <td>1</td>\n",
       "      <td>3</td>\n",
       "      <td>0</td>\n",
       "      <td>0</td>\n",
       "      <td>0</td>\n",
       "    </tr>\n",
       "    <tr>\n",
       "      <th>4</th>\n",
       "      <td>43</td>\n",
       "      <td>1</td>\n",
       "      <td>17</td>\n",
       "      <td>1</td>\n",
       "      <td>1</td>\n",
       "      <td>2</td>\n",
       "      <td>4</td>\n",
       "      <td>1</td>\n",
       "      <td>1</td>\n",
       "      <td>3</td>\n",
       "      <td>3</td>\n",
       "      <td>7</td>\n",
       "      <td>1</td>\n",
       "      <td></td>\n",
       "      <td>6</td>\n",
       "      <td>6</td>\n",
       "      <td>7</td>\n",
       "      <td>7</td>\n",
       "      <td>4</td>\n",
       "      <td>5</td>\n",
       "      <td>6</td>\n",
       "      <td>2</td>\n",
       "      <td>2</td>\n",
       "      <td>2</td>\n",
       "      <td>2</td>\n",
       "      <td>1</td>\n",
       "      <td>2</td>\n",
       "      <td>2</td>\n",
       "      <td>2</td>\n",
       "      <td>2</td>\n",
       "      <td>2</td>\n",
       "      <td>2</td>\n",
       "      <td>2</td>\n",
       "      <td>2</td>\n",
       "      <td>3</td>\n",
       "      <td>2</td>\n",
       "      <td>3</td>\n",
       "      <td>2</td>\n",
       "      <td>3</td>\n",
       "      <td>2</td>\n",
       "      <td>3</td>\n",
       "      <td>2</td>\n",
       "      <td>3</td>\n",
       "      <td>2</td>\n",
       "      <td>3</td>\n",
       "      <td>2</td>\n",
       "      <td>3</td>\n",
       "      <td>2</td>\n",
       "      <td>3</td>\n",
       "      <td>2</td>\n",
       "      <td>3</td>\n",
       "      <td>2</td>\n",
       "      <td>3</td>\n",
       "      <td>2</td>\n",
       "      <td>3</td>\n",
       "      <td>2</td>\n",
       "      <td>3</td>\n",
       "      <td>2</td>\n",
       "      <td>3</td>\n",
       "      <td>3</td>\n",
       "      <td>4</td>\n",
       "      <td>4</td>\n",
       "      <td>4</td>\n",
       "      <td>4</td>\n",
       "      <td>5</td>\n",
       "      <td>1</td>\n",
       "      <td>2</td>\n",
       "      <td>2</td>\n",
       "      <td></td>\n",
       "      <td>2</td>\n",
       "      <td></td>\n",
       "      <td>13</td>\n",
       "      <td>1</td>\n",
       "      <td>1</td>\n",
       "      <td>1</td>\n",
       "      <td>2</td>\n",
       "      <td>2</td>\n",
       "      <td>3</td>\n",
       "      <td>3</td>\n",
       "      <td>3</td>\n",
       "      <td>1</td>\n",
       "      <td>2</td>\n",
       "      <td>1</td>\n",
       "      <td>18</td>\n",
       "      <td>4</td>\n",
       "      <td>0</td>\n",
       "      <td>1</td>\n",
       "      <td>1</td>\n",
       "      <td>0</td>\n",
       "      <td>0</td>\n",
       "      <td>1</td>\n",
       "      <td>2</td>\n",
       "      <td>1</td>\n",
       "      <td>6</td>\n",
       "      <td>2</td>\n",
       "      <td>0</td>\n",
       "      <td>3</td>\n",
       "      <td>2</td>\n",
       "      <td>2</td>\n",
       "      <td>3</td>\n",
       "      <td>2</td>\n",
       "      <td>2</td>\n",
       "      <td>2</td>\n",
       "      <td>1</td>\n",
       "      <td>3</td>\n",
       "      <td>3</td>\n",
       "      <td>3</td>\n",
       "      <td>3</td>\n",
       "      <td>3</td>\n",
       "      <td>2</td>\n",
       "      <td>2</td>\n",
       "      <td>2</td>\n",
       "      <td>1</td>\n",
       "      <td>2</td>\n",
       "      <td>3</td>\n",
       "      <td>3</td>\n",
       "      <td>47</td>\n",
       "      <td>1</td>\n",
       "      <td>2</td>\n",
       "      <td></td>\n",
       "      <td>1</td>\n",
       "      <td>2</td>\n",
       "      <td>2</td>\n",
       "      <td>2</td>\n",
       "      <td>2</td>\n",
       "      <td>2</td>\n",
       "      <td>2</td>\n",
       "      <td>2</td>\n",
       "      <td>2</td>\n",
       "      <td>2</td>\n",
       "      <td>2</td>\n",
       "      <td>0</td>\n",
       "      <td>0</td>\n",
       "      <td>0</td>\n",
       "      <td>0</td>\n",
       "      <td>0</td>\n",
       "      <td>0</td>\n",
       "      <td>0</td>\n",
       "      <td>1</td>\n",
       "      <td>1</td>\n",
       "      <td>1</td>\n",
       "      <td>1</td>\n",
       "      <td>1</td>\n",
       "      <td>3</td>\n",
       "      <td>0</td>\n",
       "      <td>0</td>\n",
       "      <td>0</td>\n",
       "    </tr>\n",
       "  </tbody>\n",
       "</table>\n",
       "</div>"
      ],
      "text/plain": [
       "   ID  Home  Age  Religion  Ethnicity  Education  Occupation  Income  Marital  \\\n",
       "0   7     1   17         3          3          2           4       1        1   \n",
       "1   9     1   15         1          5          1           4       1        1   \n",
       "2  11     1   14         1          1          1           2       1        1   \n",
       "3  15     1   15         1          1          2           4       1        1   \n",
       "4  43     1   17         1          1          2           4       1        1   \n",
       "\n",
       "   Smoke  Smoking  Alcohol  Partner P_Age  P_Education  P_Occupation  \\\n",
       "0      3        3        7        1                  6             6   \n",
       "1      3        3        7        4                  6             6   \n",
       "2      3        3        7        2                  6             6   \n",
       "3      3        3        7        1                  6             6   \n",
       "4      3        3        7        1                  6             6   \n",
       "\n",
       "   P_Alcohol  P_Drugs  P_Fights  P_Women  P_Child  SectionCQ1  SectionCQ2  \\\n",
       "0          7        7         4        5        6           2           2   \n",
       "1          7        7         4        5        6           2           2   \n",
       "2          7        7         4        5        6           2           2   \n",
       "3          7        7         4        5        6           2           2   \n",
       "4          7        7         4        5        6           2           2   \n",
       "\n",
       "   SectionCQ3  SectionCQ4  SectionCQ5  SectionCQ6 SectionCQ7  SectionCQ8  \\\n",
       "0           2           2           1           2          2           2   \n",
       "1           2           2           1           2          2           2   \n",
       "2           2           2           1           2          2           2   \n",
       "3           2           2           1           2          2           2   \n",
       "4           2           2           1           2          2           2   \n",
       "\n",
       "   SectionCQ9  SectionCQ10  SectionCQ11  SectionCQ12  SectionCQ13  \\\n",
       "0           2            2            2            2            2   \n",
       "1           2            2            2            2            2   \n",
       "2           2            2            2            2            2   \n",
       "3           2            2            2            2            2   \n",
       "4           2            2            2            2            2   \n",
       "\n",
       "   SectionCQ14  SectionCQ15  SectionCQ16  SectionCQ17 SectionCQ18  \\\n",
       "0            3            2            3            2           3   \n",
       "1            3            2            3            2           3   \n",
       "2            3            2            3            2           3   \n",
       "3            3            2            3            2           3   \n",
       "4            3            2            3            2           3   \n",
       "\n",
       "   SectionCQ19  SectionCQ20  SectionCQ21  SectionCQ22  SectionCQ23  \\\n",
       "0            2            3            2            3            2   \n",
       "1            2            3            2            3            2   \n",
       "2            2            3            2            3            2   \n",
       "3            2            3            2            3            2   \n",
       "4            2            3            2            3            2   \n",
       "\n",
       "   SectionCQ24  SectionCQ25  SectionCQ26  SectionCQ27  SectionCQ28  \\\n",
       "0            3            2            3            2            3   \n",
       "1            3            2            3            2            3   \n",
       "2            3            2            3            2            3   \n",
       "3            3            2            3            2            3   \n",
       "4            3            2            3            2            3   \n",
       "\n",
       "   SectionCQ29  SectionCQ30  SectionCQ31  SectionCQ32  SectionCQ33  \\\n",
       "0            2            3            2            3            2   \n",
       "1            2            3            2            3            2   \n",
       "2            2            3            2            3            2   \n",
       "3            2            3            2            3            2   \n",
       "4            2            3            2            3            2   \n",
       "\n",
       "   SectionCQ34  SectionCQ35  SectionCQ36  SectionCQ37  SectionCQ38  \\\n",
       "0            3            2            3            2            3   \n",
       "1            3            2            3            2            3   \n",
       "2            3            2            3            2            3   \n",
       "3            3            2            3            2            3   \n",
       "4            3            2            3            2            3   \n",
       "\n",
       "   SectionCQ39 SectionCQ40 SectionCQ41 SectionCQ42 SectionCQ43 SectionCQ44  \\\n",
       "0            3           4           4           4           4           5   \n",
       "1            3           4           4           4           4           5   \n",
       "2            3           4           4           4           4           5   \n",
       "3            3           4           4           4           4           5   \n",
       "4            3           4           4           4           4           5   \n",
       "\n",
       "   SectionDQ1 SectionDQ1a  SectionDQ2 SectionDQ2a  SectionDQ3 SectionDQ3a  \\\n",
       "0           1           1           1           1           1           1   \n",
       "1           2                       1          89           2               \n",
       "2           1           1           1           1           1           1   \n",
       "3           1          34           1          13           1          13   \n",
       "4           1           2           2                       2               \n",
       "\n",
       "   SectionDQ4  SectionDQ5  PHQ1  PHQ2  PHQ3  PHQ4  PHQ5  PHQ6  PHQ7  PHQ8  \\\n",
       "0           2           1     0     3     3     2     0     3     1     1   \n",
       "1           2           1     1     3     0     3     2     3     2     2   \n",
       "2           1           1     3     3     3     3     3     3     3     3   \n",
       "3           4           2     0     0     1     0     0     0     0     0   \n",
       "4          13           1     1     1     2     2     3     3     3     1   \n",
       "\n",
       "   PHQ9  PHQ10  TPHQ  LDEPRESSION  PDEPRESSION  GAD1  GAD2  GAD3  GAD4  GAD5  \\\n",
       "0     3      1    16            4            0     3     3     3     3     1   \n",
       "1     1      3    17            4            0     1     0     3     1     0   \n",
       "2     3      3    27            5            1     3     3     3     3     3   \n",
       "3     0      1     1            1            0     0     0     0     0     0   \n",
       "4     2      1    18            4            0     1     1     0     0     1   \n",
       "\n",
       "   GAD6  GAD7  TANXIETY  Lanxiety  Panxiety  PCL1  PCL2  PCL3  PCL4  PCL5  \\\n",
       "0     2     2        17         4         1     3     2     3     3     3   \n",
       "1     2     1         8         2         0     4     0     3     4     1   \n",
       "2     2     3        20         4         1     4     4     4     4     4   \n",
       "3     0     0         0         1         0     0     0     0     0     0   \n",
       "4     2     1         6         2         0     3     2     2     3     2   \n",
       "\n",
       "   PCL6  PCL7  PCL8  PCL9  PCL10  PCL11  PCL12  PCL13  PCL14  PCL15  PCL16  \\\n",
       "0     1     2     3     1      2      3      3      1      3      2      1   \n",
       "1     4     0     0     4      0      4      2      4      2      4      0   \n",
       "2     4     4     4     4      4      4      4      4      4      4      4   \n",
       "3     0     0     0     0      0      0      0      0      0      0      0   \n",
       "4     2     2     1     3      3      3      3      3      2      2      2   \n",
       "\n",
       "   PCL17  PCL18  PCL19  PCL20  TPCL  PPTSD  MINI1 MINI1a  MINI2 MINI2a MINI3  \\\n",
       "0      1      3      1      1    42      1      1      1      1      1     2   \n",
       "1      2      0      2      4    44      1      2             2                \n",
       "2      4      4      4      4    80      1      1      1      1      1     2   \n",
       "3      0      0      0      0     0      0      2             2            2   \n",
       "4      1      2      3      3    47      1      2             1      2     2   \n",
       "\n",
       "  MINI4 MINI5 MINI6 MINI7 MINI8 MINI9 MINI10 MINI11  MINIdepression  EV  CB  \\\n",
       "0     2     2     2     2     1     2      2      1               0   0   0   \n",
       "1                                                                 0   0   0   \n",
       "2     2     1     1     1     1     1      1      1               1   0   0   \n",
       "3     2     2     2     2     2     2      2      2               0   0   0   \n",
       "4     2     2     2     2     2     2      2      2               0   0   0   \n",
       "\n",
       "   PV  SV  IPV  filter_$  religionnew  ethnicitynew  incomenew  maritalnew  \\\n",
       "0   0   0    0         0            0             0          1           1   \n",
       "1   0   0    0         0            1             0          1           1   \n",
       "2   0   0    0         0            1             1          1           1   \n",
       "3   0   0    0         0            1             1          1           1   \n",
       "4   0   0    0         0            1             1          1           1   \n",
       "\n",
       "   educationnew  occupationnew  smokenew  alcoholnew  partnernew  \n",
       "0             1              3         0           0           0  \n",
       "1             0              3         0           0           0  \n",
       "2             0              1         0           0           0  \n",
       "3             1              3         0           0           0  \n",
       "4             1              3         0           0           0  "
      ]
     },
     "execution_count": 3,
     "metadata": {},
     "output_type": "execute_result"
    }
   ],
   "source": [
    "pd.set_option('display.max_columns', None)\n",
    "df.head()"
   ]
  },
  {
   "cell_type": "code",
   "execution_count": 4,
   "id": "014fef9b-d252-437e-aa70-e745378fd16b",
   "metadata": {},
   "outputs": [
    {
     "data": {
      "text/plain": [
       "21"
      ]
     },
     "execution_count": 4,
     "metadata": {},
     "output_type": "execute_result"
    }
   ],
   "source": [
    "df.columns.get_loc('SectionCQ1')"
   ]
  },
  {
   "cell_type": "code",
   "execution_count": 5,
   "id": "543a4aea-ed9e-47fe-8f44-b995aa976e01",
   "metadata": {},
   "outputs": [
    {
     "data": {
      "text/plain": [
       "83"
      ]
     },
     "execution_count": 5,
     "metadata": {},
     "output_type": "execute_result"
    }
   ],
   "source": [
    "df.columns.get_loc('TPHQ')"
   ]
  },
  {
   "cell_type": "code",
   "execution_count": 6,
   "id": "f5639299-2e86-4914-bc4d-137a84d82ac7",
   "metadata": {},
   "outputs": [],
   "source": [
    "df = df.drop(df.columns[21:84], axis=1) # axis: 0 = rows, 1 = columns"
   ]
  },
  {
   "cell_type": "code",
   "execution_count": 7,
   "id": "874460fd-b7e6-42d5-9493-c0bfcc1ab2c3",
   "metadata": {},
   "outputs": [
    {
     "data": {
      "text/plain": [
       "23"
      ]
     },
     "execution_count": 7,
     "metadata": {},
     "output_type": "execute_result"
    }
   ],
   "source": [
    "df.columns.get_loc('GAD1')"
   ]
  },
  {
   "cell_type": "code",
   "execution_count": 8,
   "id": "f9f6e27c-7cb6-4bbc-8377-4c29f2fcd03f",
   "metadata": {},
   "outputs": [
    {
     "data": {
      "text/plain": [
       "30"
      ]
     },
     "execution_count": 8,
     "metadata": {},
     "output_type": "execute_result"
    }
   ],
   "source": [
    "df.columns.get_loc('TANXIETY')"
   ]
  },
  {
   "cell_type": "code",
   "execution_count": 9,
   "id": "2fd24313-50ed-455f-ba50-28564e3c6235",
   "metadata": {},
   "outputs": [],
   "source": [
    "df = df.drop(df.columns[23:31], axis=1) # axis: 0 = rows, 1 = columns"
   ]
  },
  {
   "cell_type": "code",
   "execution_count": 10,
   "id": "81a6e550-293d-4aa8-8a43-c0915685b0c2",
   "metadata": {},
   "outputs": [
    {
     "data": {
      "text/plain": [
       "25"
      ]
     },
     "execution_count": 10,
     "metadata": {},
     "output_type": "execute_result"
    }
   ],
   "source": [
    "df.columns.get_loc('PCL1')"
   ]
  },
  {
   "cell_type": "code",
   "execution_count": 11,
   "id": "97eb6695-ba92-4bc1-b74d-d522c2612398",
   "metadata": {},
   "outputs": [
    {
     "data": {
      "text/plain": [
       "45"
      ]
     },
     "execution_count": 11,
     "metadata": {},
     "output_type": "execute_result"
    }
   ],
   "source": [
    "df.columns.get_loc('TPCL')"
   ]
  },
  {
   "cell_type": "code",
   "execution_count": 12,
   "id": "6fdf19d1-b560-4e2f-9798-bcf6916200c7",
   "metadata": {},
   "outputs": [],
   "source": [
    "df = df.drop(df.columns[25:46], axis=1) # axis: 0 = rows, 1 = columns"
   ]
  },
  {
   "cell_type": "code",
   "execution_count": 13,
   "id": "ce4ecb86-a940-4cd3-825c-f347d8211c2d",
   "metadata": {},
   "outputs": [
    {
     "data": {
      "text/plain": [
       "26"
      ]
     },
     "execution_count": 13,
     "metadata": {},
     "output_type": "execute_result"
    }
   ],
   "source": [
    "df.columns.get_loc('MINI1')"
   ]
  },
  {
   "cell_type": "code",
   "execution_count": 14,
   "id": "1f6d292a-5ae4-405b-837a-b84d0c33fbd9",
   "metadata": {},
   "outputs": [
    {
     "data": {
      "text/plain": [
       "38"
      ]
     },
     "execution_count": 14,
     "metadata": {},
     "output_type": "execute_result"
    }
   ],
   "source": [
    "df.columns.get_loc('MINI11')"
   ]
  },
  {
   "cell_type": "code",
   "execution_count": 15,
   "id": "0f434d5b-3957-4cd5-a8d6-831732eb7cc4",
   "metadata": {},
   "outputs": [],
   "source": [
    "df = df.drop(df.columns[26:39], axis=1) # axis: 0 = rows, 1 = columns"
   ]
  },
  {
   "cell_type": "code",
   "execution_count": 16,
   "id": "dc571bae-ab50-43f1-8811-900276df6d15",
   "metadata": {},
   "outputs": [
    {
     "data": {
      "text/plain": [
       "(91, 42)"
      ]
     },
     "execution_count": 16,
     "metadata": {},
     "output_type": "execute_result"
    }
   ],
   "source": [
    "df.shape"
   ]
  },
  {
   "cell_type": "code",
   "execution_count": 17,
   "id": "7efe3082-9a93-45fb-a42e-95b040bd463a",
   "metadata": {},
   "outputs": [
    {
     "data": {
      "text/plain": [
       "32"
      ]
     },
     "execution_count": 17,
     "metadata": {},
     "output_type": "execute_result"
    }
   ],
   "source": [
    "df.columns.get_loc('filter_$')"
   ]
  },
  {
   "cell_type": "code",
   "execution_count": 18,
   "id": "8baa5564-fe32-4b1c-82bd-a9b96e0140e7",
   "metadata": {},
   "outputs": [],
   "source": [
    "df = df.drop(df.columns[32:], axis=1) # axis: 0 = rows, 1 = columns"
   ]
  },
  {
   "cell_type": "code",
   "execution_count": 19,
   "id": "9a44cf55-8090-46d1-ae00-620cb4ba7d70",
   "metadata": {},
   "outputs": [
    {
     "data": {
      "text/html": [
       "<div>\n",
       "<style scoped>\n",
       "    .dataframe tbody tr th:only-of-type {\n",
       "        vertical-align: middle;\n",
       "    }\n",
       "\n",
       "    .dataframe tbody tr th {\n",
       "        vertical-align: top;\n",
       "    }\n",
       "\n",
       "    .dataframe thead th {\n",
       "        text-align: right;\n",
       "    }\n",
       "</style>\n",
       "<table border=\"1\" class=\"dataframe\">\n",
       "  <thead>\n",
       "    <tr style=\"text-align: right;\">\n",
       "      <th></th>\n",
       "      <th>ID</th>\n",
       "      <th>Home</th>\n",
       "      <th>Age</th>\n",
       "      <th>Religion</th>\n",
       "      <th>Ethnicity</th>\n",
       "      <th>Education</th>\n",
       "      <th>Occupation</th>\n",
       "      <th>Income</th>\n",
       "      <th>Marital</th>\n",
       "      <th>Smoke</th>\n",
       "      <th>Smoking</th>\n",
       "      <th>Alcohol</th>\n",
       "      <th>Partner</th>\n",
       "      <th>P_Age</th>\n",
       "      <th>P_Education</th>\n",
       "      <th>P_Occupation</th>\n",
       "      <th>P_Alcohol</th>\n",
       "      <th>P_Drugs</th>\n",
       "      <th>P_Fights</th>\n",
       "      <th>P_Women</th>\n",
       "      <th>P_Child</th>\n",
       "      <th>LDEPRESSION</th>\n",
       "      <th>PDEPRESSION</th>\n",
       "      <th>Lanxiety</th>\n",
       "      <th>Panxiety</th>\n",
       "      <th>PPTSD</th>\n",
       "      <th>MINIdepression</th>\n",
       "      <th>EV</th>\n",
       "      <th>CB</th>\n",
       "      <th>PV</th>\n",
       "      <th>SV</th>\n",
       "      <th>IPV</th>\n",
       "    </tr>\n",
       "  </thead>\n",
       "  <tbody>\n",
       "    <tr>\n",
       "      <th>0</th>\n",
       "      <td>7</td>\n",
       "      <td>1</td>\n",
       "      <td>17</td>\n",
       "      <td>3</td>\n",
       "      <td>3</td>\n",
       "      <td>2</td>\n",
       "      <td>4</td>\n",
       "      <td>1</td>\n",
       "      <td>1</td>\n",
       "      <td>3</td>\n",
       "      <td>3</td>\n",
       "      <td>7</td>\n",
       "      <td>1</td>\n",
       "      <td></td>\n",
       "      <td>6</td>\n",
       "      <td>6</td>\n",
       "      <td>7</td>\n",
       "      <td>7</td>\n",
       "      <td>4</td>\n",
       "      <td>5</td>\n",
       "      <td>6</td>\n",
       "      <td>4</td>\n",
       "      <td>0</td>\n",
       "      <td>4</td>\n",
       "      <td>1</td>\n",
       "      <td>1</td>\n",
       "      <td>0</td>\n",
       "      <td>0</td>\n",
       "      <td>0</td>\n",
       "      <td>0</td>\n",
       "      <td>0</td>\n",
       "      <td>0</td>\n",
       "    </tr>\n",
       "    <tr>\n",
       "      <th>1</th>\n",
       "      <td>9</td>\n",
       "      <td>1</td>\n",
       "      <td>15</td>\n",
       "      <td>1</td>\n",
       "      <td>5</td>\n",
       "      <td>1</td>\n",
       "      <td>4</td>\n",
       "      <td>1</td>\n",
       "      <td>1</td>\n",
       "      <td>3</td>\n",
       "      <td>3</td>\n",
       "      <td>7</td>\n",
       "      <td>4</td>\n",
       "      <td></td>\n",
       "      <td>6</td>\n",
       "      <td>6</td>\n",
       "      <td>7</td>\n",
       "      <td>7</td>\n",
       "      <td>4</td>\n",
       "      <td>5</td>\n",
       "      <td>6</td>\n",
       "      <td>4</td>\n",
       "      <td>0</td>\n",
       "      <td>2</td>\n",
       "      <td>0</td>\n",
       "      <td>1</td>\n",
       "      <td>0</td>\n",
       "      <td>0</td>\n",
       "      <td>0</td>\n",
       "      <td>0</td>\n",
       "      <td>0</td>\n",
       "      <td>0</td>\n",
       "    </tr>\n",
       "    <tr>\n",
       "      <th>2</th>\n",
       "      <td>11</td>\n",
       "      <td>1</td>\n",
       "      <td>14</td>\n",
       "      <td>1</td>\n",
       "      <td>1</td>\n",
       "      <td>1</td>\n",
       "      <td>2</td>\n",
       "      <td>1</td>\n",
       "      <td>1</td>\n",
       "      <td>3</td>\n",
       "      <td>3</td>\n",
       "      <td>7</td>\n",
       "      <td>2</td>\n",
       "      <td></td>\n",
       "      <td>6</td>\n",
       "      <td>6</td>\n",
       "      <td>7</td>\n",
       "      <td>7</td>\n",
       "      <td>4</td>\n",
       "      <td>5</td>\n",
       "      <td>6</td>\n",
       "      <td>5</td>\n",
       "      <td>1</td>\n",
       "      <td>4</td>\n",
       "      <td>1</td>\n",
       "      <td>1</td>\n",
       "      <td>1</td>\n",
       "      <td>0</td>\n",
       "      <td>0</td>\n",
       "      <td>0</td>\n",
       "      <td>0</td>\n",
       "      <td>0</td>\n",
       "    </tr>\n",
       "    <tr>\n",
       "      <th>3</th>\n",
       "      <td>15</td>\n",
       "      <td>1</td>\n",
       "      <td>15</td>\n",
       "      <td>1</td>\n",
       "      <td>1</td>\n",
       "      <td>2</td>\n",
       "      <td>4</td>\n",
       "      <td>1</td>\n",
       "      <td>1</td>\n",
       "      <td>3</td>\n",
       "      <td>3</td>\n",
       "      <td>7</td>\n",
       "      <td>1</td>\n",
       "      <td></td>\n",
       "      <td>6</td>\n",
       "      <td>6</td>\n",
       "      <td>7</td>\n",
       "      <td>7</td>\n",
       "      <td>4</td>\n",
       "      <td>5</td>\n",
       "      <td>6</td>\n",
       "      <td>1</td>\n",
       "      <td>0</td>\n",
       "      <td>1</td>\n",
       "      <td>0</td>\n",
       "      <td>0</td>\n",
       "      <td>0</td>\n",
       "      <td>0</td>\n",
       "      <td>0</td>\n",
       "      <td>0</td>\n",
       "      <td>0</td>\n",
       "      <td>0</td>\n",
       "    </tr>\n",
       "    <tr>\n",
       "      <th>4</th>\n",
       "      <td>43</td>\n",
       "      <td>1</td>\n",
       "      <td>17</td>\n",
       "      <td>1</td>\n",
       "      <td>1</td>\n",
       "      <td>2</td>\n",
       "      <td>4</td>\n",
       "      <td>1</td>\n",
       "      <td>1</td>\n",
       "      <td>3</td>\n",
       "      <td>3</td>\n",
       "      <td>7</td>\n",
       "      <td>1</td>\n",
       "      <td></td>\n",
       "      <td>6</td>\n",
       "      <td>6</td>\n",
       "      <td>7</td>\n",
       "      <td>7</td>\n",
       "      <td>4</td>\n",
       "      <td>5</td>\n",
       "      <td>6</td>\n",
       "      <td>4</td>\n",
       "      <td>0</td>\n",
       "      <td>2</td>\n",
       "      <td>0</td>\n",
       "      <td>1</td>\n",
       "      <td>0</td>\n",
       "      <td>0</td>\n",
       "      <td>0</td>\n",
       "      <td>0</td>\n",
       "      <td>0</td>\n",
       "      <td>0</td>\n",
       "    </tr>\n",
       "  </tbody>\n",
       "</table>\n",
       "</div>"
      ],
      "text/plain": [
       "   ID  Home  Age  Religion  Ethnicity  Education  Occupation  Income  Marital  \\\n",
       "0   7     1   17         3          3          2           4       1        1   \n",
       "1   9     1   15         1          5          1           4       1        1   \n",
       "2  11     1   14         1          1          1           2       1        1   \n",
       "3  15     1   15         1          1          2           4       1        1   \n",
       "4  43     1   17         1          1          2           4       1        1   \n",
       "\n",
       "   Smoke  Smoking  Alcohol  Partner P_Age  P_Education  P_Occupation  \\\n",
       "0      3        3        7        1                  6             6   \n",
       "1      3        3        7        4                  6             6   \n",
       "2      3        3        7        2                  6             6   \n",
       "3      3        3        7        1                  6             6   \n",
       "4      3        3        7        1                  6             6   \n",
       "\n",
       "   P_Alcohol  P_Drugs  P_Fights  P_Women  P_Child  LDEPRESSION  PDEPRESSION  \\\n",
       "0          7        7         4        5        6            4            0   \n",
       "1          7        7         4        5        6            4            0   \n",
       "2          7        7         4        5        6            5            1   \n",
       "3          7        7         4        5        6            1            0   \n",
       "4          7        7         4        5        6            4            0   \n",
       "\n",
       "   Lanxiety  Panxiety  PPTSD  MINIdepression  EV  CB  PV  SV  IPV  \n",
       "0         4         1      1               0   0   0   0   0    0  \n",
       "1         2         0      1               0   0   0   0   0    0  \n",
       "2         4         1      1               1   0   0   0   0    0  \n",
       "3         1         0      0               0   0   0   0   0    0  \n",
       "4         2         0      1               0   0   0   0   0    0  "
      ]
     },
     "execution_count": 19,
     "metadata": {},
     "output_type": "execute_result"
    }
   ],
   "source": [
    "df.head()"
   ]
  },
  {
   "cell_type": "code",
   "execution_count": 20,
   "id": "79e55bad-0b07-469c-8e08-193f0e9080d0",
   "metadata": {},
   "outputs": [],
   "source": [
    "df['Home'] = df.Home.replace(1, 'JKM/MAIS')"
   ]
  },
  {
   "cell_type": "code",
   "execution_count": 21,
   "id": "673a32d3-bd38-4c51-8fc1-d014eecf6fa6",
   "metadata": {},
   "outputs": [],
   "source": [
    "df['Home'] = df.Home.replace(2, 'NGO')"
   ]
  },
  {
   "cell_type": "code",
   "execution_count": 22,
   "id": "71cdb193-f5eb-4930-b025-f36b27d825f4",
   "metadata": {},
   "outputs": [
    {
     "data": {
      "text/plain": [
       "count           91\n",
       "unique           2\n",
       "top       JKM/MAIS\n",
       "freq            64\n",
       "Name: Home, dtype: object"
      ]
     },
     "execution_count": 22,
     "metadata": {},
     "output_type": "execute_result"
    }
   ],
   "source": [
    "df.Home.describe()"
   ]
  },
  {
   "cell_type": "code",
   "execution_count": 23,
   "id": "835b2d57-d724-4576-b338-d987611d9b06",
   "metadata": {},
   "outputs": [
    {
     "data": {
      "text/plain": [
       "array(['JKM/MAIS', 'NGO'], dtype=object)"
      ]
     },
     "execution_count": 23,
     "metadata": {},
     "output_type": "execute_result"
    }
   ],
   "source": [
    "df.Home.unique()"
   ]
  },
  {
   "cell_type": "code",
   "execution_count": 24,
   "id": "fcadf4d5-5235-4cde-a115-f28e60f2585f",
   "metadata": {},
   "outputs": [],
   "source": [
    "df['Religion'] = df.Religion.replace(1, 'Muslim')\n",
    "df['Religion'] = df.Religion.replace(2, 'Buddhist')\n",
    "df['Religion'] = df.Religion.replace(3, 'Hinduism')\n",
    "df['Religion'] = df.Religion.replace(4, 'Christian')"
   ]
  },
  {
   "cell_type": "code",
   "execution_count": 25,
   "id": "7d3c7392-c157-4cbb-a338-0bd7c4792278",
   "metadata": {},
   "outputs": [
    {
     "data": {
      "text/plain": [
       "count         91\n",
       "unique         4\n",
       "top       Muslim\n",
       "freq          86\n",
       "Name: Religion, dtype: object"
      ]
     },
     "execution_count": 25,
     "metadata": {},
     "output_type": "execute_result"
    }
   ],
   "source": [
    "df.Religion.describe()"
   ]
  },
  {
   "cell_type": "code",
   "execution_count": 26,
   "id": "14e20e88-1a80-4fa3-adc7-740ade992c05",
   "metadata": {},
   "outputs": [
    {
     "data": {
      "text/plain": [
       "array(['Hinduism', 'Muslim', 'Buddhist', 'Christian'], dtype=object)"
      ]
     },
     "execution_count": 26,
     "metadata": {},
     "output_type": "execute_result"
    }
   ],
   "source": [
    "df.Religion.unique()"
   ]
  },
  {
   "cell_type": "code",
   "execution_count": 27,
   "id": "204413b1-9311-47ab-bd1e-9db65844ff4c",
   "metadata": {},
   "outputs": [],
   "source": [
    "df['Ethnicity'] = df.Ethnicity.replace(1, 'Malay')\n",
    "df['Ethnicity'] = df.Ethnicity.replace(2, 'Chinese')\n",
    "df['Ethnicity'] = df.Ethnicity.replace(3, 'Indian')\n",
    "df['Ethnicity'] = df.Ethnicity.replace(4, 'Bumiputera_4')\n",
    "df['Ethnicity'] = df.Ethnicity.replace(5, 'Bumiputera_5')\n",
    "df['Ethnicity'] = df.Ethnicity.replace(6, 'Others')"
   ]
  },
  {
   "cell_type": "code",
   "execution_count": 28,
   "id": "53a20898-43a3-4027-b904-295a140b0f09",
   "metadata": {},
   "outputs": [
    {
     "data": {
      "text/plain": [
       "count        91\n",
       "unique        6\n",
       "top       Malay\n",
       "freq         81\n",
       "Name: Ethnicity, dtype: object"
      ]
     },
     "execution_count": 28,
     "metadata": {},
     "output_type": "execute_result"
    }
   ],
   "source": [
    "df.Ethnicity.describe()"
   ]
  },
  {
   "cell_type": "code",
   "execution_count": 29,
   "id": "89b9519f-20f4-43b0-bb77-c058058dbcd4",
   "metadata": {},
   "outputs": [
    {
     "data": {
      "text/plain": [
       "array(['Indian', 'Bumiputera_5', 'Malay', 'Chinese', 'Bumiputera_4',\n",
       "       'Others'], dtype=object)"
      ]
     },
     "execution_count": 29,
     "metadata": {},
     "output_type": "execute_result"
    }
   ],
   "source": [
    "df.Ethnicity.unique()"
   ]
  },
  {
   "cell_type": "code",
   "execution_count": 30,
   "id": "25144c1f-8a4c-4f77-a5ab-03db6dc27078",
   "metadata": {},
   "outputs": [],
   "source": [
    "df['Education'] = df.Education.replace(1, 'Primary')\n",
    "df['Education'] = df.Education.replace(2, 'Secondary')\n",
    "df['Education'] = df.Education.replace(3, 'Higher')\n",
    "df['Education'] = df.Education.replace(4, 'No_Formal')"
   ]
  },
  {
   "cell_type": "code",
   "execution_count": 31,
   "id": "5f5d2816-a1ca-4209-9990-ae0594881584",
   "metadata": {},
   "outputs": [
    {
     "data": {
      "text/plain": [
       "count            91\n",
       "unique            4\n",
       "top       Secondary\n",
       "freq             69\n",
       "Name: Education, dtype: object"
      ]
     },
     "execution_count": 31,
     "metadata": {},
     "output_type": "execute_result"
    }
   ],
   "source": [
    "df.Education.describe()"
   ]
  },
  {
   "cell_type": "code",
   "execution_count": 32,
   "id": "81f6561d-2ad7-43e2-ba93-c28751081319",
   "metadata": {},
   "outputs": [
    {
     "data": {
      "text/plain": [
       "array(['Secondary', 'Primary', 'No_Formal', 'Higher'], dtype=object)"
      ]
     },
     "execution_count": 32,
     "metadata": {},
     "output_type": "execute_result"
    }
   ],
   "source": [
    "df.Education.unique()"
   ]
  },
  {
   "cell_type": "code",
   "execution_count": 33,
   "id": "8d32bd0e-31a3-423c-b829-9c721c518431",
   "metadata": {},
   "outputs": [],
   "source": [
    "df['Occupation'] = df.Occupation.replace(1, 'Working')\n",
    "df['Occupation'] = df.Occupation.replace(2, 'Looking')\n",
    "df['Occupation'] = df.Occupation.replace(3, 'Retired')\n",
    "df['Occupation'] = df.Occupation.replace(4, 'Studying')"
   ]
  },
  {
   "cell_type": "code",
   "execution_count": 34,
   "id": "0f62e2c7-a4c0-4902-a412-e368308e7da0",
   "metadata": {},
   "outputs": [
    {
     "data": {
      "text/plain": [
       "count           91\n",
       "unique           4\n",
       "top       Studying\n",
       "freq            51\n",
       "Name: Occupation, dtype: object"
      ]
     },
     "execution_count": 34,
     "metadata": {},
     "output_type": "execute_result"
    }
   ],
   "source": [
    "df.Occupation.describe()"
   ]
  },
  {
   "cell_type": "code",
   "execution_count": 35,
   "id": "ee045144-4774-445b-a294-760595371e52",
   "metadata": {},
   "outputs": [
    {
     "data": {
      "text/plain": [
       "array(['Studying', 'Looking', 'Working', 'Retired'], dtype=object)"
      ]
     },
     "execution_count": 35,
     "metadata": {},
     "output_type": "execute_result"
    }
   ],
   "source": [
    "df.Occupation.unique()"
   ]
  },
  {
   "cell_type": "code",
   "execution_count": 36,
   "id": "6d55841e-acdd-43b4-b50d-0e170a0ab90a",
   "metadata": {},
   "outputs": [],
   "source": [
    "df['Income'] = df.Income.replace(1, 'B40')\n",
    "df['Income'] = df.Income.replace(2, 'M40')\n",
    "df['Income'] = df.Income.replace(3, 'T20')"
   ]
  },
  {
   "cell_type": "code",
   "execution_count": 37,
   "id": "2f4a5ab5-df86-4d36-b594-1cbf6b315dba",
   "metadata": {},
   "outputs": [
    {
     "data": {
      "text/plain": [
       "count      91\n",
       "unique      3\n",
       "top       B40\n",
       "freq       73\n",
       "Name: Income, dtype: object"
      ]
     },
     "execution_count": 37,
     "metadata": {},
     "output_type": "execute_result"
    }
   ],
   "source": [
    "df.Income.describe()"
   ]
  },
  {
   "cell_type": "code",
   "execution_count": 38,
   "id": "6e35dc0d-5f02-4966-b3de-77b90c21d030",
   "metadata": {},
   "outputs": [
    {
     "data": {
      "text/plain": [
       "array(['B40', 'M40', 'T20'], dtype=object)"
      ]
     },
     "execution_count": 38,
     "metadata": {},
     "output_type": "execute_result"
    }
   ],
   "source": [
    "df.Income.unique()"
   ]
  },
  {
   "cell_type": "code",
   "execution_count": 39,
   "id": "0c581d51-c7ce-42a5-9680-7fcfc572758d",
   "metadata": {},
   "outputs": [],
   "source": [
    "df['Marital'] = df.Marital.replace(1, 'Single')\n",
    "df['Marital'] = df.Marital.replace(2, 'Married')\n",
    "df['Marital'] = df.Marital.replace(3, 'Widowed')"
   ]
  },
  {
   "cell_type": "code",
   "execution_count": 40,
   "id": "1d59d454-a04e-4e4d-b5c8-af68c552e588",
   "metadata": {},
   "outputs": [
    {
     "data": {
      "text/plain": [
       "count         91\n",
       "unique         3\n",
       "top       Single\n",
       "freq          85\n",
       "Name: Marital, dtype: object"
      ]
     },
     "execution_count": 40,
     "metadata": {},
     "output_type": "execute_result"
    }
   ],
   "source": [
    "df.Marital.describe()"
   ]
  },
  {
   "cell_type": "code",
   "execution_count": 41,
   "id": "520d84b2-324d-4ee5-bf28-fac2180949b7",
   "metadata": {},
   "outputs": [
    {
     "data": {
      "text/plain": [
       "array(['Single', 'Widowed', 'Married'], dtype=object)"
      ]
     },
     "execution_count": 41,
     "metadata": {},
     "output_type": "execute_result"
    }
   ],
   "source": [
    "df.Marital.unique()"
   ]
  },
  {
   "cell_type": "code",
   "execution_count": 42,
   "id": "7e7b08ee-a161-4d74-9433-eb91c7a3fa2a",
   "metadata": {},
   "outputs": [],
   "source": [
    "df['Smoke'] = df.Smoke.replace(1, 'Everyday')\n",
    "df['Smoke'] = df.Smoke.replace(2, 'Not_Everyday')\n",
    "df['Smoke'] = df.Smoke.replace(3, 'Not_Smoke')"
   ]
  },
  {
   "cell_type": "code",
   "execution_count": 43,
   "id": "a0dcf633-dceb-4012-954c-a013165e0772",
   "metadata": {},
   "outputs": [
    {
     "data": {
      "text/plain": [
       "count            91\n",
       "unique            3\n",
       "top       Not_Smoke\n",
       "freq             67\n",
       "Name: Smoke, dtype: object"
      ]
     },
     "execution_count": 43,
     "metadata": {},
     "output_type": "execute_result"
    }
   ],
   "source": [
    "df.Smoke.describe()"
   ]
  },
  {
   "cell_type": "code",
   "execution_count": 44,
   "id": "c13848eb-c3e8-4867-89e8-8b66059999bf",
   "metadata": {},
   "outputs": [
    {
     "data": {
      "text/plain": [
       "array(['Not_Smoke', 'Everyday', 'Not_Everyday'], dtype=object)"
      ]
     },
     "execution_count": 44,
     "metadata": {},
     "output_type": "execute_result"
    }
   ],
   "source": [
    "df.Smoke.unique()"
   ]
  },
  {
   "cell_type": "code",
   "execution_count": 45,
   "id": "e6ab71fa-3a2f-47c6-9291-07cc4854e45f",
   "metadata": {},
   "outputs": [],
   "source": [
    "df['Smoking'] = df.Smoking.replace(1, 'Everyday')\n",
    "df['Smoking'] = df.Smoking.replace(2, 'Not_Everyday')\n",
    "df['Smoking'] = df.Smoking.replace(3, 'Not_Smoke')"
   ]
  },
  {
   "cell_type": "code",
   "execution_count": 46,
   "id": "33affe65-2c39-4557-8c70-da46567b8f7a",
   "metadata": {},
   "outputs": [
    {
     "data": {
      "text/plain": [
       "count            91\n",
       "unique            3\n",
       "top       Not_Smoke\n",
       "freq             41\n",
       "Name: Smoking, dtype: object"
      ]
     },
     "execution_count": 46,
     "metadata": {},
     "output_type": "execute_result"
    }
   ],
   "source": [
    "df.Smoking.describe()"
   ]
  },
  {
   "cell_type": "code",
   "execution_count": 47,
   "id": "1274c809-e6af-4e2a-91ba-55bb26107f72",
   "metadata": {},
   "outputs": [
    {
     "data": {
      "text/plain": [
       "array(['Not_Smoke', 'Everyday', 'Not_Everyday'], dtype=object)"
      ]
     },
     "execution_count": 47,
     "metadata": {},
     "output_type": "execute_result"
    }
   ],
   "source": [
    "df.Smoking.unique()"
   ]
  },
  {
   "cell_type": "code",
   "execution_count": 48,
   "id": "935c2c9f-65c3-422d-825a-f3f5974ae53a",
   "metadata": {},
   "outputs": [],
   "source": [
    "df['Alcohol'] = df.Alcohol.replace(1, 'Everyday')\n",
    "df['Alcohol'] = df.Alcohol.replace(2, 'Once_Or')\n",
    "df['Alcohol'] = df.Alcohol.replace(3, '1-3_Times')\n",
    "df['Alcohol'] = df.Alcohol.replace(4, 'Less_Than')\n",
    "df['Alcohol'] = df.Alcohol.replace(5, '1-2_TImes')\n",
    "df['Alcohol'] = df.Alcohol.replace(6, 'Not_Drinking')\n",
    "df['Alcohol'] = df.Alcohol.replace(7, 'Never')"
   ]
  },
  {
   "cell_type": "code",
   "execution_count": 49,
   "id": "e2af183b-f7ee-4c17-8f44-5e4130264cec",
   "metadata": {},
   "outputs": [
    {
     "data": {
      "text/plain": [
       "count        91\n",
       "unique        7\n",
       "top       Never\n",
       "freq         54\n",
       "Name: Alcohol, dtype: object"
      ]
     },
     "execution_count": 49,
     "metadata": {},
     "output_type": "execute_result"
    }
   ],
   "source": [
    "df.Alcohol.describe()"
   ]
  },
  {
   "cell_type": "code",
   "execution_count": 50,
   "id": "4c27aab8-35cd-4d88-b8c2-cd5f81f28231",
   "metadata": {},
   "outputs": [
    {
     "data": {
      "text/plain": [
       "array(['Never', 'Less_Than', 'Once_Or', 'Not_Drinking', '1-3_Times',\n",
       "       'Everyday', '1-2_TImes'], dtype=object)"
      ]
     },
     "execution_count": 50,
     "metadata": {},
     "output_type": "execute_result"
    }
   ],
   "source": [
    "df.Alcohol.unique()"
   ]
  },
  {
   "cell_type": "code",
   "execution_count": 51,
   "id": "b2f26de8-8fe5-4e66-9223-d07f15328ee1",
   "metadata": {},
   "outputs": [],
   "source": [
    "df['Partner'] = df.Partner.replace(1, 'No')\n",
    "df['Partner'] = df.Partner.replace(2, 'Yes_2')\n",
    "df['Partner'] = df.Partner.replace(3, 'Yes_3')\n",
    "df['Partner'] = df.Partner.replace(4, 'Yes_4')\n",
    "df['Partner'] = df.Partner.replace(5, 'Yes_More')"
   ]
  },
  {
   "cell_type": "code",
   "execution_count": 52,
   "id": "b05d675d-7670-46a1-b685-ee704c1f5807",
   "metadata": {},
   "outputs": [
    {
     "data": {
      "text/plain": [
       "count     91\n",
       "unique     5\n",
       "top       No\n",
       "freq      45\n",
       "Name: Partner, dtype: object"
      ]
     },
     "execution_count": 52,
     "metadata": {},
     "output_type": "execute_result"
    }
   ],
   "source": [
    "df.Partner.describe()"
   ]
  },
  {
   "cell_type": "code",
   "execution_count": 53,
   "id": "ba7f8f8a-a03d-4838-b649-01792bf53fa6",
   "metadata": {},
   "outputs": [
    {
     "data": {
      "text/plain": [
       "array(['No', 'Yes_4', 'Yes_2', 'Yes_More', 'Yes_3'], dtype=object)"
      ]
     },
     "execution_count": 53,
     "metadata": {},
     "output_type": "execute_result"
    }
   ],
   "source": [
    "df.Partner.unique()"
   ]
  },
  {
   "cell_type": "code",
   "execution_count": 54,
   "id": "af9745e4-438b-43ee-9d95-e7e7c2f94a44",
   "metadata": {},
   "outputs": [],
   "source": [
    "df['P_Education'] = df.P_Education.replace(1, 'Primary')\n",
    "df['P_Education'] = df.P_Education.replace(2, 'Secondary')\n",
    "df['P_Education'] = df.P_Education.replace(3, 'College')\n",
    "df['P_Education'] = df.P_Education.replace(4, 'No_Formal')\n",
    "df['P_Education'] = df.P_Education.replace(5, 'Not_Sure')\n",
    "df['P_Education'] = df.P_Education.replace(6, 'No_Partner')"
   ]
  },
  {
   "cell_type": "code",
   "execution_count": 55,
   "id": "7c8cabe9-ec6e-48df-b51a-94356479bb76",
   "metadata": {},
   "outputs": [
    {
     "data": {
      "text/plain": [
       "count            91\n",
       "unique            6\n",
       "top       Secondary\n",
       "freq             44\n",
       "Name: P_Education, dtype: object"
      ]
     },
     "execution_count": 55,
     "metadata": {},
     "output_type": "execute_result"
    }
   ],
   "source": [
    "df.P_Education.describe()"
   ]
  },
  {
   "cell_type": "code",
   "execution_count": 56,
   "id": "3466cf52-ee83-454f-8bca-64a361804c27",
   "metadata": {},
   "outputs": [
    {
     "data": {
      "text/plain": [
       "array(['No_Partner', 'Secondary', 'Primary', 'No_Formal', 'College',\n",
       "       'Not_Sure'], dtype=object)"
      ]
     },
     "execution_count": 56,
     "metadata": {},
     "output_type": "execute_result"
    }
   ],
   "source": [
    "df.P_Education.unique()"
   ]
  },
  {
   "cell_type": "code",
   "execution_count": 57,
   "id": "ade636c1-9698-4628-a028-421a2ff03cd5",
   "metadata": {},
   "outputs": [],
   "source": [
    "df['P_Occupation'] = df.P_Occupation.replace(1, 'Working')\n",
    "df['P_Occupation'] = df.P_Occupation.replace(2, 'Looking_For')\n",
    "df['P_Occupation'] = df.P_Occupation.replace(3, 'Retired')\n",
    "df['P_Occupation'] = df.P_Occupation.replace(4, 'Studying')\n",
    "df['P_Occupation'] = df.P_Occupation.replace(5, 'Not_Sure')\n",
    "df['P_Occupation'] = df.P_Occupation.replace(6, 'No_Partner')"
   ]
  },
  {
   "cell_type": "code",
   "execution_count": 58,
   "id": "e336539b-748b-49c0-b91e-74870fa7e05f",
   "metadata": {},
   "outputs": [
    {
     "data": {
      "text/plain": [
       "count          91\n",
       "unique          6\n",
       "top       Working\n",
       "freq           69\n",
       "Name: P_Occupation, dtype: object"
      ]
     },
     "execution_count": 58,
     "metadata": {},
     "output_type": "execute_result"
    }
   ],
   "source": [
    "df.P_Occupation.describe()"
   ]
  },
  {
   "cell_type": "code",
   "execution_count": 59,
   "id": "c6f1af1e-bb9b-4eac-8891-0eb81d75afcc",
   "metadata": {},
   "outputs": [
    {
     "data": {
      "text/plain": [
       "array(['No_Partner', 'Studying', 'Working', 'Not_Sure', 'Retired',\n",
       "       'Looking_For'], dtype=object)"
      ]
     },
     "execution_count": 59,
     "metadata": {},
     "output_type": "execute_result"
    }
   ],
   "source": [
    "df.P_Occupation.unique()"
   ]
  },
  {
   "cell_type": "code",
   "execution_count": 60,
   "id": "b372f088-edeb-41dd-b366-d2e6d2c1793a",
   "metadata": {},
   "outputs": [],
   "source": [
    "df['P_Alcohol'] = df.P_Alcohol.replace(1, 'Everyday')\n",
    "df['P_Alcohol'] = df.P_Alcohol.replace(2, 'Once_Or')\n",
    "df['P_Alcohol'] = df.P_Alcohol.replace(3, '1-3_Times')\n",
    "df['P_Alcohol'] = df.P_Alcohol.replace(4, 'Less_Than')\n",
    "df['P_Alcohol'] = df.P_Alcohol.replace(5, 'Never')\n",
    "df['P_Alcohol'] = df.P_Alcohol.replace(6, 'Dont_Know')\n",
    "df['P_Alcohol'] = df.P_Alcohol.replace(7, 'No_Partner')"
   ]
  },
  {
   "cell_type": "code",
   "execution_count": 61,
   "id": "98e58afa-8efe-4f17-967e-ba66c0d24459",
   "metadata": {},
   "outputs": [
    {
     "data": {
      "text/plain": [
       "count            91\n",
       "unique            7\n",
       "top       Dont_Know\n",
       "freq             30\n",
       "Name: P_Alcohol, dtype: object"
      ]
     },
     "execution_count": 61,
     "metadata": {},
     "output_type": "execute_result"
    }
   ],
   "source": [
    "df.P_Alcohol.describe()"
   ]
  },
  {
   "cell_type": "code",
   "execution_count": 62,
   "id": "6c8621e9-e89b-487f-b008-af22a15dec9f",
   "metadata": {},
   "outputs": [
    {
     "data": {
      "text/plain": [
       "array(['No_Partner', 'Never', 'Dont_Know', 'Everyday', 'Once_Or',\n",
       "       '1-3_Times', 'Less_Than'], dtype=object)"
      ]
     },
     "execution_count": 62,
     "metadata": {},
     "output_type": "execute_result"
    }
   ],
   "source": [
    "df.P_Alcohol.unique()"
   ]
  },
  {
   "cell_type": "code",
   "execution_count": 63,
   "id": "2053f8d8-cec4-4b2d-aedf-5ab153f3fba2",
   "metadata": {},
   "outputs": [],
   "source": [
    "df['P_Drugs'] = df.P_Drugs.replace(1, 'Everyday')\n",
    "df['P_Drugs'] = df.P_Drugs.replace(2, 'Once_to')\n",
    "df['P_Drugs'] = df.P_Drugs.replace(3, '1-3_Times')\n",
    "df['P_Drugs'] = df.P_Drugs.replace(4, 'Less_Than')\n",
    "df['P_Drugs'] = df.P_Drugs.replace(5, 'Never')\n",
    "df['P_Drugs'] = df.P_Drugs.replace(6, 'Dont_Know')\n",
    "df['P_Drugs'] = df.P_Drugs.replace(7, 'No_Partner')"
   ]
  },
  {
   "cell_type": "code",
   "execution_count": 64,
   "id": "9775a6cb-8f10-40aa-8c53-19f7fd1b64c4",
   "metadata": {},
   "outputs": [
    {
     "data": {
      "text/plain": [
       "count        91\n",
       "unique        7\n",
       "top       Never\n",
       "freq         44\n",
       "Name: P_Drugs, dtype: object"
      ]
     },
     "execution_count": 64,
     "metadata": {},
     "output_type": "execute_result"
    }
   ],
   "source": [
    "df.P_Drugs.describe()"
   ]
  },
  {
   "cell_type": "code",
   "execution_count": 65,
   "id": "1a2ddc71-f913-4b01-b804-13c82c8972c8",
   "metadata": {},
   "outputs": [
    {
     "data": {
      "text/plain": [
       "array(['No_Partner', 'Never', 'Dont_Know', 'Less_Than', 'Once_to',\n",
       "       'Everyday', '1-3_Times'], dtype=object)"
      ]
     },
     "execution_count": 65,
     "metadata": {},
     "output_type": "execute_result"
    }
   ],
   "source": [
    "df.P_Drugs.unique()"
   ]
  },
  {
   "cell_type": "code",
   "execution_count": 66,
   "id": "e02e041b-7e07-4fd8-a38f-e52295dd551b",
   "metadata": {},
   "outputs": [],
   "source": [
    "df['P_Fights'] = df.P_Fights.replace(1, 'Yes')\n",
    "df['P_Fights'] = df.P_Fights.replace(2, 'No')\n",
    "df['P_Fights'] = df.P_Fights.replace(3, 'Dont_Know')\n",
    "df['P_Fights'] = df.P_Fights.replace(4, 'No_Partner')"
   ]
  },
  {
   "cell_type": "code",
   "execution_count": 67,
   "id": "d568846a-183c-40a7-87a3-9771ea0e91a8",
   "metadata": {},
   "outputs": [
    {
     "data": {
      "text/plain": [
       "count     91\n",
       "unique     4\n",
       "top       No\n",
       "freq      33\n",
       "Name: P_Fights, dtype: object"
      ]
     },
     "execution_count": 67,
     "metadata": {},
     "output_type": "execute_result"
    }
   ],
   "source": [
    "df.P_Fights.describe()"
   ]
  },
  {
   "cell_type": "code",
   "execution_count": 68,
   "id": "6cfb4b13-2e4c-4a07-a30f-d444688de3db",
   "metadata": {},
   "outputs": [
    {
     "data": {
      "text/plain": [
       "array(['No_Partner', 'Dont_Know', 'No', 'Yes'], dtype=object)"
      ]
     },
     "execution_count": 68,
     "metadata": {},
     "output_type": "execute_result"
    }
   ],
   "source": [
    "df.P_Fights.unique()"
   ]
  },
  {
   "cell_type": "code",
   "execution_count": 69,
   "id": "afadaa29-457e-4182-916e-b941ea4dd499",
   "metadata": {},
   "outputs": [],
   "source": [
    "df['P_Women'] = df.P_Women.replace(1, 'Yes')\n",
    "df['P_Women'] = df.P_Women.replace(2, 'No')\n",
    "df['P_Women'] = df.P_Women.replace(3, 'Maybe')\n",
    "df['P_Women'] = df.P_Women.replace(4, 'Dont_Know')\n",
    "df['P_Women'] = df.P_Women.replace(5, 'No_Partner')"
   ]
  },
  {
   "cell_type": "code",
   "execution_count": 70,
   "id": "c18d2377-6d05-4c00-924f-9ce0c3d2af4a",
   "metadata": {},
   "outputs": [
    {
     "data": {
      "text/plain": [
       "count     91\n",
       "unique     5\n",
       "top       No\n",
       "freq      34\n",
       "Name: P_Women, dtype: object"
      ]
     },
     "execution_count": 70,
     "metadata": {},
     "output_type": "execute_result"
    }
   ],
   "source": [
    "df.P_Women.describe()"
   ]
  },
  {
   "cell_type": "code",
   "execution_count": 71,
   "id": "022f9615-e08b-4e0a-97f0-29690bfe6fc6",
   "metadata": {},
   "outputs": [
    {
     "data": {
      "text/plain": [
       "array(['No_Partner', 'No', 'Dont_Know', 'Maybe', 'Yes'], dtype=object)"
      ]
     },
     "execution_count": 71,
     "metadata": {},
     "output_type": "execute_result"
    }
   ],
   "source": [
    "df.P_Women.unique()"
   ]
  },
  {
   "cell_type": "code",
   "execution_count": 72,
   "id": "40c81e32-8cf7-4ecd-92d6-105f90379a29",
   "metadata": {},
   "outputs": [],
   "source": [
    "df['P_Child'] = df.P_Child.replace(1, 'Yes')\n",
    "df['P_Child'] = df.P_Child.replace(2, 'No')\n",
    "df['P_Child'] = df.P_Child.replace(3, 'Maybe')\n",
    "df['P_Child'] = df.P_Child.replace(4, 'Dont_Know')\n",
    "df['P_Child'] = df.P_Child.replace(5, 'No_Relation')\n",
    "df['P_Child'] = df.P_Child.replace(6, 'No_Partner')"
   ]
  },
  {
   "cell_type": "code",
   "execution_count": 73,
   "id": "2f6a147e-9c23-4f82-aef9-35348e6189d3",
   "metadata": {},
   "outputs": [
    {
     "data": {
      "text/plain": [
       "count     91\n",
       "unique     6\n",
       "top       No\n",
       "freq      49\n",
       "Name: P_Child, dtype: object"
      ]
     },
     "execution_count": 73,
     "metadata": {},
     "output_type": "execute_result"
    }
   ],
   "source": [
    "df.P_Child.describe()"
   ]
  },
  {
   "cell_type": "code",
   "execution_count": 74,
   "id": "9b6a7583-7d46-4696-8e28-6e97a4e5bc17",
   "metadata": {},
   "outputs": [
    {
     "data": {
      "text/plain": [
       "array(['No_Partner', 'No', 'Dont_Know', 'No_Relation', 'Yes', 'Maybe'],\n",
       "      dtype=object)"
      ]
     },
     "execution_count": 74,
     "metadata": {},
     "output_type": "execute_result"
    }
   ],
   "source": [
    "df.P_Child.unique()"
   ]
  },
  {
   "cell_type": "code",
   "execution_count": 75,
   "id": "8b4f8e59-ed2b-42ae-86ac-075a5d75eafe",
   "metadata": {},
   "outputs": [],
   "source": [
    "# bins = [-1, 0, np.inf]\n",
    "bins = [-1, 0, 1]\n",
    "names = ['No', 'Yes']\n",
    "\n",
    "df['PDEPRESSION'] = pd.cut(df['PDEPRESSION'], bins, labels=names)"
   ]
  },
  {
   "cell_type": "code",
   "execution_count": 147,
   "id": "2188a027-fb21-4421-8d40-718e7ce35b5c",
   "metadata": {},
   "outputs": [
    {
     "data": {
      "text/plain": [
       "count     91\n",
       "unique     2\n",
       "top       No\n",
       "freq      70\n",
       "Name: PDEPRESSION, dtype: object"
      ]
     },
     "execution_count": 147,
     "metadata": {},
     "output_type": "execute_result"
    }
   ],
   "source": [
    "df.PDEPRESSION.describe()"
   ]
  },
  {
   "cell_type": "code",
   "execution_count": 148,
   "id": "eec6db5a-2d70-46f4-b485-287beed5c4bb",
   "metadata": {},
   "outputs": [
    {
     "data": {
      "text/plain": [
       "['No', 'Yes']\n",
       "Categories (2, object): ['No' < 'Yes']"
      ]
     },
     "execution_count": 148,
     "metadata": {},
     "output_type": "execute_result"
    }
   ],
   "source": [
    "df.PDEPRESSION.unique()"
   ]
  },
  {
   "cell_type": "code",
   "execution_count": 146,
   "id": "21fb265d-9f84-4e15-901d-cd92ccd12d10",
   "metadata": {},
   "outputs": [],
   "source": [
    "# bins = [-1, 0, np.inf]\n",
    "# bins = [-np.inf, 0.5, np.inf]\n",
    "# names = ['No', 'Yes']\n",
    "\n",
    "# df['MINIdepression'] = pd.cut(df['MINIdepression'], bins, labels=names)"
   ]
  },
  {
   "cell_type": "code",
   "execution_count": 149,
   "id": "29eca2a6-0e04-4fbe-958d-0247900ab74a",
   "metadata": {},
   "outputs": [
    {
     "data": {
      "text/plain": [
       "count      91\n",
       "unique      2\n",
       "top       Yes\n",
       "freq       50\n",
       "Name: MINIdepression, dtype: object"
      ]
     },
     "execution_count": 149,
     "metadata": {},
     "output_type": "execute_result"
    }
   ],
   "source": [
    "df.MINIdepression.describe()"
   ]
  },
  {
   "cell_type": "code",
   "execution_count": 150,
   "id": "a0baddd1-53bc-4651-8b03-c71f7ec2c419",
   "metadata": {},
   "outputs": [
    {
     "data": {
      "text/plain": [
       "['No', 'Yes']\n",
       "Categories (2, object): ['No' < 'Yes']"
      ]
     },
     "execution_count": 150,
     "metadata": {},
     "output_type": "execute_result"
    }
   ],
   "source": [
    "df.MINIdepression.unique()"
   ]
  },
  {
   "cell_type": "code",
   "execution_count": 78,
   "id": "b2cb2aa7-9d79-4557-8a92-48c002a5df24",
   "metadata": {},
   "outputs": [],
   "source": [
    "cats=['Home', 'Religion', 'Ethnicity', 'Education', 'Occupation',\n",
    "       'Income', 'Marital', 'Smoke', 'Smoking', 'Alcohol', 'Partner',\n",
    "       'P_Education', 'P_Occupation', 'P_Alcohol', 'P_Drugs', 'P_Fights',\n",
    "       'P_Women', 'P_Child', 'LDEPRESSION', 'PDEPRESSION', 'Lanxiety',\n",
    "       'Panxiety', 'PPTSD', 'EV', 'CB', 'PV', 'SV', 'IPV']\n",
    "conts=['Age', 'P_Age']\n",
    "dep=\"MINIdepression\""
   ]
  },
  {
   "cell_type": "code",
   "execution_count": 79,
   "id": "0a007fa4-26b0-437d-89ff-65c0a9cc7ac6",
   "metadata": {},
   "outputs": [],
   "source": [
    "for label in cats:\n",
    "    df[label] = pd.Categorical(df[label])"
   ]
  },
  {
   "cell_type": "code",
   "execution_count": 80,
   "id": "349c7780-4b65-4584-b7d2-fcc15a3f6fb3",
   "metadata": {},
   "outputs": [],
   "source": [
    "# df['MINIdepression'] = pd.Categorical(df['MINIdepression'])"
   ]
  },
  {
   "cell_type": "code",
   "execution_count": 82,
   "id": "4fc90536-4394-4455-9a91-caf3875b8437",
   "metadata": {},
   "outputs": [
    {
     "data": {
      "text/plain": [
       "array([' ', '14', '16', '17', '18', '19', '20', '21', '22', '23', '24',\n",
       "       '25', '26', '27', '29', '30', '31', '32', '36', '38', '40', '56'],\n",
       "      dtype=object)"
      ]
     },
     "execution_count": 82,
     "metadata": {},
     "output_type": "execute_result"
    }
   ],
   "source": [
    "df.P_Age.unique()"
   ]
  },
  {
   "cell_type": "code",
   "execution_count": 83,
   "id": "ffc334b4-805c-4396-b27f-8459c4e2075b",
   "metadata": {},
   "outputs": [],
   "source": [
    "df['P_Age'] = df.P_Age.replace(' ', None)"
   ]
  },
  {
   "cell_type": "code",
   "execution_count": 84,
   "id": "c7c15e7e-3539-4023-ad63-917d806eb0af",
   "metadata": {},
   "outputs": [],
   "source": [
    "df['P_Age'] = df.P_Age.fillna(0)"
   ]
  },
  {
   "cell_type": "code",
   "execution_count": 85,
   "id": "0c73e473-f16e-4490-8deb-38f9eef4902e",
   "metadata": {},
   "outputs": [],
   "source": [
    "df['P_Age'] = df.P_Age.astype('int64')"
   ]
  },
  {
   "cell_type": "code",
   "execution_count": 86,
   "id": "e859a146-87b2-4d44-8eef-bf65ef6049ba",
   "metadata": {},
   "outputs": [
    {
     "data": {
      "text/plain": [
       "array([ 0, 14, 16, 17, 18, 19, 20, 21, 22, 23, 24, 25, 26, 27, 29, 30, 31,\n",
       "       32, 36, 38, 40, 56], dtype=int64)"
      ]
     },
     "execution_count": 86,
     "metadata": {},
     "output_type": "execute_result"
    }
   ],
   "source": [
    "df.P_Age.unique()"
   ]
  },
  {
   "cell_type": "code",
   "execution_count": 157,
   "id": "8aa87d3f-5e91-431d-8265-007ff7049e5b",
   "metadata": {},
   "outputs": [
    {
     "ename": "ValueError",
     "evalue": "Cannot cast object dtype to int64",
     "output_type": "error",
     "traceback": [
      "\u001b[1;31m---------------------------------------------------------------------------\u001b[0m",
      "\u001b[1;31mValueError\u001b[0m                                Traceback (most recent call last)",
      "File \u001b[1;32m~\\miniconda3\\envs\\cenno\\Lib\\site-packages\\pandas\\core\\arrays\\categorical.py:591\u001b[0m, in \u001b[0;36mCategorical.astype\u001b[1;34m(self, dtype, copy)\u001b[0m\n\u001b[0;32m    590\u001b[0m \u001b[38;5;28;01mtry\u001b[39;00m:\n\u001b[1;32m--> 591\u001b[0m     new_cats \u001b[38;5;241m=\u001b[39m \u001b[43mnew_cats\u001b[49m\u001b[38;5;241;43m.\u001b[39;49m\u001b[43mastype\u001b[49m\u001b[43m(\u001b[49m\u001b[43mdtype\u001b[49m\u001b[38;5;241;43m=\u001b[39;49m\u001b[43mdtype\u001b[49m\u001b[43m,\u001b[49m\u001b[43m \u001b[49m\u001b[43mcopy\u001b[49m\u001b[38;5;241;43m=\u001b[39;49m\u001b[43mcopy\u001b[49m\u001b[43m)\u001b[49m\n\u001b[0;32m    592\u001b[0m     fill_value \u001b[38;5;241m=\u001b[39m \u001b[38;5;28mself\u001b[39m\u001b[38;5;241m.\u001b[39mcategories\u001b[38;5;241m.\u001b[39m_na_value\n",
      "\u001b[1;31mValueError\u001b[0m: invalid literal for int() with base 10: 'No'",
      "\nDuring handling of the above exception, another exception occurred:\n",
      "\u001b[1;31mValueError\u001b[0m                                Traceback (most recent call last)",
      "Cell \u001b[1;32mIn[157], line 1\u001b[0m\n\u001b[1;32m----> 1\u001b[0m df[\u001b[38;5;124m'\u001b[39m\u001b[38;5;124mMINIdepression\u001b[39m\u001b[38;5;124m'\u001b[39m] \u001b[38;5;241m=\u001b[39m \u001b[43mdf\u001b[49m\u001b[38;5;241;43m.\u001b[39;49m\u001b[43mMINIdepression\u001b[49m\u001b[38;5;241;43m.\u001b[39;49m\u001b[43mastype\u001b[49m\u001b[43m(\u001b[49m\u001b[38;5;124;43m'\u001b[39;49m\u001b[38;5;124;43mint64\u001b[39;49m\u001b[38;5;124;43m'\u001b[39;49m\u001b[43m)\u001b[49m\n",
      "File \u001b[1;32m~\\miniconda3\\envs\\cenno\\Lib\\site-packages\\pandas\\core\\generic.py:6643\u001b[0m, in \u001b[0;36mNDFrame.astype\u001b[1;34m(self, dtype, copy, errors)\u001b[0m\n\u001b[0;32m   6637\u001b[0m     results \u001b[38;5;241m=\u001b[39m [\n\u001b[0;32m   6638\u001b[0m         ser\u001b[38;5;241m.\u001b[39mastype(dtype, copy\u001b[38;5;241m=\u001b[39mcopy, errors\u001b[38;5;241m=\u001b[39merrors) \u001b[38;5;28;01mfor\u001b[39;00m _, ser \u001b[38;5;129;01min\u001b[39;00m \u001b[38;5;28mself\u001b[39m\u001b[38;5;241m.\u001b[39mitems()\n\u001b[0;32m   6639\u001b[0m     ]\n\u001b[0;32m   6641\u001b[0m \u001b[38;5;28;01melse\u001b[39;00m:\n\u001b[0;32m   6642\u001b[0m     \u001b[38;5;66;03m# else, only a single dtype is given\u001b[39;00m\n\u001b[1;32m-> 6643\u001b[0m     new_data \u001b[38;5;241m=\u001b[39m \u001b[38;5;28;43mself\u001b[39;49m\u001b[38;5;241;43m.\u001b[39;49m\u001b[43m_mgr\u001b[49m\u001b[38;5;241;43m.\u001b[39;49m\u001b[43mastype\u001b[49m\u001b[43m(\u001b[49m\u001b[43mdtype\u001b[49m\u001b[38;5;241;43m=\u001b[39;49m\u001b[43mdtype\u001b[49m\u001b[43m,\u001b[49m\u001b[43m \u001b[49m\u001b[43mcopy\u001b[49m\u001b[38;5;241;43m=\u001b[39;49m\u001b[43mcopy\u001b[49m\u001b[43m,\u001b[49m\u001b[43m \u001b[49m\u001b[43merrors\u001b[49m\u001b[38;5;241;43m=\u001b[39;49m\u001b[43merrors\u001b[49m\u001b[43m)\u001b[49m\n\u001b[0;32m   6644\u001b[0m     res \u001b[38;5;241m=\u001b[39m \u001b[38;5;28mself\u001b[39m\u001b[38;5;241m.\u001b[39m_constructor_from_mgr(new_data, axes\u001b[38;5;241m=\u001b[39mnew_data\u001b[38;5;241m.\u001b[39maxes)\n\u001b[0;32m   6645\u001b[0m     \u001b[38;5;28;01mreturn\u001b[39;00m res\u001b[38;5;241m.\u001b[39m__finalize__(\u001b[38;5;28mself\u001b[39m, method\u001b[38;5;241m=\u001b[39m\u001b[38;5;124m\"\u001b[39m\u001b[38;5;124mastype\u001b[39m\u001b[38;5;124m\"\u001b[39m)\n",
      "File \u001b[1;32m~\\miniconda3\\envs\\cenno\\Lib\\site-packages\\pandas\\core\\internals\\managers.py:430\u001b[0m, in \u001b[0;36mBaseBlockManager.astype\u001b[1;34m(self, dtype, copy, errors)\u001b[0m\n\u001b[0;32m    427\u001b[0m \u001b[38;5;28;01melif\u001b[39;00m using_copy_on_write():\n\u001b[0;32m    428\u001b[0m     copy \u001b[38;5;241m=\u001b[39m \u001b[38;5;28;01mFalse\u001b[39;00m\n\u001b[1;32m--> 430\u001b[0m \u001b[38;5;28;01mreturn\u001b[39;00m \u001b[38;5;28;43mself\u001b[39;49m\u001b[38;5;241;43m.\u001b[39;49m\u001b[43mapply\u001b[49m\u001b[43m(\u001b[49m\n\u001b[0;32m    431\u001b[0m \u001b[43m    \u001b[49m\u001b[38;5;124;43m\"\u001b[39;49m\u001b[38;5;124;43mastype\u001b[39;49m\u001b[38;5;124;43m\"\u001b[39;49m\u001b[43m,\u001b[49m\n\u001b[0;32m    432\u001b[0m \u001b[43m    \u001b[49m\u001b[43mdtype\u001b[49m\u001b[38;5;241;43m=\u001b[39;49m\u001b[43mdtype\u001b[49m\u001b[43m,\u001b[49m\n\u001b[0;32m    433\u001b[0m \u001b[43m    \u001b[49m\u001b[43mcopy\u001b[49m\u001b[38;5;241;43m=\u001b[39;49m\u001b[43mcopy\u001b[49m\u001b[43m,\u001b[49m\n\u001b[0;32m    434\u001b[0m \u001b[43m    \u001b[49m\u001b[43merrors\u001b[49m\u001b[38;5;241;43m=\u001b[39;49m\u001b[43merrors\u001b[49m\u001b[43m,\u001b[49m\n\u001b[0;32m    435\u001b[0m \u001b[43m    \u001b[49m\u001b[43musing_cow\u001b[49m\u001b[38;5;241;43m=\u001b[39;49m\u001b[43musing_copy_on_write\u001b[49m\u001b[43m(\u001b[49m\u001b[43m)\u001b[49m\u001b[43m,\u001b[49m\n\u001b[0;32m    436\u001b[0m \u001b[43m\u001b[49m\u001b[43m)\u001b[49m\n",
      "File \u001b[1;32m~\\miniconda3\\envs\\cenno\\Lib\\site-packages\\pandas\\core\\internals\\managers.py:363\u001b[0m, in \u001b[0;36mBaseBlockManager.apply\u001b[1;34m(self, f, align_keys, **kwargs)\u001b[0m\n\u001b[0;32m    361\u001b[0m         applied \u001b[38;5;241m=\u001b[39m b\u001b[38;5;241m.\u001b[39mapply(f, \u001b[38;5;241m*\u001b[39m\u001b[38;5;241m*\u001b[39mkwargs)\n\u001b[0;32m    362\u001b[0m     \u001b[38;5;28;01melse\u001b[39;00m:\n\u001b[1;32m--> 363\u001b[0m         applied \u001b[38;5;241m=\u001b[39m \u001b[38;5;28;43mgetattr\u001b[39;49m\u001b[43m(\u001b[49m\u001b[43mb\u001b[49m\u001b[43m,\u001b[49m\u001b[43m \u001b[49m\u001b[43mf\u001b[49m\u001b[43m)\u001b[49m\u001b[43m(\u001b[49m\u001b[38;5;241;43m*\u001b[39;49m\u001b[38;5;241;43m*\u001b[39;49m\u001b[43mkwargs\u001b[49m\u001b[43m)\u001b[49m\n\u001b[0;32m    364\u001b[0m     result_blocks \u001b[38;5;241m=\u001b[39m extend_blocks(applied, result_blocks)\n\u001b[0;32m    366\u001b[0m out \u001b[38;5;241m=\u001b[39m \u001b[38;5;28mtype\u001b[39m(\u001b[38;5;28mself\u001b[39m)\u001b[38;5;241m.\u001b[39mfrom_blocks(result_blocks, \u001b[38;5;28mself\u001b[39m\u001b[38;5;241m.\u001b[39maxes)\n",
      "File \u001b[1;32m~\\miniconda3\\envs\\cenno\\Lib\\site-packages\\pandas\\core\\internals\\blocks.py:758\u001b[0m, in \u001b[0;36mBlock.astype\u001b[1;34m(self, dtype, copy, errors, using_cow, squeeze)\u001b[0m\n\u001b[0;32m    755\u001b[0m         \u001b[38;5;28;01mraise\u001b[39;00m \u001b[38;5;167;01mValueError\u001b[39;00m(\u001b[38;5;124m\"\u001b[39m\u001b[38;5;124mCan not squeeze with more than one column.\u001b[39m\u001b[38;5;124m\"\u001b[39m)\n\u001b[0;32m    756\u001b[0m     values \u001b[38;5;241m=\u001b[39m values[\u001b[38;5;241m0\u001b[39m, :]  \u001b[38;5;66;03m# type: ignore[call-overload]\u001b[39;00m\n\u001b[1;32m--> 758\u001b[0m new_values \u001b[38;5;241m=\u001b[39m \u001b[43mastype_array_safe\u001b[49m\u001b[43m(\u001b[49m\u001b[43mvalues\u001b[49m\u001b[43m,\u001b[49m\u001b[43m \u001b[49m\u001b[43mdtype\u001b[49m\u001b[43m,\u001b[49m\u001b[43m \u001b[49m\u001b[43mcopy\u001b[49m\u001b[38;5;241;43m=\u001b[39;49m\u001b[43mcopy\u001b[49m\u001b[43m,\u001b[49m\u001b[43m \u001b[49m\u001b[43merrors\u001b[49m\u001b[38;5;241;43m=\u001b[39;49m\u001b[43merrors\u001b[49m\u001b[43m)\u001b[49m\n\u001b[0;32m    760\u001b[0m new_values \u001b[38;5;241m=\u001b[39m maybe_coerce_values(new_values)\n\u001b[0;32m    762\u001b[0m refs \u001b[38;5;241m=\u001b[39m \u001b[38;5;28;01mNone\u001b[39;00m\n",
      "File \u001b[1;32m~\\miniconda3\\envs\\cenno\\Lib\\site-packages\\pandas\\core\\dtypes\\astype.py:237\u001b[0m, in \u001b[0;36mastype_array_safe\u001b[1;34m(values, dtype, copy, errors)\u001b[0m\n\u001b[0;32m    234\u001b[0m     dtype \u001b[38;5;241m=\u001b[39m dtype\u001b[38;5;241m.\u001b[39mnumpy_dtype\n\u001b[0;32m    236\u001b[0m \u001b[38;5;28;01mtry\u001b[39;00m:\n\u001b[1;32m--> 237\u001b[0m     new_values \u001b[38;5;241m=\u001b[39m \u001b[43mastype_array\u001b[49m\u001b[43m(\u001b[49m\u001b[43mvalues\u001b[49m\u001b[43m,\u001b[49m\u001b[43m \u001b[49m\u001b[43mdtype\u001b[49m\u001b[43m,\u001b[49m\u001b[43m \u001b[49m\u001b[43mcopy\u001b[49m\u001b[38;5;241;43m=\u001b[39;49m\u001b[43mcopy\u001b[49m\u001b[43m)\u001b[49m\n\u001b[0;32m    238\u001b[0m \u001b[38;5;28;01mexcept\u001b[39;00m (\u001b[38;5;167;01mValueError\u001b[39;00m, \u001b[38;5;167;01mTypeError\u001b[39;00m):\n\u001b[0;32m    239\u001b[0m     \u001b[38;5;66;03m# e.g. _astype_nansafe can fail on object-dtype of strings\u001b[39;00m\n\u001b[0;32m    240\u001b[0m     \u001b[38;5;66;03m#  trying to convert to float\u001b[39;00m\n\u001b[0;32m    241\u001b[0m     \u001b[38;5;28;01mif\u001b[39;00m errors \u001b[38;5;241m==\u001b[39m \u001b[38;5;124m\"\u001b[39m\u001b[38;5;124mignore\u001b[39m\u001b[38;5;124m\"\u001b[39m:\n",
      "File \u001b[1;32m~\\miniconda3\\envs\\cenno\\Lib\\site-packages\\pandas\\core\\dtypes\\astype.py:179\u001b[0m, in \u001b[0;36mastype_array\u001b[1;34m(values, dtype, copy)\u001b[0m\n\u001b[0;32m    175\u001b[0m     \u001b[38;5;28;01mreturn\u001b[39;00m values\n\u001b[0;32m    177\u001b[0m \u001b[38;5;28;01mif\u001b[39;00m \u001b[38;5;129;01mnot\u001b[39;00m \u001b[38;5;28misinstance\u001b[39m(values, np\u001b[38;5;241m.\u001b[39mndarray):\n\u001b[0;32m    178\u001b[0m     \u001b[38;5;66;03m# i.e. ExtensionArray\u001b[39;00m\n\u001b[1;32m--> 179\u001b[0m     values \u001b[38;5;241m=\u001b[39m \u001b[43mvalues\u001b[49m\u001b[38;5;241;43m.\u001b[39;49m\u001b[43mastype\u001b[49m\u001b[43m(\u001b[49m\u001b[43mdtype\u001b[49m\u001b[43m,\u001b[49m\u001b[43m \u001b[49m\u001b[43mcopy\u001b[49m\u001b[38;5;241;43m=\u001b[39;49m\u001b[43mcopy\u001b[49m\u001b[43m)\u001b[49m\n\u001b[0;32m    181\u001b[0m \u001b[38;5;28;01melse\u001b[39;00m:\n\u001b[0;32m    182\u001b[0m     values \u001b[38;5;241m=\u001b[39m _astype_nansafe(values, dtype, copy\u001b[38;5;241m=\u001b[39mcopy)\n",
      "File \u001b[1;32m~\\miniconda3\\envs\\cenno\\Lib\\site-packages\\pandas\\core\\arrays\\categorical.py:602\u001b[0m, in \u001b[0;36mCategorical.astype\u001b[1;34m(self, dtype, copy)\u001b[0m\n\u001b[0;32m    597\u001b[0m     \u001b[38;5;28;01mexcept\u001b[39;00m (\n\u001b[0;32m    598\u001b[0m         \u001b[38;5;167;01mTypeError\u001b[39;00m,  \u001b[38;5;66;03m# downstream error msg for CategoricalIndex is misleading\u001b[39;00m\n\u001b[0;32m    599\u001b[0m         \u001b[38;5;167;01mValueError\u001b[39;00m,\n\u001b[0;32m    600\u001b[0m     ):\n\u001b[0;32m    601\u001b[0m         msg \u001b[38;5;241m=\u001b[39m \u001b[38;5;124mf\u001b[39m\u001b[38;5;124m\"\u001b[39m\u001b[38;5;124mCannot cast \u001b[39m\u001b[38;5;132;01m{\u001b[39;00m\u001b[38;5;28mself\u001b[39m\u001b[38;5;241m.\u001b[39mcategories\u001b[38;5;241m.\u001b[39mdtype\u001b[38;5;132;01m}\u001b[39;00m\u001b[38;5;124m dtype to \u001b[39m\u001b[38;5;132;01m{\u001b[39;00mdtype\u001b[38;5;132;01m}\u001b[39;00m\u001b[38;5;124m\"\u001b[39m\n\u001b[1;32m--> 602\u001b[0m         \u001b[38;5;28;01mraise\u001b[39;00m \u001b[38;5;167;01mValueError\u001b[39;00m(msg)\n\u001b[0;32m    604\u001b[0m     result \u001b[38;5;241m=\u001b[39m take_nd(\n\u001b[0;32m    605\u001b[0m         new_cats, ensure_platform_int(\u001b[38;5;28mself\u001b[39m\u001b[38;5;241m.\u001b[39m_codes), fill_value\u001b[38;5;241m=\u001b[39mfill_value\n\u001b[0;32m    606\u001b[0m     )\n\u001b[0;32m    608\u001b[0m \u001b[38;5;28;01mreturn\u001b[39;00m result\n",
      "\u001b[1;31mValueError\u001b[0m: Cannot cast object dtype to int64"
     ]
    }
   ],
   "source": [
    "# df['MINIdepression'] = df.MINIdepression.astype('int64')"
   ]
  },
  {
   "cell_type": "code",
   "execution_count": 141,
   "id": "af0d6342-7c3e-4cfd-8b90-c434452c8b19",
   "metadata": {},
   "outputs": [
    {
     "data": {
      "text/plain": [
       "ID                   int64\n",
       "Home              category\n",
       "Age                  int64\n",
       "Religion          category\n",
       "Ethnicity         category\n",
       "Education         category\n",
       "Occupation        category\n",
       "Income            category\n",
       "Marital           category\n",
       "Smoke             category\n",
       "Smoking           category\n",
       "Alcohol           category\n",
       "Partner           category\n",
       "P_Age                int64\n",
       "P_Education       category\n",
       "P_Occupation      category\n",
       "P_Alcohol         category\n",
       "P_Drugs           category\n",
       "P_Fights          category\n",
       "P_Women           category\n",
       "P_Child           category\n",
       "LDEPRESSION       category\n",
       "PDEPRESSION       category\n",
       "Lanxiety          category\n",
       "Panxiety          category\n",
       "PPTSD             category\n",
       "MINIdepression    category\n",
       "EV                category\n",
       "CB                category\n",
       "PV                category\n",
       "SV                category\n",
       "IPV               category\n",
       "dtype: object"
      ]
     },
     "execution_count": 141,
     "metadata": {},
     "output_type": "execute_result"
    }
   ],
   "source": [
    "df.dtypes"
   ]
  },
  {
   "cell_type": "code",
   "execution_count": 142,
   "id": "efc54f07-5ec3-4ebc-9bea-be4d8394528b",
   "metadata": {},
   "outputs": [
    {
     "data": {
      "text/plain": [
       "ID                          62\n",
       "Home                  JKM/MAIS\n",
       "Age                         14\n",
       "Religion                Muslim\n",
       "Ethnicity                Malay\n",
       "Education            Secondary\n",
       "Occupation            Studying\n",
       "Income                     B40\n",
       "Marital                 Single\n",
       "Smoke                Not_Smoke\n",
       "Smoking           Not_Everyday\n",
       "Alcohol                  Never\n",
       "Partner                     No\n",
       "P_Age                       19\n",
       "P_Education          Secondary\n",
       "P_Occupation           Working\n",
       "P_Alcohol            Dont_Know\n",
       "P_Drugs              Dont_Know\n",
       "P_Fights                   Yes\n",
       "P_Women                    Yes\n",
       "P_Child              Dont_Know\n",
       "LDEPRESSION                  5\n",
       "PDEPRESSION                Yes\n",
       "Lanxiety                     4\n",
       "Panxiety                     1\n",
       "PPTSD                        1\n",
       "MINIdepression               1\n",
       "EV                           1\n",
       "CB                           1\n",
       "PV                           0\n",
       "SV                           1\n",
       "IPV                          1\n",
       "Name: 40, dtype: object"
      ]
     },
     "execution_count": 142,
     "metadata": {},
     "output_type": "execute_result"
    }
   ],
   "source": [
    "df.iloc[40]"
   ]
  },
  {
   "cell_type": "markdown",
   "id": "a1e94aaf-1de9-475f-8f9d-7395bb2f3fe8",
   "metadata": {},
   "source": [
    "# Training Our Data"
   ]
  },
  {
   "cell_type": "code",
   "execution_count": 131,
   "id": "ccd49a89-3856-4b24-a003-d1a19019bf4d",
   "metadata": {},
   "outputs": [],
   "source": [
    "from numpy import random\n",
    "from sklearn.model_selection import train_test_split\n",
    "from sklearn.metrics import mean_absolute_error"
   ]
  },
  {
   "cell_type": "code",
   "execution_count": 88,
   "id": "df4461d6-a6e5-4107-8da3-29a0efeec916",
   "metadata": {},
   "outputs": [],
   "source": [
    "trn_df,val_df = train_test_split(df, test_size=0.25)\n",
    "trn_df[cats] = trn_df[cats].apply(lambda x: x.cat.codes)\n",
    "val_df[cats] = val_df[cats].apply(lambda x: x.cat.codes)"
   ]
  },
  {
   "cell_type": "code",
   "execution_count": 89,
   "id": "228f4d5d-4c50-46e5-8e27-120fd5be4905",
   "metadata": {},
   "outputs": [],
   "source": [
    "def xs_y(df):\n",
    "    xs = df[cats+conts].copy()\n",
    "    return xs,df[dep] if dep in df else None\n",
    "\n",
    "trn_xs,trn_y = xs_y(trn_df)\n",
    "val_xs,val_y = xs_y(val_df)"
   ]
  },
  {
   "cell_type": "code",
   "execution_count": 90,
   "id": "d2471111-ac35-45a2-b754-6139223ab3c3",
   "metadata": {},
   "outputs": [],
   "source": [
    "from sklearn.tree import DecisionTreeClassifier, export_graphviz\n",
    "\n",
    "m = DecisionTreeClassifier(max_leaf_nodes=4).fit(trn_xs, trn_y);"
   ]
  },
  {
   "cell_type": "code",
   "execution_count": 91,
   "id": "50de2e37-8371-43e3-8f04-fef668437d70",
   "metadata": {},
   "outputs": [],
   "source": [
    "import graphviz\n",
    "\n",
    "def draw_tree(t, df, size=10, ratio=0.6, precision=2, **kwargs):\n",
    "    s=export_graphviz(t, out_file=None, feature_names=df.columns, filled=True, rounded=True,\n",
    "                      special_characters=True, rotate=False, precision=precision, **kwargs)\n",
    "    return graphviz.Source(re.sub('Tree {', f'Tree {{ size={size}; ratio={ratio}', s))"
   ]
  },
  {
   "cell_type": "code",
   "execution_count": 92,
   "id": "cae886ed-46cc-49ee-bfe3-be3bc94036b9",
   "metadata": {},
   "outputs": [
    {
     "data": {
      "image/svg+xml": [
       "<?xml version=\"1.0\" encoding=\"UTF-8\" standalone=\"no\"?>\n",
       "<!DOCTYPE svg PUBLIC \"-//W3C//DTD SVG 1.1//EN\"\n",
       " \"http://www.w3.org/Graphics/SVG/1.1/DTD/svg11.dtd\">\n",
       "<!-- Generated by graphviz version 11.0.0 (0)\n",
       " -->\n",
       "<!-- Title: Tree Pages: 1 -->\n",
       "<svg width=\"479pt\" height=\"291pt\"\n",
       " viewBox=\"0.00 0.00 479.00 290.60\" xmlns=\"http://www.w3.org/2000/svg\" xmlns:xlink=\"http://www.w3.org/1999/xlink\">\n",
       "<g id=\"graph0\" class=\"graph\" transform=\"scale(1 1) rotate(0) translate(4 286.6)\">\n",
       "<title>Tree</title>\n",
       "<polygon fill=\"white\" stroke=\"none\" points=\"-4,4 -4,-286.6 475,-286.6 475,4 -4,4\"/>\n",
       "<!-- 0 -->\n",
       "<g id=\"node1\" class=\"node\">\n",
       "<title>0</title>\n",
       "<path fill=\"#bbdef6\" stroke=\"black\" d=\"M264.5,-280.5C264.5,-280.5 179.5,-280.5 179.5,-280.5 173.5,-280.5 167.5,-274.5 167.5,-268.5 167.5,-268.5 167.5,-221.5 167.5,-221.5 167.5,-215.5 173.5,-209.5 179.5,-209.5 179.5,-209.5 264.5,-209.5 264.5,-209.5 270.5,-209.5 276.5,-215.5 276.5,-221.5 276.5,-221.5 276.5,-268.5 276.5,-268.5 276.5,-274.5 270.5,-280.5 264.5,-280.5\"/>\n",
       "<text text-anchor=\"start\" x=\"180\" y=\"-263.2\" font-family=\"Helvetica,sans-Serif\" font-size=\"14.00\">Lanxiety ≤ 1.5</text>\n",
       "<text text-anchor=\"start\" x=\"190.5\" y=\"-247.45\" font-family=\"Helvetica,sans-Serif\" font-size=\"14.00\">gini = 0.48</text>\n",
       "<text text-anchor=\"start\" x=\"181.12\" y=\"-231.7\" font-family=\"Helvetica,sans-Serif\" font-size=\"14.00\">samples = 68</text>\n",
       "<text text-anchor=\"start\" x=\"175.5\" y=\"-215.95\" font-family=\"Helvetica,sans-Serif\" font-size=\"14.00\">value = [27, 41]</text>\n",
       "</g>\n",
       "<!-- 1 -->\n",
       "<g id=\"node2\" class=\"node\">\n",
       "<title>1</title>\n",
       "<path fill=\"#eeab7b\" stroke=\"black\" d=\"M199.75,-168.5C199.75,-168.5 122.25,-168.5 122.25,-168.5 116.25,-168.5 110.25,-162.5 110.25,-156.5 110.25,-156.5 110.25,-109.5 110.25,-109.5 110.25,-103.5 116.25,-97.5 122.25,-97.5 122.25,-97.5 199.75,-97.5 199.75,-97.5 205.75,-97.5 211.75,-103.5 211.75,-109.5 211.75,-109.5 211.75,-156.5 211.75,-156.5 211.75,-162.5 205.75,-168.5 199.75,-168.5\"/>\n",
       "<text text-anchor=\"start\" x=\"122\" y=\"-151.2\" font-family=\"Helvetica,sans-Serif\" font-size=\"14.00\">Alcohol ≤ 2.5</text>\n",
       "<text text-anchor=\"start\" x=\"129.5\" y=\"-135.45\" font-family=\"Helvetica,sans-Serif\" font-size=\"14.00\">gini = 0.38</text>\n",
       "<text text-anchor=\"start\" x=\"120.12\" y=\"-119.7\" font-family=\"Helvetica,sans-Serif\" font-size=\"14.00\">samples = 20</text>\n",
       "<text text-anchor=\"start\" x=\"118.25\" y=\"-103.95\" font-family=\"Helvetica,sans-Serif\" font-size=\"14.00\">value = [15, 5]</text>\n",
       "</g>\n",
       "<!-- 0&#45;&gt;1 -->\n",
       "<g id=\"edge1\" class=\"edge\">\n",
       "<title>0&#45;&gt;1</title>\n",
       "<path fill=\"none\" stroke=\"black\" d=\"M202.7,-209.2C197.36,-199.57 191.49,-188.98 185.88,-178.86\"/>\n",
       "<polygon fill=\"black\" stroke=\"black\" points=\"189.03,-177.33 181.12,-170.28 182.91,-180.72 189.03,-177.33\"/>\n",
       "<text text-anchor=\"middle\" x=\"173.5\" y=\"-187.56\" font-family=\"Helvetica,sans-Serif\" font-size=\"14.00\">True</text>\n",
       "</g>\n",
       "<!-- 2 -->\n",
       "<g id=\"node5\" class=\"node\">\n",
       "<title>2</title>\n",
       "<path fill=\"#7bbeee\" stroke=\"black\" d=\"M326.5,-168.5C326.5,-168.5 241.5,-168.5 241.5,-168.5 235.5,-168.5 229.5,-162.5 229.5,-156.5 229.5,-156.5 229.5,-109.5 229.5,-109.5 229.5,-103.5 235.5,-97.5 241.5,-97.5 241.5,-97.5 326.5,-97.5 326.5,-97.5 332.5,-97.5 338.5,-103.5 338.5,-109.5 338.5,-109.5 338.5,-156.5 338.5,-156.5 338.5,-162.5 332.5,-168.5 326.5,-168.5\"/>\n",
       "<text text-anchor=\"start\" x=\"244.62\" y=\"-151.2\" font-family=\"Helvetica,sans-Serif\" font-size=\"14.00\">PPTSD ≤ 0.5</text>\n",
       "<text text-anchor=\"start\" x=\"252.5\" y=\"-135.45\" font-family=\"Helvetica,sans-Serif\" font-size=\"14.00\">gini = 0.38</text>\n",
       "<text text-anchor=\"start\" x=\"243.12\" y=\"-119.7\" font-family=\"Helvetica,sans-Serif\" font-size=\"14.00\">samples = 48</text>\n",
       "<text text-anchor=\"start\" x=\"237.5\" y=\"-103.95\" font-family=\"Helvetica,sans-Serif\" font-size=\"14.00\">value = [12, 36]</text>\n",
       "</g>\n",
       "<!-- 0&#45;&gt;2 -->\n",
       "<g id=\"edge4\" class=\"edge\">\n",
       "<title>0&#45;&gt;2</title>\n",
       "<path fill=\"none\" stroke=\"black\" d=\"M241.62,-209.2C247.05,-199.57 253.01,-188.98 258.72,-178.86\"/>\n",
       "<polygon fill=\"black\" stroke=\"black\" points=\"261.69,-180.7 263.55,-170.27 255.6,-177.27 261.69,-180.7\"/>\n",
       "<text text-anchor=\"middle\" x=\"271.02\" y=\"-187.61\" font-family=\"Helvetica,sans-Serif\" font-size=\"14.00\">False</text>\n",
       "</g>\n",
       "<!-- 5 -->\n",
       "<g id=\"node3\" class=\"node\">\n",
       "<title>5</title>\n",
       "<path fill=\"#399de5\" stroke=\"black\" d=\"M82,-56.62C82,-56.62 12,-56.62 12,-56.62 6,-56.62 0,-50.62 0,-44.62 0,-44.62 0,-13.38 0,-13.38 0,-7.38 6,-1.38 12,-1.38 12,-1.38 82,-1.38 82,-1.38 88,-1.38 94,-7.38 94,-13.38 94,-13.38 94,-44.62 94,-44.62 94,-50.62 88,-56.62 82,-56.62\"/>\n",
       "<text text-anchor=\"start\" x=\"19.25\" y=\"-39.33\" font-family=\"Helvetica,sans-Serif\" font-size=\"14.00\">gini = 0.0</text>\n",
       "<text text-anchor=\"start\" x=\"9.88\" y=\"-23.57\" font-family=\"Helvetica,sans-Serif\" font-size=\"14.00\">samples = 2</text>\n",
       "<text text-anchor=\"start\" x=\"8\" y=\"-7.83\" font-family=\"Helvetica,sans-Serif\" font-size=\"14.00\">value = [0, 2]</text>\n",
       "</g>\n",
       "<!-- 1&#45;&gt;5 -->\n",
       "<g id=\"edge2\" class=\"edge\">\n",
       "<title>1&#45;&gt;5</title>\n",
       "<path fill=\"none\" stroke=\"black\" d=\"M122.09,-97.18C110.25,-86.59 97.26,-74.97 85.45,-64.41\"/>\n",
       "<polygon fill=\"black\" stroke=\"black\" points=\"88.02,-62 78.23,-57.94 83.35,-67.22 88.02,-62\"/>\n",
       "</g>\n",
       "<!-- 6 -->\n",
       "<g id=\"node4\" class=\"node\">\n",
       "<title>6</title>\n",
       "<path fill=\"#ea9a61\" stroke=\"black\" d=\"M201.75,-56.62C201.75,-56.62 124.25,-56.62 124.25,-56.62 118.25,-56.62 112.25,-50.62 112.25,-44.62 112.25,-44.62 112.25,-13.38 112.25,-13.38 112.25,-7.38 118.25,-1.38 124.25,-1.38 124.25,-1.38 201.75,-1.38 201.75,-1.38 207.75,-1.38 213.75,-7.38 213.75,-13.38 213.75,-13.38 213.75,-44.62 213.75,-44.62 213.75,-50.62 207.75,-56.62 201.75,-56.62\"/>\n",
       "<text text-anchor=\"start\" x=\"131.5\" y=\"-39.33\" font-family=\"Helvetica,sans-Serif\" font-size=\"14.00\">gini = 0.28</text>\n",
       "<text text-anchor=\"start\" x=\"122.12\" y=\"-23.57\" font-family=\"Helvetica,sans-Serif\" font-size=\"14.00\">samples = 18</text>\n",
       "<text text-anchor=\"start\" x=\"120.25\" y=\"-7.83\" font-family=\"Helvetica,sans-Serif\" font-size=\"14.00\">value = [15, 3]</text>\n",
       "</g>\n",
       "<!-- 1&#45;&gt;6 -->\n",
       "<g id=\"edge3\" class=\"edge\">\n",
       "<title>1&#45;&gt;6</title>\n",
       "<path fill=\"none\" stroke=\"black\" d=\"M161.68,-97.18C161.87,-87.83 162.07,-77.66 162.25,-68.14\"/>\n",
       "<polygon fill=\"black\" stroke=\"black\" points=\"165.75,-68.51 162.44,-58.45 158.75,-68.38 165.75,-68.51\"/>\n",
       "</g>\n",
       "<!-- 3 -->\n",
       "<g id=\"node6\" class=\"node\">\n",
       "<title>3</title>\n",
       "<path fill=\"#efb388\" stroke=\"black\" d=\"M317,-56.62C317,-56.62 247,-56.62 247,-56.62 241,-56.62 235,-50.62 235,-44.62 235,-44.62 235,-13.38 235,-13.38 235,-7.38 241,-1.38 247,-1.38 247,-1.38 317,-1.38 317,-1.38 323,-1.38 329,-7.38 329,-13.38 329,-13.38 329,-44.62 329,-44.62 329,-50.62 323,-56.62 317,-56.62\"/>\n",
       "<text text-anchor=\"start\" x=\"250.5\" y=\"-39.33\" font-family=\"Helvetica,sans-Serif\" font-size=\"14.00\">gini = 0.41</text>\n",
       "<text text-anchor=\"start\" x=\"244.88\" y=\"-23.57\" font-family=\"Helvetica,sans-Serif\" font-size=\"14.00\">samples = 7</text>\n",
       "<text text-anchor=\"start\" x=\"243\" y=\"-7.83\" font-family=\"Helvetica,sans-Serif\" font-size=\"14.00\">value = [5, 2]</text>\n",
       "</g>\n",
       "<!-- 2&#45;&gt;3 -->\n",
       "<g id=\"edge5\" class=\"edge\">\n",
       "<title>2&#45;&gt;3</title>\n",
       "<path fill=\"none\" stroke=\"black\" d=\"M283.32,-97.18C283.13,-87.83 282.93,-77.66 282.75,-68.14\"/>\n",
       "<polygon fill=\"black\" stroke=\"black\" points=\"286.25,-68.38 282.56,-58.45 279.25,-68.51 286.25,-68.38\"/>\n",
       "</g>\n",
       "<!-- 4 -->\n",
       "<g id=\"node7\" class=\"node\">\n",
       "<title>4</title>\n",
       "<path fill=\"#62b1ea\" stroke=\"black\" d=\"M459,-56.62C459,-56.62 359,-56.62 359,-56.62 353,-56.62 347,-50.62 347,-44.62 347,-44.62 347,-13.38 347,-13.38 347,-7.38 353,-1.38 359,-1.38 359,-1.38 459,-1.38 459,-1.38 465,-1.38 471,-7.38 471,-13.38 471,-13.38 471,-44.62 471,-44.62 471,-50.62 465,-56.62 459,-56.62\"/>\n",
       "<text text-anchor=\"start\" x=\"377.5\" y=\"-39.33\" font-family=\"Helvetica,sans-Serif\" font-size=\"14.00\">gini = 0.28</text>\n",
       "<text text-anchor=\"start\" x=\"368.12\" y=\"-23.57\" font-family=\"Helvetica,sans-Serif\" font-size=\"14.00\">samples = 41</text>\n",
       "<text text-anchor=\"start\" x=\"355\" y=\"-7.83\" font-family=\"Helvetica,sans-Serif\" font-size=\"14.00\">value = [7.0, 34.0]</text>\n",
       "</g>\n",
       "<!-- 2&#45;&gt;4 -->\n",
       "<g id=\"edge6\" class=\"edge\">\n",
       "<title>2&#45;&gt;4</title>\n",
       "<path fill=\"none\" stroke=\"black\" d=\"M326.67,-97.18C339.77,-86.49 354.17,-74.74 367.21,-64.1\"/>\n",
       "<polygon fill=\"black\" stroke=\"black\" points=\"369.28,-66.93 374.82,-57.89 364.86,-61.5 369.28,-66.93\"/>\n",
       "</g>\n",
       "</g>\n",
       "</svg>\n"
      ],
      "text/plain": [
       "<graphviz.sources.Source at 0x262f8612350>"
      ]
     },
     "execution_count": 92,
     "metadata": {},
     "output_type": "execute_result"
    }
   ],
   "source": [
    "draw_tree(m, trn_xs, size=10)"
   ]
  },
  {
   "cell_type": "code",
   "execution_count": 95,
   "id": "35423793-2f23-4371-ba79-fbf6cfdb6ba7",
   "metadata": {},
   "outputs": [
    {
     "data": {
      "text/plain": [
       "0.30434782608695654"
      ]
     },
     "execution_count": 95,
     "metadata": {},
     "output_type": "execute_result"
    }
   ],
   "source": [
    "mean_absolute_error(val_y, m.predict(val_xs))"
   ]
  },
  {
   "cell_type": "code",
   "execution_count": 127,
   "id": "999ce68a-4194-4fa5-aec8-5bfa05bad80e",
   "metadata": {},
   "outputs": [
    {
     "data": {
      "image/svg+xml": [
       "<?xml version=\"1.0\" encoding=\"UTF-8\" standalone=\"no\"?>\n",
       "<!DOCTYPE svg PUBLIC \"-//W3C//DTD SVG 1.1//EN\"\n",
       " \"http://www.w3.org/Graphics/SVG/1.1/DTD/svg11.dtd\">\n",
       "<!-- Generated by graphviz version 11.0.0 (0)\n",
       " -->\n",
       "<!-- Title: Tree Pages: 1 -->\n",
       "<svg width=\"864pt\" height=\"521pt\"\n",
       " viewBox=\"0.00 0.00 864.00 520.76\" xmlns=\"http://www.w3.org/2000/svg\" xmlns:xlink=\"http://www.w3.org/1999/xlink\">\n",
       "<g id=\"graph0\" class=\"graph\" transform=\"scale(0.738409 0.738409) rotate(0) translate(4 701.25)\">\n",
       "<title>Tree</title>\n",
       "<polygon fill=\"white\" stroke=\"none\" points=\"-4,4 -4,-701.25 1166.08,-701.25 1166.08,4 -4,4\"/>\n",
       "<!-- 0 -->\n",
       "<g id=\"node1\" class=\"node\">\n",
       "<title>0</title>\n",
       "<path fill=\"#bbdef6\" stroke=\"black\" d=\"M634.45,-697.5C634.45,-697.5 549.45,-697.5 549.45,-697.5 543.45,-697.5 537.45,-691.5 537.45,-685.5 537.45,-685.5 537.45,-638.5 537.45,-638.5 537.45,-632.5 543.45,-626.5 549.45,-626.5 549.45,-626.5 634.45,-626.5 634.45,-626.5 640.45,-626.5 646.45,-632.5 646.45,-638.5 646.45,-638.5 646.45,-685.5 646.45,-685.5 646.45,-691.5 640.45,-697.5 634.45,-697.5\"/>\n",
       "<text text-anchor=\"start\" x=\"549.2\" y=\"-680.2\" font-family=\"Helvetica,sans-Serif\" font-size=\"14.00\">Panxiety ≤ 0.5</text>\n",
       "<text text-anchor=\"start\" x=\"560.45\" y=\"-664.45\" font-family=\"Helvetica,sans-Serif\" font-size=\"14.00\">gini = 0.48</text>\n",
       "<text text-anchor=\"start\" x=\"551.07\" y=\"-648.7\" font-family=\"Helvetica,sans-Serif\" font-size=\"14.00\">samples = 68</text>\n",
       "<text text-anchor=\"start\" x=\"545.45\" y=\"-632.95\" font-family=\"Helvetica,sans-Serif\" font-size=\"14.00\">value = [27, 41]</text>\n",
       "</g>\n",
       "<!-- 1 -->\n",
       "<g id=\"node2\" class=\"node\">\n",
       "<title>1</title>\n",
       "<path fill=\"#eeab7b\" stroke=\"black\" d=\"M510.45,-590.5C510.45,-590.5 431.45,-590.5 431.45,-590.5 425.45,-590.5 419.45,-584.5 419.45,-578.5 419.45,-578.5 419.45,-531.5 419.45,-531.5 419.45,-525.5 425.45,-519.5 431.45,-519.5 431.45,-519.5 510.45,-519.5 510.45,-519.5 516.45,-519.5 522.45,-525.5 522.45,-531.5 522.45,-531.5 522.45,-578.5 522.45,-578.5 522.45,-584.5 516.45,-590.5 510.45,-590.5\"/>\n",
       "<text text-anchor=\"start\" x=\"427.45\" y=\"-573.2\" font-family=\"Helvetica,sans-Serif\" font-size=\"14.00\">P_Fights ≤ 1.5</text>\n",
       "<text text-anchor=\"start\" x=\"439.45\" y=\"-557.45\" font-family=\"Helvetica,sans-Serif\" font-size=\"14.00\">gini = 0.38</text>\n",
       "<text text-anchor=\"start\" x=\"430.07\" y=\"-541.7\" font-family=\"Helvetica,sans-Serif\" font-size=\"14.00\">samples = 20</text>\n",
       "<text text-anchor=\"start\" x=\"428.2\" y=\"-525.95\" font-family=\"Helvetica,sans-Serif\" font-size=\"14.00\">value = [15, 5]</text>\n",
       "</g>\n",
       "<!-- 0&#45;&gt;1 -->\n",
       "<g id=\"edge1\" class=\"edge\">\n",
       "<title>0&#45;&gt;1</title>\n",
       "<path fill=\"none\" stroke=\"black\" d=\"M551.66,-626.04C541.35,-617.09 530.16,-607.38 519.49,-598.12\"/>\n",
       "<polygon fill=\"black\" stroke=\"black\" points=\"522.05,-595.71 512.21,-591.8 517.47,-601 522.05,-595.71\"/>\n",
       "<text text-anchor=\"middle\" x=\"512.83\" y=\"-610.32\" font-family=\"Helvetica,sans-Serif\" font-size=\"14.00\">True</text>\n",
       "</g>\n",
       "<!-- 6 -->\n",
       "<g id=\"node7\" class=\"node\">\n",
       "<title>6</title>\n",
       "<path fill=\"#7bbeee\" stroke=\"black\" d=\"M754.45,-590.5C754.45,-590.5 669.45,-590.5 669.45,-590.5 663.45,-590.5 657.45,-584.5 657.45,-578.5 657.45,-578.5 657.45,-531.5 657.45,-531.5 657.45,-525.5 663.45,-519.5 669.45,-519.5 669.45,-519.5 754.45,-519.5 754.45,-519.5 760.45,-519.5 766.45,-525.5 766.45,-531.5 766.45,-531.5 766.45,-578.5 766.45,-578.5 766.45,-584.5 760.45,-590.5 754.45,-590.5\"/>\n",
       "<text text-anchor=\"start\" x=\"672.57\" y=\"-573.2\" font-family=\"Helvetica,sans-Serif\" font-size=\"14.00\">PPTSD ≤ 0.5</text>\n",
       "<text text-anchor=\"start\" x=\"680.45\" y=\"-557.45\" font-family=\"Helvetica,sans-Serif\" font-size=\"14.00\">gini = 0.38</text>\n",
       "<text text-anchor=\"start\" x=\"671.07\" y=\"-541.7\" font-family=\"Helvetica,sans-Serif\" font-size=\"14.00\">samples = 48</text>\n",
       "<text text-anchor=\"start\" x=\"665.45\" y=\"-525.95\" font-family=\"Helvetica,sans-Serif\" font-size=\"14.00\">value = [12, 36]</text>\n",
       "</g>\n",
       "<!-- 0&#45;&gt;6 -->\n",
       "<g id=\"edge6\" class=\"edge\">\n",
       "<title>0&#45;&gt;6</title>\n",
       "<path fill=\"none\" stroke=\"black\" d=\"M631.91,-626.04C642.13,-617.09 653.23,-607.38 663.81,-598.12\"/>\n",
       "<polygon fill=\"black\" stroke=\"black\" points=\"665.8,-601.03 671.02,-591.81 661.19,-595.76 665.8,-601.03\"/>\n",
       "<text text-anchor=\"middle\" x=\"670.5\" y=\"-610.33\" font-family=\"Helvetica,sans-Serif\" font-size=\"14.00\">False</text>\n",
       "</g>\n",
       "<!-- 2 -->\n",
       "<g id=\"node3\" class=\"node\">\n",
       "<title>2</title>\n",
       "<path fill=\"#ffffff\" stroke=\"black\" d=\"M261.2,-483.5C261.2,-483.5 138.7,-483.5 138.7,-483.5 132.7,-483.5 126.7,-477.5 126.7,-471.5 126.7,-471.5 126.7,-424.5 126.7,-424.5 126.7,-418.5 132.7,-412.5 138.7,-412.5 138.7,-412.5 261.2,-412.5 261.2,-412.5 267.2,-412.5 273.2,-418.5 273.2,-424.5 273.2,-424.5 273.2,-471.5 273.2,-471.5 273.2,-477.5 267.2,-483.5 261.2,-483.5\"/>\n",
       "<text text-anchor=\"start\" x=\"134.7\" y=\"-466.2\" font-family=\"Helvetica,sans-Serif\" font-size=\"14.00\">LDEPRESSION ≤ 1.5</text>\n",
       "<text text-anchor=\"start\" x=\"172.2\" y=\"-450.45\" font-family=\"Helvetica,sans-Serif\" font-size=\"14.00\">gini = 0.5</text>\n",
       "<text text-anchor=\"start\" x=\"159.07\" y=\"-434.7\" font-family=\"Helvetica,sans-Serif\" font-size=\"14.00\">samples = 10</text>\n",
       "<text text-anchor=\"start\" x=\"160.95\" y=\"-418.95\" font-family=\"Helvetica,sans-Serif\" font-size=\"14.00\">value = [5, 5]</text>\n",
       "</g>\n",
       "<!-- 1&#45;&gt;2 -->\n",
       "<g id=\"edge2\" class=\"edge\">\n",
       "<title>1&#45;&gt;2</title>\n",
       "<path fill=\"none\" stroke=\"black\" d=\"M419.02,-533.88C380.89,-519.11 328.29,-498.73 284.19,-481.64\"/>\n",
       "<polygon fill=\"black\" stroke=\"black\" points=\"285.47,-478.38 274.88,-478.03 282.94,-484.91 285.47,-478.38\"/>\n",
       "</g>\n",
       "<!-- 5 -->\n",
       "<g id=\"node6\" class=\"node\">\n",
       "<title>5</title>\n",
       "<path fill=\"#e58139\" stroke=\"black\" d=\"M513.7,-475.62C513.7,-475.62 436.2,-475.62 436.2,-475.62 430.2,-475.62 424.2,-469.62 424.2,-463.62 424.2,-463.62 424.2,-432.38 424.2,-432.38 424.2,-426.38 430.2,-420.38 436.2,-420.38 436.2,-420.38 513.7,-420.38 513.7,-420.38 519.7,-420.38 525.7,-426.38 525.7,-432.38 525.7,-432.38 525.7,-463.62 525.7,-463.62 525.7,-469.62 519.7,-475.62 513.7,-475.62\"/>\n",
       "<text text-anchor=\"start\" x=\"447.2\" y=\"-458.32\" font-family=\"Helvetica,sans-Serif\" font-size=\"14.00\">gini = 0.0</text>\n",
       "<text text-anchor=\"start\" x=\"434.07\" y=\"-442.57\" font-family=\"Helvetica,sans-Serif\" font-size=\"14.00\">samples = 10</text>\n",
       "<text text-anchor=\"start\" x=\"432.2\" y=\"-426.82\" font-family=\"Helvetica,sans-Serif\" font-size=\"14.00\">value = [10, 0]</text>\n",
       "</g>\n",
       "<!-- 1&#45;&gt;5 -->\n",
       "<g id=\"edge5\" class=\"edge\">\n",
       "<title>1&#45;&gt;5</title>\n",
       "<path fill=\"none\" stroke=\"black\" d=\"M472.28,-519.04C472.67,-508.81 473.1,-497.57 473.49,-487.16\"/>\n",
       "<polygon fill=\"black\" stroke=\"black\" points=\"476.98,-487.48 473.87,-477.35 469.99,-487.21 476.98,-487.48\"/>\n",
       "</g>\n",
       "<!-- 3 -->\n",
       "<g id=\"node4\" class=\"node\">\n",
       "<title>3</title>\n",
       "<path fill=\"#eca06a\" stroke=\"black\" d=\"M125.95,-368.62C125.95,-368.62 55.95,-368.62 55.95,-368.62 49.95,-368.62 43.95,-362.62 43.95,-356.62 43.95,-356.62 43.95,-325.38 43.95,-325.38 43.95,-319.38 49.95,-313.38 55.95,-313.38 55.95,-313.38 125.95,-313.38 125.95,-313.38 131.95,-313.38 137.95,-319.38 137.95,-325.38 137.95,-325.38 137.95,-356.62 137.95,-356.62 137.95,-362.62 131.95,-368.62 125.95,-368.62\"/>\n",
       "<text text-anchor=\"start\" x=\"59.45\" y=\"-351.32\" font-family=\"Helvetica,sans-Serif\" font-size=\"14.00\">gini = 0.32</text>\n",
       "<text text-anchor=\"start\" x=\"53.82\" y=\"-335.57\" font-family=\"Helvetica,sans-Serif\" font-size=\"14.00\">samples = 5</text>\n",
       "<text text-anchor=\"start\" x=\"51.95\" y=\"-319.82\" font-family=\"Helvetica,sans-Serif\" font-size=\"14.00\">value = [4, 1]</text>\n",
       "</g>\n",
       "<!-- 2&#45;&gt;3 -->\n",
       "<g id=\"edge3\" class=\"edge\">\n",
       "<title>2&#45;&gt;3</title>\n",
       "<path fill=\"none\" stroke=\"black\" d=\"M163.65,-412.04C151.89,-400.71 138.85,-388.15 127.1,-376.83\"/>\n",
       "<polygon fill=\"black\" stroke=\"black\" points=\"129.53,-374.31 119.9,-369.89 124.67,-379.35 129.53,-374.31\"/>\n",
       "</g>\n",
       "<!-- 4 -->\n",
       "<g id=\"node5\" class=\"node\">\n",
       "<title>4</title>\n",
       "<path fill=\"#6ab6ec\" stroke=\"black\" d=\"M343.95,-368.62C343.95,-368.62 273.95,-368.62 273.95,-368.62 267.95,-368.62 261.95,-362.62 261.95,-356.62 261.95,-356.62 261.95,-325.38 261.95,-325.38 261.95,-319.38 267.95,-313.38 273.95,-313.38 273.95,-313.38 343.95,-313.38 343.95,-313.38 349.95,-313.38 355.95,-319.38 355.95,-325.38 355.95,-325.38 355.95,-356.62 355.95,-356.62 355.95,-362.62 349.95,-368.62 343.95,-368.62\"/>\n",
       "<text text-anchor=\"start\" x=\"277.45\" y=\"-351.32\" font-family=\"Helvetica,sans-Serif\" font-size=\"14.00\">gini = 0.32</text>\n",
       "<text text-anchor=\"start\" x=\"271.82\" y=\"-335.57\" font-family=\"Helvetica,sans-Serif\" font-size=\"14.00\">samples = 5</text>\n",
       "<text text-anchor=\"start\" x=\"269.95\" y=\"-319.82\" font-family=\"Helvetica,sans-Serif\" font-size=\"14.00\">value = [1, 4]</text>\n",
       "</g>\n",
       "<!-- 2&#45;&gt;4 -->\n",
       "<g id=\"edge4\" class=\"edge\">\n",
       "<title>2&#45;&gt;4</title>\n",
       "<path fill=\"none\" stroke=\"black\" d=\"M236.24,-412.04C248,-400.71 261.04,-388.15 272.79,-376.83\"/>\n",
       "<polygon fill=\"black\" stroke=\"black\" points=\"275.22,-379.35 280,-369.89 270.37,-374.31 275.22,-379.35\"/>\n",
       "</g>\n",
       "<!-- 7 -->\n",
       "<g id=\"node8\" class=\"node\">\n",
       "<title>7</title>\n",
       "<path fill=\"#efb388\" stroke=\"black\" d=\"M742.95,-475.62C742.95,-475.62 672.95,-475.62 672.95,-475.62 666.95,-475.62 660.95,-469.62 660.95,-463.62 660.95,-463.62 660.95,-432.38 660.95,-432.38 660.95,-426.38 666.95,-420.38 672.95,-420.38 672.95,-420.38 742.95,-420.38 742.95,-420.38 748.95,-420.38 754.95,-426.38 754.95,-432.38 754.95,-432.38 754.95,-463.62 754.95,-463.62 754.95,-469.62 748.95,-475.62 742.95,-475.62\"/>\n",
       "<text text-anchor=\"start\" x=\"676.45\" y=\"-458.32\" font-family=\"Helvetica,sans-Serif\" font-size=\"14.00\">gini = 0.41</text>\n",
       "<text text-anchor=\"start\" x=\"670.82\" y=\"-442.57\" font-family=\"Helvetica,sans-Serif\" font-size=\"14.00\">samples = 7</text>\n",
       "<text text-anchor=\"start\" x=\"668.95\" y=\"-426.82\" font-family=\"Helvetica,sans-Serif\" font-size=\"14.00\">value = [5, 2]</text>\n",
       "</g>\n",
       "<!-- 6&#45;&gt;7 -->\n",
       "<g id=\"edge7\" class=\"edge\">\n",
       "<title>6&#45;&gt;7</title>\n",
       "<path fill=\"none\" stroke=\"black\" d=\"M710.62,-519.04C710.23,-508.81 709.8,-497.57 709.4,-487.16\"/>\n",
       "<polygon fill=\"black\" stroke=\"black\" points=\"712.91,-487.21 709.03,-477.35 705.91,-487.48 712.91,-487.21\"/>\n",
       "</g>\n",
       "<!-- 8 -->\n",
       "<g id=\"node9\" class=\"node\">\n",
       "<title>8</title>\n",
       "<path fill=\"#62b1ea\" stroke=\"black\" d=\"M1004.95,-483.5C1004.95,-483.5 904.95,-483.5 904.95,-483.5 898.95,-483.5 892.95,-477.5 892.95,-471.5 892.95,-471.5 892.95,-424.5 892.95,-424.5 892.95,-418.5 898.95,-412.5 904.95,-412.5 904.95,-412.5 1004.95,-412.5 1004.95,-412.5 1010.95,-412.5 1016.95,-418.5 1016.95,-424.5 1016.95,-424.5 1016.95,-471.5 1016.95,-471.5 1016.95,-477.5 1010.95,-483.5 1004.95,-483.5\"/>\n",
       "<text text-anchor=\"start\" x=\"915.95\" y=\"-466.2\" font-family=\"Helvetica,sans-Serif\" font-size=\"14.00\">Alcohol ≤ 5.5</text>\n",
       "<text text-anchor=\"start\" x=\"923.45\" y=\"-450.45\" font-family=\"Helvetica,sans-Serif\" font-size=\"14.00\">gini = 0.28</text>\n",
       "<text text-anchor=\"start\" x=\"914.07\" y=\"-434.7\" font-family=\"Helvetica,sans-Serif\" font-size=\"14.00\">samples = 41</text>\n",
       "<text text-anchor=\"start\" x=\"900.95\" y=\"-418.95\" font-family=\"Helvetica,sans-Serif\" font-size=\"14.00\">value = [7.0, 34.0]</text>\n",
       "</g>\n",
       "<!-- 6&#45;&gt;8 -->\n",
       "<g id=\"edge8\" class=\"edge\">\n",
       "<title>6&#45;&gt;8</title>\n",
       "<path fill=\"none\" stroke=\"black\" d=\"M766.78,-530.31C800.95,-515.54 845.3,-496.38 882.36,-480.37\"/>\n",
       "<polygon fill=\"black\" stroke=\"black\" points=\"883.42,-483.72 891.21,-476.54 880.64,-477.29 883.42,-483.72\"/>\n",
       "</g>\n",
       "<!-- 9 -->\n",
       "<g id=\"node10\" class=\"node\">\n",
       "<title>9</title>\n",
       "<path fill=\"#52a9e8\" stroke=\"black\" d=\"M881.2,-376.5C881.2,-376.5 794.7,-376.5 794.7,-376.5 788.7,-376.5 782.7,-370.5 782.7,-364.5 782.7,-364.5 782.7,-317.5 782.7,-317.5 782.7,-311.5 788.7,-305.5 794.7,-305.5 794.7,-305.5 881.2,-305.5 881.2,-305.5 887.2,-305.5 893.2,-311.5 893.2,-317.5 893.2,-317.5 893.2,-364.5 893.2,-364.5 893.2,-370.5 887.2,-376.5 881.2,-376.5\"/>\n",
       "<text text-anchor=\"start\" x=\"790.7\" y=\"-359.2\" font-family=\"Helvetica,sans-Serif\" font-size=\"14.00\">P_Alcohol ≤ 2.5</text>\n",
       "<text text-anchor=\"start\" x=\"810.2\" y=\"-343.45\" font-family=\"Helvetica,sans-Serif\" font-size=\"14.00\">gini = 0.2</text>\n",
       "<text text-anchor=\"start\" x=\"797.07\" y=\"-327.7\" font-family=\"Helvetica,sans-Serif\" font-size=\"14.00\">samples = 36</text>\n",
       "<text text-anchor=\"start\" x=\"795.2\" y=\"-311.95\" font-family=\"Helvetica,sans-Serif\" font-size=\"14.00\">value = [4, 32]</text>\n",
       "</g>\n",
       "<!-- 8&#45;&gt;9 -->\n",
       "<g id=\"edge9\" class=\"edge\">\n",
       "<title>8&#45;&gt;9</title>\n",
       "<path fill=\"none\" stroke=\"black\" d=\"M915.99,-412.04C906.12,-403.18 895.42,-393.57 885.19,-384.39\"/>\n",
       "<polygon fill=\"black\" stroke=\"black\" points=\"887.64,-381.9 877.86,-377.82 882.97,-387.11 887.64,-381.9\"/>\n",
       "</g>\n",
       "<!-- 16 -->\n",
       "<g id=\"node17\" class=\"node\">\n",
       "<title>16</title>\n",
       "<path fill=\"#f6d5bd\" stroke=\"black\" d=\"M1105.95,-368.62C1105.95,-368.62 1035.95,-368.62 1035.95,-368.62 1029.95,-368.62 1023.95,-362.62 1023.95,-356.62 1023.95,-356.62 1023.95,-325.38 1023.95,-325.38 1023.95,-319.38 1029.95,-313.38 1035.95,-313.38 1035.95,-313.38 1105.95,-313.38 1105.95,-313.38 1111.95,-313.38 1117.95,-319.38 1117.95,-325.38 1117.95,-325.38 1117.95,-356.62 1117.95,-356.62 1117.95,-362.62 1111.95,-368.62 1105.95,-368.62\"/>\n",
       "<text text-anchor=\"start\" x=\"1039.45\" y=\"-351.32\" font-family=\"Helvetica,sans-Serif\" font-size=\"14.00\">gini = 0.48</text>\n",
       "<text text-anchor=\"start\" x=\"1033.82\" y=\"-335.57\" font-family=\"Helvetica,sans-Serif\" font-size=\"14.00\">samples = 5</text>\n",
       "<text text-anchor=\"start\" x=\"1031.95\" y=\"-319.82\" font-family=\"Helvetica,sans-Serif\" font-size=\"14.00\">value = [3, 2]</text>\n",
       "</g>\n",
       "<!-- 8&#45;&gt;16 -->\n",
       "<g id=\"edge16\" class=\"edge\">\n",
       "<title>8&#45;&gt;16</title>\n",
       "<path fill=\"none\" stroke=\"black\" d=\"M993.57,-412.04C1006.21,-400.6 1020.24,-387.9 1032.84,-376.5\"/>\n",
       "<polygon fill=\"black\" stroke=\"black\" points=\"1035.11,-379.16 1040.17,-369.86 1030.41,-373.97 1035.11,-379.16\"/>\n",
       "</g>\n",
       "<!-- 10 -->\n",
       "<g id=\"node11\" class=\"node\">\n",
       "<title>10</title>\n",
       "<path fill=\"#7bbeee\" stroke=\"black\" d=\"M760.7,-269.5C760.7,-269.5 683.2,-269.5 683.2,-269.5 677.2,-269.5 671.2,-263.5 671.2,-257.5 671.2,-257.5 671.2,-210.5 671.2,-210.5 671.2,-204.5 677.2,-198.5 683.2,-198.5 683.2,-198.5 760.7,-198.5 760.7,-198.5 766.7,-198.5 772.7,-204.5 772.7,-210.5 772.7,-210.5 772.7,-257.5 772.7,-257.5 772.7,-263.5 766.7,-269.5 760.7,-269.5\"/>\n",
       "<text text-anchor=\"start\" x=\"682.57\" y=\"-252.2\" font-family=\"Helvetica,sans-Serif\" font-size=\"14.00\">Income ≤ 0.5</text>\n",
       "<text text-anchor=\"start\" x=\"690.45\" y=\"-236.45\" font-family=\"Helvetica,sans-Serif\" font-size=\"14.00\">gini = 0.38</text>\n",
       "<text text-anchor=\"start\" x=\"681.07\" y=\"-220.7\" font-family=\"Helvetica,sans-Serif\" font-size=\"14.00\">samples = 16</text>\n",
       "<text text-anchor=\"start\" x=\"679.2\" y=\"-204.95\" font-family=\"Helvetica,sans-Serif\" font-size=\"14.00\">value = [4, 12]</text>\n",
       "</g>\n",
       "<!-- 9&#45;&gt;10 -->\n",
       "<g id=\"edge10\" class=\"edge\">\n",
       "<title>9&#45;&gt;10</title>\n",
       "<path fill=\"none\" stroke=\"black\" d=\"M799.32,-305.04C789.54,-296.18 778.92,-286.57 768.78,-277.39\"/>\n",
       "<polygon fill=\"black\" stroke=\"black\" points=\"771.29,-274.94 761.53,-270.83 766.59,-280.13 771.29,-274.94\"/>\n",
       "</g>\n",
       "<!-- 15 -->\n",
       "<g id=\"node16\" class=\"node\">\n",
       "<title>15</title>\n",
       "<path fill=\"#399de5\" stroke=\"black\" d=\"M993.7,-261.62C993.7,-261.62 916.2,-261.62 916.2,-261.62 910.2,-261.62 904.2,-255.62 904.2,-249.62 904.2,-249.62 904.2,-218.38 904.2,-218.38 904.2,-212.38 910.2,-206.38 916.2,-206.38 916.2,-206.38 993.7,-206.38 993.7,-206.38 999.7,-206.38 1005.7,-212.38 1005.7,-218.38 1005.7,-218.38 1005.7,-249.62 1005.7,-249.62 1005.7,-255.62 999.7,-261.62 993.7,-261.62\"/>\n",
       "<text text-anchor=\"start\" x=\"927.2\" y=\"-244.32\" font-family=\"Helvetica,sans-Serif\" font-size=\"14.00\">gini = 0.0</text>\n",
       "<text text-anchor=\"start\" x=\"914.07\" y=\"-228.57\" font-family=\"Helvetica,sans-Serif\" font-size=\"14.00\">samples = 20</text>\n",
       "<text text-anchor=\"start\" x=\"912.2\" y=\"-212.82\" font-family=\"Helvetica,sans-Serif\" font-size=\"14.00\">value = [0, 20]</text>\n",
       "</g>\n",
       "<!-- 9&#45;&gt;15 -->\n",
       "<g id=\"edge15\" class=\"edge\">\n",
       "<title>9&#45;&gt;15</title>\n",
       "<path fill=\"none\" stroke=\"black\" d=\"M876.91,-305.04C889.65,-293.6 903.8,-280.9 916.51,-269.5\"/>\n",
       "<polygon fill=\"black\" stroke=\"black\" points=\"918.81,-272.13 923.91,-262.85 914.13,-266.93 918.81,-272.13\"/>\n",
       "</g>\n",
       "<!-- 11 -->\n",
       "<g id=\"node12\" class=\"node\">\n",
       "<title>11</title>\n",
       "<path fill=\"#4da7e8\" stroke=\"black\" d=\"M648.45,-162.5C648.45,-162.5 569.45,-162.5 569.45,-162.5 563.45,-162.5 557.45,-156.5 557.45,-150.5 557.45,-150.5 557.45,-103.5 557.45,-103.5 557.45,-97.5 563.45,-91.5 569.45,-91.5 569.45,-91.5 648.45,-91.5 648.45,-91.5 654.45,-91.5 660.45,-97.5 660.45,-103.5 660.45,-103.5 660.45,-150.5 660.45,-150.5 660.45,-156.5 654.45,-162.5 648.45,-162.5\"/>\n",
       "<text text-anchor=\"start\" x=\"565.45\" y=\"-145.2\" font-family=\"Helvetica,sans-Serif\" font-size=\"14.00\">P_Fights ≤ 0.5</text>\n",
       "<text text-anchor=\"start\" x=\"577.45\" y=\"-129.45\" font-family=\"Helvetica,sans-Serif\" font-size=\"14.00\">gini = 0.17</text>\n",
       "<text text-anchor=\"start\" x=\"568.45\" y=\"-113.7\" font-family=\"Helvetica,sans-Serif\" font-size=\"14.00\">samples = 11</text>\n",
       "<text text-anchor=\"start\" x=\"566.2\" y=\"-97.95\" font-family=\"Helvetica,sans-Serif\" font-size=\"14.00\">value = [1, 10]</text>\n",
       "</g>\n",
       "<!-- 10&#45;&gt;11 -->\n",
       "<g id=\"edge11\" class=\"edge\">\n",
       "<title>10&#45;&gt;11</title>\n",
       "<path fill=\"none\" stroke=\"black\" d=\"M684.32,-198.04C674.79,-189.18 664.45,-179.57 654.57,-170.39\"/>\n",
       "<polygon fill=\"black\" stroke=\"black\" points=\"657.23,-168.08 647.52,-163.84 652.46,-173.21 657.23,-168.08\"/>\n",
       "</g>\n",
       "<!-- 14 -->\n",
       "<g id=\"node15\" class=\"node\">\n",
       "<title>14</title>\n",
       "<path fill=\"#f6d5bd\" stroke=\"black\" d=\"M870.95,-154.62C870.95,-154.62 800.95,-154.62 800.95,-154.62 794.95,-154.62 788.95,-148.62 788.95,-142.62 788.95,-142.62 788.95,-111.38 788.95,-111.38 788.95,-105.38 794.95,-99.38 800.95,-99.38 800.95,-99.38 870.95,-99.38 870.95,-99.38 876.95,-99.38 882.95,-105.38 882.95,-111.38 882.95,-111.38 882.95,-142.62 882.95,-142.62 882.95,-148.62 876.95,-154.62 870.95,-154.62\"/>\n",
       "<text text-anchor=\"start\" x=\"804.45\" y=\"-137.32\" font-family=\"Helvetica,sans-Serif\" font-size=\"14.00\">gini = 0.48</text>\n",
       "<text text-anchor=\"start\" x=\"798.82\" y=\"-121.58\" font-family=\"Helvetica,sans-Serif\" font-size=\"14.00\">samples = 5</text>\n",
       "<text text-anchor=\"start\" x=\"796.95\" y=\"-105.83\" font-family=\"Helvetica,sans-Serif\" font-size=\"14.00\">value = [3, 2]</text>\n",
       "</g>\n",
       "<!-- 10&#45;&gt;14 -->\n",
       "<g id=\"edge14\" class=\"edge\">\n",
       "<title>10&#45;&gt;14</title>\n",
       "<path fill=\"none\" stroke=\"black\" d=\"M759.91,-198.04C772.33,-186.6 786.11,-173.9 798.49,-162.5\"/>\n",
       "<polygon fill=\"black\" stroke=\"black\" points=\"800.71,-165.21 805.69,-155.87 795.97,-160.07 800.71,-165.21\"/>\n",
       "</g>\n",
       "<!-- 12 -->\n",
       "<g id=\"node13\" class=\"node\">\n",
       "<title>12</title>\n",
       "<path fill=\"#6ab6ec\" stroke=\"black\" d=\"M535.95,-55.62C535.95,-55.62 465.95,-55.62 465.95,-55.62 459.95,-55.62 453.95,-49.62 453.95,-43.62 453.95,-43.62 453.95,-12.38 453.95,-12.38 453.95,-6.38 459.95,-0.38 465.95,-0.38 465.95,-0.38 535.95,-0.38 535.95,-0.38 541.95,-0.38 547.95,-6.38 547.95,-12.38 547.95,-12.38 547.95,-43.62 547.95,-43.62 547.95,-49.62 541.95,-55.62 535.95,-55.62\"/>\n",
       "<text text-anchor=\"start\" x=\"469.45\" y=\"-38.33\" font-family=\"Helvetica,sans-Serif\" font-size=\"14.00\">gini = 0.32</text>\n",
       "<text text-anchor=\"start\" x=\"463.82\" y=\"-22.57\" font-family=\"Helvetica,sans-Serif\" font-size=\"14.00\">samples = 5</text>\n",
       "<text text-anchor=\"start\" x=\"461.95\" y=\"-6.83\" font-family=\"Helvetica,sans-Serif\" font-size=\"14.00\">value = [1, 4]</text>\n",
       "</g>\n",
       "<!-- 11&#45;&gt;12 -->\n",
       "<g id=\"edge12\" class=\"edge\">\n",
       "<title>11&#45;&gt;12</title>\n",
       "<path fill=\"none\" stroke=\"black\" d=\"M570.26,-91.25C560.24,-82.26 549.46,-72.57 539.45,-63.58\"/>\n",
       "<polygon fill=\"black\" stroke=\"black\" points=\"541.8,-60.99 532.02,-56.91 537.12,-66.19 541.8,-60.99\"/>\n",
       "</g>\n",
       "<!-- 13 -->\n",
       "<g id=\"node14\" class=\"node\">\n",
       "<title>13</title>\n",
       "<path fill=\"#399de5\" stroke=\"black\" d=\"M752.95,-55.62C752.95,-55.62 682.95,-55.62 682.95,-55.62 676.95,-55.62 670.95,-49.62 670.95,-43.62 670.95,-43.62 670.95,-12.38 670.95,-12.38 670.95,-6.38 676.95,-0.38 682.95,-0.38 682.95,-0.38 752.95,-0.38 752.95,-0.38 758.95,-0.38 764.95,-6.38 764.95,-12.38 764.95,-12.38 764.95,-43.62 764.95,-43.62 764.95,-49.62 758.95,-55.62 752.95,-55.62\"/>\n",
       "<text text-anchor=\"start\" x=\"690.2\" y=\"-38.33\" font-family=\"Helvetica,sans-Serif\" font-size=\"14.00\">gini = 0.0</text>\n",
       "<text text-anchor=\"start\" x=\"680.82\" y=\"-22.57\" font-family=\"Helvetica,sans-Serif\" font-size=\"14.00\">samples = 6</text>\n",
       "<text text-anchor=\"start\" x=\"678.95\" y=\"-6.83\" font-family=\"Helvetica,sans-Serif\" font-size=\"14.00\">value = [0, 6]</text>\n",
       "</g>\n",
       "<!-- 11&#45;&gt;13 -->\n",
       "<g id=\"edge13\" class=\"edge\">\n",
       "<title>11&#45;&gt;13</title>\n",
       "<path fill=\"none\" stroke=\"black\" d=\"M647.99,-91.25C658.2,-82.17 669.21,-72.38 679.39,-63.31\"/>\n",
       "<polygon fill=\"black\" stroke=\"black\" points=\"681.45,-66.16 686.59,-56.9 676.8,-60.94 681.45,-66.16\"/>\n",
       "</g>\n",
       "</g>\n",
       "</svg>\n"
      ],
      "text/plain": [
       "<graphviz.sources.Source at 0x262fd1b4f50>"
      ]
     },
     "execution_count": 127,
     "metadata": {},
     "output_type": "execute_result"
    }
   ],
   "source": [
    "m = DecisionTreeClassifier(min_samples_leaf=5)\n",
    "m.fit(trn_xs, trn_y)\n",
    "draw_tree(m, trn_xs, size=12)"
   ]
  },
  {
   "cell_type": "code",
   "execution_count": 128,
   "id": "0c8d4558-fca7-4ec3-ae64-498846f70905",
   "metadata": {},
   "outputs": [
    {
     "data": {
      "text/plain": [
       "0.30434782608695654"
      ]
     },
     "execution_count": 128,
     "metadata": {},
     "output_type": "execute_result"
    }
   ],
   "source": [
    "mean_absolute_error(val_y, m.predict(val_xs))"
   ]
  },
  {
   "cell_type": "code",
   "execution_count": 129,
   "id": "5fa6d21b-f77e-4ec7-b80b-ccd74825a6f0",
   "metadata": {},
   "outputs": [],
   "source": [
    "def get_tree(prop=0.75):\n",
    "    n = len(trn_y)\n",
    "    idxs = random.choice(n, int(n*prop))\n",
    "    return DecisionTreeClassifier(min_samples_leaf=5).fit(trn_xs.iloc[idxs], trn_y.iloc[idxs])"
   ]
  },
  {
   "cell_type": "code",
   "execution_count": 132,
   "id": "b28493f1-4289-40d4-84ce-238f6ef8ac7b",
   "metadata": {},
   "outputs": [],
   "source": [
    "trees = [get_tree() for t in range(100)]"
   ]
  },
  {
   "cell_type": "code",
   "execution_count": 133,
   "id": "5ac77970-9711-4eac-89da-0f60aafda9a9",
   "metadata": {},
   "outputs": [
    {
     "data": {
      "text/plain": [
       "0.4034782608695651"
      ]
     },
     "execution_count": 133,
     "metadata": {},
     "output_type": "execute_result"
    }
   ],
   "source": [
    "all_probs = [t.predict(val_xs) for t in trees]\n",
    "avg_probs = np.stack(all_probs).mean(0)\n",
    "\n",
    "mean_absolute_error(val_y, avg_probs)"
   ]
  },
  {
   "cell_type": "code",
   "execution_count": 136,
   "id": "20408820-cc08-4938-8c90-d3071e80e557",
   "metadata": {},
   "outputs": [
    {
     "data": {
      "text/plain": [
       "0.30434782608695654"
      ]
     },
     "execution_count": 136,
     "metadata": {},
     "output_type": "execute_result"
    }
   ],
   "source": [
    "from sklearn.ensemble import RandomForestClassifier\n",
    "\n",
    "rf = RandomForestClassifier(90, min_samples_leaf=5)\n",
    "rf.fit(trn_xs, trn_y);\n",
    "mean_absolute_error(val_y, rf.predict(val_xs))"
   ]
  },
  {
   "cell_type": "code",
   "execution_count": 137,
   "id": "96f550ff-4e11-4123-ac88-ef9adcb9873a",
   "metadata": {},
   "outputs": [
    {
     "data": {
      "image/png": "[encoded data removed]",
      "text/plain": [
       "<Figure size 640x480 with 1 Axes>"
      ]
     },
     "metadata": {},
     "output_type": "display_data"
    }
   ],
   "source": [
    "pd.DataFrame(dict(cols=trn_xs.columns, imp=m.feature_importances_)).plot('cols', 'imp', 'barh');"
   ]
  },
  {
   "cell_type": "markdown",
   "id": "81f52001-c441-45c3-b039-1880c022ac22",
   "metadata": {},
   "source": [
    "# Trying to see IPV vs Depression"
   ]
  },
  {
   "cell_type": "code",
   "execution_count": 151,
   "id": "d25b1224-0d03-4718-b245-25ee12d74eb8",
   "metadata": {},
   "outputs": [
    {
     "data": {
      "image/png": "[encoded data removed]",
      "text/plain": [
       "<Figure size 1100x500 with 2 Axes>"
      ]
     },
     "metadata": {},
     "output_type": "display_data"
    }
   ],
   "source": [
    "import seaborn as sns\n",
    "\n",
    "fig,axs = plt.subplots(1,2, figsize=(11,5))\n",
    "sns.barplot(data=df, y=dep, x=\"IPV\", ax=axs[0]).set(title=\"Depression rate\")\n",
    "sns.countplot(data=df, x=\"IPV\", ax=axs[1]).set(title=\"Histogram\");"
   ]
  },
  {
   "cell_type": "code",
   "execution_count": 155,
   "id": "125168ea-42f1-48da-ac49-f26fa0ef1a64",
   "metadata": {},
   "outputs": [
    {
     "data": {
      "image/png": "[encoded data removed]",
      "text/plain": [
       "<Figure size 1100x500 with 2 Axes>"
      ]
     },
     "metadata": {},
     "output_type": "display_data"
    }
   ],
   "source": [
    "fig,axs = plt.subplots(1,2, figsize=(11,5))\n",
    "sns.barplot(data=df, y=dep, x=\"PDEPRESSION\", ax=axs[0]).set(title=\"Depression rate\")\n",
    "sns.countplot(data=df, x=\"PDEPRESSION\", ax=axs[1]).set(title=\"Histogram\");"
   ]
  },
  {
   "cell_type": "code",
   "execution_count": 156,
   "id": "93db453f-8278-45e4-9a84-20faab9569f9",
   "metadata": {},
   "outputs": [
    {
     "data": {
      "image/png": "[encoded data removed]",
      "text/plain": [
       "<Figure size 1100x500 with 2 Axes>"
      ]
     },
     "metadata": {},
     "output_type": "display_data"
    }
   ],
   "source": [
    "fig,axs = plt.subplots(1,2, figsize=(11,5))\n",
    "sns.barplot(data=df, y=dep, x=\"Panxiety\", ax=axs[0]).set(title=\"Depression rate\")\n",
    "sns.countplot(data=df, x=\"Panxiety\", ax=axs[1]).set(title=\"Histogram\");"
   ]
  },
  {
   "cell_type": "code",
   "execution_count": null,
   "id": "0ed9f077-c894-47f1-b0e5-833ce7b6ecc0",
   "metadata": {},
   "outputs": [],
   "source": []
  }
 ],
 "metadata": {
  "kernelspec": {
   "display_name": "Python 3 (ipykernel)",
   "language": "python",
   "name": "python3"
  },
  "language_info": {
   "codemirror_mode": {
    "name": "ipython",
    "version": 3
   },
   "file_extension": ".py",
   "mimetype": "text/x-python",
   "name": "python",
   "nbconvert_exporter": "python",
   "pygments_lexer": "ipython3",
   "version": "3.11.9"
  }
 },
 "nbformat": 4,
 "nbformat_minor": 5
}
