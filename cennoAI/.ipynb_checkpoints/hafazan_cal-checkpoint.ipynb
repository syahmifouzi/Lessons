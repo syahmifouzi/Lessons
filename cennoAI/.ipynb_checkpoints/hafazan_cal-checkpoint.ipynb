{
 "cells": [
  {
   "cell_type": "code",
   "execution_count": 1,
   "id": "fa224060-ab2d-47cc-859e-38b90af58177",
   "metadata": {},
   "outputs": [],
   "source": [
    "from fastai.imports import *\n",
    "import matplotlib.dates as mdates"
   ]
  },
  {
   "cell_type": "code",
   "execution_count": 4,
   "id": "2a90ee83-fdd1-4e32-ae5b-2bfd0c8b32bb",
   "metadata": {},
   "outputs": [
    {
     "ename": "EmptyDataError",
     "evalue": "No columns to parse from file",
     "output_type": "error",
     "traceback": [
      "\u001b[1;31m---------------------------------------------------------------------------\u001b[0m",
      "\u001b[1;31mEmptyDataError\u001b[0m                            Traceback (most recent call last)",
      "Cell \u001b[1;32mIn[4], line 1\u001b[0m\n\u001b[1;32m----> 1\u001b[0m df \u001b[38;5;241m=\u001b[39m \u001b[43mpd\u001b[49m\u001b[38;5;241;43m.\u001b[39;49m\u001b[43mread_csv\u001b[49m\u001b[43m(\u001b[49m\u001b[38;5;124;43m'\u001b[39;49m\u001b[38;5;124;43m./hafazan_data/hafazan.csv\u001b[39;49m\u001b[38;5;124;43m'\u001b[39;49m\u001b[43m,\u001b[49m\u001b[43m \u001b[49m\u001b[43mindex_col\u001b[49m\u001b[38;5;241;43m=\u001b[39;49m\u001b[38;5;241;43m0\u001b[39;49m\u001b[43m)\u001b[49m\n",
      "File \u001b[1;32m~\\miniconda3\\envs\\cenno\\Lib\\site-packages\\pandas\\io\\parsers\\readers.py:1026\u001b[0m, in \u001b[0;36mread_csv\u001b[1;34m(filepath_or_buffer, sep, delimiter, header, names, index_col, usecols, dtype, engine, converters, true_values, false_values, skipinitialspace, skiprows, skipfooter, nrows, na_values, keep_default_na, na_filter, verbose, skip_blank_lines, parse_dates, infer_datetime_format, keep_date_col, date_parser, date_format, dayfirst, cache_dates, iterator, chunksize, compression, thousands, decimal, lineterminator, quotechar, quoting, doublequote, escapechar, comment, encoding, encoding_errors, dialect, on_bad_lines, delim_whitespace, low_memory, memory_map, float_precision, storage_options, dtype_backend)\u001b[0m\n\u001b[0;32m   1013\u001b[0m kwds_defaults \u001b[38;5;241m=\u001b[39m _refine_defaults_read(\n\u001b[0;32m   1014\u001b[0m     dialect,\n\u001b[0;32m   1015\u001b[0m     delimiter,\n\u001b[1;32m   (...)\u001b[0m\n\u001b[0;32m   1022\u001b[0m     dtype_backend\u001b[38;5;241m=\u001b[39mdtype_backend,\n\u001b[0;32m   1023\u001b[0m )\n\u001b[0;32m   1024\u001b[0m kwds\u001b[38;5;241m.\u001b[39mupdate(kwds_defaults)\n\u001b[1;32m-> 1026\u001b[0m \u001b[38;5;28;01mreturn\u001b[39;00m \u001b[43m_read\u001b[49m\u001b[43m(\u001b[49m\u001b[43mfilepath_or_buffer\u001b[49m\u001b[43m,\u001b[49m\u001b[43m \u001b[49m\u001b[43mkwds\u001b[49m\u001b[43m)\u001b[49m\n",
      "File \u001b[1;32m~\\miniconda3\\envs\\cenno\\Lib\\site-packages\\pandas\\io\\parsers\\readers.py:620\u001b[0m, in \u001b[0;36m_read\u001b[1;34m(filepath_or_buffer, kwds)\u001b[0m\n\u001b[0;32m    617\u001b[0m _validate_names(kwds\u001b[38;5;241m.\u001b[39mget(\u001b[38;5;124m\"\u001b[39m\u001b[38;5;124mnames\u001b[39m\u001b[38;5;124m\"\u001b[39m, \u001b[38;5;28;01mNone\u001b[39;00m))\n\u001b[0;32m    619\u001b[0m \u001b[38;5;66;03m# Create the parser.\u001b[39;00m\n\u001b[1;32m--> 620\u001b[0m parser \u001b[38;5;241m=\u001b[39m \u001b[43mTextFileReader\u001b[49m\u001b[43m(\u001b[49m\u001b[43mfilepath_or_buffer\u001b[49m\u001b[43m,\u001b[49m\u001b[43m \u001b[49m\u001b[38;5;241;43m*\u001b[39;49m\u001b[38;5;241;43m*\u001b[39;49m\u001b[43mkwds\u001b[49m\u001b[43m)\u001b[49m\n\u001b[0;32m    622\u001b[0m \u001b[38;5;28;01mif\u001b[39;00m chunksize \u001b[38;5;129;01mor\u001b[39;00m iterator:\n\u001b[0;32m    623\u001b[0m     \u001b[38;5;28;01mreturn\u001b[39;00m parser\n",
      "File \u001b[1;32m~\\miniconda3\\envs\\cenno\\Lib\\site-packages\\pandas\\io\\parsers\\readers.py:1620\u001b[0m, in \u001b[0;36mTextFileReader.__init__\u001b[1;34m(self, f, engine, **kwds)\u001b[0m\n\u001b[0;32m   1617\u001b[0m     \u001b[38;5;28mself\u001b[39m\u001b[38;5;241m.\u001b[39moptions[\u001b[38;5;124m\"\u001b[39m\u001b[38;5;124mhas_index_names\u001b[39m\u001b[38;5;124m\"\u001b[39m] \u001b[38;5;241m=\u001b[39m kwds[\u001b[38;5;124m\"\u001b[39m\u001b[38;5;124mhas_index_names\u001b[39m\u001b[38;5;124m\"\u001b[39m]\n\u001b[0;32m   1619\u001b[0m \u001b[38;5;28mself\u001b[39m\u001b[38;5;241m.\u001b[39mhandles: IOHandles \u001b[38;5;241m|\u001b[39m \u001b[38;5;28;01mNone\u001b[39;00m \u001b[38;5;241m=\u001b[39m \u001b[38;5;28;01mNone\u001b[39;00m\n\u001b[1;32m-> 1620\u001b[0m \u001b[38;5;28mself\u001b[39m\u001b[38;5;241m.\u001b[39m_engine \u001b[38;5;241m=\u001b[39m \u001b[38;5;28;43mself\u001b[39;49m\u001b[38;5;241;43m.\u001b[39;49m\u001b[43m_make_engine\u001b[49m\u001b[43m(\u001b[49m\u001b[43mf\u001b[49m\u001b[43m,\u001b[49m\u001b[43m \u001b[49m\u001b[38;5;28;43mself\u001b[39;49m\u001b[38;5;241;43m.\u001b[39;49m\u001b[43mengine\u001b[49m\u001b[43m)\u001b[49m\n",
      "File \u001b[1;32m~\\miniconda3\\envs\\cenno\\Lib\\site-packages\\pandas\\io\\parsers\\readers.py:1898\u001b[0m, in \u001b[0;36mTextFileReader._make_engine\u001b[1;34m(self, f, engine)\u001b[0m\n\u001b[0;32m   1895\u001b[0m     \u001b[38;5;28;01mraise\u001b[39;00m \u001b[38;5;167;01mValueError\u001b[39;00m(msg)\n\u001b[0;32m   1897\u001b[0m \u001b[38;5;28;01mtry\u001b[39;00m:\n\u001b[1;32m-> 1898\u001b[0m     \u001b[38;5;28;01mreturn\u001b[39;00m \u001b[43mmapping\u001b[49m\u001b[43m[\u001b[49m\u001b[43mengine\u001b[49m\u001b[43m]\u001b[49m\u001b[43m(\u001b[49m\u001b[43mf\u001b[49m\u001b[43m,\u001b[49m\u001b[43m \u001b[49m\u001b[38;5;241;43m*\u001b[39;49m\u001b[38;5;241;43m*\u001b[39;49m\u001b[38;5;28;43mself\u001b[39;49m\u001b[38;5;241;43m.\u001b[39;49m\u001b[43moptions\u001b[49m\u001b[43m)\u001b[49m\n\u001b[0;32m   1899\u001b[0m \u001b[38;5;28;01mexcept\u001b[39;00m \u001b[38;5;167;01mException\u001b[39;00m:\n\u001b[0;32m   1900\u001b[0m     \u001b[38;5;28;01mif\u001b[39;00m \u001b[38;5;28mself\u001b[39m\u001b[38;5;241m.\u001b[39mhandles \u001b[38;5;129;01mis\u001b[39;00m \u001b[38;5;129;01mnot\u001b[39;00m \u001b[38;5;28;01mNone\u001b[39;00m:\n",
      "File \u001b[1;32m~\\miniconda3\\envs\\cenno\\Lib\\site-packages\\pandas\\io\\parsers\\c_parser_wrapper.py:93\u001b[0m, in \u001b[0;36mCParserWrapper.__init__\u001b[1;34m(self, src, **kwds)\u001b[0m\n\u001b[0;32m     90\u001b[0m \u001b[38;5;28;01mif\u001b[39;00m kwds[\u001b[38;5;124m\"\u001b[39m\u001b[38;5;124mdtype_backend\u001b[39m\u001b[38;5;124m\"\u001b[39m] \u001b[38;5;241m==\u001b[39m \u001b[38;5;124m\"\u001b[39m\u001b[38;5;124mpyarrow\u001b[39m\u001b[38;5;124m\"\u001b[39m:\n\u001b[0;32m     91\u001b[0m     \u001b[38;5;66;03m# Fail here loudly instead of in cython after reading\u001b[39;00m\n\u001b[0;32m     92\u001b[0m     import_optional_dependency(\u001b[38;5;124m\"\u001b[39m\u001b[38;5;124mpyarrow\u001b[39m\u001b[38;5;124m\"\u001b[39m)\n\u001b[1;32m---> 93\u001b[0m \u001b[38;5;28mself\u001b[39m\u001b[38;5;241m.\u001b[39m_reader \u001b[38;5;241m=\u001b[39m \u001b[43mparsers\u001b[49m\u001b[38;5;241;43m.\u001b[39;49m\u001b[43mTextReader\u001b[49m\u001b[43m(\u001b[49m\u001b[43msrc\u001b[49m\u001b[43m,\u001b[49m\u001b[43m \u001b[49m\u001b[38;5;241;43m*\u001b[39;49m\u001b[38;5;241;43m*\u001b[39;49m\u001b[43mkwds\u001b[49m\u001b[43m)\u001b[49m\n\u001b[0;32m     95\u001b[0m \u001b[38;5;28mself\u001b[39m\u001b[38;5;241m.\u001b[39munnamed_cols \u001b[38;5;241m=\u001b[39m \u001b[38;5;28mself\u001b[39m\u001b[38;5;241m.\u001b[39m_reader\u001b[38;5;241m.\u001b[39munnamed_cols\n\u001b[0;32m     97\u001b[0m \u001b[38;5;66;03m# error: Cannot determine type of 'names'\u001b[39;00m\n",
      "File \u001b[1;32mparsers.pyx:581\u001b[0m, in \u001b[0;36mpandas._libs.parsers.TextReader.__cinit__\u001b[1;34m()\u001b[0m\n",
      "\u001b[1;31mEmptyDataError\u001b[0m: No columns to parse from file"
     ]
    }
   ],
   "source": [
    "df = pd.read_csv('./hafazan_data/hafazan.csv', index_col=0)"
   ]
  },
  {
   "cell_type": "code",
   "execution_count": 5,
   "id": "9729c0e9-0a12-41aa-be69-3a6a7d93a506",
   "metadata": {},
   "outputs": [
    {
     "data": {
      "text/html": [
       "<div>\n",
       "<style scoped>\n",
       "    .dataframe tbody tr th:only-of-type {\n",
       "        vertical-align: middle;\n",
       "    }\n",
       "\n",
       "    .dataframe tbody tr th {\n",
       "        vertical-align: top;\n",
       "    }\n",
       "\n",
       "    .dataframe thead th {\n",
       "        text-align: right;\n",
       "    }\n",
       "</style>\n",
       "<table border=\"1\" class=\"dataframe\">\n",
       "  <thead>\n",
       "    <tr style=\"text-align: right;\">\n",
       "      <th></th>\n",
       "      <th>Date</th>\n",
       "      <th>Time</th>\n",
       "      <th>AA-Battery</th>\n",
       "      <th>Lipo-Battery</th>\n",
       "    </tr>\n",
       "  </thead>\n",
       "  <tbody>\n",
       "    <tr>\n",
       "      <th>0</th>\n",
       "      <td>3/7/2024</td>\n",
       "      <td>8:53 PM</td>\n",
       "      <td>3.197</td>\n",
       "      <td>NaN</td>\n",
       "    </tr>\n",
       "    <tr>\n",
       "      <th>1</th>\n",
       "      <td>6/7/2024</td>\n",
       "      <td>11:48 AM</td>\n",
       "      <td>NaN</td>\n",
       "      <td>12.61</td>\n",
       "    </tr>\n",
       "    <tr>\n",
       "      <th>2</th>\n",
       "      <td>9/7/2024</td>\n",
       "      <td>3:14 PM</td>\n",
       "      <td>3.117</td>\n",
       "      <td>12.59</td>\n",
       "    </tr>\n",
       "    <tr>\n",
       "      <th>3</th>\n",
       "      <td>15/7/2024</td>\n",
       "      <td>4:53 PM</td>\n",
       "      <td>3.072</td>\n",
       "      <td>12.54</td>\n",
       "    </tr>\n",
       "    <tr>\n",
       "      <th>4</th>\n",
       "      <td>22/7/2024</td>\n",
       "      <td>3:05 PM</td>\n",
       "      <td>3.037</td>\n",
       "      <td>12.49</td>\n",
       "    </tr>\n",
       "    <tr>\n",
       "      <th>5</th>\n",
       "      <td>1/8/2024</td>\n",
       "      <td>11:32 AM</td>\n",
       "      <td>3.008</td>\n",
       "      <td>12.43</td>\n",
       "    </tr>\n",
       "    <tr>\n",
       "      <th>6</th>\n",
       "      <td>9/8/2024</td>\n",
       "      <td>1:15 AM</td>\n",
       "      <td>2.989</td>\n",
       "      <td>12.38</td>\n",
       "    </tr>\n",
       "  </tbody>\n",
       "</table>\n",
       "</div>"
      ],
      "text/plain": [
       "        Date      Time  AA-Battery  Lipo-Battery\n",
       "0   3/7/2024   8:53 PM       3.197           NaN\n",
       "1   6/7/2024  11:48 AM         NaN         12.61\n",
       "2   9/7/2024   3:14 PM       3.117         12.59\n",
       "3  15/7/2024   4:53 PM       3.072         12.54\n",
       "4  22/7/2024   3:05 PM       3.037         12.49\n",
       "5   1/8/2024  11:32 AM       3.008         12.43\n",
       "6   9/8/2024   1:15 AM       2.989         12.38"
      ]
     },
     "execution_count": 5,
     "metadata": {},
     "output_type": "execute_result"
    }
   ],
   "source": [
    "df"
   ]
  },
  {
   "cell_type": "markdown",
   "id": "b402e5b5-ba88-4025-acbe-06dcfed79fa1",
   "metadata": {},
   "source": [
    "```py\n",
    "date = '3/7/2024'\n",
    "time = '8:53 PM'\n",
    "datetime = pd.to_datetime(date + ' ' + time, format='%d/%m/%Y %I:%M %p')\n",
    "df = pd.DataFrame(\n",
    "    {'Date':[date],\n",
    "     'Time':[time],\n",
    "     'datetime': [datetime],\n",
    "     'AA-Battery': [3.197],\n",
    "     'Lipo-Battery':[None]\n",
    "    })\n",
    "df\n",
    "```"
   ]
  },
  {
   "cell_type": "markdown",
   "id": "96fd3cdb-34ef-453d-b190-b833591615ac",
   "metadata": {},
   "source": [
    "```py\n",
    "new_row = {'Date':'6/7/2024',\n",
    "     'Time':'11:48 AM',\n",
    "     'AA-Battery': None,\n",
    "     'Lipo-Battery':12.61\n",
    "    }\n",
    "\n",
    "df = df._append(new_row, ignore_index=True)\n",
    "df\n",
    "```"
   ]
  },
  {
   "cell_type": "markdown",
   "id": "cfeb97e9-300f-4346-a969-10f917eb1ed7",
   "metadata": {},
   "source": [
    "```py\n",
    "df = df.drop(2)\n",
    "df\n",
    "```"
   ]
  },
  {
   "cell_type": "raw",
   "id": "0d66e783-174e-451f-bae0-6cd30475e8c9",
   "metadata": {},
   "source": [
    "df.to_csv('./hafazan_data/hafazan.csv')"
   ]
  },
  {
   "cell_type": "markdown",
   "id": "cb94f525-82dc-426c-a964-1cb2d22cc766",
   "metadata": {},
   "source": [
    "Tips For Memorising the Quran\n",
    "1. Repeat 500 times every each Hifz (half a juz)\n",
    "2. Repeat it for 1000 times is better\n",
    "3. Repeat it for a minimum of 250 times\n",
    "4. Ulama said to repeat something 70 times to burnt it in your memory\n",
    "5. In an hour, we can repeat a page 30 times\n",
    "6. I think my personal record is, about max of 1 hour for 1 juz\n",
    "7. 1 just is roughly 20 pages\n",
    "8. so point #5 makes sense, that is for 1 hour to repeat 1 page for 30 times, equivalent to 1 hour for 30 pages\n",
    "9. so half a juz is 10 pages\n",
    "10. In 1 hour, we can repeat half a page 60 times\n",
    "11. In 1.5 hour, we can repeat the half a page for 90 times (pass the 70 threshold)\n",
    "12. After reaching a hifz, for 1 hour, we can repeat a hifz for 3 times (ie. 10 pages * 3 = 30 pages, refer #5)\n",
    "13. That means for 2 hours, we get 6 times repeat"
   ]
  },
  {
   "cell_type": "markdown",
   "id": "f0ebd376-eacc-43ce-bcf5-35f87892fdc8",
   "metadata": {},
   "source": [
    "My formula is:\n",
    "\n",
    "1. Each day spend 2 hour to repeat half a page or 1 page if feel comfortable\n",
    "2. After 20 days, 20 / 2 == 10 pages, ie. got half a juz,\n",
    "3. spend the next 42 days, to repeat a hifz for 2 hours per day equivalent to 6 times per day\n",
    "4. Make sure to tick a record every repeat to not loss track\n",
    "5. Then repeat step #1 to #4 until u get the whole AlQuran"
   ]
  },
  {
   "cell_type": "code",
   "execution_count": 10,
   "id": "903725e0-5ab8-4977-90da-81ec91a5712c",
   "metadata": {},
   "outputs": [],
   "source": [
    "number_of_pages = 604\n",
    "number_of_juz = 30\n",
    "total_surah = 114"
   ]
  },
  {
   "cell_type": "code",
   "execution_count": 13,
   "id": "4ed5241e-a3ce-4c10-9efb-fe57b15259e3",
   "metadata": {},
   "outputs": [
    {
     "name": "stdout",
     "output_type": "stream",
     "text": [
      "total month: 40.266666666666666\n",
      "total year: 3.3555555555555556\n"
     ]
    }
   ],
   "source": [
    "half_page_per_day = number_of_pages * 2\n",
    "day2month = half_page_per_day / 30\n",
    "print(f'total month: {day2month}')\n",
    "print(f'total year: {day2month / 12}')"
   ]
  },
  {
   "cell_type": "code",
   "execution_count": 67,
   "id": "7303ad9a-29a1-42a7-b67d-376859c67f7a",
   "metadata": {},
   "outputs": [
    {
     "name": "stdout",
     "output_type": "stream",
     "text": [
      "day_needed_to_reach_a_hifz: 10\n",
      "sub_day_needed_to_memorise_a_hifz: 84\n",
      "total_day_needed_to_memorise_a_hifz: 94\n",
      "month_needed_to_memorise_a_hifz: 4\n",
      "year_needed_to_memorise_all: 15.555555555555555\n"
     ]
    }
   ],
   "source": [
    "repeat_counter = 500\n",
    "hour_spend_per_day = 2\n",
    "hifz_repeatable_times_per_hour = 3 # 6 times per 2 hours\n",
    "number_pages_per_hifz = 10\n",
    "initial_hour_per_page = 2 # 2 if cover 1 page per day, or 4 if cover 1/2 page per day to reach hifz\n",
    "days_misses_to_reach_hifz = 0\n",
    "days_misses_to_memorise_hifz = 0\n",
    "day_needed_to_reach_a_hifz = ((number_pages_per_hifz * initial_hour_per_page) / hour_spend_per_day) + days_misses_to_reach_hifz\n",
    "hifz_repeatable_times_per_day = hifz_repeatable_times_per_hour * hour_spend_per_day\n",
    "sub_day_needed_to_memorise_a_hifz = (repeat_counter / hifz_repeatable_times_per_day) + days_misses_to_memorise_hifz\n",
    "total_day_needed_to_memorise_a_hifz = sub_day_needed_to_memorise_a_hifz + day_needed_to_reach_a_hifz\n",
    "month_needed_to_memorise_a_hifz = total_day_needed_to_memorise_a_hifz / 30\n",
    "year_needed_to_memorise_a_hifz = month_needed_to_memorise_a_hifz / 12\n",
    "year_needed_to_memorise_all = year_needed_to_memorise_a_hifz * 30 * 2 # 60 hifz in Quran\n",
    "print(f'day_needed_to_reach_a_hifz: {math.ceil(day_needed_to_reach_a_hifz)}')\n",
    "print(f'sub_day_needed_to_memorise_a_hifz: {math.ceil(sub_day_needed_to_memorise_a_hifz)}')\n",
    "print(f'total_day_needed_to_memorise_a_hifz: {math.ceil(total_day_needed_to_memorise_a_hifz)}')\n",
    "print(f'month_needed_to_memorise_a_hifz: {math.ceil(month_needed_to_memorise_a_hifz)}')\n",
    "print(f'year_needed_to_memorise_all: {year_needed_to_memorise_all}')"
   ]
  },
  {
   "cell_type": "code",
   "execution_count": 23,
   "id": "baa83e34-6a9f-4294-a882-ce19b2f16945",
   "metadata": {},
   "outputs": [
    {
     "data": {
      "text/plain": [
       "84"
      ]
     },
     "execution_count": 23,
     "metadata": {},
     "output_type": "execute_result"
    }
   ],
   "source": [
    "math.ceil(500/6)"
   ]
  },
  {
   "cell_type": "code",
   "execution_count": 17,
   "id": "327b7b5d-cead-4f5f-ac69-1a10905fc8f1",
   "metadata": {},
   "outputs": [
    {
     "data": {
      "text/plain": [
       "504"
      ]
     },
     "execution_count": 17,
     "metadata": {},
     "output_type": "execute_result"
    }
   ],
   "source": [
    "84*6"
   ]
  },
  {
   "cell_type": "code",
   "execution_count": 24,
   "id": "f6d1dd03-cb8c-4afa-bf58-52cb15ebaf54",
   "metadata": {},
   "outputs": [
    {
     "data": {
      "text/plain": [
       "2.8"
      ]
     },
     "execution_count": 24,
     "metadata": {},
     "output_type": "execute_result"
    }
   ],
   "source": [
    "84/30"
   ]
  },
  {
   "cell_type": "code",
   "execution_count": 19,
   "id": "13490d79-716c-4f5b-9472-fe4c0d70399a",
   "metadata": {},
   "outputs": [
    {
     "data": {
      "text/plain": [
       "1.4000000000000001"
      ]
     },
     "execution_count": 19,
     "metadata": {},
     "output_type": "execute_result"
    }
   ],
   "source": [
    "16.8/12"
   ]
  },
  {
   "cell_type": "code",
   "execution_count": 20,
   "id": "3f0c1019-4538-42e8-8def-9a60e6414503",
   "metadata": {},
   "outputs": [
    {
     "data": {
      "text/plain": [
       "84.0"
      ]
     },
     "execution_count": 20,
     "metadata": {},
     "output_type": "execute_result"
    }
   ],
   "source": [
    "1.4*30*2"
   ]
  },
  {
   "cell_type": "code",
   "execution_count": null,
   "id": "974b4dbe-703d-4292-994e-ff16602472e8",
   "metadata": {},
   "outputs": [],
   "source": []
  }
 ],
 "metadata": {
  "kernelspec": {
   "display_name": "Python 3 (ipykernel)",
   "language": "python",
   "name": "python3"
  },
  "language_info": {
   "codemirror_mode": {
    "name": "ipython",
    "version": 3
   },
   "file_extension": ".py",
   "mimetype": "text/x-python",
   "name": "python",
   "nbconvert_exporter": "python",
   "pygments_lexer": "ipython3",
   "version": "3.11.9"
  }
 },
 "nbformat": 4,
 "nbformat_minor": 5
}
